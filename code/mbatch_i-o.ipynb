{
 "cells": [
  {
   "cell_type": "code",
   "execution_count": null,
   "id": "5e5233cd-5530-4f34-be94-1125472fa57f",
   "metadata": {},
   "outputs": [],
   "source": [
    "# code/mbatch_i-o.ipynb"
   ]
  },
  {
   "cell_type": "markdown",
   "id": "84c13d57-48a5-4085-a6e0-01c1d8269d45",
   "metadata": {},
   "source": [
    "#### Split and merge by sys for mbatch"
   ]
  },
  {
   "cell_type": "code",
   "execution_count": null,
   "id": "32386141-df93-437a-90cc-8cd3216c1c4f",
   "metadata": {},
   "outputs": [],
   "source": [
    "%whos"
   ]
  },
  {
   "cell_type": "code",
   "execution_count": 11,
   "id": "05ff4b51-8b9c-4a51-bd05-e2594b67e5b6",
   "metadata": {},
   "outputs": [],
   "source": [
    "import pandas as pd\n",
    "import glob"
   ]
  },
  {
   "cell_type": "code",
   "execution_count": null,
   "id": "6e304c71-b4ff-45d6-9c02-99caba859271",
   "metadata": {},
   "outputs": [],
   "source": [
    "# Call mbatch on the split versions one-cncr files in ../strctrd/one_cncr/\n",
    "    # Modify R script for paths\n",
    "    # Modify Call sig, Add to new markdown\n",
    "\"\"\"\n",
    "     * Paths are tied to Docker loc *\n",
    "\"\"\""
   ]
  },
  {
   "cell_type": "code",
   "execution_count": 18,
   "id": "68eb9d8d-2b06-4a1c-af60-f17bb9c1f87b",
   "metadata": {},
   "outputs": [
    {
     "data": {
      "text/plain": [
       "'/Users/karlberb/Documents/work/2024/bnch_mrk/mdl-sys-bnchmrk/code'"
      ]
     },
     "execution_count": 18,
     "metadata": {},
     "output_type": "execute_result"
    }
   ],
   "source": [
    "pwd"
   ]
  },
  {
   "cell_type": "code",
   "execution_count": null,
   "id": "4d1f5a85-879e-4231-9df7-73d2c3354bc6",
   "metadata": {},
   "outputs": [],
   "source": [
    "ls ../strctrd/one_cncr/"
   ]
  },
  {
   "cell_type": "markdown",
   "id": "4e6ae757-a7e9-4841-a902-73ae91275894",
   "metadata": {},
   "source": [
    "#### One-cancer version"
   ]
  },
  {
   "cell_type": "markdown",
   "id": "c4a487d6-98ef-4ee1-af07-c87900fbb25a",
   "metadata": {},
   "source": [
    "##### One cncr, split file"
   ]
  },
  {
   "cell_type": "code",
   "execution_count": 32,
   "id": "fc31d3fa-ce65-49ee-9617-30d3a404ca0f",
   "metadata": {},
   "outputs": [],
   "source": [
    "one_cncr_files = glob.glob('../strctrd/one_cncr/*')"
   ]
  },
  {
   "cell_type": "code",
   "execution_count": 33,
   "id": "958ddeac-64a9-4a47-86a9-62a2d340e843",
   "metadata": {},
   "outputs": [
    {
     "data": {
      "text/plain": [
       "['../strctrd/one_cncr/glioblastoma_transcriptomics_cell-line+CPTAC.tsv',\n",
       " '../strctrd/one_cncr/breast-ductal_transcriptomics_cell-line+CPTAC.tsv',\n",
       " '../strctrd/one_cncr/pancreatic-adeno_transcriptomics_cell-line+CPTAC.tsv',\n",
       " '../strctrd/one_cncr/breast-lobular_transcriptomics_cell-line+CPTAC.tsv',\n",
       " '../strctrd/one_cncr/lung-adeno_transcriptomics_cell-line+CPTAC.tsv',\n",
       " '../strctrd/one_cncr/head-neck_transcriptomics_cell-line+CPTAC.tsv',\n",
       " '../strctrd/one_cncr/colon-adeno_transcriptomics_cell-line+CPTAC.tsv',\n",
       " '../strctrd/one_cncr/renal-clear-cell_transcriptomics_cell-line+CPTAC.tsv',\n",
       " '../strctrd/one_cncr/breast-nos_transcriptomics_cell-line+CPTAC.tsv']"
      ]
     },
     "execution_count": 33,
     "metadata": {},
     "output_type": "execute_result"
    }
   ],
   "source": [
    "one_cncr_files "
   ]
  },
  {
   "cell_type": "code",
   "execution_count": 31,
   "id": "f53a2191-7e31-427a-a815-6130279779ed",
   "metadata": {},
   "outputs": [
    {
     "name": "stdout",
     "output_type": "stream",
     "text": [
      "../strctrd/one_cncr/glioblastoma_transcriptomics_cell-line+CPTAC.tsv\n",
      "  0.0\n",
      "../strctrd/one_cncr/breast-ductal_transcriptomics_cell-line+CPTAC.tsv\n",
      "  0.0\n",
      "../strctrd/one_cncr/pancreatic-adeno_transcriptomics_cell-line+CPTAC.tsv\n",
      "  0.0\n",
      "../strctrd/one_cncr/breast-lobular_transcriptomics_cell-line+CPTAC.tsv\n",
      "  0.0\n",
      "../strctrd/one_cncr/lung-adeno_transcriptomics_cell-line+CPTAC.tsv\n",
      "  0.0\n",
      "../strctrd/one_cncr/head-neck_transcriptomics_cell-line+CPTAC.tsv\n",
      "  0.0\n",
      "../strctrd/one_cncr/colon-adeno_transcriptomics_cell-line+CPTAC.tsv\n",
      "  0.0\n",
      "../strctrd/one_cncr/renal-clear-cell_transcriptomics_cell-line+CPTAC.tsv\n",
      "  0.0\n",
      "../strctrd/one_cncr/breast-nos_transcriptomics_cell-line+CPTAC.tsv\n",
      "  0.0\n"
     ]
    }
   ],
   "source": [
    "value_counts = []\n",
    "for file in one_cncr_files:\n",
    "    print(file)\n",
    "    ab = pd.read_csv(\n",
    "        file,\n",
    "        sep = '\\t', index_col = 0)\n",
    "    print('min val ', ab.iloc[:, 2:].min().min())\n",
    "    value_counts.append([ab.System.value_counts(),\n",
    "                         ab.Cancer_type.value_counts()])\n",
    "    cancer = file.split('_')[1].split('/')[1]\n",
    "    modality = file.split('_')[2]\n",
    "\n",
    "    src_ref = 'src'\n",
    "    sys = 'cell_line'\n",
    "    cl = ab[ab.System == sys].copy()\n",
    "    cl.drop(columns = ['System'], inplace = True)\n",
    "    cl.drop(columns = ['Cancer_type'], inplace = True)\n",
    "    cl = cl.T\n",
    "    cl.to_csv(\n",
    "        'mbatch/bk_mbatch/data/oc_splt_in/'+sys+'_'+cancer+'_'+modality+'_'+src_ref+'.tsv',\n",
    "        sep = '\\t')\n",
    "    # ^glob this dir, to mbatch_one_cncr.R\n",
    "\n",
    "    src_ref = 'ref'\n",
    "    sys = 'cptac'\n",
    "    cp = ab[ab.System == 'CPTAC'].copy()    # Label datum to file name\n",
    "    cp.drop(columns = ['System'], inplace = True)\n",
    "    cp.drop(columns = ['Cancer_type'], inplace = True)\n",
    "    cp = cp.T\n",
    "    cp.to_csv(\n",
    "        'mbatch/bk_mbatch/data/oc_splt_in/'+sys+'_'+cancer+'_'+modality+'_'+src_ref+'.tsv',\n",
    "        sep = '\\t')\n",
    "    # break"
   ]
  },
  {
   "cell_type": "code",
   "execution_count": null,
   "id": "415509fd-91b9-49aa-810a-dbcfdb2688a3",
   "metadata": {},
   "outputs": [],
   "source": [
    "# Target output dir for one cncr split files:\n",
    "bk_mbatch/data/oc_splt_in\n",
    "# (Docker command line R script output loc)"
   ]
  },
  {
   "cell_type": "raw",
   "id": "bd617263-de52-4160-8e29-d11d4c4700fd",
   "metadata": {},
   "source": [
    "pwd\n",
    "mdl-sys-bnchmrk/code"
   ]
  },
  {
   "cell_type": "code",
   "execution_count": 18,
   "id": "a1e467a8-58f3-4e72-bfee-165af1796f21",
   "metadata": {
    "collapsed": true,
    "jupyter": {
     "outputs_hidden": true
    },
    "scrolled": true
   },
   "outputs": [
    {
     "data": {
      "text/html": [
       "<div>\n",
       "<style scoped>\n",
       "    .dataframe tbody tr th:only-of-type {\n",
       "        vertical-align: middle;\n",
       "    }\n",
       "\n",
       "    .dataframe tbody tr th {\n",
       "        vertical-align: top;\n",
       "    }\n",
       "\n",
       "    .dataframe thead th {\n",
       "        text-align: right;\n",
       "    }\n",
       "</style>\n",
       "<table border=\"1\" class=\"dataframe\">\n",
       "  <thead>\n",
       "    <tr style=\"text-align: right;\">\n",
       "      <th></th>\n",
       "      <th>smpl_id_96</th>\n",
       "      <th>smpl_id_110</th>\n",
       "      <th>smpl_id_146</th>\n",
       "      <th>smpl_id_195</th>\n",
       "      <th>smpl_id_222</th>\n",
       "      <th>smpl_id_275</th>\n",
       "      <th>smpl_id_276</th>\n",
       "      <th>smpl_id_329</th>\n",
       "      <th>smpl_id_373</th>\n",
       "      <th>smpl_id_533</th>\n",
       "      <th>...</th>\n",
       "      <th>smpl_id_854</th>\n",
       "      <th>smpl_id_899</th>\n",
       "      <th>smpl_id_924</th>\n",
       "      <th>smpl_id_927</th>\n",
       "      <th>smpl_id_1202</th>\n",
       "      <th>smpl_id_1203</th>\n",
       "      <th>smpl_id_1204</th>\n",
       "      <th>smpl_id_1230</th>\n",
       "      <th>smpl_id_1409</th>\n",
       "      <th>smpl_id_1852</th>\n",
       "    </tr>\n",
       "  </thead>\n",
       "  <tbody>\n",
       "    <tr>\n",
       "      <th>entrz_tran_1</th>\n",
       "      <td>5.560409</td>\n",
       "      <td>0.659925</td>\n",
       "      <td>4.517276</td>\n",
       "      <td>2.017922</td>\n",
       "      <td>4.348374</td>\n",
       "      <td>5.209453</td>\n",
       "      <td>5.147714</td>\n",
       "      <td>3.994580</td>\n",
       "      <td>2.411426</td>\n",
       "      <td>2.823749</td>\n",
       "      <td>...</td>\n",
       "      <td>1.695994</td>\n",
       "      <td>4.581351</td>\n",
       "      <td>0.250962</td>\n",
       "      <td>4.053111</td>\n",
       "      <td>1.627607</td>\n",
       "      <td>4.313971</td>\n",
       "      <td>2.713696</td>\n",
       "      <td>1.500802</td>\n",
       "      <td>3.148934</td>\n",
       "      <td>3.653060</td>\n",
       "    </tr>\n",
       "    <tr>\n",
       "      <th>entrz_tran_2</th>\n",
       "      <td>0.201634</td>\n",
       "      <td>0.201634</td>\n",
       "      <td>0.111031</td>\n",
       "      <td>0.084064</td>\n",
       "      <td>0.056584</td>\n",
       "      <td>0.124328</td>\n",
       "      <td>0.028569</td>\n",
       "      <td>0.056584</td>\n",
       "      <td>0.014355</td>\n",
       "      <td>0.084064</td>\n",
       "      <td>...</td>\n",
       "      <td>0.879706</td>\n",
       "      <td>0.176323</td>\n",
       "      <td>0.056584</td>\n",
       "      <td>10.176796</td>\n",
       "      <td>0.000000</td>\n",
       "      <td>0.189034</td>\n",
       "      <td>0.286881</td>\n",
       "      <td>0.163499</td>\n",
       "      <td>1.220330</td>\n",
       "      <td>3.200065</td>\n",
       "    </tr>\n",
       "    <tr>\n",
       "      <th>entrz_tran_9</th>\n",
       "      <td>5.801935</td>\n",
       "      <td>2.961623</td>\n",
       "      <td>3.549669</td>\n",
       "      <td>0.201634</td>\n",
       "      <td>3.226509</td>\n",
       "      <td>1.704872</td>\n",
       "      <td>5.629357</td>\n",
       "      <td>1.220330</td>\n",
       "      <td>2.201634</td>\n",
       "      <td>2.516015</td>\n",
       "      <td>...</td>\n",
       "      <td>2.419539</td>\n",
       "      <td>1.275007</td>\n",
       "      <td>2.935460</td>\n",
       "      <td>1.070389</td>\n",
       "      <td>0.378512</td>\n",
       "      <td>2.606442</td>\n",
       "      <td>0.678072</td>\n",
       "      <td>3.148934</td>\n",
       "      <td>3.280956</td>\n",
       "      <td>5.326969</td>\n",
       "    </tr>\n",
       "    <tr>\n",
       "      <th>entrz_tran_10</th>\n",
       "      <td>1.195348</td>\n",
       "      <td>0.238787</td>\n",
       "      <td>0.250962</td>\n",
       "      <td>0.000000</td>\n",
       "      <td>0.214125</td>\n",
       "      <td>0.189034</td>\n",
       "      <td>0.124328</td>\n",
       "      <td>0.000000</td>\n",
       "      <td>0.097611</td>\n",
       "      <td>0.137504</td>\n",
       "      <td>...</td>\n",
       "      <td>0.622930</td>\n",
       "      <td>0.000000</td>\n",
       "      <td>0.250962</td>\n",
       "      <td>0.000000</td>\n",
       "      <td>0.250962</td>\n",
       "      <td>0.028569</td>\n",
       "      <td>0.014355</td>\n",
       "      <td>0.505891</td>\n",
       "      <td>0.739848</td>\n",
       "      <td>1.536053</td>\n",
       "    </tr>\n",
       "    <tr>\n",
       "      <th>entrz_tran_12</th>\n",
       "      <td>3.401903</td>\n",
       "      <td>2.229588</td>\n",
       "      <td>0.575312</td>\n",
       "      <td>7.226798</td>\n",
       "      <td>4.241840</td>\n",
       "      <td>6.618386</td>\n",
       "      <td>0.070389</td>\n",
       "      <td>3.377124</td>\n",
       "      <td>9.865795</td>\n",
       "      <td>1.250962</td>\n",
       "      <td>...</td>\n",
       "      <td>7.127633</td>\n",
       "      <td>0.367371</td>\n",
       "      <td>0.992768</td>\n",
       "      <td>5.998421</td>\n",
       "      <td>4.839960</td>\n",
       "      <td>1.201634</td>\n",
       "      <td>5.986411</td>\n",
       "      <td>7.023588</td>\n",
       "      <td>0.344828</td>\n",
       "      <td>6.596339</td>\n",
       "    </tr>\n",
       "    <tr>\n",
       "      <th>...</th>\n",
       "      <td>...</td>\n",
       "      <td>...</td>\n",
       "      <td>...</td>\n",
       "      <td>...</td>\n",
       "      <td>...</td>\n",
       "      <td>...</td>\n",
       "      <td>...</td>\n",
       "      <td>...</td>\n",
       "      <td>...</td>\n",
       "      <td>...</td>\n",
       "      <td>...</td>\n",
       "      <td>...</td>\n",
       "      <td>...</td>\n",
       "      <td>...</td>\n",
       "      <td>...</td>\n",
       "      <td>...</td>\n",
       "      <td>...</td>\n",
       "      <td>...</td>\n",
       "      <td>...</td>\n",
       "      <td>...</td>\n",
       "      <td>...</td>\n",
       "    </tr>\n",
       "    <tr>\n",
       "      <th>entrz_tran_113455421</th>\n",
       "      <td>2.090853</td>\n",
       "      <td>4.233428</td>\n",
       "      <td>2.792855</td>\n",
       "      <td>3.044394</td>\n",
       "      <td>3.860963</td>\n",
       "      <td>3.772941</td>\n",
       "      <td>1.989139</td>\n",
       "      <td>2.742006</td>\n",
       "      <td>3.770829</td>\n",
       "      <td>4.845490</td>\n",
       "      <td>...</td>\n",
       "      <td>3.129283</td>\n",
       "      <td>3.934517</td>\n",
       "      <td>3.070389</td>\n",
       "      <td>3.904966</td>\n",
       "      <td>1.673556</td>\n",
       "      <td>4.844486</td>\n",
       "      <td>3.267536</td>\n",
       "      <td>3.444932</td>\n",
       "      <td>3.798051</td>\n",
       "      <td>3.685940</td>\n",
       "    </tr>\n",
       "    <tr>\n",
       "      <th>entrz_tran_113523638</th>\n",
       "      <td>0.422233</td>\n",
       "      <td>0.000000</td>\n",
       "      <td>0.000000</td>\n",
       "      <td>0.000000</td>\n",
       "      <td>0.000000</td>\n",
       "      <td>0.000000</td>\n",
       "      <td>0.042644</td>\n",
       "      <td>0.000000</td>\n",
       "      <td>0.000000</td>\n",
       "      <td>0.000000</td>\n",
       "      <td>...</td>\n",
       "      <td>0.000000</td>\n",
       "      <td>0.000000</td>\n",
       "      <td>0.000000</td>\n",
       "      <td>0.000000</td>\n",
       "      <td>0.000000</td>\n",
       "      <td>0.000000</td>\n",
       "      <td>0.000000</td>\n",
       "      <td>0.000000</td>\n",
       "      <td>0.000000</td>\n",
       "      <td>0.000000</td>\n",
       "    </tr>\n",
       "    <tr>\n",
       "      <th>entrz_tran_114483833</th>\n",
       "      <td>0.000000</td>\n",
       "      <td>0.084064</td>\n",
       "      <td>0.000000</td>\n",
       "      <td>0.189034</td>\n",
       "      <td>0.000000</td>\n",
       "      <td>0.000000</td>\n",
       "      <td>0.000000</td>\n",
       "      <td>0.000000</td>\n",
       "      <td>0.000000</td>\n",
       "      <td>0.000000</td>\n",
       "      <td>...</td>\n",
       "      <td>0.000000</td>\n",
       "      <td>0.042644</td>\n",
       "      <td>0.000000</td>\n",
       "      <td>0.226509</td>\n",
       "      <td>0.250962</td>\n",
       "      <td>0.333424</td>\n",
       "      <td>0.000000</td>\n",
       "      <td>0.000000</td>\n",
       "      <td>0.000000</td>\n",
       "      <td>0.000000</td>\n",
       "    </tr>\n",
       "    <tr>\n",
       "      <th>entrz_tran_115253422</th>\n",
       "      <td>1.201634</td>\n",
       "      <td>1.250962</td>\n",
       "      <td>1.310340</td>\n",
       "      <td>1.823749</td>\n",
       "      <td>1.505891</td>\n",
       "      <td>2.286881</td>\n",
       "      <td>1.157044</td>\n",
       "      <td>1.722466</td>\n",
       "      <td>1.584963</td>\n",
       "      <td>1.744161</td>\n",
       "      <td>...</td>\n",
       "      <td>2.201634</td>\n",
       "      <td>2.272023</td>\n",
       "      <td>1.790772</td>\n",
       "      <td>3.307429</td>\n",
       "      <td>0.773996</td>\n",
       "      <td>2.411426</td>\n",
       "      <td>1.765535</td>\n",
       "      <td>0.722466</td>\n",
       "      <td>3.313246</td>\n",
       "      <td>1.914565</td>\n",
       "    </tr>\n",
       "    <tr>\n",
       "      <th>entrz_tran_116033993</th>\n",
       "      <td>0.000000</td>\n",
       "      <td>0.000000</td>\n",
       "      <td>0.000000</td>\n",
       "      <td>0.000000</td>\n",
       "      <td>0.084064</td>\n",
       "      <td>0.000000</td>\n",
       "      <td>0.000000</td>\n",
       "      <td>0.000000</td>\n",
       "      <td>0.000000</td>\n",
       "      <td>0.000000</td>\n",
       "      <td>...</td>\n",
       "      <td>0.000000</td>\n",
       "      <td>0.000000</td>\n",
       "      <td>0.000000</td>\n",
       "      <td>0.000000</td>\n",
       "      <td>0.000000</td>\n",
       "      <td>0.000000</td>\n",
       "      <td>0.000000</td>\n",
       "      <td>0.000000</td>\n",
       "      <td>0.000000</td>\n",
       "      <td>0.000000</td>\n",
       "    </tr>\n",
       "  </tbody>\n",
       "</table>\n",
       "<p>19131 rows × 29 columns</p>\n",
       "</div>"
      ],
      "text/plain": [
       "                      smpl_id_96  smpl_id_110  smpl_id_146  smpl_id_195  \\\n",
       "entrz_tran_1            5.560409     0.659925     4.517276     2.017922   \n",
       "entrz_tran_2            0.201634     0.201634     0.111031     0.084064   \n",
       "entrz_tran_9            5.801935     2.961623     3.549669     0.201634   \n",
       "entrz_tran_10           1.195348     0.238787     0.250962     0.000000   \n",
       "entrz_tran_12           3.401903     2.229588     0.575312     7.226798   \n",
       "...                          ...          ...          ...          ...   \n",
       "entrz_tran_113455421    2.090853     4.233428     2.792855     3.044394   \n",
       "entrz_tran_113523638    0.422233     0.000000     0.000000     0.000000   \n",
       "entrz_tran_114483833    0.000000     0.084064     0.000000     0.189034   \n",
       "entrz_tran_115253422    1.201634     1.250962     1.310340     1.823749   \n",
       "entrz_tran_116033993    0.000000     0.000000     0.000000     0.000000   \n",
       "\n",
       "                      smpl_id_222  smpl_id_275  smpl_id_276  smpl_id_329  \\\n",
       "entrz_tran_1             4.348374     5.209453     5.147714     3.994580   \n",
       "entrz_tran_2             0.056584     0.124328     0.028569     0.056584   \n",
       "entrz_tran_9             3.226509     1.704872     5.629357     1.220330   \n",
       "entrz_tran_10            0.214125     0.189034     0.124328     0.000000   \n",
       "entrz_tran_12            4.241840     6.618386     0.070389     3.377124   \n",
       "...                           ...          ...          ...          ...   \n",
       "entrz_tran_113455421     3.860963     3.772941     1.989139     2.742006   \n",
       "entrz_tran_113523638     0.000000     0.000000     0.042644     0.000000   \n",
       "entrz_tran_114483833     0.000000     0.000000     0.000000     0.000000   \n",
       "entrz_tran_115253422     1.505891     2.286881     1.157044     1.722466   \n",
       "entrz_tran_116033993     0.084064     0.000000     0.000000     0.000000   \n",
       "\n",
       "                      smpl_id_373  smpl_id_533  ...  smpl_id_854  smpl_id_899  \\\n",
       "entrz_tran_1             2.411426     2.823749  ...     1.695994     4.581351   \n",
       "entrz_tran_2             0.014355     0.084064  ...     0.879706     0.176323   \n",
       "entrz_tran_9             2.201634     2.516015  ...     2.419539     1.275007   \n",
       "entrz_tran_10            0.097611     0.137504  ...     0.622930     0.000000   \n",
       "entrz_tran_12            9.865795     1.250962  ...     7.127633     0.367371   \n",
       "...                           ...          ...  ...          ...          ...   \n",
       "entrz_tran_113455421     3.770829     4.845490  ...     3.129283     3.934517   \n",
       "entrz_tran_113523638     0.000000     0.000000  ...     0.000000     0.000000   \n",
       "entrz_tran_114483833     0.000000     0.000000  ...     0.000000     0.042644   \n",
       "entrz_tran_115253422     1.584963     1.744161  ...     2.201634     2.272023   \n",
       "entrz_tran_116033993     0.000000     0.000000  ...     0.000000     0.000000   \n",
       "\n",
       "                      smpl_id_924  smpl_id_927  smpl_id_1202  smpl_id_1203  \\\n",
       "entrz_tran_1             0.250962     4.053111      1.627607      4.313971   \n",
       "entrz_tran_2             0.056584    10.176796      0.000000      0.189034   \n",
       "entrz_tran_9             2.935460     1.070389      0.378512      2.606442   \n",
       "entrz_tran_10            0.250962     0.000000      0.250962      0.028569   \n",
       "entrz_tran_12            0.992768     5.998421      4.839960      1.201634   \n",
       "...                           ...          ...           ...           ...   \n",
       "entrz_tran_113455421     3.070389     3.904966      1.673556      4.844486   \n",
       "entrz_tran_113523638     0.000000     0.000000      0.000000      0.000000   \n",
       "entrz_tran_114483833     0.000000     0.226509      0.250962      0.333424   \n",
       "entrz_tran_115253422     1.790772     3.307429      0.773996      2.411426   \n",
       "entrz_tran_116033993     0.000000     0.000000      0.000000      0.000000   \n",
       "\n",
       "                      smpl_id_1204  smpl_id_1230  smpl_id_1409  smpl_id_1852  \n",
       "entrz_tran_1              2.713696      1.500802      3.148934      3.653060  \n",
       "entrz_tran_2              0.286881      0.163499      1.220330      3.200065  \n",
       "entrz_tran_9              0.678072      3.148934      3.280956      5.326969  \n",
       "entrz_tran_10             0.014355      0.505891      0.739848      1.536053  \n",
       "entrz_tran_12             5.986411      7.023588      0.344828      6.596339  \n",
       "...                            ...           ...           ...           ...  \n",
       "entrz_tran_113455421      3.267536      3.444932      3.798051      3.685940  \n",
       "entrz_tran_113523638      0.000000      0.000000      0.000000      0.000000  \n",
       "entrz_tran_114483833      0.000000      0.000000      0.000000      0.000000  \n",
       "entrz_tran_115253422      1.765535      0.722466      3.313246      1.914565  \n",
       "entrz_tran_116033993      0.000000      0.000000      0.000000      0.000000  \n",
       "\n",
       "[19131 rows x 29 columns]"
      ]
     },
     "execution_count": 18,
     "metadata": {},
     "output_type": "execute_result"
    }
   ],
   "source": [
    "cd"
   ]
  },
  {
   "cell_type": "markdown",
   "id": "0fc966df-8cac-481d-a88d-c26b59521f11",
   "metadata": {},
   "source": [
    "#### Mbatch out .T to strctrd"
   ]
  },
  {
   "cell_type": "code",
   "execution_count": null,
   "id": "de8caa09-3201-4c37-b5ee-1dbba3a8715d",
   "metadata": {},
   "outputs": [],
   "source": [
    "ls mbatch/bk_mbatch/data/mbatch_oc/"
   ]
  },
  {
   "cell_type": "code",
   "execution_count": 36,
   "id": "9a1de283-4c20-49bc-9cdf-146b973c95bb",
   "metadata": {},
   "outputs": [],
   "source": [
    "mb_9 = sorted(glob.glob(\n",
    "    'mbatch/bk_mbatch/data/mbatch_oc/correctedResults_src_v*.tsv'))"
   ]
  },
  {
   "cell_type": "code",
   "execution_count": 37,
   "id": "edc500be-588c-461c-a49a-d5d7fb49a767",
   "metadata": {},
   "outputs": [
    {
     "data": {
      "text/plain": [
       "['mbatch/bk_mbatch/data/mbatch_oc/correctedResults_src_v0.tsv',\n",
       " 'mbatch/bk_mbatch/data/mbatch_oc/correctedResults_src_v1.tsv',\n",
       " 'mbatch/bk_mbatch/data/mbatch_oc/correctedResults_src_v2.tsv',\n",
       " 'mbatch/bk_mbatch/data/mbatch_oc/correctedResults_src_v3.tsv',\n",
       " 'mbatch/bk_mbatch/data/mbatch_oc/correctedResults_src_v4.tsv',\n",
       " 'mbatch/bk_mbatch/data/mbatch_oc/correctedResults_src_v5.tsv',\n",
       " 'mbatch/bk_mbatch/data/mbatch_oc/correctedResults_src_v6.tsv',\n",
       " 'mbatch/bk_mbatch/data/mbatch_oc/correctedResults_src_v7.tsv',\n",
       " 'mbatch/bk_mbatch/data/mbatch_oc/correctedResults_src_v8.tsv']"
      ]
     },
     "execution_count": 37,
     "metadata": {},
     "output_type": "execute_result"
    }
   ],
   "source": [
    "mb_9"
   ]
  },
  {
   "cell_type": "code",
   "execution_count": 50,
   "id": "1c54801e-317b-4294-b2ac-0a8514b6e087",
   "metadata": {},
   "outputs": [],
   "source": [
    "# mbatch_one_cncr.R\n",
    "# run=cptac_breast-ductal_transcriptomics_ref=v0\n",
    "# run=cptac_breast-lobular_transcriptomics_ref=v1\n",
    "# run=cptac_breast-nos_transcriptomics_ref=v2\n",
    "# run=cptac_colon-adeno_transcriptomics_ref=v3\n",
    "# run=cptac_glioblastoma_transcriptomics_ref=v4\n",
    "# run=cptac_head-neck_transcriptomics_ref=v5\n",
    "# run=cptac_lung-adeno_transcriptomics_ref=v6\n",
    "# run=cptac_pancreatic-adeno_transcriptomics_ref.tsv=v7\n",
    "# run=cptac_renal-clear-cell_transcriptomics_ref=v8"
   ]
  },
  {
   "cell_type": "code",
   "execution_count": 49,
   "id": "2e8c78ed-9119-4b1c-bda7-ed60a851fd51",
   "metadata": {},
   "outputs": [],
   "source": [
    "cancer_type = ['breast-ductal',\n",
    "'breast-lobular',\n",
    "'breast-nos',\n",
    "'colon-adeno',\n",
    "'glioblastoma',\n",
    "'head-neck',\n",
    "'lung-adeno',\n",
    "'pancreatic-adeno',\n",
    "'renal-clear-cell']"
   ]
  },
  {
   "cell_type": "code",
   "execution_count": 54,
   "id": "a23495c9-739e-4749-ba5c-9c718acd7537",
   "metadata": {},
   "outputs": [
    {
     "name": "stdout",
     "output_type": "stream",
     "text": [
      "mbatch/bk_mbatch/data/mbatch_oc/correctedResults_src_v0.tsv\n",
      "mbatch/bk_mbatch/data/mbatch_oc/correctedResults_src_v1.tsv\n",
      "mbatch/bk_mbatch/data/mbatch_oc/correctedResults_src_v2.tsv\n",
      "mbatch/bk_mbatch/data/mbatch_oc/correctedResults_src_v3.tsv\n",
      "mbatch/bk_mbatch/data/mbatch_oc/correctedResults_src_v4.tsv\n",
      "mbatch/bk_mbatch/data/mbatch_oc/correctedResults_src_v5.tsv\n",
      "mbatch/bk_mbatch/data/mbatch_oc/correctedResults_src_v6.tsv\n",
      "mbatch/bk_mbatch/data/mbatch_oc/correctedResults_src_v7.tsv\n",
      "mbatch/bk_mbatch/data/mbatch_oc/correctedResults_src_v8.tsv\n"
     ]
    }
   ],
   "source": [
    "for i, strctrd_dot_T_file in enumerate(mb_9):\n",
    "    print(strctrd_dot_T_file)\n",
    "    strctrd_dot_T = pd.read_csv(\n",
    "    strctrd_dot_T_file,\n",
    "        sep = '\\t', index_col = 0)\n",
    "\n",
    "    strctrd_dot_T\n",
    "    s = strctrd_dot_T.T\n",
    "\n",
    "    s.insert(0, 'Cancer_type', cancer_type[i])\n",
    "\n",
    "    src_df = s[s.index.str.endswith(\".src\")]\n",
    "    ref_df = s[s.index.str.endswith(\".ref\")]\n",
    "\n",
    "    src_df.insert(0, 'System', 'cell_line')\n",
    "    ref_df.insert(0, 'System', 'CPTAC')\n",
    "\n",
    "    mb_strctrd = pd.concat([src_df, ref_df], axis = 0)\n",
    "\n",
    "    cancer = cancer_type[i]\n",
    "    modality = 'transcriptomics'\n",
    "    systems = 'cell-line+CPTAC'\n",
    "    mb_strctrd.to_csv(\n",
    "        '../results/mbatch/one_cncr/files/'+cancer+'_'+modality+'_'+systems+'.tsv',\n",
    "        sep = '\\t')\n",
    "    # break"
   ]
  },
  {
   "cell_type": "code",
   "execution_count": 55,
   "id": "8e55be7c-3075-401e-a17f-9c5647de6bd6",
   "metadata": {},
   "outputs": [],
   "source": [
    "lst_file_out = '../results/mbatch/one_cncr/files/'+cancer+'_'+modality+'_'+systems+'.tsv'"
   ]
  },
  {
   "cell_type": "code",
   "execution_count": 56,
   "id": "56dd4ffc-cf44-4abf-afc7-2846b59dd3b1",
   "metadata": {},
   "outputs": [],
   "source": [
    "chk = pd.read_csv(\n",
    "    lst_file_out,\n",
    "        sep = '\\t', index_col = 0)"
   ]
  },
  {
   "cell_type": "code",
   "execution_count": null,
   "id": "2ffbf703-f3e0-4985-86b4-0f594c30bdb6",
   "metadata": {},
   "outputs": [],
   "source": [
    "chk"
   ]
  },
  {
   "cell_type": "markdown",
   "id": "488150f6-b062-41c5-ae24-09c1a23faf6e",
   "metadata": {},
   "source": [
    "##### devel notes on one cancer return to strctrd frmt:"
   ]
  },
  {
   "cell_type": "code",
   "execution_count": null,
   "id": "8706e441-bee6-4410-b9da-958f4a2dfb3a",
   "metadata": {},
   "outputs": [],
   "source": [
    "for indx in strctrd.index:\n",
    "    print(indx) # observation: mbatch output is sorted alphanum"
   ]
  },
  {
   "cell_type": "code",
   "execution_count": null,
   "id": "3e4ec18b-3f23-4c6e-9bf7-5e14939fb697",
   "metadata": {},
   "outputs": [],
   "source": [
    "ab = glob.glob('../strctrd/one_cncr/'+cancer_type+'*')"
   ]
  },
  {
   "cell_type": "markdown",
   "id": "556fab6a-9632-45ed-9e69-76cf80fe3e4d",
   "metadata": {},
   "source": [
    "#### Two-cancer version"
   ]
  },
  {
   "cell_type": "markdown",
   "id": "5f3cd2e8-4960-4337-8c5d-940c11d8defc",
   "metadata": {
    "jp-MarkdownHeadingCollapsed": true
   },
   "source": [
    "##### read and check"
   ]
  },
  {
   "cell_type": "code",
   "execution_count": null,
   "id": "3039aba9-571f-4ae2-9d28-f28012e0e124",
   "metadata": {},
   "outputs": [],
   "source": [
    "ab = pd.read_csv( # changed to strctrd/one_cncr above\n",
    "    '../output/dbl-cncr/pancreatic-adeno+lung-adeno_transcriptomics_cell-line+CPTAC.tsv',\n",
    "        sep = '\\t', index_col = 0)"
   ]
  },
  {
   "cell_type": "code",
   "execution_count": 8,
   "id": "e5406f76-c507-4070-8fc3-30c849050cdc",
   "metadata": {},
   "outputs": [
    {
     "data": {
      "text/plain": [
       "0.0"
      ]
     },
     "execution_count": 8,
     "metadata": {},
     "output_type": "execute_result"
    }
   ],
   "source": [
    "# mbatch takes non-negative numbers\n",
    "ab.iloc[:, 2:].min().min()"
   ]
  },
  {
   "cell_type": "code",
   "execution_count": 46,
   "id": "c1a36b0d-342e-4e19-88eb-545516ac2da7",
   "metadata": {},
   "outputs": [
    {
     "data": {
      "text/plain": [
       "System\n",
       "CPTAC        251\n",
       "cell_line    132\n",
       "Name: count, dtype: int64"
      ]
     },
     "execution_count": 46,
     "metadata": {},
     "output_type": "execute_result"
    }
   ],
   "source": [
    "ab.System.value_counts()"
   ]
  },
  {
   "cell_type": "code",
   "execution_count": 47,
   "id": "1962bc1b-3d76-456b-b69c-ef5f145cd4a7",
   "metadata": {},
   "outputs": [
    {
     "data": {
      "text/plain": [
       "Cancer_type\n",
       "pancreatic_adeno    195\n",
       "lung_adeno          188\n",
       "Name: count, dtype: int64"
      ]
     },
     "execution_count": 47,
     "metadata": {},
     "output_type": "execute_result"
    }
   ],
   "source": [
    "ab.Cancer_type.value_counts()"
   ]
  },
  {
   "cell_type": "code",
   "execution_count": 105,
   "id": "d5c8e0b7-89c5-4440-8c66-566504802465",
   "metadata": {},
   "outputs": [],
   "source": [
    "cancers = 'pancreatic-adeno+lung-adeno'"
   ]
  },
  {
   "cell_type": "code",
   "execution_count": 49,
   "id": "1179ab0f-9b5c-4f1b-99d4-ffe7038aa6be",
   "metadata": {},
   "outputs": [],
   "source": [
    "modality = 'transcriptomics'"
   ]
  },
  {
   "cell_type": "markdown",
   "id": "e693bafc-e46b-4fc7-8002-f0412005dcb0",
   "metadata": {
    "jp-MarkdownHeadingCollapsed": true
   },
   "source": [
    "##### Split template, using dep output/ paths"
   ]
  },
  {
   "cell_type": "code",
   "execution_count": 27,
   "id": "d7ad4af5-4124-4a18-bdad-45f0636bdc2c",
   "metadata": {},
   "outputs": [],
   "source": [
    "src_ref = 'src'\n",
    "sys = 'cell_line'\n",
    "cl = ab[ab.System == 'cell_line'].copy()\n",
    "cl.drop(columns = ['System'], inplace = True)\n",
    "cl.drop(columns = ['Cancer_type'], inplace = True)\n",
    "cl = cl.T\n",
    "cl.to_csv(\n",
    "    'mbatch/bk_mbatch/data/inputs/'+sys+'_'+cancer+'_'+modality+'_'+src_ref+'.tsv',\n",
    "    sep = '\\t')"
   ]
  },
  {
   "cell_type": "code",
   "execution_count": 28,
   "id": "ff46bc09-0f34-41b1-be0b-c435e29b31f8",
   "metadata": {},
   "outputs": [],
   "source": [
    "cl_transposed_read_test = pd.read_csv(\n",
    "    'mbatch/bk_mbatch/data/inputs/'+sys+'_'+cancer+'_'+modality+'_'+src_ref+'.tsv',\n",
    "        sep = '\\t',\n",
    "        index_col = 0)"
   ]
  },
  {
   "cell_type": "code",
   "execution_count": null,
   "id": "93ea809a-70e4-4e1c-8b4f-6c01ae332336",
   "metadata": {},
   "outputs": [],
   "source": [
    "cl_transposed_read_test"
   ]
  },
  {
   "cell_type": "code",
   "execution_count": 32,
   "id": "068dfd25-9300-4491-a37b-84e9aedeb9d2",
   "metadata": {},
   "outputs": [],
   "source": [
    "src_ref = 'ref'\n",
    "sys = 'cptac'\n",
    "cp = ab[ab.System == 'CPTAC'].copy()\n",
    "cp.drop(columns = ['System'], inplace = True)\n",
    "cp.drop(columns = ['Cancer_type'], inplace = True)\n",
    "cp = cp.T\n",
    "cp.to_csv(\n",
    "    'mbatch/bk_mbatch/data/inputs/'+sys+'_'+cancer+'_'+modality+'_'+src_ref+'.tsv',\n",
    "    sep = '\\t')"
   ]
  },
  {
   "cell_type": "code",
   "execution_count": null,
   "id": "5c3e9ee5-7f1d-4c1d-acec-909447c80886",
   "metadata": {},
   "outputs": [],
   "source": [
    "cp_transposed_read_test = pd.read_csv(\n",
    "    'mbatch/bk_mbatch/data/inputs/'+sys+'_'+cancer+'_'+modality+'_'+src_ref+'.tsv',\n",
    "        sep = '\\t',\n",
    "        index_col = 0)\n",
    "cp_transposed_read_test"
   ]
  },
  {
   "cell_type": "code",
   "execution_count": null,
   "id": "72b42ddf-38cc-41b7-9b1f-9e6274f952d1",
   "metadata": {},
   "outputs": [],
   "source": [
    "ab"
   ]
  },
  {
   "cell_type": "code",
   "execution_count": 51,
   "id": "e10fa942-b46a-4158-a70e-fcbccf4acce5",
   "metadata": {},
   "outputs": [
    {
     "data": {
      "text/plain": [
       "System\n",
       "CPTAC        251\n",
       "cell_line    132\n",
       "Name: count, dtype: int64"
      ]
     },
     "execution_count": 51,
     "metadata": {},
     "output_type": "execute_result"
    }
   ],
   "source": [
    "ab.System.value_counts()"
   ]
  },
  {
   "cell_type": "markdown",
   "id": "a2f8af40-3c33-4808-b0a8-363b52f95ecf",
   "metadata": {
    "jp-MarkdownHeadingCollapsed": true
   },
   "source": [
    "#### Attach 2 label sets"
   ]
  },
  {
   "cell_type": "raw",
   "id": "c2cc7873-fc79-447d-a920-b8d6415b077a",
   "metadata": {},
   "source": [
    "pwd\n",
    "mdl-sys-bnchmrk/code"
   ]
  },
  {
   "cell_type": "code",
   "execution_count": 52,
   "id": "ee0f7538-f34c-41ee-a518-5499b1e255be",
   "metadata": {},
   "outputs": [
    {
     "name": "stdout",
     "output_type": "stream",
     "text": [
      "dta_ldr.ipynb           mbatch_i-o.ipynb        \u001b[31mschedule_vae_gpu.sh\u001b[m\u001b[m*\n",
      "frnt_end_clf_ump.ipynb  \u001b[34mnb_dvl\u001b[m\u001b[m/                 \u001b[31mvae.py\u001b[m\u001b[m*\n",
      "\u001b[31mjob_scheduler.sh\u001b[m\u001b[m*       \u001b[34mplots\u001b[m\u001b[m/\n",
      "\u001b[34mmbatch\u001b[m\u001b[m/                 \u001b[31mschedule_vae_cpu.sh\u001b[m\u001b[m*\n"
     ]
    }
   ],
   "source": [
    "ls # this is mbatch_i-o.ipynb"
   ]
  },
  {
   "cell_type": "code",
   "execution_count": 53,
   "id": "872382be-f01a-4a23-a3d8-3ce6bf74372d",
   "metadata": {},
   "outputs": [
    {
     "name": "stdout",
     "output_type": "stream",
     "text": [
      "\u001b[34mEBNPlus_TrainAndValidateReplicates_Structures\u001b[m\u001b[m/\n",
      "correctedResults_src_v1.tsv\n",
      "input_ref_v1.tsv\n",
      "input_src_v1.tsv\n"
     ]
    }
   ],
   "source": [
    "ls mbatch/bk_mbatch/data/mbatch/"
   ]
  },
  {
   "cell_type": "code",
   "execution_count": 54,
   "id": "29fe0545-b449-49f8-80d4-aa05036973da",
   "metadata": {},
   "outputs": [],
   "source": [
    "cd = pd.read_csv(\n",
    "    'mbatch/bk_mbatch/data/mbatch/correctedResults_src_v1.tsv',\n",
    "        sep = '\\t', index_col = 0)"
   ]
  },
  {
   "cell_type": "code",
   "execution_count": null,
   "id": "b5a4af6d-f302-4f48-858f-635ed2ab9ecd",
   "metadata": {},
   "outputs": [],
   "source": [
    "cd"
   ]
  },
  {
   "cell_type": "code",
   "execution_count": 75,
   "id": "672f8405-8d9a-4989-8fc6-4bd0132ed7f9",
   "metadata": {},
   "outputs": [],
   "source": [
    "src_df = cd.T[cd.T.index.str.endswith(\".src\")]\n",
    "ref_df = cd.T[cd.T.index.str.endswith(\".ref\")]"
   ]
  },
  {
   "cell_type": "code",
   "execution_count": null,
   "id": "357a858e-64cc-4c7a-b657-6ba63ae31934",
   "metadata": {
    "scrolled": true
   },
   "outputs": [],
   "source": [
    "src_df"
   ]
  },
  {
   "cell_type": "code",
   "execution_count": null,
   "id": "2366878e-d978-4ea0-b00d-5cf300c586ef",
   "metadata": {
    "scrolled": true
   },
   "outputs": [],
   "source": [
    "ref_df"
   ]
  },
  {
   "cell_type": "code",
   "execution_count": 78,
   "id": "0c6d7ba4-8539-401c-b92a-e36a628dcdf5",
   "metadata": {},
   "outputs": [],
   "source": [
    "ab_src = ab[ab.System == 'cell_line']\n",
    "ab_ref = ab[ab.System == 'CPTAC']"
   ]
  },
  {
   "cell_type": "code",
   "execution_count": null,
   "id": "113e60e7-3bfb-4d2a-8f73-006f7adf1d32",
   "metadata": {},
   "outputs": [],
   "source": [
    "ab_src"
   ]
  },
  {
   "cell_type": "code",
   "execution_count": null,
   "id": "6b406ca9-74c0-41d1-bb85-2fdcbda53dd2",
   "metadata": {},
   "outputs": [],
   "source": [
    "ab_ref"
   ]
  },
  {
   "cell_type": "code",
   "execution_count": 84,
   "id": "bd0eef7c-b524-43d4-a6cd-56ee4fcdac81",
   "metadata": {},
   "outputs": [],
   "source": [
    "src_df.insert(0, 'Cancer_type', list(ab_src.Cancer_type))\n",
    "ref_df.insert(0, 'Cancer_type', list(ab_ref.Cancer_type))"
   ]
  },
  {
   "cell_type": "code",
   "execution_count": 85,
   "id": "1bc60d27-69ba-4a03-bee9-7d0a5b06c00c",
   "metadata": {},
   "outputs": [],
   "source": [
    "src_df.insert(0, 'System', 'cell_line')\n",
    "ref_df.insert(0, 'System', 'CPTAC')"
   ]
  },
  {
   "cell_type": "code",
   "execution_count": 86,
   "id": "a1c5c730-e0d7-4c0c-a606-4d679e7eeb05",
   "metadata": {},
   "outputs": [],
   "source": [
    "mb_sys = pd.concat([src_df, ref_df], axis = 0)"
   ]
  },
  {
   "cell_type": "code",
   "execution_count": null,
   "id": "08ed2999-bcc1-4ad8-bc90-8d3e96781bd7",
   "metadata": {},
   "outputs": [],
   "source": [
    "mb_sys"
   ]
  },
  {
   "cell_type": "markdown",
   "id": "6e701463-7e4e-44e2-98c7-cd51c96c1f6e",
   "metadata": {},
   "source": [
    "#### Run random forest from front-end on mb_sys"
   ]
  },
  {
   "cell_type": "code",
   "execution_count": 93,
   "id": "5c5ff7ce-70c1-4b50-8439-e4dd6b1a48b3",
   "metadata": {},
   "outputs": [],
   "source": [
    "systems = 'cell-line+CPTAC'"
   ]
  },
  {
   "cell_type": "code",
   "execution_count": 94,
   "id": "1c97670a-d77e-4be9-8279-934dd9ebd1fd",
   "metadata": {},
   "outputs": [
    {
     "data": {
      "text/plain": [
       "('pancreatic-adeno+lung-adeno', 'transcriptomics', 'cell-line+CPTAC')"
      ]
     },
     "execution_count": 94,
     "metadata": {},
     "output_type": "execute_result"
    }
   ],
   "source": [
    "cancer, modality, systems"
   ]
  },
  {
   "cell_type": "code",
   "execution_count": 95,
   "id": "cff9fc86-4f8e-4cc8-92f5-b3bc7ee04873",
   "metadata": {},
   "outputs": [],
   "source": [
    "mb_sys.to_csv(\n",
    "    '../results/mbatch/files/'+cancer+'_'+modality+'_'+systems+'.tsv',\n",
    "    sep = '\\t')"
   ]
  },
  {
   "cell_type": "code",
   "execution_count": 96,
   "id": "b0d223bc-20dd-4835-a9b9-8babf6a64a7d",
   "metadata": {},
   "outputs": [],
   "source": [
    "obj_n = pd.read_csv(\n",
    "    '../results/mbatch/files/'+cancer+'_'+modality+'_'+systems+'.tsv',\n",
    "    sep = '\\t', index_col = 0)"
   ]
  },
  {
   "cell_type": "code",
   "execution_count": 98,
   "id": "6d72a414-b442-4eab-8ac0-33c9828a9432",
   "metadata": {},
   "outputs": [],
   "source": [
    "del(mb_sys)"
   ]
  },
  {
   "cell_type": "code",
   "execution_count": 100,
   "id": "cb176f85-64fd-4f13-8d6c-25c9687b3051",
   "metadata": {},
   "outputs": [],
   "source": [
    "import pandas as pd\n",
    "import glob\n",
    "from sklearn.ensemble import RandomForestClassifier\n",
    "from sklearn.model_selection import train_test_split\n",
    "from sklearn.metrics import f1_score\n",
    "import matplotlib.pyplot as plt\n",
    "import statistics"
   ]
  },
  {
   "cell_type": "code",
   "execution_count": null,
   "id": "38abc0b6-86b7-41dc-bc9b-abd3c5897e8e",
   "metadata": {},
   "outputs": [],
   "source": [
    "obj_n"
   ]
  },
  {
   "cell_type": "code",
   "execution_count": 101,
   "id": "d0dcd4f7-9cd5-4dd1-8da2-bd77a890eb36",
   "metadata": {},
   "outputs": [],
   "source": [
    "X = obj_n.iloc[:, 2:]\n",
    "y_sys = obj_n.System\n",
    "y_c_typ = obj_n.Cancer_type\n",
    "\n",
    "sys_scores = []\n",
    "c_typ_scores = []\n",
    "\n",
    "for i in list(range(0,9)):\n",
    "    X_train, X_test, y_train, y_test = train_test_split(X, y_sys)\n",
    "    clf = RandomForestClassifier(max_depth=2, random_state=0)\n",
    "    clf.fit(X_train, y_train)\n",
    "    y_pred = clf.predict(X_test)\n",
    "    score = f1_score(y_test, y_pred, average = 'weighted')\n",
    "    sys_scores.append(score)\n",
    "\n",
    "    y_train = y_c_typ[y_c_typ.index.isin(y_train.index)]\n",
    "    y_test = y_c_typ[y_c_typ.index.isin(y_test.index)]\n",
    "    \n",
    "    clf = RandomForestClassifier(max_depth=2, random_state=0)\n",
    "    clf.fit(X_train, y_train)\n",
    "    y_pred = clf.predict(X_test)\n",
    "    score = f1_score(y_test, y_pred, average = 'weighted')\n",
    "    c_typ_scores.append(score)"
   ]
  },
  {
   "cell_type": "code",
   "execution_count": 106,
   "id": "d392eed4-b822-4d52-ae58-8a1d668e9bd1",
   "metadata": {},
   "outputs": [
    {
     "data": {
      "text/plain": [
       "'pancreatic-adeno+lung-adeno_transcriptomics_cell-line+CPTAC'"
      ]
     },
     "execution_count": 106,
     "metadata": {},
     "output_type": "execute_result"
    }
   ],
   "source": [
    "cancers+'_'+modality+'_'+systems"
   ]
  },
  {
   "cell_type": "code",
   "execution_count": 107,
   "id": "61ad7c74-e9fd-4db5-bf67-a487586b49b7",
   "metadata": {},
   "outputs": [],
   "source": [
    "file_n = cancers+'_'+modality+'_'+systems"
   ]
  },
  {
   "cell_type": "code",
   "execution_count": null,
   "id": "32d2d0c8-f06c-4432-8b3d-6f866f427b04",
   "metadata": {},
   "outputs": [],
   "source": [
    "sys_mean = statistics.mean(sys_scores)\n",
    "c_typ_mean = statistics.mean(c_typ_scores)\n",
    "\n",
    "sys_err = statistics.stdev(sys_scores)\n",
    "c_typ_err = statistics.stdev(c_typ_scores)\n",
    "\n",
    "fig, ax = plt.subplots()\n",
    "\n",
    "# Create bars\n",
    "bar1 = ax.bar('sys', sys_mean, yerr=sys_err, capsize = 7, label='System')\n",
    "bar2 = ax.bar('c typ', c_typ_mean, yerr=c_typ_err, capsize = 7, label='Cancer type')\n",
    "\n",
    "plt.title(file_n) # automate later\n",
    "plt.xlabel('Cancer Model System')\n",
    "plt.ylabel('F1 score')\n",
    "\n",
    "# Legend\n",
    "ax.legend()\n",
    "plt.savefig('../results/mbatch/figures/'+file_n+'rf_barplot.png')"
   ]
  },
  {
   "cell_type": "code",
   "execution_count": null,
   "id": "cd3905af-f18e-401c-80e2-ec06cc543a99",
   "metadata": {},
   "outputs": [],
   "source": []
  }
 ],
 "metadata": {
  "kernelspec": {
   "display_name": "Python 3 (ipykernel)",
   "language": "python",
   "name": "python3"
  },
  "language_info": {
   "codemirror_mode": {
    "name": "ipython",
    "version": 3
   },
   "file_extension": ".py",
   "mimetype": "text/x-python",
   "name": "python",
   "nbconvert_exporter": "python",
   "pygments_lexer": "ipython3",
   "version": "3.10.8"
  }
 },
 "nbformat": 4,
 "nbformat_minor": 5
}
