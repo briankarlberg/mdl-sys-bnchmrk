{
 "cells": [
  {
   "cell_type": "code",
   "execution_count": null,
   "id": "5e5233cd-5530-4f34-be94-1125472fa57f",
   "metadata": {},
   "outputs": [],
   "source": [
    "# code/mbatch_i-o.ipynb"
   ]
  },
  {
   "cell_type": "code",
   "execution_count": 1,
   "id": "1a0e9e60-a430-4d4b-afd2-348c8864e975",
   "metadata": {},
   "outputs": [
    {
     "name": "stdout",
     "output_type": "stream",
     "text": [
      "Interactive namespace is empty.\n"
     ]
    }
   ],
   "source": [
    "%whos"
   ]
  },
  {
   "cell_type": "code",
   "execution_count": 2,
   "id": "8fe398c2-d8a9-4edf-996a-69c3a83b87d2",
   "metadata": {},
   "outputs": [
    {
     "name": "stdout",
     "output_type": "stream",
     "text": [
      "\u001b[34mAML\u001b[m\u001b[m/\n",
      "\u001b[34mbreast\u001b[m\u001b[m/\n",
      "colon-adeno_transcriptomics_cell-line+CPTAC.tsv\n",
      "colon-nos-adeno_transcriptomics_HCMI+CPTAC.tsv\n",
      "glioblastoma_transcriptomics_cell-line+CPTAC.tsv\n",
      "lung-adeno_transcriptomics_cell-line+CPTAC.tsv\n",
      "pancreatic-adeno_transcriptomics_cell-line+CPTAC.tsv\n",
      "pancreatic-nos-ductal-ad_transcriptomics_HCMI+CPTAC.tsv\n",
      "renal-clear-cell_transcriptomics_cell-line+CPTAC.tsv\n"
     ]
    }
   ],
   "source": [
    "ls ../data/r7/"
   ]
  },
  {
   "cell_type": "code",
   "execution_count": null,
   "id": "cadaebf2-4484-4830-ae51-affddddbeeb7",
   "metadata": {},
   "outputs": [],
   "source": [
    "mk dir ../data/r7/sgl"
   ]
  },
  {
   "cell_type": "code",
   "execution_count": null,
   "id": "640603a2-1d77-418a-a461-063cee029e41",
   "metadata": {},
   "outputs": [],
   "source": [
    "mv ../data/r7/* ../data/r7/sgl"
   ]
  },
  {
   "cell_type": "code",
   "execution_count": 1,
   "id": "fb65c4df-56bb-45d1-a15d-411aa3b6df32",
   "metadata": {},
   "outputs": [],
   "source": [
    "import pandas as pd\n",
    "import glob"
   ]
  },
  {
   "cell_type": "code",
   "execution_count": null,
   "id": "def95710-f516-4f53-bb61-ecbafc4958a8",
   "metadata": {},
   "outputs": [],
   "source": [
    "pwd\n",
    "mdl-sys-bnchmrk/code"
   ]
  },
  {
   "cell_type": "code",
   "execution_count": 22,
   "id": "0bc17eee-4134-405e-8cc3-4597416d7713",
   "metadata": {},
   "outputs": [],
   "source": [
    "cl = sorted(glob.glob('../data/r7/sgl/*cell-line*'))"
   ]
  },
  {
   "cell_type": "code",
   "execution_count": 23,
   "id": "e5ef1aa4-3f42-435a-8f48-fa57de6b9d33",
   "metadata": {},
   "outputs": [
    {
     "data": {
      "text/plain": [
       "['../data/r7/sgl/colon-adeno_transcriptomics_cell-line+CPTAC.tsv',\n",
       " '../data/r7/sgl/glioblastoma_transcriptomics_cell-line+CPTAC.tsv',\n",
       " '../data/r7/sgl/lung-adeno_transcriptomics_cell-line+CPTAC.tsv',\n",
       " '../data/r7/sgl/pancreatic-adeno_transcriptomics_cell-line+CPTAC.tsv',\n",
       " '../data/r7/sgl/renal-clear-cell_transcriptomics_cell-line+CPTAC.tsv']"
      ]
     },
     "execution_count": 23,
     "metadata": {},
     "output_type": "execute_result"
    }
   ],
   "source": [
    "cl"
   ]
  },
  {
   "cell_type": "code",
   "execution_count": 24,
   "id": "311a8302-3290-402c-bf2f-7207610ea1b4",
   "metadata": {},
   "outputs": [],
   "source": [
    "cl_con = pd.DataFrame()\n",
    "for fl in cl:\n",
    "    df = pd.read_csv(fl, sep = '\\t', index_col = 0)\n",
    "    cl_con = pd.concat([df, cl_con])"
   ]
  },
  {
   "cell_type": "code",
   "execution_count": 25,
   "id": "ddb86643-7c55-46b9-ada1-5c17d7fdb7ab",
   "metadata": {},
   "outputs": [],
   "source": [
    "cl_con.to_csv('../data/r7/cell-line+CPTAC.tsv', sep = '\\t')"
   ]
  },
  {
   "cell_type": "code",
   "execution_count": 28,
   "id": "e980e0f5-fd70-431a-be51-a0bf422c46ce",
   "metadata": {},
   "outputs": [
    {
     "data": {
      "text/plain": [
       "array(['renal-clear-cell', 'pancreatic-adeno', 'lung-adeno',\n",
       "       'glioblastoma', 'colon-adeno'], dtype=object)"
      ]
     },
     "execution_count": 28,
     "metadata": {},
     "output_type": "execute_result"
    }
   ],
   "source": [
    "cl_con.Cancer_type.unique()"
   ]
  },
  {
   "cell_type": "code",
   "execution_count": 31,
   "id": "47789d71-60f9-43d0-be4a-cdbacbff703a",
   "metadata": {},
   "outputs": [
    {
     "data": {
      "text/plain": [
       "System\n",
       "cptac        566\n",
       "cell-line    261\n",
       "Name: count, dtype: int64"
      ]
     },
     "execution_count": 31,
     "metadata": {},
     "output_type": "execute_result"
    }
   ],
   "source": [
    "cl_con.System.value_counts()"
   ]
  },
  {
   "cell_type": "code",
   "execution_count": 32,
   "id": "66af8765-ed00-4328-89fe-f07f18ae41f7",
   "metadata": {},
   "outputs": [
    {
     "data": {
      "text/plain": [
       "Cancer_type\n",
       "pancreatic-adeno    195\n",
       "lung-adeno          188\n",
       "colon-adeno         165\n",
       "glioblastoma        152\n",
       "renal-clear-cell    127\n",
       "Name: count, dtype: int64"
      ]
     },
     "execution_count": 32,
     "metadata": {},
     "output_type": "execute_result"
    }
   ],
   "source": [
    "cl_con.Cancer_type.value_counts()"
   ]
  },
  {
   "cell_type": "code",
   "execution_count": 5,
   "id": "6edf7b4d-4619-4a90-9056-a6e79b78ac01",
   "metadata": {},
   "outputs": [],
   "source": [
    "hc = sorted(glob.glob('../data/r7/*H*'))"
   ]
  },
  {
   "cell_type": "code",
   "execution_count": 6,
   "id": "94799183-2521-42c7-a2ed-29cd1f42b9d8",
   "metadata": {},
   "outputs": [
    {
     "data": {
      "text/plain": [
       "['../data/r7/colon-nos-adeno_transcriptomics_HCMI+CPTAC.tsv',\n",
       " '../data/r7/pancreatic-nos-ductal-ad_transcriptomics_HCMI+CPTAC.tsv']"
      ]
     },
     "execution_count": 6,
     "metadata": {},
     "output_type": "execute_result"
    }
   ],
   "source": [
    "hc"
   ]
  },
  {
   "cell_type": "code",
   "execution_count": 7,
   "id": "8557e0fd-afb6-4e71-a17e-19bf80f02a94",
   "metadata": {},
   "outputs": [],
   "source": [
    "hc_con = pd.DataFrame()\n",
    "for fl in hc:\n",
    "    df = pd.read_csv(fl, sep = '\\t', index_col = 0)\n",
    "    hc_con = pd.concat([df, hc_con])"
   ]
  },
  {
   "cell_type": "code",
   "execution_count": 26,
   "id": "011c445c-bdea-4900-9429-e5ece40f636f",
   "metadata": {},
   "outputs": [],
   "source": [
    "hc_con.to_csv('../data/r7/HCMI+CPTAC.tsv', sep = '\\t')"
   ]
  },
  {
   "cell_type": "code",
   "execution_count": 9,
   "id": "65e6c71b-40fb-4859-b9b5-ce64f87efbed",
   "metadata": {},
   "outputs": [
    {
     "data": {
      "text/plain": [
       "System\n",
       "cptac    245\n",
       "hcmi      87\n",
       "Name: count, dtype: int64"
      ]
     },
     "execution_count": 9,
     "metadata": {},
     "output_type": "execute_result"
    }
   ],
   "source": [
    "hc_con.System.value_counts()"
   ]
  },
  {
   "cell_type": "code",
   "execution_count": 10,
   "id": "77e06ab6-2a25-4236-a920-20a3a3373dcd",
   "metadata": {},
   "outputs": [
    {
     "data": {
      "text/plain": [
       "Cancer_type\n",
       "pancreatic-nos-ductal-ad    181\n",
       "colon-nos-adeno             151\n",
       "Name: count, dtype: int64"
      ]
     },
     "execution_count": 10,
     "metadata": {},
     "output_type": "execute_result"
    }
   ],
   "source": [
    "hc_con.Cancer_type.value_counts()"
   ]
  },
  {
   "cell_type": "code",
   "execution_count": 11,
   "id": "b16abd9f-d309-4d20-8221-5278c72aad3a",
   "metadata": {},
   "outputs": [],
   "source": [
    "hc_con_cp = hc_con[hc_con.System == 'cptac']\n",
    "hc_con_hc = hc_con[hc_con.System == 'hcmi']"
   ]
  },
  {
   "cell_type": "code",
   "execution_count": 40,
   "id": "02ae56bd-be01-4459-aa87-c00771696f60",
   "metadata": {},
   "outputs": [
    {
     "name": "stdout",
     "output_type": "stream",
     "text": [
      "0\n",
      "HCMI+CPTAC\n",
      "nc2\n",
      "hcmi\n",
      "cptac\n",
      "87\n",
      "245\n",
      " \n",
      "1\n",
      "cell-line+CPTAC\n",
      "nc5\n",
      "cell-line\n",
      "cptac\n",
      "261\n",
      "566\n",
      " \n"
     ]
    }
   ],
   "source": [
    "r = 'r72'\n",
    "sys_lst = ['HCMI+CPTAC', 'cell-line+CPTAC']\n",
    "c_lst = ['nc2', 'nc5']\n",
    "modality = 'transcriptomics'\n",
    "\n",
    "for ii, i in enumerate([hc_con, cl_con]):\n",
    "    print(ii)\n",
    "    print(sys_lst[ii])\n",
    "    print(c_lst[ii])\n",
    "\n",
    "    # print(i)\n",
    "    ab = i\n",
    "    \n",
    "    system_labels = ab.System.unique()\n",
    "    print(system_labels[0])\n",
    "    print(system_labels[1])\n",
    "    # break\n",
    "    src_ref = 'src'\n",
    "\n",
    "    a = ab[ab.System == system_labels[0]].copy()\n",
    "    a.drop(columns = ['System'], inplace = True)\n",
    "    a.drop(columns = ['Cancer_type'], inplace = True)\n",
    "    print(len(a))\n",
    "    a = a.T\n",
    "    # break\n",
    "    a.to_csv(\n",
    "              'mbatch/bk_mbatch/data/'+r+'_splt_in/'+\n",
    "              c_list[ii]+'_'+sys_lst[ii]+'_'+modality+'_'+src_ref+'.tsv',\n",
    "              sep = '\\t')\n",
    "    \n",
    "    src_ref = 'ref'\n",
    "\n",
    "    b = ab[ab.System == system_labels[1]].copy()\n",
    "    b.drop(columns = ['System'], inplace = True)\n",
    "    b.drop(columns = ['Cancer_type'], inplace = True)\n",
    "    print(len(b))\n",
    "    b = b.T\n",
    "    b.to_csv(\n",
    "              'mbatch/bk_mbatch/data/'+r+'_splt_in/'+\n",
    "              c_list[ii]+'_'+sys_lst[ii]+'_'+modality+'_'+src_ref+'.tsv',\n",
    "              sep = '\\t')\n",
    "    print(' ')"
   ]
  },
  {
   "cell_type": "code",
   "execution_count": 45,
   "id": "d74502f2-d48d-4200-b967-1753c34488d4",
   "metadata": {},
   "outputs": [
    {
     "name": "stdout",
     "output_type": "stream",
     "text": [
      "nc2_HCMI+CPTAC_transcriptomics_ref.tsv\n",
      "nc2_HCMI+CPTAC_transcriptomics_src.tsv\n",
      "nc5_cell-line+CPTAC_transcriptomics_ref.tsv\n",
      "nc5_cell-line+CPTAC_transcriptomics_src.tsv\n"
     ]
    }
   ],
   "source": [
    "ls mbatch/bk_mbatch/data/r72_splt_in/"
   ]
  },
  {
   "cell_type": "code",
   "execution_count": null,
   "id": "7381b64e-a076-42d3-81fd-97ba0af9a7aa",
   "metadata": {},
   "outputs": [],
   "source": [
    "# ^ to R script 72"
   ]
  },
  {
   "cell_type": "code",
   "execution_count": 46,
   "id": "0cd09ab1-ebfd-4639-8993-b56ced3f70c4",
   "metadata": {},
   "outputs": [
    {
     "data": {
      "text/plain": [
       "['mbatch/bk_mbatch/data/mbatch_r72/correctedResults_src_v0hccpnc2.tsv',\n",
       " 'mbatch/bk_mbatch/data/mbatch_r72/correctedResults_src_v1clcpnc5.tsv']"
      ]
     },
     "execution_count": 46,
     "metadata": {},
     "output_type": "execute_result"
    }
   ],
   "source": [
    "mb_n = sorted(glob.glob(\n",
    "    'mbatch/bk_mbatch/data/mbatch_'+r+'/correctedResults_src_*.tsv'))\n",
    "mb_n"
   ]
  },
  {
   "cell_type": "code",
   "execution_count": 47,
   "id": "ad9c2a09-9e01-47d8-b5b4-d6fbdd10a1f3",
   "metadata": {},
   "outputs": [],
   "source": [
    "name_list = ['nc2_transcriptomics_HCMI+CPTAC',\n",
    "             'nc5_transcriptomics_cell-line+CPTAC']"
   ]
  },
  {
   "cell_type": "code",
   "execution_count": 49,
   "id": "648f73ed-5470-43f0-801d-4c46ccb1d13f",
   "metadata": {},
   "outputs": [
    {
     "name": "stdout",
     "output_type": "stream",
     "text": [
      "mbatch/bk_mbatch/data/mbatch_r72/correctedResults_src_v0hccpnc2.tsv\n",
      "mbatch/bk_mbatch/data/mbatch_r72/correctedResults_src_v1clcpnc5.tsv\n"
     ]
    }
   ],
   "source": [
    "# r72 rebuild\n",
    "for i, pth in enumerate(mb_n):\n",
    "    print(pth)\n",
    "    dot_T = pd.read_csv(\n",
    "        pth,\n",
    "        sep = '\\t', index_col = 0)\n",
    "\n",
    "    # strctrd_dot_T\n",
    "    df = dot_T.T\n",
    "\n",
    "    df.insert(0, 'Cancer_type', name_list[i].split('_')[0]) # <- pull c name placeholder\n",
    "\n",
    "    # Insertion poiont for cancer type by index from input to MBatch\n",
    "\n",
    "    src_df = df[df.index.str.endswith(\".src\")]\n",
    "    ref_df = df[df.index.str.endswith(\".ref\")]\n",
    "    # break\n",
    "    src_df.insert(0, 'System', name_list[i].split('_')[2].split('+')[0])\n",
    "\n",
    "    ref_df.insert(0, 'System', name_list[i].split('_')[2].split('+')[1])\n",
    "\n",
    "    mb = pd.concat([src_df, ref_df], axis = 0)\n",
    "    # break\n",
    "    mb.to_csv(\n",
    "        '../results/'+r+'/mbatch/'+name_list[i]+'.tsv',\n",
    "        sep = '\\t')\n",
    "\n",
    "    # ^ files overwritten with steps below\n",
    "    # original writes used in ___chk reads below moved to ncn folder\n",
    "    \n",
    "    # break"
   ]
  },
  {
   "cell_type": "code",
   "execution_count": 52,
   "id": "6f59e528-7417-4bd9-a8b2-afcd8d2cc9b7",
   "metadata": {},
   "outputs": [
    {
     "name": "stdout",
     "output_type": "stream",
     "text": [
      "../results/r72/mbatch/nc2_transcriptomics_HCMI+CPTAC.tsv\n",
      "../results/r72/mbatch/nc5_transcriptomics_cell-line+CPTAC.tsv\n"
     ]
    }
   ],
   "source": [
    "ls ../results/r72/mbatch/*.tsv"
   ]
  },
  {
   "cell_type": "markdown",
   "id": "54f3f3e3-a851-4a3b-991e-f17eca1fdeb1",
   "metadata": {},
   "source": [
    "#### Insert cancer labels"
   ]
  },
  {
   "cell_type": "code",
   "execution_count": null,
   "id": "12e97b48-e12d-4732-bb89-bdcdc00c7bc8",
   "metadata": {},
   "outputs": [],
   "source": [
    "# remove .src, .ref from the MBatch output\n",
    "# name the index\n",
    "# read in the input concats and map cncr lbls"
   ]
  },
  {
   "cell_type": "code",
   "execution_count": 23,
   "id": "b3cf072d-b13c-4fb9-9540-f2f5805819c1",
   "metadata": {},
   "outputs": [],
   "source": [
    "hc_chk = pd.read_csv(\n",
    "    '../results/r72/mbatch/nc2_transcriptomics_HCMI+CPTAC.tsv',\n",
    "    sep = '\\t', index_col = 0)"
   ]
  },
  {
   "cell_type": "code",
   "execution_count": 25,
   "id": "bd63c8db-516e-479d-b1ce-523796cdf11c",
   "metadata": {},
   "outputs": [],
   "source": [
    "# MBatch index value appendage strip and rename\n",
    "def g(df):\n",
    "    df.index = df.index.str.rstrip('.src|.ref')\n",
    "    df.index = df.index.str.strip()  # Remove any leading/trailing spaces\n",
    "    df.index.name = 'improve_sample_id'  # Set the new index name\n",
    "    return df"
   ]
  },
  {
   "cell_type": "code",
   "execution_count": 27,
   "id": "53175cc2-b11b-4784-9c16-aa0500abd634",
   "metadata": {},
   "outputs": [
    {
     "data": {
      "text/html": [
       "<div>\n",
       "<style scoped>\n",
       "    .dataframe tbody tr th:only-of-type {\n",
       "        vertical-align: middle;\n",
       "    }\n",
       "\n",
       "    .dataframe tbody tr th {\n",
       "        vertical-align: top;\n",
       "    }\n",
       "\n",
       "    .dataframe thead th {\n",
       "        text-align: right;\n",
       "    }\n",
       "</style>\n",
       "<table border=\"1\" class=\"dataframe\">\n",
       "  <thead>\n",
       "    <tr style=\"text-align: right;\">\n",
       "      <th></th>\n",
       "      <th>System</th>\n",
       "      <th>Cancer_type</th>\n",
       "      <th>entrz_tran_1</th>\n",
       "    </tr>\n",
       "    <tr>\n",
       "      <th>improve_sample_id</th>\n",
       "      <th></th>\n",
       "      <th></th>\n",
       "      <th></th>\n",
       "    </tr>\n",
       "  </thead>\n",
       "  <tbody>\n",
       "    <tr>\n",
       "      <th>smpl_id_3018</th>\n",
       "      <td>HCMI</td>\n",
       "      <td>nc2</td>\n",
       "      <td>3.261224</td>\n",
       "    </tr>\n",
       "    <tr>\n",
       "      <th>smpl_id_3024</th>\n",
       "      <td>HCMI</td>\n",
       "      <td>nc2</td>\n",
       "      <td>15.975891</td>\n",
       "    </tr>\n",
       "  </tbody>\n",
       "</table>\n",
       "</div>"
      ],
      "text/plain": [
       "                  System Cancer_type  entrz_tran_1\n",
       "improve_sample_id                                 \n",
       "smpl_id_3018        HCMI         nc2      3.261224\n",
       "smpl_id_3024        HCMI         nc2     15.975891"
      ]
     },
     "execution_count": 27,
     "metadata": {},
     "output_type": "execute_result"
    }
   ],
   "source": [
    "hc_chk = g(hc_chk)\n",
    "hc_chk.iloc[:2, :3]"
   ]
  },
  {
   "cell_type": "code",
   "execution_count": 9,
   "id": "d94ce157-641a-4180-ace5-4fcb0a0cecbb",
   "metadata": {},
   "outputs": [],
   "source": [
    "hc_con = pd.read_csv(\n",
    "    '../data/r7/HCMI+CPTAC.tsv', sep = '\\t', index_col = 0)"
   ]
  },
  {
   "cell_type": "code",
   "execution_count": 28,
   "id": "0096e893-a39f-4baf-8580-5ae4f561e725",
   "metadata": {},
   "outputs": [
    {
     "data": {
      "text/html": [
       "<div>\n",
       "<style scoped>\n",
       "    .dataframe tbody tr th:only-of-type {\n",
       "        vertical-align: middle;\n",
       "    }\n",
       "\n",
       "    .dataframe tbody tr th {\n",
       "        vertical-align: top;\n",
       "    }\n",
       "\n",
       "    .dataframe thead th {\n",
       "        text-align: right;\n",
       "    }\n",
       "</style>\n",
       "<table border=\"1\" class=\"dataframe\">\n",
       "  <thead>\n",
       "    <tr style=\"text-align: right;\">\n",
       "      <th></th>\n",
       "      <th>System</th>\n",
       "      <th>Cancer_type</th>\n",
       "      <th>entrz_tran_1</th>\n",
       "    </tr>\n",
       "    <tr>\n",
       "      <th>improve_sample_id</th>\n",
       "      <th></th>\n",
       "      <th></th>\n",
       "      <th></th>\n",
       "    </tr>\n",
       "  </thead>\n",
       "  <tbody>\n",
       "    <tr>\n",
       "      <th>smpl_id_3036</th>\n",
       "      <td>hcmi</td>\n",
       "      <td>pancreatic-nos-ductal-ad</td>\n",
       "      <td>0.0898</td>\n",
       "    </tr>\n",
       "    <tr>\n",
       "      <th>smpl_id_3075</th>\n",
       "      <td>hcmi</td>\n",
       "      <td>pancreatic-nos-ductal-ad</td>\n",
       "      <td>0.0235</td>\n",
       "    </tr>\n",
       "  </tbody>\n",
       "</table>\n",
       "</div>"
      ],
      "text/plain": [
       "                  System               Cancer_type  entrz_tran_1\n",
       "improve_sample_id                                               \n",
       "smpl_id_3036        hcmi  pancreatic-nos-ductal-ad        0.0898\n",
       "smpl_id_3075        hcmi  pancreatic-nos-ductal-ad        0.0235"
      ]
     },
     "execution_count": 28,
     "metadata": {},
     "output_type": "execute_result"
    }
   ],
   "source": [
    "hc_con.iloc[:2, :3]"
   ]
  },
  {
   "cell_type": "code",
   "execution_count": 32,
   "id": "057d8acd-86eb-40da-a063-337f55d22d40",
   "metadata": {},
   "outputs": [
    {
     "data": {
      "text/plain": [
       "False"
      ]
     },
     "execution_count": 32,
     "metadata": {},
     "output_type": "execute_result"
    }
   ],
   "source": [
    "hc_chk.index.equals(hc_con.index)  "
   ]
  },
  {
   "cell_type": "code",
   "execution_count": 33,
   "id": "5e0a2d1d-8bca-41a3-811f-816f236254b5",
   "metadata": {},
   "outputs": [
    {
     "data": {
      "text/plain": [
       "True"
      ]
     },
     "execution_count": 33,
     "metadata": {},
     "output_type": "execute_result"
    }
   ],
   "source": [
    "set(hc_chk.index) == set(hc_con.index)"
   ]
  },
  {
   "cell_type": "code",
   "execution_count": 40,
   "id": "91516c8e-cd0d-467d-84ca-0a97c02f15c6",
   "metadata": {},
   "outputs": [],
   "source": [
    "hc_chk['Cancer_type'] = hc_chk.index.to_series().map(hc_con['Cancer_type'])"
   ]
  },
  {
   "cell_type": "code",
   "execution_count": 46,
   "id": "0b8814b7-a549-425b-90b4-02e2d2db280b",
   "metadata": {},
   "outputs": [],
   "source": [
    "hc_chk = hc_chk.sort_index()\n",
    "hc_con = hc_con.sort_index()"
   ]
  },
  {
   "cell_type": "code",
   "execution_count": 47,
   "id": "7981e156-fb6c-486f-b256-1e88498fd642",
   "metadata": {},
   "outputs": [
    {
     "data": {
      "text/plain": [
       "True"
      ]
     },
     "execution_count": 47,
     "metadata": {},
     "output_type": "execute_result"
    }
   ],
   "source": [
    "(hc_chk['Cancer_type'] == hc_con['Cancer_type']).all()"
   ]
  },
  {
   "cell_type": "code",
   "execution_count": null,
   "id": "20718e5a-b98f-416f-b845-9fa29a2105db",
   "metadata": {},
   "outputs": [],
   "source": [
    "hc_chk"
   ]
  },
  {
   "cell_type": "code",
   "execution_count": null,
   "id": "d5a9fb9f-b312-4c7f-a4c5-a66ab4250389",
   "metadata": {},
   "outputs": [],
   "source": [
    "hc_con"
   ]
  },
  {
   "cell_type": "code",
   "execution_count": 50,
   "id": "c5c8f9c5-595d-4f42-b6b2-ce28b901cf05",
   "metadata": {},
   "outputs": [
    {
     "data": {
      "text/plain": [
       "Cancer_type\n",
       "pancreatic-nos-ductal-ad    181\n",
       "colon-nos-adeno             151\n",
       "Name: count, dtype: int64"
      ]
     },
     "execution_count": 50,
     "metadata": {},
     "output_type": "execute_result"
    }
   ],
   "source": [
    "hc_chk.Cancer_type.value_counts()"
   ]
  },
  {
   "cell_type": "code",
   "execution_count": 51,
   "id": "5cc0708b-ddea-40f1-a501-efaed7262e93",
   "metadata": {},
   "outputs": [
    {
     "data": {
      "text/plain": [
       "Cancer_type\n",
       "pancreatic-nos-ductal-ad    181\n",
       "colon-nos-adeno             151\n",
       "Name: count, dtype: int64"
      ]
     },
     "execution_count": 51,
     "metadata": {},
     "output_type": "execute_result"
    }
   ],
   "source": [
    "hc_con.Cancer_type.value_counts()"
   ]
  },
  {
   "cell_type": "code",
   "execution_count": 7,
   "id": "fcae7637-25d9-42fd-866a-4114a72e0e6d",
   "metadata": {},
   "outputs": [],
   "source": [
    "mkdir ../data/r72"
   ]
  },
  {
   "cell_type": "code",
   "execution_count": 54,
   "id": "b6e85eab-faa5-4c0d-b836-a832c6cc6175",
   "metadata": {},
   "outputs": [],
   "source": [
    "hc_con.to_csv('../data/r72/nc2_transcriptomics_HCMI+CPTAC.tsv', sep = '\\t')"
   ]
  },
  {
   "cell_type": "code",
   "execution_count": 58,
   "id": "00554c7b-08c3-47e5-99b8-7979d1372f9e",
   "metadata": {},
   "outputs": [],
   "source": [
    "hc_chk.to_csv(\n",
    "    '../results/r72/mbatch/nc2_transcriptomics_HCMI+CPTAC.tsv',\n",
    "    sep = '\\t')"
   ]
  },
  {
   "cell_type": "markdown",
   "id": "f1a6b53b-a3c4-496e-aad1-918eb07d1896",
   "metadata": {},
   "source": [
    "#### Cell line + CPTAC"
   ]
  },
  {
   "cell_type": "code",
   "execution_count": 29,
   "id": "a39041d8-0009-42d2-bc5c-83f4b67db053",
   "metadata": {},
   "outputs": [
    {
     "name": "stdout",
     "output_type": "stream",
     "text": [
      "(827, 19133)\n"
     ]
    },
    {
     "data": {
      "text/html": [
       "<div>\n",
       "<style scoped>\n",
       "    .dataframe tbody tr th:only-of-type {\n",
       "        vertical-align: middle;\n",
       "    }\n",
       "\n",
       "    .dataframe tbody tr th {\n",
       "        vertical-align: top;\n",
       "    }\n",
       "\n",
       "    .dataframe thead th {\n",
       "        text-align: right;\n",
       "    }\n",
       "</style>\n",
       "<table border=\"1\" class=\"dataframe\">\n",
       "  <thead>\n",
       "    <tr style=\"text-align: right;\">\n",
       "      <th></th>\n",
       "      <th>System</th>\n",
       "      <th>Cancer_type</th>\n",
       "      <th>entrz_tran_1</th>\n",
       "    </tr>\n",
       "  </thead>\n",
       "  <tbody>\n",
       "    <tr>\n",
       "      <th>smpl_id_101.src</th>\n",
       "      <td>cell-line</td>\n",
       "      <td>nc5</td>\n",
       "      <td>14.24824</td>\n",
       "    </tr>\n",
       "    <tr>\n",
       "      <th>smpl_id_1036.src</th>\n",
       "      <td>cell-line</td>\n",
       "      <td>nc5</td>\n",
       "      <td>0.00000</td>\n",
       "    </tr>\n",
       "  </tbody>\n",
       "</table>\n",
       "</div>"
      ],
      "text/plain": [
       "                     System Cancer_type  entrz_tran_1\n",
       "smpl_id_101.src   cell-line         nc5      14.24824\n",
       "smpl_id_1036.src  cell-line         nc5       0.00000"
      ]
     },
     "execution_count": 29,
     "metadata": {},
     "output_type": "execute_result"
    }
   ],
   "source": [
    "cl_chk = pd.read_csv(\n",
    "    '../results/r72/mbatch/nc5_transcriptomics_cell-line+CPTAC.tsv',\n",
    "    sep = '\\t', index_col = 0)\n",
    "print(cl_chk.shape)\n",
    "cl_chk.iloc[:2, :3]"
   ]
  },
  {
   "cell_type": "code",
   "execution_count": 30,
   "id": "4b8c8bc1-67fe-4c3a-bd04-81618b5c4884",
   "metadata": {},
   "outputs": [
    {
     "name": "stdout",
     "output_type": "stream",
     "text": [
      "(827, 19133)\n"
     ]
    },
    {
     "data": {
      "text/html": [
       "<div>\n",
       "<style scoped>\n",
       "    .dataframe tbody tr th:only-of-type {\n",
       "        vertical-align: middle;\n",
       "    }\n",
       "\n",
       "    .dataframe tbody tr th {\n",
       "        vertical-align: top;\n",
       "    }\n",
       "\n",
       "    .dataframe thead th {\n",
       "        text-align: right;\n",
       "    }\n",
       "</style>\n",
       "<table border=\"1\" class=\"dataframe\">\n",
       "  <thead>\n",
       "    <tr style=\"text-align: right;\">\n",
       "      <th></th>\n",
       "      <th>System</th>\n",
       "      <th>Cancer_type</th>\n",
       "      <th>entrz_tran_1</th>\n",
       "    </tr>\n",
       "    <tr>\n",
       "      <th>improve_sample_id</th>\n",
       "      <th></th>\n",
       "      <th></th>\n",
       "      <th></th>\n",
       "    </tr>\n",
       "  </thead>\n",
       "  <tbody>\n",
       "    <tr>\n",
       "      <th>smpl_id_101</th>\n",
       "      <td>cell-line</td>\n",
       "      <td>nc5</td>\n",
       "      <td>14.24824</td>\n",
       "    </tr>\n",
       "    <tr>\n",
       "      <th>smpl_id_1036</th>\n",
       "      <td>cell-line</td>\n",
       "      <td>nc5</td>\n",
       "      <td>0.00000</td>\n",
       "    </tr>\n",
       "  </tbody>\n",
       "</table>\n",
       "</div>"
      ],
      "text/plain": [
       "                      System Cancer_type  entrz_tran_1\n",
       "improve_sample_id                                     \n",
       "smpl_id_101        cell-line         nc5      14.24824\n",
       "smpl_id_1036       cell-line         nc5       0.00000"
      ]
     },
     "execution_count": 30,
     "metadata": {},
     "output_type": "execute_result"
    }
   ],
   "source": [
    "cl_chk = g(cl_chk)\n",
    "print(cl_chk.shape)\n",
    "cl_chk.iloc[:2, :3]"
   ]
  },
  {
   "cell_type": "code",
   "execution_count": 31,
   "id": "266bdd66-46dc-45db-a7d2-6dec7a6ac9b3",
   "metadata": {
    "jupyter": {
     "source_hidden": true
    }
   },
   "outputs": [
    {
     "name": "stdout",
     "output_type": "stream",
     "text": [
      "(827, 19133)\n"
     ]
    },
    {
     "data": {
      "text/html": [
       "<div>\n",
       "<style scoped>\n",
       "    .dataframe tbody tr th:only-of-type {\n",
       "        vertical-align: middle;\n",
       "    }\n",
       "\n",
       "    .dataframe tbody tr th {\n",
       "        vertical-align: top;\n",
       "    }\n",
       "\n",
       "    .dataframe thead th {\n",
       "        text-align: right;\n",
       "    }\n",
       "</style>\n",
       "<table border=\"1\" class=\"dataframe\">\n",
       "  <thead>\n",
       "    <tr style=\"text-align: right;\">\n",
       "      <th></th>\n",
       "      <th>System</th>\n",
       "      <th>Cancer_type</th>\n",
       "      <th>entrz_tran_1</th>\n",
       "    </tr>\n",
       "    <tr>\n",
       "      <th>improve_sample_id</th>\n",
       "      <th></th>\n",
       "      <th></th>\n",
       "      <th></th>\n",
       "    </tr>\n",
       "  </thead>\n",
       "  <tbody>\n",
       "    <tr>\n",
       "      <th>smpl_id_15</th>\n",
       "      <td>cell-line</td>\n",
       "      <td>renal-clear-cell</td>\n",
       "      <td>0.176323</td>\n",
       "    </tr>\n",
       "    <tr>\n",
       "      <th>smpl_id_158</th>\n",
       "      <td>cell-line</td>\n",
       "      <td>renal-clear-cell</td>\n",
       "      <td>0.201634</td>\n",
       "    </tr>\n",
       "  </tbody>\n",
       "</table>\n",
       "</div>"
      ],
      "text/plain": [
       "                      System       Cancer_type  entrz_tran_1\n",
       "improve_sample_id                                           \n",
       "smpl_id_15         cell-line  renal-clear-cell      0.176323\n",
       "smpl_id_158        cell-line  renal-clear-cell      0.201634"
      ]
     },
     "execution_count": 31,
     "metadata": {},
     "output_type": "execute_result"
    }
   ],
   "source": [
    "cl_con = pd.read_csv(\n",
    "    '../data/r7/cell-line+CPTAC.tsv', sep = '\\t', index_col = 0)\n",
    "print(cl_con.shape)\n",
    "cl_con.iloc[:2, :3]"
   ]
  },
  {
   "cell_type": "code",
   "execution_count": 34,
   "id": "c6f8c877-9f75-4695-920e-b8af0fa48702",
   "metadata": {},
   "outputs": [
    {
     "data": {
      "text/plain": [
       "True"
      ]
     },
     "execution_count": 34,
     "metadata": {},
     "output_type": "execute_result"
    }
   ],
   "source": [
    "set(cl_chk.index) == set(cl_con.index)"
   ]
  },
  {
   "cell_type": "code",
   "execution_count": 35,
   "id": "e877e59b-3e55-4950-88b5-936a1e02efcd",
   "metadata": {},
   "outputs": [],
   "source": [
    "cl_chk['Cancer_type'] = cl_chk.index.map(cl_con['Cancer_type'])"
   ]
  },
  {
   "cell_type": "code",
   "execution_count": 44,
   "id": "551141e0-e546-4d8f-b737-fc6cf5edb464",
   "metadata": {},
   "outputs": [],
   "source": [
    "cl_chk = cl_chk.sort_index()\n",
    "cl_con = cl_con.sort_index()"
   ]
  },
  {
   "cell_type": "code",
   "execution_count": 45,
   "id": "c2862682-2865-4613-9893-af384fe24440",
   "metadata": {},
   "outputs": [
    {
     "data": {
      "text/plain": [
       "True"
      ]
     },
     "execution_count": 45,
     "metadata": {},
     "output_type": "execute_result"
    }
   ],
   "source": [
    "cl_chk['Cancer_type'].equals(cl_con['Cancer_type'])"
   ]
  },
  {
   "cell_type": "code",
   "execution_count": 52,
   "id": "66a4477e-156e-4a37-9716-a508ff1c61a2",
   "metadata": {},
   "outputs": [
    {
     "data": {
      "text/plain": [
       "Cancer_type\n",
       "pancreatic-adeno    195\n",
       "lung-adeno          188\n",
       "colon-adeno         165\n",
       "glioblastoma        152\n",
       "renal-clear-cell    127\n",
       "Name: count, dtype: int64"
      ]
     },
     "execution_count": 52,
     "metadata": {},
     "output_type": "execute_result"
    }
   ],
   "source": [
    "cl_chk.Cancer_type.value_counts()"
   ]
  },
  {
   "cell_type": "code",
   "execution_count": 53,
   "id": "d6e3f8c3-fc56-4984-af65-dfb409de0780",
   "metadata": {},
   "outputs": [
    {
     "data": {
      "text/plain": [
       "Cancer_type\n",
       "pancreatic-adeno    195\n",
       "lung-adeno          188\n",
       "colon-adeno         165\n",
       "glioblastoma        152\n",
       "renal-clear-cell    127\n",
       "Name: count, dtype: int64"
      ]
     },
     "execution_count": 53,
     "metadata": {},
     "output_type": "execute_result"
    }
   ],
   "source": [
    "cl_con.Cancer_type.value_counts()"
   ]
  },
  {
   "cell_type": "code",
   "execution_count": 55,
   "id": "8585cc6c-90c0-475e-bfbc-6c1409ed9775",
   "metadata": {},
   "outputs": [],
   "source": [
    "cl_con.to_csv(\n",
    "    '../data/r72/nc5_transcriptomics_cell-line+CPTAC.tsv',\n",
    "    sep = '\\t')"
   ]
  },
  {
   "cell_type": "code",
   "execution_count": 56,
   "id": "8ae4b1ea-70cf-4991-afaa-48e674f80bcc",
   "metadata": {},
   "outputs": [
    {
     "name": "stdout",
     "output_type": "stream",
     "text": [
      "nc2_transcriptomics_HCMI+CPTAC.tsv\n",
      "nc5_transcriptomics_cell-line+CPTAC.tsv\n"
     ]
    }
   ],
   "source": [
    "ls ../data/r72/"
   ]
  },
  {
   "cell_type": "code",
   "execution_count": 59,
   "id": "519259fb-64c2-43df-8998-cc0e1dade3d3",
   "metadata": {},
   "outputs": [],
   "source": [
    "cl_chk.to_csv(\n",
    "    '../results/r72/mbatch/nc5_transcriptomics_cell-line+CPTAC.tsv',\n",
    "    sep = '\\t')"
   ]
  },
  {
   "cell_type": "code",
   "execution_count": 57,
   "id": "4896417e-6f85-4c99-b98f-f9ac6a21b0ae",
   "metadata": {},
   "outputs": [
    {
     "data": {
      "text/html": [
       "<div>\n",
       "<style scoped>\n",
       "    .dataframe tbody tr th:only-of-type {\n",
       "        vertical-align: middle;\n",
       "    }\n",
       "\n",
       "    .dataframe tbody tr th {\n",
       "        vertical-align: top;\n",
       "    }\n",
       "\n",
       "    .dataframe thead th {\n",
       "        text-align: right;\n",
       "    }\n",
       "</style>\n",
       "<table border=\"1\" class=\"dataframe\">\n",
       "  <thead>\n",
       "    <tr style=\"text-align: right;\">\n",
       "      <th></th>\n",
       "      <th>System</th>\n",
       "      <th>Cancer_type</th>\n",
       "      <th>entrz_tran_1</th>\n",
       "    </tr>\n",
       "  </thead>\n",
       "  <tbody>\n",
       "    <tr>\n",
       "      <th>smpl_id_101.src</th>\n",
       "      <td>cell-line</td>\n",
       "      <td>nc5</td>\n",
       "      <td>14.24824</td>\n",
       "    </tr>\n",
       "    <tr>\n",
       "      <th>smpl_id_1036.src</th>\n",
       "      <td>cell-line</td>\n",
       "      <td>nc5</td>\n",
       "      <td>0.00000</td>\n",
       "    </tr>\n",
       "  </tbody>\n",
       "</table>\n",
       "</div>"
      ],
      "text/plain": [
       "                     System Cancer_type  entrz_tran_1\n",
       "smpl_id_101.src   cell-line         nc5      14.24824\n",
       "smpl_id_1036.src  cell-line         nc5       0.00000"
      ]
     },
     "execution_count": 57,
     "metadata": {},
     "output_type": "execute_result"
    }
   ],
   "source": [
    "cl_chk2 = pd.read_csv(\n",
    "    # '../results/r72/mbatch/nc5_transcriptomics_cell-line+CPTAC.tsv',\n",
    "    sep = '\\t', index_col = 0)\n",
    "cl_chk2.iloc[:2, :3]"
   ]
  },
  {
   "cell_type": "markdown",
   "id": "6e13fa53-a4db-414c-a9c3-88a1ac1a0f51",
   "metadata": {},
   "source": [
    "### Single cancer embeddings:"
   ]
  },
  {
   "cell_type": "markdown",
   "id": "84c13d57-48a5-4085-a6e0-01c1d8269d45",
   "metadata": {},
   "source": [
    "#### Split and merge by sys for mbatch"
   ]
  },
  {
   "cell_type": "code",
   "execution_count": 1,
   "id": "32386141-df93-437a-90cc-8cd3216c1c4f",
   "metadata": {},
   "outputs": [
    {
     "name": "stdout",
     "output_type": "stream",
     "text": [
      "Interactive namespace is empty.\n"
     ]
    }
   ],
   "source": [
    "%whos"
   ]
  },
  {
   "cell_type": "code",
   "execution_count": 2,
   "id": "05ff4b51-8b9c-4a51-bd05-e2594b67e5b6",
   "metadata": {},
   "outputs": [],
   "source": [
    "import pandas as pd\n",
    "import glob"
   ]
  },
  {
   "cell_type": "code",
   "execution_count": 3,
   "id": "fe334811-c9f3-4315-b497-f0c2572c9b90",
   "metadata": {},
   "outputs": [
    {
     "name": "stdout",
     "output_type": "stream",
     "text": [
      "\u001b[34minputs\u001b[m\u001b[m/             \u001b[34mmbatch_r4\u001b[m\u001b[m/          \u001b[34moc_splt_in\u001b[m\u001b[m/         \u001b[34mr5_splt_in\u001b[m\u001b[m/\n",
      "\u001b[34mmbatch\u001b[m\u001b[m/             \u001b[34mmbatch_r5\u001b[m\u001b[m/          \u001b[34mone_cncr_lgg\u001b[m\u001b[m/       \u001b[34mr6_splt_in\u001b[m\u001b[m/\n",
      "\u001b[34mmbatch_oc\u001b[m\u001b[m/          \u001b[34mmbatch_r6\u001b[m\u001b[m/          \u001b[34mr4_splt_in\u001b[m\u001b[m/         readme_mb_data.txt\n"
     ]
    }
   ],
   "source": [
    "ls mbatch/bk_mbatch/data/"
   ]
  },
  {
   "cell_type": "code",
   "execution_count": 4,
   "id": "2be970ed-d456-4f5f-9357-c7c6f6520fa5",
   "metadata": {},
   "outputs": [],
   "source": [
    "mkdir mbatch/bk_mbatch/data/r7_splt_in"
   ]
  },
  {
   "cell_type": "code",
   "execution_count": 5,
   "id": "57ef779e-5fa2-4cb5-bab6-05758a9d24a7",
   "metadata": {},
   "outputs": [],
   "source": [
    "mkdir mbatch/bk_mbatch/data/mbatch_r7"
   ]
  },
  {
   "cell_type": "code",
   "execution_count": 6,
   "id": "a281ee45-1ea0-428b-a0aa-bbafa57b6202",
   "metadata": {},
   "outputs": [
    {
     "name": "stdout",
     "output_type": "stream",
     "text": [
      "\u001b[34minputs\u001b[m\u001b[m/             \u001b[34mmbatch_r5\u001b[m\u001b[m/          \u001b[34mone_cncr_lgg\u001b[m\u001b[m/       \u001b[34mr7_splt_in\u001b[m\u001b[m/\n",
      "\u001b[34mmbatch\u001b[m\u001b[m/             \u001b[34mmbatch_r6\u001b[m\u001b[m/          \u001b[34mr4_splt_in\u001b[m\u001b[m/         readme_mb_data.txt\n",
      "\u001b[34mmbatch_oc\u001b[m\u001b[m/          \u001b[34mmbatch_r7\u001b[m\u001b[m/          \u001b[34mr5_splt_in\u001b[m\u001b[m/\n",
      "\u001b[34mmbatch_r4\u001b[m\u001b[m/          \u001b[34moc_splt_in\u001b[m\u001b[m/         \u001b[34mr6_splt_in\u001b[m\u001b[m/\n"
     ]
    }
   ],
   "source": [
    "ls mbatch/bk_mbatch/data/"
   ]
  },
  {
   "cell_type": "code",
   "execution_count": 44,
   "id": "2dbd9dcf-0e6f-4856-befb-a9d2cacfabe5",
   "metadata": {
    "collapsed": true,
    "jupyter": {
     "outputs_hidden": true
    }
   },
   "outputs": [
    {
     "name": "stdout",
     "output_type": "stream",
     "text": [
      "brain_CPTAC_transcriptomics_ref.tsv\n",
      "brain_HCMI_transcriptomics_src.tsv\n",
      "breast-lobular_CPTAC_transcriptomics_ref.tsv\n",
      "breast-lobular_cell_line_transcriptomics_src.tsv\n",
      "breast_CPTAC_transcriptomics_ref.tsv\n",
      "breast_HCMI_transcriptomics_src.tsv\n",
      "colon-adeno_CPTAC_transcriptomics_ref.tsv\n",
      "colon-adeno_cell_line_transcriptomics_src.tsv\n",
      "colon_CPTAC_transcriptomics_ref.tsv\n",
      "colon_HCMI_transcriptomics_src.tsv\n",
      "glioblastoma_CPTAC_transcriptomics_ref.tsv\n",
      "glioblastoma_cell_line_transcriptomics_src.tsv\n",
      "head-neck_CPTAC_transcriptomics_ref.tsv\n",
      "head-neck_cell_line_transcriptomics_src.tsv\n",
      "lung-ad_CPTAC_transcriptomics_ref.tsv\n",
      "lung-ad_HCMI_transcriptomics_src.tsv\n",
      "lung-adeno_CPTAC_transcriptomics_ref.tsv\n",
      "lung-adeno_cell_line_transcriptomics_src.tsv\n",
      "lung-sq_CPTAC_transcriptomics_ref.tsv\n",
      "lung-sq_HCMI_transcriptomics_src.tsv\n",
      "ovarian_CPTAC_transcriptomics_ref.tsv\n",
      "ovarian_HCMI_transcriptomics_src.tsv\n",
      "pancreatic-adeno_CPTAC_transcriptomics_ref.tsv\n",
      "pancreatic-adeno_cell_line_transcriptomics_src.tsv\n",
      "pancreatic_CPTAC_transcriptomics_ref.tsv\n",
      "pancreatic_HCMI_transcriptomics_src.tsv\n",
      "renal-clear-cell_CPTAC_transcriptomics_ref.tsv\n",
      "renal-clear-cell_cell_line_transcriptomics_src.tsv\n"
     ]
    }
   ],
   "source": [
    "ls mbatch/bk_mbatch/data/r6_splt_in/"
   ]
  },
  {
   "cell_type": "code",
   "execution_count": 8,
   "id": "1104fe32-4241-48f5-a18e-5bce203942cb",
   "metadata": {
    "collapsed": true,
    "jupyter": {
     "outputs_hidden": true
    }
   },
   "outputs": [
    {
     "name": "stdout",
     "output_type": "stream",
     "text": [
      "AML_transcriptomics_cell-line+BeatAML.tsv\n",
      "\u001b[34mbreast\u001b[m\u001b[m/\n",
      "colon-adeno_transcriptomics_cell-line+CPTAC.tsv\n",
      "colon-nos-adeno_transcriptomics_HCMI+CPTAC.tsv\n",
      "glioblastoma_transcriptomics_cell-line+CPTAC.tsv\n",
      "lung-adeno_transcriptomics_cell-line+CPTAC.tsv\n",
      "pancreatic-adeno_transcriptomics_cell-line+CPTAC.tsv\n",
      "pancreatic-nos-ductal-ad_transcriptomics_HCMI+CPTAC.tsv\n",
      "renal-clear-cell_transcriptomics_cell-line+CPTAC.tsv\n"
     ]
    }
   ],
   "source": [
    "ls ../data/r7/"
   ]
  },
  {
   "cell_type": "code",
   "execution_count": null,
   "id": "6e304c71-b4ff-45d6-9c02-99caba859271",
   "metadata": {},
   "outputs": [],
   "source": [
    "# Split files from ../data/r7/\n",
    "    # write split files from this notebook to r7_splt_in/\n",
    "    # command line calls on R script from docker container\n",
    "    # send to mkdir mbatch/bk_mbatch/data/mbatch_r7/ from the R script\n",
    "\n",
    "    # checking for negs on front end - AML failed\n",
    "\"\"\"\n",
    "     * Paths are tied to Docker loc *\n",
    "\"\"\""
   ]
  },
  {
   "cell_type": "raw",
   "id": "f59d220c-5c26-4359-8cc7-6a393b413dc5",
   "metadata": {},
   "source": [
    "pwd\n",
    "mdl-sys-bnchmrk/code"
   ]
  },
  {
   "cell_type": "code",
   "execution_count": 11,
   "id": "fee660a0-e5ea-4d1a-89af-9d3ff13fde30",
   "metadata": {},
   "outputs": [],
   "source": [
    "r7_pths = sorted(glob.glob('../data/r7/*.tsv'))"
   ]
  },
  {
   "cell_type": "code",
   "execution_count": 12,
   "id": "7a2130b6-1f26-44b6-8dd4-b26442912699",
   "metadata": {},
   "outputs": [
    {
     "data": {
      "text/plain": [
       "['../data/r7/AML_transcriptomics_cell-line+BeatAML.tsv',\n",
       " '../data/r7/colon-adeno_transcriptomics_cell-line+CPTAC.tsv',\n",
       " '../data/r7/colon-nos-adeno_transcriptomics_HCMI+CPTAC.tsv',\n",
       " '../data/r7/glioblastoma_transcriptomics_cell-line+CPTAC.tsv',\n",
       " '../data/r7/lung-adeno_transcriptomics_cell-line+CPTAC.tsv',\n",
       " '../data/r7/pancreatic-adeno_transcriptomics_cell-line+CPTAC.tsv',\n",
       " '../data/r7/pancreatic-nos-ductal-ad_transcriptomics_HCMI+CPTAC.tsv',\n",
       " '../data/r7/renal-clear-cell_transcriptomics_cell-line+CPTAC.tsv']"
      ]
     },
     "execution_count": 12,
     "metadata": {},
     "output_type": "execute_result"
    }
   ],
   "source": [
    "r7_pths"
   ]
  },
  {
   "cell_type": "code",
   "execution_count": null,
   "id": "30c260df-cc5f-4dc8-adc8-1e51756ca9bb",
   "metadata": {},
   "outputs": [],
   "source": [
    "systems.split('+')[0]"
   ]
  },
  {
   "cell_type": "markdown",
   "id": "838bc397-9318-4b4c-a515-d17f260265a9",
   "metadata": {},
   "source": [
    "##### NMF zeros"
   ]
  },
  {
   "cell_type": "code",
   "execution_count": null,
   "id": "ae464fe3-ef10-4955-a48b-0c49f66205f6",
   "metadata": {},
   "outputs": [],
   "source": [
    "# Duplicate all genes, so apply to columns -> 20K to 40K\n",
    "P1: 4,6,-3,4,-1,4 becomes two rows\n",
    "P1_pos: 4,6,0,4,0,4\n",
    "P2_neg: 0,0,3,0,1,0"
   ]
  },
  {
   "cell_type": "markdown",
   "id": "dca2b373-c807-4b66-bcf3-e926d183de8e",
   "metadata": {},
   "source": [
    "#### r7 production run"
   ]
  },
  {
   "cell_type": "code",
   "execution_count": 13,
   "id": "83e1e6c2-53f0-4ff1-86c3-037d6ddcc30a",
   "metadata": {
    "collapsed": true,
    "jupyter": {
     "outputs_hidden": true,
     "source_hidden": true
    },
    "scrolled": true
   },
   "outputs": [
    {
     "name": "stdout",
     "output_type": "stream",
     "text": [
      "AML_transcriptomics_cell-line+BeatAML.tsv\n",
      "min val  -9.38333119672696\n",
      "neg values\n",
      " \n",
      "colon-adeno_transcriptomics_cell-line+CPTAC.tsv\n",
      "min val  0.0\n",
      "pos vals, spitting to disk r7\n",
      "165\n",
      "cell-line+CPTAC\n",
      "cell-line\n",
      "60\n",
      "cptac\n",
      "105\n",
      " \n",
      "colon-nos-adeno_transcriptomics_HCMI+CPTAC.tsv\n",
      "min val  0.0\n",
      "pos vals, spitting to disk r7\n",
      "151\n",
      "HCMI+CPTAC\n",
      "hcmi\n",
      "46\n",
      "cptac\n",
      "105\n",
      " \n",
      "glioblastoma_transcriptomics_cell-line+CPTAC.tsv\n",
      "min val  0.0\n",
      "pos vals, spitting to disk r7\n",
      "152\n",
      "cell-line+CPTAC\n",
      "cell-line\n",
      "52\n",
      "cptac\n",
      "100\n",
      " \n",
      "lung-adeno_transcriptomics_cell-line+CPTAC.tsv\n",
      "min val  0.0\n",
      "pos vals, spitting to disk r7\n",
      "188\n",
      "cell-line+CPTAC\n",
      "cell-line\n",
      "77\n",
      "cptac\n",
      "111\n",
      " \n",
      "pancreatic-adeno_transcriptomics_cell-line+CPTAC.tsv\n",
      "min val  0.0\n",
      "pos vals, spitting to disk r7\n",
      "195\n",
      "cell-line+CPTAC\n",
      "cell-line\n",
      "55\n",
      "cptac\n",
      "140\n",
      " \n",
      "pancreatic-nos-ductal-ad_transcriptomics_HCMI+CPTAC.tsv\n",
      "min val  0.0\n",
      "pos vals, spitting to disk r7\n",
      "181\n",
      "HCMI+CPTAC\n",
      "hcmi\n",
      "41\n",
      "cptac\n",
      "140\n",
      " \n",
      "renal-clear-cell_transcriptomics_cell-line+CPTAC.tsv\n",
      "min val  0.0\n",
      "pos vals, spitting to disk r7\n",
      "127\n",
      "cell-line+CPTAC\n",
      "cell-line\n",
      "17\n",
      "cptac\n",
      "110\n",
      " \n"
     ]
    }
   ],
   "source": [
    "r = 'r7'\n",
    "value_counts = []\n",
    "for fl_pth in r7_pths:\n",
    "    print(fl_pth.split('/')[-1])\n",
    "    ab = pd.read_csv(\n",
    "        fl_pth,\n",
    "        sep = '\\t', index_col = 0)\n",
    "    print('min val ', ab.iloc[:, 2:].min().min())\n",
    "    if ab.iloc[:, 2:].min().min() < 0:\n",
    "        print('neg values')\n",
    "        print(' ')\n",
    "        continue # to next\n",
    "    print('pos vals, splitting to disk', r)\n",
    "    # print(' ')\n",
    "    print(len(ab))\n",
    "    # break\n",
    "    system_labels = ab.System.unique()\n",
    "    cancer = fl_pth.split('_')[0].split('/')[-1]\n",
    "    modality = fl_pth.split('_')[1].split('/')[-1]\n",
    "    systems = fl_pth.split('_')[-1].split('.')[0]\n",
    "    print(systems)\n",
    "    # break\n",
    "    src_ref = 'src'\n",
    "    sys = system_labels[0] # Automation note:\n",
    "                            # cancer model system pos 0,\n",
    "                            # human project pos 1 - done\n",
    "    print(sys)\n",
    "    a = ab[ab.System == sys].copy()\n",
    "    a.drop(columns = ['System'], inplace = True)\n",
    "    a.drop(columns = ['Cancer_type'], inplace = True)\n",
    "    print(len(a))\n",
    "    a = a.T\n",
    "    # break\n",
    "    a.to_csv(\n",
    "              'mbatch/bk_mbatch/data/'+r+'_splt_in/'+\n",
    "              cancer+'_'+sys+'_'+modality+'_'+src_ref+'.tsv',\n",
    "              sep = '\\t')\n",
    "\n",
    "    src_ref = 'ref'\n",
    "    sys = system_labels[1]\n",
    "    print(sys)\n",
    "    b = ab[ab.System == sys].copy()    # Label datum to file name\n",
    "    b.drop(columns = ['System'], inplace = True)\n",
    "    b.drop(columns = ['Cancer_type'], inplace = True)\n",
    "    print(len(b))\n",
    "    b = b.T\n",
    "    b.to_csv(\n",
    "              'mbatch/bk_mbatch/data/'+r+'_splt_in/'+\n",
    "              cancer+'_'+sys+'_'+modality+'_'+src_ref+'.tsv',\n",
    "              sep = '\\t')\n",
    "    \n",
    "    print(' ')\n",
    "    # break"
   ]
  },
  {
   "cell_type": "code",
   "execution_count": 15,
   "id": "6f1759bf-5355-48c0-92cf-6d2050b09632",
   "metadata": {},
   "outputs": [
    {
     "name": "stdout",
     "output_type": "stream",
     "text": [
      "colon-adeno_cell-line_transcriptomics_src.tsv\n",
      "colon-adeno_cptac_transcriptomics_ref.tsv\n",
      "colon-nos-adeno_cptac_transcriptomics_ref.tsv\n",
      "colon-nos-adeno_hcmi_transcriptomics_src.tsv\n",
      "glioblastoma_cell-line_transcriptomics_src.tsv\n",
      "glioblastoma_cptac_transcriptomics_ref.tsv\n",
      "lung-adeno_cell-line_transcriptomics_src.tsv\n",
      "lung-adeno_cptac_transcriptomics_ref.tsv\n",
      "pancreatic-adeno_cell-line_transcriptomics_src.tsv\n",
      "pancreatic-adeno_cptac_transcriptomics_ref.tsv\n",
      "pancreatic-nos-ductal-ad_cptac_transcriptomics_ref.tsv\n",
      "pancreatic-nos-ductal-ad_hcmi_transcriptomics_src.tsv\n",
      "renal-clear-cell_cell-line_transcriptomics_src.tsv\n",
      "renal-clear-cell_cptac_transcriptomics_ref.tsv\n"
     ]
    }
   ],
   "source": [
    "ls mbatch/bk_mbatch/data/r7_splt_in"
   ]
  },
  {
   "cell_type": "code",
   "execution_count": null,
   "id": "48c81d66-79a6-499a-81f1-e311db484483",
   "metadata": {},
   "outputs": [],
   "source": [
    "# ^ copy this to the R script for copy / paste 14 time for src / ref"
   ]
  },
  {
   "cell_type": "raw",
   "id": "bd617263-de52-4160-8e29-d11d4c4700fd",
   "metadata": {},
   "source": [
    "pwd\n",
    "mdl-sys-bnchmrk/code"
   ]
  },
  {
   "cell_type": "markdown",
   "id": "12f5e82d-446b-4d6a-9667-4567fa88bac2",
   "metadata": {},
   "source": [
    "#### Mbatch out to results/mbatch-out/rn"
   ]
  },
  {
   "cell_type": "code",
   "execution_count": 50,
   "id": "1116e80c-74bf-4d42-8533-bb0f919f58b3",
   "metadata": {},
   "outputs": [
    {
     "data": {
      "text/plain": [
       "'/Users/karlberb/Documents/work/2024/bnch_mrk/mdl-sys-bnchmrk/code'"
      ]
     },
     "execution_count": 50,
     "metadata": {},
     "output_type": "execute_result"
    }
   ],
   "source": [
    "pwd"
   ]
  },
  {
   "cell_type": "code",
   "execution_count": 66,
   "id": "9995433d-c87a-46c9-9f94-7adf22a6f493",
   "metadata": {
    "collapsed": true,
    "jupyter": {
     "outputs_hidden": true
    },
    "scrolled": true
   },
   "outputs": [
    {
     "name": "stdout",
     "output_type": "stream",
     "text": [
      "\u001b[34mEBNPlus_TrainAndValidateReplicates_Structures\u001b[m\u001b[m/\n",
      "correctedResults_src_v00.tsv\n",
      "correctedResults_src_v01.tsv\n",
      "correctedResults_src_v02.tsv\n",
      "correctedResults_src_v03.tsv\n",
      "correctedResults_src_v04.tsv\n",
      "correctedResults_src_v05.tsv\n",
      "correctedResults_src_v06.tsv\n",
      "correctedResults_src_v07.tsv\n",
      "correctedResults_src_v08.tsv\n",
      "correctedResults_src_v09.tsv\n",
      "correctedResults_src_v10.tsv\n",
      "correctedResults_src_v11.tsv\n",
      "correctedResults_src_v12.tsv\n",
      "correctedResults_src_v13.tsv\n",
      "input_ref_v00.tsv\n",
      "input_ref_v01.tsv\n",
      "input_ref_v02.tsv\n",
      "input_ref_v03.tsv\n",
      "input_ref_v04.tsv\n",
      "input_ref_v05.tsv\n",
      "input_ref_v06.tsv\n",
      "input_ref_v07.tsv\n",
      "input_ref_v08.tsv\n",
      "input_ref_v09.tsv\n",
      "input_ref_v10.tsv\n",
      "input_ref_v11.tsv\n",
      "input_ref_v12.tsv\n",
      "input_ref_v13.tsv\n",
      "input_src_v00.tsv\n",
      "input_src_v01.tsv\n",
      "input_src_v02.tsv\n",
      "input_src_v03.tsv\n",
      "input_src_v04.tsv\n",
      "input_src_v05.tsv\n",
      "input_src_v06.tsv\n",
      "input_src_v07.tsv\n",
      "input_src_v08.tsv\n",
      "input_src_v09.tsv\n",
      "input_src_v10.tsv\n",
      "input_src_v11.tsv\n",
      "input_src_v12.tsv\n",
      "input_src_v13.tsv\n"
     ]
    }
   ],
   "source": [
    "ls mbatch/bk_mbatch/data/mbatch_r6/"
   ]
  },
  {
   "cell_type": "code",
   "execution_count": 45,
   "id": "f7a4a8bc-1efa-483d-8163-4e6a9e1949f7",
   "metadata": {},
   "outputs": [
    {
     "name": "stdout",
     "output_type": "stream",
     "text": [
      "ls: ../results/mbatch-out/r6/r6-fls: No such file or directory\n"
     ]
    }
   ],
   "source": [
    "ls ../results/mbatch-out/r6/r6-fls"
   ]
  },
  {
   "cell_type": "code",
   "execution_count": 47,
   "id": "5001bb45-4441-4477-8ca1-4d5ed90b5319",
   "metadata": {},
   "outputs": [
    {
     "data": {
      "text/plain": [
       "'r6'"
      ]
     },
     "execution_count": 47,
     "metadata": {},
     "output_type": "execute_result"
    }
   ],
   "source": [
    "r"
   ]
  },
  {
   "cell_type": "code",
   "execution_count": 69,
   "id": "58598ea5-0ab0-4579-b005-d8de511bbc76",
   "metadata": {},
   "outputs": [],
   "source": [
    "mb_n = sorted(glob.glob(\n",
    "    'mbatch/bk_mbatch/data/mbatch_'+r+'/correctedResults_src_*.tsv'))\n",
    "mb_n"
   ]
  },
  {
   "cell_type": "code",
   "execution_count": 71,
   "id": "ddcb1279-cf6d-4e0c-ac35-6aad873a9b65",
   "metadata": {
    "collapsed": true,
    "jupyter": {
     "outputs_hidden": true
    }
   },
   "outputs": [
    {
     "data": {
      "text/plain": [
       "['mbatch/bk_mbatch/data/mbatch_r6/correctedResults_src_v00.tsv',\n",
       " 'mbatch/bk_mbatch/data/mbatch_r6/correctedResults_src_v01.tsv',\n",
       " 'mbatch/bk_mbatch/data/mbatch_r6/correctedResults_src_v02.tsv',\n",
       " 'mbatch/bk_mbatch/data/mbatch_r6/correctedResults_src_v03.tsv',\n",
       " 'mbatch/bk_mbatch/data/mbatch_r6/correctedResults_src_v04.tsv',\n",
       " 'mbatch/bk_mbatch/data/mbatch_r6/correctedResults_src_v05.tsv',\n",
       " 'mbatch/bk_mbatch/data/mbatch_r6/correctedResults_src_v06.tsv',\n",
       " 'mbatch/bk_mbatch/data/mbatch_r6/correctedResults_src_v07.tsv',\n",
       " 'mbatch/bk_mbatch/data/mbatch_r6/correctedResults_src_v08.tsv',\n",
       " 'mbatch/bk_mbatch/data/mbatch_r6/correctedResults_src_v09.tsv',\n",
       " 'mbatch/bk_mbatch/data/mbatch_r6/correctedResults_src_v10.tsv',\n",
       " 'mbatch/bk_mbatch/data/mbatch_r6/correctedResults_src_v11.tsv',\n",
       " 'mbatch/bk_mbatch/data/mbatch_r6/correctedResults_src_v12.tsv',\n",
       " 'mbatch/bk_mbatch/data/mbatch_r6/correctedResults_src_v13.tsv']"
      ]
     },
     "execution_count": 71,
     "metadata": {},
     "output_type": "execute_result"
    }
   ],
   "source": [
    "mb_n"
   ]
  },
  {
   "cell_type": "code",
   "execution_count": null,
   "id": "2b00a572-b886-4edb-8b3b-87996890ee93",
   "metadata": {},
   "outputs": [],
   "source": [
    "# From R script 5\n",
    "cancer_type = [\n",
    "    'pancreatic',\n",
    "    'ovarian',\n",
    "    'lung-sq',\n",
    "    'lung-ad',\n",
    "    'breast',\n",
    "    'brain',\n",
    "    ]"
   ]
  },
  {
   "cell_type": "code",
   "execution_count": null,
   "id": "38e5e1bd-379a-4354-8d7c-6b817e6fd5f9",
   "metadata": {
    "jupyter": {
     "source_hidden": true
    }
   },
   "outputs": [],
   "source": [
    "moda_type = [\n",
    "    # 'pancreatic',\n",
    "    # 'ovarian',\n",
    "    # 'lung-sq',\n",
    "    # 'lung-ad',\n",
    "    # 'breast',\n",
    "    # 'brain',\n",
    "    ]"
   ]
  },
  {
   "cell_type": "code",
   "execution_count": null,
   "id": "a9d8a667-1bf6-4849-a23f-7bce06c0920c",
   "metadata": {},
   "outputs": [],
   "source": [
    "sys_type = [\n",
    "    'HCMI+CPTAC',\n",
    "    'HCMI+CPTAC',\n",
    "    'lung-sq',\n",
    "    'lung-ad',\n",
    "    'breast',\n",
    "    'brain',\n",
    "    ]"
   ]
  },
  {
   "cell_type": "markdown",
   "id": "f48a36f9-bdee-490f-b601-10e7b2b458fc",
   "metadata": {},
   "source": [
    "#### r6 name list"
   ]
  },
  {
   "cell_type": "code",
   "execution_count": 74,
   "id": "7fd338d6-df31-43c1-9f2d-c9260c7c4b7b",
   "metadata": {},
   "outputs": [],
   "source": [
    "name_list = ['brain_transcriptomics_HCMI+CPTAC',\n",
    "            'breast-lobular_transcriptomics_cell-line+CPTAC',\n",
    "            'breast_transcriptomics_HCMI+CPTAC',\n",
    "            'colon-adeno_transcriptomics_cell-line+CPTAC',\n",
    "            'colon_transcriptomics_HCMI+CPTAC',\n",
    "            'glioblastoma_transcriptomics_cell-line+CPTAC',\n",
    "            'head-neck_transcriptomics_cell-line+CPTAC',\n",
    "            'lung-ad_transcriptomics_HCMI+CPTAC',\n",
    "            'lung-adeno_transcriptomics_cell-line+CPTAC',\n",
    "            'lung-sq_transcriptomics_HCMI+CPTAC',\n",
    "            'ovarian_transcriptomics_HCMI+CPTAC',\n",
    "            'pancreatic-adeno_transcriptomics_cell-line+CPTAC',\n",
    "            'pancreatic_transcriptomics_HCMI+CPTAC',\n",
    "            'renal-clear-cell_transcriptomics_cell-line+CPTAC']"
   ]
  },
  {
   "cell_type": "markdown",
   "id": "c80d6aba-f6ad-4a2f-a890-39e22efdc40c",
   "metadata": {},
   "source": [
    "### r7 rebuild"
   ]
  },
  {
   "cell_type": "code",
   "execution_count": 17,
   "id": "c30750d2-5c11-4709-9f2e-251bd028a9ff",
   "metadata": {},
   "outputs": [
    {
     "data": {
      "text/plain": [
       "['mbatch/bk_mbatch/data/mbatch_r7/correctedResults_src_v0colncell.tsv',\n",
       " 'mbatch/bk_mbatch/data/mbatch_r7/correctedResults_src_v1colnhcmi.tsv',\n",
       " 'mbatch/bk_mbatch/data/mbatch_r7/correctedResults_src_v2gliocell.tsv',\n",
       " 'mbatch/bk_mbatch/data/mbatch_r7/correctedResults_src_v3lungcell.tsv',\n",
       " 'mbatch/bk_mbatch/data/mbatch_r7/correctedResults_src_v4panccell.tsv',\n",
       " 'mbatch/bk_mbatch/data/mbatch_r7/correctedResults_src_v5panchcmi.tsv',\n",
       " 'mbatch/bk_mbatch/data/mbatch_r7/correctedResults_src_v6renlcell.tsv']"
      ]
     },
     "execution_count": 17,
     "metadata": {},
     "output_type": "execute_result"
    }
   ],
   "source": [
    "mb_n = sorted(glob.glob(\n",
    "    'mbatch/bk_mbatch/data/mbatch_'+r+'/correctedResults_src_*.tsv'))\n",
    "mb_n"
   ]
  },
  {
   "cell_type": "code",
   "execution_count": 19,
   "id": "46f57938-4341-4cf3-ad3b-568f9e6f417d",
   "metadata": {},
   "outputs": [],
   "source": [
    "name_list = ['colon-adeno_transcriptomics_cell-line+CPTAC',\n",
    "'colon-nos-adeno_transcriptomics_HCMI+CPTAC',\n",
    "'glioblastoma_transcriptomics_cell-line+CPTAC',\n",
    "'lung-adeno_transcriptomics_cell-line+CPTAC',\n",
    "'pancreatic-adeno_transcriptomics_cell-line+CPTAC',\n",
    "'pancreatic-nos-ductal-ad_transcriptomics_HCMI+CPTAC',\n",
    "'renal-clear-cell_transcriptomics_cell-line+CPTAC',]"
   ]
  },
  {
   "cell_type": "code",
   "execution_count": 20,
   "id": "305fe99f-5328-4314-8f9e-4be245e558ab",
   "metadata": {},
   "outputs": [
    {
     "data": {
      "text/plain": [
       "['colon-adeno_transcriptomics_cell-line+CPTAC',\n",
       " 'colon-nos-adeno_transcriptomics_HCMI+CPTAC',\n",
       " 'glioblastoma_transcriptomics_cell-line+CPTAC',\n",
       " 'lung-adeno_transcriptomics_cell-line+CPTAC',\n",
       " 'pancreatic-adeno_transcriptomics_cell-line+CPTAC',\n",
       " 'pancreatic-nos-ductal-ad_transcriptomics_HCMI+CPTAC',\n",
       " 'renal-clear-cell_transcriptomics_cell-line+CPTAC']"
      ]
     },
     "execution_count": 20,
     "metadata": {},
     "output_type": "execute_result"
    }
   ],
   "source": [
    "name_list"
   ]
  },
  {
   "cell_type": "code",
   "execution_count": 16,
   "id": "8eafe035-28e4-4624-bec9-9e6ed5c52846",
   "metadata": {},
   "outputs": [
    {
     "data": {
      "text/plain": [
       "'r7'"
      ]
     },
     "execution_count": 16,
     "metadata": {},
     "output_type": "execute_result"
    }
   ],
   "source": [
    "r"
   ]
  },
  {
   "cell_type": "code",
   "execution_count": 21,
   "id": "0e471c27-1e01-415d-b133-486432e19ed6",
   "metadata": {},
   "outputs": [
    {
     "name": "stdout",
     "output_type": "stream",
     "text": [
      "mbatch/bk_mbatch/data/mbatch_r7/correctedResults_src_v0colncell.tsv\n",
      "mbatch/bk_mbatch/data/mbatch_r7/correctedResults_src_v1colnhcmi.tsv\n",
      "mbatch/bk_mbatch/data/mbatch_r7/correctedResults_src_v2gliocell.tsv\n",
      "mbatch/bk_mbatch/data/mbatch_r7/correctedResults_src_v3lungcell.tsv\n",
      "mbatch/bk_mbatch/data/mbatch_r7/correctedResults_src_v4panccell.tsv\n",
      "mbatch/bk_mbatch/data/mbatch_r7/correctedResults_src_v5panchcmi.tsv\n",
      "mbatch/bk_mbatch/data/mbatch_r7/correctedResults_src_v6renlcell.tsv\n"
     ]
    }
   ],
   "source": [
    "# r7 rebuild\n",
    "for i, pth in enumerate(mb_n):\n",
    "    print(pth)\n",
    "    dot_T = pd.read_csv(\n",
    "        pth,\n",
    "        sep = '\\t', index_col = 0)\n",
    "\n",
    "    # strctrd_dot_T\n",
    "    df = dot_T.T\n",
    "\n",
    "    df.insert(0, 'Cancer_type', name_list[i].split('_')[0])\n",
    "\n",
    "    src_df = df[df.index.str.endswith(\".src\")]\n",
    "    ref_df = df[df.index.str.endswith(\".ref\")]\n",
    "    # break\n",
    "    src_df.insert(0, 'System', name_list[i].split('_')[2].split('+')[0])\n",
    "\n",
    "    ref_df.insert(0, 'System', name_list[i].split('_')[2].split('+')[1])\n",
    "\n",
    "    mb = pd.concat([src_df, ref_df], axis = 0)\n",
    "    # break\n",
    "    mb.to_csv(\n",
    "        '../results/'+r+'/mbatch/'+name_list[i]+'.tsv',\n",
    "        sep = '\\t')\n",
    "    # break"
   ]
  },
  {
   "cell_type": "code",
   "execution_count": null,
   "id": "500d30a2-7185-4414-a1ed-4df15e928680",
   "metadata": {},
   "outputs": [],
   "source": [
    "mb"
   ]
  },
  {
   "cell_type": "code",
   "execution_count": null,
   "id": "e4b89a00-c1ff-49f5-8e9f-7889aff224cf",
   "metadata": {},
   "outputs": [],
   "source": [
    "# end v7\n",
    "    # show proteomics correction on poster (bar plot?) with aml?\n",
    "    # * remove aml from the ASW calc on the front end"
   ]
  },
  {
   "cell_type": "code",
   "execution_count": null,
   "id": "8e55be7c-3075-401e-a17f-9c5647de6bd6",
   "metadata": {},
   "outputs": [],
   "source": [
    "lst_file_out = '../results/mbatch/one_cncr/files/'+cancer+'_'+modality+'_'+systems+'.tsv'"
   ]
  },
  {
   "cell_type": "code",
   "execution_count": null,
   "id": "56dd4ffc-cf44-4abf-afc7-2846b59dd3b1",
   "metadata": {},
   "outputs": [],
   "source": [
    "chk = pd.read_csv(\n",
    "    lst_file_out,\n",
    "        sep = '\\t', index_col = 0)"
   ]
  },
  {
   "cell_type": "code",
   "execution_count": null,
   "id": "2ffbf703-f3e0-4985-86b4-0f594c30bdb6",
   "metadata": {},
   "outputs": [],
   "source": [
    "chk"
   ]
  },
  {
   "cell_type": "markdown",
   "id": "488150f6-b062-41c5-ae24-09c1a23faf6e",
   "metadata": {},
   "source": [
    "##### devel notes on one cancer return to strctrd frmt:"
   ]
  },
  {
   "cell_type": "code",
   "execution_count": null,
   "id": "8706e441-bee6-4410-b9da-958f4a2dfb3a",
   "metadata": {},
   "outputs": [],
   "source": [
    "for indx in strctrd.index:\n",
    "    print(indx) # observation: mbatch output is sorted alphanum"
   ]
  },
  {
   "cell_type": "code",
   "execution_count": null,
   "id": "3e4ec18b-3f23-4c6e-9bf7-5e14939fb697",
   "metadata": {},
   "outputs": [],
   "source": [
    "ab = glob.glob('../strctrd/one_cncr/'+cancer_type+'*')"
   ]
  },
  {
   "cell_type": "markdown",
   "id": "556fab6a-9632-45ed-9e69-76cf80fe3e4d",
   "metadata": {},
   "source": [
    "#### Two-cancer version"
   ]
  },
  {
   "cell_type": "markdown",
   "id": "5f3cd2e8-4960-4337-8c5d-940c11d8defc",
   "metadata": {},
   "source": [
    "##### read and check"
   ]
  },
  {
   "cell_type": "code",
   "execution_count": null,
   "id": "3039aba9-571f-4ae2-9d28-f28012e0e124",
   "metadata": {},
   "outputs": [],
   "source": [
    "ab = pd.read_csv( # changed to strctrd/one_cncr above\n",
    "    '../output/dbl-cncr/pancreatic-adeno+lung-adeno_transcriptomics_cell-line+CPTAC.tsv',\n",
    "        sep = '\\t', index_col = 0)"
   ]
  },
  {
   "cell_type": "code",
   "execution_count": null,
   "id": "e5406f76-c507-4070-8fc3-30c849050cdc",
   "metadata": {},
   "outputs": [],
   "source": [
    "# mbatch takes non-negative numbers\n",
    "ab.iloc[:, 2:].min().min()"
   ]
  },
  {
   "cell_type": "code",
   "execution_count": null,
   "id": "c1a36b0d-342e-4e19-88eb-545516ac2da7",
   "metadata": {},
   "outputs": [],
   "source": [
    "ab.System.value_counts()"
   ]
  },
  {
   "cell_type": "code",
   "execution_count": null,
   "id": "1962bc1b-3d76-456b-b69c-ef5f145cd4a7",
   "metadata": {},
   "outputs": [],
   "source": [
    "ab.Cancer_type.value_counts()"
   ]
  },
  {
   "cell_type": "code",
   "execution_count": null,
   "id": "d5c8e0b7-89c5-4440-8c66-566504802465",
   "metadata": {},
   "outputs": [],
   "source": [
    "cancers = 'pancreatic-adeno+lung-adeno'"
   ]
  },
  {
   "cell_type": "code",
   "execution_count": null,
   "id": "1179ab0f-9b5c-4f1b-99d4-ffe7038aa6be",
   "metadata": {},
   "outputs": [],
   "source": [
    "modality = 'transcriptomics'"
   ]
  },
  {
   "cell_type": "markdown",
   "id": "e693bafc-e46b-4fc7-8002-f0412005dcb0",
   "metadata": {},
   "source": [
    "##### Split template, using dep output/ paths"
   ]
  },
  {
   "cell_type": "code",
   "execution_count": null,
   "id": "d7ad4af5-4124-4a18-bdad-45f0636bdc2c",
   "metadata": {},
   "outputs": [],
   "source": [
    "src_ref = 'src'\n",
    "sys = 'cell_line'\n",
    "cl = ab[ab.System == 'cell_line'].copy()\n",
    "cl.drop(columns = ['System'], inplace = True)\n",
    "cl.drop(columns = ['Cancer_type'], inplace = True)\n",
    "cl = cl.T\n",
    "cl.to_csv(\n",
    "    'mbatch/bk_mbatch/data/inputs/'+sys+'_'+cancer+'_'+modality+'_'+src_ref+'.tsv',\n",
    "    sep = '\\t')"
   ]
  },
  {
   "cell_type": "code",
   "execution_count": null,
   "id": "ff46bc09-0f34-41b1-be0b-c435e29b31f8",
   "metadata": {},
   "outputs": [],
   "source": [
    "cl_transposed_read_test = pd.read_csv(\n",
    "    'mbatch/bk_mbatch/data/inputs/'+sys+'_'+cancer+'_'+modality+'_'+src_ref+'.tsv',\n",
    "        sep = '\\t',\n",
    "        index_col = 0)"
   ]
  },
  {
   "cell_type": "code",
   "execution_count": null,
   "id": "93ea809a-70e4-4e1c-8b4f-6c01ae332336",
   "metadata": {},
   "outputs": [],
   "source": [
    "cl_transposed_read_test"
   ]
  },
  {
   "cell_type": "code",
   "execution_count": null,
   "id": "068dfd25-9300-4491-a37b-84e9aedeb9d2",
   "metadata": {},
   "outputs": [],
   "source": [
    "src_ref = 'ref'\n",
    "sys = 'cptac'\n",
    "cp = ab[ab.System == 'CPTAC'].copy()\n",
    "cp.drop(columns = ['System'], inplace = True)\n",
    "cp.drop(columns = ['Cancer_type'], inplace = True)\n",
    "cp = cp.T\n",
    "cp.to_csv(\n",
    "    'mbatch/bk_mbatch/data/inputs/'+sys+'_'+cancer+'_'+modality+'_'+src_ref+'.tsv',\n",
    "    sep = '\\t')"
   ]
  },
  {
   "cell_type": "code",
   "execution_count": null,
   "id": "5c3e9ee5-7f1d-4c1d-acec-909447c80886",
   "metadata": {},
   "outputs": [],
   "source": [
    "cp_transposed_read_test = pd.read_csv(\n",
    "    'mbatch/bk_mbatch/data/inputs/'+sys+'_'+cancer+'_'+modality+'_'+src_ref+'.tsv',\n",
    "        sep = '\\t',\n",
    "        index_col = 0)\n",
    "cp_transposed_read_test"
   ]
  },
  {
   "cell_type": "code",
   "execution_count": null,
   "id": "72b42ddf-38cc-41b7-9b1f-9e6274f952d1",
   "metadata": {},
   "outputs": [],
   "source": [
    "ab"
   ]
  },
  {
   "cell_type": "code",
   "execution_count": null,
   "id": "e10fa942-b46a-4158-a70e-fcbccf4acce5",
   "metadata": {},
   "outputs": [],
   "source": [
    "ab.System.value_counts()"
   ]
  },
  {
   "cell_type": "markdown",
   "id": "a2f8af40-3c33-4808-b0a8-363b52f95ecf",
   "metadata": {},
   "source": [
    "#### Attach 2 label sets"
   ]
  },
  {
   "cell_type": "raw",
   "id": "c2cc7873-fc79-447d-a920-b8d6415b077a",
   "metadata": {},
   "source": [
    "pwd\n",
    "mdl-sys-bnchmrk/code"
   ]
  },
  {
   "cell_type": "code",
   "execution_count": null,
   "id": "ee0f7538-f34c-41ee-a518-5499b1e255be",
   "metadata": {},
   "outputs": [],
   "source": [
    "ls # this is mbatch_i-o.ipynb"
   ]
  },
  {
   "cell_type": "code",
   "execution_count": null,
   "id": "872382be-f01a-4a23-a3d8-3ce6bf74372d",
   "metadata": {},
   "outputs": [],
   "source": [
    "ls mbatch/bk_mbatch/data/mbatch/"
   ]
  },
  {
   "cell_type": "code",
   "execution_count": null,
   "id": "29fe0545-b449-49f8-80d4-aa05036973da",
   "metadata": {},
   "outputs": [],
   "source": [
    "cd = pd.read_csv(\n",
    "    'mbatch/bk_mbatch/data/mbatch/correctedResults_src_v1.tsv',\n",
    "        sep = '\\t', index_col = 0)"
   ]
  },
  {
   "cell_type": "code",
   "execution_count": null,
   "id": "b5a4af6d-f302-4f48-858f-635ed2ab9ecd",
   "metadata": {},
   "outputs": [],
   "source": [
    "cd"
   ]
  },
  {
   "cell_type": "code",
   "execution_count": null,
   "id": "672f8405-8d9a-4989-8fc6-4bd0132ed7f9",
   "metadata": {},
   "outputs": [],
   "source": [
    "src_df = cd.T[cd.T.index.str.endswith(\".src\")]\n",
    "ref_df = cd.T[cd.T.index.str.endswith(\".ref\")]"
   ]
  },
  {
   "cell_type": "code",
   "execution_count": null,
   "id": "357a858e-64cc-4c7a-b657-6ba63ae31934",
   "metadata": {
    "scrolled": true
   },
   "outputs": [],
   "source": [
    "src_df"
   ]
  },
  {
   "cell_type": "code",
   "execution_count": null,
   "id": "2366878e-d978-4ea0-b00d-5cf300c586ef",
   "metadata": {
    "scrolled": true
   },
   "outputs": [],
   "source": [
    "ref_df"
   ]
  },
  {
   "cell_type": "code",
   "execution_count": null,
   "id": "0c6d7ba4-8539-401c-b92a-e36a628dcdf5",
   "metadata": {},
   "outputs": [],
   "source": [
    "ab_src = ab[ab.System == 'cell_line']\n",
    "ab_ref = ab[ab.System == 'CPTAC']"
   ]
  },
  {
   "cell_type": "code",
   "execution_count": null,
   "id": "113e60e7-3bfb-4d2a-8f73-006f7adf1d32",
   "metadata": {},
   "outputs": [],
   "source": [
    "ab_src"
   ]
  },
  {
   "cell_type": "code",
   "execution_count": null,
   "id": "6b406ca9-74c0-41d1-bb85-2fdcbda53dd2",
   "metadata": {},
   "outputs": [],
   "source": [
    "ab_ref"
   ]
  },
  {
   "cell_type": "code",
   "execution_count": null,
   "id": "bd0eef7c-b524-43d4-a6cd-56ee4fcdac81",
   "metadata": {},
   "outputs": [],
   "source": [
    "src_df.insert(0, 'Cancer_type', list(ab_src.Cancer_type))\n",
    "ref_df.insert(0, 'Cancer_type', list(ab_ref.Cancer_type))"
   ]
  },
  {
   "cell_type": "code",
   "execution_count": null,
   "id": "1bc60d27-69ba-4a03-bee9-7d0a5b06c00c",
   "metadata": {},
   "outputs": [],
   "source": [
    "src_df.insert(0, 'System', 'cell_line')\n",
    "ref_df.insert(0, 'System', 'CPTAC')"
   ]
  },
  {
   "cell_type": "code",
   "execution_count": null,
   "id": "a1c5c730-e0d7-4c0c-a606-4d679e7eeb05",
   "metadata": {},
   "outputs": [],
   "source": [
    "mb_sys = pd.concat([src_df, ref_df], axis = 0)"
   ]
  },
  {
   "cell_type": "code",
   "execution_count": null,
   "id": "08ed2999-bcc1-4ad8-bc90-8d3e96781bd7",
   "metadata": {},
   "outputs": [],
   "source": [
    "mb_sys"
   ]
  },
  {
   "cell_type": "markdown",
   "id": "6e701463-7e4e-44e2-98c7-cd51c96c1f6e",
   "metadata": {},
   "source": [
    "#### Run random forest from front-end on mb_sys"
   ]
  },
  {
   "cell_type": "code",
   "execution_count": null,
   "id": "5c5ff7ce-70c1-4b50-8439-e4dd6b1a48b3",
   "metadata": {},
   "outputs": [],
   "source": [
    "systems = 'cell-line+CPTAC'"
   ]
  },
  {
   "cell_type": "code",
   "execution_count": null,
   "id": "1c97670a-d77e-4be9-8279-934dd9ebd1fd",
   "metadata": {},
   "outputs": [],
   "source": [
    "cancer, modality, systems"
   ]
  },
  {
   "cell_type": "code",
   "execution_count": null,
   "id": "cff9fc86-4f8e-4cc8-92f5-b3bc7ee04873",
   "metadata": {},
   "outputs": [],
   "source": [
    "mb_sys.to_csv(\n",
    "    '../results/mbatch/files/'+cancer+'_'+modality+'_'+systems+'.tsv',\n",
    "    sep = '\\t')"
   ]
  },
  {
   "cell_type": "code",
   "execution_count": null,
   "id": "b0d223bc-20dd-4835-a9b9-8babf6a64a7d",
   "metadata": {},
   "outputs": [],
   "source": [
    "obj_n = pd.read_csv(\n",
    "    '../results/mbatch/files/'+cancer+'_'+modality+'_'+systems+'.tsv',\n",
    "    sep = '\\t', index_col = 0)"
   ]
  },
  {
   "cell_type": "code",
   "execution_count": null,
   "id": "6d72a414-b442-4eab-8ac0-33c9828a9432",
   "metadata": {},
   "outputs": [],
   "source": [
    "del(mb_sys)"
   ]
  },
  {
   "cell_type": "code",
   "execution_count": null,
   "id": "cb176f85-64fd-4f13-8d6c-25c9687b3051",
   "metadata": {},
   "outputs": [],
   "source": [
    "import pandas as pd\n",
    "import glob\n",
    "from sklearn.ensemble import RandomForestClassifier\n",
    "from sklearn.model_selection import train_test_split\n",
    "from sklearn.metrics import f1_score\n",
    "import matplotlib.pyplot as plt\n",
    "import statistics"
   ]
  },
  {
   "cell_type": "code",
   "execution_count": null,
   "id": "38abc0b6-86b7-41dc-bc9b-abd3c5897e8e",
   "metadata": {},
   "outputs": [],
   "source": [
    "obj_n"
   ]
  },
  {
   "cell_type": "markdown",
   "id": "a6ae310c-f6b8-4da3-8f28-cc7ffd1c7994",
   "metadata": {},
   "source": [
    "##### Random forest, for delete"
   ]
  },
  {
   "cell_type": "code",
   "execution_count": null,
   "id": "d0dcd4f7-9cd5-4dd1-8da2-bd77a890eb36",
   "metadata": {},
   "outputs": [],
   "source": [
    "X = obj_n.iloc[:, 2:]\n",
    "y_sys = obj_n.System\n",
    "y_c_typ = obj_n.Cancer_type\n",
    "\n",
    "sys_scores = []\n",
    "c_typ_scores = []\n",
    "\n",
    "for i in list(range(0,9)):\n",
    "    X_train, X_test, y_train, y_test = train_test_split(X, y_sys)\n",
    "    clf = RandomForestClassifier(max_depth=2, random_state=0)\n",
    "    clf.fit(X_train, y_train)\n",
    "    y_pred = clf.predict(X_test)\n",
    "    score = f1_score(y_test, y_pred, average = 'weighted')\n",
    "    sys_scores.append(score)\n",
    "\n",
    "    y_train = y_c_typ[y_c_typ.index.isin(y_train.index)]\n",
    "    y_test = y_c_typ[y_c_typ.index.isin(y_test.index)]\n",
    "    \n",
    "    clf = RandomForestClassifier(max_depth=2, random_state=0)\n",
    "    clf.fit(X_train, y_train)\n",
    "    y_pred = clf.predict(X_test)\n",
    "    score = f1_score(y_test, y_pred, average = 'weighted')\n",
    "    c_typ_scores.append(score)"
   ]
  },
  {
   "cell_type": "code",
   "execution_count": null,
   "id": "d392eed4-b822-4d52-ae58-8a1d668e9bd1",
   "metadata": {},
   "outputs": [],
   "source": [
    "cancers+'_'+modality+'_'+systems"
   ]
  },
  {
   "cell_type": "code",
   "execution_count": null,
   "id": "61ad7c74-e9fd-4db5-bf67-a487586b49b7",
   "metadata": {},
   "outputs": [],
   "source": [
    "file_n = cancers+'_'+modality+'_'+systems"
   ]
  },
  {
   "cell_type": "code",
   "execution_count": null,
   "id": "32d2d0c8-f06c-4432-8b3d-6f866f427b04",
   "metadata": {},
   "outputs": [],
   "source": [
    "sys_mean = statistics.mean(sys_scores)\n",
    "c_typ_mean = statistics.mean(c_typ_scores)\n",
    "\n",
    "sys_err = statistics.stdev(sys_scores)\n",
    "c_typ_err = statistics.stdev(c_typ_scores)\n",
    "\n",
    "fig, ax = plt.subplots()\n",
    "\n",
    "# Create bars\n",
    "bar1 = ax.bar('sys', sys_mean, yerr=sys_err, capsize = 7, label='System')\n",
    "bar2 = ax.bar('c typ', c_typ_mean, yerr=c_typ_err, capsize = 7, label='Cancer type')\n",
    "\n",
    "plt.title(file_n) # automate later\n",
    "plt.xlabel('Cancer Model System')\n",
    "plt.ylabel('F1 score')\n",
    "\n",
    "# Legend\n",
    "ax.legend()\n",
    "plt.savefig('../results/mbatch/figures/'+file_n+'rf_barplot.png')"
   ]
  },
  {
   "cell_type": "code",
   "execution_count": null,
   "id": "cd3905af-f18e-401c-80e2-ec06cc543a99",
   "metadata": {},
   "outputs": [],
   "source": []
  }
 ],
 "metadata": {
  "kernelspec": {
   "display_name": "Python 3 (ipykernel)",
   "language": "python",
   "name": "python3"
  },
  "language_info": {
   "codemirror_mode": {
    "name": "ipython",
    "version": 3
   },
   "file_extension": ".py",
   "mimetype": "text/x-python",
   "name": "python",
   "nbconvert_exporter": "python",
   "pygments_lexer": "ipython3",
   "version": "3.10.8"
  }
 },
 "nbformat": 4,
 "nbformat_minor": 5
}
