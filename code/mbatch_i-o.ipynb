{
 "cells": [
  {
   "cell_type": "markdown",
   "id": "84c13d57-48a5-4085-a6e0-01c1d8269d45",
   "metadata": {},
   "source": [
    "#### Split file for mbatch"
   ]
  },
  {
   "cell_type": "code",
   "execution_count": 5,
   "id": "05ff4b51-8b9c-4a51-bd05-e2594b67e5b6",
   "metadata": {},
   "outputs": [],
   "source": [
    "import pandas as pd"
   ]
  },
  {
   "cell_type": "code",
   "execution_count": 7,
   "id": "3039aba9-571f-4ae2-9d28-f28012e0e124",
   "metadata": {},
   "outputs": [],
   "source": [
    "ab = pd.read_csv(\n",
    "    '../output/dbl-cncr/pancreatic-adeno+lung-adeno_transcriptomics_cell-line+CPTAC.tsv',\n",
    "        sep = '\\t', index_col = 0)"
   ]
  },
  {
   "cell_type": "code",
   "execution_count": 8,
   "id": "e5406f76-c507-4070-8fc3-30c849050cdc",
   "metadata": {},
   "outputs": [
    {
     "data": {
      "text/plain": [
       "0.0"
      ]
     },
     "execution_count": 8,
     "metadata": {},
     "output_type": "execute_result"
    }
   ],
   "source": [
    "# mbatch takes non-negative numbers\n",
    "ab.iloc[:, 2:].min().min()"
   ]
  },
  {
   "cell_type": "code",
   "execution_count": 46,
   "id": "c1a36b0d-342e-4e19-88eb-545516ac2da7",
   "metadata": {},
   "outputs": [
    {
     "data": {
      "text/plain": [
       "System\n",
       "CPTAC        251\n",
       "cell_line    132\n",
       "Name: count, dtype: int64"
      ]
     },
     "execution_count": 46,
     "metadata": {},
     "output_type": "execute_result"
    }
   ],
   "source": [
    "ab.System.value_counts()"
   ]
  },
  {
   "cell_type": "code",
   "execution_count": 47,
   "id": "1962bc1b-3d76-456b-b69c-ef5f145cd4a7",
   "metadata": {},
   "outputs": [
    {
     "data": {
      "text/plain": [
       "Cancer_type\n",
       "pancreatic_adeno    195\n",
       "lung_adeno          188\n",
       "Name: count, dtype: int64"
      ]
     },
     "execution_count": 47,
     "metadata": {},
     "output_type": "execute_result"
    }
   ],
   "source": [
    "ab.Cancer_type.value_counts()"
   ]
  },
  {
   "cell_type": "code",
   "execution_count": 105,
   "id": "d5c8e0b7-89c5-4440-8c66-566504802465",
   "metadata": {},
   "outputs": [],
   "source": [
    "cancers = 'pancreatic-adeno+lung-adeno'"
   ]
  },
  {
   "cell_type": "code",
   "execution_count": 49,
   "id": "1179ab0f-9b5c-4f1b-99d4-ffe7038aa6be",
   "metadata": {},
   "outputs": [],
   "source": [
    "modality = 'transcriptomics'"
   ]
  },
  {
   "cell_type": "raw",
   "id": "8c19a3d9-e2ba-41aa-aaa0-f78edd479813",
   "metadata": {},
   "source": [
    "# input to mbatch\n",
    "bnch_mrk/mdl-sys-bnchmrk/code/mbatch/bk_mbatch/data/inputs"
   ]
  },
  {
   "cell_type": "code",
   "execution_count": 27,
   "id": "d7ad4af5-4124-4a18-bdad-45f0636bdc2c",
   "metadata": {},
   "outputs": [],
   "source": [
    "src_ref = 'src'\n",
    "sys = 'cell_line'\n",
    "cl = ab[ab.System == 'cell_line'].copy()\n",
    "cl.drop(columns = ['System'], inplace = True)\n",
    "cl.drop(columns = ['Cancer_type'], inplace = True)\n",
    "cl = cl.T\n",
    "cl.to_csv(\n",
    "    'mbatch/bk_mbatch/data/inputs/'+sys+'_'+cancer+'_'+modality+'_'+src_ref+'.tsv',\n",
    "    sep = '\\t')"
   ]
  },
  {
   "cell_type": "code",
   "execution_count": 28,
   "id": "ff46bc09-0f34-41b1-be0b-c435e29b31f8",
   "metadata": {},
   "outputs": [],
   "source": [
    "cl_transposed_read_test = pd.read_csv(\n",
    "    'mbatch/bk_mbatch/data/inputs/'+sys+'_'+cancer+'_'+modality+'_'+src_ref+'.tsv',\n",
    "        sep = '\\t',\n",
    "        index_col = 0)"
   ]
  },
  {
   "cell_type": "code",
   "execution_count": null,
   "id": "93ea809a-70e4-4e1c-8b4f-6c01ae332336",
   "metadata": {},
   "outputs": [],
   "source": [
    "cl_transposed_read_test"
   ]
  },
  {
   "cell_type": "code",
   "execution_count": 32,
   "id": "068dfd25-9300-4491-a37b-84e9aedeb9d2",
   "metadata": {},
   "outputs": [],
   "source": [
    "src_ref = 'ref'\n",
    "sys = 'cptac'\n",
    "cp = ab[ab.System == 'CPTAC'].copy()\n",
    "cp.drop(columns = ['System'], inplace = True)\n",
    "cp.drop(columns = ['Cancer_type'], inplace = True)\n",
    "cp = cp.T\n",
    "cp.to_csv(\n",
    "    'mbatch/bk_mbatch/data/inputs/'+sys+'_'+cancer+'_'+modality+'_'+src_ref+'.tsv',\n",
    "    sep = '\\t')"
   ]
  },
  {
   "cell_type": "code",
   "execution_count": null,
   "id": "5c3e9ee5-7f1d-4c1d-acec-909447c80886",
   "metadata": {},
   "outputs": [],
   "source": [
    "cp_transposed_read_test = pd.read_csv(\n",
    "    'mbatch/bk_mbatch/data/inputs/'+sys+'_'+cancer+'_'+modality+'_'+src_ref+'.tsv',\n",
    "        sep = '\\t',\n",
    "        index_col = 0)\n",
    "cp_transposed_read_test"
   ]
  },
  {
   "cell_type": "code",
   "execution_count": null,
   "id": "72b42ddf-38cc-41b7-9b1f-9e6274f952d1",
   "metadata": {},
   "outputs": [],
   "source": [
    "ab"
   ]
  },
  {
   "cell_type": "code",
   "execution_count": 51,
   "id": "e10fa942-b46a-4158-a70e-fcbccf4acce5",
   "metadata": {},
   "outputs": [
    {
     "data": {
      "text/plain": [
       "System\n",
       "CPTAC        251\n",
       "cell_line    132\n",
       "Name: count, dtype: int64"
      ]
     },
     "execution_count": 51,
     "metadata": {},
     "output_type": "execute_result"
    }
   ],
   "source": [
    "ab.System.value_counts()"
   ]
  },
  {
   "cell_type": "markdown",
   "id": "a2f8af40-3c33-4808-b0a8-363b52f95ecf",
   "metadata": {},
   "source": [
    "#### Attach 2 label sets"
   ]
  },
  {
   "cell_type": "raw",
   "id": "c2cc7873-fc79-447d-a920-b8d6415b077a",
   "metadata": {},
   "source": [
    "pwd\n",
    "mdl-sys-bnchmrk/code"
   ]
  },
  {
   "cell_type": "code",
   "execution_count": 52,
   "id": "ee0f7538-f34c-41ee-a518-5499b1e255be",
   "metadata": {},
   "outputs": [
    {
     "name": "stdout",
     "output_type": "stream",
     "text": [
      "dta_ldr.ipynb           mbatch_i-o.ipynb        \u001b[31mschedule_vae_gpu.sh\u001b[m\u001b[m*\n",
      "frnt_end_clf_ump.ipynb  \u001b[34mnb_dvl\u001b[m\u001b[m/                 \u001b[31mvae.py\u001b[m\u001b[m*\n",
      "\u001b[31mjob_scheduler.sh\u001b[m\u001b[m*       \u001b[34mplots\u001b[m\u001b[m/\n",
      "\u001b[34mmbatch\u001b[m\u001b[m/                 \u001b[31mschedule_vae_cpu.sh\u001b[m\u001b[m*\n"
     ]
    }
   ],
   "source": [
    "ls # this is mbatch_i-o.ipynb"
   ]
  },
  {
   "cell_type": "code",
   "execution_count": 53,
   "id": "872382be-f01a-4a23-a3d8-3ce6bf74372d",
   "metadata": {},
   "outputs": [
    {
     "name": "stdout",
     "output_type": "stream",
     "text": [
      "\u001b[34mEBNPlus_TrainAndValidateReplicates_Structures\u001b[m\u001b[m/\n",
      "correctedResults_src_v1.tsv\n",
      "input_ref_v1.tsv\n",
      "input_src_v1.tsv\n"
     ]
    }
   ],
   "source": [
    "ls mbatch/bk_mbatch/data/mbatch/"
   ]
  },
  {
   "cell_type": "code",
   "execution_count": 54,
   "id": "29fe0545-b449-49f8-80d4-aa05036973da",
   "metadata": {},
   "outputs": [],
   "source": [
    "cd = pd.read_csv(\n",
    "    'mbatch/bk_mbatch/data/mbatch/correctedResults_src_v1.tsv',\n",
    "        sep = '\\t', index_col = 0)"
   ]
  },
  {
   "cell_type": "code",
   "execution_count": null,
   "id": "b5a4af6d-f302-4f48-858f-635ed2ab9ecd",
   "metadata": {},
   "outputs": [],
   "source": [
    "cd"
   ]
  },
  {
   "cell_type": "code",
   "execution_count": 75,
   "id": "672f8405-8d9a-4989-8fc6-4bd0132ed7f9",
   "metadata": {},
   "outputs": [],
   "source": [
    "src_df = cd.T[cd.T.index.str.endswith(\".src\")]\n",
    "ref_df = cd.T[cd.T.index.str.endswith(\".ref\")]"
   ]
  },
  {
   "cell_type": "code",
   "execution_count": null,
   "id": "357a858e-64cc-4c7a-b657-6ba63ae31934",
   "metadata": {
    "scrolled": true
   },
   "outputs": [],
   "source": [
    "src_df"
   ]
  },
  {
   "cell_type": "code",
   "execution_count": null,
   "id": "2366878e-d978-4ea0-b00d-5cf300c586ef",
   "metadata": {
    "scrolled": true
   },
   "outputs": [],
   "source": [
    "ref_df"
   ]
  },
  {
   "cell_type": "code",
   "execution_count": 78,
   "id": "0c6d7ba4-8539-401c-b92a-e36a628dcdf5",
   "metadata": {},
   "outputs": [],
   "source": [
    "ab_src = ab[ab.System == 'cell_line']\n",
    "ab_ref = ab[ab.System == 'CPTAC']"
   ]
  },
  {
   "cell_type": "code",
   "execution_count": null,
   "id": "113e60e7-3bfb-4d2a-8f73-006f7adf1d32",
   "metadata": {},
   "outputs": [],
   "source": [
    "ab_src"
   ]
  },
  {
   "cell_type": "code",
   "execution_count": null,
   "id": "6b406ca9-74c0-41d1-bb85-2fdcbda53dd2",
   "metadata": {},
   "outputs": [],
   "source": [
    "ab_ref"
   ]
  },
  {
   "cell_type": "code",
   "execution_count": 84,
   "id": "bd0eef7c-b524-43d4-a6cd-56ee4fcdac81",
   "metadata": {},
   "outputs": [],
   "source": [
    "src_df.insert(0, 'Cancer_type', list(ab_src.Cancer_type))\n",
    "ref_df.insert(0, 'Cancer_type', list(ab_ref.Cancer_type))"
   ]
  },
  {
   "cell_type": "code",
   "execution_count": 85,
   "id": "1bc60d27-69ba-4a03-bee9-7d0a5b06c00c",
   "metadata": {},
   "outputs": [],
   "source": [
    "src_df.insert(0, 'System', 'cell_line')\n",
    "ref_df.insert(0, 'System', 'CPTAC')"
   ]
  },
  {
   "cell_type": "code",
   "execution_count": 86,
   "id": "a1c5c730-e0d7-4c0c-a606-4d679e7eeb05",
   "metadata": {},
   "outputs": [],
   "source": [
    "mb_sys = pd.concat([src_df, ref_df], axis = 0)"
   ]
  },
  {
   "cell_type": "code",
   "execution_count": null,
   "id": "08ed2999-bcc1-4ad8-bc90-8d3e96781bd7",
   "metadata": {},
   "outputs": [],
   "source": [
    "mb_sys"
   ]
  },
  {
   "cell_type": "markdown",
   "id": "6e701463-7e4e-44e2-98c7-cd51c96c1f6e",
   "metadata": {},
   "source": [
    "#### Run random forest from front-end on mb_sys"
   ]
  },
  {
   "cell_type": "code",
   "execution_count": 93,
   "id": "5c5ff7ce-70c1-4b50-8439-e4dd6b1a48b3",
   "metadata": {},
   "outputs": [],
   "source": [
    "systems = 'cell-line+CPTAC'"
   ]
  },
  {
   "cell_type": "code",
   "execution_count": 94,
   "id": "1c97670a-d77e-4be9-8279-934dd9ebd1fd",
   "metadata": {},
   "outputs": [
    {
     "data": {
      "text/plain": [
       "('pancreatic-adeno+lung-adeno', 'transcriptomics', 'cell-line+CPTAC')"
      ]
     },
     "execution_count": 94,
     "metadata": {},
     "output_type": "execute_result"
    }
   ],
   "source": [
    "cancer, modality, systems"
   ]
  },
  {
   "cell_type": "code",
   "execution_count": 95,
   "id": "cff9fc86-4f8e-4cc8-92f5-b3bc7ee04873",
   "metadata": {},
   "outputs": [],
   "source": [
    "mb_sys.to_csv(\n",
    "    '../results/mbatch/files/'+cancer+'_'+modality+'_'+systems+'.tsv',\n",
    "    sep = '\\t')"
   ]
  },
  {
   "cell_type": "code",
   "execution_count": 96,
   "id": "b0d223bc-20dd-4835-a9b9-8babf6a64a7d",
   "metadata": {},
   "outputs": [],
   "source": [
    "obj_n = pd.read_csv(\n",
    "    '../results/mbatch/files/'+cancer+'_'+modality+'_'+systems+'.tsv',\n",
    "    sep = '\\t', index_col = 0)"
   ]
  },
  {
   "cell_type": "code",
   "execution_count": 98,
   "id": "6d72a414-b442-4eab-8ac0-33c9828a9432",
   "metadata": {},
   "outputs": [],
   "source": [
    "del(mb_sys)"
   ]
  },
  {
   "cell_type": "code",
   "execution_count": 100,
   "id": "cb176f85-64fd-4f13-8d6c-25c9687b3051",
   "metadata": {},
   "outputs": [],
   "source": [
    "import pandas as pd\n",
    "import glob\n",
    "from sklearn.ensemble import RandomForestClassifier\n",
    "from sklearn.model_selection import train_test_split\n",
    "from sklearn.metrics import f1_score\n",
    "import matplotlib.pyplot as plt\n",
    "import matplotlib.pyplot as plt\n",
    "import statistics"
   ]
  },
  {
   "cell_type": "code",
   "execution_count": 104,
   "id": "38abc0b6-86b7-41dc-bc9b-abd3c5897e8e",
   "metadata": {},
   "outputs": [
    {
     "data": {
      "text/html": [
       "<div>\n",
       "<style scoped>\n",
       "    .dataframe tbody tr th:only-of-type {\n",
       "        vertical-align: middle;\n",
       "    }\n",
       "\n",
       "    .dataframe tbody tr th {\n",
       "        vertical-align: top;\n",
       "    }\n",
       "\n",
       "    .dataframe thead th {\n",
       "        text-align: right;\n",
       "    }\n",
       "</style>\n",
       "<table border=\"1\" class=\"dataframe\">\n",
       "  <thead>\n",
       "    <tr style=\"text-align: right;\">\n",
       "      <th></th>\n",
       "      <th>System</th>\n",
       "      <th>Cancer_type</th>\n",
       "      <th>entrz_tran_1</th>\n",
       "      <th>entrz_tran_10</th>\n",
       "      <th>entrz_tran_100</th>\n",
       "      <th>entrz_tran_1000</th>\n",
       "      <th>entrz_tran_10000</th>\n",
       "      <th>entrz_tran_10001</th>\n",
       "      <th>entrz_tran_10002</th>\n",
       "      <th>entrz_tran_10003</th>\n",
       "      <th>...</th>\n",
       "      <th>entrz_tran_9987</th>\n",
       "      <th>entrz_tran_9988</th>\n",
       "      <th>entrz_tran_9989</th>\n",
       "      <th>entrz_tran_999</th>\n",
       "      <th>entrz_tran_9990</th>\n",
       "      <th>entrz_tran_9991</th>\n",
       "      <th>entrz_tran_9992</th>\n",
       "      <th>entrz_tran_9993</th>\n",
       "      <th>entrz_tran_9994</th>\n",
       "      <th>entrz_tran_9997</th>\n",
       "    </tr>\n",
       "  </thead>\n",
       "  <tbody>\n",
       "    <tr>\n",
       "      <th>smpl_id_1059.src</th>\n",
       "      <td>cell_line</td>\n",
       "      <td>pancreatic_adeno</td>\n",
       "      <td>0.000000</td>\n",
       "      <td>0.000000</td>\n",
       "      <td>8.428773</td>\n",
       "      <td>0.000000</td>\n",
       "      <td>10.508928</td>\n",
       "      <td>9.545096</td>\n",
       "      <td>4.365030</td>\n",
       "      <td>5.634868</td>\n",
       "      <td>...</td>\n",
       "      <td>13.897711</td>\n",
       "      <td>9.041862</td>\n",
       "      <td>11.737195</td>\n",
       "      <td>15.044714</td>\n",
       "      <td>13.003528</td>\n",
       "      <td>14.045384</td>\n",
       "      <td>0.000000</td>\n",
       "      <td>11.128922</td>\n",
       "      <td>11.281378</td>\n",
       "      <td>8.764360</td>\n",
       "    </tr>\n",
       "    <tr>\n",
       "      <th>smpl_id_106.src</th>\n",
       "      <td>cell_line</td>\n",
       "      <td>pancreatic_adeno</td>\n",
       "      <td>3.002471</td>\n",
       "      <td>2.357975</td>\n",
       "      <td>8.456246</td>\n",
       "      <td>8.887311</td>\n",
       "      <td>21.357082</td>\n",
       "      <td>9.805549</td>\n",
       "      <td>1.772865</td>\n",
       "      <td>7.907552</td>\n",
       "      <td>...</td>\n",
       "      <td>13.246723</td>\n",
       "      <td>9.038039</td>\n",
       "      <td>11.997689</td>\n",
       "      <td>18.829927</td>\n",
       "      <td>11.636760</td>\n",
       "      <td>14.074575</td>\n",
       "      <td>2.044405</td>\n",
       "      <td>12.273810</td>\n",
       "      <td>10.879885</td>\n",
       "      <td>8.953531</td>\n",
       "    </tr>\n",
       "    <tr>\n",
       "      <th>smpl_id_108.src</th>\n",
       "      <td>cell_line</td>\n",
       "      <td>pancreatic_adeno</td>\n",
       "      <td>13.042896</td>\n",
       "      <td>3.958463</td>\n",
       "      <td>7.572169</td>\n",
       "      <td>2.372596</td>\n",
       "      <td>4.529093</td>\n",
       "      <td>10.736176</td>\n",
       "      <td>5.330946</td>\n",
       "      <td>4.659613</td>\n",
       "      <td>...</td>\n",
       "      <td>12.847602</td>\n",
       "      <td>9.981506</td>\n",
       "      <td>13.721504</td>\n",
       "      <td>20.063970</td>\n",
       "      <td>14.411336</td>\n",
       "      <td>14.248902</td>\n",
       "      <td>2.569320</td>\n",
       "      <td>13.708955</td>\n",
       "      <td>11.436215</td>\n",
       "      <td>10.906998</td>\n",
       "    </tr>\n",
       "    <tr>\n",
       "      <th>smpl_id_11.src</th>\n",
       "      <td>cell_line</td>\n",
       "      <td>pancreatic_adeno</td>\n",
       "      <td>10.154071</td>\n",
       "      <td>3.845136</td>\n",
       "      <td>9.037572</td>\n",
       "      <td>8.276126</td>\n",
       "      <td>11.288107</td>\n",
       "      <td>9.875335</td>\n",
       "      <td>4.706958</td>\n",
       "      <td>7.404365</td>\n",
       "      <td>...</td>\n",
       "      <td>13.364835</td>\n",
       "      <td>8.557933</td>\n",
       "      <td>12.445397</td>\n",
       "      <td>19.021951</td>\n",
       "      <td>10.587163</td>\n",
       "      <td>14.250355</td>\n",
       "      <td>2.444056</td>\n",
       "      <td>11.352824</td>\n",
       "      <td>10.189871</td>\n",
       "      <td>11.087634</td>\n",
       "    </tr>\n",
       "    <tr>\n",
       "      <th>smpl_id_113.src</th>\n",
       "      <td>cell_line</td>\n",
       "      <td>pancreatic_adeno</td>\n",
       "      <td>9.554470</td>\n",
       "      <td>2.671732</td>\n",
       "      <td>9.536537</td>\n",
       "      <td>20.531764</td>\n",
       "      <td>19.299877</td>\n",
       "      <td>9.010785</td>\n",
       "      <td>2.103781</td>\n",
       "      <td>19.532407</td>\n",
       "      <td>...</td>\n",
       "      <td>12.742044</td>\n",
       "      <td>9.151514</td>\n",
       "      <td>12.186347</td>\n",
       "      <td>17.788367</td>\n",
       "      <td>13.716108</td>\n",
       "      <td>12.125570</td>\n",
       "      <td>6.786660</td>\n",
       "      <td>12.063572</td>\n",
       "      <td>10.383208</td>\n",
       "      <td>9.393239</td>\n",
       "    </tr>\n",
       "    <tr>\n",
       "      <th>...</th>\n",
       "      <td>...</td>\n",
       "      <td>...</td>\n",
       "      <td>...</td>\n",
       "      <td>...</td>\n",
       "      <td>...</td>\n",
       "      <td>...</td>\n",
       "      <td>...</td>\n",
       "      <td>...</td>\n",
       "      <td>...</td>\n",
       "      <td>...</td>\n",
       "      <td>...</td>\n",
       "      <td>...</td>\n",
       "      <td>...</td>\n",
       "      <td>...</td>\n",
       "      <td>...</td>\n",
       "      <td>...</td>\n",
       "      <td>...</td>\n",
       "      <td>...</td>\n",
       "      <td>...</td>\n",
       "      <td>...</td>\n",
       "      <td>...</td>\n",
       "    </tr>\n",
       "    <tr>\n",
       "      <th>smpl_id_2783.ref</th>\n",
       "      <td>CPTAC</td>\n",
       "      <td>lung_adeno</td>\n",
       "      <td>4.910000</td>\n",
       "      <td>3.240000</td>\n",
       "      <td>7.240000</td>\n",
       "      <td>9.960000</td>\n",
       "      <td>12.190000</td>\n",
       "      <td>9.780000</td>\n",
       "      <td>3.240000</td>\n",
       "      <td>7.450000</td>\n",
       "      <td>...</td>\n",
       "      <td>13.220000</td>\n",
       "      <td>9.300000</td>\n",
       "      <td>12.590000</td>\n",
       "      <td>12.370000</td>\n",
       "      <td>11.000000</td>\n",
       "      <td>12.900000</td>\n",
       "      <td>3.810000</td>\n",
       "      <td>11.350000</td>\n",
       "      <td>10.590000</td>\n",
       "      <td>10.120000</td>\n",
       "    </tr>\n",
       "    <tr>\n",
       "      <th>smpl_id_2784.ref</th>\n",
       "      <td>CPTAC</td>\n",
       "      <td>lung_adeno</td>\n",
       "      <td>4.550000</td>\n",
       "      <td>1.860000</td>\n",
       "      <td>7.650000</td>\n",
       "      <td>9.240000</td>\n",
       "      <td>11.810000</td>\n",
       "      <td>9.720000</td>\n",
       "      <td>3.290000</td>\n",
       "      <td>8.870000</td>\n",
       "      <td>...</td>\n",
       "      <td>13.390000</td>\n",
       "      <td>7.995000</td>\n",
       "      <td>12.760000</td>\n",
       "      <td>13.040000</td>\n",
       "      <td>11.170000</td>\n",
       "      <td>12.880000</td>\n",
       "      <td>2.180000</td>\n",
       "      <td>11.490000</td>\n",
       "      <td>10.490000</td>\n",
       "      <td>10.520000</td>\n",
       "    </tr>\n",
       "    <tr>\n",
       "      <th>smpl_id_2785.ref</th>\n",
       "      <td>CPTAC</td>\n",
       "      <td>lung_adeno</td>\n",
       "      <td>4.930000</td>\n",
       "      <td>1.650000</td>\n",
       "      <td>6.590000</td>\n",
       "      <td>11.030000</td>\n",
       "      <td>11.590000</td>\n",
       "      <td>10.600000</td>\n",
       "      <td>3.550000</td>\n",
       "      <td>8.240000</td>\n",
       "      <td>...</td>\n",
       "      <td>13.680000</td>\n",
       "      <td>9.635000</td>\n",
       "      <td>12.510000</td>\n",
       "      <td>12.990000</td>\n",
       "      <td>12.340000</td>\n",
       "      <td>13.230000</td>\n",
       "      <td>3.000000</td>\n",
       "      <td>11.340000</td>\n",
       "      <td>11.020000</td>\n",
       "      <td>9.875000</td>\n",
       "    </tr>\n",
       "    <tr>\n",
       "      <th>smpl_id_2786.ref</th>\n",
       "      <td>CPTAC</td>\n",
       "      <td>lung_adeno</td>\n",
       "      <td>4.670000</td>\n",
       "      <td>2.050000</td>\n",
       "      <td>8.080000</td>\n",
       "      <td>9.500000</td>\n",
       "      <td>11.510000</td>\n",
       "      <td>9.580000</td>\n",
       "      <td>4.760000</td>\n",
       "      <td>7.350000</td>\n",
       "      <td>...</td>\n",
       "      <td>13.640000</td>\n",
       "      <td>8.720000</td>\n",
       "      <td>14.100000</td>\n",
       "      <td>13.780000</td>\n",
       "      <td>11.110000</td>\n",
       "      <td>13.250000</td>\n",
       "      <td>1.940000</td>\n",
       "      <td>11.810000</td>\n",
       "      <td>10.710000</td>\n",
       "      <td>10.020000</td>\n",
       "    </tr>\n",
       "    <tr>\n",
       "      <th>smpl_id_2787.ref</th>\n",
       "      <td>CPTAC</td>\n",
       "      <td>lung_adeno</td>\n",
       "      <td>5.010000</td>\n",
       "      <td>3.880000</td>\n",
       "      <td>7.150000</td>\n",
       "      <td>6.970000</td>\n",
       "      <td>11.230000</td>\n",
       "      <td>9.690000</td>\n",
       "      <td>3.460000</td>\n",
       "      <td>6.310000</td>\n",
       "      <td>...</td>\n",
       "      <td>12.840000</td>\n",
       "      <td>8.375000</td>\n",
       "      <td>11.350000</td>\n",
       "      <td>13.600000</td>\n",
       "      <td>10.580000</td>\n",
       "      <td>12.840000</td>\n",
       "      <td>3.380000</td>\n",
       "      <td>11.190000</td>\n",
       "      <td>10.650000</td>\n",
       "      <td>8.475000</td>\n",
       "    </tr>\n",
       "  </tbody>\n",
       "</table>\n",
       "<p>383 rows × 19133 columns</p>\n",
       "</div>"
      ],
      "text/plain": [
       "                     System       Cancer_type  entrz_tran_1  entrz_tran_10  \\\n",
       "smpl_id_1059.src  cell_line  pancreatic_adeno      0.000000       0.000000   \n",
       "smpl_id_106.src   cell_line  pancreatic_adeno      3.002471       2.357975   \n",
       "smpl_id_108.src   cell_line  pancreatic_adeno     13.042896       3.958463   \n",
       "smpl_id_11.src    cell_line  pancreatic_adeno     10.154071       3.845136   \n",
       "smpl_id_113.src   cell_line  pancreatic_adeno      9.554470       2.671732   \n",
       "...                     ...               ...           ...            ...   \n",
       "smpl_id_2783.ref      CPTAC        lung_adeno      4.910000       3.240000   \n",
       "smpl_id_2784.ref      CPTAC        lung_adeno      4.550000       1.860000   \n",
       "smpl_id_2785.ref      CPTAC        lung_adeno      4.930000       1.650000   \n",
       "smpl_id_2786.ref      CPTAC        lung_adeno      4.670000       2.050000   \n",
       "smpl_id_2787.ref      CPTAC        lung_adeno      5.010000       3.880000   \n",
       "\n",
       "                  entrz_tran_100  entrz_tran_1000  entrz_tran_10000  \\\n",
       "smpl_id_1059.src        8.428773         0.000000         10.508928   \n",
       "smpl_id_106.src         8.456246         8.887311         21.357082   \n",
       "smpl_id_108.src         7.572169         2.372596          4.529093   \n",
       "smpl_id_11.src          9.037572         8.276126         11.288107   \n",
       "smpl_id_113.src         9.536537        20.531764         19.299877   \n",
       "...                          ...              ...               ...   \n",
       "smpl_id_2783.ref        7.240000         9.960000         12.190000   \n",
       "smpl_id_2784.ref        7.650000         9.240000         11.810000   \n",
       "smpl_id_2785.ref        6.590000        11.030000         11.590000   \n",
       "smpl_id_2786.ref        8.080000         9.500000         11.510000   \n",
       "smpl_id_2787.ref        7.150000         6.970000         11.230000   \n",
       "\n",
       "                  entrz_tran_10001  entrz_tran_10002  entrz_tran_10003  ...  \\\n",
       "smpl_id_1059.src          9.545096          4.365030          5.634868  ...   \n",
       "smpl_id_106.src           9.805549          1.772865          7.907552  ...   \n",
       "smpl_id_108.src          10.736176          5.330946          4.659613  ...   \n",
       "smpl_id_11.src            9.875335          4.706958          7.404365  ...   \n",
       "smpl_id_113.src           9.010785          2.103781         19.532407  ...   \n",
       "...                            ...               ...               ...  ...   \n",
       "smpl_id_2783.ref          9.780000          3.240000          7.450000  ...   \n",
       "smpl_id_2784.ref          9.720000          3.290000          8.870000  ...   \n",
       "smpl_id_2785.ref         10.600000          3.550000          8.240000  ...   \n",
       "smpl_id_2786.ref          9.580000          4.760000          7.350000  ...   \n",
       "smpl_id_2787.ref          9.690000          3.460000          6.310000  ...   \n",
       "\n",
       "                  entrz_tran_9987  entrz_tran_9988  entrz_tran_9989  \\\n",
       "smpl_id_1059.src        13.897711         9.041862        11.737195   \n",
       "smpl_id_106.src         13.246723         9.038039        11.997689   \n",
       "smpl_id_108.src         12.847602         9.981506        13.721504   \n",
       "smpl_id_11.src          13.364835         8.557933        12.445397   \n",
       "smpl_id_113.src         12.742044         9.151514        12.186347   \n",
       "...                           ...              ...              ...   \n",
       "smpl_id_2783.ref        13.220000         9.300000        12.590000   \n",
       "smpl_id_2784.ref        13.390000         7.995000        12.760000   \n",
       "smpl_id_2785.ref        13.680000         9.635000        12.510000   \n",
       "smpl_id_2786.ref        13.640000         8.720000        14.100000   \n",
       "smpl_id_2787.ref        12.840000         8.375000        11.350000   \n",
       "\n",
       "                  entrz_tran_999  entrz_tran_9990  entrz_tran_9991  \\\n",
       "smpl_id_1059.src       15.044714        13.003528        14.045384   \n",
       "smpl_id_106.src        18.829927        11.636760        14.074575   \n",
       "smpl_id_108.src        20.063970        14.411336        14.248902   \n",
       "smpl_id_11.src         19.021951        10.587163        14.250355   \n",
       "smpl_id_113.src        17.788367        13.716108        12.125570   \n",
       "...                          ...              ...              ...   \n",
       "smpl_id_2783.ref       12.370000        11.000000        12.900000   \n",
       "smpl_id_2784.ref       13.040000        11.170000        12.880000   \n",
       "smpl_id_2785.ref       12.990000        12.340000        13.230000   \n",
       "smpl_id_2786.ref       13.780000        11.110000        13.250000   \n",
       "smpl_id_2787.ref       13.600000        10.580000        12.840000   \n",
       "\n",
       "                  entrz_tran_9992  entrz_tran_9993  entrz_tran_9994  \\\n",
       "smpl_id_1059.src         0.000000        11.128922        11.281378   \n",
       "smpl_id_106.src          2.044405        12.273810        10.879885   \n",
       "smpl_id_108.src          2.569320        13.708955        11.436215   \n",
       "smpl_id_11.src           2.444056        11.352824        10.189871   \n",
       "smpl_id_113.src          6.786660        12.063572        10.383208   \n",
       "...                           ...              ...              ...   \n",
       "smpl_id_2783.ref         3.810000        11.350000        10.590000   \n",
       "smpl_id_2784.ref         2.180000        11.490000        10.490000   \n",
       "smpl_id_2785.ref         3.000000        11.340000        11.020000   \n",
       "smpl_id_2786.ref         1.940000        11.810000        10.710000   \n",
       "smpl_id_2787.ref         3.380000        11.190000        10.650000   \n",
       "\n",
       "                  entrz_tran_9997  \n",
       "smpl_id_1059.src         8.764360  \n",
       "smpl_id_106.src          8.953531  \n",
       "smpl_id_108.src         10.906998  \n",
       "smpl_id_11.src          11.087634  \n",
       "smpl_id_113.src          9.393239  \n",
       "...                           ...  \n",
       "smpl_id_2783.ref        10.120000  \n",
       "smpl_id_2784.ref        10.520000  \n",
       "smpl_id_2785.ref         9.875000  \n",
       "smpl_id_2786.ref        10.020000  \n",
       "smpl_id_2787.ref         8.475000  \n",
       "\n",
       "[383 rows x 19133 columns]"
      ]
     },
     "execution_count": 104,
     "metadata": {},
     "output_type": "execute_result"
    }
   ],
   "source": [
    "obj_n"
   ]
  },
  {
   "cell_type": "code",
   "execution_count": 101,
   "id": "d0dcd4f7-9cd5-4dd1-8da2-bd77a890eb36",
   "metadata": {},
   "outputs": [],
   "source": [
    "X = obj_n.iloc[:, 2:]\n",
    "y_sys = obj_n.System\n",
    "y_c_typ = obj_n.Cancer_type\n",
    "\n",
    "sys_scores = []\n",
    "c_typ_scores = []\n",
    "\n",
    "for i in list(range(0,9)):\n",
    "    X_train, X_test, y_train, y_test = train_test_split(X, y_sys)\n",
    "    clf = RandomForestClassifier(max_depth=2, random_state=0)\n",
    "    clf.fit(X_train, y_train)\n",
    "    y_pred = clf.predict(X_test)\n",
    "    score = f1_score(y_test, y_pred, average = 'weighted')\n",
    "    sys_scores.append(score)\n",
    "\n",
    "    y_train = y_c_typ[y_c_typ.index.isin(y_train.index)]\n",
    "    y_test = y_c_typ[y_c_typ.index.isin(y_test.index)]\n",
    "    \n",
    "    clf = RandomForestClassifier(max_depth=2, random_state=0)\n",
    "    clf.fit(X_train, y_train)\n",
    "    y_pred = clf.predict(X_test)\n",
    "    score = f1_score(y_test, y_pred, average = 'weighted')\n",
    "    c_typ_scores.append(score)"
   ]
  },
  {
   "cell_type": "code",
   "execution_count": 106,
   "id": "d392eed4-b822-4d52-ae58-8a1d668e9bd1",
   "metadata": {},
   "outputs": [
    {
     "data": {
      "text/plain": [
       "'pancreatic-adeno+lung-adeno_transcriptomics_cell-line+CPTAC'"
      ]
     },
     "execution_count": 106,
     "metadata": {},
     "output_type": "execute_result"
    }
   ],
   "source": [
    "cancers+'_'+modality+'_'+systems"
   ]
  },
  {
   "cell_type": "code",
   "execution_count": 107,
   "id": "61ad7c74-e9fd-4db5-bf67-a487586b49b7",
   "metadata": {},
   "outputs": [],
   "source": [
    "file_n = cancers+'_'+modality+'_'+systems"
   ]
  },
  {
   "cell_type": "code",
   "execution_count": null,
   "id": "32d2d0c8-f06c-4432-8b3d-6f866f427b04",
   "metadata": {},
   "outputs": [],
   "source": [
    "sys_mean = statistics.mean(sys_scores)\n",
    "c_typ_mean = statistics.mean(c_typ_scores)\n",
    "\n",
    "sys_err = statistics.stdev(sys_scores)\n",
    "c_typ_err = statistics.stdev(c_typ_scores)\n",
    "\n",
    "fig, ax = plt.subplots()\n",
    "\n",
    "# Create bars\n",
    "bar1 = ax.bar('sys', sys_mean, yerr=sys_err, capsize = 7, label='System')\n",
    "bar2 = ax.bar('c typ', c_typ_mean, yerr=c_typ_err, capsize = 7, label='Cancer type')\n",
    "\n",
    "plt.title(file_n) # automate later\n",
    "plt.xlabel('Cancer Model System')\n",
    "plt.ylabel('F1 score')\n",
    "\n",
    "# Legend\n",
    "ax.legend()\n",
    "plt.savefig('../results/mbatch/figures/'+file_n+'rf_barplot.png')"
   ]
  },
  {
   "cell_type": "code",
   "execution_count": null,
   "id": "cd3905af-f18e-401c-80e2-ec06cc543a99",
   "metadata": {},
   "outputs": [],
   "source": []
  }
 ],
 "metadata": {
  "kernelspec": {
   "display_name": "Python 3 (ipykernel)",
   "language": "python",
   "name": "python3"
  },
  "language_info": {
   "codemirror_mode": {
    "name": "ipython",
    "version": 3
   },
   "file_extension": ".py",
   "mimetype": "text/x-python",
   "name": "python",
   "nbconvert_exporter": "python",
   "pygments_lexer": "ipython3",
   "version": "3.10.8"
  }
 },
 "nbformat": 4,
 "nbformat_minor": 5
}
