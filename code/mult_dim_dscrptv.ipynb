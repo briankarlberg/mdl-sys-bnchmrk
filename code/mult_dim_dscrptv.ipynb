{
 "cells": [
  {
   "cell_type": "code",
   "execution_count": null,
   "id": "c32b5227-6b0d-48bf-94f4-afbfdaf61126",
   "metadata": {},
   "outputs": [],
   "source": [
    "# Make plots of input data\n",
    "    # bar plot template in uni-file *"
   ]
  },
  {
   "cell_type": "code",
   "execution_count": null,
   "id": "0c3747a4-497e-4293-afa3-e3162b3eec1b",
   "metadata": {},
   "outputs": [],
   "source": [
    "%whos"
   ]
  },
  {
   "cell_type": "code",
   "execution_count": null,
   "id": "57bd092c-0670-41d5-a546-e13b910b9159",
   "metadata": {},
   "outputs": [],
   "source": [
    "import matplotlib.pyplot as plt\n",
    "from mpl_toolkits.mplot3d import Axes3D\n",
    "import numpy as np"
   ]
  },
  {
   "cell_type": "markdown",
   "id": "def422e2-f6a2-462f-b93d-7bdf49746946",
   "metadata": {},
   "source": [
    "### Real data, template in dta_ldr"
   ]
  },
  {
   "cell_type": "code",
   "execution_count": null,
   "id": "b81e210e-e553-440d-9a23-530392c1a998",
   "metadata": {},
   "outputs": [],
   "source": [
    "import coderdata as cd\n",
    "cell_line = cd.DatasetLoader('cell_line', data_directory = '../data/cell_line/') # a\n",
    "cptac = cd.DatasetLoader('cptac', data_directory = '../data/cptac/') # b\n",
    "beataml = cd.DatasetLoader('beataml', data_directory = '../data/beataml/') # c\n",
    "hcmi = cd.DatasetLoader('hcmi', data_directory = '../data/hcmi/') # d\n",
    "\n",
    "print('DatasetLoaders in RAM')\n",
    "systems = 'cell-line+CPTAC'"
   ]
  },
  {
   "cell_type": "code",
   "execution_count": null,
   "id": "94fa17b4-9438-415a-b97f-2fee4569c15a",
   "metadata": {},
   "outputs": [],
   "source": [
    "hcmi.samples.cancer_type.value_counts()"
   ]
  },
  {
   "cell_type": "code",
   "execution_count": null,
   "id": "3a52908d-e50f-4899-9446-13b60312f356",
   "metadata": {},
   "outputs": [],
   "source": [
    "-"
   ]
  },
  {
   "cell_type": "code",
   "execution_count": null,
   "id": "2ccdacf5-9fae-4af7-8afe-9c5f1b004daa",
   "metadata": {},
   "outputs": [],
   "source": [
    "# sys_n_samp = beataml.samples\n",
    "# cncr_n = 'ACUTE MYELOID LEUKAEMIA'"
   ]
  },
  {
   "cell_type": "code",
   "execution_count": null,
   "id": "5aa3b8ba-95f0-4085-be18-f4f77f8e6fc9",
   "metadata": {},
   "outputs": [],
   "source": [
    "--"
   ]
  },
  {
   "cell_type": "markdown",
   "id": "482971ad-6c14-4df3-b145-6357c7550600",
   "metadata": {
    "jp-MarkdownHeadingCollapsed": true
   },
   "source": [
    "#### beataml"
   ]
  },
  {
   "cell_type": "code",
   "execution_count": null,
   "id": "22197bd1-e2aa-423d-b68d-e375cada74b5",
   "metadata": {},
   "outputs": [],
   "source": [
    "beataml.samples.cancer_type.value_counts()"
   ]
  },
  {
   "cell_type": "code",
   "execution_count": null,
   "id": "94cec3a0-c2b5-40e3-8698-f050547599fb",
   "metadata": {},
   "outputs": [],
   "source": [
    "sys_n = beataml\n",
    "cncr_n = 'ACUTE MYELOID LEUKAEMIA'"
   ]
  },
  {
   "cell_type": "markdown",
   "id": "136fb73e-e505-4156-9ff2-3911213c3866",
   "metadata": {
    "jp-MarkdownHeadingCollapsed": true
   },
   "source": [
    "#### cptac"
   ]
  },
  {
   "cell_type": "code",
   "execution_count": null,
   "id": "8a9220ec-84e8-4a94-b652-9d51a7eac2e2",
   "metadata": {},
   "outputs": [],
   "source": [
    "sys_n = cptac"
   ]
  },
  {
   "cell_type": "code",
   "execution_count": null,
   "id": "46215c6f-b9b2-4a22-9183-bd63ef0316d4",
   "metadata": {},
   "outputs": [],
   "source": [
    "cptac.samples.cancer_type.value_counts()"
   ]
  },
  {
   "cell_type": "code",
   "execution_count": null,
   "id": "425a8052-4ace-4b68-bc31-6d6b70d608fe",
   "metadata": {},
   "outputs": [],
   "source": [
    "Cancer_type\n",
    "pancreatic-adeno    195\n",
    "lung-adeno          188\n",
    "colon-adeno         165\n",
    "glioblastoma        152\n",
    "renal-clear-cell    127\n",
    "Name: count, dtype: int64"
   ]
  },
  {
   "cell_type": "code",
   "execution_count": null,
   "id": "c0fd22a8-00f4-4af7-ae1a-d1466a9f33a8",
   "metadata": {},
   "outputs": [],
   "source": [
    "cncrs_n = ['Pancreatic ductal adenocarcinoma',\n",
    "           'Lung adenocarcinoma',\n",
    "           'Colon adenocarcinoma',\n",
    "           'Glioblastoma multiforme',\n",
    "           'Clear cell renal cell carcinoma'\n",
    "          ]"
   ]
  },
  {
   "cell_type": "markdown",
   "id": "44870967-7ca2-48c9-89a0-e28021a45763",
   "metadata": {
    "jp-MarkdownHeadingCollapsed": true
   },
   "source": [
    "#### cell line"
   ]
  },
  {
   "cell_type": "code",
   "execution_count": null,
   "id": "0a03b569-f20f-478f-9276-a1f31fa89ee2",
   "metadata": {},
   "outputs": [],
   "source": [
    "sys_n = cell_line"
   ]
  },
  {
   "cell_type": "code",
   "execution_count": null,
   "id": "8a9f2d85-58a4-4dbc-8bc3-ef93ff0e80ac",
   "metadata": {},
   "outputs": [],
   "source": [
    "cell_line.samples.cancer_type.value_counts()"
   ]
  },
  {
   "cell_type": "code",
   "execution_count": null,
   "id": "6bf6ef01-26ae-4eee-a052-127925730311",
   "metadata": {},
   "outputs": [],
   "source": [
    "cncrs_n = ['Acute Myeloid Leukemia',\n",
    "           'Pancreatic Adenocarcinoma',\n",
    "           'Lung Adenocarcinoma',\n",
    "           'Colon Adenocarcinoma',\n",
    "           'Glioblastoma',\n",
    "           'Renal Clear Cell Carcinoma'\n",
    "          ]"
   ]
  },
  {
   "cell_type": "markdown",
   "id": "ced3a3a5-a3de-438f-af1b-230800fa10b8",
   "metadata": {},
   "source": [
    "#### hcmi"
   ]
  },
  {
   "cell_type": "code",
   "execution_count": null,
   "id": "05bf1f55-10e2-4b2c-9edb-cfd267af094d",
   "metadata": {},
   "outputs": [],
   "source": [
    "sys_n = hcmi"
   ]
  },
  {
   "cell_type": "code",
   "execution_count": null,
   "id": "766b0f8c-db8a-4642-be3c-6a508df0564d",
   "metadata": {},
   "outputs": [],
   "source": [
    "sys_n_samp = sys_n.samples\n",
    "sys_n_samp = sys_n_samp[sys_n_samp.model_type == '3D Organoid']"
   ]
  },
  {
   "cell_type": "code",
   "execution_count": null,
   "id": "69af2939-8cb9-4818-9630-77a0277836b7",
   "metadata": {},
   "outputs": [],
   "source": [
    "hcmi.samples.cancer_type.value_counts()"
   ]
  },
  {
   "cell_type": "code",
   "execution_count": null,
   "id": "aad8307d-4b85-442b-b7fc-409cd3a6713e",
   "metadata": {},
   "outputs": [],
   "source": [
    "hcmi.samples.common_name.value_counts()"
   ]
  },
  {
   "cell_type": "code",
   "execution_count": null,
   "id": "b736698b-8794-4084-a531-5e4a0678b1ec",
   "metadata": {},
   "outputs": [],
   "source": [
    "cncrs_n = ['---',\n",
    "           'Pancreas, NOS',\n",
    "           '---',\n",
    "           'Colon, NOS',\n",
    "           'Brain, NOS',\n",
    "           '---'\n",
    "          ]"
   ]
  },
  {
   "cell_type": "markdown",
   "id": "384a630d-02c9-40cd-a47d-90c0f9a3ea4b",
   "metadata": {},
   "source": [
    "#### main"
   ]
  },
  {
   "cell_type": "code",
   "execution_count": null,
   "id": "54694595-ffdf-4964-bdef-fb348d8db2f1",
   "metadata": {},
   "outputs": [],
   "source": [
    "ci = 5\n",
    "print(cncrs_n[ci])\n",
    "# sys_n_samp = sys_n.samples # Extra sub-set step for HCMI\n",
    "sys_n_samp_canc_n = sys_n_samp[sys_n_samp.cancer_type == cncrs_n[ci]]\n",
    "ids_sys_n = sys_n_samp_canc_n.improve_sample_id"
   ]
  },
  {
   "cell_type": "code",
   "execution_count": null,
   "id": "65c3ef85-ae2b-4426-8edc-7179536d3fe2",
   "metadata": {},
   "outputs": [],
   "source": [
    "# Main, HCMI\n",
    "ci = 4\n",
    "print(cncrs_n[ci])\n",
    "sys_n_samp_canc_n = sys_n_samp[sys_n_samp.common_name == cncrs_n[ci]]\n",
    "ids_sys_n = sys_n_samp_canc_n.improve_sample_id"
   ]
  },
  {
   "cell_type": "code",
   "execution_count": null,
   "id": "fce700fd-9e44-4204-b20b-279f704ce168",
   "metadata": {},
   "outputs": [],
   "source": [
    "C-typ position key: ['AML',\n",
    "                     'Pancreatic-adeno',\n",
    "                     'Lung-adeno',\n",
    "                     'Colon-adeno',\n",
    "                     'Gliblastoma',\n",
    "                     'Renal-clear-cell'\n",
    "]"
   ]
  },
  {
   "cell_type": "markdown",
   "id": "3c2bfd10-eeb5-4476-a6f8-09d6aa806fce",
   "metadata": {},
   "source": [
    "##### Transcriptomics"
   ]
  },
  {
   "cell_type": "code",
   "execution_count": null,
   "id": "76142129-9853-4f01-ba46-be6aafb53693",
   "metadata": {},
   "outputs": [],
   "source": [
    "len(sys_n.transcriptomics[\n",
    "    sys_n.transcriptomics.improve_sample_id.isin(\n",
    "        ids_sys_n)].improve_sample_id.unique())"
   ]
  },
  {
   "cell_type": "code",
   "execution_count": null,
   "id": "6c1d51d2-1443-408c-8648-bc02503a076a",
   "metadata": {},
   "outputs": [],
   "source": [
    "BeatAML = [707, 0, 0, 0, 0, 0]\n",
    "CPTAC = [0, 140, 111, 105, 100, 110]\n",
    "Cell_line = [31, 55, 77, 60, 52, 17]\n",
    "HCMI = [0, 69, 0, 87, 78, 0]"
   ]
  },
  {
   "cell_type": "markdown",
   "id": "6c2ff7a8-5738-43b2-9d16-7f440aa2d5b8",
   "metadata": {},
   "source": [
    "##### Proteomics"
   ]
  },
  {
   "cell_type": "code",
   "execution_count": null,
   "id": "eaf27ff2-6596-4dc6-bc5b-415a65533dac",
   "metadata": {
    "scrolled": true
   },
   "outputs": [],
   "source": [
    "len(sys_n.proteomics[\n",
    "    sys_n.proteomics.improve_sample_id.isin(\n",
    "        ids_sys_n)].improve_sample_id.unique())"
   ]
  },
  {
   "cell_type": "code",
   "execution_count": null,
   "id": "45206be3-1c53-4554-8676-9c8b85f7c86c",
   "metadata": {},
   "outputs": [],
   "source": [
    "BeatAML = [210, 0, 0, 0, 0, 0]\n",
    "CPTAC = [0, 105, 106, 97, 99, 103]\n",
    "Cell_line = [10, 18, 37, 28, 10, 6]\n",
    "HCMI = [0, 0, 0, 0, 0, 0]"
   ]
  },
  {
   "cell_type": "markdown",
   "id": "15d8507c-8ea5-479b-a00c-5e5b9e4b5358",
   "metadata": {},
   "source": [
    "##### Mutations"
   ]
  },
  {
   "cell_type": "code",
   "execution_count": null,
   "id": "227e1f15-0493-45d0-8cdc-4962373a27b7",
   "metadata": {},
   "outputs": [],
   "source": [
    "sys_n.mutations"
   ]
  },
  {
   "cell_type": "code",
   "execution_count": null,
   "id": "7c42fb94-83ff-4fd4-a00c-d6cb67cf475f",
   "metadata": {},
   "outputs": [],
   "source": [
    "len(sys_n.mutations[\n",
    "    sys_n.mutations.improve_sample_id.isin(\n",
    "        ids_sys_n)].improve_sample_id.unique())"
   ]
  },
  {
   "cell_type": "code",
   "execution_count": null,
   "id": "19439bec-1e11-4fc5-bfed-03220f6aa01c",
   "metadata": {},
   "outputs": [],
   "source": [
    "BeatAML = [871, 0, 0, 0, 0, 0]\n",
    "CPTAC = [0, 58, 108, 0, 99, 110]\n",
    "Cell_line = [34, 59, 79, 61, 64, 22]\n",
    "HCMI = [0, 55, 0, 62, 68, 0]"
   ]
  },
  {
   "cell_type": "code",
   "execution_count": null,
   "id": "57f21561-edfe-4fc4-8b49-5aef993d529c",
   "metadata": {},
   "outputs": [],
   "source": [
    "# Mutations\n",
    "def three_d(categories, levels, values,\n",
    "            title, vrsn, clr):\n",
    "    fig = plt.figure()\n",
    "    ax = fig.add_subplot(111, projection='3d')\n",
    "    \n",
    "    xpos, ypos = np.meshgrid(np.arange(values.shape[1]), np.arange(values.shape[0]))\n",
    "    xpos = xpos.flatten()\n",
    "    ypos = ypos.flatten()\n",
    "    zpos = np.zeros(values.shape).flatten()\n",
    "    \n",
    "    dx = 0.5 * np.ones_like(zpos)\n",
    "    dy = dx.copy()\n",
    "    dz = values.flatten()\n",
    "\n",
    "    # dx = 0.6 * np.ones_like(zpos)  # Adjust the value to control the width\n",
    "    # dy = dx.copy()\n",
    "    \n",
    "    # Initial bottom values for stacking\n",
    "    bottom = np.zeros_like(dz)\n",
    "    \n",
    "    for i in range(len(dz)):\n",
    "        ax.bar3d(xpos[i], ypos[i], bottom[i], dx[i], dy[i], dz[i],\n",
    "                 color=clr, zsort='average')\n",
    "        bottom[i] += dz[i]  # Update bottom for the next layer\n",
    "    \n",
    "    ax.set_ylabel('Systems', fontweight='bold', labelpad = 22)\n",
    "    ax.set_xlabel('Cancer types', fontweight='bold', labelpad = -13)\n",
    "    ax.set_zlabel('Sample counts', fontweight='bold')\n",
    "    ax.set_xticks(np.arange(len(categories)) + 0.4)  # Center the bars\n",
    "    ax.set_yticks(np.arange(len(levels)) + 0.4)\n",
    "    ax.set_xticklabels(categories, rotation = 35, ha = 'right', va = 'top')\n",
    "    ax.set_yticklabels(levels, rotation = 15, va = 'bottom', ha = 'left')\n",
    "    ax.view_init(elev=25, azim=102) # Adjust to remove overlap\n",
    "    plt.title(title, y = .9)\n",
    "\n",
    "    # plt.subplots_adjust(bottom=0.2)\n",
    "    \n",
    "    plt.savefig('plots/3d_trsprnt_'+vrsn+'.png') # Mutations\n",
    "    plt.show()"
   ]
  },
  {
   "cell_type": "markdown",
   "id": "d2ea8813-b376-4102-9830-db1217c9e090",
   "metadata": {},
   "source": [
    "##### Copy number"
   ]
  },
  {
   "cell_type": "code",
   "execution_count": null,
   "id": "49fcd49c-b080-4005-81b6-0de843f3f185",
   "metadata": {},
   "outputs": [],
   "source": [
    "sys_n.copy_number"
   ]
  },
  {
   "cell_type": "code",
   "execution_count": null,
   "id": "6b17bb71-fa6e-4b8f-a178-9e2145eac4e2",
   "metadata": {},
   "outputs": [],
   "source": [
    "len(sys_n.copy_number[\n",
    "    sys_n.copy_number.improve_sample_id.isin(\n",
    "        ids_sys_n)].improve_sample_id.unique())"
   ]
  },
  {
   "cell_type": "code",
   "execution_count": null,
   "id": "c9766f27-368b-48a8-a03e-e6071de2091c",
   "metadata": {},
   "outputs": [],
   "source": [
    "BeatAML = [0, 0, 0, 0, 0, 0]\n",
    "CPTAC = [0, 105, 109, 104, 99, 103]\n",
    "Cell_line = [36, 62, 83, 64, 65, 27]\n",
    "HCMI = [0, 53, 0, 89, 65, 0]"
   ]
  },
  {
   "cell_type": "code",
   "execution_count": null,
   "id": "49fd322b-11f8-4234-b24f-1924eb86e507",
   "metadata": {},
   "outputs": [],
   "source": [
    "cancers = ['AML',\n",
    "           'Pancreatic-adeno',\n",
    "           'Lung-adeno',\n",
    "           'Colon-adeno',\n",
    "           'Gliblastoma',\n",
    "           'Renal-clear-cell']\n",
    "systems = ['CPTAC', 'Cell line', 'HCMI', 'BeatAML', ]\n",
    "sample_counts = np.array([\n",
    "    \n",
    "    [0, 105, 109, 104, 99, 103],\n",
    "    [36, 62, 83, 64, 65, 27],\n",
    "    [0, 53, 0, 89, 65, 0],\n",
    "    [0, 0, 0, 0, 0, 0],\n",
    "])"
   ]
  },
  {
   "cell_type": "code",
   "execution_count": null,
   "id": "1bee90cc-96b4-436a-aaf8-c4701c785923",
   "metadata": {},
   "outputs": [],
   "source": [
    "three_d(cancers, systems, sample_counts,\n",
    "        'Copy number', 'cpy_num', 'skyblue')"
   ]
  },
  {
   "cell_type": "code",
   "execution_count": null,
   "id": "34b3d886-8337-4642-8940-854209b2fd6e",
   "metadata": {},
   "outputs": [],
   "source": [
    "# Copy number\n",
    "def three_d(categories, levels, values,\n",
    "            title, vrsn, clr):\n",
    "    fig = plt.figure()\n",
    "    ax = fig.add_subplot(111, projection='3d')\n",
    "    \n",
    "    xpos, ypos = np.meshgrid(np.arange(values.shape[1]), np.arange(values.shape[0]))\n",
    "    xpos = xpos.flatten()\n",
    "    ypos = ypos.flatten()\n",
    "    zpos = np.zeros(values.shape).flatten()\n",
    "    \n",
    "    dx = 0.5 * np.ones_like(zpos)\n",
    "    dy = dx.copy()\n",
    "    dz = values.flatten()\n",
    "\n",
    "    # dx = 0.6 * np.ones_like(zpos)  # Adjust the value to control the width\n",
    "    # dy = dx.copy()\n",
    "    \n",
    "    # Initial bottom values for stacking\n",
    "    bottom = np.zeros_like(dz)\n",
    "    \n",
    "    for i in range(len(dz)):\n",
    "        ax.bar3d(xpos[i], ypos[i], bottom[i], dx[i], dy[i], dz[i],\n",
    "                 color=clr, zsort='average')\n",
    "        bottom[i] += dz[i]  # Update bottom for the next layer\n",
    "    \n",
    "    ax.set_ylabel('Systems', fontweight='bold', labelpad = 22)\n",
    "    ax.set_xlabel('Cancer types', fontweight='bold', labelpad = -13)\n",
    "    ax.set_zlabel('Sample counts', fontweight='bold')\n",
    "    ax.set_xticks(np.arange(len(categories)) + 0.4)  # Center the bars\n",
    "    ax.set_yticks(np.arange(len(levels)) + 0.4)\n",
    "    ax.set_xticklabels(categories, rotation = 35, ha = 'right', va = 'top')\n",
    "    ax.set_yticklabels(levels, rotation = 15, va = 'bottom', ha = 'left')\n",
    "    ax.view_init(elev=25, azim=102) # Adjust to remove overlap\n",
    "    plt.title(title, y = .9)\n",
    "\n",
    "    # plt.subplots_adjust(bottom=0.2)\n",
    "    \n",
    "    plt.savefig('plots/3d_trsprnt_'+vrsn+'.png') # Copy number\n",
    "    plt.show()"
   ]
  },
  {
   "cell_type": "markdown",
   "id": "f6f310f9-0e30-4ebb-b23e-e3affc1d1cd1",
   "metadata": {
    "jp-MarkdownHeadingCollapsed": true
   },
   "source": [
    "### Raw 3D temlate"
   ]
  },
  {
   "cell_type": "code",
   "execution_count": null,
   "id": "25024f2b-c761-4cf7-a429-c99f0e340163",
   "metadata": {},
   "outputs": [],
   "source": [
    "# Dimensions\n",
    "categories = ['A1', 'B', 'C']\n",
    "levels = ['Level 1', 'Level 2', 'Level 3']\n",
    "values = np.array([\n",
    "    [5, 3, 1],\n",
    "    [6, 2, 4],\n",
    "    [3, 5, 2]\n",
    "])"
   ]
  },
  {
   "cell_type": "code",
   "execution_count": null,
   "id": "8111c99c-24d5-4a48-bc24-ffb8c5cb0d32",
   "metadata": {},
   "outputs": [],
   "source": [
    "fig = plt.figure()\n",
    "ax = fig.add_subplot(111, projection='3d')\n",
    "\n",
    "xpos, ypos = np.meshgrid(np.arange(values.shape[1]), np.arange(values.shape[0]))\n",
    "xpos = xpos.flatten()\n",
    "ypos = ypos.flatten()\n",
    "zpos = np.zeros(values.shape).flatten()\n",
    "\n",
    "dx = 0.8 * np.ones_like(zpos)\n",
    "dy = dx.copy()\n",
    "dz = values.flatten()\n",
    "\n",
    "# Initial bottom values for stacking\n",
    "bottom = np.zeros_like(dz)\n",
    "\n",
    "for i in range(len(dz)):\n",
    "    ax.bar3d(xpos[i], ypos[i], bottom[i], dx[i], dy[i], dz[i], color='skyblue', zsort='average')\n",
    "    bottom[i] += dz[i]  # Update bottom for the next layer\n",
    "\n",
    "ax.set_xlabel('Categories')\n",
    "ax.set_ylabel('Levels')\n",
    "ax.set_zlabel('Values')\n",
    "ax.set_xticks(np.arange(len(categories)) + 0.4)  # Center the bars\n",
    "ax.set_yticks(np.arange(len(levels)) + 0.4)\n",
    "ax.set_xticklabels(categories)\n",
    "ax.set_yticklabels(levels)\n",
    "# plt.tight_layout()\n",
    "plt.savefig('plots/3d_test_3.png')\n",
    "plt.show()"
   ]
  },
  {
   "cell_type": "markdown",
   "id": "f6e6a69a-d84b-4219-81d6-b5389972b928",
   "metadata": {
    "jp-MarkdownHeadingCollapsed": true
   },
   "source": [
    "### Production"
   ]
  },
  {
   "cell_type": "code",
   "execution_count": null,
   "id": "62048f6b-ea3d-4bd7-8a62-97a266002a04",
   "metadata": {},
   "outputs": [],
   "source": [
    "# Dimensions\n",
    "systems = ['Cell line', 'CPTAC', 'HCMI']\n",
    "cancers = ['Lung', 'Brain', 'Breast', 'Pancreas']\n",
    "sample_counts = np.array([\n",
    "    [5, 3, 1],\n",
    "    [20, 15, 10],\n",
    "    [50, 40, 30],\n",
    "    [100, 80, 60]\n",
    "])\n",
    "version = '5'"
   ]
  },
  {
   "cell_type": "code",
   "execution_count": null,
   "id": "c681e88f-597b-4723-9e1b-bfd3a600da5f",
   "metadata": {},
   "outputs": [],
   "source": [
    "# copy number, prot,       gexp,        muta\n",
    "'skyblue', 'lightyellow', 'lightgreen', 'mistyrose'"
   ]
  },
  {
   "cell_type": "code",
   "execution_count": null,
   "id": "da1f8d84-a91b-4a8c-b8f9-9e21fd93fdbe",
   "metadata": {},
   "outputs": [],
   "source": [
    "three_d(systems, cancers, sample_counts,\n",
    "        'Transcriptomics', '7', 'mistyrose')"
   ]
  },
  {
   "cell_type": "code",
   "execution_count": null,
   "id": "d9afb4d1-e730-494a-90c8-78ae32da9890",
   "metadata": {},
   "outputs": [],
   "source": [
    "def three_d(categories, levels, values,\n",
    "            title, vrsn, clr):\n",
    "    fig = plt.figure()\n",
    "    ax = fig.add_subplot(111, projection='3d')\n",
    "    \n",
    "    xpos, ypos = np.meshgrid(np.arange(values.shape[1]), np.arange(values.shape[0]))\n",
    "    xpos = xpos.flatten()\n",
    "    ypos = ypos.flatten()\n",
    "    zpos = np.zeros(values.shape).flatten()\n",
    "    \n",
    "    dx = 0.8 * np.ones_like(zpos)\n",
    "    dy = dx.copy()\n",
    "    dz = values.flatten()\n",
    "\n",
    "    # dx = 0.6 * np.ones_like(zpos)  # Adjust the value to control the width\n",
    "    # dy = dx.copy()\n",
    "    \n",
    "    # Initial bottom values for stacking\n",
    "    bottom = np.zeros_like(dz)\n",
    "    \n",
    "    for i in range(len(dz)):\n",
    "        ax.bar3d(xpos[i], ypos[i], bottom[i], dx[i], dy[i], dz[i],\n",
    "                 color=clr, zsort='average')\n",
    "        bottom[i] += dz[i]  # Update bottom for the next layer\n",
    "    \n",
    "    ax.set_xlabel('Systems', fontweight='bold')\n",
    "    ax.set_ylabel('Cancer types', fontweight='bold')\n",
    "    ax.set_zlabel('Sample counts', fontweight='bold')\n",
    "    ax.set_xticks(np.arange(len(categories)) + 0.4)  # Center the bars\n",
    "    ax.set_yticks(np.arange(len(levels)) + 0.4)\n",
    "    ax.set_xticklabels(categories)\n",
    "    ax.set_yticklabels(levels)\n",
    "    ax.view_init(elev=15, azim=-60) # Adjust to remove overlap\n",
    "    plt.title(title, y = .9)\n",
    "    plt.savefig('plots/3d_test_'+vrsn+'.png')\n",
    "    plt.show()"
   ]
  },
  {
   "cell_type": "markdown",
   "id": "318226d4-3e44-488a-88da-79d91874e7f8",
   "metadata": {
    "jp-MarkdownHeadingCollapsed": true
   },
   "source": [
    "#### Devel, figure function"
   ]
  },
  {
   "cell_type": "code",
   "execution_count": null,
   "id": "92082a85-6b33-4fa1-a84a-a01da3ce1797",
   "metadata": {},
   "outputs": [],
   "source": [
    "color='skyblue'"
   ]
  },
  {
   "cell_type": "code",
   "execution_count": null,
   "id": "fc97c7a4-b526-476d-9f2a-6cf13d5b5508",
   "metadata": {},
   "outputs": [],
   "source": [
    "def three_d(systems, cancers,\n",
    "            sample_counts, title, color):\n",
    "    fig = plt.figure()\n",
    "    ax = fig.add_subplot(111, projection='3d')\n",
    "    \n",
    "    xpos, ypos = np.meshgrid(np.arange(sample_counts.shape[1]), np.arange(sample_counts.shape[0]))\n",
    "    xpos = xpos.flatten()\n",
    "    ypos = ypos.flatten()\n",
    "    zpos = np.zeros(sample_counts.shape).flatten()\n",
    "    \n",
    "    dx = 0.8 * np.ones_like(zpos)\n",
    "    dy = dx.copy()\n",
    "    dz = sample_counts.flatten()\n",
    "\n",
    "    # dx = 0.6 * np.ones_like(zpos)  # Adjust the value to control the width\n",
    "    # dy = dx.copy()\n",
    "    \n",
    "    # Initial bottom values for stacking\n",
    "    bottom = np.zeros_like(dz)\n",
    "    \n",
    "    for i in range(len(dz)):\n",
    "        ax.bar3d(xpos[i], ypos[i], bottom[i], dx[i], dy[i], dz[i],\n",
    "                 color=color, zsort='average')\n",
    "        bottom[i] += dz[i]  # Update bottom for the next layer\n",
    "    \n",
    "    ax.set_xlabel('Systems', fontweight='bold')\n",
    "    ax.set_ylabel('Cancer types', fontweight='bold')\n",
    "    ax.set_zlabel('Sample counts', fontweight='bold')\n",
    "    ax.set_xticks(np.arange(len(systems)) + 0.4)  # Center the bars\n",
    "    ax.set_yticks(np.arange(len(sample_counts)) + 0.4)\n",
    "    ax.set_xticklabels(systems)\n",
    "    ax.set_yticklabels(sample_counts)\n",
    "    ax.view_init(elev=15, azim=-60) # Adjust to remove overlab\n",
    "    plt.title(title, y = .9)\n",
    "    plt.savefig('plots/3d_test_2.png')\n",
    "    plt.show()"
   ]
  },
  {
   "cell_type": "markdown",
   "id": "fe5fefdb-3f7f-4327-9139-4ffa807e0a6a",
   "metadata": {
    "jp-MarkdownHeadingCollapsed": true
   },
   "source": [
    "#### Continue"
   ]
  },
  {
   "cell_type": "code",
   "execution_count": null,
   "id": "83303f4f-1a03-48b1-9672-b8d50e65b53a",
   "metadata": {},
   "outputs": [],
   "source": [
    "three_d(systems, cancers,\n",
    "        sample_counts, title = 'Transcriptomics',\n",
    "        color='skyblue')"
   ]
  }
 ],
 "metadata": {
  "kernelspec": {
   "display_name": "Python 3 (ipykernel)",
   "language": "python",
   "name": "python3"
  },
  "language_info": {
   "codemirror_mode": {
    "name": "ipython",
    "version": 3
   },
   "file_extension": ".py",
   "mimetype": "text/x-python",
   "name": "python",
   "nbconvert_exporter": "python",
   "pygments_lexer": "ipython3",
   "version": "3.10.8"
  }
 },
 "nbformat": 4,
 "nbformat_minor": 5
}
