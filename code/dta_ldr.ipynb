{
 "cells": [
  {
   "cell_type": "code",
   "execution_count": null,
   "id": "9cd6d37d-8ce9-418f-aa50-1c9e99ac9198",
   "metadata": {},
   "outputs": [],
   "source": [
    "# data_loader\n",
    "    # read from data/model system sub-folders\n",
    "    # write to /r7/cancer_modality_system.input-data.tsv\n",
    "    # /home/groups/EllrottLab/mdl-sys-bnchmrk/data/r7"
   ]
  },
  {
   "cell_type": "markdown",
   "id": "1669f06f-d0bf-4d2e-aa4f-8dfc94ae8e93",
   "metadata": {},
   "source": [
    "https://pnnl-compbio.github.io/coderdata/pages/usage"
   ]
  },
  {
   "cell_type": "markdown",
   "id": "6693c3ab-58f6-4238-86fc-a2cf9e3ffd57",
   "metadata": {
    "jp-MarkdownHeadingCollapsed": true
   },
   "source": [
    "#### Download data"
   ]
  },
  {
   "cell_type": "raw",
   "id": "5b6a12c6-5783-4867-8f8f-e94d53e4b1eb",
   "metadata": {},
   "source": [
    "pwd\n",
    "mdl-sys-bnchmrk/data/<cancer model system specific sub-folder>"
   ]
  },
  {
   "cell_type": "code",
   "execution_count": null,
   "id": "899dc530-a6b2-44ec-8994-4c2002bf1899",
   "metadata": {},
   "outputs": [],
   "source": [
    "import coderdata as cd"
   ]
  },
  {
   "cell_type": "code",
   "execution_count": null,
   "id": "5b5b31d1-e1fe-444e-bbfb-71201a91ee88",
   "metadata": {},
   "outputs": [],
   "source": [
    "# cd.download_data_by_prefix('beataml')\n",
    "# cd.download_data_by_prefix('cell_line')\n",
    "# cd.download_data_by_prefix('cptac')\n",
    "# cd.download_data_by_prefix('hcmi')"
   ]
  },
  {
   "cell_type": "markdown",
   "id": "05eabd0f-44c1-40c4-8cda-99af0ec60f34",
   "metadata": {
    "jp-MarkdownHeadingCollapsed": true
   },
   "source": [
    "##### Exacloud download"
   ]
  },
  {
   "cell_type": "code",
   "execution_count": null,
   "id": "32451989-925a-4789-bb25-141a5964ca76",
   "metadata": {},
   "outputs": [],
   "source": [
    "pip install coderdata"
   ]
  },
  {
   "cell_type": "code",
   "execution_count": null,
   "id": "c2fa1296-57fe-44cc-af22-8556ca3e2e86",
   "metadata": {},
   "outputs": [],
   "source": []
  },
  {
   "cell_type": "markdown",
   "id": "b12608da-1880-4012-8cf8-968e2d9a1d68",
   "metadata": {
    "jp-MarkdownHeadingCollapsed": true
   },
   "source": [
    "##### Exacloud upload"
   ]
  },
  {
   "cell_type": "code",
   "execution_count": null,
   "id": "71bb0c72-8436-4d4c-bf63-1ef49ebc1935",
   "metadata": {},
   "outputs": [],
   "source": [
    "ls ../data/beataml/"
   ]
  },
  {
   "cell_type": "raw",
   "id": "f4a58d32-c9a8-4743-96df-99643c6c849b",
   "metadata": {},
   "source": [
    "scp ../data/beataml/* mdl-sys-bnchmrk/data/beataml/"
   ]
  },
  {
   "cell_type": "markdown",
   "id": "7784f7a8-0149-4f57-b3a2-81720e712be1",
   "metadata": {},
   "source": [
    "#### Set systems"
   ]
  },
  {
   "cell_type": "code",
   "execution_count": null,
   "id": "4eb782b1-4148-448f-a990-107931e8218a",
   "metadata": {},
   "outputs": [],
   "source": [
    "pwd\n",
    "mdl-sys-bnchmrk/code"
   ]
  },
  {
   "cell_type": "code",
   "execution_count": null,
   "id": "c305c6cc-8255-4d0d-bc30-e4c92117fe1c",
   "metadata": {},
   "outputs": [],
   "source": [
    "%whos"
   ]
  },
  {
   "cell_type": "code",
   "execution_count": null,
   "id": "a0b89cd0-a84c-4c71-8294-802a78b17ec1",
   "metadata": {},
   "outputs": [],
   "source": [
    "import coderdata as cd\n",
    "cell_line = cd.DatasetLoader('cell_line', data_directory = '../data/cell_line/') # a\n",
    "cptac = cd.DatasetLoader('cptac', data_directory = '../data/cptac/') # b\n",
    "beataml = cd.DatasetLoader('beataml', data_directory = '../data/beataml/') # c\n",
    "hcmi = cd.DatasetLoader('hcmi', data_directory = '../data/hcmi/') # d\n",
    "\n",
    "print('DatasetLoaders in RAM')\n",
    "systems = 'cell-line+CPTAC'"
   ]
  },
  {
   "cell_type": "markdown",
   "id": "b4af54a1-f878-4a4a-bb57-f24a4c84d027",
   "metadata": {
    "jp-MarkdownHeadingCollapsed": true
   },
   "source": [
    "#### Categorical checks"
   ]
  },
  {
   "cell_type": "code",
   "execution_count": null,
   "id": "c97bdbd8-365c-4159-b549-b8437aa954a3",
   "metadata": {},
   "outputs": [],
   "source": [
    "cell_line.transcriptomics"
   ]
  },
  {
   "cell_type": "code",
   "execution_count": null,
   "id": "0813b70a-2585-4f56-9d6f-b37ab0599ecd",
   "metadata": {},
   "outputs": [],
   "source": [
    "cell_line.proteomics"
   ]
  },
  {
   "cell_type": "code",
   "execution_count": null,
   "id": "6ae0ea91-bc60-4ebb-99ab-52278bcea362",
   "metadata": {},
   "outputs": [],
   "source": [
    "cell_line.mutations"
   ]
  },
  {
   "cell_type": "code",
   "execution_count": null,
   "id": "15dde8b8-ec09-497a-9014-d9aa66a6702d",
   "metadata": {},
   "outputs": [],
   "source": [
    "cell_line.mutations.mutations.value_counts()"
   ]
  },
  {
   "cell_type": "code",
   "execution_count": null,
   "id": "309cf2e7-fcb9-4e04-918f-1993a4a49436",
   "metadata": {},
   "outputs": [],
   "source": [
    "cell_line.mutations.variant_classification.value_counts()"
   ]
  },
  {
   "cell_type": "code",
   "execution_count": null,
   "id": "42a047fc-ab2f-4ede-a4e3-2637b037c684",
   "metadata": {},
   "outputs": [],
   "source": [
    "cell_line.copy_number"
   ]
  },
  {
   "cell_type": "code",
   "execution_count": null,
   "id": "e5645858-25c4-4cba-a515-d1a6f237ce69",
   "metadata": {},
   "outputs": [],
   "source": [
    "cell_line.copy_number.copy_call.value_counts()"
   ]
  },
  {
   "cell_type": "code",
   "execution_count": null,
   "id": "609c8dc5-b307-4f26-9e11-a581b84e9e53",
   "metadata": {},
   "outputs": [],
   "source": [
    "cptac.copy_number.copy_call.value_counts()"
   ]
  },
  {
   "cell_type": "code",
   "execution_count": null,
   "id": "047fa115-ecf8-45e5-bc32-a2c0613f8002",
   "metadata": {},
   "outputs": [],
   "source": [
    "cptac.mutations.variant_classification.value_counts()"
   ]
  },
  {
   "cell_type": "code",
   "execution_count": null,
   "id": "a844ac1b-b00a-4836-bd6b-3cf31686625b",
   "metadata": {},
   "outputs": [],
   "source": [
    "hcmi.mutations"
   ]
  },
  {
   "cell_type": "code",
   "execution_count": null,
   "id": "ee3c0c7e-eeb5-4746-ae63-564dad6bf5a2",
   "metadata": {},
   "outputs": [],
   "source": [
    "# cptac.mutations.variant_classification.value_counts()\n",
    "hcmi.mutations.variant_class.value_counts()"
   ]
  },
  {
   "cell_type": "code",
   "execution_count": null,
   "id": "c6116305-bbf0-45df-9d76-e4e978de2da0",
   "metadata": {},
   "outputs": [],
   "source": [
    "hcmi.copy_number.copy_call.value_counts()"
   ]
  },
  {
   "cell_type": "code",
   "execution_count": null,
   "id": "d2870610-16c6-4a43-9c35-1062c255b7fb",
   "metadata": {},
   "outputs": [],
   "source": [
    "beataml.mutations.variant_classification.value_counts()"
   ]
  },
  {
   "cell_type": "code",
   "execution_count": null,
   "id": "257e229a-aa24-4540-ac81-f7af30e3f293",
   "metadata": {},
   "outputs": [],
   "source": [
    "beataml.copy_number # no copy number in beataml"
   ]
  },
  {
   "cell_type": "code",
   "execution_count": null,
   "id": "4f2fa2b6-6a8c-42ba-8b0d-f2add026784b",
   "metadata": {},
   "outputs": [],
   "source": [
    "beataml.copy_number.copy_call.value_counts()"
   ]
  },
  {
   "cell_type": "markdown",
   "id": "f35e165e-2edd-4662-8963-1cf53dd46ffc",
   "metadata": {
    "jp-MarkdownHeadingCollapsed": true
   },
   "source": [
    "#### Imports and functions"
   ]
  },
  {
   "cell_type": "code",
   "execution_count": null,
   "id": "e5cf931a-a468-4ee1-a859-7f8769a6580e",
   "metadata": {},
   "outputs": [],
   "source": [
    "import glob\n",
    "import pandas as pd\n",
    "import umap\n",
    "import numpy as np\n",
    "import os\n",
    "import matplotlib.pyplot as plt\n",
    "from matplotlib.lines import Line2D"
   ]
  },
  {
   "cell_type": "code",
   "execution_count": null,
   "id": "2d0d9d22-04b3-4a02-8e49-f27a7114f444",
   "metadata": {},
   "outputs": [],
   "source": [
    "# Traspose long-form X-file into biomarkers as columns,\n",
    "def extract(df_lite):\n",
    "    import time\n",
    "    start = time.time()\n",
    "    data_type = df_lite.columns[2] # extract marker values\n",
    "\n",
    "    dot_T = df_lite.pivot_table(\n",
    "        index='improve_sample_id',\n",
    "        columns='entrez_id',\n",
    "        values=data_type,\n",
    "        aggfunc='mean'             # average duplicate values\n",
    "    )\n",
    "\n",
    "    end = time.time()\n",
    "    wall_clock = end - start\n",
    "    return str(round(wall_clock / 60, 2)) + ' minutes', dot_T"
   ]
  },
  {
   "cell_type": "code",
   "execution_count": null,
   "id": "f4d53ca1-d276-4278-bb0b-1e45b2bfe5c4",
   "metadata": {},
   "outputs": [],
   "source": [
    "# Extract ids and biomarker values\n",
    "def df_check(X_n):\n",
    "    df_lite = X_n.iloc[:, :3] # cut the last two columns, source and study\n",
    "    size = f\"{df_lite.shape[0]:,}\"\n",
    "    na_count = f\"{df_lite.isna().sum().sum():,}\"\n",
    "    inf_count = f\"{df_lite.isin([np.inf, -np.inf]).sum().sum():,}\"\n",
    "    return df_lite, size, na_count, inf_count"
   ]
  },
  {
   "cell_type": "code",
   "execution_count": null,
   "id": "016ca65e-0f63-4f0a-84ad-f6880b50bb61",
   "metadata": {},
   "outputs": [],
   "source": [
    "# dot_T = g(d_typ, dot_T.copy())\n",
    "def g(d_typ, df):\n",
    "    \"\"\"\n",
    "    Checks the data types of columns and index in a DataFrame and prints informative messages.\n",
    "\n",
    "    Args:\n",
    "        df (pandas.DataFrame): The DataFrame to check.\n",
    "\n",
    "    Returns:\n",
    "        None\n",
    "    \"\"\"\n",
    "\n",
    "    if df.columns.dtype == 'float64' and df.index.dtype == 'float64':\n",
    "        print('both float')\n",
    "        df = float_to_string(d_typ, df)\n",
    "    elif df.columns.dtype == 'float64' and df.index.dtype == 'int':\n",
    "        print('columns are float, index are int')\n",
    "        df = indx_int_colm_flt(d_typ, df)\n",
    "    elif df.columns.dtype == 'int' and df.index.dtype == 'float':\n",
    "        print('columns are int, index are float, fail, write another function')\n",
    "        df = indx_flt_colm_int(d_typ, df)\n",
    "    elif df.columns.dtype == 'int' and df.index.dtype == 'int':\n",
    "        print('columns are int, index are int')\n",
    "        df = int_to_string(d_typ, df)\n",
    "    else:\n",
    "        print('non int or float dtype detected')\n",
    "    return df"
   ]
  },
  {
   "cell_type": "code",
   "execution_count": null,
   "id": "d6738cf4-43f4-4fa1-8c36-324ce0f59232",
   "metadata": {},
   "outputs": [],
   "source": [
    "def int_to_string(d_typ, dot_T):\n",
    "    dot_T.columns = dot_T.columns.map(str)\n",
    "    dot_T.columns = ['entrz_' + d_typ + i for i in dot_T.columns] #\n",
    "    dot_T.columns.name = 'entrez_id'\n",
    "\n",
    "    dot_T.index = dot_T.index.map(str)\n",
    "    dot_T.index = ['smpl_id_' + i for i in dot_T.index]\n",
    "    dot_T.index.name = 'improve_sample_id'\n",
    "    return dot_T"
   ]
  },
  {
   "cell_type": "code",
   "execution_count": null,
   "id": "0f9c1b97-5e33-419d-baf3-bc3c8f3a137b",
   "metadata": {},
   "outputs": [],
   "source": [
    "def indx_int_colm_flt(d_typ, dot_T):\n",
    "    dot_T.columns = dot_T.columns.map(str)\n",
    "    dot_T.columns = [i.split('.')[0] for i in dot_T.columns]\n",
    "    dot_T.columns = ['entrz_' + d_typ + i for i in dot_T.columns]\n",
    "    dot_T.columns.name = 'entrez_id'\n",
    "    \n",
    "    dot_T.index = dot_T.index.map(str)\n",
    "    dot_T.index = ['smpl_id_' + i for i in dot_T.index]\n",
    "    dot_T.index.name = 'improve_sample_id'\n",
    "    return dot_T"
   ]
  },
  {
   "cell_type": "code",
   "execution_count": null,
   "id": "61e643e0-6ccf-472a-bc8b-0831eca51699",
   "metadata": {},
   "outputs": [],
   "source": [
    "def float_to_string(d_typ, dot_T):\n",
    "    dot_T.columns = dot_T.columns.map(str)\n",
    "    dot_T.columns = [i.split('.')[0] for i in dot_T.columns]\n",
    "    dot_T.columns = ['entrz_' + d_typ + i for i in dot_T.columns]\n",
    "    dot_T.columns.name = 'entrez_id'\n",
    "    \n",
    "    dot_T.index = dot_T.index.map(str)\n",
    "    dot_T.index = [i.split('.')[0] for i in dot_T.index]\n",
    "    dot_T.index = ['smpl_id_' + i for i in dot_T.index]\n",
    "    dot_T.index.name = 'improve_sample_id'\n",
    "    return dot_T"
   ]
  },
  {
   "cell_type": "code",
   "execution_count": null,
   "id": "0227728e-eb74-43dd-add8-9dd2b69523db",
   "metadata": {},
   "outputs": [],
   "source": [
    "def indx_flt_colm_int(d_typ, dot_T):\n",
    "    dot_T.columns = dot_T.columns.map(str)\n",
    "    dot_T.columns = ['entrz_' + d_typ + i for i in dot_T.columns]\n",
    "    dot_T.columns.name = 'entrez_id'\n",
    "    \n",
    "    dot_T.index = dot_T.index.map(str)\n",
    "    dot_T.columns = [i.split('.')[0] for i in dot_T.columns]\n",
    "    dot_T.index = ['smpl_id_' + i for i in dot_T.index]\n",
    "    dot_T.index.name = 'improve_sample_id'\n",
    "    return dot_T"
   ]
  },
  {
   "cell_type": "markdown",
   "id": "fbed37cf-0ce4-4b64-993c-6fde163e3e95",
   "metadata": {},
   "source": [
    "#### Categorical extracts"
   ]
  },
  {
   "cell_type": "code",
   "execution_count": null,
   "id": "b66164c7-3527-4138-82c9-22a781ad007f",
   "metadata": {},
   "outputs": [],
   "source": [
    "# Copy number test added below"
   ]
  },
  {
   "cell_type": "markdown",
   "id": "993cfc7b-5ce7-4c18-8fbf-e78f056f1c39",
   "metadata": {
    "jp-MarkdownHeadingCollapsed": true
   },
   "source": [
    "#### HCMI inspections"
   ]
  },
  {
   "cell_type": "code",
   "execution_count": null,
   "id": "f8edb898-fc2b-4ef5-8f99-e43fe88e4517",
   "metadata": {},
   "outputs": [],
   "source": [
    "sys_b = 'hcmi' # switch to system a with only cptac as sys b ()?                                                                                                                                                                                                                                                  \n",
    "sys_b_samp = hcmi.samples"
   ]
  },
  {
   "cell_type": "code",
   "execution_count": null,
   "id": "09db735d-2e5a-45a9-9c13-197b50656663",
   "metadata": {},
   "outputs": [],
   "source": [
    "sys_b_samp.model_type.value_counts()[:100]"
   ]
  },
  {
   "cell_type": "code",
   "execution_count": null,
   "id": "c63d7fcb-abd7-42f1-a14f-45ddce748049",
   "metadata": {},
   "outputs": [],
   "source": [
    "sys_b_samp[sys_b_samp.model_type == 'Peripheral Whole Blood']"
   ]
  },
  {
   "cell_type": "code",
   "execution_count": null,
   "id": "5debe365-643b-4783-b90a-0197d69a5f71",
   "metadata": {},
   "outputs": [],
   "source": [
    "sys_b_samp_orgnd = sys_b_samp[sys_b_samp.model_type == '3D Organoid']"
   ]
  },
  {
   "cell_type": "code",
   "execution_count": null,
   "id": "83c0202f-253a-48c2-a0a6-dff43531466e",
   "metadata": {},
   "outputs": [],
   "source": [
    "sys_b_samp_orgnd.cancer_type.value_counts()[:100]"
   ]
  },
  {
   "cell_type": "code",
   "execution_count": null,
   "id": "821813a1-052a-490d-8e05-402c6627d68f",
   "metadata": {},
   "outputs": [],
   "source": [
    "sys_b_samp_orgnd.common_name.value_counts()[:5]"
   ]
  },
  {
   "cell_type": "code",
   "execution_count": null,
   "id": "9308c8fe-5fad-4fad-9c7b-40d612ed4810",
   "metadata": {},
   "outputs": [],
   "source": [
    "sys_b_samp_orgnd.common_name == 'Colon, NOS'"
   ]
  },
  {
   "cell_type": "code",
   "execution_count": null,
   "id": "b37081f6-e99d-41e1-b12d-a9788ca8002e",
   "metadata": {},
   "outputs": [],
   "source": [
    "# Descriptive stat plots? - mult_dim_dscrptv"
   ]
  },
  {
   "cell_type": "code",
   "execution_count": null,
   "id": "a812b783-dc40-45d2-8d15-1629de807417",
   "metadata": {},
   "outputs": [],
   "source": [
    "print(sys_b, 'is system b')\n",
    "sys_b_samp.common_name.value_counts()[:100]"
   ]
  },
  {
   "cell_type": "code",
   "execution_count": null,
   "id": "8bac2523-721b-45cf-a9b8-3dc40c229ede",
   "metadata": {},
   "outputs": [],
   "source": [
    "sys_a_samp = cell_line.samples"
   ]
  },
  {
   "cell_type": "code",
   "execution_count": null,
   "id": "76244910-b9d2-456d-b4a6-c723487652d1",
   "metadata": {},
   "outputs": [],
   "source": [
    "sys_a_samp = cptac.samples"
   ]
  },
  {
   "cell_type": "code",
   "execution_count": null,
   "id": "06c235e5-7a53-4eb8-aa58-9644d8bfb012",
   "metadata": {},
   "outputs": [],
   "source": [
    "sys_a_samp = cell_line.samples"
   ]
  },
  {
   "cell_type": "markdown",
   "id": "b4d85dfb-be6f-4583-a4af-ba844e8eb6db",
   "metadata": {},
   "source": [
    "### Samples, abstract systems to a and b"
   ]
  },
  {
   "cell_type": "markdown",
   "id": "c219e46d-24ad-4350-81fc-402fd79ef8f3",
   "metadata": {
    "jp-MarkdownHeadingCollapsed": true
   },
   "source": [
    "#### HCMI + CPTAC to a and b"
   ]
  },
  {
   "cell_type": "code",
   "execution_count": null,
   "id": "b09c0466-a957-416b-975c-408475f9b558",
   "metadata": {},
   "outputs": [],
   "source": [
    "# HCMI + CPTAC\n",
    "systems = 'HCMI+CPTAC'\n",
    "\n",
    "sys_a_samp = hcmi.samples\n",
    "sys_a_samp = sys_a_samp[sys_a_samp.model_type == '3D Organoid']\n",
    "\n",
    "sys_a = 'hcmi'\n",
    "# sys_a_lbl = 'HCMI'\n",
    "\n",
    "sys_b_samp = cptac.samples\n",
    "sys_b = 'cptac'\n",
    "# sys_b_lbl = 'CPTAC'"
   ]
  },
  {
   "cell_type": "markdown",
   "id": "52e1e097-3bcc-4dd4-b455-109a24dd8dc2",
   "metadata": {
    "jp-MarkdownHeadingCollapsed": true
   },
   "source": [
    "##### cell line + HCMI, -> SKIP <-"
   ]
  },
  {
   "cell_type": "code",
   "execution_count": null,
   "id": "e8109221-2713-41db-883e-f6112b402b1a",
   "metadata": {},
   "outputs": [],
   "source": [
    "# Not correcting between two non-human cancer model system\n",
    "\n",
    "# cell line+HCMI\n",
    "# systems = 'cell-line+HCMI'\n",
    "\n",
    "# sys_a_samp = cell_line.samples\n",
    "# sys_a = 'cell-line'\n",
    "# sys_a_lbl = 'cell_line'\n",
    "\n",
    "# sys_b_samp = hcmi.samples\n",
    "# sys_b_samp = sys_b_samp[sys_b_samp.model_type == '3D Organoid'] # Subset to just organoids\n",
    "#                                                                 # intentionaly extract cell line samples for\n",
    "#                                                                 # Statistcal power\n",
    "# sys_b = 'hcmi'\n",
    "# sys_b_lbl = 'HCMI'"
   ]
  },
  {
   "cell_type": "markdown",
   "id": "7414a0c3-f983-4c9e-a8c4-20a0b91890f1",
   "metadata": {
    "jp-MarkdownHeadingCollapsed": true
   },
   "source": [
    "#### Cell line + AML to a and b"
   ]
  },
  {
   "cell_type": "code",
   "execution_count": null,
   "id": "0668b831-9014-4a5e-9da0-237849cfaa45",
   "metadata": {},
   "outputs": [],
   "source": [
    "# AML\n",
    "systems = 'cell-line+BeatAML'\n",
    "\n",
    "sys_a_samp = cell_line.samples\n",
    "sys_a = 'cell-line'\n",
    "# sys_a_lbl = 'cell_line'\n",
    "\n",
    "sys_b_samp = beataml.samples\n",
    "sys_b = 'beataml'\n",
    "# sys_b_lbl = 'BeatAML'"
   ]
  },
  {
   "cell_type": "code",
   "execution_count": null,
   "id": "e5837cdc-6b17-4efe-bce5-21c3060d6c5d",
   "metadata": {},
   "outputs": [],
   "source": [
    "# No AML in HCMI, only cell line correction possible"
   ]
  },
  {
   "cell_type": "markdown",
   "id": "05987bc4-f1ea-454d-9e52-a00e8757dbab",
   "metadata": {},
   "source": [
    "#### Cell line + CPTAC to a and b"
   ]
  },
  {
   "cell_type": "code",
   "execution_count": null,
   "id": "eefc8d3e-d0fe-4630-9e4b-50f5919d2813",
   "metadata": {},
   "outputs": [],
   "source": [
    "# Cell line + CPTAC\n",
    "systems = 'cell-line+CPTAC'\n",
    "\n",
    "sys_a_samp = cell_line.samples\n",
    "sys_a = 'cell-line'\n",
    "sys_a_lbl = 'cell_line'\n",
    "\n",
    "sys_b_samp = cptac.samples\n",
    "sys_b = 'cptac'\n",
    "sys_b_lbl = 'CPTAC'"
   ]
  },
  {
   "cell_type": "markdown",
   "id": "f1c63ed2-e57d-4fb8-83e9-b48cc8de416d",
   "metadata": {
    "jp-MarkdownHeadingCollapsed": true
   },
   "source": [
    "#### Cancer_type view"
   ]
  },
  {
   "cell_type": "code",
   "execution_count": null,
   "id": "d0e2e586-b3e3-4f1f-9f2f-d5dea155b029",
   "metadata": {},
   "outputs": [],
   "source": [
    "print(sys_a, 'is system a')\n",
    "sys_a_samp.cancer_type.value_counts()[:205]"
   ]
  },
  {
   "cell_type": "code",
   "execution_count": null,
   "id": "270a7e6a-2474-4716-a946-6d183d1f398d",
   "metadata": {},
   "outputs": [],
   "source": [
    "len(sys_a_samp.cancer_type.value_counts())"
   ]
  },
  {
   "cell_type": "code",
   "execution_count": null,
   "id": "fb9c96db-c296-48a4-a455-7503ec130dbd",
   "metadata": {},
   "outputs": [],
   "source": [
    "print(sys_a, 'is system a')\n",
    "sys_a_samp.common_name.value_counts()[:60] # HCMI has common names"
   ]
  },
  {
   "cell_type": "code",
   "execution_count": null,
   "id": "1c690c58-1a0d-4d33-9622-48b7729e38b5",
   "metadata": {
    "scrolled": true
   },
   "outputs": [],
   "source": [
    "sys_a_samp"
   ]
  },
  {
   "cell_type": "code",
   "execution_count": null,
   "id": "2dc819db-2290-4c65-a819-9d4cf741d497",
   "metadata": {},
   "outputs": [],
   "source": [
    "print(sys_b, 'is system b')\n",
    "sys_b_samp.cancer_type.value_counts()[:50]"
   ]
  },
  {
   "cell_type": "code",
   "execution_count": null,
   "id": "9181d248-dd89-4348-8326-c35e2748a93c",
   "metadata": {},
   "outputs": [],
   "source": [
    "# beatAML has common_name colmn\n",
    "print(sys_b, 'is system b')\n",
    "# sys_b_samp.cancer_type.value_counts()[:50]\n",
    "sys_b_samp.common_name.value_counts()[:50]"
   ]
  },
  {
   "cell_type": "code",
   "execution_count": null,
   "id": "59302023-3c01-42ca-b0b2-4b8904258e03",
   "metadata": {},
   "outputs": [],
   "source": [
    "print(sys_c, 'is system c')\n",
    "sys_c_samp.cancer_type.value_counts()[:2] # hold for 3-project combos"
   ]
  },
  {
   "cell_type": "markdown",
   "id": "0645d276-4ef4-4a2c-9c61-45bfeb960bd1",
   "metadata": {},
   "source": [
    "### Cancer_type toggles into systems A and B"
   ]
  },
  {
   "cell_type": "markdown",
   "id": "6a69c963-1481-448e-8b2b-b6d7de6674e5",
   "metadata": {
    "jp-MarkdownHeadingCollapsed": true
   },
   "source": [
    "#### HCMI + CPTAC"
   ]
  },
  {
   "cell_type": "code",
   "execution_count": null,
   "id": "99409924-70f3-40e4-a25b-80e78d3d2d54",
   "metadata": {},
   "outputs": [],
   "source": [
    "print('systems:', systems)\n",
    "cncr = 'colon-nos-adeno'\n",
    "# cncr_lbl = 'colon-nos-adeno'\n",
    "sys_a_samp_canc_n = sys_a_samp[sys_a_samp.common_name == 'Colon, NOS'] # hcmi\n",
    "sys_b_samp_canc_n = sys_b_samp[sys_b_samp.cancer_type == 'Colon adenocarcinoma'] # cptac\n",
    "print(cncr)\n",
    "print('sys a:', sys_a, len(sys_a_samp_canc_n.improve_sample_id.unique()),\n",
    "    '\\nsys b:', sys_b, len(sys_b_samp_canc_n.improve_sample_id.unique()))"
   ]
  },
  {
   "cell_type": "code",
   "execution_count": null,
   "id": "f6665654-a166-4537-88e0-906ce15898ea",
   "metadata": {},
   "outputs": [],
   "source": [
    "sys_a_samp_canc_n.improve_sample_id"
   ]
  },
  {
   "cell_type": "code",
   "execution_count": null,
   "id": "9d6ca625-72f3-4cc4-b0d4-e94b7e96fff6",
   "metadata": {},
   "outputs": [],
   "source": [
    "print('systems:', systems)\n",
    "cncr = 'pancreatic-nos-ductal-ad'\n",
    "# cncr_lbl = 'pancreatic'\n",
    "sys_a_samp_canc_n = sys_a_samp[sys_a_samp.common_name == 'Pancreas, NOS'] # hcmi\n",
    "sys_b_samp_canc_n = sys_b_samp[sys_b_samp.cancer_type == 'Pancreatic ductal adenocarcinoma'] # cptac\n",
    "print(cncr)\n",
    "print('sys a:', sys_a, len(sys_a_samp_canc_n.improve_sample_id.unique()),\n",
    "    '\\nsys b:', sys_b, len(sys_b_samp_canc_n.improve_sample_id.unique()))"
   ]
  },
  {
   "cell_type": "markdown",
   "id": "912b6e61-4188-46aa-a87a-4056a5c25f9c",
   "metadata": {
    "jp-MarkdownHeadingCollapsed": true
   },
   "source": [
    "#### BeatAML"
   ]
  },
  {
   "cell_type": "code",
   "execution_count": null,
   "id": "9f893b01-04f9-4673-bb91-5f0418627561",
   "metadata": {},
   "outputs": [],
   "source": [
    "print(systems)\n",
    "cncr = 'AML'\n",
    "# cncr_lbl = 'aml'\n",
    "print(cncr)\n",
    "sys_a_samp_canc_n = sys_a_samp[sys_a_samp.cancer_type == 'Acute Myeloid Leukemia'] # cl\n",
    "sys_b_samp_canc_n = sys_b_samp[sys_b_samp.cancer_type == 'ACUTE MYELOID LEUKAEMIA'] # beatAML\n",
    "print('sys a:', sys_a, len(sys_a_samp_canc_n.improve_sample_id.unique()),\n",
    "    '\\nsys b:', sys_b, len(sys_b_samp_canc_n.improve_sample_id.unique()))"
   ]
  },
  {
   "cell_type": "markdown",
   "id": "bb08b0e5-7289-4483-a377-07d99ceb7185",
   "metadata": {},
   "source": [
    "#### Cell line + CPTAC, 5 cancers"
   ]
  },
  {
   "cell_type": "code",
   "execution_count": null,
   "id": "ac236dc9-2166-4d53-a934-b72f2748d798",
   "metadata": {},
   "outputs": [],
   "source": [
    "# Lung adeno\n",
    "print(systems)\n",
    "cncr = 'lung-adeno'\n",
    "print(cncr)\n",
    "sys_a_samp_canc_n = sys_a_samp[sys_a_samp.cancer_type == 'Lung Adenocarcinoma'] # cl\n",
    "sys_b_samp_canc_n = sys_b_samp[sys_b_samp.cancer_type == 'Lung adenocarcinoma'] # cp\n",
    "print('sys a:', sys_a, len(sys_a_samp_canc_n.improve_sample_id.unique()),\n",
    "    '\\nsys b:', sys_b, len(sys_b_samp_canc_n.improve_sample_id.unique()))"
   ]
  },
  {
   "cell_type": "code",
   "execution_count": null,
   "id": "40d3b3d6-e83c-46d9-b3e5-f75745f27dff",
   "metadata": {},
   "outputs": [],
   "source": [
    "# Pancreatic adeno\n",
    "print(systems)\n",
    "cncr = 'pancreatic-adeno'\n",
    "print(cncr)\n",
    "sys_a_samp_canc_n = sys_a_samp[sys_a_samp.cancer_type == 'Pancreatic Adenocarcinoma'] # cl\n",
    "sys_b_samp_canc_n = sys_b_samp[sys_b_samp.cancer_type == 'Pancreatic ductal adenocarcinoma'] # cp\n",
    "print('sys a:', sys_a, len(sys_a_samp_canc_n.improve_sample_id.unique()),\n",
    "    '\\nsys b:', sys_b, len(sys_b_samp_canc_n.improve_sample_id.unique()))"
   ]
  },
  {
   "cell_type": "code",
   "execution_count": null,
   "id": "9a2f3256-9ade-4435-a0c2-455c7197f00c",
   "metadata": {},
   "outputs": [],
   "source": [
    "# Colon adeno\n",
    "print(systems)\n",
    "cncr = 'colon-adeno'\n",
    "print(cncr)\n",
    "sys_a_samp_canc_n = sys_a_samp[sys_a_samp.cancer_type == 'Colon Adenocarcinoma'] # cl\n",
    "sys_b_samp_canc_n = sys_b_samp[sys_b_samp.cancer_type == 'Colon adenocarcinoma'] # cp\n",
    "print('sys a:', sys_a, len(sys_a_samp_canc_n.improve_sample_id.unique()),\n",
    "    '\\nsys b:', sys_b, len(sys_b_samp_canc_n.improve_sample_id.unique()))"
   ]
  },
  {
   "cell_type": "code",
   "execution_count": null,
   "id": "317090c0-6abb-4305-afb2-b1eba503088c",
   "metadata": {},
   "outputs": [],
   "source": [
    "# Glioblastoma\n",
    "print(systems)\n",
    "cncr = 'glioblastoma'\n",
    "print(cncr)\n",
    "sys_a_samp_canc_n = sys_a_samp[sys_a_samp.cancer_type == 'Glioblastoma']\n",
    "sys_b_samp_canc_n = sys_b_samp[sys_b_samp.cancer_type == 'Glioblastoma multiforme'] # cp\n",
    "print('sys a:', sys_a, len(sys_a_samp_canc_n.improve_sample_id.unique()),\n",
    "    '\\nsys b:', sys_b, len(sys_b_samp_canc_n.improve_sample_id.unique()))"
   ]
  },
  {
   "cell_type": "code",
   "execution_count": null,
   "id": "997809b3-303d-49d7-b6f3-430fb3e97778",
   "metadata": {},
   "outputs": [],
   "source": [
    "# Renal clear cell\n",
    "print(systems)\n",
    "cncr = 'renal-clear-cell'\n",
    "print(cncr)\n",
    "sys_a_samp_canc_n = sys_a_samp[sys_a_samp.cancer_type == 'Renal Clear Cell Carcinoma']\n",
    "sys_b_samp_canc_n = sys_b_samp[sys_b_samp.cancer_type == 'Clear cell renal cell carcinoma'] # cp\n",
    "print('sys a:', sys_a, len(sys_a_samp_canc_n.improve_sample_id.unique()),\n",
    "    '\\nsys b:', sys_b, len(sys_b_samp_canc_n.improve_sample_id.unique()))"
   ]
  },
  {
   "cell_type": "markdown",
   "id": "02e7888e-2e49-4b2c-8688-47cd1c4bb194",
   "metadata": {
    "jp-MarkdownHeadingCollapsed": true
   },
   "source": [
    "#### Cell line + CPTAC, BRCA"
   ]
  },
  {
   "cell_type": "code",
   "execution_count": null,
   "id": "2bbb32d9-252f-4eba-b6d2-3eeb1c3cdfc0",
   "metadata": {},
   "outputs": [],
   "source": [
    "# Breast Ductal - 3 transciptomic samples for cell line\n",
    "print(systems)\n",
    "cncr = 'breast-ductal'\n",
    "print(cncr)\n",
    "sys_a_samp_canc_n = sys_a_samp[sys_a_samp.cancer_type == 'Breast Invasive Ductal Carcinoma'] # cl\n",
    "sys_b_samp_canc_n = sys_b_samp[sys_b_samp.cancer_type == 'Breast carcinoma']\n",
    "print('sys a:', sys_a, len(sys_a_samp_canc_n.improve_sample_id.unique()),\n",
    "    '\\nsys b:', sys_b, len(sys_b_samp_canc_n.improve_sample_id.unique()))"
   ]
  },
  {
   "cell_type": "code",
   "execution_count": null,
   "id": "69b114ce-9eef-4441-a1db-b6b25620f9b1",
   "metadata": {},
   "outputs": [],
   "source": [
    "# Breast Lobular - # one cell line sample for prot, 8 samples trans (post-data type mapping)\n",
    "print(systems)\n",
    "cncr = 'breast-lobular'\n",
    "print(cncr)\n",
    "sys_a_samp_canc_n = sys_a_samp[sys_a_samp.cancer_type == 'Breast Invasive Lobular Carcinoma'] # cl\n",
    "sys_b_samp_canc_n = sys_b_samp[sys_b_samp.cancer_type == 'Breast carcinoma']\n",
    "print('sys a:', sys_a, len(sys_a_samp_canc_n.improve_sample_id.unique()),\n",
    "    '\\nsys b:', sys_b, len(sys_b_samp_canc_n.improve_sample_id.unique()))"
   ]
  },
  {
   "cell_type": "code",
   "execution_count": null,
   "id": "0d08d7cc-577b-48f3-b6aa-3ed6a9650ec2",
   "metadata": {},
   "outputs": [],
   "source": [
    "# Breast NOS - # two cell line samples for prot - 3 transciptomic samples for cell line (post-data type mapping)\n",
    "print(systems)\n",
    "cncr = 'breast-nos'\n",
    "print(cncr)\n",
    "sys_a_samp_canc_n = sys_a_samp[sys_a_samp.cancer_type == 'Breast Invasive Carcinoma, NOS'] # cl\n",
    "sys_b_samp_canc_n = sys_b_samp[sys_b_samp.cancer_type == 'Breast carcinoma']\n",
    "print('sys a:', sys_a, len(sys_a_samp_canc_n.improve_sample_id.unique()),\n",
    "    '\\nsys b:', sys_b, len(sys_b_samp_canc_n.improve_sample_id.unique()))"
   ]
  },
  {
   "cell_type": "markdown",
   "id": "ca1d5e38-32b2-4f6c-966a-2c92473a6a78",
   "metadata": {},
   "source": [
    "### ID extract"
   ]
  },
  {
   "cell_type": "code",
   "execution_count": null,
   "id": "f630f7a6-be7d-4c5f-9c7d-109cbb0908d4",
   "metadata": {},
   "outputs": [],
   "source": [
    "# def function:\n",
    "print(cncr, sys_a, sys_b)\n",
    "ids_sys_a = sys_a_samp_canc_n.improve_sample_id # \n",
    "ids_sys_b = sys_b_samp_canc_n.improve_sample_id #"
   ]
  },
  {
   "cell_type": "code",
   "execution_count": null,
   "id": "85ce81fb-e347-4550-8bea-87799304f35d",
   "metadata": {},
   "outputs": [],
   "source": [
    "ids_sys_a"
   ]
  },
  {
   "cell_type": "markdown",
   "id": "9918c6e5-64e1-4efe-be6f-3a7a36ddb420",
   "metadata": {},
   "source": [
    "### Data extraction"
   ]
  },
  {
   "cell_type": "markdown",
   "id": "f7439a11-d8d7-49f3-bbc7-e797eaa560f4",
   "metadata": {
    "jp-MarkdownHeadingCollapsed": true
   },
   "source": [
    "#### HCMI + CPTAC, data extraction"
   ]
  },
  {
   "cell_type": "code",
   "execution_count": null,
   "id": "25da1d4d-10cf-4b97-a67d-6c7e0325bfe2",
   "metadata": {},
   "outputs": [],
   "source": [
    "hcmi.transcriptomics"
   ]
  },
  {
   "cell_type": "code",
   "execution_count": null,
   "id": "0ebfd8c7-8596-4fda-957d-143265c12ce1",
   "metadata": {},
   "outputs": [],
   "source": [
    "print(cncr, systems)\n",
    "modality = 'transcriptomics'\n",
    "print(modality)\n",
    "moda = 'tran_'\n",
    "mda_n_sys_a = hcmi.transcriptomics[hcmi.transcriptomics.improve_sample_id.isin(ids_sys_a)] # sys n\n",
    "mda_n_sys_b = cptac.transcriptomics[cptac.transcriptomics.improve_sample_id.isin(ids_sys_b)] # hcmi is sys b\n",
    "print('sys a:', len(mda_n_sys_a.improve_sample_id.unique()))\n",
    "print('sys b:', len(mda_n_sys_b.improve_sample_id.unique()))"
   ]
  },
  {
   "cell_type": "markdown",
   "id": "40cf505d-bd7a-4078-b690-09d64b03460f",
   "metadata": {},
   "source": [
    "##### prot hcmi + cptac"
   ]
  },
  {
   "cell_type": "code",
   "execution_count": null,
   "id": "56f2b1d0-ce8c-4b94-90fd-d42e695360c1",
   "metadata": {},
   "outputs": [],
   "source": [
    "print(cncr, systems)\n",
    "modality = 'proteomics'\n",
    "print(modality)\n",
    "moda = 'prot_'\n",
    "mda_n_sys_a = hcmi.proteomics[hcmi.proteomics.improve_sample_id.isin(ids_sys_a)] # sys n\n",
    "mda_n_sys_b = cptac.proteomics[cptac.proteomics.improve_sample_id.isin(ids_sys_b)] # hcmi is sys b\n",
    "print('sys a:', len(mda_n_sys_a.improve_sample_id.unique()))\n",
    "print('sys b:', len(mda_n_sys_b.improve_sample_id.unique()))"
   ]
  },
  {
   "cell_type": "code",
   "execution_count": null,
   "id": "2910e561-c814-4d03-907b-b68cf0bb2842",
   "metadata": {},
   "outputs": [],
   "source": [
    "cptac.proteomics"
   ]
  },
  {
   "cell_type": "code",
   "execution_count": null,
   "id": "50037b57-6b17-4f4b-96f9-0d8d98acceee",
   "metadata": {},
   "outputs": [],
   "source": [
    "hcmi.proteomics"
   ]
  },
  {
   "cell_type": "markdown",
   "id": "232f4280-8484-4f5f-8894-ecf450f5282e",
   "metadata": {
    "jp-MarkdownHeadingCollapsed": true
   },
   "source": [
    "#### Cell line + BeatAML, data extraction"
   ]
  },
  {
   "cell_type": "markdown",
   "id": "60e386f9-1b5e-4312-b872-878bd818aa87",
   "metadata": {},
   "source": [
    "##### trans, cl + AML"
   ]
  },
  {
   "cell_type": "code",
   "execution_count": null,
   "id": "14ef35d9-cb21-4308-b143-d0fbfc334320",
   "metadata": {},
   "outputs": [],
   "source": [
    "print(cncr, systems)\n",
    "modality = 'transcriptomics'\n",
    "print(modality)\n",
    "moda = 'tran_'\n",
    "mda_n_sys_a = cell_line.transcriptomics[cell_line.transcriptomics.improve_sample_id.isin(ids_sys_a)] # cl\n",
    "mda_n_sys_b = beataml.transcriptomics[beataml.transcriptomics.improve_sample_id.isin(ids_sys_b)] # baml\n",
    "print('sys a:', len(mda_n_sys_a.improve_sample_id.unique()))\n",
    "print('sys b:', len(mda_n_sys_b.improve_sample_id.unique()))"
   ]
  },
  {
   "cell_type": "markdown",
   "id": "7a8a8088-c759-452f-b604-62717aad66f3",
   "metadata": {},
   "source": [
    "##### prot, cl + AML"
   ]
  },
  {
   "cell_type": "code",
   "execution_count": null,
   "id": "6357ed22-4587-40ce-9c0d-5138ab9e1502",
   "metadata": {},
   "outputs": [],
   "source": [
    "print(cncr, systems)\n",
    "modality = 'proteomics' # to file name\n",
    "print(modality)\n",
    "moda = 'prot_' # to columns and index\n",
    "mda_n_sys_a = cell_line.proteomics[cell_line.proteomics.improve_sample_id.isin(ids_sys_a)] # cl\n",
    "mda_n_sys_b = beataml.proteomics[beataml.proteomics.improve_sample_id.isin(ids_sys_b)] # beat aml\n",
    "print('sys a:', len(mda_n_sys_a.improve_sample_id.unique()))\n",
    "print('sys b:', len(mda_n_sys_b.improve_sample_id.unique()))"
   ]
  },
  {
   "cell_type": "markdown",
   "id": "a5642ecc-e1c2-4619-96a3-589c5610a259",
   "metadata": {},
   "source": [
    "#### Cell line + CPTAC, data extraction"
   ]
  },
  {
   "cell_type": "markdown",
   "id": "0a5685a3-7135-404b-a877-0bb8bdb9d811",
   "metadata": {
    "jp-MarkdownHeadingCollapsed": true
   },
   "source": [
    "##### trns"
   ]
  },
  {
   "cell_type": "code",
   "execution_count": null,
   "id": "e42b0fee-72d6-4510-8c89-998d36a05fb3",
   "metadata": {},
   "outputs": [],
   "source": [
    "print(cncr)\n",
    "modality = 'transcriptomics' # to file name # BRCA bug?\n",
    "print(modality)\n",
    "moda = 'tran_' # to columns and index\n",
    "mda_n_sys_a = cell_line.transcriptomics[cell_line.transcriptomics.improve_sample_id.isin(ids_sys_a)] # cl\n",
    "mda_n_sys_b = cptac.transcriptomics[cptac.transcriptomics.improve_sample_id.isin(ids_sys_b)]\n",
    "print('sys a:', len(mda_n_sys_a.improve_sample_id.unique()))\n",
    "print('sys b:', len(mda_n_sys_b.improve_sample_id.unique()))"
   ]
  },
  {
   "cell_type": "markdown",
   "id": "8a427a01-c656-4d15-a2ca-ad5adcb32212",
   "metadata": {},
   "source": [
    "##### prot"
   ]
  },
  {
   "cell_type": "code",
   "execution_count": null,
   "id": "6bffe055-8869-420d-9381-a964e9d90ffb",
   "metadata": {},
   "outputs": [],
   "source": [
    "print(cncr)\n",
    "modality = 'proteomics' # to file name\n",
    "print(modality)\n",
    "moda = 'prot_' # to columns and index\n",
    "mda_n_sys_a = cell_line.proteomics[cell_line.proteomics.improve_sample_id.isin(ids_sys_a)] # cl\n",
    "mda_n_sys_b = cptac.proteomics[cptac.proteomics.improve_sample_id.isin(ids_sys_b)]\n",
    "print('sys a:', len(mda_n_sys_a.improve_sample_id.unique()))\n",
    "print('sys b:', len(mda_n_sys_b.improve_sample_id.unique()))"
   ]
  },
  {
   "cell_type": "markdown",
   "id": "563c5ae2-006e-474f-a462-57b5170f70bd",
   "metadata": {
    "jp-MarkdownHeadingCollapsed": true
   },
   "source": [
    "##### cpnm"
   ]
  },
  {
   "cell_type": "code",
   "execution_count": null,
   "id": "6a8f3257-a589-4bb0-9d19-728464a2013f",
   "metadata": {},
   "outputs": [],
   "source": [
    "out_dir = '../results/input-data-cat/'+r+'/'+r+'-fls/'\n",
    "modality = 'copy-number' # to file name\n",
    "moda = 'cpnm_' # to columns and index\n",
    "mda_n_sys_a= cell_line.copy_number[cell_line.copy_number.improve_sample_id.isin(ids_sys_a)]\n",
    "mda_n_sys_b= cptac.copy_number[cptac.copy_number.improve_sample_id.isin(ids_sys_b)]"
   ]
  },
  {
   "cell_type": "markdown",
   "id": "612e2e02-46d7-4bbc-912e-7ddeaa6da81e",
   "metadata": {
    "jp-MarkdownHeadingCollapsed": true
   },
   "source": [
    "##### muta"
   ]
  },
  {
   "cell_type": "code",
   "execution_count": null,
   "id": "04b1ee9a-7947-4e65-9a51-8a25622c6f13",
   "metadata": {},
   "outputs": [],
   "source": [
    "modality = 'mutations' # to file name\n",
    "moda = 'muta_' # to columns and index\n",
    "mda_n_sys_a = cell_line.mutations[cell_line.mutations.improve_sample_id.isin(ids_sys_a)]\n",
    "mda_n_sys_b = cptac.mutations[cptac.mutations.improve_sample_id.isin(ids_sys_b)]"
   ]
  },
  {
   "cell_type": "markdown",
   "id": "b9d57cf5-d28b-4e4f-a818-889263640385",
   "metadata": {
    "jp-MarkdownHeadingCollapsed": true
   },
   "source": [
    "### Inspect / devel"
   ]
  },
  {
   "cell_type": "code",
   "execution_count": null,
   "id": "ac306eba-2cf5-4569-a472-9839f810b75d",
   "metadata": {},
   "outputs": [],
   "source": [
    "mda_n_sys_a"
   ]
  },
  {
   "cell_type": "code",
   "execution_count": null,
   "id": "d0b7da55-0f54-4b19-a0f6-7e4c1a62a89d",
   "metadata": {},
   "outputs": [],
   "source": [
    "mda_n_sys_b"
   ]
  },
  {
   "cell_type": "code",
   "execution_count": null,
   "id": "1563f0b8-5b9b-40dc-a9a4-aeb89adfddb6",
   "metadata": {},
   "outputs": [],
   "source": [
    "X_n = mda_n_sys_a\n",
    "df_lite = X_n.iloc[:, :3] # cut the last two columns, source and study\n",
    "size = f\"{df_lite.shape[0]:,}\"\n",
    "na_count = f\"{df_lite.isna().sum().sum():,}\"\n",
    "inf_count = f\"{df_lite.isin([np.inf, -np.inf]).sum().sum():,}\"\n",
    "# return df_lite, size, na_count, inf_count\n",
    "print(df_lite, size, na_count, inf_count)"
   ]
  },
  {
   "cell_type": "code",
   "execution_count": null,
   "id": "5b7dc60a-4895-431d-83b0-a55bf8b5657f",
   "metadata": {},
   "outputs": [],
   "source": [
    "df_lite"
   ]
  },
  {
   "cell_type": "code",
   "execution_count": null,
   "id": "668b0e3d-3cfa-4a78-b378-eae5a89625e0",
   "metadata": {},
   "outputs": [],
   "source": [
    "data_type = df_lite.columns[2]"
   ]
  },
  {
   "cell_type": "code",
   "execution_count": null,
   "id": "4152ca63-615a-47af-9820-72d5a34d459f",
   "metadata": {},
   "outputs": [],
   "source": [
    "data_type"
   ]
  },
  {
   "cell_type": "code",
   "execution_count": null,
   "id": "4d4fc80a-3db1-47d0-8d39-449ac908699f",
   "metadata": {},
   "outputs": [],
   "source": [
    "dot_T = df_lite.pivot_table(\n",
    "    index='improve_sample_id',\n",
    "    columns='entrez_id',\n",
    "    values=data_type,\n",
    "    aggfunc='mean'             # average duplicate values\n",
    ")"
   ]
  },
  {
   "cell_type": "code",
   "execution_count": null,
   "id": "55e050bc-f245-40a6-8163-1c95c6bef0bf",
   "metadata": {},
   "outputs": [],
   "source": [
    "dot_T"
   ]
  },
  {
   "cell_type": "code",
   "execution_count": null,
   "id": "e0d3ef95-ff02-4909-b8ec-ba46a02d3267",
   "metadata": {},
   "outputs": [],
   "source": [
    "moda"
   ]
  },
  {
   "cell_type": "code",
   "execution_count": null,
   "id": "fd5a05be-151e-4ed2-9f54-5ca18f1f7544",
   "metadata": {},
   "outputs": [],
   "source": [
    "g(moda, dot_T.copy())\n",
    "# columns are int, index are float, fail, write another function"
   ]
  },
  {
   "cell_type": "markdown",
   "id": "989a9257-0d01-4acc-b561-25d4bf83ea6e",
   "metadata": {},
   "source": [
    "### Extraction to disk script"
   ]
  },
  {
   "cell_type": "code",
   "execution_count": null,
   "id": "16e96751-0825-44f0-a8a2-341230ee3616",
   "metadata": {},
   "outputs": [],
   "source": [
    "df_lite, size, na_count, inf_count = df_check(mda_n_sys_a)\n",
    "print(sys_a, '| sys a')                 #               ^ \n",
    "print(cncr, modality)\n",
    "print(size)\n",
    "print(na_count)\n",
    "print(inf_count)\n",
    "\n",
    "wall_clock, dot_T = extract(df_lite)\n",
    "dot_T = g(moda, dot_T.copy())\n",
    "dot_T.dropna(axis = 1, inplace = True)\n",
    "a = dot_T\n",
    "print(len(a))\n",
    "print(' ')\n",
    "\n",
    "df_lite, size, na_count, inf_count = df_check(mda_n_sys_b)\n",
    "print(sys_b, '| sys b')                 #               ^ \n",
    "print(cncr, modality)\n",
    "print('len: ', size)\n",
    "print('NaNs: ', na_count)\n",
    "print('Infs: ', inf_count)\n",
    "\n",
    "wall_clock, dot_T = extract(df_lite)\n",
    "dot_T = g(moda, dot_T.copy())\n",
    "dot_T.dropna(axis = 1, inplace = True)\n",
    "b = dot_T\n",
    "print(len(b))\n",
    "\n",
    "a.insert(0, 'Cancer_type', cncr)\n",
    "b.insert(0, 'Cancer_type', cncr)\n",
    "a.insert(0, 'System', sys_a)\n",
    "b.insert(0, 'System', sys_b)\n",
    "\n",
    "ab = pd.concat([a, b], axis=0, join='inner')"
   ]
  },
  {
   "cell_type": "markdown",
   "id": "e9fb6480-056d-40fa-8ca0-c1466589ea4c",
   "metadata": {},
   "source": [
    "### Disk write"
   ]
  },
  {
   "cell_type": "code",
   "execution_count": null,
   "id": "5f681efb-edf2-4196-b389-6f56a4a0ba0d",
   "metadata": {},
   "outputs": [],
   "source": [
    "out_dir = '../data/r8/'"
   ]
  },
  {
   "cell_type": "code",
   "execution_count": null,
   "id": "562194d5-86fd-48db-9cfa-5f8525881938",
   "metadata": {},
   "outputs": [],
   "source": [
    "out_dir, cncr, modality, systems"
   ]
  },
  {
   "cell_type": "code",
   "execution_count": null,
   "id": "f3cea2a8-7e70-4d3e-827a-cf3bd86291e3",
   "metadata": {},
   "outputs": [],
   "source": [
    "ab.System.value_counts()"
   ]
  },
  {
   "cell_type": "code",
   "execution_count": null,
   "id": "e1eb0778-ed5c-4d1f-91fb-eee5f19ade90",
   "metadata": {},
   "outputs": [],
   "source": [
    "ab.Cancer_type.value_counts()"
   ]
  },
  {
   "cell_type": "code",
   "execution_count": null,
   "id": "f9ab6807-08a9-414a-a727-d7fd1f3e95d6",
   "metadata": {},
   "outputs": [],
   "source": [
    "ab"
   ]
  },
  {
   "cell_type": "code",
   "execution_count": null,
   "id": "485ad603-9178-4f6a-9422-0a86a31dc8a3",
   "metadata": {},
   "outputs": [],
   "source": [
    "# Write two-system, single cancer type to disk\n",
    "ab.to_csv(out_dir+\n",
    "    '/'+cncr+'_'+modality+'_'+systems+'.tsv',\n",
    "    sep = '\\t')"
   ]
  },
  {
   "cell_type": "code",
   "execution_count": null,
   "id": "9d7be6ae-d14d-4857-9b5d-c0f04f83568a",
   "metadata": {},
   "outputs": [],
   "source": [
    "chk_ab = pd.read_csv(out_dir+\n",
    "    '/'+cncr+'_'+modality+'_'+systems+'.tsv',\n",
    "    sep = '\\t', index_col = 0)"
   ]
  },
  {
   "cell_type": "code",
   "execution_count": null,
   "id": "9b80fc41-b534-44a6-b2c9-46644b305acb",
   "metadata": {
    "scrolled": true
   },
   "outputs": [],
   "source": [
    "print(out_dir, cncr, modality, systems)\n",
    "chk_ab"
   ]
  },
  {
   "cell_type": "code",
   "execution_count": null,
   "id": "74e557be-6d3b-44e9-861e-04d248075aba",
   "metadata": {},
   "outputs": [],
   "source": [
    "cncr, modality, systems"
   ]
  },
  {
   "cell_type": "code",
   "execution_count": null,
   "id": "fb97f4a0-364d-4dc2-ba8f-5badd3750bae",
   "metadata": {},
   "outputs": [],
   "source": [
    "# Make binary and multi-class files in UniFile"
   ]
  },
  {
   "cell_type": "markdown",
   "id": "79585785-aa2b-4c65-b092-81f4ce1cbae8",
   "metadata": {
    "jp-MarkdownHeadingCollapsed": true
   },
   "source": [
    "#### Experimental record"
   ]
  },
  {
   "cell_type": "raw",
   "id": "1d588c50-5978-4602-80d8-ddd261c45432",
   "metadata": {},
   "source": [
    "2024-02-26, r5\n",
    "('esophogeal', 'transcriptomics', 'cell-line+HCMI')\n",
    "('pancreas', 'transcriptomics', 'cell-line+HCMI')\n",
    "('colon', 'transcriptomics', 'cell-line+HCMI')\n",
    "('pancreatic', 'transcriptomics', 'CPTAC+HCMI')\n",
    "('colon', 'transcriptomics', 'CPTAC+HCMI')\n",
    "('brain', 'transcriptomics', 'CPTAC+HCMI')\n",
    "('ovarian', 'transcriptomics', 'CPTAC+HCMI')\n",
    "('breast', 'transcriptomics', 'CPTAC+HCMI')\n",
    "('lung-ad', 'transcriptomics', 'CPTAC+HCMI')\n",
    "('lung-sq', 'transcriptomics', 'CPTAC+HCMI')\n",
    "('AML', 'transcriptomics', 'cell-line+BeatAML')\n",
    "('AML', 'proteomics', 'cell-line+BeatAML')\n",
    "\n",
    "--\n",
    "lung-adeno\n",
    "pancreatic-adeno\n",
    "renal-clear-cell\n",
    "colon-adeno\n",
    "glioblastoma"
   ]
  },
  {
   "cell_type": "markdown",
   "id": "26b997d0-0506-4a55-a909-3bb32ee905d4",
   "metadata": {
    "jp-MarkdownHeadingCollapsed": true
   },
   "source": [
    "##### Check proteomics negatives"
   ]
  },
  {
   "cell_type": "code",
   "execution_count": null,
   "id": "7a93edd0-e3f1-4ca8-842e-f9abaecfa032",
   "metadata": {},
   "outputs": [],
   "source": [
    "prot_neg_fls = glob.glob('../strctrd/one_cncr/*proteomics_cell-line+CPTAC.tsv')"
   ]
  },
  {
   "cell_type": "code",
   "execution_count": null,
   "id": "fafc21c7-f8ba-48b7-a720-312696817e5e",
   "metadata": {},
   "outputs": [],
   "source": [
    "prot_neg_fls"
   ]
  },
  {
   "cell_type": "code",
   "execution_count": null,
   "id": "229d3626-2d2b-4657-ac8c-82215efc954e",
   "metadata": {},
   "outputs": [],
   "source": [
    "for png in prot_neg_fls:\n",
    "    chk_ab = pd.read_csv(png,\n",
    "        sep = '\\t', index_col = 0)\n",
    "    print(png.split('/')[3])\n",
    "    print(chk_ab.iloc[:, 2:].min().min())\n",
    "    print(' ')\n",
    "    # break"
   ]
  },
  {
   "cell_type": "code",
   "execution_count": null,
   "id": "eb66dca9-263a-4520-90c7-b811f0a5505c",
   "metadata": {},
   "outputs": [],
   "source": [
    "chk_ab.iloc[:, 2:].min().min()"
   ]
  },
  {
   "cell_type": "code",
   "execution_count": null,
   "id": "85353ce4-db3c-4cfb-9c1d-7c776bc08303",
   "metadata": {},
   "outputs": [],
   "source": [
    "print(cncr)\n",
    "ab.iloc[:3, :3]"
   ]
  },
  {
   "cell_type": "code",
   "execution_count": null,
   "id": "cc5ae405-ba59-4006-b596-f1e77065399f",
   "metadata": {},
   "outputs": [],
   "source": [
    "ab.shape"
   ]
  },
  {
   "cell_type": "markdown",
   "id": "61317474-332d-4165-a5c9-6f290e29deb0",
   "metadata": {},
   "source": [
    "### Devel"
   ]
  },
  {
   "cell_type": "markdown",
   "id": "322415bf-f4ef-474a-8d2e-cd6303dfaf3a",
   "metadata": {},
   "source": [
    "#### Extract sample ids"
   ]
  },
  {
   "cell_type": "code",
   "execution_count": null,
   "id": "b36cfb5e-fe78-4f6f-9fc3-074f5d0ed987",
   "metadata": {},
   "outputs": [],
   "source": [
    "print(cncr, sys_a, sys_b)\n",
    "ids_sys_a = sys_a_samp_canc_n.improve_sample_id # \n",
    "ids_sys_b = sys_b_samp_canc_n.improve_sample_id # "
   ]
  },
  {
   "cell_type": "markdown",
   "id": "bf489d37-da8b-45a2-b539-82e2dc878445",
   "metadata": {},
   "source": [
    "#### Data extraction, AML"
   ]
  },
  {
   "cell_type": "markdown",
   "id": "3bb77775-0e92-4d57-8a83-3e3e1fc46f43",
   "metadata": {},
   "source": [
    "#### Project A"
   ]
  },
  {
   "cell_type": "code",
   "execution_count": null,
   "id": "e3ff696f-67e0-44ea-b350-7ed4f9b88c2f",
   "metadata": {},
   "outputs": [],
   "source": [
    "df_lite, size, na_count, inf_count = df_check(mda_n_sys_a)\n",
    "print(sys_a, '| sys a')                 #               ^ \n",
    "print(cncr, modality)\n",
    "print(size)\n",
    "print(na_count)\n",
    "print(inf_count)\n",
    "\n",
    "wall_clock, dot_T = extract(df_lite)\n",
    "dot_T = g(moda, dot_T.copy())\n",
    "dot_T.dropna(axis = 1, inplace = True)\n",
    "# add zero check\n",
    "a = dot_T # cell line"
   ]
  },
  {
   "cell_type": "markdown",
   "id": "6f06adb1-be6a-4c43-921f-540195b3a5a7",
   "metadata": {},
   "source": [
    "#### Project B"
   ]
  },
  {
   "cell_type": "code",
   "execution_count": null,
   "id": "df58287c-bcfc-4bf3-970e-10db36a792a3",
   "metadata": {},
   "outputs": [],
   "source": [
    "df_lite, size, na_count, inf_count = df_check(mda_n_sys_b)\n",
    "print(sys_b, '| sys b')                 #               ^ \n",
    "print(cncr, modality)\n",
    "print('len: ', size)\n",
    "print('NaNs: ', na_count)\n",
    "print('Infs: ', inf_count)\n",
    "\n",
    "wall_clock, dot_T = extract(df_lite)\n",
    "dot_T = g(moda, dot_T.copy())\n",
    "dot_T.dropna(axis = 1, inplace = True)\n",
    "b = dot_T # "
   ]
  },
  {
   "cell_type": "markdown",
   "id": "e955d242-9b01-42fa-8ed3-9b8312a5eb7f",
   "metadata": {},
   "source": [
    "#### Labels"
   ]
  },
  {
   "cell_type": "markdown",
   "id": "bf4d8697-1aa8-48ef-8738-ec131e258c35",
   "metadata": {},
   "source": [
    "##### Check a and b are different"
   ]
  },
  {
   "cell_type": "code",
   "execution_count": null,
   "id": "bce05ecb-fbc9-440f-b30c-35fd3cf336de",
   "metadata": {},
   "outputs": [],
   "source": [
    "a.iloc[:3, :3]"
   ]
  },
  {
   "cell_type": "code",
   "execution_count": null,
   "id": "b9910252-619f-41e8-94f9-e7487d5851af",
   "metadata": {},
   "outputs": [],
   "source": [
    "b.iloc[:3, :3]"
   ]
  },
  {
   "cell_type": "markdown",
   "id": "7ec93f50-dd8a-411f-9f2b-1cb534b792e5",
   "metadata": {},
   "source": [
    "##### Continue"
   ]
  },
  {
   "cell_type": "code",
   "execution_count": null,
   "id": "e3a7e455-0b15-4e70-b7c6-46ab14183f31",
   "metadata": {},
   "outputs": [],
   "source": [
    "a.insert(0, 'Cancer_type', cncr_lbl)\n",
    "b.insert(0, 'Cancer_type', cncr_lbl)\n",
    "a.insert(0, 'System', sys_a_lbl)\n",
    "b.insert(0, 'System', sys_b_lbl)"
   ]
  },
  {
   "cell_type": "code",
   "execution_count": null,
   "id": "45c947e4-e9aa-47bd-b553-6deb3953af22",
   "metadata": {},
   "outputs": [],
   "source": [
    "ab = pd.concat([a, b], axis=0, join='inner')"
   ]
  },
  {
   "cell_type": "code",
   "execution_count": null,
   "id": "c7eae046-d161-4f43-af48-b67840e60ebb",
   "metadata": {},
   "outputs": [],
   "source": [
    "print(cncr, modality)\n",
    "ab"
   ]
  },
  {
   "cell_type": "code",
   "execution_count": null,
   "id": "627be977-1518-43b5-b945-96bcadfff186",
   "metadata": {},
   "outputs": [],
   "source": [
    "ab.shape"
   ]
  }
 ],
 "metadata": {
  "kernelspec": {
   "display_name": "Python 3 (ipykernel)",
   "language": "python",
   "name": "python3"
  },
  "language_info": {
   "codemirror_mode": {
    "name": "ipython",
    "version": 3
   },
   "file_extension": ".py",
   "mimetype": "text/x-python",
   "name": "python",
   "nbconvert_exporter": "python",
   "pygments_lexer": "ipython3",
   "version": "3.10.8"
  }
 },
 "nbformat": 4,
 "nbformat_minor": 5
}
