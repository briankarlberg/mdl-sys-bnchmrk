{
 "cells": [
  {
   "cell_type": "code",
   "execution_count": null,
   "id": "9cd6d37d-8ce9-418f-aa50-1c9e99ac9198",
   "metadata": {},
   "outputs": [],
   "source": [
    "# data_loader\n",
    "    # read from model system sub-folders in data\n",
    "    # write to structure and figure folders in output/\n",
    "    # read from output/ to correction methods, write to results/"
   ]
  },
  {
   "cell_type": "markdown",
   "id": "1669f06f-d0bf-4d2e-aa4f-8dfc94ae8e93",
   "metadata": {},
   "source": [
    "https://pnnl-compbio.github.io/coderdata/pages/usage"
   ]
  },
  {
   "cell_type": "markdown",
   "id": "6693c3ab-58f6-4238-86fc-a2cf9e3ffd57",
   "metadata": {},
   "source": [
    "#### Download data"
   ]
  },
  {
   "cell_type": "raw",
   "id": "5b6a12c6-5783-4867-8f8f-e94d53e4b1eb",
   "metadata": {},
   "source": [
    "pwd\n",
    "mdl-sys-bnchmrk/data/<cancer model system specific sub-folder>"
   ]
  },
  {
   "cell_type": "code",
   "execution_count": 3,
   "id": "899dc530-a6b2-44ec-8994-4c2002bf1899",
   "metadata": {},
   "outputs": [],
   "source": [
    "import coderdata as cd"
   ]
  },
  {
   "cell_type": "code",
   "execution_count": null,
   "id": "5b5b31d1-e1fe-444e-bbfb-71201a91ee88",
   "metadata": {},
   "outputs": [],
   "source": [
    "# cd.download_data_by_prefix('beataml')\n",
    "cd.download_data_by_prefix('cell_line')\n",
    "cd.download_data_by_prefix('cptac')\n",
    "# cd.download_data_by_prefix('hcmi')"
   ]
  },
  {
   "cell_type": "markdown",
   "id": "7784f7a8-0149-4f57-b3a2-81720e712be1",
   "metadata": {},
   "source": [
    "#### Set systems"
   ]
  },
  {
   "cell_type": "code",
   "execution_count": 7,
   "id": "c305c6cc-8255-4d0d-bc30-e4c92117fe1c",
   "metadata": {},
   "outputs": [
    {
     "name": "stdout",
     "output_type": "stream",
     "text": [
      "Variable   Type      Data/Info\n",
      "------------------------------\n",
      "cd         module    <module 'coderdata' from <...>s/coderdata/__init__.py'>\n"
     ]
    }
   ],
   "source": [
    "%whos"
   ]
  },
  {
   "cell_type": "code",
   "execution_count": 21,
   "id": "a0b89cd0-a84c-4c71-8294-802a78b17ec1",
   "metadata": {},
   "outputs": [
    {
     "name": "stdout",
     "output_type": "stream",
     "text": [
      "Processing Data...\n",
      "Processing Data...\n",
      "DatasetLoaders in RAM\n"
     ]
    }
   ],
   "source": [
    "import coderdata as cd\n",
    "cell_line = cd.DatasetLoader('cell_line', data_directory = '../data/cell_line/') # a\n",
    "cptac = cd.DatasetLoader('cptac', data_directory = '../data/cptac/') # b\n",
    "\n",
    "print('DatasetLoaders in RAM')\n",
    "systems = 'cell-line+CPTAC'"
   ]
  },
  {
   "cell_type": "markdown",
   "id": "f35e165e-2edd-4662-8963-1cf53dd46ffc",
   "metadata": {},
   "source": [
    "#### Imports and functions"
   ]
  },
  {
   "cell_type": "code",
   "execution_count": null,
   "id": "e5cf931a-a468-4ee1-a859-7f8769a6580e",
   "metadata": {},
   "outputs": [],
   "source": [
    "import glob\n",
    "import pandas as pd\n",
    "import umap\n",
    "import numpy as np\n",
    "import os\n",
    "import matplotlib.pyplot as plt\n",
    "from matplotlib.lines import Line2D"
   ]
  },
  {
   "cell_type": "code",
   "execution_count": 10,
   "id": "2d0d9d22-04b3-4a02-8e49-f27a7114f444",
   "metadata": {},
   "outputs": [],
   "source": [
    "# Traspose long-form X-file into biomarkers as columns,\n",
    "def extract(df_lite):\n",
    "    import time\n",
    "    start = time.time()\n",
    "    data_type = df_lite.columns[2] # extract marker values\n",
    "\n",
    "    dot_T = df_lite.pivot_table(\n",
    "        index='improve_sample_id',\n",
    "        columns='entrez_id',\n",
    "        values=data_type,\n",
    "        aggfunc='mean'             # average duplicate values\n",
    "    )\n",
    "\n",
    "    end = time.time()\n",
    "    wall_clock = end - start\n",
    "    return str(round(wall_clock / 60, 2)) + ' minutes', dot_T"
   ]
  },
  {
   "cell_type": "code",
   "execution_count": 11,
   "id": "f4d53ca1-d276-4278-bb0b-1e45b2bfe5c4",
   "metadata": {},
   "outputs": [],
   "source": [
    "# Extract ids and biomarker values\n",
    "def df_check(X_n):\n",
    "    df_lite = X_n.iloc[:, :3] # cut the last two columns, source and study\n",
    "    size = f\"{df_lite.shape[0]:,}\"\n",
    "    na_count = f\"{df_lite.isna().sum().sum():,}\"\n",
    "    inf_count = f\"{df_lite.isin([np.inf, -np.inf]).sum().sum():,}\"\n",
    "    return df_lite, size, na_count, inf_count"
   ]
  },
  {
   "cell_type": "code",
   "execution_count": 12,
   "id": "016ca65e-0f63-4f0a-84ad-f6880b50bb61",
   "metadata": {},
   "outputs": [],
   "source": [
    "# dot_T = g(d_typ, dot_T.copy())\n",
    "def g(d_typ, df):\n",
    "    \"\"\"\n",
    "    Checks the data types of columns and index in a DataFrame and prints informative messages.\n",
    "\n",
    "    Args:\n",
    "        df (pandas.DataFrame): The DataFrame to check.\n",
    "\n",
    "    Returns:\n",
    "        None\n",
    "    \"\"\"\n",
    "\n",
    "    if df.columns.dtype == 'float64' and df.index.dtype == 'float64':\n",
    "        print('both float')\n",
    "        df = float_to_string(d_typ, df)\n",
    "    elif df.columns.dtype == 'float64' and df.index.dtype == 'int':\n",
    "        print('columns are float, index are int')\n",
    "        df = indx_int_colm_flt(d_typ, df)\n",
    "    elif df.columns.dtype == 'int' and df.index.dtype == 'float':\n",
    "        print('columns are int, index are float, fail, write another function')\n",
    "        # forth function\n",
    "    elif df.columns.dtype == 'int' and df.index.dtype == 'int':\n",
    "        print('columns are int, index are int')\n",
    "        df = int_to_string(d_typ, df)\n",
    "    else:\n",
    "        print('non int or float dtype detected')\n",
    "    return df"
   ]
  },
  {
   "cell_type": "code",
   "execution_count": 13,
   "id": "d6738cf4-43f4-4fa1-8c36-324ce0f59232",
   "metadata": {},
   "outputs": [],
   "source": [
    "def int_to_string(d_typ, dot_T):\n",
    "    dot_T.columns = dot_T.columns.map(str)\n",
    "    dot_T.columns = ['entrz_' + d_typ + i for i in dot_T.columns] #\n",
    "    dot_T.columns.name = 'entrez_id'\n",
    "\n",
    "    dot_T.index = dot_T.index.map(str)\n",
    "    dot_T.index = ['smpl_id_' + i for i in dot_T.index]\n",
    "    dot_T.index.name = 'improve_sample_id'\n",
    "    return dot_T"
   ]
  },
  {
   "cell_type": "code",
   "execution_count": 14,
   "id": "0f9c1b97-5e33-419d-baf3-bc3c8f3a137b",
   "metadata": {},
   "outputs": [],
   "source": [
    "def indx_int_colm_flt(d_typ, dot_T):\n",
    "    dot_T.columns = dot_T.columns.map(str)\n",
    "    dot_T.columns = [i.split('.')[0] for i in dot_T.columns]\n",
    "    dot_T.columns = ['entrz_' + d_typ + i for i in dot_T.columns]\n",
    "    dot_T.columns.name = 'entrez_id'\n",
    "    \n",
    "    dot_T.index = dot_T.index.map(str)\n",
    "    dot_T.index = ['smpl_id_' + i for i in dot_T.index]\n",
    "    dot_T.index.name = 'improve_sample_id'\n",
    "    return dot_T"
   ]
  },
  {
   "cell_type": "code",
   "execution_count": 15,
   "id": "61e643e0-6ccf-472a-bc8b-0831eca51699",
   "metadata": {},
   "outputs": [],
   "source": [
    "def float_to_string(d_typ, dot_T):\n",
    "    dot_T.columns = dot_T.columns.map(str)\n",
    "    dot_T.columns = [i.split('.')[0] for i in dot_T.columns]\n",
    "    dot_T.columns = ['entrz_' + d_typ + i for i in dot_T.columns]\n",
    "    dot_T.columns.name = 'entrez_id'\n",
    "    \n",
    "    dot_T.index = dot_T.index.map(str)\n",
    "    dot_T.index = [i.split('.')[0] for i in dot_T.index]\n",
    "    dot_T.index = ['smpl_id_' + i for i in dot_T.index]\n",
    "    dot_T.index.name = 'improve_sample_id'\n",
    "    return dot_T"
   ]
  },
  {
   "cell_type": "markdown",
   "id": "b4d85dfb-be6f-4583-a4af-ba844e8eb6db",
   "metadata": {},
   "source": [
    "#### Samples, abstract systems to a and b"
   ]
  },
  {
   "cell_type": "code",
   "execution_count": 22,
   "id": "eefc8d3e-d0fe-4630-9e4b-50f5919d2813",
   "metadata": {},
   "outputs": [],
   "source": [
    "sys_a_samp = cell_line.samples\n",
    "sys_a = 'cell-line'\n",
    "sys_a_lbl = 'cell_line'\n",
    "\n",
    "sys_b_samp = cptac.samples\n",
    "sys_b = 'cptac'\n",
    "sys_b_lbl = 'CPTAC'"
   ]
  },
  {
   "cell_type": "markdown",
   "id": "f1c63ed2-e57d-4fb8-83e9-b48cc8de416d",
   "metadata": {},
   "source": [
    "#### Cancer_type view"
   ]
  },
  {
   "cell_type": "code",
   "execution_count": null,
   "id": "d0e2e586-b3e3-4f1f-9f2f-d5dea155b029",
   "metadata": {
    "scrolled": true
   },
   "outputs": [],
   "source": [
    "print(sys_a, 'is system a')\n",
    "sys_a_samp.cancer_type.value_counts()[:60]"
   ]
  },
  {
   "cell_type": "code",
   "execution_count": null,
   "id": "9181d248-dd89-4348-8326-c35e2748a93c",
   "metadata": {},
   "outputs": [],
   "source": [
    "print(sys_b, 'is system b')\n",
    "sys_b_samp.cancer_type.value_counts()[:50]"
   ]
  },
  {
   "cell_type": "markdown",
   "id": "bb08b0e5-7289-4483-a377-07d99ceb7185",
   "metadata": {},
   "source": [
    "#### Cancer_type toggles, cell line as a, CPTAC as b"
   ]
  },
  {
   "cell_type": "code",
   "execution_count": null,
   "id": "ac236dc9-2166-4d53-a934-b72f2748d798",
   "metadata": {},
   "outputs": [],
   "source": [
    "# Lung adeno\n",
    "cncr = 'lung-adeno'\n",
    "cncr_lbl = 'lung_adeno'\n",
    "sys_a_samp_canc_n = sys_a_samp[sys_a_samp.cancer_type == 'Lung Adenocarcinoma'] # cl\n",
    "sys_b_samp_canc_n = sys_b_samp[sys_b_samp.cancer_type == 'Lung adenocarcinoma'] # cp"
   ]
  },
  {
   "cell_type": "code",
   "execution_count": null,
   "id": "40d3b3d6-e83c-46d9-b3e5-f75745f27dff",
   "metadata": {},
   "outputs": [],
   "source": [
    "# Pancreatic adeno\n",
    "cncr = 'pancreatic-adeno'\n",
    "cncr_lbl = 'pancreatic_adeno'\n",
    "sys_a_samp_canc_n = sys_a_samp[sys_a_samp.cancer_type == 'Pancreatic Adenocarcinoma'] # cl\n",
    "sys_b_samp_canc_n = sys_b_samp[sys_b_samp.cancer_type == 'Pancreatic ductal adenocarcinoma'] # cp"
   ]
  },
  {
   "cell_type": "code",
   "execution_count": null,
   "id": "d1eecdcb-05be-4bb8-8990-933a1a2f57e2",
   "metadata": {},
   "outputs": [],
   "source": [
    "# Head and neck\n",
    "cncr = 'head-neck'\n",
    "cncr_lbl = 'head_neck'\n",
    "sys_a_samp_canc_n = sys_a_samp[sys_a_samp.cancer_type == 'Head and Neck Squamous Cell Carcinoma'] # cl\n",
    "sys_b_samp_canc_n = sys_b_samp[sys_b_samp.cancer_type == 'Head and Neck squamous cell carcinoma'] # cp"
   ]
  },
  {
   "cell_type": "code",
   "execution_count": null,
   "id": "9a2f3256-9ade-4435-a0c2-455c7197f00c",
   "metadata": {},
   "outputs": [],
   "source": [
    "# Colon adeno\n",
    "cncr = 'colon-adeno'\n",
    "cncr_lbl = 'colon_adeno'\n",
    "sys_a_samp_canc_n = sys_a_samp[sys_a_samp.cancer_type == 'Colon Adenocarcinoma'] # cl\n",
    "sys_b_samp_canc_n = sys_b_samp[sys_b_samp.cancer_type == 'Colon adenocarcinoma'] # cp"
   ]
  },
  {
   "cell_type": "code",
   "execution_count": 104,
   "id": "317090c0-6abb-4305-afb2-b1eba503088c",
   "metadata": {},
   "outputs": [],
   "source": [
    "# Glioblastoma\n",
    "cncr = 'glioblastoma'\n",
    "cncr_lbl = 'glioblastoma'\n",
    "sys_a_samp_canc_n = sys_a_samp[sys_a_samp.cancer_type == 'Glioblastoma']\n",
    "sys_b_samp_canc_n = sys_b_samp[sys_b_samp.cancer_type == 'Glioblastoma multiforme']"
   ]
  },
  {
   "cell_type": "code",
   "execution_count": null,
   "id": "2bbb32d9-252f-4eba-b6d2-3eeb1c3cdfc0",
   "metadata": {},
   "outputs": [],
   "source": [
    "# Breast Ductal\n",
    "cncr = 'breast-ductal'\n",
    "cncr_lbl = 'breast_ductal'\n",
    "sys_a_samp_canc_n = sys_a_samp[sys_a_samp.cancer_type == 'Breast Invasive Ductal Carcinoma']\n",
    "sys_b_samp_canc_n = sys_b_samp[sys_b_samp.cancer_type == 'Breast carcinoma']"
   ]
  },
  {
   "cell_type": "code",
   "execution_count": null,
   "id": "69b114ce-9eef-4441-a1db-b6b25620f9b1",
   "metadata": {},
   "outputs": [],
   "source": [
    "# Breast Lobular\n",
    "cncr = 'breast-lobular'\n",
    "cncr_lbl = 'breast_lobular'\n",
    "sys_a_samp_canc_n = sys_a_samp[sys_a_samp.cancer_type == 'Breast Invasive Lobular Carcinoma']\n",
    "sys_b_samp_canc_n = sys_b_samp[sys_b_samp.cancer_type == 'Breast carcinoma']"
   ]
  },
  {
   "cell_type": "code",
   "execution_count": null,
   "id": "0d08d7cc-577b-48f3-b6aa-3ed6a9650ec2",
   "metadata": {},
   "outputs": [],
   "source": [
    "# Breast NOS\n",
    "cncr = 'breast-nos'\n",
    "cncr_lbl = 'breast_nos'\n",
    "sys_a_samp_canc_n = sys_a_samp[sys_a_samp.cancer_type == 'Breast Invasive Carcinoma, NOS']\n",
    "sys_b_samp_canc_n = sys_b_samp[sys_b_samp.cancer_type == 'Breast carcinoma']"
   ]
  },
  {
   "cell_type": "code",
   "execution_count": 139,
   "id": "997809b3-303d-49d7-b6f3-430fb3e97778",
   "metadata": {},
   "outputs": [],
   "source": [
    "# Renal clear cell\n",
    "cncr = 'renal-clear-cell'\n",
    "cncr_lbl = 'renal_clear_cell'\n",
    "sys_a_samp_canc_n = sys_a_samp[sys_a_samp.cancer_type == 'Renal Clear Cell Carcinoma']\n",
    "sys_b_samp_canc_n = sys_b_samp[sys_b_samp.cancer_type == 'Clear cell renal cell carcinoma']"
   ]
  },
  {
   "cell_type": "markdown",
   "id": "322415bf-f4ef-474a-8d2e-cd6303dfaf3a",
   "metadata": {},
   "source": [
    "#### Continue"
   ]
  },
  {
   "cell_type": "code",
   "execution_count": 140,
   "id": "b36cfb5e-fe78-4f6f-9fc3-074f5d0ed987",
   "metadata": {},
   "outputs": [
    {
     "name": "stdout",
     "output_type": "stream",
     "text": [
      "renal-clear-cell\n"
     ]
    }
   ],
   "source": [
    "print(cncr)\n",
    "ids_sys_a = sys_a_samp_canc_n.improve_sample_id # cl\n",
    "ids_sys_b = sys_b_samp_canc_n.improve_sample_id # cp"
   ]
  },
  {
   "cell_type": "markdown",
   "id": "a5642ecc-e1c2-4619-96a3-589c5610a259",
   "metadata": {},
   "source": [
    "#### Data extraction"
   ]
  },
  {
   "cell_type": "code",
   "execution_count": 141,
   "id": "e42b0fee-72d6-4510-8c89-998d36a05fb3",
   "metadata": {},
   "outputs": [],
   "source": [
    "modality = 'transcriptomics' # to file name\n",
    "moda = 'tran_' # to columns and index\n",
    "mda_n_sys_a = cell_line.transcriptomics[cell_line.transcriptomics.improve_sample_id.isin(ids_sys_a)] # cl\n",
    "mda_n_sys_b = cptac.transcriptomics[cptac.transcriptomics.improve_sample_id.isin(ids_sys_b)]"
   ]
  },
  {
   "cell_type": "code",
   "execution_count": null,
   "id": "6bffe055-8869-420d-9381-a964e9d90ffb",
   "metadata": {},
   "outputs": [],
   "source": [
    "modality = 'proteomics' # to file name\n",
    "moda = 'prot_' # to columns and index\n",
    "mda_n_sys_a = cell_line.proteomics[cell_line.proteomics.improve_sample_id.isin(ids_proj_a)] # cl\n",
    "mda_n_sys_b = cptac.proteomics[cptac.proteomics.improve_sample_id.isin(ids_proj_b)]"
   ]
  },
  {
   "cell_type": "code",
   "execution_count": null,
   "id": "6a8f3257-a589-4bb0-9d19-728464a2013f",
   "metadata": {},
   "outputs": [],
   "source": [
    "modality = 'copy-number' # to file name\n",
    "moda = 'cpnm_' # to columns and index\n",
    "mda_n_sys_a= cell_line.copy_number[cell_line.copy_number.improve_sample_id.isin(ids_proj_a)]\n",
    "mda_n_sys_b= cell_line.copy_number[cell_line.copy_number.improve_sample_id.isin(ids_proj_b)]"
   ]
  },
  {
   "cell_type": "code",
   "execution_count": null,
   "id": "04b1ee9a-7947-4e65-9a51-8a25622c6f13",
   "metadata": {},
   "outputs": [],
   "source": [
    "modality = 'mutations' # to file name\n",
    "moda = 'muta_' # to columns and index\n",
    "mda_n_sys_a = cptac.mutations[cptac.mutations.improve_sample_id.isin(ids_proj_a)]\n",
    "mda_n_sys_b = cell_line.mutations[cell_line.mutations.improve_sample_id.isin(ids_proj_b)]"
   ]
  },
  {
   "cell_type": "markdown",
   "id": "3bb77775-0e92-4d57-8a83-3e3e1fc46f43",
   "metadata": {},
   "source": [
    "#### Project A, cell line"
   ]
  },
  {
   "cell_type": "code",
   "execution_count": 142,
   "id": "e3ff696f-67e0-44ea-b350-7ed4f9b88c2f",
   "metadata": {},
   "outputs": [
    {
     "name": "stdout",
     "output_type": "stream",
     "text": [
      "cell-line | sys a\n",
      "renal-clear-cell transcriptomics\n",
      "326,261\n",
      "0\n",
      "0\n"
     ]
    }
   ],
   "source": [
    "df_lite, size, na_count, inf_count = df_check(mda_n_sys_a)\n",
    "print(sys_a, '| sys a')\n",
    "print(cncr, modality)\n",
    "print(size)\n",
    "print(na_count)\n",
    "print(inf_count)"
   ]
  },
  {
   "cell_type": "code",
   "execution_count": 143,
   "id": "fbd9f80b-dbce-4661-a7cb-3dc81dde61c7",
   "metadata": {},
   "outputs": [
    {
     "name": "stdout",
     "output_type": "stream",
     "text": [
      "0.0 minutes\n"
     ]
    },
    {
     "data": {
      "text/html": [
       "<div>\n",
       "<style scoped>\n",
       "    .dataframe tbody tr th:only-of-type {\n",
       "        vertical-align: middle;\n",
       "    }\n",
       "\n",
       "    .dataframe tbody tr th {\n",
       "        vertical-align: top;\n",
       "    }\n",
       "\n",
       "    .dataframe thead th {\n",
       "        text-align: right;\n",
       "    }\n",
       "</style>\n",
       "<table border=\"1\" class=\"dataframe\">\n",
       "  <thead>\n",
       "    <tr style=\"text-align: right;\">\n",
       "      <th>entrez_id</th>\n",
       "      <th>1</th>\n",
       "      <th>2</th>\n",
       "      <th>9</th>\n",
       "    </tr>\n",
       "    <tr>\n",
       "      <th>improve_sample_id</th>\n",
       "      <th></th>\n",
       "      <th></th>\n",
       "      <th></th>\n",
       "    </tr>\n",
       "  </thead>\n",
       "  <tbody>\n",
       "    <tr>\n",
       "      <th>15</th>\n",
       "      <td>0.176323</td>\n",
       "      <td>0.097611</td>\n",
       "      <td>1.778209</td>\n",
       "    </tr>\n",
       "    <tr>\n",
       "      <th>158</th>\n",
       "      <td>0.201634</td>\n",
       "      <td>0.669027</td>\n",
       "      <td>2.127633</td>\n",
       "    </tr>\n",
       "    <tr>\n",
       "      <th>249</th>\n",
       "      <td>0.111031</td>\n",
       "      <td>0.214125</td>\n",
       "      <td>2.140779</td>\n",
       "    </tr>\n",
       "  </tbody>\n",
       "</table>\n",
       "</div>"
      ],
      "text/plain": [
       "entrez_id                 1         2         9\n",
       "improve_sample_id                              \n",
       "15                 0.176323  0.097611  1.778209\n",
       "158                0.201634  0.669027  2.127633\n",
       "249                0.111031  0.214125  2.140779"
      ]
     },
     "execution_count": 143,
     "metadata": {},
     "output_type": "execute_result"
    }
   ],
   "source": [
    "wall_clock, dot_T = extract(df_lite)\n",
    "print(wall_clock)\n",
    "dot_T.iloc[:3, :3]"
   ]
  },
  {
   "cell_type": "code",
   "execution_count": 144,
   "id": "b5624e92-f650-4715-be28-ac51e51796c2",
   "metadata": {},
   "outputs": [
    {
     "data": {
      "text/plain": [
       "'renal-clear-cell'"
      ]
     },
     "execution_count": 144,
     "metadata": {},
     "output_type": "execute_result"
    }
   ],
   "source": [
    "cncr"
   ]
  },
  {
   "cell_type": "code",
   "execution_count": 145,
   "id": "53dcbd40-a96f-4a68-a354-d6604413e6f8",
   "metadata": {},
   "outputs": [
    {
     "data": {
      "text/plain": [
       "'tran_'"
      ]
     },
     "execution_count": 145,
     "metadata": {},
     "output_type": "execute_result"
    }
   ],
   "source": [
    "moda"
   ]
  },
  {
   "cell_type": "code",
   "execution_count": 146,
   "id": "83fb9bd2-74c2-4632-a40c-ed97ede76049",
   "metadata": {},
   "outputs": [
    {
     "name": "stdout",
     "output_type": "stream",
     "text": [
      "columns are int, index are int\n"
     ]
    },
    {
     "data": {
      "text/html": [
       "<div>\n",
       "<style scoped>\n",
       "    .dataframe tbody tr th:only-of-type {\n",
       "        vertical-align: middle;\n",
       "    }\n",
       "\n",
       "    .dataframe tbody tr th {\n",
       "        vertical-align: top;\n",
       "    }\n",
       "\n",
       "    .dataframe thead th {\n",
       "        text-align: right;\n",
       "    }\n",
       "</style>\n",
       "<table border=\"1\" class=\"dataframe\">\n",
       "  <thead>\n",
       "    <tr style=\"text-align: right;\">\n",
       "      <th>entrez_id</th>\n",
       "      <th>entrz_tran_1</th>\n",
       "      <th>entrz_tran_2</th>\n",
       "      <th>entrz_tran_9</th>\n",
       "    </tr>\n",
       "    <tr>\n",
       "      <th>improve_sample_id</th>\n",
       "      <th></th>\n",
       "      <th></th>\n",
       "      <th></th>\n",
       "    </tr>\n",
       "  </thead>\n",
       "  <tbody>\n",
       "    <tr>\n",
       "      <th>smpl_id_15</th>\n",
       "      <td>0.176323</td>\n",
       "      <td>0.097611</td>\n",
       "      <td>1.778209</td>\n",
       "    </tr>\n",
       "    <tr>\n",
       "      <th>smpl_id_158</th>\n",
       "      <td>0.201634</td>\n",
       "      <td>0.669027</td>\n",
       "      <td>2.127633</td>\n",
       "    </tr>\n",
       "    <tr>\n",
       "      <th>smpl_id_249</th>\n",
       "      <td>0.111031</td>\n",
       "      <td>0.214125</td>\n",
       "      <td>2.140779</td>\n",
       "    </tr>\n",
       "  </tbody>\n",
       "</table>\n",
       "</div>"
      ],
      "text/plain": [
       "entrez_id          entrz_tran_1  entrz_tran_2  entrz_tran_9\n",
       "improve_sample_id                                          \n",
       "smpl_id_15             0.176323      0.097611      1.778209\n",
       "smpl_id_158            0.201634      0.669027      2.127633\n",
       "smpl_id_249            0.111031      0.214125      2.140779"
      ]
     },
     "execution_count": 146,
     "metadata": {},
     "output_type": "execute_result"
    }
   ],
   "source": [
    "# dot_T = g(d_typ, dot_T.copy())\n",
    "dot_T = g(moda, dot_T.copy())\n",
    "dot_T.iloc[:3, :3]"
   ]
  },
  {
   "cell_type": "code",
   "execution_count": 147,
   "id": "639dcc50-3044-47f6-ac9a-d5107c44e788",
   "metadata": {},
   "outputs": [
    {
     "data": {
      "text/plain": [
       "(17, 19176)"
      ]
     },
     "execution_count": 147,
     "metadata": {},
     "output_type": "execute_result"
    }
   ],
   "source": [
    "dot_T.shape"
   ]
  },
  {
   "cell_type": "code",
   "execution_count": 148,
   "id": "36f01554-9cc3-4e0c-b720-98a17c8cbab3",
   "metadata": {},
   "outputs": [],
   "source": [
    "dot_T.dropna(axis = 1, inplace = True)"
   ]
  },
  {
   "cell_type": "code",
   "execution_count": 149,
   "id": "6a1949c0-ec2f-4549-abda-f17e6bad8370",
   "metadata": {},
   "outputs": [
    {
     "data": {
      "text/plain": [
       "(17, 19176)"
      ]
     },
     "execution_count": 149,
     "metadata": {},
     "output_type": "execute_result"
    }
   ],
   "source": [
    "dot_T.shape"
   ]
  },
  {
   "cell_type": "code",
   "execution_count": 150,
   "id": "56013e2a-73c9-47cd-be94-ea4457f4a8dd",
   "metadata": {},
   "outputs": [],
   "source": [
    "a = dot_T # cell line"
   ]
  },
  {
   "cell_type": "markdown",
   "id": "6f06adb1-be6a-4c43-921f-540195b3a5a7",
   "metadata": {},
   "source": [
    "#### Project B, CPTAC"
   ]
  },
  {
   "cell_type": "code",
   "execution_count": 151,
   "id": "df58287c-bcfc-4bf3-970e-10db36a792a3",
   "metadata": {},
   "outputs": [
    {
     "name": "stdout",
     "output_type": "stream",
     "text": [
      "cptac | sys b\n",
      "renal-clear-cell transcriptomics\n",
      "4,380,249\n",
      "115,422\n",
      "0\n"
     ]
    }
   ],
   "source": [
    "df_lite, size, na_count, inf_count = df_check(mda_n_sys_b)\n",
    "print(sys_b, '| sys b')\n",
    "print(cncr, modality)\n",
    "print(size)\n",
    "print(na_count)\n",
    "print(inf_count)"
   ]
  },
  {
   "cell_type": "code",
   "execution_count": 152,
   "id": "427da638-10dc-41a5-b6d6-966dc9c70a18",
   "metadata": {},
   "outputs": [
    {
     "name": "stdout",
     "output_type": "stream",
     "text": [
      "0.02 minutes\n"
     ]
    },
    {
     "data": {
      "text/html": [
       "<div>\n",
       "<style scoped>\n",
       "    .dataframe tbody tr th:only-of-type {\n",
       "        vertical-align: middle;\n",
       "    }\n",
       "\n",
       "    .dataframe tbody tr th {\n",
       "        vertical-align: top;\n",
       "    }\n",
       "\n",
       "    .dataframe thead th {\n",
       "        text-align: right;\n",
       "    }\n",
       "</style>\n",
       "<table border=\"1\" class=\"dataframe\">\n",
       "  <thead>\n",
       "    <tr style=\"text-align: right;\">\n",
       "      <th>entrez_id</th>\n",
       "      <th>1.0</th>\n",
       "      <th>2.0</th>\n",
       "      <th>3.0</th>\n",
       "    </tr>\n",
       "    <tr>\n",
       "      <th>improve_sample_id</th>\n",
       "      <th></th>\n",
       "      <th></th>\n",
       "      <th></th>\n",
       "    </tr>\n",
       "  </thead>\n",
       "  <tbody>\n",
       "    <tr>\n",
       "      <th>2891.0</th>\n",
       "      <td>5.33</td>\n",
       "      <td>15.85</td>\n",
       "      <td>5.32</td>\n",
       "    </tr>\n",
       "    <tr>\n",
       "      <th>2892.0</th>\n",
       "      <td>4.96</td>\n",
       "      <td>15.87</td>\n",
       "      <td>4.98</td>\n",
       "    </tr>\n",
       "    <tr>\n",
       "      <th>2893.0</th>\n",
       "      <td>4.84</td>\n",
       "      <td>15.52</td>\n",
       "      <td>4.50</td>\n",
       "    </tr>\n",
       "  </tbody>\n",
       "</table>\n",
       "</div>"
      ],
      "text/plain": [
       "entrez_id           1.0    2.0   3.0\n",
       "improve_sample_id                   \n",
       "2891.0             5.33  15.85  5.32\n",
       "2892.0             4.96  15.87  4.98\n",
       "2893.0             4.84  15.52  4.50"
      ]
     },
     "execution_count": 152,
     "metadata": {},
     "output_type": "execute_result"
    }
   ],
   "source": [
    "wall_clock, dot_T = extract(df_lite)\n",
    "print(wall_clock)\n",
    "dot_T.iloc[:3, :3]"
   ]
  },
  {
   "cell_type": "code",
   "execution_count": 153,
   "id": "a73c5802-f594-4763-81fd-9a47c58a50f7",
   "metadata": {},
   "outputs": [
    {
     "name": "stdout",
     "output_type": "stream",
     "text": [
      "both float\n"
     ]
    }
   ],
   "source": [
    "dot_T = g(moda, dot_T.copy())"
   ]
  },
  {
   "cell_type": "code",
   "execution_count": 154,
   "id": "e046266b-9994-47a2-ab28-77043335ecbf",
   "metadata": {
    "scrolled": true
   },
   "outputs": [
    {
     "data": {
      "text/html": [
       "<div>\n",
       "<style scoped>\n",
       "    .dataframe tbody tr th:only-of-type {\n",
       "        vertical-align: middle;\n",
       "    }\n",
       "\n",
       "    .dataframe tbody tr th {\n",
       "        vertical-align: top;\n",
       "    }\n",
       "\n",
       "    .dataframe thead th {\n",
       "        text-align: right;\n",
       "    }\n",
       "</style>\n",
       "<table border=\"1\" class=\"dataframe\">\n",
       "  <thead>\n",
       "    <tr style=\"text-align: right;\">\n",
       "      <th>entrez_id</th>\n",
       "      <th>entrz_tran_1</th>\n",
       "      <th>entrz_tran_2</th>\n",
       "      <th>entrz_tran_3</th>\n",
       "    </tr>\n",
       "    <tr>\n",
       "      <th>improve_sample_id</th>\n",
       "      <th></th>\n",
       "      <th></th>\n",
       "      <th></th>\n",
       "    </tr>\n",
       "  </thead>\n",
       "  <tbody>\n",
       "    <tr>\n",
       "      <th>smpl_id_2891</th>\n",
       "      <td>5.33</td>\n",
       "      <td>15.85</td>\n",
       "      <td>5.32</td>\n",
       "    </tr>\n",
       "    <tr>\n",
       "      <th>smpl_id_2892</th>\n",
       "      <td>4.96</td>\n",
       "      <td>15.87</td>\n",
       "      <td>4.98</td>\n",
       "    </tr>\n",
       "    <tr>\n",
       "      <th>smpl_id_2893</th>\n",
       "      <td>4.84</td>\n",
       "      <td>15.52</td>\n",
       "      <td>4.50</td>\n",
       "    </tr>\n",
       "  </tbody>\n",
       "</table>\n",
       "</div>"
      ],
      "text/plain": [
       "entrez_id          entrz_tran_1  entrz_tran_2  entrz_tran_3\n",
       "improve_sample_id                                          \n",
       "smpl_id_2891               5.33         15.85          5.32\n",
       "smpl_id_2892               4.96         15.87          4.98\n",
       "smpl_id_2893               4.84         15.52          4.50"
      ]
     },
     "execution_count": 154,
     "metadata": {},
     "output_type": "execute_result"
    }
   ],
   "source": [
    "dot_T.iloc[:3, :3]"
   ]
  },
  {
   "cell_type": "code",
   "execution_count": 155,
   "id": "4de0d000-c8b0-4828-b72f-4b05ef293527",
   "metadata": {},
   "outputs": [
    {
     "data": {
      "text/plain": [
       "(110, 37287)"
      ]
     },
     "execution_count": 155,
     "metadata": {},
     "output_type": "execute_result"
    }
   ],
   "source": [
    "dot_T.shape"
   ]
  },
  {
   "cell_type": "code",
   "execution_count": 156,
   "id": "474654af-15cf-414c-af15-e42e4022cf55",
   "metadata": {},
   "outputs": [],
   "source": [
    "dot_T.dropna(axis = 1, inplace = True)"
   ]
  },
  {
   "cell_type": "code",
   "execution_count": 157,
   "id": "bda16ef5-e887-482d-9e7a-fcbd56e4a39f",
   "metadata": {},
   "outputs": [
    {
     "data": {
      "text/plain": [
       "(110, 37287)"
      ]
     },
     "execution_count": 157,
     "metadata": {},
     "output_type": "execute_result"
    }
   ],
   "source": [
    "dot_T.shape"
   ]
  },
  {
   "cell_type": "code",
   "execution_count": 158,
   "id": "8382255f-6512-4467-96a9-07b8b5cf9d74",
   "metadata": {},
   "outputs": [],
   "source": [
    "b = dot_T # cptac"
   ]
  },
  {
   "cell_type": "markdown",
   "id": "e955d242-9b01-42fa-8ed3-9b8312a5eb7f",
   "metadata": {},
   "source": [
    "#### Labels"
   ]
  },
  {
   "cell_type": "code",
   "execution_count": 159,
   "id": "78656c23-a62c-47ea-b37e-64ca1e19829c",
   "metadata": {},
   "outputs": [],
   "source": [
    "# Check a and b are different"
   ]
  },
  {
   "cell_type": "code",
   "execution_count": 160,
   "id": "bce05ecb-fbc9-440f-b30c-35fd3cf336de",
   "metadata": {},
   "outputs": [
    {
     "data": {
      "text/html": [
       "<div>\n",
       "<style scoped>\n",
       "    .dataframe tbody tr th:only-of-type {\n",
       "        vertical-align: middle;\n",
       "    }\n",
       "\n",
       "    .dataframe tbody tr th {\n",
       "        vertical-align: top;\n",
       "    }\n",
       "\n",
       "    .dataframe thead th {\n",
       "        text-align: right;\n",
       "    }\n",
       "</style>\n",
       "<table border=\"1\" class=\"dataframe\">\n",
       "  <thead>\n",
       "    <tr style=\"text-align: right;\">\n",
       "      <th>entrez_id</th>\n",
       "      <th>entrz_tran_1</th>\n",
       "      <th>entrz_tran_2</th>\n",
       "      <th>entrz_tran_9</th>\n",
       "    </tr>\n",
       "    <tr>\n",
       "      <th>improve_sample_id</th>\n",
       "      <th></th>\n",
       "      <th></th>\n",
       "      <th></th>\n",
       "    </tr>\n",
       "  </thead>\n",
       "  <tbody>\n",
       "    <tr>\n",
       "      <th>smpl_id_15</th>\n",
       "      <td>0.176323</td>\n",
       "      <td>0.097611</td>\n",
       "      <td>1.778209</td>\n",
       "    </tr>\n",
       "    <tr>\n",
       "      <th>smpl_id_158</th>\n",
       "      <td>0.201634</td>\n",
       "      <td>0.669027</td>\n",
       "      <td>2.127633</td>\n",
       "    </tr>\n",
       "    <tr>\n",
       "      <th>smpl_id_249</th>\n",
       "      <td>0.111031</td>\n",
       "      <td>0.214125</td>\n",
       "      <td>2.140779</td>\n",
       "    </tr>\n",
       "  </tbody>\n",
       "</table>\n",
       "</div>"
      ],
      "text/plain": [
       "entrez_id          entrz_tran_1  entrz_tran_2  entrz_tran_9\n",
       "improve_sample_id                                          \n",
       "smpl_id_15             0.176323      0.097611      1.778209\n",
       "smpl_id_158            0.201634      0.669027      2.127633\n",
       "smpl_id_249            0.111031      0.214125      2.140779"
      ]
     },
     "execution_count": 160,
     "metadata": {},
     "output_type": "execute_result"
    }
   ],
   "source": [
    "a.iloc[:3, :3]"
   ]
  },
  {
   "cell_type": "code",
   "execution_count": 161,
   "id": "b9910252-619f-41e8-94f9-e7487d5851af",
   "metadata": {},
   "outputs": [
    {
     "data": {
      "text/html": [
       "<div>\n",
       "<style scoped>\n",
       "    .dataframe tbody tr th:only-of-type {\n",
       "        vertical-align: middle;\n",
       "    }\n",
       "\n",
       "    .dataframe tbody tr th {\n",
       "        vertical-align: top;\n",
       "    }\n",
       "\n",
       "    .dataframe thead th {\n",
       "        text-align: right;\n",
       "    }\n",
       "</style>\n",
       "<table border=\"1\" class=\"dataframe\">\n",
       "  <thead>\n",
       "    <tr style=\"text-align: right;\">\n",
       "      <th>entrez_id</th>\n",
       "      <th>entrz_tran_1</th>\n",
       "      <th>entrz_tran_2</th>\n",
       "      <th>entrz_tran_3</th>\n",
       "    </tr>\n",
       "    <tr>\n",
       "      <th>improve_sample_id</th>\n",
       "      <th></th>\n",
       "      <th></th>\n",
       "      <th></th>\n",
       "    </tr>\n",
       "  </thead>\n",
       "  <tbody>\n",
       "    <tr>\n",
       "      <th>smpl_id_2891</th>\n",
       "      <td>5.33</td>\n",
       "      <td>15.85</td>\n",
       "      <td>5.32</td>\n",
       "    </tr>\n",
       "    <tr>\n",
       "      <th>smpl_id_2892</th>\n",
       "      <td>4.96</td>\n",
       "      <td>15.87</td>\n",
       "      <td>4.98</td>\n",
       "    </tr>\n",
       "    <tr>\n",
       "      <th>smpl_id_2893</th>\n",
       "      <td>4.84</td>\n",
       "      <td>15.52</td>\n",
       "      <td>4.50</td>\n",
       "    </tr>\n",
       "  </tbody>\n",
       "</table>\n",
       "</div>"
      ],
      "text/plain": [
       "entrez_id          entrz_tran_1  entrz_tran_2  entrz_tran_3\n",
       "improve_sample_id                                          \n",
       "smpl_id_2891               5.33         15.85          5.32\n",
       "smpl_id_2892               4.96         15.87          4.98\n",
       "smpl_id_2893               4.84         15.52          4.50"
      ]
     },
     "execution_count": 161,
     "metadata": {},
     "output_type": "execute_result"
    }
   ],
   "source": [
    "b.iloc[:3, :3]"
   ]
  },
  {
   "cell_type": "code",
   "execution_count": 162,
   "id": "e3a7e455-0b15-4e70-b7c6-46ab14183f31",
   "metadata": {},
   "outputs": [],
   "source": [
    "a.insert(0, 'Cancer_type', cncr_lbl)\n",
    "b.insert(0, 'Cancer_type', cncr_lbl)\n",
    "a.insert(0, 'System', sys_a_lbl)\n",
    "b.insert(0, 'System', sys_b_lbl)"
   ]
  },
  {
   "cell_type": "code",
   "execution_count": 163,
   "id": "45c947e4-e9aa-47bd-b553-6deb3953af22",
   "metadata": {},
   "outputs": [],
   "source": [
    "ab = pd.concat([a, b], axis=0, join='inner')"
   ]
  },
  {
   "cell_type": "code",
   "execution_count": null,
   "id": "c7eae046-d161-4f43-af48-b67840e60ebb",
   "metadata": {},
   "outputs": [],
   "source": [
    "ab"
   ]
  },
  {
   "cell_type": "code",
   "execution_count": 165,
   "id": "f3cea2a8-7e70-4d3e-827a-cf3bd86291e3",
   "metadata": {},
   "outputs": [
    {
     "data": {
      "text/plain": [
       "System\n",
       "CPTAC        110\n",
       "cell_line     17\n",
       "Name: count, dtype: int64"
      ]
     },
     "execution_count": 165,
     "metadata": {},
     "output_type": "execute_result"
    }
   ],
   "source": [
    "ab.System.value_counts()"
   ]
  },
  {
   "cell_type": "code",
   "execution_count": 166,
   "id": "e1eb0778-ed5c-4d1f-91fb-eee5f19ade90",
   "metadata": {},
   "outputs": [
    {
     "data": {
      "text/plain": [
       "Cancer_type\n",
       "renal_clear_cell    127\n",
       "Name: count, dtype: int64"
      ]
     },
     "execution_count": 166,
     "metadata": {},
     "output_type": "execute_result"
    }
   ],
   "source": [
    "ab.Cancer_type.value_counts()"
   ]
  },
  {
   "cell_type": "code",
   "execution_count": 167,
   "id": "6fb2cf1a-b2ca-4adb-a18a-be7d05144be7",
   "metadata": {},
   "outputs": [],
   "source": [
    "# Set target output dirs\n",
    "out_dbl = '../output/dbl-cncr/'\n",
    "out_sng = '../output/sng-cncr'\n",
    "ump_out = '../output/umap/'"
   ]
  },
  {
   "cell_type": "code",
   "execution_count": 168,
   "id": "562194d5-86fd-48db-9cfa-5f8525881938",
   "metadata": {},
   "outputs": [
    {
     "data": {
      "text/plain": [
       "('../output/dbl-cncr/',\n",
       " '../output/sng-cncr',\n",
       " 'renal-clear-cell',\n",
       " 'transcriptomics',\n",
       " '../output/umap/')"
      ]
     },
     "execution_count": 168,
     "metadata": {},
     "output_type": "execute_result"
    }
   ],
   "source": [
    "# out, u_o, cancer, data_type\n",
    "out_dbl, out_sng, cncr, modality, ump_out"
   ]
  },
  {
   "cell_type": "code",
   "execution_count": 169,
   "id": "485ad603-9178-4f6a-9422-0a86a31dc8a3",
   "metadata": {},
   "outputs": [],
   "source": [
    "# Write two-system, single cancer type to disk\n",
    "ab.to_csv(\n",
    "    '../output/'+out_sng+'/'+cncr+'_'+modality+'_'+systems+'.tsv',\n",
    "    sep = '\\t')"
   ]
  },
  {
   "cell_type": "code",
   "execution_count": 170,
   "id": "9d7be6ae-d14d-4857-9b5d-c0f04f83568a",
   "metadata": {},
   "outputs": [],
   "source": [
    "sng_chk = pd.read_csv('../output/'+out_sng+'/'+cncr+'_'+modality+'_'+systems+'.tsv',\n",
    "                    sep = '\\t', index_col = 0)"
   ]
  },
  {
   "cell_type": "code",
   "execution_count": null,
   "id": "9b80fc41-b534-44a6-b2c9-46644b305acb",
   "metadata": {},
   "outputs": [],
   "source": [
    "print(cncr)\n",
    "sng_chk"
   ]
  },
  {
   "cell_type": "markdown",
   "id": "5dd397b5-e1b4-4486-8275-e3c27e67ac94",
   "metadata": {},
   "source": [
    "#### Dbl Cncr"
   ]
  },
  {
   "cell_type": "code",
   "execution_count": 172,
   "id": "85353ce4-db3c-4cfb-9c1d-7c776bc08303",
   "metadata": {},
   "outputs": [
    {
     "name": "stdout",
     "output_type": "stream",
     "text": [
      "renal-clear-cell\n"
     ]
    },
    {
     "data": {
      "text/html": [
       "<div>\n",
       "<style scoped>\n",
       "    .dataframe tbody tr th:only-of-type {\n",
       "        vertical-align: middle;\n",
       "    }\n",
       "\n",
       "    .dataframe tbody tr th {\n",
       "        vertical-align: top;\n",
       "    }\n",
       "\n",
       "    .dataframe thead th {\n",
       "        text-align: right;\n",
       "    }\n",
       "</style>\n",
       "<table border=\"1\" class=\"dataframe\">\n",
       "  <thead>\n",
       "    <tr style=\"text-align: right;\">\n",
       "      <th>entrez_id</th>\n",
       "      <th>System</th>\n",
       "      <th>Cancer_type</th>\n",
       "      <th>entrz_tran_1</th>\n",
       "    </tr>\n",
       "    <tr>\n",
       "      <th>improve_sample_id</th>\n",
       "      <th></th>\n",
       "      <th></th>\n",
       "      <th></th>\n",
       "    </tr>\n",
       "  </thead>\n",
       "  <tbody>\n",
       "    <tr>\n",
       "      <th>smpl_id_15</th>\n",
       "      <td>cell_line</td>\n",
       "      <td>renal_clear_cell</td>\n",
       "      <td>0.176323</td>\n",
       "    </tr>\n",
       "    <tr>\n",
       "      <th>smpl_id_158</th>\n",
       "      <td>cell_line</td>\n",
       "      <td>renal_clear_cell</td>\n",
       "      <td>0.201634</td>\n",
       "    </tr>\n",
       "    <tr>\n",
       "      <th>smpl_id_249</th>\n",
       "      <td>cell_line</td>\n",
       "      <td>renal_clear_cell</td>\n",
       "      <td>0.111031</td>\n",
       "    </tr>\n",
       "  </tbody>\n",
       "</table>\n",
       "</div>"
      ],
      "text/plain": [
       "entrez_id             System       Cancer_type  entrz_tran_1\n",
       "improve_sample_id                                           \n",
       "smpl_id_15         cell_line  renal_clear_cell      0.176323\n",
       "smpl_id_158        cell_line  renal_clear_cell      0.201634\n",
       "smpl_id_249        cell_line  renal_clear_cell      0.111031"
      ]
     },
     "execution_count": 172,
     "metadata": {},
     "output_type": "execute_result"
    }
   ],
   "source": [
    "print(cncr)\n",
    "ab.iloc[:3, :3]"
   ]
  },
  {
   "cell_type": "code",
   "execution_count": 173,
   "id": "cc5ae405-ba59-4006-b596-f1e77065399f",
   "metadata": {},
   "outputs": [
    {
     "data": {
      "text/plain": [
       "(127, 19133)"
      ]
     },
     "execution_count": 173,
     "metadata": {},
     "output_type": "execute_result"
    }
   ],
   "source": [
    "ab.shape"
   ]
  },
  {
   "cell_type": "code",
   "execution_count": null,
   "id": "4c898057-8415-46f8-a941-c9ef2f4d2b2e",
   "metadata": {},
   "outputs": [],
   "source": [
    "#### ab hold"
   ]
  },
  {
   "cell_type": "code",
   "execution_count": 168,
   "id": "83efcc7a-54c5-4e11-8251-fef299a24a73",
   "metadata": {},
   "outputs": [
    {
     "name": "stdout",
     "output_type": "stream",
     "text": [
      "lung-adeno tran_\n"
     ]
    }
   ],
   "source": [
    "sng_lbl_disk_read_n = ab\n",
    "print(cncr, moda)"
   ]
  },
  {
   "cell_type": "markdown",
   "id": "70052b71-6471-4ca1-8d2f-23ad742de22e",
   "metadata": {},
   "source": [
    "#### Disk read Cancer_n"
   ]
  },
  {
   "cell_type": "code",
   "execution_count": 204,
   "id": "807b8d5e-da0f-46a9-b969-f8577151e48c",
   "metadata": {},
   "outputs": [
    {
     "data": {
      "text/plain": [
       "'/Users/karlberb/Documents/work/2024/bnch_mrk/mdl-sys-bnchmrk/data'"
      ]
     },
     "execution_count": 204,
     "metadata": {},
     "output_type": "execute_result"
    }
   ],
   "source": [
    "pwd"
   ]
  },
  {
   "cell_type": "code",
   "execution_count": null,
   "id": "92a01a3e-3f12-429d-8ac6-ecc600947be3",
   "metadata": {},
   "outputs": [],
   "source": [
    "output/sng_lab/lung_adeno_transcriptomics_cell_line_CPTAC.tsv"
   ]
  },
  {
   "cell_type": "code",
   "execution_count": null,
   "id": "83a0f697-c7f4-4d03-8eab-70963bbcf552",
   "metadata": {},
   "outputs": [],
   "source": [
    "cncr_n = 'lung-adeno'\n",
    "moda_n = 'transcriptomics'\n",
    "sys_n = 'cell-line+CPTAC'"
   ]
  },
  {
   "cell_type": "code",
   "execution_count": null,
   "id": "e71a2cf3-031d-49c2-9fda-a343994a6016",
   "metadata": {},
   "outputs": [],
   "source": [
    "sng_lbl_disk_read_n = pd.read_csv( # single cancer   ------\n",
    "    '../output/sng-lbl/'+cncr_n+'_'+moda_n+'_'+sys_n+'.tsv',\n",
    "    sep = '\\t', index_col = 0)"
   ]
  },
  {
   "cell_type": "code",
   "execution_count": 83,
   "id": "eb531f8a-ba09-4abf-aab1-70c56d6a13ff",
   "metadata": {},
   "outputs": [
    {
     "data": {
      "text/html": [
       "<div>\n",
       "<style scoped>\n",
       "    .dataframe tbody tr th:only-of-type {\n",
       "        vertical-align: middle;\n",
       "    }\n",
       "\n",
       "    .dataframe tbody tr th {\n",
       "        vertical-align: top;\n",
       "    }\n",
       "\n",
       "    .dataframe thead th {\n",
       "        text-align: right;\n",
       "    }\n",
       "</style>\n",
       "<table border=\"1\" class=\"dataframe\">\n",
       "  <thead>\n",
       "    <tr style=\"text-align: right;\">\n",
       "      <th></th>\n",
       "      <th>Labels</th>\n",
       "      <th>entrz_tran_1</th>\n",
       "      <th>entrz_tran_2</th>\n",
       "    </tr>\n",
       "    <tr>\n",
       "      <th>improve_sample_id</th>\n",
       "      <th></th>\n",
       "      <th></th>\n",
       "      <th></th>\n",
       "    </tr>\n",
       "  </thead>\n",
       "  <tbody>\n",
       "    <tr>\n",
       "      <th>smpl_id_11</th>\n",
       "      <td>cell_line</td>\n",
       "      <td>2.341986</td>\n",
       "      <td>0.070389</td>\n",
       "    </tr>\n",
       "    <tr>\n",
       "      <th>smpl_id_20</th>\n",
       "      <td>cell_line</td>\n",
       "      <td>4.560104</td>\n",
       "      <td>0.014355</td>\n",
       "    </tr>\n",
       "    <tr>\n",
       "      <th>smpl_id_28</th>\n",
       "      <td>cell_line</td>\n",
       "      <td>0.411426</td>\n",
       "      <td>0.214125</td>\n",
       "    </tr>\n",
       "  </tbody>\n",
       "</table>\n",
       "</div>"
      ],
      "text/plain": [
       "                      Labels  entrz_tran_1  entrz_tran_2\n",
       "improve_sample_id                                       \n",
       "smpl_id_11         cell_line      2.341986      0.070389\n",
       "smpl_id_20         cell_line      4.560104      0.014355\n",
       "smpl_id_28         cell_line      0.411426      0.214125"
      ]
     },
     "execution_count": 83,
     "metadata": {},
     "output_type": "execute_result"
    }
   ],
   "source": [
    "sng_lbl_disk_read_n.iloc[:3, :3]"
   ]
  },
  {
   "cell_type": "code",
   "execution_count": 84,
   "id": "7213e6a9-51a7-401d-ac06-b6a4496257fe",
   "metadata": {},
   "outputs": [
    {
     "data": {
      "text/plain": [
       "(188, 19132)"
      ]
     },
     "execution_count": 84,
     "metadata": {},
     "output_type": "execute_result"
    }
   ],
   "source": [
    "sng_lbl_disk_read_n.shape"
   ]
  },
  {
   "cell_type": "code",
   "execution_count": 85,
   "id": "6a0e5c99-7bba-4227-bcf2-4527cdf2bb4a",
   "metadata": {},
   "outputs": [],
   "source": [
    "sng_lbl_disk_read_n.insert(1, 'Cancer_type', cncr_n)"
   ]
  },
  {
   "cell_type": "code",
   "execution_count": 231,
   "id": "f65bb71a-2c42-4092-89df-d487769ab6c9",
   "metadata": {},
   "outputs": [
    {
     "data": {
      "text/html": [
       "<div>\n",
       "<style scoped>\n",
       "    .dataframe tbody tr th:only-of-type {\n",
       "        vertical-align: middle;\n",
       "    }\n",
       "\n",
       "    .dataframe tbody tr th {\n",
       "        vertical-align: top;\n",
       "    }\n",
       "\n",
       "    .dataframe thead th {\n",
       "        text-align: right;\n",
       "    }\n",
       "</style>\n",
       "<table border=\"1\" class=\"dataframe\">\n",
       "  <thead>\n",
       "    <tr style=\"text-align: right;\">\n",
       "      <th></th>\n",
       "      <th>Labels</th>\n",
       "      <th>Cancer_type</th>\n",
       "      <th>entrz_tran_1</th>\n",
       "    </tr>\n",
       "    <tr>\n",
       "      <th>improve_sample_id</th>\n",
       "      <th></th>\n",
       "      <th></th>\n",
       "      <th></th>\n",
       "    </tr>\n",
       "  </thead>\n",
       "  <tbody>\n",
       "    <tr>\n",
       "      <th>smpl_id_11</th>\n",
       "      <td>cell_line</td>\n",
       "      <td>lung_adeno</td>\n",
       "      <td>2.341986</td>\n",
       "    </tr>\n",
       "    <tr>\n",
       "      <th>smpl_id_20</th>\n",
       "      <td>cell_line</td>\n",
       "      <td>lung_adeno</td>\n",
       "      <td>4.560104</td>\n",
       "    </tr>\n",
       "    <tr>\n",
       "      <th>smpl_id_28</th>\n",
       "      <td>cell_line</td>\n",
       "      <td>lung_adeno</td>\n",
       "      <td>0.411426</td>\n",
       "    </tr>\n",
       "  </tbody>\n",
       "</table>\n",
       "</div>"
      ],
      "text/plain": [
       "                      Labels Cancer_type  entrz_tran_1\n",
       "improve_sample_id                                     \n",
       "smpl_id_11         cell_line  lung_adeno      2.341986\n",
       "smpl_id_20         cell_line  lung_adeno      4.560104\n",
       "smpl_id_28         cell_line  lung_adeno      0.411426"
      ]
     },
     "execution_count": 231,
     "metadata": {},
     "output_type": "execute_result"
    }
   ],
   "source": [
    "check.iloc[:3, :3]"
   ]
  },
  {
   "cell_type": "code",
   "execution_count": 86,
   "id": "f9c1512d-f397-42a5-a7f7-d4299270d1a6",
   "metadata": {},
   "outputs": [],
   "source": [
    "check = check.rename(columns={'Labels': 'System'})"
   ]
  },
  {
   "cell_type": "code",
   "execution_count": null,
   "id": "d52e3689-eaed-42b9-bbbc-8fc03420ca75",
   "metadata": {},
   "outputs": [],
   "source": [
    "dbl_cncr"
   ]
  },
  {
   "cell_type": "code",
   "execution_count": 206,
   "id": "7cc8e81d-9431-490c-b74c-7494a97e1406",
   "metadata": {},
   "outputs": [],
   "source": [
    "dbl_cncr = pd.concat([ab, sng_lbl_disk_read_n], axis = 0, join = 'inner')"
   ]
  },
  {
   "cell_type": "code",
   "execution_count": null,
   "id": "ceb6c929-1e0b-44fb-b248-52796713782d",
   "metadata": {
    "scrolled": true
   },
   "outputs": [],
   "source": [
    "dbl_cncr"
   ]
  },
  {
   "cell_type": "code",
   "execution_count": 77,
   "id": "e695d42f-45dc-4613-bbb0-f6ed1621691e",
   "metadata": {},
   "outputs": [
    {
     "data": {
      "text/plain": [
       "'head_neck'"
      ]
     },
     "execution_count": 77,
     "metadata": {},
     "output_type": "execute_result"
    }
   ],
   "source": [
    "cancer"
   ]
  },
  {
   "cell_type": "code",
   "execution_count": 210,
   "id": "90aa1762-7dce-40fe-b6de-6b1a228bed40",
   "metadata": {},
   "outputs": [],
   "source": [
    "c1 = 'pancreatic_adeno'\n",
    "c2 = 'lung_adeno'"
   ]
  },
  {
   "cell_type": "code",
   "execution_count": 220,
   "id": "2d7b64bb-d996-4b79-a3ec-4d771cede71a",
   "metadata": {},
   "outputs": [],
   "source": [
    "cncr = 'pancreatic-adeno'"
   ]
  },
  {
   "cell_type": "code",
   "execution_count": 221,
   "id": "c8d165c0-35e2-49cd-b5b7-504f466c420a",
   "metadata": {},
   "outputs": [],
   "source": [
    "cncr_n = 'lung-adeno'"
   ]
  },
  {
   "cell_type": "code",
   "execution_count": 222,
   "id": "ff7142d1-cf96-43f5-8088-788f938c97ae",
   "metadata": {},
   "outputs": [
    {
     "data": {
      "text/plain": [
       "('cell-line+CPTAC', 'transcriptomics')"
      ]
     },
     "execution_count": 222,
     "metadata": {},
     "output_type": "execute_result"
    }
   ],
   "source": [
    "systems, modality"
   ]
  },
  {
   "cell_type": "code",
   "execution_count": 223,
   "id": "905a04fb-d540-4303-b493-1ff4a6ed7423",
   "metadata": {},
   "outputs": [],
   "source": [
    "dbl_cncr.to_csv('../output/'+out_dbl+'/'+cncr+'+'+cncr_n+'_'+modality+'_'+systems+'.tsv',\n",
    "                    sep = '\\t')"
   ]
  },
  {
   "cell_type": "code",
   "execution_count": 225,
   "id": "74b0974d-1dda-448a-b094-07163dad5b7b",
   "metadata": {},
   "outputs": [],
   "source": [
    "dbl_chk = pd.read_csv('../output/'+out_dbl+'/'+cncr+'+'+cncr_n+'_'+modality+'_'+systems+'.tsv',\n",
    "                    sep = '\\t', index_col = 0)"
   ]
  },
  {
   "cell_type": "code",
   "execution_count": null,
   "id": "56a76c03-a02b-4bdf-8db7-5cbab8eb7667",
   "metadata": {},
   "outputs": [],
   "source": [
    "dbl_chk"
   ]
  }
 ],
 "metadata": {
  "kernelspec": {
   "display_name": "Python 3 (ipykernel)",
   "language": "python",
   "name": "python3"
  },
  "language_info": {
   "codemirror_mode": {
    "name": "ipython",
    "version": 3
   },
   "file_extension": ".py",
   "mimetype": "text/x-python",
   "name": "python",
   "nbconvert_exporter": "python",
   "pygments_lexer": "ipython3",
   "version": "3.10.8"
  }
 },
 "nbformat": 4,
 "nbformat_minor": 5
}
