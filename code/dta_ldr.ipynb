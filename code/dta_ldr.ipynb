{
 "cells": [
  {
   "cell_type": "code",
   "execution_count": null,
   "id": "9cd6d37d-8ce9-418f-aa50-1c9e99ac9198",
   "metadata": {},
   "outputs": [],
   "source": [
    "# data_loader"
   ]
  },
  {
   "cell_type": "markdown",
   "id": "1669f06f-d0bf-4d2e-aa4f-8dfc94ae8e93",
   "metadata": {},
   "source": [
    "https://pnnl-compbio.github.io/coderdata/pages/usage"
   ]
  },
  {
   "cell_type": "code",
   "execution_count": null,
   "id": "80c7f731-109b-4149-bb7b-96ca45a8be31",
   "metadata": {},
   "outputs": [],
   "source": [
    "cd data/"
   ]
  },
  {
   "cell_type": "code",
   "execution_count": null,
   "id": "2e936750-5686-4fec-91c0-f6ac0042202f",
   "metadata": {},
   "outputs": [],
   "source": [
    "pwd\n",
    "# mdl-sys-bnchmrk/data"
   ]
  },
  {
   "cell_type": "code",
   "execution_count": null,
   "id": "899dc530-a6b2-44ec-8994-4c2002bf1899",
   "metadata": {},
   "outputs": [],
   "source": [
    "import coderdata as cd"
   ]
  },
  {
   "cell_type": "code",
   "execution_count": null,
   "id": "5b5b31d1-e1fe-444e-bbfb-71201a91ee88",
   "metadata": {},
   "outputs": [],
   "source": [
    "# cd.download_data_by_prefix('beataml')\n",
    "cd.download_data_by_prefix('cell_line')\n",
    "cd.download_data_by_prefix('cptac')\n",
    "# cd.download_data_by_prefix('hcmi')"
   ]
  },
  {
   "cell_type": "code",
   "execution_count": null,
   "id": "3f344f26-f6d0-4785-828f-ca5ad32794dc",
   "metadata": {},
   "outputs": [],
   "source": [
    "cptac = cd.DatasetLoader('cptac') # a\n",
    "cell_line = cd.DatasetLoader('cell_line') # b\n",
    "\n",
    "print('DatasetLoaders in RAM')\n",
    "projects = 'cell_line_CPTAC'"
   ]
  },
  {
   "cell_type": "code",
   "execution_count": null,
   "id": "e5cf931a-a468-4ee1-a859-7f8769a6580e",
   "metadata": {},
   "outputs": [],
   "source": [
    "import glob\n",
    "import pandas as pd\n",
    "import umap\n",
    "import numpy as np\n",
    "import os\n",
    "import matplotlib.pyplot as plt\n",
    "from matplotlib.lines import Line2D"
   ]
  },
  {
   "cell_type": "code",
   "execution_count": null,
   "id": "9a41b4b4-b1d2-4daf-be0e-1ff22b5354e7",
   "metadata": {},
   "outputs": [],
   "source": [
    "ls .."
   ]
  },
  {
   "cell_type": "code",
   "execution_count": null,
   "id": "c199e832-b877-409a-ad3b-544d5b1c3f66",
   "metadata": {},
   "outputs": [],
   "source": [
    "ls ../output/"
   ]
  },
  {
   "cell_type": "code",
   "execution_count": null,
   "id": "bb92e1ae-2b34-4153-9e20-c6b7ed63b37f",
   "metadata": {},
   "outputs": [],
   "source": [
    "out = '../output/dbl_lbl/'"
   ]
  },
  {
   "cell_type": "code",
   "execution_count": null,
   "id": "a30b916e-6e90-4118-843b-144a87328662",
   "metadata": {},
   "outputs": [],
   "source": [
    "u_o = '../output/umap/'"
   ]
  },
  {
   "cell_type": "code",
   "execution_count": null,
   "id": "2d0d9d22-04b3-4a02-8e49-f27a7114f444",
   "metadata": {},
   "outputs": [],
   "source": [
    "# Traspose long-form X-file into biomarkers as columns,\n",
    "def extract(df_lite):\n",
    "    import time\n",
    "    start = time.time()\n",
    "    data_type = df_lite.columns[2] # extract marker values\n",
    "\n",
    "    dot_T = df_lite.pivot_table(\n",
    "        index='improve_sample_id',\n",
    "        columns='entrez_id',\n",
    "        values=data_type,\n",
    "        aggfunc='mean'             # average duplicate values\n",
    "    )\n",
    "\n",
    "    end = time.time()\n",
    "    wall_clock = end - start\n",
    "    return str(round(wall_clock / 60, 2)) + ' minutes', dot_T"
   ]
  },
  {
   "cell_type": "code",
   "execution_count": null,
   "id": "f4d53ca1-d276-4278-bb0b-1e45b2bfe5c4",
   "metadata": {},
   "outputs": [],
   "source": [
    "# Extract ids and biomarker values\n",
    "def df_check(X_n):\n",
    "    df_lite = X_n.iloc[:, :3] # cut the last two columns, source and study\n",
    "    size = f\"{df_lite.shape[0]:,}\"\n",
    "    na_count = f\"{df_lite.isna().sum().sum():,}\"\n",
    "    inf_count = f\"{df_lite.isin([np.inf, -np.inf]).sum().sum():,}\"\n",
    "    return df_lite, size, na_count, inf_count"
   ]
  },
  {
   "cell_type": "code",
   "execution_count": null,
   "id": "016ca65e-0f63-4f0a-84ad-f6880b50bb61",
   "metadata": {},
   "outputs": [],
   "source": [
    "# dot_T = g(d_typ, dot_T.copy())\n",
    "def g(d_typ, df):\n",
    "    \"\"\"\n",
    "    Checks the data types of columns and index in a DataFrame and prints informative messages.\n",
    "\n",
    "    Args:\n",
    "        df (pandas.DataFrame): The DataFrame to check.\n",
    "\n",
    "    Returns:\n",
    "        None\n",
    "    \"\"\"\n",
    "\n",
    "    if df.columns.dtype == 'float64' and df.index.dtype == 'float64':\n",
    "        print('both float')\n",
    "        df = float_to_string(d_typ, df)\n",
    "    elif df.columns.dtype == 'float64' and df.index.dtype == 'int':\n",
    "        print('columns are float, index are int')\n",
    "        df = indx_int_colm_flt(d_typ, df)\n",
    "    elif df.columns.dtype == 'int' and df.index.dtype == 'float':\n",
    "        print('columns are int, index are float, fail, write another function')\n",
    "        # forth function\n",
    "    elif df.columns.dtype == 'int' and df.index.dtype == 'int':\n",
    "        print('columns are int, index are int')\n",
    "        df = int_to_string(d_typ, df)\n",
    "    else:\n",
    "        print('non int or float dtype detected')\n",
    "    return df"
   ]
  },
  {
   "cell_type": "code",
   "execution_count": null,
   "id": "d6738cf4-43f4-4fa1-8c36-324ce0f59232",
   "metadata": {},
   "outputs": [],
   "source": [
    "def int_to_string(d_typ, dot_T):\n",
    "    dot_T.columns = dot_T.columns.map(str)\n",
    "    dot_T.columns = ['entrz_' + d_typ + i for i in dot_T.columns] #\n",
    "    dot_T.columns.name = 'entrez_id'\n",
    "\n",
    "    dot_T.index = dot_T.index.map(str)\n",
    "    dot_T.index = ['smpl_id_' + i for i in dot_T.index]\n",
    "    dot_T.index.name = 'improve_sample_id'\n",
    "    return dot_T"
   ]
  },
  {
   "cell_type": "code",
   "execution_count": null,
   "id": "0f9c1b97-5e33-419d-baf3-bc3c8f3a137b",
   "metadata": {},
   "outputs": [],
   "source": [
    "def indx_int_colm_flt(d_typ, dot_T):\n",
    "    dot_T.columns = dot_T.columns.map(str)\n",
    "    dot_T.columns = [i.split('.')[0] for i in dot_T.columns]\n",
    "    dot_T.columns = ['entrz_' + d_typ + i for i in dot_T.columns]\n",
    "    dot_T.columns.name = 'entrez_id'\n",
    "    \n",
    "    dot_T.index = dot_T.index.map(str)\n",
    "    dot_T.index = ['smpl_id_' + i for i in dot_T.index]\n",
    "    dot_T.index.name = 'improve_sample_id'\n",
    "    return dot_T"
   ]
  },
  {
   "cell_type": "code",
   "execution_count": null,
   "id": "61e643e0-6ccf-472a-bc8b-0831eca51699",
   "metadata": {},
   "outputs": [],
   "source": [
    "def float_to_string(d_typ, dot_T):\n",
    "    dot_T.columns = dot_T.columns.map(str)\n",
    "    dot_T.columns = [i.split('.')[0] for i in dot_T.columns]\n",
    "    dot_T.columns = ['entrz_' + d_typ + i for i in dot_T.columns]\n",
    "    dot_T.columns.name = 'entrez_id'\n",
    "    \n",
    "    dot_T.index = dot_T.index.map(str)\n",
    "    dot_T.index = [i.split('.')[0] for i in dot_T.index]\n",
    "    dot_T.index = ['smpl_id_' + i for i in dot_T.index]\n",
    "    dot_T.index.name = 'improve_sample_id'\n",
    "    return dot_T"
   ]
  },
  {
   "cell_type": "markdown",
   "id": "b4d85dfb-be6f-4583-a4af-ba844e8eb6db",
   "metadata": {},
   "source": [
    "#### Samples, abstract systems to a and b"
   ]
  },
  {
   "cell_type": "code",
   "execution_count": null,
   "id": "eefc8d3e-d0fe-4630-9e4b-50f5919d2813",
   "metadata": {},
   "outputs": [],
   "source": [
    "proj_a_samp = cell_line.samples\n",
    "sys_a = 'cell_line'\n",
    "\n",
    "proj_b_samp = cptac.samples\n",
    "sys_b = 'cptac'"
   ]
  },
  {
   "cell_type": "markdown",
   "id": "bb08b0e5-7289-4483-a377-07d99ceb7185",
   "metadata": {},
   "source": [
    "#### Cancer_type toggles, cell line as a, CPTAC as b"
   ]
  },
  {
   "cell_type": "code",
   "execution_count": null,
   "id": "ac236dc9-2166-4d53-a934-b72f2748d798",
   "metadata": {},
   "outputs": [],
   "source": [
    "# Lung adeno\n",
    "cancer = 'lung_adeno'\n",
    "proj_a_samp_canc_n = proj_a_samp[proj_a_samp.cancer_type == 'Lung Adenocarcinoma'] # cl\n",
    "proj_b_samp_canc_n = proj_b_samp[proj_b_samp.cancer_type == 'Lung adenocarcinoma']"
   ]
  },
  {
   "cell_type": "code",
   "execution_count": null,
   "id": "afc590f3-98f7-4b3d-a21c-b15992039685",
   "metadata": {},
   "outputs": [],
   "source": [
    "# Pancreatic adeno\n",
    "cancer = 'pancreatic_adeno'\n",
    "proj_a_samp_canc_n = proj_a_samp[proj_a_samp.cancer_type == 'Pancreatic Adenocarcinoma'] # cl, get cheks v4\n",
    "proj_b_samp_canc_n = proj_b_samp[proj_b_samp.cancer_type == 'Pancreatic ductal adenocarcinoma']"
   ]
  },
  {
   "cell_type": "code",
   "execution_count": null,
   "id": "9469f2c1-aaa4-4385-a31b-40011a31c3bf",
   "metadata": {},
   "outputs": [],
   "source": [
    "# Head and neck\n",
    "cancer = 'head_neck'\n",
    "proj_a_samp_canc_n = proj_a_samp[proj_a_samp.cancer_type == 'Head and Neck squamous cell carcinoma']\n",
    "proj_b_samp_canc_n = proj_b_samp[proj_b_samp.cancer_type == 'Head and Neck Squamous Cell Carcinoma']"
   ]
  },
  {
   "cell_type": "code",
   "execution_count": null,
   "id": "50f757a8-42bc-4f29-8398-735dff8f3688",
   "metadata": {},
   "outputs": [],
   "source": [
    "# Colon adeno\n",
    "cancer = 'colon_adeno'\n",
    "proj_a_samp_canc_n = proj_a_samp[proj_a_samp.cancer_type == 'Colon adenocarcinoma']\n",
    "proj_b_samp_canc_n = proj_b_samp[proj_b_samp.cancer_type == 'Colon Adenocarcinoma']"
   ]
  },
  {
   "cell_type": "code",
   "execution_count": null,
   "id": "6aa57714-a951-4ed8-8e9d-0b067d272eb4",
   "metadata": {},
   "outputs": [],
   "source": [
    "# Glioblastoma\n",
    "cancer = 'glioblastoma'\n",
    "proj_a_samp_canc_n = proj_a_samp[proj_a_samp.cancer_type == 'Glioblastoma multiforme']\n",
    "proj_b_samp_canc_n = proj_b_samp[proj_b_samp.cancer_type == 'Glioblastoma']"
   ]
  },
  {
   "cell_type": "code",
   "execution_count": null,
   "id": "70ba010c-13f5-42e1-8958-f0b0d4105830",
   "metadata": {},
   "outputs": [],
   "source": [
    "# Breast Ductal\n",
    "cancer = 'breast_ductal'\n",
    "proj_a_samp_canc_n = proj_a_samp[proj_a_samp.cancer_type == 'Breast carcinoma']\n",
    "proj_b_samp_canc_n = proj_b_samp[proj_b_samp.cancer_type == 'Breast Invasive Ductal Carcinoma']"
   ]
  },
  {
   "cell_type": "code",
   "execution_count": null,
   "id": "92e27511-a869-475e-9188-c8abcd8ec5e5",
   "metadata": {},
   "outputs": [],
   "source": [
    "# Breast Lobular\n",
    "cancer = 'breast_lobular'\n",
    "proj_a_samp_canc_n = proj_a_samp[proj_a_samp.cancer_type == 'Breast carcinoma']\n",
    "proj_b_samp_canc_n = proj_b_samp[proj_b_samp.cancer_type == 'Breast Invasive Lobular Carcinoma']"
   ]
  },
  {
   "cell_type": "code",
   "execution_count": null,
   "id": "7288f0e7-88e9-4c60-bdc6-09735824d26f",
   "metadata": {},
   "outputs": [],
   "source": [
    "# Breast NOS\n",
    "cancer = 'breast_nos'\n",
    "proj_a_samp_canc_n = proj_a_samp[proj_a_samp.cancer_type == 'Breast carcinoma']\n",
    "proj_b_samp_canc_n = proj_b_samp[proj_b_samp.cancer_type == 'Breast Invasive Carcinoma, NOS']"
   ]
  },
  {
   "cell_type": "code",
   "execution_count": null,
   "id": "fb55bb88-3a4a-47ff-a736-d5d0cd435c32",
   "metadata": {},
   "outputs": [],
   "source": [
    "# Renal clear cell\n",
    "cancer = 'renal_clear_cell'\n",
    "proj_a_samp_canc_n = proj_a_samp[proj_a_samp.cancer_type == 'Clear cell renal cell carcinoma']\n",
    "proj_b_samp_canc_n = proj_b_samp[proj_b_samp.cancer_type == 'Renal Clear Cell Carcinoma']"
   ]
  },
  {
   "cell_type": "markdown",
   "id": "322415bf-f4ef-474a-8d2e-cd6303dfaf3a",
   "metadata": {},
   "source": [
    "#### Continue"
   ]
  },
  {
   "cell_type": "code",
   "execution_count": null,
   "id": "b36cfb5e-fe78-4f6f-9fc3-074f5d0ed987",
   "metadata": {},
   "outputs": [],
   "source": [
    "ids_proj_a = proj_a_samp_canc_n.improve_sample_id # cl\n",
    "ids_proj_b = proj_b_samp_canc_n.improve_sample_id # cp"
   ]
  },
  {
   "cell_type": "markdown",
   "id": "a5642ecc-e1c2-4619-96a3-589c5610a259",
   "metadata": {},
   "source": [
    "#### Data extraction"
   ]
  },
  {
   "cell_type": "code",
   "execution_count": null,
   "id": "041aec76-5d3a-45ce-a969-686d776808c1",
   "metadata": {},
   "outputs": [],
   "source": [
    "data_type = 'transcriptomics' # to file name\n",
    "d_typ = 'tran_' # to columns and index\n",
    "dta_n_proj_a = cell_line.transcriptomics[cell_line.transcriptomics.improve_sample_id.isin(ids_proj_a)] # cl\n",
    "dta_n_proj_b = cptac.transcriptomics[cptac.transcriptomics.improve_sample_id.isin(ids_proj_b)]"
   ]
  },
  {
   "cell_type": "code",
   "execution_count": null,
   "id": "6d7f5a4b-9f55-4a43-bd50-1ad6f95f23e3",
   "metadata": {},
   "outputs": [],
   "source": [
    "data_type = 'proteomics' # to file name\n",
    "d_typ = 'prot_' # to columns and index\n",
    "dta_n_proj_a = cell_line.proteomics[cell_line.proteomics.improve_sample_id.isin(ids_proj_a)] # cl\n",
    "dta_n_proj_b = cptac.proteomics[cptac.proteomics.improve_sample_id.isin(ids_proj_b)]"
   ]
  },
  {
   "cell_type": "code",
   "execution_count": null,
   "id": "439335f4-e1f5-4c15-8f27-b6d50cb8ac6e",
   "metadata": {},
   "outputs": [],
   "source": [
    "\n",
    "\n",
    "dta_n_proj_a = cell_line.copy_number[cell_line.copy_number.improve_sample_id.isin(ids_proj_a)]\n",
    "dta_n_proj_b = cell_line.copy_number[cell_line.copy_number.improve_sample_id.isin(ids_proj_b)]"
   ]
  },
  {
   "cell_type": "code",
   "execution_count": null,
   "id": "75c5e3fe-d072-4c84-845a-c63a4033f92c",
   "metadata": {},
   "outputs": [],
   "source": [
    "\n",
    "\n",
    "dta_n_proj_a = cptac.mutations[cptac.mutations.improve_sample_id.isin(ids_proj_a)]\n",
    "dta_n_proj_b = cell_line.mutations[cell_line.mutations.improve_sample_id.isin(ids_proj_b)]"
   ]
  },
  {
   "cell_type": "markdown",
   "id": "3bb77775-0e92-4d57-8a83-3e3e1fc46f43",
   "metadata": {},
   "source": [
    "#### Project A, cell line"
   ]
  },
  {
   "cell_type": "code",
   "execution_count": null,
   "id": "e3ff696f-67e0-44ea-b350-7ed4f9b88c2f",
   "metadata": {},
   "outputs": [],
   "source": [
    "df_lite, size, na_count, inf_count = df_check(dta_n_proj_a)\n",
    "print(sys_a) # sa\n",
    "print(cancer, data_type)\n",
    "print(size)\n",
    "print(na_count)\n",
    "print(inf_count)"
   ]
  },
  {
   "cell_type": "code",
   "execution_count": null,
   "id": "fbd9f80b-dbce-4661-a7cb-3dc81dde61c7",
   "metadata": {},
   "outputs": [],
   "source": [
    "wall_clock, dot_T = extract(df_lite)\n",
    "print(wall_clock)\n",
    "dot_T.head(1).iloc[:, :1]"
   ]
  },
  {
   "cell_type": "code",
   "execution_count": null,
   "id": "23ffe817-8f1c-48c2-a59c-753b29930a18",
   "metadata": {},
   "outputs": [],
   "source": [
    "d_typ"
   ]
  },
  {
   "cell_type": "code",
   "execution_count": null,
   "id": "83fb9bd2-74c2-4632-a40c-ed97ede76049",
   "metadata": {},
   "outputs": [],
   "source": [
    "dot_T = g(d_typ, dot_T.copy())\n",
    "dot_T.head(1).iloc[:, :1]"
   ]
  },
  {
   "cell_type": "code",
   "execution_count": null,
   "id": "639dcc50-3044-47f6-ac9a-d5107c44e788",
   "metadata": {},
   "outputs": [],
   "source": [
    "dot_T.shape"
   ]
  },
  {
   "cell_type": "code",
   "execution_count": null,
   "id": "36f01554-9cc3-4e0c-b720-98a17c8cbab3",
   "metadata": {},
   "outputs": [],
   "source": [
    "dot_T.dropna(axis = 1, inplace = True)"
   ]
  },
  {
   "cell_type": "code",
   "execution_count": null,
   "id": "6a1949c0-ec2f-4549-abda-f17e6bad8370",
   "metadata": {},
   "outputs": [],
   "source": [
    "dot_T.shape"
   ]
  },
  {
   "cell_type": "code",
   "execution_count": null,
   "id": "56013e2a-73c9-47cd-be94-ea4457f4a8dd",
   "metadata": {},
   "outputs": [],
   "source": [
    "a = dot_T # cell line"
   ]
  },
  {
   "cell_type": "markdown",
   "id": "6f06adb1-be6a-4c43-921f-540195b3a5a7",
   "metadata": {},
   "source": [
    "#### Project B, CPTAC"
   ]
  },
  {
   "cell_type": "code",
   "execution_count": null,
   "id": "df58287c-bcfc-4bf3-970e-10db36a792a3",
   "metadata": {},
   "outputs": [],
   "source": [
    "df_lite, size, na_count, inf_count = df_check(dta_n_proj_b)\n",
    "print(sys_b)\n",
    "print(cancer, data_type)\n",
    "print(size)\n",
    "print(na_count)\n",
    "print(inf_count)"
   ]
  },
  {
   "cell_type": "code",
   "execution_count": null,
   "id": "427da638-10dc-41a5-b6d6-966dc9c70a18",
   "metadata": {},
   "outputs": [],
   "source": [
    "wall_clock, dot_T = extract(df_lite)\n",
    "print(wall_clock)\n",
    "dot_T.head(1).iloc[:, :1]"
   ]
  },
  {
   "cell_type": "code",
   "execution_count": null,
   "id": "a73c5802-f594-4763-81fd-9a47c58a50f7",
   "metadata": {},
   "outputs": [],
   "source": [
    "dot_T = g(d_typ, dot_T.copy())\n",
    "# dot_T.head(1).iloc[:, :1]"
   ]
  },
  {
   "cell_type": "code",
   "execution_count": null,
   "id": "e046266b-9994-47a2-ab28-77043335ecbf",
   "metadata": {
    "scrolled": true
   },
   "outputs": [],
   "source": [
    "dot_T.head(1).iloc[:, :1]"
   ]
  },
  {
   "cell_type": "code",
   "execution_count": null,
   "id": "4de0d000-c8b0-4828-b72f-4b05ef293527",
   "metadata": {},
   "outputs": [],
   "source": [
    "dot_T.shape"
   ]
  },
  {
   "cell_type": "code",
   "execution_count": null,
   "id": "474654af-15cf-414c-af15-e42e4022cf55",
   "metadata": {},
   "outputs": [],
   "source": [
    "dot_T.dropna(axis = 1, inplace = True)"
   ]
  },
  {
   "cell_type": "code",
   "execution_count": null,
   "id": "bda16ef5-e887-482d-9e7a-fcbd56e4a39f",
   "metadata": {},
   "outputs": [],
   "source": [
    "dot_T.shape"
   ]
  },
  {
   "cell_type": "code",
   "execution_count": null,
   "id": "8382255f-6512-4467-96a9-07b8b5cf9d74",
   "metadata": {},
   "outputs": [],
   "source": [
    "b = dot_T # cptac"
   ]
  },
  {
   "cell_type": "markdown",
   "id": "e955d242-9b01-42fa-8ed3-9b8312a5eb7f",
   "metadata": {},
   "source": [
    "#### Labels"
   ]
  },
  {
   "cell_type": "code",
   "execution_count": null,
   "id": "6555035d-c130-416e-96d9-442ecfd650b9",
   "metadata": {},
   "outputs": [],
   "source": [
    "a.insert(0, 'Labels', 'cell_line')\n",
    "b.insert(0, 'Labels', 'CPTAC')"
   ]
  },
  {
   "cell_type": "code",
   "execution_count": null,
   "id": "fff0e812-c11c-4726-a168-1aa29d763d30",
   "metadata": {},
   "outputs": [],
   "source": [
    "ab = pd.concat([a, b], axis=0, join='inner')"
   ]
  },
  {
   "cell_type": "code",
   "execution_count": null,
   "id": "32a0ac2b-79e3-4de0-b9e6-b9adbdd38077",
   "metadata": {},
   "outputs": [],
   "source": [
    "ab"
   ]
  },
  {
   "cell_type": "code",
   "execution_count": null,
   "id": "9ec66c0c-b24f-4a92-bbeb-0e581f6a3ff4",
   "metadata": {},
   "outputs": [],
   "source": [
    "out, u_o, cancer, data_type"
   ]
  },
  {
   "cell_type": "code",
   "execution_count": null,
   "id": "efd07a44-6a21-427a-abda-58a262fff308",
   "metadata": {},
   "outputs": [],
   "source": [
    "# want to write double label - idea run double label on mbatch\n",
    "# do we want single label also as benchmarks? - compare mbatch and vae on sing lab?\n",
    "ab.to_csv(\n",
    "    '../output/sing_lab/'+cancer+'_'+data_type+'_'+projects+'.tsv',\n",
    "    sep = '\\t')"
   ]
  },
  {
   "cell_type": "code",
   "execution_count": null,
   "id": "501334b4-7334-4df6-ad99-1b7e28a7e643",
   "metadata": {},
   "outputs": [],
   "source": [
    "check = pd.read_csv('../output/sing_lab/'+cancer+'_'+data_type+'_'+projects+'.tsv',\n",
    "                    sep = '\\t', index_col = 0)"
   ]
  },
  {
   "cell_type": "code",
   "execution_count": null,
   "id": "b9fa66cd-6e06-4213-9f69-4f6e5e4aa3b0",
   "metadata": {},
   "outputs": [],
   "source": [
    "print(cancer)\n",
    "check"
   ]
  },
  {
   "cell_type": "markdown",
   "id": "b16f889c-dcbc-495d-ae08-8b88bf8bb382",
   "metadata": {},
   "source": [
    "#### Dbl Lbl"
   ]
  },
  {
   "cell_type": "code",
   "execution_count": null,
   "id": "5a794161-677f-4cfe-bc22-2e20d690e6b3",
   "metadata": {},
   "outputs": [],
   "source": [
    "ab = ab.rename(columns={'Labels': 'System'})"
   ]
  },
  {
   "cell_type": "code",
   "execution_count": null,
   "id": "3bbbddc0-5c26-4f67-862d-c2be398b5529",
   "metadata": {},
   "outputs": [],
   "source": [
    "ab.head(1).iloc[:, :1]"
   ]
  },
  {
   "cell_type": "code",
   "execution_count": null,
   "id": "8abab865-031b-4a6c-b8a4-b699572d5e4d",
   "metadata": {},
   "outputs": [],
   "source": [
    "ab.insert(1, 'Cancer_type', cancer)"
   ]
  },
  {
   "cell_type": "code",
   "execution_count": null,
   "id": "0fbd8607-36c0-4a83-8ae3-2713e84895c9",
   "metadata": {},
   "outputs": [],
   "source": [
    "ab.iloc[:3, :3]"
   ]
  },
  {
   "cell_type": "code",
   "execution_count": null,
   "id": "d323b248-cffb-44f4-922d-218b8ad899fc",
   "metadata": {},
   "outputs": [],
   "source": [
    "ab.shape"
   ]
  },
  {
   "cell_type": "code",
   "execution_count": null,
   "id": "44bd491b-2ac0-4253-88c7-6de86b8c1570",
   "metadata": {},
   "outputs": [],
   "source": [
    "check.iloc[:3, :3]"
   ]
  },
  {
   "cell_type": "code",
   "execution_count": null,
   "id": "7a39f23c-c2f5-4f87-915c-dd0fc6b55a64",
   "metadata": {},
   "outputs": [],
   "source": [
    "check.shape"
   ]
  },
  {
   "cell_type": "code",
   "execution_count": null,
   "id": "370b2596-6daf-4a0a-9d61-4e44e3fbea8c",
   "metadata": {},
   "outputs": [],
   "source": [
    "check.insert(1, 'Cancer_type', 'lung_adeno')"
   ]
  },
  {
   "cell_type": "code",
   "execution_count": null,
   "id": "7dab8225-5b21-4c0c-95c7-2569f2e57985",
   "metadata": {},
   "outputs": [],
   "source": [
    "check.iloc[:3, :3]"
   ]
  },
  {
   "cell_type": "code",
   "execution_count": null,
   "id": "9414207a-9f29-4ec4-b0de-241130b65970",
   "metadata": {},
   "outputs": [],
   "source": [
    "check = check.rename(columns={'Labels': 'System'})"
   ]
  },
  {
   "cell_type": "code",
   "execution_count": null,
   "id": "38eda3b7-8210-4f18-be99-1f49f35e0de0",
   "metadata": {},
   "outputs": [],
   "source": [
    "dbl_lbl = pd.concat([ab, check], axis = 0, join = 'inner')"
   ]
  },
  {
   "cell_type": "code",
   "execution_count": null,
   "id": "c302b728-7309-469e-ab60-5f5cf4b83245",
   "metadata": {},
   "outputs": [],
   "source": [
    "dbl_lbl"
   ]
  },
  {
   "cell_type": "code",
   "execution_count": null,
   "id": "a88e4849-4794-4520-901b-aa00414fc101",
   "metadata": {},
   "outputs": [],
   "source": [
    "need c1, c2 vars"
   ]
  },
  {
   "cell_type": "code",
   "execution_count": null,
   "id": "6b08d912-10b3-46f5-afa6-01fe0572321e",
   "metadata": {},
   "outputs": [],
   "source": [
    "cancer"
   ]
  },
  {
   "cell_type": "code",
   "execution_count": null,
   "id": "32e0e5d6-1fdc-415b-97bc-199d0a91f891",
   "metadata": {},
   "outputs": [],
   "source": [
    "dbl_lbl.to_csv('../output/dbl_lbl/lung_adeno+'+cancer+'_'+data_type+'_'+projects+'.tsv',\n",
    "                    sep = '\\t')"
   ]
  },
  {
   "cell_type": "code",
   "execution_count": null,
   "id": "ff0a6ae7-b769-47fd-b7a3-8e075325079a",
   "metadata": {},
   "outputs": [],
   "source": [
    "dbl_lbl"
   ]
  },
  {
   "cell_type": "markdown",
   "id": "44ff4420-49f1-4335-8f50-24390a87f0f0",
   "metadata": {},
   "source": [
    "#### UMAP"
   ]
  },
  {
   "cell_type": "code",
   "execution_count": null,
   "id": "e7abce57-9a1f-46ed-aba9-b03b6212b9de",
   "metadata": {},
   "outputs": [],
   "source": [
    "# Lead-in for UMAP - read from sing_lab\n",
    "    # really want to test adding synth samples - single cell"
   ]
  },
  {
   "cell_type": "code",
   "execution_count": null,
   "id": "51d190a2-3634-4350-b062-70fc96905875",
   "metadata": {
    "scrolled": true
   },
   "outputs": [],
   "source": [
    "ab.insert(0, 'Data_phase', 'Original')"
   ]
  },
  {
   "cell_type": "code",
   "execution_count": null,
   "id": "b32a0a0e-518f-4925-b5ff-a7c8a20dd042",
   "metadata": {},
   "outputs": [],
   "source": [
    "ab"
   ]
  },
  {
   "cell_type": "code",
   "execution_count": null,
   "id": "8a505e8e-de77-4c72-b023-695d99aac6c1",
   "metadata": {},
   "outputs": [],
   "source": []
  }
 ],
 "metadata": {
  "kernelspec": {
   "display_name": "Python 3 (ipykernel)",
   "language": "python",
   "name": "python3"
  },
  "language_info": {
   "codemirror_mode": {
    "name": "ipython",
    "version": 3
   },
   "file_extension": ".py",
   "mimetype": "text/x-python",
   "name": "python",
   "nbconvert_exporter": "python",
   "pygments_lexer": "ipython3",
   "version": "3.10.8"
  }
 },
 "nbformat": 4,
 "nbformat_minor": 5
}
