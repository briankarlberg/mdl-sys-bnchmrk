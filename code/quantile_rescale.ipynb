{
 "cells": [
  {
   "cell_type": "code",
   "execution_count": null,
   "id": "97a98144-64fd-408f-b884-7ccb78b69658",
   "metadata": {},
   "outputs": [],
   "source": [
    "# from quantile_rescale.py - to archive\n",
    "# produce two corrected files - nc5 done, nc2 ____\n",
    "    # to ../results/r72/quant_resc/ - check, mkdir ../results/r8/\n",
    "# pilot n3_n4 chk (?) - done, itertools, solve nc3a, nc2b, ..., etc.\n",
    "    # use Tybalt VAE as control (?) - \n",
    "# Use quant resc as pilot for mbatch across projects and data types:\n",
    "    # what is fastest route to answer neg val question?"
   ]
  },
  {
   "cell_type": "code",
   "execution_count": 1,
   "id": "6afb292d-c923-483a-8a27-4911fbb7b74d",
   "metadata": {},
   "outputs": [
    {
     "name": "stdout",
     "output_type": "stream",
     "text": [
      "Interactive namespace is empty.\n"
     ]
    }
   ],
   "source": [
    "%whos"
   ]
  },
  {
   "cell_type": "code",
   "execution_count": 2,
   "id": "74f4b09f-61dd-48e6-8f3a-68b318c57716",
   "metadata": {},
   "outputs": [],
   "source": [
    "# Data handling\n",
    "import pandas as pd\n",
    "import glob\n",
    "import itertools"
   ]
  },
  {
   "cell_type": "code",
   "execution_count": 3,
   "id": "08a3db56-8bb7-4f58-8062-9d6265523011",
   "metadata": {},
   "outputs": [],
   "source": [
    "def quantileRescale(src, dst):\n",
    "    lower = 0.10\n",
    "    upper = 0.90\n",
    "    dstRange = dst.quantile([lower,upper])\n",
    "    srcRange = src.quantile([lower,upper])\n",
    "    scale = (srcRange.loc[upper] - srcRange.loc[lower]) / (dstRange.loc[upper] - dstRange.loc[lower])\n",
    "    shift = (srcRange.loc[lower] / scale) - dstRange.loc[lower]\n",
    "    scaleDF = src / scale - shift\n",
    "    return scaleDF"
   ]
  },
  {
   "cell_type": "code",
   "execution_count": null,
   "id": "5df85497-75e3-43be-baf2-bfbe92c043bb",
   "metadata": {},
   "outputs": [],
   "source": [
    "# Quantile - native Pandas function"
   ]
  },
  {
   "cell_type": "code",
   "execution_count": 5,
   "id": "f73f5daf-8f03-4cc9-9dc1-407d3f6fea08",
   "metadata": {},
   "outputs": [
    {
     "data": {
      "text/plain": [
       "['../data/r72/nc5_transcriptomics_cell-line+CPTAC.input-data.tsv',\n",
       " '../data/r72/nc2_transcriptomics_HCMI+CPTAC.input-data.tsv']"
      ]
     },
     "execution_count": 5,
     "metadata": {},
     "output_type": "execute_result"
    }
   ],
   "source": [
    "# phase = 'Input' (to Quantile rescaling here)\n",
    "inp_pths = sorted(\n",
    "    glob.glob('../data/r72/*.tsv'), reverse = True)\n",
    "inp_pths"
   ]
  },
  {
   "cell_type": "markdown",
   "id": "b6cb83b0-6ca5-4bb7-b9a7-05a80c447efa",
   "metadata": {},
   "source": [
    "### Cycle point"
   ]
  },
  {
   "cell_type": "code",
   "execution_count": 6,
   "id": "a1c83e27-b9c5-418f-9fc0-8c376af862f2",
   "metadata": {},
   "outputs": [],
   "source": [
    "# Name vars to clssfr_eval.ipynb\n",
    "path_index_toggle = 0\n",
    "cancer_count = 5\n",
    "sys_togg = 'cell-line'\n",
    "sys_file_names = 'cell-line+CPTAC'\n",
    "sample_count_lbl = 'Cell line'\n",
    "mdl_sys_inline = 'cell line'"
   ]
  },
  {
   "cell_type": "code",
   "execution_count": 35,
   "id": "83f342f1-8093-4ffb-b21a-f91c9b198f12",
   "metadata": {},
   "outputs": [],
   "source": [
    "path_index_toggle = 1\n",
    "cancer_count = 2\n",
    "sys_togg = 'hcmi'\n",
    "sys_file_names = 'HMCI+CPTAC'\n",
    "sample_count_lbl = 'HCMI'\n",
    "mdl_sys_inline = 'HCMI'"
   ]
  },
  {
   "cell_type": "code",
   "execution_count": 36,
   "id": "bf82a19e-6290-432e-abe8-bf6c296c68ff",
   "metadata": {},
   "outputs": [
    {
     "data": {
      "text/plain": [
       "'../data/r72/nc2_transcriptomics_HCMI+CPTAC.input-data.tsv'"
      ]
     },
     "execution_count": 36,
     "metadata": {},
     "output_type": "execute_result"
    }
   ],
   "source": [
    "inp_pths[path_index_toggle]"
   ]
  },
  {
   "cell_type": "code",
   "execution_count": 37,
   "id": "f92d30f1-a1eb-462c-b120-463e7148b643",
   "metadata": {},
   "outputs": [
    {
     "name": "stdout",
     "output_type": "stream",
     "text": [
      "inpt len: 332\n",
      "out_name: nc2_transcriptomics_HCMI+CPTAC\n"
     ]
    }
   ],
   "source": [
    "# Input load, check read the raw data for q rsc\n",
    "input_df = pd.read_csv(\n",
    "                inp_pths[path_index_toggle], # nc5 or nc2 file\n",
    "                sep = '\\t',\n",
    "                index_col = 0)\n",
    "out_name = inp_pths[path_index_toggle].split('/')[-1].split('.')[0]\n",
    "print('inpt len:', len(input_df))\n",
    "print('out_name:', out_name)"
   ]
  },
  {
   "cell_type": "code",
   "execution_count": 38,
   "id": "6f7d2a22-3aa3-4d80-abc7-7faf7aa73481",
   "metadata": {},
   "outputs": [
    {
     "data": {
      "text/plain": [
       "array(['cptac', 'hcmi'], dtype=object)"
      ]
     },
     "execution_count": 38,
     "metadata": {},
     "output_type": "execute_result"
    }
   ],
   "source": [
    "input_df.System.unique() # Automation for HCMI:\n",
    "                            # sort order reverse alph\n",
    "                            # assign to src_ref\n",
    "                            # Use alt method to relying on sort order"
   ]
  },
  {
   "cell_type": "code",
   "execution_count": 60,
   "id": "35a67201-ec03-4817-aa46-87a85e443491",
   "metadata": {},
   "outputs": [
    {
     "data": {
      "text/plain": [
       "System\n",
       "cptac    245\n",
       "hcmi      87\n",
       "Name: count, dtype: int64"
      ]
     },
     "execution_count": 60,
     "metadata": {},
     "output_type": "execute_result"
    }
   ],
   "source": [
    "input_df.System.value_counts()"
   ]
  },
  {
   "cell_type": "code",
   "execution_count": 61,
   "id": "b5060ed4-9339-4c79-8d87-9f61ac10c83a",
   "metadata": {},
   "outputs": [
    {
     "data": {
      "text/plain": [
       "Cancer_type\n",
       "pancreatic-nos-ductal-ad    181\n",
       "colon-nos-adeno             151\n",
       "Name: count, dtype: int64"
      ]
     },
     "execution_count": 61,
     "metadata": {},
     "output_type": "execute_result"
    }
   ],
   "source": [
    "input_df.Cancer_type.value_counts()"
   ]
  },
  {
   "cell_type": "code",
   "execution_count": 39,
   "id": "9b0171d7-7c60-4b70-92ad-8d4e7056f600",
   "metadata": {},
   "outputs": [
    {
     "data": {
      "text/plain": [
       "0"
      ]
     },
     "execution_count": 39,
     "metadata": {},
     "output_type": "execute_result"
    }
   ],
   "source": [
    "input_df.iloc[:, 2:].isna().sum().sum()"
   ]
  },
  {
   "cell_type": "code",
   "execution_count": null,
   "id": "57af10c9-3811-40e7-98a3-0d4323149082",
   "metadata": {},
   "outputs": [],
   "source": [
    "input_df"
   ]
  },
  {
   "cell_type": "markdown",
   "id": "37fc7eda-5a70-4678-9cbc-33c3b3f221ad",
   "metadata": {},
   "source": [
    "##### Indirect check for zeroed out column"
   ]
  },
  {
   "cell_type": "code",
   "execution_count": 41,
   "id": "a15eb6b4-967c-48b7-9ea7-5293ea8fef5d",
   "metadata": {},
   "outputs": [],
   "source": [
    "q_tst = input_df.iloc[:, 2:].quantile([.1, .9])"
   ]
  },
  {
   "cell_type": "code",
   "execution_count": 42,
   "id": "669f24b5-f9b5-4e19-9910-874c8c1d8060",
   "metadata": {},
   "outputs": [
    {
     "data": {
      "text/plain": [
       "0.0"
      ]
     },
     "execution_count": 42,
     "metadata": {},
     "output_type": "execute_result"
    }
   ],
   "source": [
    "q_tst.loc[.9, :].min()"
   ]
  },
  {
   "cell_type": "code",
   "execution_count": 43,
   "id": "4b9bd8c9-d688-4d04-b7e8-9cc8786861db",
   "metadata": {},
   "outputs": [],
   "source": [
    "input_df = input_df.loc[:, (input_df != 0).any(axis=0)]"
   ]
  },
  {
   "cell_type": "code",
   "execution_count": null,
   "id": "e8de86ba-fcbe-401b-a226-1b7a846e2cbd",
   "metadata": {},
   "outputs": [],
   "source": [
    "input_df"
   ]
  },
  {
   "cell_type": "markdown",
   "id": "8c266c96-af40-4c9a-974d-5f4acba171f7",
   "metadata": {},
   "source": [
    "##### Split by system - quant scale"
   ]
  },
  {
   "cell_type": "code",
   "execution_count": 20,
   "id": "64c40d5e-2fff-46ef-8d1f-a7f60f39bd72",
   "metadata": {},
   "outputs": [],
   "source": [
    "# Cell line and CPTAC - trans and prot\n",
    "    # src, dst to r72 to r8 conversion\n",
    "src_lab = input_df[input_df.System == 'cell-line'] #\n",
    "src = src_lab.iloc[:, 2:]\n",
    "dst_lab = input_df[input_df.System == 'cptac'] #\n",
    "dst = dst_lab.iloc[:, 2:]"
   ]
  },
  {
   "cell_type": "code",
   "execution_count": 47,
   "id": "4a36f4e8-4a2e-4082-9348-4e8261baa6c1",
   "metadata": {},
   "outputs": [],
   "source": [
    "# HCMI and CPTAC - trans and prot\n",
    "src_lab = input_df[input_df.System == 'hcmi']\n",
    "src = src_lab.iloc[:, 2:]\n",
    "dst_lab = input_df[input_df.System == 'cptac']\n",
    "dst = dst_lab.iloc[:, 2:]"
   ]
  },
  {
   "cell_type": "code",
   "execution_count": null,
   "id": "3c72958c-5156-41a1-87fa-752786ef7015",
   "metadata": {},
   "outputs": [],
   "source": [
    "# BeatAML - trans (ngtv vals) and prot\n",
    " = input_df[input_df.System == 'cptac']\n",
    "\n",
    " = input_df[input_df.System == 'hcmi']\n"
   ]
  },
  {
   "cell_type": "markdown",
   "id": "aec8767a-a528-434c-b03d-04689f01ab58",
   "metadata": {},
   "source": [
    "##### Quant Resc main"
   ]
  },
  {
   "cell_type": "code",
   "execution_count": null,
   "id": "587fc9b4-2ec9-4b35-b891-9160d0aec4e6",
   "metadata": {},
   "outputs": [],
   "source": [
    "# MBatch alignment\n",
    "    # * dst (quant_resc) = ref (mbatch) <----"
   ]
  },
  {
   "cell_type": "code",
   "execution_count": 48,
   "id": "bbaf5207-2a21-4283-85cb-0347fe6e0f60",
   "metadata": {},
   "outputs": [
    {
     "data": {
      "text/html": [
       "<div>\n",
       "<style scoped>\n",
       "    .dataframe tbody tr th:only-of-type {\n",
       "        vertical-align: middle;\n",
       "    }\n",
       "\n",
       "    .dataframe tbody tr th {\n",
       "        vertical-align: top;\n",
       "    }\n",
       "\n",
       "    .dataframe thead th {\n",
       "        text-align: right;\n",
       "    }\n",
       "</style>\n",
       "<table border=\"1\" class=\"dataframe\">\n",
       "  <thead>\n",
       "    <tr style=\"text-align: right;\">\n",
       "      <th></th>\n",
       "      <th>System</th>\n",
       "      <th>Cancer_type</th>\n",
       "      <th>entrz_tran_1</th>\n",
       "    </tr>\n",
       "    <tr>\n",
       "      <th>improve_sample_id</th>\n",
       "      <th></th>\n",
       "      <th></th>\n",
       "      <th></th>\n",
       "    </tr>\n",
       "  </thead>\n",
       "  <tbody>\n",
       "    <tr>\n",
       "      <th>smpl_id_3018</th>\n",
       "      <td>hcmi</td>\n",
       "      <td>colon-nos-adeno</td>\n",
       "      <td>0.0433</td>\n",
       "    </tr>\n",
       "    <tr>\n",
       "      <th>smpl_id_3024</th>\n",
       "      <td>hcmi</td>\n",
       "      <td>colon-nos-adeno</td>\n",
       "      <td>0.5619</td>\n",
       "    </tr>\n",
       "    <tr>\n",
       "      <th>smpl_id_3036</th>\n",
       "      <td>hcmi</td>\n",
       "      <td>pancreatic-nos-ductal-ad</td>\n",
       "      <td>0.0898</td>\n",
       "    </tr>\n",
       "  </tbody>\n",
       "</table>\n",
       "</div>"
      ],
      "text/plain": [
       "                  System               Cancer_type  entrz_tran_1\n",
       "improve_sample_id                                               \n",
       "smpl_id_3018        hcmi           colon-nos-adeno        0.0433\n",
       "smpl_id_3024        hcmi           colon-nos-adeno        0.5619\n",
       "smpl_id_3036        hcmi  pancreatic-nos-ductal-ad        0.0898"
      ]
     },
     "execution_count": 48,
     "metadata": {},
     "output_type": "execute_result"
    }
   ],
   "source": [
    "src_lab.iloc[:3, :3]"
   ]
  },
  {
   "cell_type": "code",
   "execution_count": 49,
   "id": "f2ff978c-23ff-49ab-a94b-d7211812e585",
   "metadata": {},
   "outputs": [
    {
     "data": {
      "text/html": [
       "<div>\n",
       "<style scoped>\n",
       "    .dataframe tbody tr th:only-of-type {\n",
       "        vertical-align: middle;\n",
       "    }\n",
       "\n",
       "    .dataframe tbody tr th {\n",
       "        vertical-align: top;\n",
       "    }\n",
       "\n",
       "    .dataframe thead th {\n",
       "        text-align: right;\n",
       "    }\n",
       "</style>\n",
       "<table border=\"1\" class=\"dataframe\">\n",
       "  <thead>\n",
       "    <tr style=\"text-align: right;\">\n",
       "      <th></th>\n",
       "      <th>System</th>\n",
       "      <th>Cancer_type</th>\n",
       "      <th>entrz_tran_1</th>\n",
       "    </tr>\n",
       "    <tr>\n",
       "      <th>improve_sample_id</th>\n",
       "      <th></th>\n",
       "      <th></th>\n",
       "      <th></th>\n",
       "    </tr>\n",
       "  </thead>\n",
       "  <tbody>\n",
       "    <tr>\n",
       "      <th>smpl_id_1996</th>\n",
       "      <td>cptac</td>\n",
       "      <td>colon-nos-adeno</td>\n",
       "      <td>0.0</td>\n",
       "    </tr>\n",
       "    <tr>\n",
       "      <th>smpl_id_1997</th>\n",
       "      <td>cptac</td>\n",
       "      <td>colon-nos-adeno</td>\n",
       "      <td>0.0</td>\n",
       "    </tr>\n",
       "    <tr>\n",
       "      <th>smpl_id_1998</th>\n",
       "      <td>cptac</td>\n",
       "      <td>colon-nos-adeno</td>\n",
       "      <td>0.0</td>\n",
       "    </tr>\n",
       "  </tbody>\n",
       "</table>\n",
       "</div>"
      ],
      "text/plain": [
       "                  System      Cancer_type  entrz_tran_1\n",
       "improve_sample_id                                      \n",
       "smpl_id_1996       cptac  colon-nos-adeno           0.0\n",
       "smpl_id_1997       cptac  colon-nos-adeno           0.0\n",
       "smpl_id_1998       cptac  colon-nos-adeno           0.0"
      ]
     },
     "execution_count": 49,
     "metadata": {},
     "output_type": "execute_result"
    }
   ],
   "source": [
    "dst_lab.iloc[:3, :3]"
   ]
  },
  {
   "cell_type": "code",
   "execution_count": null,
   "id": "ee387e53-50f5-4287-9e4c-8b6b010c94fa",
   "metadata": {},
   "outputs": [],
   "source": [
    "src # cell line or HCMI"
   ]
  },
  {
   "cell_type": "code",
   "execution_count": null,
   "id": "377f5392-a179-40de-99ec-35e91f1795e2",
   "metadata": {},
   "outputs": [],
   "source": [
    "dst # CPTAC or BeatAML"
   ]
  },
  {
   "cell_type": "markdown",
   "id": "a75b03aa-b8cc-4323-b6cd-5de680198756",
   "metadata": {},
   "source": [
    "#### Rescale"
   ]
  },
  {
   "cell_type": "code",
   "execution_count": 50,
   "id": "ca36f006-edca-47ba-8ced-8bbab6c40d78",
   "metadata": {},
   "outputs": [],
   "source": [
    "isect = src.columns.intersection(dst.columns)\n",
    "scaled = quantileRescale(src[isect], dst[isect])"
   ]
  },
  {
   "cell_type": "markdown",
   "id": "c213795d-6371-4519-8638-82d94ad68f8a",
   "metadata": {},
   "source": [
    "##### Confirm order preservation, to index merge"
   ]
  },
  {
   "cell_type": "code",
   "execution_count": null,
   "id": "7794f6b0-1c93-4ba2-850d-52badc722f10",
   "metadata": {},
   "outputs": [],
   "source": [
    "src_lab"
   ]
  },
  {
   "cell_type": "code",
   "execution_count": null,
   "id": "5d3777d2-6c19-4378-af24-142b489966f5",
   "metadata": {},
   "outputs": [],
   "source": [
    "src # Observation: order preserved for label re-install"
   ]
  },
  {
   "cell_type": "code",
   "execution_count": null,
   "id": "adcb80cb-aef2-4110-8015-e0228b09ef37",
   "metadata": {},
   "outputs": [],
   "source": [
    "scaled # Observation: n = 261, cell line data scaled into human space"
   ]
  },
  {
   "cell_type": "markdown",
   "id": "efef4a56-f08d-43a9-bebf-f12578e7859d",
   "metadata": {},
   "source": [
    "##### Continue"
   ]
  },
  {
   "cell_type": "code",
   "execution_count": null,
   "id": "6d58be1b-a45a-4aaa-adfb-f7e303bd68c8",
   "metadata": {},
   "outputs": [],
   "source": [
    "# Target out"
   ]
  },
  {
   "cell_type": "code",
   "execution_count": 52,
   "id": "962058e1-97e7-44d9-84c7-3dafb3b5d52b",
   "metadata": {},
   "outputs": [
    {
     "name": "stdout",
     "output_type": "stream",
     "text": [
      "nc2_transcriptomics_HCMI+CPTAC.quant_resc.tsv\n",
      "nc5_transcriptomics_cell-line+CPTAC.quant_resc.tsv\n"
     ]
    }
   ],
   "source": [
    "ls ../results/r72/quant-resc/"
   ]
  },
  {
   "cell_type": "code",
   "execution_count": 51,
   "id": "60edf09b-c433-4eb2-9bbb-c322b050c0a4",
   "metadata": {},
   "outputs": [],
   "source": [
    "scaled = pd.concat(\n",
    "    [src_lab[['System', 'Cancer_type']], scaled], axis = 1)"
   ]
  },
  {
   "cell_type": "code",
   "execution_count": null,
   "id": "c0dc0eca-e776-4fc7-847e-42a38c76f368",
   "metadata": {},
   "outputs": [],
   "source": [
    "scaled"
   ]
  },
  {
   "cell_type": "code",
   "execution_count": 53,
   "id": "b07b43cf-fe0a-46bd-9856-dadf7c7c2a6a",
   "metadata": {},
   "outputs": [],
   "source": [
    "quant_resc = pd.concat([scaled, dst_lab], axis  = 0)"
   ]
  },
  {
   "cell_type": "code",
   "execution_count": null,
   "id": "072815e2-ac50-45a2-b29f-b7ee08caec9c",
   "metadata": {},
   "outputs": [],
   "source": [
    "quant_resc"
   ]
  },
  {
   "cell_type": "code",
   "execution_count": 28,
   "id": "d8fd143f-dea4-4b12-8c63-5a41fd2ff72a",
   "metadata": {},
   "outputs": [
    {
     "data": {
      "text/plain": [
       "'/Users/karlberb/Documents/work/2024/bnch_mrk/mdl-sys-bnchmrk/code'"
      ]
     },
     "execution_count": 28,
     "metadata": {},
     "output_type": "execute_result"
    }
   ],
   "source": [
    "pwd"
   ]
  },
  {
   "cell_type": "code",
   "execution_count": 31,
   "id": "c210d77f-f817-4b07-9e82-23a9269d5f88",
   "metadata": {},
   "outputs": [
    {
     "name": "stdout",
     "output_type": "stream",
     "text": [
      "nc2_transcriptomics_HCMI+CPTAC.quant_resc.tsv\n",
      "nc5_transcriptomics_cell-line+CPTAC.quant_resc.tsv\n"
     ]
    }
   ],
   "source": [
    "ls ../results/r72/quant-resc/"
   ]
  },
  {
   "cell_type": "code",
   "execution_count": 55,
   "id": "6abaf940-10cf-4607-a270-64e6bf04ce71",
   "metadata": {},
   "outputs": [],
   "source": [
    "quant_resc.to_csv(\n",
    "    '../results/r72/quant-resc/'+out_name+'.quant_resc.tsv',\n",
    "    sep='\\t')"
   ]
  },
  {
   "cell_type": "markdown",
   "id": "ec40bd52-4b1e-4f7f-9388-0ae63fa038ac",
   "metadata": {},
   "source": [
    "##### read check"
   ]
  },
  {
   "cell_type": "code",
   "execution_count": null,
   "id": "829350b3-550e-48c1-9204-720bb6c84add",
   "metadata": {},
   "outputs": [],
   "source": [
    "rc = pd.read_csv(\n",
    "    '../results/r72/quant-resc/'+out_name+'.quant_resc.tsv',\n",
    "    sep='\\t')\n",
    "rc"
   ]
  },
  {
   "cell_type": "code",
   "execution_count": 58,
   "id": "2418734c-37dd-4c5c-a81c-70a471e905dc",
   "metadata": {},
   "outputs": [
    {
     "data": {
      "text/plain": [
       "System\n",
       "cptac    245\n",
       "hcmi      87\n",
       "Name: count, dtype: int64"
      ]
     },
     "execution_count": 58,
     "metadata": {},
     "output_type": "execute_result"
    }
   ],
   "source": [
    "rc.System.value_counts()"
   ]
  },
  {
   "cell_type": "code",
   "execution_count": 59,
   "id": "dbcf82a7-9022-442d-96ec-6a7f70e830ae",
   "metadata": {},
   "outputs": [
    {
     "data": {
      "text/plain": [
       "Cancer_type\n",
       "pancreatic-nos-ductal-ad    181\n",
       "colon-nos-adeno             151\n",
       "Name: count, dtype: int64"
      ]
     },
     "execution_count": 59,
     "metadata": {},
     "output_type": "execute_result"
    }
   ],
   "source": [
    "rc.Cancer_type.value_counts()"
   ]
  },
  {
   "cell_type": "code",
   "execution_count": null,
   "id": "eadf88e5-5aea-4302-aabb-1a972ec9768a",
   "metadata": {},
   "outputs": [],
   "source": [
    "ls ../results/r72/quant_resc/"
   ]
  },
  {
   "cell_type": "code",
   "execution_count": null,
   "id": "157f90ed-61d7-4939-b6f5-1c1bad668218",
   "metadata": {},
   "outputs": [],
   "source": []
  }
 ],
 "metadata": {
  "kernelspec": {
   "display_name": "Python 3 (ipykernel)",
   "language": "python",
   "name": "python3"
  },
  "language_info": {
   "codemirror_mode": {
    "name": "ipython",
    "version": 3
   },
   "file_extension": ".py",
   "mimetype": "text/x-python",
   "name": "python",
   "nbconvert_exporter": "python",
   "pygments_lexer": "ipython3",
   "version": "3.10.8"
  }
 },
 "nbformat": 4,
 "nbformat_minor": 5
}
