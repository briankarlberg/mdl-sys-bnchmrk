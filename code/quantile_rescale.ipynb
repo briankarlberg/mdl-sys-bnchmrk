{
 "cells": [
  {
   "cell_type": "code",
   "execution_count": null,
   "id": "97a98144-64fd-408f-b884-7ccb78b69658",
   "metadata": {},
   "outputs": [],
   "source": [
    "# from quantile_rescale.py\n",
    "# produce two corrected files\n",
    "    # to ../results/r72/quant_resc/\n",
    "# pilot n3_n4 chk (?)\n",
    "    # use Tybalt VAE as control (?)\n",
    "# Use quant resc as pilot for mbatch across projects and dat types\n",
    "# what is fastest route to answer neg val question"
   ]
  },
  {
   "cell_type": "code",
   "execution_count": null,
   "id": "6afb292d-c923-483a-8a27-4911fbb7b74d",
   "metadata": {},
   "outputs": [],
   "source": [
    "%whos"
   ]
  },
  {
   "cell_type": "code",
   "execution_count": null,
   "id": "74f4b09f-61dd-48e6-8f3a-68b318c57716",
   "metadata": {},
   "outputs": [],
   "source": [
    "# Data handling\n",
    "import pandas as pd\n",
    "import glob\n",
    "import itertools"
   ]
  },
  {
   "cell_type": "code",
   "execution_count": null,
   "id": "08a3db56-8bb7-4f58-8062-9d6265523011",
   "metadata": {},
   "outputs": [],
   "source": [
    "def quantileRescale(src, dst):\n",
    "    lower = 0.10\n",
    "    upper = 0.90\n",
    "    dstRange = dst.quantile([lower,upper])\n",
    "    srcRange = src.quantile([lower,upper])\n",
    "    scale = (srcRange.loc[upper] - srcRange.loc[lower]) / (dstRange.loc[upper] - dstRange.loc[lower])\n",
    "    shift = (srcRange.loc[lower] / scale) - dstRange.loc[lower]\n",
    "    scaleDF = src / scale - shift\n",
    "    return scaleDF"
   ]
  },
  {
   "cell_type": "code",
   "execution_count": null,
   "id": "5df85497-75e3-43be-baf2-bfbe92c043bb",
   "metadata": {},
   "outputs": [],
   "source": [
    "# Is quantile a native Pandas function?"
   ]
  },
  {
   "cell_type": "code",
   "execution_count": null,
   "id": "f73f5daf-8f03-4cc9-9dc1-407d3f6fea08",
   "metadata": {},
   "outputs": [],
   "source": [
    "# phase = 'Input'\n",
    "inp_pths = sorted(\n",
    "    glob.glob('../data/r72/*.tsv'), reverse = True)\n",
    "inp_pths"
   ]
  },
  {
   "cell_type": "code",
   "execution_count": null,
   "id": "a1c83e27-b9c5-418f-9fc0-8c376af862f2",
   "metadata": {},
   "outputs": [],
   "source": [
    "path_index_toggle = 0\n",
    "cancer_count = 5\n",
    "sys_togg = 'cell-line'\n",
    "sys_file_names = 'cell-line+CPTAC'\n",
    "sample_count_lbl = 'Cell line'\n",
    "mdl_sys_inline = 'cell line'"
   ]
  },
  {
   "cell_type": "code",
   "execution_count": null,
   "id": "bf82a19e-6290-432e-abe8-bf6c296c68ff",
   "metadata": {},
   "outputs": [],
   "source": [
    "inp_pths[path_index_toggle]"
   ]
  },
  {
   "cell_type": "code",
   "execution_count": null,
   "id": "f92d30f1-a1eb-462c-b120-463e7148b643",
   "metadata": {},
   "outputs": [],
   "source": [
    "# Input load\n",
    "input_df = pd.read_csv(\n",
    "                inp_pths[path_index_toggle], # nc5 or nc2 file\n",
    "                sep = '\\t',\n",
    "                index_col = 0)\n",
    "out_name = inp_pths[path_index_toggle].split('/')[-1].split('.')[0]\n",
    "print('inpt len:', len(input_df))"
   ]
  },
  {
   "cell_type": "code",
   "execution_count": null,
   "id": "e50e3d47-9a6d-4b40-93d3-0f944d7aaaad",
   "metadata": {},
   "outputs": [],
   "source": [
    "out_name"
   ]
  },
  {
   "cell_type": "code",
   "execution_count": null,
   "id": "e81eb512-f962-488e-81b1-8748207aac91",
   "metadata": {},
   "outputs": [],
   "source": [
    "# src and dst and are in the same frame\n",
    "    # like mbatch"
   ]
  },
  {
   "cell_type": "code",
   "execution_count": null,
   "id": "7f86b51e-7e0f-4e81-8c60-1ac99b4f6824",
   "metadata": {},
   "outputs": [],
   "source": [
    "# concat the output of the quant scl like mbatch, <--\n",
    "# same eval within the transfer_learn.ipynb\n",
    "\n",
    "# refer to mbatch_i-o if needed"
   ]
  },
  {
   "cell_type": "code",
   "execution_count": null,
   "id": "58de4da1-133d-46db-9adc-0453bba58c25",
   "metadata": {},
   "outputs": [],
   "source": [
    "input_df"
   ]
  },
  {
   "cell_type": "code",
   "execution_count": null,
   "id": "6f7d2a22-3aa3-4d80-abc7-7faf7aa73481",
   "metadata": {},
   "outputs": [],
   "source": [
    "input_df.System.unique() # Automation for HCMI:\n",
    "                            # sort order reverse alph\n",
    "                            # assign to src_ref\n",
    "                            # Use alt method to relying on sort order"
   ]
  },
  {
   "cell_type": "markdown",
   "id": "8c266c96-af40-4c9a-974d-5f4acba171f7",
   "metadata": {},
   "source": [
    "##### Split by system - quant scale"
   ]
  },
  {
   "cell_type": "code",
   "execution_count": null,
   "id": "64c40d5e-2fff-46ef-8d1f-a7f60f39bd72",
   "metadata": {},
   "outputs": [],
   "source": [
    "# Cell line and CPTAC - trans and prot\n",
    "    # src, dst to r72 to r8 conversion\n",
    "src_lab = input_df[input_df.System == 'cell-line']\n",
    "src = src_lab.iloc[:, 2:]\n",
    "dst_lab = input_df[input_df.System == 'cptac']\n",
    "dst = src_lab.iloc[:, 2:]"
   ]
  },
  {
   "cell_type": "code",
   "execution_count": null,
   "id": "4a36f4e8-4a2e-4082-9348-4e8261baa6c1",
   "metadata": {},
   "outputs": [],
   "source": [
    "# HCMI and CPTAC - trans and prot\n",
    "a = input_df[input_df.System == 'cptac']\n",
    "b = input_df[input_df.System == 'hcmi']"
   ]
  },
  {
   "cell_type": "code",
   "execution_count": null,
   "id": "3c72958c-5156-41a1-87fa-752786ef7015",
   "metadata": {},
   "outputs": [],
   "source": [
    "# BeatAML - trans (ngtv vals) and prot\n",
    "a = input_df[input_df.System == 'cptac']\n",
    "b = input_df[input_df.System == 'hcmi']"
   ]
  },
  {
   "cell_type": "markdown",
   "id": "aec8767a-a528-434c-b03d-04689f01ab58",
   "metadata": {},
   "source": [
    "##### Quant Resc main"
   ]
  },
  {
   "cell_type": "code",
   "execution_count": null,
   "id": "93334b09-f4f0-464c-b2ff-07a01991525e",
   "metadata": {},
   "outputs": [],
   "source": [
    "# src = a\n",
    "# ref = b\n",
    "\n",
    "# * carry notation to v8 mbatch"
   ]
  },
  {
   "cell_type": "code",
   "execution_count": null,
   "id": "366a90ba-b535-4e4b-85ba-14ddc306fd65",
   "metadata": {},
   "outputs": [],
   "source": [
    "# this is r72 quant resc, pilot for quant resc and mbatch v8"
   ]
  },
  {
   "cell_type": "code",
   "execution_count": null,
   "id": "587fc9b4-2ec9-4b35-b891-9160d0aec4e6",
   "metadata": {},
   "outputs": [],
   "source": [
    "# * dst (quant_resc) = ref (mbatch) <----"
   ]
  },
  {
   "cell_type": "code",
   "execution_count": null,
   "id": "ee387e53-50f5-4287-9e4c-8b6b010c94fa",
   "metadata": {},
   "outputs": [],
   "source": [
    "src"
   ]
  },
  {
   "cell_type": "code",
   "execution_count": null,
   "id": "377f5392-a179-40de-99ec-35e91f1795e2",
   "metadata": {},
   "outputs": [],
   "source": [
    "dst"
   ]
  },
  {
   "cell_type": "code",
   "execution_count": null,
   "id": "ca36f006-edca-47ba-8ced-8bbab6c40d78",
   "metadata": {},
   "outputs": [],
   "source": [
    "isect = src.columns.intersection(dst.columns)\n",
    "scaled = quantileRescale(src[ isect ], dst[ isect])"
   ]
  },
  {
   "cell_type": "code",
   "execution_count": null,
   "id": "5d3777d2-6c19-4378-af24-142b489966f5",
   "metadata": {},
   "outputs": [],
   "source": [
    "src # Observation: order preserved for label re-install"
   ]
  },
  {
   "cell_type": "code",
   "execution_count": null,
   "id": "adcb80cb-aef2-4110-8015-e0228b09ef37",
   "metadata": {},
   "outputs": [],
   "source": [
    "scaled # Observation: n = 261, cell line data scaled into human space"
   ]
  },
  {
   "cell_type": "code",
   "execution_count": null,
   "id": "6d58be1b-a45a-4aaa-adfb-f7e303bd68c8",
   "metadata": {},
   "outputs": [],
   "source": [
    "# Target out"
   ]
  },
  {
   "cell_type": "code",
   "execution_count": null,
   "id": "962058e1-97e7-44d9-84c7-3dafb3b5d52b",
   "metadata": {},
   "outputs": [],
   "source": [
    "ls ../results/r72/quant_resc/"
   ]
  },
  {
   "cell_type": "code",
   "execution_count": null,
   "id": "2af7e60b-31c3-4eea-812b-fed5aa00a512",
   "metadata": {},
   "outputs": [],
   "source": [
    "src_lab[['System', 'Cancer_type']]"
   ]
  },
  {
   "cell_type": "code",
   "execution_count": null,
   "id": "60edf09b-c433-4eb2-9bbb-c322b050c0a4",
   "metadata": {},
   "outputs": [],
   "source": [
    "scaled = pd.concat(\n",
    "    [src_lab[['System', 'Cancer_type']], scaled], axis = 1)"
   ]
  },
  {
   "cell_type": "code",
   "execution_count": null,
   "id": "c0dc0eca-e776-4fc7-847e-42a38c76f368",
   "metadata": {},
   "outputs": [],
   "source": [
    "scaled"
   ]
  },
  {
   "cell_type": "code",
   "execution_count": null,
   "id": "b07b43cf-fe0a-46bd-9856-dadf7c7c2a6a",
   "metadata": {},
   "outputs": [],
   "source": [
    "quant_resc = pd.concat([scaled, dst_lab], axis  = 0)"
   ]
  },
  {
   "cell_type": "code",
   "execution_count": null,
   "id": "072815e2-ac50-45a2-b29f-b7ee08caec9c",
   "metadata": {},
   "outputs": [],
   "source": [
    "quant_resc"
   ]
  },
  {
   "cell_type": "code",
   "execution_count": null,
   "id": "6abaf940-10cf-4607-a270-64e6bf04ce71",
   "metadata": {},
   "outputs": [],
   "source": [
    "quant_resc.to_csv(\n",
    "    '../results/r72/quant_resc/'+out_name+'.quant_resc.tsv',\n",
    "    sep='\\t')"
   ]
  },
  {
   "cell_type": "markdown",
   "id": "ec40bd52-4b1e-4f7f-9388-0ae63fa038ac",
   "metadata": {},
   "source": [
    "##### read check"
   ]
  },
  {
   "cell_type": "code",
   "execution_count": null,
   "id": "829350b3-550e-48c1-9204-720bb6c84add",
   "metadata": {},
   "outputs": [],
   "source": [
    "rc = pd.read_csv(\n",
    "    '../results/r72/quant_resc/'+out_name+'.quant_resc.tsv',\n",
    "    sep='\\t')\n",
    "rc"
   ]
  },
  {
   "cell_type": "markdown",
   "id": "a16032d9-1c1c-4cba-958d-969b721f1e14",
   "metadata": {
    "jp-MarkdownHeadingCollapsed": true
   },
   "source": [
    "##### devel quant resc"
   ]
  },
  {
   "cell_type": "code",
   "execution_count": null,
   "id": "039fa9e8-440b-47a7-8c3a-0f5175bd2b6c",
   "metadata": {},
   "outputs": [],
   "source": [
    "isect = src.columns.intersection(dst.columns)\n",
    "\n",
    "scaled = quantileRescale(src[ isect ], dst[ isect])\n",
    "\n",
    "scaled.to_csv(args.out, sep=\"\\t\")"
   ]
  },
  {
   "cell_type": "markdown",
   "id": "074a9707-9a9c-4971-97b0-9ea8dce8365e",
   "metadata": {
    "jp-MarkdownHeadingCollapsed": true
   },
   "source": [
    "### Cancer type combo script"
   ]
  },
  {
   "cell_type": "code",
   "execution_count": null,
   "id": "69a322e7-f801-4f97-bdc6-8f518c4c7887",
   "metadata": {},
   "outputs": [],
   "source": [
    "# Data handling\n",
    "import pandas as pd\n",
    "import glob\n",
    "import itertools\n",
    "\n",
    "# Get paths input files\n",
    "inp_pths = sorted(\n",
    "    glob.glob('../data/r72/*.tsv'), reverse = True)\n",
    "inp_pths\n",
    "\n",
    "# Set vars (arg parse, config file, etc.)\n",
    "path_index_toggle = 0\n",
    "cancer_count = 5\n",
    "sys_togg = 'cell-line'\n",
    "sys_file_names = 'cell-line+CPTAC'\n",
    "sample_count_lbl = 'Cell line'\n",
    "mdl_sys_inline = 'cell line'\n",
    "\n",
    "# Read nc5\n",
    "input_df = pd.read_csv(\n",
    "                inp_pths[path_index_toggle], # nc5 or nc2 file\n",
    "                sep = '\\t',\n",
    "                index_col = 0)\n",
    "print('inpt len:', len(input_df))\n",
    "\n",
    "# Get unique cancer types\n",
    "nc5 = input_df.Cancer_type.unique()\n",
    "\n",
    "# Get unique combos of 3 and 4 cancers\n",
    "three_cancer_combos = list(itertools.combinations(nc5, 3))\n",
    "four_cancer_combos = list(itertools.combinations(nc5, 4))"
   ]
  },
  {
   "cell_type": "markdown",
   "id": "b3bf3ca1-007b-41ec-9166-3a057fcee2c7",
   "metadata": {
    "jp-MarkdownHeadingCollapsed": true
   },
   "source": [
    "### Devel"
   ]
  },
  {
   "cell_type": "code",
   "execution_count": null,
   "id": "d9bd5b03-fa7e-43a8-9801-6949c26e2918",
   "metadata": {},
   "outputs": [],
   "source": [
    "# Try subsetting on nc = 4 or nc = 3\n",
    "# How to characterize the quality of these combos\n",
    "# n3_n4_F1_chk (?)"
   ]
  },
  {
   "cell_type": "code",
   "execution_count": null,
   "id": "d3a21b95-87fd-4750-85b7-6f37573a812a",
   "metadata": {},
   "outputs": [],
   "source": [
    "input_df.Cancer_type.unique()"
   ]
  },
  {
   "cell_type": "code",
   "execution_count": null,
   "id": "978b886a-01d8-4de7-94da-46e0375bf606",
   "metadata": {},
   "outputs": [],
   "source": [
    "nc5 = input_df.Cancer_type.unique()"
   ]
  },
  {
   "cell_type": "code",
   "execution_count": null,
   "id": "02a0a139-bc7f-4e1a-88c4-f4c120c9e125",
   "metadata": {},
   "outputs": [],
   "source": [
    "nc5"
   ]
  },
  {
   "cell_type": "code",
   "execution_count": null,
   "id": "e9f9c7fa-17e6-4117-8fb3-303fd03aa5b4",
   "metadata": {},
   "outputs": [],
   "source": [
    "three_cancer_combos = list(itertools.combinations(nc5, 3))"
   ]
  },
  {
   "cell_type": "code",
   "execution_count": null,
   "id": "6b33ca9b-fec5-430b-8b9a-b8f428ee91c6",
   "metadata": {},
   "outputs": [],
   "source": [
    "three_cancer_combos"
   ]
  },
  {
   "cell_type": "code",
   "execution_count": null,
   "id": "1f493921-52ce-4135-bfc5-fd66f5c1200a",
   "metadata": {},
   "outputs": [],
   "source": [
    "len(three_cancer_combos)"
   ]
  },
  {
   "cell_type": "code",
   "execution_count": null,
   "id": "bce9f58b-a3a6-4d88-9945-ab4bd71c5dc0",
   "metadata": {},
   "outputs": [],
   "source": [
    "four_cancer_combos = list(itertools.combinations(nc5, 4))"
   ]
  },
  {
   "cell_type": "code",
   "execution_count": null,
   "id": "7d4f51d3-097a-4186-89e5-e1529fbc6645",
   "metadata": {},
   "outputs": [],
   "source": [
    "four_cancer_combos"
   ]
  },
  {
   "cell_type": "code",
   "execution_count": null,
   "id": "46e0b04a-bfd6-4460-83e9-e7d4ae6135d1",
   "metadata": {},
   "outputs": [],
   "source": [
    "len(four_cancer_combos)"
   ]
  },
  {
   "cell_type": "markdown",
   "id": "b77bb824-2774-4ea0-9a1c-468ecdcad09c",
   "metadata": {
    "jp-MarkdownHeadingCollapsed": true
   },
   "source": [
    "#### Templates"
   ]
  },
  {
   "cell_type": "code",
   "execution_count": null,
   "id": "6d9c6a28-7667-413d-b593-cb3ac2e8f22d",
   "metadata": {},
   "outputs": [],
   "source": [
    "# Read cell line and HCMI into src\n",
    "src = pd.read_csv(-----, sep=\"\\t\", index_col=0)"
   ]
  },
  {
   "cell_type": "code",
   "execution_count": null,
   "id": "ad459e9c-7fd1-4686-8e0d-c0f7f2319743",
   "metadata": {},
   "outputs": [],
   "source": [
    "# Read CPTAC into dst\n",
    "dst = pd.read_csv(args.dst, sep=\"\\t\", index_col=0)"
   ]
  }
 ],
 "metadata": {
  "kernelspec": {
   "display_name": "Python 3 (ipykernel)",
   "language": "python",
   "name": "python3"
  },
  "language_info": {
   "codemirror_mode": {
    "name": "ipython",
    "version": 3
   },
   "file_extension": ".py",
   "mimetype": "text/x-python",
   "name": "python",
   "nbconvert_exporter": "python",
   "pygments_lexer": "ipython3",
   "version": "3.10.8"
  }
 },
 "nbformat": 4,
 "nbformat_minor": 5
}
