{
 "cells": [
  {
   "cell_type": "code",
   "execution_count": null,
   "id": "c560211f-97f8-47a4-8c47-7da8aa394030",
   "metadata": {},
   "outputs": [],
   "source": [
    "# Extract drug response for cell line\n",
    "# Alt prediction target to cancer_type"
   ]
  }
 ],
 "metadata": {
  "kernelspec": {
   "display_name": "Python 3 (ipykernel)",
   "language": "python",
   "name": "python3"
  },
  "language_info": {
   "codemirror_mode": {
    "name": "ipython",
    "version": 3
   },
   "file_extension": ".py",
   "mimetype": "text/x-python",
   "name": "python",
   "nbconvert_exporter": "python",
   "pygments_lexer": "ipython3",
   "version": "3.10.8"
  }
 },
 "nbformat": 4,
 "nbformat_minor": 5
}
