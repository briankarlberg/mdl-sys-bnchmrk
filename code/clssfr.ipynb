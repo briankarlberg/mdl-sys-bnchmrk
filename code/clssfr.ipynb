{
 "cells": [
  {
   "cell_type": "code",
   "execution_count": null,
   "id": "56d09330-4bca-4f31-b2bf-749897655420",
   "metadata": {},
   "outputs": [],
   "source": [
    "# Front-end classification, bar plot, and umap\n",
    "    # Post data structure, prior to split for mbatch and vae"
   ]
  },
  {
   "cell_type": "markdown",
   "id": "3e75ccfd-a535-4c00-8b61-767c72e550bd",
   "metadata": {},
   "source": [
    "#### Imports"
   ]
  },
  {
   "cell_type": "code",
   "execution_count": 1,
   "id": "f16c29ac-18bf-437c-835a-8329b77c7d3a",
   "metadata": {},
   "outputs": [],
   "source": [
    "import pandas as pd\n",
    "import glob\n",
    "from sklearn.ensemble import RandomForestClassifier\n",
    "from sklearn.model_selection import train_test_split\n",
    "from sklearn.metrics import f1_score\n",
    "import matplotlib.pyplot as plt\n",
    "import matplotlib.pyplot as plt\n",
    "import statistics"
   ]
  },
  {
   "cell_type": "markdown",
   "id": "be88049d-aabb-48ec-8bb2-f8fcf4eab30f",
   "metadata": {},
   "source": [
    "#### Classifier"
   ]
  },
  {
   "cell_type": "code",
   "execution_count": null,
   "id": "f453bd1a-6538-4341-ae4b-ff1ee4c5f8de",
   "metadata": {},
   "outputs": [],
   "source": [
    "# glob ../output/dbl-cncr/"
   ]
  },
  {
   "cell_type": "code",
   "execution_count": 3,
   "id": "1bf14b53-259e-4707-80ed-3933aa33e33c",
   "metadata": {},
   "outputs": [],
   "source": [
    "obj_n = pd.read_csv(\n",
    "    '../output/dbl-cncr/pancreatic-adeno+lung-adeno_transcriptomics_cell-line+CPTAC.tsv',\n",
    "    sep = '\\t', index_col = 0)"
   ]
  },
  {
   "cell_type": "code",
   "execution_count": null,
   "id": "a06b0120-db4d-41cb-a44a-a212d4b60130",
   "metadata": {},
   "outputs": [],
   "source": [
    "obj_n"
   ]
  },
  {
   "cell_type": "code",
   "execution_count": 5,
   "id": "7e3015de-9082-44c0-ba20-2030bbfd03ee",
   "metadata": {},
   "outputs": [],
   "source": [
    "X = obj_n.iloc[:, 2:]\n",
    "y_sys = obj_n.System\n",
    "y_c_typ = obj_n.Cancer_type\n",
    "\n",
    "sys_scores = []\n",
    "c_typ_scores = []\n",
    "\n",
    "for i in list(range(0,9)):\n",
    "\n",
    "    # System label predictions                             y_sys:\n",
    "    X_train, X_test, y_train, y_test = train_test_split(X, y_sys)\n",
    "    clf = RandomForestClassifier(max_depth=2, random_state=0)\n",
    "    clf.fit(X_train, y_train)\n",
    "    y_pred = clf.predict(X_test)\n",
    "    score = f1_score(y_test, y_pred, average = 'weighted')\n",
    "    sys_scores.append(score)\n",
    "\n",
    "\n",
    "    # Cross val index matching           y_c_typ:\n",
    "    y_train = y_c_typ[y_c_typ.index.isin(y_train.index)]\n",
    "    y_test = y_c_typ[y_c_typ.index.isin(y_test.index)]\n",
    "\n",
    "    # Cancer label predictions\n",
    "    clf = RandomForestClassifier(max_depth=2, random_state=0)\n",
    "    clf.fit(X_train, y_train)\n",
    "    y_pred = clf.predict(X_test)\n",
    "    score = f1_score(y_test, y_pred, average = 'weighted')\n",
    "    c_typ_scores.append(score)"
   ]
  },
  {
   "cell_type": "markdown",
   "id": "85a25bc4-70cf-43bb-ba94-81a534cce136",
   "metadata": {},
   "source": [
    "#### Bar plot of classification results"
   ]
  },
  {
   "cell_type": "code",
   "execution_count": 8,
   "id": "4fb06a58-b472-4cf2-8e09-1975437ecda5",
   "metadata": {},
   "outputs": [],
   "source": [
    "file_n = 'pancreatic-adeno+lung-adeno_transcriptomics_cell-line+CPTAC'"
   ]
  },
  {
   "cell_type": "code",
   "execution_count": null,
   "id": "7a8bb68e-1b1e-42c0-9aaf-75a674680d18",
   "metadata": {},
   "outputs": [],
   "source": [
    "sys_mean = statistics.mean(sys_scores)\n",
    "c_typ_mean = statistics.mean(c_typ_scores)\n",
    "\n",
    "sys_err = statistics.stdev(sys_scores)\n",
    "c_typ_err = statistics.stdev(c_typ_scores)\n",
    "\n",
    "fig, ax = plt.subplots()\n",
    "\n",
    "# Create bars\n",
    "bar1 = ax.bar('sys', sys_mean, yerr=sys_err, capsize = 7, label='System')\n",
    "bar2 = ax.bar('c typ', c_typ_mean, yerr=c_typ_err, capsize = 7, label='Cancer type')\n",
    "\n",
    "plt.title(file_n) # automate later\n",
    "\n",
    "# Legend\n",
    "ax.legend()\n",
    "plt.savefig('../clf_plots/'+file_n+'rf.png')\n",
    "# plt.show()"
   ]
  },
  {
   "cell_type": "markdown",
   "id": "256927c8-2143-4275-ac80-8d9ee77ed7e8",
   "metadata": {},
   "source": [
    "#### UMAP"
   ]
  },
  {
   "cell_type": "code",
   "execution_count": null,
   "id": "9cc43729-06f9-42a8-bbd8-2c5388e2d7ea",
   "metadata": {},
   "outputs": [],
   "source": []
  }
 ],
 "metadata": {
  "kernelspec": {
   "display_name": "Python 3 (ipykernel)",
   "language": "python",
   "name": "python3"
  },
  "language_info": {
   "codemirror_mode": {
    "name": "ipython",
    "version": 3
   },
   "file_extension": ".py",
   "mimetype": "text/x-python",
   "name": "python",
   "nbconvert_exporter": "python",
   "pygments_lexer": "ipython3",
   "version": "3.10.8"
  }
 },
 "nbformat": 4,
 "nbformat_minor": 5
}
