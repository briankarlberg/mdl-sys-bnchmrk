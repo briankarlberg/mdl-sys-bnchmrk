{
 "cells": [
  {
   "cell_type": "code",
   "execution_count": null,
   "id": "c560211f-97f8-47a4-8c47-7da8aa394030",
   "metadata": {},
   "outputs": [],
   "source": [
    "# Extract drug response for cell line\n",
    "# Alt prediction target to cancer_type"
   ]
  },
  {
   "cell_type": "code",
   "execution_count": null,
   "id": "900955d6-0825-4679-b9ac-c073ef194f09",
   "metadata": {},
   "outputs": [],
   "source": [
    "# Gilteritinib and Decitabine"
   ]
  },
  {
   "cell_type": "code",
   "execution_count": null,
   "id": "fb0a77e8-4d0c-43b3-9970-67c5636bf0cc",
   "metadata": {},
   "outputs": [],
   "source": []
  }
 ],
 "metadata": {
  "kernelspec": {
   "display_name": "Python 3 (ipykernel)",
   "language": "python",
   "name": "python3"
  },
  "language_info": {
   "codemirror_mode": {
    "name": "ipython",
    "version": 3
   },
   "file_extension": ".py",
   "mimetype": "text/x-python",
   "name": "python",
   "nbconvert_exporter": "python",
   "pygments_lexer": "ipython3",
   "version": "3.10.8"
  }
 },
 "nbformat": 4,
 "nbformat_minor": 5
}
