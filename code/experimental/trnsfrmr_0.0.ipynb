{
 "cells": [
  {
   "cell_type": "code",
   "execution_count": null,
   "id": "d0984b85-39b0-4e07-9a8d-9ee520186321",
   "metadata": {},
   "outputs": [],
   "source": [
    "https://github.com/PNNL-CompBio/panCancerModelSystems/blob/main/CPTAC_trnsfrmr_v0.ipynb"
   ]
  },
  {
   "cell_type": "code",
   "execution_count": null,
   "id": "caf847f1-4306-4308-b132-6f0cc917c59c",
   "metadata": {},
   "outputs": [],
   "source": []
  },
  {
   "cell_type": "code",
   "execution_count": null,
   "id": "cf8a9f59-f8d5-441f-93d4-34d805cc7479",
   "metadata": {},
   "outputs": [],
   "source": []
  }
 ],
 "metadata": {
  "kernelspec": {
   "display_name": "Python 3 (ipykernel)",
   "language": "python",
   "name": "python3"
  },
  "language_info": {
   "codemirror_mode": {
    "name": "ipython",
    "version": 3
   },
   "file_extension": ".py",
   "mimetype": "text/x-python",
   "name": "python",
   "nbconvert_exporter": "python",
   "pygments_lexer": "ipython3",
   "version": "3.10.8"
  }
 },
 "nbformat": 4,
 "nbformat_minor": 5
}
