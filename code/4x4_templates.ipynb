{
 "cells": [
  {
   "cell_type": "code",
   "execution_count": null,
   "id": "d8f822a9-bf78-4f1d-9f2a-f6b4b1757cd3",
   "metadata": {},
   "outputs": [],
   "source": []
  },
  {
   "cell_type": "markdown",
   "id": "e306f87d-d4e3-463f-afc0-f5eb532a07c4",
   "metadata": {},
   "source": [
    "##### Check label capitalization on input paths"
   ]
  },
  {
   "cell_type": "code",
   "execution_count": null,
   "id": "4e957ee2-40da-4c2d-81c9-7d80aaf7c2b6",
   "metadata": {},
   "outputs": [],
   "source": [
    "for inp_pth in inp_pths:\n",
    "    df = pd.read_csv(\n",
    "        inp_pth, sep = '\\t', index_col = 0)\n",
    "    print(df.System.unique())"
   ]
  },
  {
   "cell_type": "code",
   "execution_count": null,
   "id": "0887b823-93c2-4706-b51f-f16e0d89f359",
   "metadata": {},
   "outputs": [],
   "source": [
    "mb_pths = sorted(\n",
    "    glob.glob('../results/r72/mbatch/cap_lbls_archive/*.tsv'), reverse = True)\n",
    "for mb_pth in mb_pths:\n",
    "    # print(mb_pth)\n",
    "    f_nm = mb_pth.split('/')[-1]\n",
    "    df = pd.read_csv(\n",
    "        mb_pth, sep = '\\t', index_col = 0)\n",
    "    print(df.System.unique())\n",
    "\n",
    "    df['System'] = df['System'].str.lower()\n",
    "    \n",
    "    print(df.System.unique())\n",
    "\n",
    "    df.to_csv(\n",
    "        '../results/r72/mbatch/'+f_nm,\n",
    "        sep = '\\t')\n",
    "    print(' ')\n",
    "    # break"
   ]
  },
  {
   "cell_type": "markdown",
   "id": "557041e7-cbf3-4230-8dcd-afb754535140",
   "metadata": {},
   "source": [
    "### RFE"
   ]
  },
  {
   "cell_type": "code",
   "execution_count": null,
   "id": "0c592da5-d346-4b6b-8f51-33cb33c58fe9",
   "metadata": {},
   "outputs": [],
   "source": [
    "for pth in inp:\n",
    "    df = pd.read_csv(\n",
    "        pth, sep = '\\t', index_col = 0)\n",
    "    X = df.iloc[:, 2:]\n",
    "    break"
   ]
  },
  {
   "cell_type": "code",
   "execution_count": null,
   "id": "8bcef230-feb8-407a-b375-a323e5b7bd7b",
   "metadata": {},
   "outputs": [],
   "source": [
    "df"
   ]
  },
  {
   "cell_type": "code",
   "execution_count": null,
   "id": "6941c6f2-e671-4daa-8371-2ca34628e58b",
   "metadata": {},
   "outputs": [],
   "source": [
    "estimator = SVR(kernel=\"linear\")\n",
    "rfe = RFE(estimator=estimator, n_features_to_select=10, step=0.5)\n",
    "file_n = pd.read_csv(pth, sep = '\\t', index_col = 0) # read validation split file\n",
    "X = file_n.iloc[:, 1:]\n",
    "y = file_n.iloc[:, 0]\n",
    "rfe.fit(X, y)\n",
    "mask = rfe.support_\n",
    "vs_dict[vs] = json.dumps(list(X.columns[mask]))"
   ]
  }
 ],
 "metadata": {
  "kernelspec": {
   "display_name": "Python 3 (ipykernel)",
   "language": "python",
   "name": "python3"
  },
  "language_info": {
   "codemirror_mode": {
    "name": "ipython",
    "version": 3
   },
   "file_extension": ".py",
   "mimetype": "text/x-python",
   "name": "python",
   "nbconvert_exporter": "python",
   "pygments_lexer": "ipython3",
   "version": "3.10.8"
  }
 },
 "nbformat": 4,
 "nbformat_minor": 5
}
