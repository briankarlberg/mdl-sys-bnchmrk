{
 "cells": [
  {
   "cell_type": "markdown",
   "id": "7784f7a8-0149-4f57-b3a2-81720e712be1",
   "metadata": {},
   "source": [
    "#### Set systems"
   ]
  },
  {
   "cell_type": "code",
   "execution_count": null,
   "id": "c305c6cc-8255-4d0d-bc30-e4c92117fe1c",
   "metadata": {},
   "outputs": [],
   "source": [
    "%whos"
   ]
  },
  {
   "cell_type": "code",
   "execution_count": null,
   "id": "a0b89cd0-a84c-4c71-8294-802a78b17ec1",
   "metadata": {},
   "outputs": [],
   "source": [
    "import coderdata as cd\n",
    "cell_line = cd.DatasetLoader('cell_line', data_directory = '../data/cell_line/') # a\n",
    "cptac = cd.DatasetLoader('cptac', data_directory = '../data/cptac/') # b\n",
    "beataml = cd.DatasetLoader('beataml', data_directory = '../data/beataml/') # c\n",
    "hcmi = cd.DatasetLoader('hcmi', data_directory = '../data/hcmi/') # d\n",
    "\n",
    "print('DatasetLoaders in RAM')\n",
    "systems = 'cell-line+CPTAC'"
   ]
  },
  {
   "cell_type": "code",
   "execution_count": null,
   "id": "d45549b7-8be1-4db5-b77c-98ca4e953339",
   "metadata": {},
   "outputs": [],
   "source": [
    "# target output dir: strctrd/one_cncr"
   ]
  },
  {
   "cell_type": "markdown",
   "id": "d514da42-fd19-4c9d-b6cb-2c33d295ef48",
   "metadata": {},
   "source": [
    "#### Semi-interactive devel"
   ]
  },
  {
   "cell_type": "code",
   "execution_count": null,
   "id": "e5cf931a-a468-4ee1-a859-7f8769a6580e",
   "metadata": {},
   "outputs": [],
   "source": [
    "import glob\n",
    "import pandas as pd\n",
    "import umap\n",
    "import numpy as np\n",
    "import os\n",
    "import matplotlib.pyplot as plt\n",
    "from matplotlib.lines import Line2D\n",
    "import glob"
   ]
  },
  {
   "cell_type": "markdown",
   "id": "f35e165e-2edd-4662-8963-1cf53dd46ffc",
   "metadata": {},
   "source": [
    "##### Functions"
   ]
  },
  {
   "cell_type": "code",
   "execution_count": null,
   "id": "2d0d9d22-04b3-4a02-8e49-f27a7114f444",
   "metadata": {},
   "outputs": [],
   "source": [
    "# Traspose long-form X-file into biomarkers as columns,\n",
    "def extract(df_lite):\n",
    "    import time\n",
    "    start = time.time()\n",
    "    data_type = df_lite.columns[2] # extract marker values\n",
    "\n",
    "    dot_T = df_lite.pivot_table(\n",
    "        index='improve_sample_id',\n",
    "        columns='entrez_id',\n",
    "        values=data_type,\n",
    "        aggfunc='mean'             # average duplicate values\n",
    "    )\n",
    "\n",
    "    end = time.time()\n",
    "    wall_clock = end - start\n",
    "    return str(round(wall_clock / 60, 2)) + ' minutes', dot_T"
   ]
  },
  {
   "cell_type": "code",
   "execution_count": null,
   "id": "f4d53ca1-d276-4278-bb0b-1e45b2bfe5c4",
   "metadata": {},
   "outputs": [],
   "source": [
    "# Extract ids and biomarker values\n",
    "def df_check(X_n):\n",
    "    df_lite = X_n.iloc[:, :3] # cut the last two columns, source and study\n",
    "    size = f\"{df_lite.shape[0]:,}\"\n",
    "    na_count = f\"{df_lite.isna().sum().sum():,}\"\n",
    "    inf_count = f\"{df_lite.isin([np.inf, -np.inf]).sum().sum():,}\"\n",
    "    return df_lite, size, na_count, inf_count"
   ]
  },
  {
   "cell_type": "code",
   "execution_count": null,
   "id": "016ca65e-0f63-4f0a-84ad-f6880b50bb61",
   "metadata": {},
   "outputs": [],
   "source": [
    "# dot_T = g(d_typ, dot_T.copy())\n",
    "def g(d_typ, df):\n",
    "    \"\"\"\n",
    "    Checks the data types of columns and index in a DataFrame and prints informative messages.\n",
    "\n",
    "    Args:\n",
    "        df (pandas.DataFrame): The DataFrame to check.\n",
    "\n",
    "    Returns:\n",
    "        None\n",
    "    \"\"\"\n",
    "\n",
    "    if df.columns.dtype == 'float64' and df.index.dtype == 'float64':\n",
    "        print('both float')\n",
    "        df = float_to_string(d_typ, df)\n",
    "    elif df.columns.dtype == 'float64' and df.index.dtype == 'int':\n",
    "        print('columns are float, index are int')\n",
    "        df = indx_int_colm_flt(d_typ, df)\n",
    "    elif df.columns.dtype == 'int' and df.index.dtype == 'float':\n",
    "        print('columns are int, index are float, fail, write another function')\n",
    "        # forth function\n",
    "    elif df.columns.dtype == 'int' and df.index.dtype == 'int':\n",
    "        print('columns are int, index are int')\n",
    "        df = int_to_string(d_typ, df)\n",
    "    else:\n",
    "        print('non int or float dtype detected')\n",
    "    return df"
   ]
  },
  {
   "cell_type": "code",
   "execution_count": null,
   "id": "d6738cf4-43f4-4fa1-8c36-324ce0f59232",
   "metadata": {},
   "outputs": [],
   "source": [
    "def int_to_string(d_typ, dot_T):\n",
    "    dot_T.columns = dot_T.columns.map(str)\n",
    "    dot_T.columns = ['entrz_' + d_typ + i for i in dot_T.columns] #\n",
    "    dot_T.columns.name = 'entrez_id'\n",
    "\n",
    "    dot_T.index = dot_T.index.map(str)\n",
    "    dot_T.index = ['smpl_id_' + i for i in dot_T.index]\n",
    "    dot_T.index.name = 'improve_sample_id'\n",
    "    return dot_T"
   ]
  },
  {
   "cell_type": "code",
   "execution_count": null,
   "id": "0f9c1b97-5e33-419d-baf3-bc3c8f3a137b",
   "metadata": {},
   "outputs": [],
   "source": [
    "def indx_int_colm_flt(d_typ, dot_T):\n",
    "    dot_T.columns = dot_T.columns.map(str)\n",
    "    dot_T.columns = [i.split('.')[0] for i in dot_T.columns]\n",
    "    dot_T.columns = ['entrz_' + d_typ + i for i in dot_T.columns]\n",
    "    dot_T.columns.name = 'entrez_id'\n",
    "    \n",
    "    dot_T.index = dot_T.index.map(str)\n",
    "    dot_T.index = ['smpl_id_' + i for i in dot_T.index]\n",
    "    dot_T.index.name = 'improve_sample_id'\n",
    "    return dot_T"
   ]
  },
  {
   "cell_type": "code",
   "execution_count": null,
   "id": "61e643e0-6ccf-472a-bc8b-0831eca51699",
   "metadata": {},
   "outputs": [],
   "source": [
    "def float_to_string(d_typ, dot_T):\n",
    "    dot_T.columns = dot_T.columns.map(str)\n",
    "    dot_T.columns = [i.split('.')[0] for i in dot_T.columns]\n",
    "    dot_T.columns = ['entrz_' + d_typ + i for i in dot_T.columns]\n",
    "    dot_T.columns.name = 'entrez_id'\n",
    "    \n",
    "    dot_T.index = dot_T.index.map(str)\n",
    "    dot_T.index = [i.split('.')[0] for i in dot_T.index]\n",
    "    dot_T.index = ['smpl_id_' + i for i in dot_T.index]\n",
    "    dot_T.index.name = 'improve_sample_id'\n",
    "    return dot_T"
   ]
  },
  {
   "cell_type": "markdown",
   "id": "b4f1479c-96b4-4799-9d1a-32ace78312b5",
   "metadata": {},
   "source": [
    "##### Systems toggles"
   ]
  },
  {
   "cell_type": "code",
   "execution_count": null,
   "id": "036eda46-0fd6-4bfc-b43b-9b316bb3179f",
   "metadata": {},
   "outputs": [],
   "source": [
    "systems = 'cell-line+CPTAC'"
   ]
  },
  {
   "cell_type": "code",
   "execution_count": null,
   "id": "b9bc2b73-2581-4b5b-83d0-3fbc7b3cecfa",
   "metadata": {},
   "outputs": [],
   "source": [
    "systems = 'cell-line+BeatAML'"
   ]
  },
  {
   "cell_type": "code",
   "execution_count": null,
   "id": "043a95a6-12a1-491a-bbe6-4aaae77d7fb5",
   "metadata": {},
   "outputs": [],
   "source": [
    "systems = 'cell-line+HCMI'"
   ]
  },
  {
   "cell_type": "markdown",
   "id": "b4d85dfb-be6f-4583-a4af-ba844e8eb6db",
   "metadata": {},
   "source": [
    "##### Samples, abstract systems to a and b"
   ]
  },
  {
   "cell_type": "code",
   "execution_count": null,
   "id": "eefc8d3e-d0fe-4630-9e4b-50f5919d2813",
   "metadata": {},
   "outputs": [],
   "source": [
    "# Cell line and CPTAC\n",
    "sys_a_samp = cell_line.samples\n",
    "sys_a = 'cell-line'\n",
    "sys_a_lbl = 'cell_line'\n",
    "\n",
    "sys_b_samp = cptac.samples\n",
    "sys_b = 'cptac'\n",
    "sys_b_lbl = 'CPTAC'"
   ]
  },
  {
   "cell_type": "code",
   "execution_count": null,
   "id": "0668b831-9014-4a5e-9da0-237849cfaa45",
   "metadata": {},
   "outputs": [],
   "source": [
    "# AML\n",
    "sys_a_samp = cell_line.samples\n",
    "sys_a = 'cell-line'\n",
    "sys_a_lbl = 'cell_line'\n",
    "\n",
    "sys_b_samp = beataml.samples\n",
    "sys_b = 'beataml'\n",
    "sys_b_lbl = 'BeatAML'"
   ]
  },
  {
   "cell_type": "markdown",
   "id": "f1c63ed2-e57d-4fb8-83e9-b48cc8de416d",
   "metadata": {},
   "source": [
    "##### Cancer_type view"
   ]
  },
  {
   "cell_type": "code",
   "execution_count": null,
   "id": "d0e2e586-b3e3-4f1f-9f2f-d5dea155b029",
   "metadata": {
    "scrolled": true
   },
   "outputs": [],
   "source": [
    "print(sys_a, 'is system a')\n",
    "sys_a_samp.cancer_type.value_counts()[:60]"
   ]
  },
  {
   "cell_type": "code",
   "execution_count": null,
   "id": "9181d248-dd89-4348-8326-c35e2748a93c",
   "metadata": {},
   "outputs": [],
   "source": [
    "print(sys_b, 'is system b')\n",
    "sys_b_samp.cancer_type.value_counts()[:50]"
   ]
  },
  {
   "cell_type": "code",
   "execution_count": null,
   "id": "59302023-3c01-42ca-b0b2-4b8904258e03",
   "metadata": {},
   "outputs": [],
   "source": [
    "print(sys_c, 'is system c')\n",
    "sys_c_samp.cancer_type.value_counts()[:2] # expect one cancer type for beataml"
   ]
  },
  {
   "cell_type": "markdown",
   "id": "bb08b0e5-7289-4483-a377-07d99ceb7185",
   "metadata": {},
   "source": [
    "#### Cancer_type toggles, cell line as a, CPTAC as b"
   ]
  },
  {
   "cell_type": "code",
   "execution_count": null,
   "id": "c0dbbcf9-0176-46ca-8ddd-9a6b9b63eb60",
   "metadata": {},
   "outputs": [],
   "source": [
    "##### single cancers to /strctrd/one_cncr"
   ]
  },
  {
   "cell_type": "code",
   "execution_count": null,
   "id": "abe93387-f5a5-455e-b7ca-4befab21e5b2",
   "metadata": {},
   "outputs": [],
   "source": [
    "out_one, cncr, modality, systems"
   ]
  },
  {
   "cell_type": "code",
   "execution_count": null,
   "id": "7ef67593-60d9-421a-a9e2-5085d5f231bc",
   "metadata": {},
   "outputs": [],
   "source": [
    "ls ../strctrd/one_cncr/"
   ]
  },
  {
   "cell_type": "code",
   "execution_count": null,
   "id": "d3490360-049e-4691-8ff9-28a9c6617b43",
   "metadata": {},
   "outputs": [],
   "source": [
    "for file in glob.glob('../strctrd/one_cncr/*'):\n",
    "    one_chk = pd.read_csv(file,\n",
    "                    sep = '\\t', index_col = 0)\n",
    "\n",
    "    break"
   ]
  },
  {
   "cell_type": "code",
   "execution_count": null,
   "id": "2e4f7164-9566-4a7f-8580-2e9fee801b66",
   "metadata": {},
   "outputs": [],
   "source": [
    "one_chk"
   ]
  },
  {
   "cell_type": "code",
   "execution_count": null,
   "id": "ac236dc9-2166-4d53-a934-b72f2748d798",
   "metadata": {},
   "outputs": [],
   "source": [
    "# Lung adeno\n",
    "cncr = 'lung-adeno'\n",
    "cncr_lbl = 'lung_adeno'\n",
    "sys_a_samp_canc_n = sys_a_samp[sys_a_samp.cancer_type == 'Lung Adenocarcinoma'] # cl\n",
    "sys_b_samp_canc_n = sys_b_samp[sys_b_samp.cancer_type == 'Lung adenocarcinoma'] # cp"
   ]
  },
  {
   "cell_type": "code",
   "execution_count": null,
   "id": "40d3b3d6-e83c-46d9-b3e5-f75745f27dff",
   "metadata": {},
   "outputs": [],
   "source": [
    "# Pancreatic adeno\n",
    "cncr = 'pancreatic-adeno'\n",
    "cncr_lbl = 'pancreatic_adeno'\n",
    "sys_a_samp_canc_n = sys_a_samp[sys_a_samp.cancer_type == 'Pancreatic Adenocarcinoma'] # cl\n",
    "sys_b_samp_canc_n = sys_b_samp[sys_b_samp.cancer_type == 'Pancreatic ductal adenocarcinoma'] # cp"
   ]
  },
  {
   "cell_type": "code",
   "execution_count": null,
   "id": "d1eecdcb-05be-4bb8-8990-933a1a2f57e2",
   "metadata": {},
   "outputs": [],
   "source": [
    "# Head and neck\n",
    "cncr = 'head-neck'\n",
    "cncr_lbl = 'head_neck'\n",
    "sys_a_samp_canc_n = sys_a_samp[sys_a_samp.cancer_type == 'Head and Neck Squamous Cell Carcinoma'] # cl\n",
    "sys_b_samp_canc_n = sys_b_samp[sys_b_samp.cancer_type == 'Head and Neck squamous cell carcinoma'] # cp"
   ]
  },
  {
   "cell_type": "code",
   "execution_count": null,
   "id": "57949166-6af9-4c89-85cd-3edc369e3a3c",
   "metadata": {},
   "outputs": [],
   "source": [
    "# build non-brca cell line to cptac for production run\n",
    "names = ['lung-adeno', 'pancreatic-adeno', 'head-neck', 'colon-adeno', 'glioblastoma', 'renal-clear-cell']\n",
    "labels = ['lung_adeno', 'pancreatic_adeno', 'head_neck', 'colon_adeno', 'glioblastoma', 'renal-clear_cell']\n",
    "a_list = ['Lung Adenocarcinoma',\n",
    "          'Pancreatic Adenocarcinoma',\n",
    "          'Head and Neck Squamous Cell Carcinoma',\n",
    "          'Colon Adenocarcinoma',\n",
    "          'Glioblastoma',\n",
    "          'Renal Clear Cell Carcinoma']\n",
    "b_list = ['Lung adenocarcinoma',\n",
    "          'Pancreatic ductal adenocarcinoma',\n",
    "          'Head and Neck squamous cell carcinoma',\n",
    "          'Colon adenocarcinoma',\n",
    "          'Glioblastoma multiforme',\n",
    "          'Clear cell renal cell carcinoma']"
   ]
  },
  {
   "cell_type": "code",
   "execution_count": null,
   "id": "9a2f3256-9ade-4435-a0c2-455c7197f00c",
   "metadata": {},
   "outputs": [],
   "source": [
    "# Colon adeno\n",
    "cncr = 'colon-adeno'\n",
    "cncr_lbl = 'colon_adeno'\n",
    "sys_a_samp_canc_n = sys_a_samp[sys_a_samp.cancer_type == 'Colon Adenocarcinoma'] # cl\n",
    "sys_b_samp_canc_n = sys_b_samp[sys_b_samp.cancer_type == 'Colon adenocarcinoma'] # cp"
   ]
  },
  {
   "cell_type": "code",
   "execution_count": null,
   "id": "317090c0-6abb-4305-afb2-b1eba503088c",
   "metadata": {},
   "outputs": [],
   "source": [
    "# Glioblastoma\n",
    "cncr = 'glioblastoma'\n",
    "cncr_lbl = 'glioblastoma'\n",
    "sys_a_samp_canc_n = sys_a_samp[sys_a_samp.cancer_type == 'Glioblastoma']\n",
    "sys_b_samp_canc_n = sys_b_samp[sys_b_samp.cancer_type == 'Glioblastoma multiforme'] # cp"
   ]
  },
  {
   "cell_type": "code",
   "execution_count": null,
   "id": "997809b3-303d-49d7-b6f3-430fb3e97778",
   "metadata": {},
   "outputs": [],
   "source": [
    "# Renal clear cell\n",
    "cncr = 'renal-clear-cell'\n",
    "cncr_lbl = 'renal_clear_cell'\n",
    "sys_a_samp_canc_n = sys_a_samp[sys_a_samp.cancer_type == 'Renal Clear Cell Carcinoma']\n",
    "sys_b_samp_canc_n = sys_b_samp[sys_b_samp.cancer_type == 'Clear cell renal cell carcinoma'] # cp"
   ]
  },
  {
   "cell_type": "markdown",
   "id": "02e7888e-2e49-4b2c-8688-47cd1c4bb194",
   "metadata": {},
   "source": [
    "#### BRCA"
   ]
  },
  {
   "cell_type": "code",
   "execution_count": null,
   "id": "2bbb32d9-252f-4eba-b6d2-3eeb1c3cdfc0",
   "metadata": {},
   "outputs": [],
   "source": [
    "# Breast Ductal\n",
    "cncr = 'breast-ductal'\n",
    "cncr_lbl = 'breast_ductal'\n",
    "sys_a_samp_canc_n = sys_a_samp[sys_a_samp.cancer_type == 'Breast Invasive Ductal Carcinoma'] # cl\n",
    "sys_b_samp_canc_n = sys_b_samp[sys_b_samp.cancer_type == 'Breast carcinoma']"
   ]
  },
  {
   "cell_type": "code",
   "execution_count": null,
   "id": "69b114ce-9eef-4441-a1db-b6b25620f9b1",
   "metadata": {},
   "outputs": [],
   "source": [
    "# Breast Lobular\n",
    "cncr = 'breast-lobular'\n",
    "cncr_lbl = 'breast_lobular'\n",
    "sys_a_samp_canc_n = sys_a_samp[sys_a_samp.cancer_type == 'Breast Invasive Lobular Carcinoma'] # cl\n",
    "sys_b_samp_canc_n = sys_b_samp[sys_b_samp.cancer_type == 'Breast carcinoma']"
   ]
  },
  {
   "cell_type": "code",
   "execution_count": null,
   "id": "0d08d7cc-577b-48f3-b6aa-3ed6a9650ec2",
   "metadata": {},
   "outputs": [],
   "source": [
    "# Breast NOS\n",
    "cncr = 'breast-nos'\n",
    "cncr_lbl = 'breast_nos'\n",
    "sys_a_samp_canc_n = sys_a_samp[sys_a_samp.cancer_type == 'Breast Invasive Carcinoma, NOS'] # cl\n",
    "sys_b_samp_canc_n = sys_b_samp[sys_b_samp.cancer_type == 'Breast carcinoma']"
   ]
  },
  {
   "cell_type": "markdown",
   "id": "5b2b5b81-95fc-4efc-8899-a332d39e1ff8",
   "metadata": {},
   "source": [
    "##### brca single cancers to /strctrd/one_cncr"
   ]
  },
  {
   "cell_type": "code",
   "execution_count": null,
   "id": "d4a7c30a-69f2-4df9-b72b-f27f16a0502d",
   "metadata": {},
   "outputs": [],
   "source": [
    "pwd"
   ]
  },
  {
   "cell_type": "code",
   "execution_count": null,
   "id": "0260d2c0-674d-479a-a8f0-68b7f1f87475",
   "metadata": {},
   "outputs": [],
   "source": [
    "ls"
   ]
  },
  {
   "cell_type": "code",
   "execution_count": null,
   "id": "603dee6c-0fbe-4c06-8310-6edfc535e72b",
   "metadata": {},
   "outputs": [],
   "source": [
    "# strctr_one.py\n",
    "# Script to build one_cncr files\n",
    "    # Sript for building strctrd/two_cncr files\n",
    "    # will read from strctrd/one_cncr files\n",
    "# pwd: /mdl-sys-bnchmrk/code\n",
    "\n",
    "# Imports <-------------------------------- Devel toggle\n",
    "# import coderdata as cd\n",
    "# import glob\n",
    "# import pandas as pd\n",
    "# import umap\n",
    "# import numpy as np\n",
    "# import os\n",
    "# import matplotlib.pyplot as plt\n",
    "# from matplotlib.lines import Line2D\n",
    "\n",
    "# pwd\n",
    "# mdl-sys-bnchmrk/code\n",
    "\n",
    "# ls\n",
    "# strctr.py\n",
    "\n",
    "# Import functions\n",
    "import strctr\n",
    "\n",
    "systems = 'cell-line+CPTAC'\n",
    "\n",
    "# Read data (construct loader objects) <--- Devel toggle\n",
    "# cell_line = cd.DatasetLoader(\n",
    "#   'cell_line', data_directory = '../data/cell_line/') # a \n",
    "# cptac = cd.DatasetLoader(\n",
    "#   'cptac', data_directory = '../data/cptac/') # b\n",
    "print('Data loader modules built')\n",
    "\n",
    "# Cell lines are system A\n",
    "sys_a_samp = cell_line.samples\n",
    "sys_a = 'cell-line'\n",
    "sys_a_lbl = 'cell_line'\n",
    "\n",
    "# CPTAC is system B\n",
    "sys_b_samp = cptac.samples\n",
    "sys_b = 'cptac'\n",
    "sys_b_lbl = 'CPTAC'\n",
    "\n",
    "# BeatAML is system B\n",
    "# sys_b_samp = beataml.samples\n",
    "# sys_b = 'beat-aml'\n",
    "# sys_b_lbl = 'BeatAML'\n",
    "\n",
    "# Transcriptomics data modality extraction\n",
    "modality = 'transcriptomics' # to file name\n",
    "moda = 'tran_' # to columns and index\n",
    "\n",
    "# Proteomics data modality extraction\n",
    "# modality = 'proteomics' # to file name\n",
    "# moda = 'prot_' # to columns and index\n",
    "\n",
    "# Copy number and Mutations\n",
    "# Data modality extractions insertion point\n",
    "\n",
    "# BRCA discrete labels <---------------------------\n",
    "# names = ['breast-ductal', 'breast-lobular', 'breast-nos']\n",
    "# labels = ['breast_ductal', 'breast_lobular', 'breast_nos']\n",
    "# a_list = ['Breast Invasive Ductal Carcinoma',\n",
    "#           'Breast Invasive Lobular Carcinoma',\n",
    "#           'Breast Invasive Carcinoma, NOS']\n",
    "# b_list = ['Breast carcinoma',\n",
    "#           'Breast carcinoma',\n",
    "#           'Breast carcinoma']\n",
    "\n",
    "# BRCA cell line unified labels <------------------\n",
    "# names = ['breast-ductal', 'breast-lobular', 'breast-nos']\n",
    "# labels = ['breast_ductal', 'breast_lobular', 'breast_nos']\n",
    "# a_list = ['Breast Invasive Ductal Carcinoma']\n",
    "# b_list = ['Breast carcinoma']\n",
    "\n",
    "# BeatAML direct mapping to cell line <------------\n",
    "# names = ['']\n",
    "# labels = ['']\n",
    "# a_list = ['']\n",
    "# b_list = ['']\n",
    "\n",
    "# Cell line and CPTAC production run <------------\n",
    "names = ['lung-adeno',\n",
    "         'pancreatic-adeno',\n",
    "         'head-neck',\n",
    "         'colon-adeno',\n",
    "         'glioblastoma',\n",
    "         'renal-clear-cell']\n",
    "labels = ['lung_adeno',\n",
    "          'pancreatic_adeno',\n",
    "          'head_neck',\n",
    "          'colon_adeno',\n",
    "          'glioblastoma',\n",
    "          'renal-clear_cell']\n",
    "a_list = ['Lung Adenocarcinoma',\n",
    "          'Pancreatic Adenocarcinoma',\n",
    "          'Head and Neck Squamous Cell Carcinoma',\n",
    "          'Colon Adenocarcinoma',\n",
    "          'Glioblastoma',\n",
    "          'Renal Clear Cell Carcinoma']\n",
    "b_list = ['Lung adenocarcinoma',\n",
    "          'Pancreatic ductal adenocarcinoma',\n",
    "          'Head and Neck squamous cell carcinoma',\n",
    "          'Colon adenocarcinoma',\n",
    "          'Glioblastoma multiforme',\n",
    "          'Clear cell renal cell carcinoma']\n",
    "\n",
    "for i, cncr in enumerate(names):\n",
    "    # cncr = a_list[i]\n",
    "    cncr_lbl = labels[i]\n",
    "    \n",
    "    sys_a_samp_canc_n = sys_a_samp[sys_a_samp.cancer_type == a_list[i]]\n",
    "    sys_b_samp_canc_n = sys_b_samp[sys_b_samp.cancer_type == b_list[i]]\n",
    "\n",
    "    ids_sys_a = sys_a_samp_canc_n.improve_sample_id # cl\n",
    "    ids_sys_b = sys_b_samp_canc_n.improve_sample_id # cp\n",
    "\n",
    "    mda_n_sys_a = cell_line.transcriptomics[cell_line.transcriptomics.improve_sample_id.isin(ids_sys_a)] # cl\n",
    "    mda_n_sys_b = cptac.transcriptomics[cptac.transcriptomics.improve_sample_id.isin(ids_sys_b)]\n",
    "    # break\n",
    "    df_lite, size, na_count, inf_count = df_check(mda_n_sys_a)\n",
    "    # df_lite, size, na_count, inf_count = strctr.df_check(mda_n_sys_a)\n",
    "    print(sys_a, '| sys a')\n",
    "    print(cncr, modality)\n",
    "    print('len: ', size)\n",
    "    print('NaNs: ', na_count)\n",
    "    print('Infs: ', inf_count)\n",
    "\n",
    "    wall_clock, dot_T = extract(df_lite)\n",
    "    dot_T = g(moda, dot_T.copy())\n",
    "    dot_T.dropna(axis = 1, inplace = True)\n",
    "    a = dot_T # cell line\n",
    "\n",
    "    df_lite, size, na_count, inf_count = df_check(mda_n_sys_b)\n",
    "    # df_lite, size, na_count, inf_count = strctr.df_check(mda_n_sys_a)\n",
    "    print(sys_b, '| sys b')\n",
    "    print(cncr, modality)\n",
    "    print('len: ', size)\n",
    "    print('NaNs: ', na_count)\n",
    "    print('Infs: ', inf_count)\n",
    "    \n",
    "    wall_clock, dot_T = extract(df_lite)\n",
    "    dot_T = g(moda, dot_T.copy())\n",
    "    dot_T.dropna(axis = 1, inplace = True)\n",
    "    b = dot_T # cptac\n",
    "    \n",
    "    a.insert(0, 'Cancer_type', cncr_lbl)\n",
    "    b.insert(0, 'Cancer_type', cncr_lbl)\n",
    "    a.insert(0, 'System', sys_a_lbl)\n",
    "    b.insert(0, 'System', sys_b_lbl)\n",
    "\n",
    "    ab = pd.concat([a, b], axis=0, join='inner')\n",
    "    print(ab.System.value_counts())\n",
    "    print(ab.Cancer_type.value_counts())\n",
    "\n",
    "    out_one = '../strctrd/one_cncr/'\n",
    "    print('disk break')\n",
    "    # break\n",
    "    # Write two-system, single cancer type to disk <--- Devel toggle \n",
    "    ab.to_csv(\n",
    "        '../strctrd/'+out_one+'/'+cncr+'_'+modality+'_'+systems+'.tsv',\n",
    "        sep = '\\t')\n",
    "    # break\n",
    "print('One-cancer production run complete')"
   ]
  },
  {
   "cell_type": "code",
   "execution_count": null,
   "id": "96c7fe97-ec92-42a2-8f80-baa57c3e92f5",
   "metadata": {},
   "outputs": [],
   "source": [
    "# disk write check"
   ]
  },
  {
   "cell_type": "code",
   "execution_count": null,
   "id": "f63a51b4-1e9e-4530-9cfc-5d8d94e527df",
   "metadata": {},
   "outputs": [],
   "source": [
    "ls ../strctrd/one_cncr/"
   ]
  },
  {
   "cell_type": "code",
   "execution_count": null,
   "id": "65e1a9de-1f2a-478f-b907-fbb5a16d2c5c",
   "metadata": {},
   "outputs": [],
   "source": [
    "for file in glob.glob('../strctrd/one_cncr/*'):\n",
    "    one_chk = pd.read_csv(file,\n",
    "                    sep = '\\t', index_col = 0)\n",
    "\n",
    "    break"
   ]
  },
  {
   "cell_type": "code",
   "execution_count": null,
   "id": "94505348-43ca-406f-9646-1be0666300a8",
   "metadata": {},
   "outputs": [],
   "source": [
    "one_chk"
   ]
  },
  {
   "cell_type": "markdown",
   "id": "4128135d-c21a-4766-8db4-930964160d16",
   "metadata": {},
   "source": [
    "##### Merged BRCA as single cancer"
   ]
  },
  {
   "cell_type": "code",
   "execution_count": null,
   "id": "0f7d7547-1006-49cc-9735-7ac35f86c296",
   "metadata": {},
   "outputs": [],
   "source": []
  },
  {
   "cell_type": "markdown",
   "id": "ac780dde-dc09-4684-a1eb-3fbb0e8b475f",
   "metadata": {},
   "source": [
    "##### intertools, brca, two cancer"
   ]
  },
  {
   "cell_type": "code",
   "execution_count": null,
   "id": "c277495c-3c13-4aed-b9c1-d1d9a9fb7e8d",
   "metadata": {},
   "outputs": [],
   "source": [
    "from itertools import combinations"
   ]
  },
  {
   "cell_type": "code",
   "execution_count": null,
   "id": "26c01b4b-96f7-465b-ada0-bbf1c3eb2a7d",
   "metadata": {},
   "outputs": [],
   "source": []
  },
  {
   "cell_type": "markdown",
   "id": "912b6e61-4188-46aa-a87a-4056a5c25f9c",
   "metadata": {},
   "source": [
    "#### Cancer_type toggles, cell line as a, BeatAML as c"
   ]
  },
  {
   "cell_type": "code",
   "execution_count": null,
   "id": "9f893b01-04f9-4673-bb91-5f0418627561",
   "metadata": {},
   "outputs": [],
   "source": [
    "# devel, c = b\n",
    "cncr = 'beat-aml'\n",
    "cncr_lbl = 'beat_aml'\n",
    "sys_a_samp_canc_n = sys_a_samp[sys_a_samp.cancer_type == 'Renal Clear Cell Carcinoma']\n",
    "sys_c_samp_canc_n = sys_c_samp[sys_c_samp.cancer_type == 'Clear cell renal cell carcinoma']"
   ]
  },
  {
   "cell_type": "code",
   "execution_count": null,
   "id": "a765c58d-6d2c-4057-bd0c-5659438a8c71",
   "metadata": {},
   "outputs": [],
   "source": [
    "# beat aml as single cancer\n"
   ]
  },
  {
   "cell_type": "markdown",
   "id": "322415bf-f4ef-474a-8d2e-cd6303dfaf3a",
   "metadata": {},
   "source": [
    "#### Extract sample ids"
   ]
  },
  {
   "cell_type": "code",
   "execution_count": null,
   "id": "b36cfb5e-fe78-4f6f-9fc3-074f5d0ed987",
   "metadata": {},
   "outputs": [],
   "source": [
    "print(cncr)\n",
    "ids_sys_a = sys_a_samp_canc_n.improve_sample_id # cl\n",
    "ids_sys_b = sys_b_samp_canc_n.improve_sample_id # cp"
   ]
  },
  {
   "cell_type": "code",
   "execution_count": null,
   "id": "91c77f16-1c0d-47b1-88dd-268e1e3961d6",
   "metadata": {},
   "outputs": [],
   "source": [
    "print(cncr)\n",
    "ids_sys_a = sys_a_samp_canc_n.improve_sample_id # cl\n",
    "ids_sys_b = sys_b_samp_canc_n.improve_sample_id # beataml"
   ]
  },
  {
   "cell_type": "markdown",
   "id": "a5642ecc-e1c2-4619-96a3-589c5610a259",
   "metadata": {
    "jp-MarkdownHeadingCollapsed": true
   },
   "source": [
    "#### Data extraction"
   ]
  },
  {
   "cell_type": "code",
   "execution_count": null,
   "id": "e42b0fee-72d6-4510-8c89-998d36a05fb3",
   "metadata": {},
   "outputs": [],
   "source": [
    "modality = 'transcriptomics' # to file name\n",
    "moda = 'tran_' # to columns and index\n",
    "mda_n_sys_a = cell_line.transcriptomics[cell_line.transcriptomics.improve_sample_id.isin(ids_sys_a)] # cl\n",
    "mda_n_sys_b = cptac.transcriptomics[cptac.transcriptomics.improve_sample_id.isin(ids_sys_b)]"
   ]
  },
  {
   "cell_type": "code",
   "execution_count": null,
   "id": "6bffe055-8869-420d-9381-a964e9d90ffb",
   "metadata": {},
   "outputs": [],
   "source": [
    "modality = 'proteomics' # to file name\n",
    "moda = 'prot_' # to columns and index\n",
    "mda_n_sys_a = cell_line.proteomics[cell_line.proteomics.improve_sample_id.isin(ids_proj_a)] # cl\n",
    "mda_n_sys_b = cptac.proteomics[cptac.proteomics.improve_sample_id.isin(ids_proj_b)]"
   ]
  },
  {
   "cell_type": "code",
   "execution_count": null,
   "id": "6a8f3257-a589-4bb0-9d19-728464a2013f",
   "metadata": {},
   "outputs": [],
   "source": [
    "modality = 'copy-number' # to file name\n",
    "moda = 'cpnm_' # to columns and index\n",
    "mda_n_sys_a= cell_line.copy_number[cell_line.copy_number.improve_sample_id.isin(ids_proj_a)]\n",
    "mda_n_sys_b= cell_line.copy_number[cell_line.copy_number.improve_sample_id.isin(ids_proj_b)]"
   ]
  },
  {
   "cell_type": "code",
   "execution_count": null,
   "id": "04b1ee9a-7947-4e65-9a51-8a25622c6f13",
   "metadata": {},
   "outputs": [],
   "source": [
    "modality = 'mutations' # to file name\n",
    "moda = 'muta_' # to columns and index\n",
    "mda_n_sys_a = cptac.mutations[cptac.mutations.improve_sample_id.isin(ids_proj_a)]\n",
    "mda_n_sys_b = cell_line.mutations[cell_line.mutations.improve_sample_id.isin(ids_proj_b)]"
   ]
  },
  {
   "cell_type": "markdown",
   "id": "3bb77775-0e92-4d57-8a83-3e3e1fc46f43",
   "metadata": {
    "jp-MarkdownHeadingCollapsed": true
   },
   "source": [
    "#### Project A, cell line"
   ]
  },
  {
   "cell_type": "code",
   "execution_count": null,
   "id": "e3ff696f-67e0-44ea-b350-7ed4f9b88c2f",
   "metadata": {},
   "outputs": [],
   "source": [
    "df_lite, size, na_count, inf_count = df_check(mda_n_sys_a)\n",
    "print(sys_a, '| sys a')\n",
    "print(cncr, modality)\n",
    "print(size)\n",
    "print(na_count)\n",
    "print(inf_count)\n",
    "\n",
    "wall_clock, dot_T = extract(df_lite)\n",
    "dot_T = g(moda, dot_T.copy())\n",
    "dot_T.dropna(axis = 1, inplace = True)\n",
    "a = dot_T # cell line"
   ]
  },
  {
   "cell_type": "markdown",
   "id": "c9120d16-5cfc-4c84-a7d8-756fa5e71e58",
   "metadata": {
    "jp-MarkdownHeadingCollapsed": true
   },
   "source": [
    "##### a devel"
   ]
  },
  {
   "cell_type": "code",
   "execution_count": null,
   "id": "fbd9f80b-dbce-4661-a7cb-3dc81dde61c7",
   "metadata": {},
   "outputs": [],
   "source": [
    "wall_clock, dot_T = extract(df_lite)\n",
    "print(wall_clock)\n",
    "dot_T.iloc[:3, :3]"
   ]
  },
  {
   "cell_type": "code",
   "execution_count": null,
   "id": "b5624e92-f650-4715-be28-ac51e51796c2",
   "metadata": {},
   "outputs": [],
   "source": [
    "cncr"
   ]
  },
  {
   "cell_type": "code",
   "execution_count": null,
   "id": "53dcbd40-a96f-4a68-a354-d6604413e6f8",
   "metadata": {},
   "outputs": [],
   "source": [
    "moda"
   ]
  },
  {
   "cell_type": "code",
   "execution_count": null,
   "id": "83fb9bd2-74c2-4632-a40c-ed97ede76049",
   "metadata": {},
   "outputs": [],
   "source": [
    "# dot_T = g(d_typ, dot_T.copy())\n",
    "dot_T = g(moda, dot_T.copy())\n",
    "dot_T.iloc[:3, :3]"
   ]
  },
  {
   "cell_type": "code",
   "execution_count": null,
   "id": "639dcc50-3044-47f6-ac9a-d5107c44e788",
   "metadata": {},
   "outputs": [],
   "source": [
    "dot_T.shape"
   ]
  },
  {
   "cell_type": "code",
   "execution_count": null,
   "id": "36f01554-9cc3-4e0c-b720-98a17c8cbab3",
   "metadata": {},
   "outputs": [],
   "source": [
    "dot_T.dropna(axis = 1, inplace = True)"
   ]
  },
  {
   "cell_type": "code",
   "execution_count": null,
   "id": "6a1949c0-ec2f-4549-abda-f17e6bad8370",
   "metadata": {},
   "outputs": [],
   "source": [
    "dot_T.shape"
   ]
  },
  {
   "cell_type": "code",
   "execution_count": null,
   "id": "56013e2a-73c9-47cd-be94-ea4457f4a8dd",
   "metadata": {},
   "outputs": [],
   "source": [
    "a = dot_T # cell line"
   ]
  },
  {
   "cell_type": "markdown",
   "id": "6f06adb1-be6a-4c43-921f-540195b3a5a7",
   "metadata": {
    "jp-MarkdownHeadingCollapsed": true
   },
   "source": [
    "#### Project B, CPTAC"
   ]
  },
  {
   "cell_type": "code",
   "execution_count": null,
   "id": "df58287c-bcfc-4bf3-970e-10db36a792a3",
   "metadata": {},
   "outputs": [],
   "source": [
    "df_lite, size, na_count, inf_count = df_check(mda_n_sys_b)\n",
    "print(sys_b, '| sys b')\n",
    "print(cncr, modality)\n",
    "print('len: ', size)\n",
    "print('NaNs: ', na_count)\n",
    "print('Infs: ', inf_count)\n",
    "\n",
    "wall_clock, dot_T = extract(df_lite)\n",
    "dot_T = g(moda, dot_T.copy())\n",
    "dot_T.dropna(axis = 1, inplace = True)\n",
    "b = dot_T # cptac"
   ]
  },
  {
   "cell_type": "markdown",
   "id": "3648b980-be1d-4dcc-ad39-dac0711a2094",
   "metadata": {
    "jp-MarkdownHeadingCollapsed": true
   },
   "source": [
    "##### b devel"
   ]
  },
  {
   "cell_type": "code",
   "execution_count": null,
   "id": "427da638-10dc-41a5-b6d6-966dc9c70a18",
   "metadata": {},
   "outputs": [],
   "source": [
    "wall_clock, dot_T = extract(df_lite)\n",
    "print(wall_clock)\n",
    "dot_T.iloc[:3, :3]"
   ]
  },
  {
   "cell_type": "code",
   "execution_count": null,
   "id": "a73c5802-f594-4763-81fd-9a47c58a50f7",
   "metadata": {},
   "outputs": [],
   "source": [
    "dot_T = g(moda, dot_T.copy())"
   ]
  },
  {
   "cell_type": "code",
   "execution_count": null,
   "id": "e046266b-9994-47a2-ab28-77043335ecbf",
   "metadata": {
    "scrolled": true
   },
   "outputs": [],
   "source": [
    "dot_T.iloc[:3, :3]"
   ]
  },
  {
   "cell_type": "code",
   "execution_count": null,
   "id": "4de0d000-c8b0-4828-b72f-4b05ef293527",
   "metadata": {},
   "outputs": [],
   "source": [
    "dot_T.shape"
   ]
  },
  {
   "cell_type": "code",
   "execution_count": null,
   "id": "474654af-15cf-414c-af15-e42e4022cf55",
   "metadata": {},
   "outputs": [],
   "source": [
    "dot_T.dropna(axis = 1, inplace = True)"
   ]
  },
  {
   "cell_type": "code",
   "execution_count": null,
   "id": "bda16ef5-e887-482d-9e7a-fcbd56e4a39f",
   "metadata": {},
   "outputs": [],
   "source": [
    "dot_T.shape"
   ]
  },
  {
   "cell_type": "code",
   "execution_count": null,
   "id": "8382255f-6512-4467-96a9-07b8b5cf9d74",
   "metadata": {},
   "outputs": [],
   "source": [
    "b = dot_T # cptac"
   ]
  },
  {
   "cell_type": "markdown",
   "id": "e955d242-9b01-42fa-8ed3-9b8312a5eb7f",
   "metadata": {},
   "source": [
    "#### Labels"
   ]
  },
  {
   "cell_type": "markdown",
   "id": "bf4d8697-1aa8-48ef-8738-ec131e258c35",
   "metadata": {
    "jp-MarkdownHeadingCollapsed": true
   },
   "source": [
    "##### Check a and b are different"
   ]
  },
  {
   "cell_type": "code",
   "execution_count": null,
   "id": "bce05ecb-fbc9-440f-b30c-35fd3cf336de",
   "metadata": {},
   "outputs": [],
   "source": [
    "a.iloc[:3, :3]"
   ]
  },
  {
   "cell_type": "code",
   "execution_count": null,
   "id": "b9910252-619f-41e8-94f9-e7487d5851af",
   "metadata": {},
   "outputs": [],
   "source": [
    "b.iloc[:3, :3]"
   ]
  },
  {
   "cell_type": "markdown",
   "id": "7ec93f50-dd8a-411f-9f2b-1cb534b792e5",
   "metadata": {
    "jp-MarkdownHeadingCollapsed": true
   },
   "source": [
    "##### Continue"
   ]
  },
  {
   "cell_type": "code",
   "execution_count": null,
   "id": "e3a7e455-0b15-4e70-b7c6-46ab14183f31",
   "metadata": {},
   "outputs": [],
   "source": [
    "a.insert(0, 'Cancer_type', cncr_lbl)\n",
    "b.insert(0, 'Cancer_type', cncr_lbl)\n",
    "a.insert(0, 'System', sys_a_lbl)\n",
    "b.insert(0, 'System', sys_b_lbl)"
   ]
  },
  {
   "cell_type": "code",
   "execution_count": null,
   "id": "45c947e4-e9aa-47bd-b553-6deb3953af22",
   "metadata": {},
   "outputs": [],
   "source": [
    "ab = pd.concat([a, b], axis=0, join='inner')"
   ]
  },
  {
   "cell_type": "code",
   "execution_count": null,
   "id": "c7eae046-d161-4f43-af48-b67840e60ebb",
   "metadata": {},
   "outputs": [],
   "source": [
    "ab"
   ]
  },
  {
   "cell_type": "code",
   "execution_count": null,
   "id": "f3cea2a8-7e70-4d3e-827a-cf3bd86291e3",
   "metadata": {},
   "outputs": [],
   "source": [
    "ab.System.value_counts()"
   ]
  },
  {
   "cell_type": "code",
   "execution_count": null,
   "id": "e1eb0778-ed5c-4d1f-91fb-eee5f19ade90",
   "metadata": {},
   "outputs": [],
   "source": [
    "ab.Cancer_type.value_counts()"
   ]
  },
  {
   "cell_type": "code",
   "execution_count": null,
   "id": "6fb2cf1a-b2ca-4adb-a18a-be7d05144be7",
   "metadata": {},
   "outputs": [],
   "source": [
    "# Set target output dirs\n",
    "out_dbl = '../output/dbl-cncr/'\n",
    "out_sng = '../output/sng-cncr'\n",
    "ump_out = '../output/umap/'"
   ]
  },
  {
   "cell_type": "code",
   "execution_count": null,
   "id": "562194d5-86fd-48db-9cfa-5f8525881938",
   "metadata": {},
   "outputs": [],
   "source": [
    "# out, u_o, cancer, data_type\n",
    "out_dbl, out_sng, cncr, modality, ump_out"
   ]
  },
  {
   "cell_type": "code",
   "execution_count": null,
   "id": "485ad603-9178-4f6a-9422-0a86a31dc8a3",
   "metadata": {},
   "outputs": [],
   "source": [
    "# Write two-system, single cancer type to disk\n",
    "ab.to_csv(\n",
    "    '../output/'+out_sng+'/'+cncr+'_'+modality+'_'+systems+'.tsv',\n",
    "    sep = '\\t')"
   ]
  },
  {
   "cell_type": "code",
   "execution_count": null,
   "id": "9d7be6ae-d14d-4857-9b5d-c0f04f83568a",
   "metadata": {},
   "outputs": [],
   "source": [
    "sng_chk = pd.read_csv('../output/'+out_sng+'/'+cncr+'_'+modality+'_'+systems+'.tsv',\n",
    "                    sep = '\\t', index_col = 0)"
   ]
  },
  {
   "cell_type": "code",
   "execution_count": null,
   "id": "9b80fc41-b534-44a6-b2c9-46644b305acb",
   "metadata": {},
   "outputs": [],
   "source": [
    "print(cncr)\n",
    "sng_chk"
   ]
  },
  {
   "cell_type": "markdown",
   "id": "5dd397b5-e1b4-4486-8275-e3c27e67ac94",
   "metadata": {
    "jp-MarkdownHeadingCollapsed": true
   },
   "source": [
    "#### Dbl Cncr"
   ]
  },
  {
   "cell_type": "code",
   "execution_count": null,
   "id": "85353ce4-db3c-4cfb-9c1d-7c776bc08303",
   "metadata": {},
   "outputs": [],
   "source": [
    "print(cncr)\n",
    "ab.iloc[:3, :3]"
   ]
  },
  {
   "cell_type": "code",
   "execution_count": null,
   "id": "cc5ae405-ba59-4006-b596-f1e77065399f",
   "metadata": {},
   "outputs": [],
   "source": [
    "ab.shape"
   ]
  },
  {
   "cell_type": "markdown",
   "id": "70052b71-6471-4ca1-8d2f-23ad742de22e",
   "metadata": {
    "jp-MarkdownHeadingCollapsed": true
   },
   "source": [
    "#### Disk read Cancer_n"
   ]
  },
  {
   "cell_type": "code",
   "execution_count": null,
   "id": "502d0fc3-9b93-4d70-934f-ff84f10a570a",
   "metadata": {},
   "outputs": [],
   "source": [
    "# Interactive zone for batch correction experiments"
   ]
  },
  {
   "cell_type": "code",
   "execution_count": null,
   "id": "92a01a3e-3f12-429d-8ac6-ecc600947be3",
   "metadata": {},
   "outputs": [],
   "source": [
    "# Template read-in path\n",
    "output/sng_cncr/lung_adeno_transcriptomics_cell_line_CPTAC.tsv"
   ]
  },
  {
   "cell_type": "raw",
   "id": "1d588c50-5978-4602-80d8-ddd261c45432",
   "metadata": {},
   "source": [
    "lung-adeno\n",
    "pancreatic-adeno\n",
    "renal-clear-cell\n",
    "colon-adeno\n",
    "glioblastoma"
   ]
  },
  {
   "cell_type": "markdown",
   "id": "79585785-aa2b-4c65-b092-81f4ce1cbae8",
   "metadata": {
    "jp-MarkdownHeadingCollapsed": true
   },
   "source": [
    "#### Experimental record"
   ]
  },
  {
   "cell_type": "code",
   "execution_count": null,
   "id": "a61880d4-106f-44d6-bd74-6b6ba960214a",
   "metadata": {},
   "outputs": [],
   "source": [
    "# toggle zone 1"
   ]
  },
  {
   "cell_type": "code",
   "execution_count": null,
   "id": "81a09cfc-57b7-43ed-ba19-d2547b2367e4",
   "metadata": {},
   "outputs": [],
   "source": [
    "systems = 'cell-line+CPTAC'"
   ]
  },
  {
   "cell_type": "code",
   "execution_count": null,
   "id": "216b769d-c5f0-4b7a-94f9-7a2268dc68a4",
   "metadata": {},
   "outputs": [],
   "source": [
    "cncr_n = 'renal-clear-cell'\n",
    "moda_n = 'transcriptomics'\n",
    "sys_n = 'cell-line+CPTAC'"
   ]
  },
  {
   "cell_type": "code",
   "execution_count": null,
   "id": "411e08a6-330a-4faf-a04c-9b94020e2c6e",
   "metadata": {},
   "outputs": [],
   "source": [
    "cncr_n = 'pancreatic-adeno'\n",
    "moda_n = 'transcriptomics'\n",
    "sys_n = 'cell-line+CPTAC'"
   ]
  },
  {
   "cell_type": "code",
   "execution_count": null,
   "id": "4b35807c-acf4-4444-baac-a3cae3debe98",
   "metadata": {},
   "outputs": [],
   "source": [
    "cncr_n = 'lung-adeno'\n",
    "moda_n = 'transcriptomics'\n",
    "sys_n = 'cell-line+CPTAC'"
   ]
  },
  {
   "cell_type": "code",
   "execution_count": null,
   "id": "7221d4c4-37ab-4196-b42d-4e5d40612d9d",
   "metadata": {},
   "outputs": [],
   "source": [
    "cncr_n = 'glioblastoma'\n",
    "moda_n = 'transcriptomics'\n",
    "sys_n = 'cell-line+CPTAC'"
   ]
  },
  {
   "cell_type": "code",
   "execution_count": null,
   "id": "83a0f697-c7f4-4d03-8eab-70963bbcf552",
   "metadata": {},
   "outputs": [],
   "source": [
    "cncr_n = 'colon-adeno'\n",
    "moda_n = 'transcriptomics'\n",
    "sys_n = 'cell-line+CPTAC'"
   ]
  },
  {
   "cell_type": "code",
   "execution_count": null,
   "id": "d3b0fdac-34d2-479d-bbf3-b5b28dc173cd",
   "metadata": {},
   "outputs": [],
   "source": [
    "# toggle zone 2"
   ]
  },
  {
   "cell_type": "code",
   "execution_count": null,
   "id": "e71a2cf3-031d-49c2-9fda-a343994a6016",
   "metadata": {},
   "outputs": [],
   "source": [
    "c1 = pd.read_csv( # single cancer 1\n",
    "    '../output/sng-cncr/'+cncr_n+'_'+moda_n+'_'+sys_n+'.tsv',\n",
    "    sep = '\\t', index_col = 0)"
   ]
  },
  {
   "cell_type": "code",
   "execution_count": null,
   "id": "eb531f8a-ba09-4abf-aab1-70c56d6a13ff",
   "metadata": {},
   "outputs": [],
   "source": [
    "c1.iloc[:3, :3]"
   ]
  },
  {
   "cell_type": "code",
   "execution_count": null,
   "id": "b4e61ea7-dfae-4109-94ec-8429bfb2cb92",
   "metadata": {},
   "outputs": [],
   "source": [
    "c2 = pd.read_csv( # single cancer 1\n",
    "    '../output/sng-cncr/'+cncr_n+'_'+moda_n+'_'+sys_n+'.tsv',\n",
    "    sep = '\\t', index_col = 0)"
   ]
  },
  {
   "cell_type": "code",
   "execution_count": null,
   "id": "9a508d92-ea26-41dd-8d7b-056bf6767639",
   "metadata": {},
   "outputs": [],
   "source": [
    "c2.iloc[:3, :3]"
   ]
  },
  {
   "cell_type": "code",
   "execution_count": null,
   "id": "ae19fb17-85f4-41a2-93be-2d57e632aaca",
   "metadata": {},
   "outputs": [],
   "source": [
    "print(moda_n)\n",
    "dbl_cncr = pd.concat([c1, c2], axis = 0, join = 'inner')\n",
    "dbl_cncr.shape"
   ]
  },
  {
   "cell_type": "code",
   "execution_count": null,
   "id": "7213e6a9-51a7-401d-ac06-b6a4496257fe",
   "metadata": {},
   "outputs": [],
   "source": [
    "dbl_cncr.iloc[:3, :3]"
   ]
  },
  {
   "cell_type": "code",
   "execution_count": null,
   "id": "f65bb71a-2c42-4092-89df-d487769ab6c9",
   "metadata": {},
   "outputs": [],
   "source": [
    "dbl_cncr.iloc[-3:, :3]"
   ]
  },
  {
   "cell_type": "code",
   "execution_count": null,
   "id": "b7f52e66-e086-4de3-8c5e-5c1fae2587b4",
   "metadata": {},
   "outputs": [],
   "source": [
    "# two sets of number for each label type"
   ]
  },
  {
   "cell_type": "code",
   "execution_count": null,
   "id": "77bc4f93-26a6-44e2-9991-73a697f6c71d",
   "metadata": {},
   "outputs": [],
   "source": [
    "dbl_cncr.System.value_counts()"
   ]
  },
  {
   "cell_type": "code",
   "execution_count": null,
   "id": "21839af4-9590-42b8-a11d-248e0ec7b100",
   "metadata": {},
   "outputs": [],
   "source": [
    "dbl_cncr.Cancer_type.value_counts()"
   ]
  },
  {
   "cell_type": "code",
   "execution_count": null,
   "id": "a893efbc-f138-45b7-8b61-6f1302a619d7",
   "metadata": {},
   "outputs": [],
   "source": [
    "out_dbl, cncr, cncr_n, moda_n, systems"
   ]
  },
  {
   "cell_type": "code",
   "execution_count": null,
   "id": "6ed2dec7-1303-4ab6-b3f9-fe883e57826d",
   "metadata": {},
   "outputs": [],
   "source": [
    "ls ../output/dbl-cncr/"
   ]
  },
  {
   "cell_type": "code",
   "execution_count": null,
   "id": "905a04fb-d540-4303-b493-1ff4a6ed7423",
   "metadata": {},
   "outputs": [],
   "source": [
    "dbl_cncr.to_csv('../output/'+out_dbl+'/'+cncr+'+'+cncr_n+'_'+moda_n+'_'+systems+'.tsv',\n",
    "                    sep = '\\t')"
   ]
  },
  {
   "cell_type": "code",
   "execution_count": null,
   "id": "74b0974d-1dda-448a-b094-07163dad5b7b",
   "metadata": {},
   "outputs": [],
   "source": [
    "dbl_chk = pd.read_csv('../output/'+out_dbl+'/'+cncr+'+'+cncr_n+'_'+moda_n+'_'+systems+'.tsv',\n",
    "                    sep = '\\t', index_col = 0)"
   ]
  },
  {
   "cell_type": "code",
   "execution_count": null,
   "id": "56a76c03-a02b-4bdf-8db7-5cbab8eb7667",
   "metadata": {},
   "outputs": [],
   "source": [
    "dbl_chk"
   ]
  }
 ],
 "metadata": {
  "kernelspec": {
   "display_name": "Python 3 (ipykernel)",
   "language": "python",
   "name": "python3"
  },
  "language_info": {
   "codemirror_mode": {
    "name": "ipython",
    "version": 3
   },
   "file_extension": ".py",
   "mimetype": "text/x-python",
   "name": "python",
   "nbconvert_exporter": "python",
   "pygments_lexer": "ipython3",
   "version": "3.10.8"
  }
 },
 "nbformat": 4,
 "nbformat_minor": 5
}
