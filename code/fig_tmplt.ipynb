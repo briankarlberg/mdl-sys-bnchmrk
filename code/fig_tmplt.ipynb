{
 "cells": [
  {
   "cell_type": "markdown",
   "id": "bb3c352a-6ada-49c3-8a76-10773f8f4fec",
   "metadata": {},
   "source": [
    "#### Setup"
   ]
  },
  {
   "cell_type": "code",
   "execution_count": null,
   "id": "f6bfc5b4-7d3b-4392-8139-06fa13671ce4",
   "metadata": {},
   "outputs": [],
   "source": [
    "# Run UMAPs, classifiers, and distance metrics\n",
    "    # input-data/\n",
    "    # mbatch-out/\n",
    "    # vae-out/\n",
    "\n",
    "    # target outdir: ..results/<bnchmrk-phs>/r5/r5-fgs/\n"
   ]
  },
  {
   "cell_type": "raw",
   "id": "096653e7-3c6c-4745-a872-aba42308c27d",
   "metadata": {},
   "source": [
    "pwd\n",
    "mdl-sys-bnchmrk/code"
   ]
  },
  {
   "cell_type": "code",
   "execution_count": null,
   "id": "8668c06b-fe4a-4945-9c21-a5012a75935f",
   "metadata": {},
   "outputs": [],
   "source": [
    "%whos"
   ]
  },
  {
   "cell_type": "markdown",
   "id": "4dab19ff-ee98-4b21-b011-fc19b7b4aed4",
   "metadata": {},
   "source": [
    "##### dt and logreg devel"
   ]
  },
  {
   "cell_type": "code",
   "execution_count": null,
   "id": "bcee3135-3c6c-4cdd-b3ee-016fba316327",
   "metadata": {},
   "outputs": [],
   "source": [
    "from sklearn import tree\n",
    "# clf = tree.DecisionTreeClassifier()"
   ]
  },
  {
   "cell_type": "code",
   "execution_count": null,
   "id": "9eccb7cc-4a94-478c-b5de-918af4f634c5",
   "metadata": {},
   "outputs": [],
   "source": [
    "from sklearn.linear_model import LogisticRegression\n",
    "# clf = LogisticRegression(random_state=0).fit(X, y)"
   ]
  },
  {
   "cell_type": "markdown",
   "id": "1cd69bc9-a934-47f8-80bd-845fc1ce7683",
   "metadata": {},
   "source": [
    "#### Imports"
   ]
  },
  {
   "cell_type": "code",
   "execution_count": null,
   "id": "ac229b62-1309-47b0-b1a4-2aab78657e35",
   "metadata": {},
   "outputs": [],
   "source": [
    "# Data handling\n",
    "import pandas as pd\n",
    "import glob as glob\n",
    "import itertools\n",
    "import time"
   ]
  },
  {
   "cell_type": "code",
   "execution_count": null,
   "id": "3a62acec-82eb-403f-a4af-9ceeffb9b303",
   "metadata": {},
   "outputs": [],
   "source": [
    "# RFE\n",
    "from sklearn.feature_selection import RFE\n",
    "from sklearn.svm import SVR"
   ]
  },
  {
   "cell_type": "code",
   "execution_count": null,
   "id": "8f8fdfe6-56b7-4780-b721-580ac8c755d8",
   "metadata": {},
   "outputs": [],
   "source": [
    "# RF\n",
    "from sklearn.ensemble import RandomForestClassifier\n",
    "from sklearn.model_selection import train_test_split\n",
    "from sklearn.metrics import f1_score\n",
    "import statistics\n",
    "import matplotlib.pyplot as plt\n",
    "\n",
    "# MMD\n",
    "import numpy as np\n",
    "from sklearn.metrics.pairwise import rbf_kernel\n",
    "\n",
    "# Dstnc, othr\n",
    "import tensorflow as tf\n",
    "from scipy.spatial.distance import euclidean\n",
    "from scipy.spatial.distance import cdist\n",
    "\n",
    "# UMAP\n",
    "import umap\n",
    "import os\n",
    "from matplotlib.lines import Line2D"
   ]
  },
  {
   "cell_type": "code",
   "execution_count": null,
   "id": "a0fcb8d5-9878-4d1a-98ba-6a10d653d0c2",
   "metadata": {},
   "outputs": [],
   "source": [
    "%whos"
   ]
  },
  {
   "cell_type": "markdown",
   "id": "c3f65222-43b9-4f82-ad75-5325a575b436",
   "metadata": {},
   "source": [
    "#### Start"
   ]
  },
  {
   "cell_type": "code",
   "execution_count": null,
   "id": "302b4558-fc6e-41fa-a703-925b5ce7d4cc",
   "metadata": {},
   "outputs": [],
   "source": [
    "systems = 'cell-line+CPTAC' # add beat aml, cptac\n",
    "modality = 'transcriptomics'"
   ]
  },
  {
   "cell_type": "markdown",
   "id": "9b9efc59-b734-4579-93d9-fccfdc12c8f2",
   "metadata": {},
   "source": [
    "#### Input, mbatch, vae file reads"
   ]
  },
  {
   "cell_type": "markdown",
   "id": "723e17e7-4b22-41ba-a77b-58f3cc25929f",
   "metadata": {},
   "source": [
    "##### cancers list template"
   ]
  },
  {
   "cell_type": "code",
   "execution_count": null,
   "id": "074861c1-e562-4149-8546-f1c7b51cdda1",
   "metadata": {},
   "outputs": [],
   "source": [
    "cancer_types = ['breast-ductal',\n",
    "    'breast-lobular',\n",
    "    'breast-nos',\n",
    "    'colon-adeno',\n",
    "    'glioblastoma',\n",
    "    'head-neck',\n",
    "    'lung-adeno',\n",
    "    'pancreatic-adeno',\n",
    "    'renal-clear-cell']"
   ]
  },
  {
   "cell_type": "markdown",
   "id": "c0926ea5-d6e1-4967-a07b-976e8f7fbcd2",
   "metadata": {},
   "source": [
    "##### r_n"
   ]
  },
  {
   "cell_type": "code",
   "execution_count": null,
   "id": "07b2aabc-7d92-4b8e-becf-38240e030998",
   "metadata": {},
   "outputs": [],
   "source": [
    "r = 'r5'"
   ]
  },
  {
   "cell_type": "markdown",
   "id": "0fda4216-4fe9-4029-ad11-613b03a85a20",
   "metadata": {},
   "source": [
    "##### One cancer file sets"
   ]
  },
  {
   "cell_type": "code",
   "execution_count": null,
   "id": "8313dea0-cbec-4d38-a734-2be3bc64e6fd",
   "metadata": {},
   "outputs": [],
   "source": [
    "# Set input (raw data) to file set n\n",
    "phase = 'input-data'\n",
    "phase_name = 'Input data'\n",
    "pths_n = sorted(glob.glob('../results/input-data/'+r+'/'+r+'-fls/*'))\n",
    "print('File count: ', len(pths_n))"
   ]
  },
  {
   "cell_type": "markdown",
   "id": "4223cbb4-00bf-4035-acfb-0b96cbbdd291",
   "metadata": {},
   "source": [
    "###### Mbatch"
   ]
  },
  {
   "cell_type": "code",
   "execution_count": null,
   "id": "8c890797-38cf-4b36-b442-64256b4406d3",
   "metadata": {},
   "outputs": [],
   "source": [
    "# Set mbatch to file set n\n",
    "phase = 'mbatch-out'\n",
    "phase_name = 'Mbatch corrected'\n",
    "pths_n = sorted(glob.glob('../results/mbatch-out/'+r+'/'+r+'-fls/*'))\n",
    "print('File count: ', len(pths_n))"
   ]
  },
  {
   "cell_type": "code",
   "execution_count": null,
   "id": "00d3d2cb-5ce3-428b-9a60-565c14bf595e",
   "metadata": {},
   "outputs": [],
   "source": [
    "pths_n[0]"
   ]
  },
  {
   "cell_type": "markdown",
   "id": "22b62c21-29f0-4d17-a7db-e0ec3104ea79",
   "metadata": {},
   "source": [
    "###### VAE"
   ]
  },
  {
   "cell_type": "code",
   "execution_count": null,
   "id": "ebacd5d7-d443-49d3-bead-988f8c63edce",
   "metadata": {},
   "outputs": [],
   "source": [
    "# Set vae to file set n\n",
    "phase = 'vae-out'\n",
    "phase_name = 'VAE corrected'\n",
    "pths_n = sorted(glob.glob('../results/vae-out/'+r+'/'+r+'-fls/*.tsv'))\n",
    "print('File count: ', len(pths_n))"
   ]
  },
  {
   "cell_type": "code",
   "execution_count": null,
   "id": "336cb464-a517-4822-9bd6-b6bfde4001d4",
   "metadata": {},
   "outputs": [],
   "source": [
    "pths_n[0]"
   ]
  },
  {
   "cell_type": "code",
   "execution_count": null,
   "id": "ba8746c8-e2ca-49d6-8de8-65b1a6bc75e9",
   "metadata": {},
   "outputs": [],
   "source": [
    "# Base the string splits off of the last slash, next put ..tAML_25.. to tAML.25"
   ]
  },
  {
   "cell_type": "markdown",
   "id": "8867cff9-b28d-427d-8a45-c23ffc32dbf6",
   "metadata": {},
   "source": [
    "###### Check"
   ]
  },
  {
   "cell_type": "code",
   "execution_count": null,
   "id": "8bb1a606-a210-45c3-aca1-cf57968d6b9c",
   "metadata": {},
   "outputs": [],
   "source": [
    "pths_n"
   ]
  },
  {
   "cell_type": "markdown",
   "id": "2db92c6f-66d7-4d1f-bc87-a26a96ce52da",
   "metadata": {},
   "source": [
    "##### One cancer MMD"
   ]
  },
  {
   "cell_type": "markdown",
   "id": "7127786d-2fb3-4073-b030-70f1c6e4d6c2",
   "metadata": {
    "jp-MarkdownHeadingCollapsed": true
   },
   "source": [
    "###### mmd func"
   ]
  },
  {
   "cell_type": "code",
   "execution_count": null,
   "id": "aa3bf56f-932c-4414-85e2-6c77eb78fa19",
   "metadata": {},
   "outputs": [],
   "source": [
    "def compute_mmd(bio_mrk_1, bio_mrk_2, gamma=.0001):\n",
    "    K_XX = rbf_kernel(bio_mrk_1, bio_mrk_1, gamma=gamma)\n",
    "    K_XY = rbf_kernel(bio_mrk_1, bio_mrk_2, gamma=gamma)\n",
    "    K_YY = rbf_kernel(bio_mrk_2, bio_mrk_2, gamma=gamma)\n",
    "\n",
    "    m = bio_mrk_1.shape[0]\n",
    "    n = bio_mrk_2.shape[0]\n",
    "\n",
    "    mmd = (np.sum(K_XX) - np.trace(K_XX)) / (m * (m - 1))\n",
    "    mmd += (np.sum(K_YY) - np.trace(K_YY)) / (n * (n - 1))\n",
    "    mmd -= 2 * np.sum(K_XY) / (m * n)\n",
    "\n",
    "    # Ensure the MMD value is non-negative\n",
    "    mmd = np.maximum(mmd, 0)\n",
    "\n",
    "    return np.sqrt(mmd)"
   ]
  },
  {
   "cell_type": "markdown",
   "id": "54bf5b8d-8b59-4070-8671-ddf59f86fde4",
   "metadata": {},
   "source": [
    "###### MMD main "
   ]
  },
  {
   "cell_type": "code",
   "execution_count": null,
   "id": "34c44716-84f6-4777-bff3-8be2ac7388b1",
   "metadata": {},
   "outputs": [],
   "source": [
    "pwd"
   ]
  },
  {
   "cell_type": "code",
   "execution_count": null,
   "id": "de87d329-2ec2-4262-88f9-1798a78fa31b",
   "metadata": {},
   "outputs": [],
   "source": [
    "ls ../results/devel/"
   ]
  },
  {
   "cell_type": "code",
   "execution_count": null,
   "id": "21f41d6e-12af-4b78-b6d4-63c7bdb17821",
   "metadata": {},
   "outputs": [],
   "source": [
    "pths_n = [\n",
    "    #'mdl-sys-bnchmrk/results/devel/colon-adeno_transcriptomics_cell-line+CPTAC_history.tsv',\n",
    "'../results/devel/colon-adeno_transcriptomics_cell-line+CPTAC.latent_space.tsv']"
   ]
  },
  {
   "cell_type": "code",
   "execution_count": null,
   "id": "7751b505-e35b-48f2-8ecd-0a1b316c226c",
   "metadata": {},
   "outputs": [],
   "source": [
    "pth_n"
   ]
  },
  {
   "cell_type": "code",
   "execution_count": null,
   "id": "17b23b98-d621-416b-a23e-fe00db97c60c",
   "metadata": {
    "scrolled": true
   },
   "outputs": [],
   "source": [
    "print(phase)\n",
    "\n",
    "# Get distances \n",
    "mmd = []\n",
    "# cos_sim = []\n",
    "axs_lst = [] # axes means of scipy cdist\n",
    "c_lst = []\n",
    "m_lst = []\n",
    "s_lst = []\n",
    "for pi, pth_n in enumerate(pths_n):\n",
    "    print(pi)\n",
    "    cancer = pth_n.split('/')[-1].split('_')[0]\n",
    "    modality = pth_n.split('/')[-1].split('_')[1]\n",
    "    systems = pth_n.split('/')[-1].split('_')[2].split('.')[0]\n",
    "\n",
    "    c_lst.append(cancer)\n",
    "    m_lst.append(modality)\n",
    "    s_lst.append(systems)\n",
    "    \n",
    "    df_n = pd.read_csv(\n",
    "        pth_n, sep = '\\t', index_col = 0)\n",
    "    ab = df_n.System.unique()\n",
    "    a = df_n[df_n.System == ab[0]]\n",
    "    b = df_n[df_n.System == ab[1]]\n",
    "    mmd.append(compute_mmd(a.iloc[:, 2:], b.iloc[:, 2:]))\n",
    "    axs_lst.append(\n",
    "        (np.mean(cdist(a.iloc[:, 2:], b.iloc[:, 2:],\n",
    "                       metric='euclidean'), axis=1).mean(),\n",
    "         np.mean(cdist(a.iloc[:, 2:], b.iloc[:, 2:],\n",
    "                       metric='euclidean'), axis=0).mean()))\n",
    "    # break\n",
    "dstncs = pd.DataFrame({'mmd': mmd,\n",
    "                             'cancer': c_lst,\n",
    "                             'modality': m_lst,\n",
    "                             'systems': s_lst,\n",
    "                             'axs_mns': axs_lst})\n",
    "# df_n"
   ]
  },
  {
   "cell_type": "code",
   "execution_count": null,
   "id": "e8a09a04-2009-4949-b1f7-b471e3756159",
   "metadata": {},
   "outputs": [],
   "source": [
    "dstncs"
   ]
  },
  {
   "cell_type": "code",
   "execution_count": null,
   "id": "7c123d6d-b4f2-405a-b964-b57414b923fd",
   "metadata": {},
   "outputs": [],
   "source": [
    "# ^ DANN"
   ]
  },
  {
   "cell_type": "code",
   "execution_count": null,
   "id": "d65f72fb-500f-46ed-a1de-e7ebbb9f4599",
   "metadata": {},
   "outputs": [],
   "source": [
    "vae_dstncs = dstncs"
   ]
  },
  {
   "cell_type": "code",
   "execution_count": null,
   "id": "eddf59d8-b4c5-4c97-b1fe-69509eb31620",
   "metadata": {},
   "outputs": [],
   "source": [
    "vae_dstncs.to_csv(\n",
    "    '../results/stats-out/vae_dstncs_r5.tsv', sep = '\\t')"
   ]
  },
  {
   "cell_type": "code",
   "execution_count": null,
   "id": "2812c30a-bf22-4722-b55c-0380b5d7247a",
   "metadata": {},
   "outputs": [],
   "source": [
    "mbatch_dstncs"
   ]
  },
  {
   "cell_type": "markdown",
   "id": "3cf194b7-d861-4bb9-b741-b27fed382a9e",
   "metadata": {},
   "source": [
    "##### mbatch"
   ]
  },
  {
   "cell_type": "code",
   "execution_count": null,
   "id": "225f4cbb-e73c-4eea-8a9a-1e885d9c9638",
   "metadata": {},
   "outputs": [],
   "source": [
    "mbatch_dstncs = dstncs"
   ]
  },
  {
   "cell_type": "code",
   "execution_count": null,
   "id": "a0e62ce0-611a-4724-a22e-4f3d35862ea5",
   "metadata": {},
   "outputs": [],
   "source": [
    "mbatch_dstncs.to_csv(\n",
    "    '../results/stats-out/mbatch_dstncs_r5.tsv', sep = '\\t')"
   ]
  },
  {
   "cell_type": "code",
   "execution_count": null,
   "id": "3e8d0baa-ad4c-4040-8bb2-49577e2cff0c",
   "metadata": {},
   "outputs": [],
   "source": [
    "mmd # mbatch, align with cancer type / modality coverage"
   ]
  },
  {
   "cell_type": "code",
   "execution_count": null,
   "id": "4f417709-c940-4815-be8a-7c1ce99820f4",
   "metadata": {},
   "outputs": [],
   "source": [
    "mbatch_mmd_0001 = mmd"
   ]
  },
  {
   "cell_type": "markdown",
   "id": "460b1459-4331-44ff-a6cf-36e88557f069",
   "metadata": {},
   "source": [
    "##### Input dstncs"
   ]
  },
  {
   "cell_type": "code",
   "execution_count": null,
   "id": "c3c6c53f-de20-4f62-86b1-782af0c8bc79",
   "metadata": {},
   "outputs": [],
   "source": [
    "input-data"
   ]
  },
  {
   "cell_type": "code",
   "execution_count": null,
   "id": "f554f49b-02b6-48c4-b79f-b5da3d46a561",
   "metadata": {},
   "outputs": [],
   "source": [
    "inpt_axs_lst"
   ]
  },
  {
   "cell_type": "code",
   "execution_count": null,
   "id": "2f6e0e77-b5eb-47f8-8b14-5288f2d7b3d9",
   "metadata": {},
   "outputs": [],
   "source": [
    "inpt_axs_lst = axs_lst"
   ]
  },
  {
   "cell_type": "code",
   "execution_count": null,
   "id": "ae016ed1-d1ce-4405-8f8b-1ad0569a5699",
   "metadata": {},
   "outputs": [],
   "source": [
    "input_mmd_0001 = mmd_0001"
   ]
  },
  {
   "cell_type": "code",
   "execution_count": null,
   "id": "c7a3dff6-a92a-4b0d-bcea-41ed78844a7e",
   "metadata": {},
   "outputs": [],
   "source": [
    "mmd_0001 = mmd"
   ]
  },
  {
   "cell_type": "code",
   "execution_count": null,
   "id": "958c69eb-3a9f-4f15-84d2-52c2fb2af35c",
   "metadata": {},
   "outputs": [],
   "source": [
    "mmd_001 = mmd"
   ]
  },
  {
   "cell_type": "code",
   "execution_count": null,
   "id": "367bdd18-03b1-46fe-96ea-f057ff3bb2ee",
   "metadata": {},
   "outputs": [],
   "source": [
    "mmd_01 = mmd"
   ]
  },
  {
   "cell_type": "code",
   "execution_count": null,
   "id": "16a3ff70-7e81-47e8-ac8d-353b48bfafea",
   "metadata": {},
   "outputs": [],
   "source": [
    "input_dstncs = pd.DataFrame({'mmd': mmd, # gamma = 1\n",
    "                             'cancer': c_lst,\n",
    "                             'modality': m_lst,\n",
    "                             'systems': s_lst})"
   ]
  },
  {
   "cell_type": "code",
   "execution_count": null,
   "id": "60622237-b30f-4715-b6a8-ace3c7ab5564",
   "metadata": {},
   "outputs": [],
   "source": [
    "input_dstncs['mmd'] = input_mmd_0001"
   ]
  },
  {
   "cell_type": "code",
   "execution_count": null,
   "id": "7e06b978-d279-4844-b0c2-b079efa0502a",
   "metadata": {},
   "outputs": [],
   "source": [
    "input_dstncs.to_csv(\n",
    "    '../results/stats-out/input_dstncs_r5.tsv', sep = '\\t')"
   ]
  },
  {
   "cell_type": "code",
   "execution_count": null,
   "id": "c3659b17-8674-4fbc-9918-7db16d91c936",
   "metadata": {},
   "outputs": [],
   "source": [
    "input_dstncs.head(1)"
   ]
  },
  {
   "cell_type": "code",
   "execution_count": null,
   "id": "52f09157-53f1-4881-8d0e-e4787ee7de0d",
   "metadata": {},
   "outputs": [],
   "source": [
    "input_dstncs['axs_mns'] = inpt_axs_lst"
   ]
  },
  {
   "cell_type": "markdown",
   "id": "2c40a864-2811-4dbf-abfc-b8044393a42b",
   "metadata": {},
   "source": [
    "#### Read stats-out"
   ]
  },
  {
   "cell_type": "code",
   "execution_count": null,
   "id": "e6d800ad-f8b9-4705-bdf2-220edaf3c3d0",
   "metadata": {},
   "outputs": [],
   "source": [
    "ls ../results/stats-out/"
   ]
  },
  {
   "cell_type": "code",
   "execution_count": null,
   "id": "0fbde35b-d7fd-420e-be46-42476338dd77",
   "metadata": {},
   "outputs": [],
   "source": [
    "so_pths = glob.glob('../results/stats-out/*')"
   ]
  },
  {
   "cell_type": "code",
   "execution_count": null,
   "id": "53a3a3e1-81f9-49ae-bdc7-1b72b60f2ba5",
   "metadata": {},
   "outputs": [],
   "source": [
    "so_pths"
   ]
  },
  {
   "cell_type": "code",
   "execution_count": null,
   "id": "7fccb58d-45da-4bbf-a842-1c4eff5648af",
   "metadata": {},
   "outputs": [],
   "source": [
    "df_stck = pd.DataFrame()\n",
    "for pth_n in so_pths:\n",
    "    print(pth_n)\n",
    "    phase = pth_n.split('/')[-1].split('_')[0]\n",
    "    df_n = pd.read_csv(\n",
    "        pth_n, sep = '\\t', index_col = 0)\n",
    "    df_n.insert(0, 'phase', phase)\n",
    "    df_stck = pd.concat([df_stck, df_n], axis = 0)\n",
    "    # break"
   ]
  },
  {
   "cell_type": "code",
   "execution_count": null,
   "id": "a9860f9e-f5da-477f-80f5-4fae6cd9407d",
   "metadata": {},
   "outputs": [],
   "source": [
    "df_stck.iloc[:, :5].to_csv(\n",
    "    '../results/stats-out/mmd_stack_r5.tsv', sep = '\\t')"
   ]
  },
  {
   "cell_type": "code",
   "execution_count": null,
   "id": "dd17d61e-8427-409f-9b35-bbee720a96a8",
   "metadata": {},
   "outputs": [],
   "source": [
    "pth_n = '../results/stats-out/mmd_stack_r5.tsv'\n",
    "df_stack = pd.read_csv(\n",
    "        pth_n, sep = '\\t', index_col = 0)"
   ]
  },
  {
   "cell_type": "code",
   "execution_count": null,
   "id": "fe61cd4d-bad4-499c-8e82-74e67ed9464b",
   "metadata": {},
   "outputs": [],
   "source": [
    "df_stack.phase.value_counts()"
   ]
  },
  {
   "cell_type": "markdown",
   "id": "30ef3454-9281-4e15-a997-83aa64d9301b",
   "metadata": {},
   "source": [
    "##### mbatch"
   ]
  },
  {
   "cell_type": "code",
   "execution_count": null,
   "id": "6833195a-a6c6-4a80-b532-45d33a9473df",
   "metadata": {},
   "outputs": [],
   "source": [
    "m_stack = df_stack[df_stack.phase == 'mbatch'].copy()"
   ]
  },
  {
   "cell_type": "code",
   "execution_count": null,
   "id": "06723044-4396-4dfa-8ffb-909c9c8e6857",
   "metadata": {},
   "outputs": [],
   "source": [
    "m_stack['Benchmark'] = m_stack.cancer + '_' + m_stack.modality + '_' + m_stack.systems"
   ]
  },
  {
   "cell_type": "code",
   "execution_count": null,
   "id": "cf625800-a6a6-4475-9b6c-d8199877641c",
   "metadata": {},
   "outputs": [],
   "source": [
    "m_stack"
   ]
  },
  {
   "cell_type": "code",
   "execution_count": null,
   "id": "9a7fad4a-2f37-40ae-b74c-7b7b931779fb",
   "metadata": {},
   "outputs": [],
   "source": [
    "input_stack = i_stck"
   ]
  },
  {
   "cell_type": "code",
   "execution_count": null,
   "id": "aae80649-049f-4f11-b60f-22f2bca71877",
   "metadata": {},
   "outputs": [],
   "source": [
    "input_stack.head(3)"
   ]
  },
  {
   "cell_type": "code",
   "execution_count": null,
   "id": "5b04c512-d54c-43d9-9197-74848363cbf4",
   "metadata": {},
   "outputs": [],
   "source": [
    "subset_input_stack = input_stack[\n",
    "    (input_stack['modality'] == 'transcriptomics') & input_stack['cancer'].isin(m_stack['cancer'])\n",
    "].copy()"
   ]
  },
  {
   "cell_type": "code",
   "execution_count": null,
   "id": "2a96e232-7296-4ac0-a142-b20c0c76fc11",
   "metadata": {},
   "outputs": [],
   "source": [
    "len(subset_input_stack)"
   ]
  },
  {
   "cell_type": "code",
   "execution_count": null,
   "id": "d1e517ba-6df7-434b-9004-08b007e8bc8d",
   "metadata": {},
   "outputs": [],
   "source": [
    "m_stack.Benchmark.value_counts()"
   ]
  },
  {
   "cell_type": "code",
   "execution_count": null,
   "id": "552571d8-1f3a-4092-bdec-64b8c6816591",
   "metadata": {},
   "outputs": [],
   "source": [
    "subset_input_stack.reset_index(drop = True, inplace = True)"
   ]
  },
  {
   "cell_type": "code",
   "execution_count": null,
   "id": "dc64e0d4-e709-4453-8b0b-ab63b16ee533",
   "metadata": {},
   "outputs": [],
   "source": [
    "subset_input_stack.Benchmark = m_stack.Benchmark"
   ]
  },
  {
   "cell_type": "code",
   "execution_count": null,
   "id": "86c51447-2bba-44db-a57c-d3b6d59609e2",
   "metadata": {},
   "outputs": [],
   "source": [
    "subset_input_stack"
   ]
  },
  {
   "cell_type": "code",
   "execution_count": null,
   "id": "89df6dab-bc7a-4e6e-abed-b058c336a5bf",
   "metadata": {},
   "outputs": [],
   "source": [
    "inp_mbatch_stack = pd.concat([subset_input_stack, m_stack], axis = 0)"
   ]
  },
  {
   "cell_type": "code",
   "execution_count": null,
   "id": "f0805e85-df99-4858-ae39-0588be17df29",
   "metadata": {},
   "outputs": [],
   "source": [
    "# Create a new DataFrame showing the mmd for each Benchmark and phase\n",
    "df_pivot_m = inp_mbatch_stack.pivot_table(index=\"Benchmark\", columns=\"phase\", values=\"mmd\")"
   ]
  },
  {
   "cell_type": "code",
   "execution_count": null,
   "id": "9ca99108-9b39-4223-b9d0-72f1fd5e3b4a",
   "metadata": {},
   "outputs": [],
   "source": [
    "phase "
   ]
  },
  {
   "cell_type": "code",
   "execution_count": null,
   "id": "aed0ef69-f9f1-4695-88d0-c055c6688c7a",
   "metadata": {},
   "outputs": [],
   "source": [
    "phase = 'mbatch'\n",
    "sns.heatmap(\n",
    "    df_pivot_m, annot=True, cmap=\"coolwarm\")  # Replace \"coolwarm\" with your preferred colormap\n",
    "\n",
    "# Customize the heatmap\n",
    "plt.title(\"Maximum mean discrepency by system\")\n",
    "plt.xlabel(\"Columns\")\n",
    "plt.ylabel(\"Rows\")\n",
    "plt.savefig('../results/input-'+phase+'_mmd_heatmap.png')\n",
    "plt.show()"
   ]
  },
  {
   "cell_type": "markdown",
   "id": "141124df-fd34-4b5a-af32-9b90bb9044a1",
   "metadata": {},
   "source": [
    "##### Input and VAE"
   ]
  },
  {
   "cell_type": "code",
   "execution_count": null,
   "id": "12a0f581-761d-491c-966e-29d62675b442",
   "metadata": {
    "scrolled": true
   },
   "outputs": [],
   "source": [
    "i_stck = df_stck[df_stck.phase == 'input'].copy()"
   ]
  },
  {
   "cell_type": "code",
   "execution_count": null,
   "id": "6ea4a271-44f7-4772-96ee-b417882cb92c",
   "metadata": {},
   "outputs": [],
   "source": [
    "i_stck['Benchmark'] = i_stck.cancer + '_' + i_stck.modality + '_' + i_stck.systems"
   ]
  },
  {
   "cell_type": "code",
   "execution_count": null,
   "id": "549ef6a7-6e8b-4e44-8f64-e681c53cc4a4",
   "metadata": {},
   "outputs": [],
   "source": [
    "v_stck = df_stck[df_stck.phase == 'vae'].copy()"
   ]
  },
  {
   "cell_type": "code",
   "execution_count": null,
   "id": "1f05f583-2a0e-4e56-a558-d243e4d78609",
   "metadata": {},
   "outputs": [],
   "source": [
    "v_stck['Benchmark'] = v_stck.cancer + '_' + v_stck.modality + '_' + v_stck.systems"
   ]
  },
  {
   "cell_type": "code",
   "execution_count": null,
   "id": "4d18d450-c335-4f07-a203-5509378793b6",
   "metadata": {},
   "outputs": [],
   "source": [
    "v_stck.Benchmark"
   ]
  },
  {
   "cell_type": "code",
   "execution_count": null,
   "id": "c9fdd237-be0c-45d7-942c-8ce3a2951837",
   "metadata": {},
   "outputs": [],
   "source": [
    "pd.concat([i_stck, v_stck], axis = 0).to_csv(\n",
    "    '../results/stats-out/inp_vae_stack_r5.tsv', sep = '\\t')"
   ]
  },
  {
   "cell_type": "code",
   "execution_count": null,
   "id": "54ef49e5-8d27-4b95-ae9b-d7693a834de5",
   "metadata": {},
   "outputs": [],
   "source": [
    "inp_vae_stack = pd.concat([i_stck, v_stck], axis = 0)"
   ]
  },
  {
   "cell_type": "code",
   "execution_count": null,
   "id": "af07d365-47da-4d30-a116-ec39b10e3f55",
   "metadata": {},
   "outputs": [],
   "source": [
    "inp_vae_stack.head(3)"
   ]
  },
  {
   "cell_type": "code",
   "execution_count": null,
   "id": "6b58be2b-efd1-4f44-92c9-6d4522d4f6cb",
   "metadata": {},
   "outputs": [],
   "source": [
    "inp_vae_stack.tail(3)"
   ]
  },
  {
   "cell_type": "code",
   "execution_count": null,
   "id": "6422b960-8771-4028-9a7d-3c48b5f205ba",
   "metadata": {},
   "outputs": [],
   "source": [
    "import seaborn as sns\n",
    "import pandas as pd\n",
    "import matplotlib.pyplot as plt"
   ]
  },
  {
   "cell_type": "code",
   "execution_count": null,
   "id": "1bb67967-f2b1-4819-89bc-a95e8237ed25",
   "metadata": {},
   "outputs": [],
   "source": [
    "df_pivot"
   ]
  },
  {
   "cell_type": "code",
   "execution_count": null,
   "id": "30e837cd-250e-4d64-8705-37f92f01879f",
   "metadata": {},
   "outputs": [],
   "source": [
    "sns.heatmap(\n",
    "    df_pivot, annot=True, cmap=\"coolwarm\")  # Replace \"coolwarm\" with your preferred colormap\n",
    "\n",
    "# Customize the heatmap\n",
    "plt.title(\"Maximum mean discrepency by system\")\n",
    "plt.xlabel(\"Columns\")\n",
    "plt.ylabel(\"Rows\")\n",
    "plt.savefig('../results/input-vae_mmd_heatmap.png')\n",
    "plt.show()"
   ]
  },
  {
   "cell_type": "code",
   "execution_count": null,
   "id": "bcef6c26-aa3c-4d3d-897d-d3faf218fa4f",
   "metadata": {},
   "outputs": [],
   "source": []
  },
  {
   "cell_type": "code",
   "execution_count": null,
   "id": "b1eea7ab-d48c-47ed-a201-5e1d9ab358b6",
   "metadata": {},
   "outputs": [],
   "source": [
    "df_pivot"
   ]
  },
  {
   "cell_type": "code",
   "execution_count": null,
   "id": "e62fc65c-fbc2-49b3-b6e9-fc4725e61c32",
   "metadata": {},
   "outputs": [],
   "source": [
    "# Create a new DataFrame showing the mmd for each Benchmark and phase\n",
    "df_pivot = inp_vae_stack.pivot_table(index=\"Benchmark\", columns=\"phase\", values=\"mmd\")\n",
    "\n",
    "# Create the bar plot\n",
    "sns.barplot(data=df_pivot)\n",
    "plt.xlabel(\"Benchmark\")\n",
    "plt.ylabel(\"MMD\")\n",
    "plt.title(\"MMD for Input and VAE Phases of Each Benchmark\")\n",
    "plt.show()"
   ]
  },
  {
   "cell_type": "markdown",
   "id": "a6d26716-4885-4d33-87c4-bf48efd6d343",
   "metadata": {},
   "source": [
    "##### dstnc devel"
   ]
  },
  {
   "cell_type": "code",
   "execution_count": null,
   "id": "30123be0-377d-4b17-9d15-546d5671d7c6",
   "metadata": {},
   "outputs": [],
   "source": [
    "import numpy as np\n",
    "from scipy.spatial.distance import cdist"
   ]
  },
  {
   "cell_type": "code",
   "execution_count": null,
   "id": "a6230619-73a4-4aed-916b-1cec8d42be38",
   "metadata": {},
   "outputs": [],
   "source": [
    "points = np.array([[1, 2, 3],\n",
    "                   [4, 5, 6],\n",
    "                   [2, 0, 1]])\n",
    "\n",
    "distances = cdist(points, points, metric='euclidean')\n",
    "print(distances)"
   ]
  },
  {
   "cell_type": "code",
   "execution_count": null,
   "id": "bb783eda-49ec-4faf-b0bc-f0f7cdbf493b",
   "metadata": {},
   "outputs": [],
   "source": [
    "cdist(a.iloc[:, 2:], b.iloc[:, 2:], metric='euclidean')"
   ]
  },
  {
   "cell_type": "code",
   "execution_count": null,
   "id": "f08a9a5c-f433-40cf-b0b0-0998c915db54",
   "metadata": {},
   "outputs": [],
   "source": [
    "np.mean(cdist(a.iloc[:, 2:], b.iloc[:, 2:], metric='euclidean'), axis=1).mean()"
   ]
  },
  {
   "cell_type": "code",
   "execution_count": null,
   "id": "7807e3b3-c698-4476-877e-6e8dcf2797b1",
   "metadata": {},
   "outputs": [],
   "source": [
    "np.mean(cdist(a.iloc[:, 2:], b.iloc[:, 2:], metric='euclidean'), axis=0).mean()"
   ]
  },
  {
   "cell_type": "code",
   "execution_count": null,
   "id": "f346f5af-45de-4215-a64a-96c4a4d4b0bd",
   "metadata": {},
   "outputs": [],
   "source": [
    "# mean, auc?"
   ]
  },
  {
   "cell_type": "code",
   "execution_count": null,
   "id": "7c886bea-5ac9-4403-9b69-35d5660e72f9",
   "metadata": {},
   "outputs": [],
   "source": [
    "# Pairwise samples or features\n",
    "tf.keras.losses.cosine_similarity(\n",
    "    y_true, y_pred, axis=-1\n",
    ")"
   ]
  },
  {
   "cell_type": "markdown",
   "id": "f8f074c0-3988-40da-bece-8ba107f51a08",
   "metadata": {},
   "source": [
    "#### Pairwise file sets"
   ]
  },
  {
   "cell_type": "markdown",
   "id": "2d97df88-83d5-452d-89a9-d8ac2b5d2a22",
   "metadata": {},
   "source": [
    "###### Setup path checks"
   ]
  },
  {
   "cell_type": "code",
   "execution_count": null,
   "id": "e2895080-8e88-4759-9317-80f379cda2ed",
   "metadata": {},
   "outputs": [],
   "source": [
    "ls ../results/input-data/r5/"
   ]
  },
  {
   "cell_type": "code",
   "execution_count": null,
   "id": "37f1f33b-8abe-419f-a707-3cfbeefd02e8",
   "metadata": {},
   "outputs": [],
   "source": [
    "pths_n = glob.glob('../results/input-data/r5/r5-fls/*')"
   ]
  },
  {
   "cell_type": "markdown",
   "id": "673101d5-1be0-4849-9010-0ea296636f2b",
   "metadata": {},
   "source": [
    "###### prot and trans paths"
   ]
  },
  {
   "cell_type": "code",
   "execution_count": null,
   "id": "e06b83b5-5229-4a54-b9d7-5eab02962ef5",
   "metadata": {},
   "outputs": [],
   "source": [
    "len(pths_n)"
   ]
  },
  {
   "cell_type": "code",
   "execution_count": null,
   "id": "903acb35-0994-4b4a-b164-86d9e4d04e52",
   "metadata": {},
   "outputs": [],
   "source": [
    "prot_pths_n = glob.glob('../results/input-data/r5/r5-fls/*_proteomics_*')"
   ]
  },
  {
   "cell_type": "code",
   "execution_count": null,
   "id": "bf6c9ec8-78e6-45ea-b613-a6f0a9751082",
   "metadata": {},
   "outputs": [],
   "source": [
    "len(prot_pths_n)"
   ]
  },
  {
   "cell_type": "code",
   "execution_count": null,
   "id": "952f5643-b0cd-4c5f-84f9-4d334a9910cc",
   "metadata": {},
   "outputs": [],
   "source": [
    "tran_pths_n = glob.glob('../results/input-data/r5/r5-fls/*_transcriptomics_*')\n",
    "len(tran_pths_n)"
   ]
  },
  {
   "cell_type": "markdown",
   "id": "877fb1c4-87d7-45d1-b117-1389a51d42ed",
   "metadata": {},
   "source": [
    "###### get_pairs function"
   ]
  },
  {
   "cell_type": "code",
   "execution_count": null,
   "id": "89661147-dc24-4877-959b-76cb582781b5",
   "metadata": {},
   "outputs": [],
   "source": [
    "def get_pairs(pths_n):\n",
    "    prot_list = []\n",
    "    tran_list = []\n",
    "    for file in pths_n:\n",
    "        if 'proteomics' in file:\n",
    "            prot_list.append(file)\n",
    "        elif 'transcriptomics' in file:\n",
    "            tran_list.append(file)\n",
    "    tran_comb = list(itertools.combinations(tran_list, 2))\n",
    "    prot_comb = list(itertools.combinations(prot_list, 2))\n",
    "    return tran_comb, prot_comb"
   ]
  },
  {
   "cell_type": "code",
   "execution_count": null,
   "id": "a5c5ae3d-5fc1-4d66-af00-bf5511e91b37",
   "metadata": {},
   "outputs": [],
   "source": [
    "ls ../results/input-data/r5/r5-fls/"
   ]
  },
  {
   "cell_type": "markdown",
   "id": "fab5a025-5c4c-41e3-95da-1c15f140904f",
   "metadata": {},
   "source": [
    "###### Input pairwise cancer files"
   ]
  },
  {
   "cell_type": "code",
   "execution_count": null,
   "id": "63cd4f7b-c207-429d-ba60-03facff349fa",
   "metadata": {},
   "outputs": [],
   "source": [
    "# Set input (raw data) to file set n\n",
    "phase = 'input-data'\n",
    "phase_name = 'Input data'\n",
    "\n",
    "pths_n = sorted(glob.glob('../results/'+phase+'/'+r+'/'+r+'-fls/*'))\n",
    "print('File count: ', len(pths_n))\n",
    "\n",
    "tran_comb, prot_comb = get_pairs(pths_n)\n",
    "print('Trscrptmc, Prtmc comb lens: ', len(tran_comb), len(prot_comb))\n",
    "\n",
    "# First and last files\n",
    "print(pths_n[0].split('/')[-1]+'\\n', pths_n[-1].split('/')[-1])"
   ]
  },
  {
   "cell_type": "code",
   "execution_count": null,
   "id": "b3c24e0c-c82f-4554-9cac-69b54b1f15f0",
   "metadata": {},
   "outputs": [],
   "source": [
    "tran_cl_cp = []\n",
    "for tup in tran_comb:\n",
    "    # print(tup)\n",
    "    if 'cell-line+CPTAC' in tup[0] and 'cell-line+CPTAC' in tup[1]:\n",
    "        # print('cl cp pair')\n",
    "        tran_cl_cp.append(tup)\n",
    "    # break"
   ]
  },
  {
   "cell_type": "code",
   "execution_count": null,
   "id": "aae98bb2-fc76-4fb5-9353-36980d99e0b5",
   "metadata": {},
   "outputs": [],
   "source": [
    "tran_comb"
   ]
  },
  {
   "cell_type": "code",
   "execution_count": null,
   "id": "612fad48-aef9-4778-9153-8793607b4d99",
   "metadata": {},
   "outputs": [],
   "source": [
    "# Observation: 153 pairwise combos, transcriptomics; from 18 input files"
   ]
  },
  {
   "cell_type": "code",
   "execution_count": null,
   "id": "9fbaed37-535f-431a-865d-b5f54fb3112e",
   "metadata": {},
   "outputs": [],
   "source": [
    "len(tran_cl_cp)"
   ]
  },
  {
   "cell_type": "code",
   "execution_count": null,
   "id": "e4009063-77df-44a6-8ca9-a0a70ba8d4ee",
   "metadata": {},
   "outputs": [],
   "source": [
    "tran_cl_cp[0]"
   ]
  },
  {
   "cell_type": "markdown",
   "id": "1d96e537-33be-49d8-b4d0-967b87e529a6",
   "metadata": {},
   "source": [
    "###### Mbatch get_pairs"
   ]
  },
  {
   "cell_type": "code",
   "execution_count": null,
   "id": "93e79c38-a099-4392-a049-61d529f3a818",
   "metadata": {},
   "outputs": [],
   "source": [
    "# mBatch to file set n\n",
    "phase = 'mbatch-out'\n",
    "phase_name = 'Mbatch corrected'\n",
    "\n",
    "file_set_n = sorted(glob.glob('../results/'+phase+'/'+r+'/'+r+'-fls/*'))\n",
    "print('File count: ', len(file_set_n))\n",
    "\n",
    "tran_comb, prot_comb = get_pairs(file_set_n)\n",
    "print('Trscrptmc, Prtmc comb lens: ', len(tran_comb), len(prot_comb))\n",
    "\n",
    "# First and last files\n",
    "print(file_set_n[0].split('/')[-1]+'\\n', file_set_n[-1].split('/')[-1])"
   ]
  },
  {
   "cell_type": "markdown",
   "id": "11ea64e8-fa6e-447e-8e70-fe09d5284455",
   "metadata": {},
   "source": [
    "###### VAE get_pairs"
   ]
  },
  {
   "cell_type": "code",
   "execution_count": null,
   "id": "9fa4566a-119d-42ac-9bc5-ecb168d42d49",
   "metadata": {},
   "outputs": [],
   "source": [
    "# VAE to file set n\n",
    "phase = 'vae-out'\n",
    "phase_name = 'VAE corrected'\n",
    "\n",
    "file_set_n = sorted(glob.glob('../results/'+phase+'/'+r+'/'+r+'-fls/*'))\n",
    "print('File count: ', len(file_set_n))\n",
    "\n",
    "tran_comb, prot_comb = get_pairs(file_set_n)\n",
    "print('Trscrptmc, Prtmc comb lens: ', len(tran_comb), len(prot_comb))\n",
    "\n",
    "# First and last files\n",
    "print(file_set_n[0].split('/')[-1]+'\\n', file_set_n[-1].split('/')[-1])"
   ]
  },
  {
   "cell_type": "code",
   "execution_count": null,
   "id": "35325300-9341-4fb3-a982-85d4aa961678",
   "metadata": {},
   "outputs": [],
   "source": [
    "phase"
   ]
  },
  {
   "cell_type": "markdown",
   "id": "cb990a11-ac0a-4e0e-9fb6-ec9304d2a7a7",
   "metadata": {
    "jp-MarkdownHeadingCollapsed": true
   },
   "source": [
    "##### Infinity vals"
   ]
  },
  {
   "cell_type": "code",
   "execution_count": null,
   "id": "6cf1c835-4b70-44dd-ae9a-28d5e45dbee1",
   "metadata": {},
   "outputs": [],
   "source": [
    "strctrd_n"
   ]
  },
  {
   "cell_type": "code",
   "execution_count": null,
   "id": "f0966643-dd8a-4a48-a268-29de27206dbd",
   "metadata": {},
   "outputs": [],
   "source": [
    "strctrd_n.isin([np.inf, -np.inf]).sum().sum()"
   ]
  },
  {
   "cell_type": "code",
   "execution_count": null,
   "id": "ecb8dc3d-3c68-4abf-9b5b-232cfcefcc85",
   "metadata": {},
   "outputs": [],
   "source": [
    "inf_count = f\"{df_lite.isin([np.inf, -np.inf]).sum().sum():,}\""
   ]
  },
  {
   "cell_type": "markdown",
   "id": "c10664a1-9a86-4209-944b-6a312d79989b",
   "metadata": {},
   "source": [
    "#### Classifier, one cancer"
   ]
  },
  {
   "cell_type": "markdown",
   "id": "48ee0df3-d103-496e-993c-cd5674c171ac",
   "metadata": {},
   "source": [
    "##### Clf main"
   ]
  },
  {
   "cell_type": "markdown",
   "id": "5bada9c1-d529-41fa-902a-c069be2141e6",
   "metadata": {},
   "source": [
    "###### RFE"
   ]
  },
  {
   "cell_type": "code",
   "execution_count": null,
   "id": "4312ade8-843c-4d10-86f5-e95507623eed",
   "metadata": {},
   "outputs": [],
   "source": [
    "pths_n[0]"
   ]
  },
  {
   "cell_type": "code",
   "execution_count": null,
   "id": "1d8a77a2-94c5-46aa-a932-1545e823fb1c",
   "metadata": {},
   "outputs": [],
   "source": [
    "pth_n"
   ]
  },
  {
   "cell_type": "code",
   "execution_count": null,
   "id": "a62101aa-ea87-4829-b9fe-d704ccea24fe",
   "metadata": {},
   "outputs": [],
   "source": [
    "mdl-sys-bnchmrk/results/devel/colon-adeno_transcriptomics_cell-line+CPTAC.latent_space.tsv\n",
    "\n",
    "    # Evaluation file read and write naming and plot labeling and naming\n",
    "\n",
    "r6\n",
    "\n",
    "# One cancer file naming convention\n",
    "mdl-sys-bnchmrk/results/devel/colon-adeno_transcriptomics_cell-line+CPTAC.vae-out.250-ltnt-dim_12-epchs.tsv\n",
    "mdl-sys-bnchmrk/results/devel/colon-adeno_transcriptomics_cell-line+CPTAC.mbatch-out.tsv\n",
    "mdl-sys-bnchmrk/results/devel/colon-adeno_transcriptomics_cell-line+CPTAC.input-data.tsv\n",
    "\n",
    "# Two cancer file naming convention\n",
    "mdl-sys-bnchmrk/results/devel/lung-adeno+colon-adeno_transcriptomics_cell-line+CPTAC.vae-out.250-ltnt-dim_12-epchs.tsv\n",
    "mdl-sys-bnchmrk/results/devel/pancreatic+colon-adeno_transcriptomics_cell-line+CPTAC.mbatch-out.tsv\n",
    "mdl-sys-bnchmrk/results/devel/breast-lobular+colon-adeno_transcriptomics_cell-line+CPTAC.input-data.tsv"
   ]
  },
  {
   "cell_type": "code",
   "execution_count": null,
   "id": "a3aa61b7-947d-4d49-a7e2-5f942e72c261",
   "metadata": {},
   "outputs": [],
   "source": [
    "\n",
    "    # scatter_plot_design - restrict to transcriptomics, cell line and CPTAC\n",
    "    # y-axis is the cancer type score - 21 pairs\n",
    "    # x-axis is the system score - which system?\n",
    "    # plot both mbatch and vae on same plot\n",
    "    # connect the dots - scatter plot done\n",
    "\n",
    "    # idea - get pairs from mBatch to drive the file read\n",
    "    # predict each cancer against a single archetypal or sythetic data set\n",
    "        # Standard prediction method, gen a custom synth benchmarking set for each\n",
    "        # system pair within each tissue?"
   ]
  },
  {
   "cell_type": "code",
   "execution_count": null,
   "id": "9c30dfce-d20c-426e-a65a-13d06072c8d4",
   "metadata": {},
   "outputs": [],
   "source": [
    "benchmark"
   ]
  },
  {
   "cell_type": "code",
   "execution_count": null,
   "id": "11cdb533-0069-4385-a8c0-0737b2fe6b6c",
   "metadata": {},
   "outputs": [],
   "source": [
    "# Single cancer setup, can only eval sys on single cancer files\n",
    "    # Does is make sense to evaluate system on cancer pairwise files?"
   ]
  },
  {
   "cell_type": "code",
   "execution_count": null,
   "id": "bc799bda-1026-4390-92ea-bdc851fa8139",
   "metadata": {},
   "outputs": [],
   "source": [
    "pwd"
   ]
  },
  {
   "cell_type": "code",
   "execution_count": null,
   "id": "0cd475dc-3493-462e-af83-583bd9140527",
   "metadata": {},
   "outputs": [],
   "source": [
    "ls ../results/"
   ]
  },
  {
   "cell_type": "code",
   "execution_count": null,
   "id": "c655f041-494e-40ab-a258-74c1d49f1f48",
   "metadata": {},
   "outputs": [],
   "source": [
    "ls ../results/mbatch-out/r5/r5-fls/"
   ]
  },
  {
   "cell_type": "code",
   "execution_count": null,
   "id": "621fed31-33c9-4a1c-8c48-ab1454199b51",
   "metadata": {
    "scrolled": true
   },
   "outputs": [],
   "source": [
    "ls ../results/vae-out/r5/r5-fls/"
   ]
  },
  {
   "cell_type": "code",
   "execution_count": null,
   "id": "f52f1e38-1855-4abd-beb9-a19ab66b7780",
   "metadata": {},
   "outputs": [],
   "source": [
    "pth_n[0]"
   ]
  },
  {
   "cell_type": "code",
   "execution_count": null,
   "id": "ad2b7d18-eb34-46ed-a54c-a7d1ab4ad833",
   "metadata": {},
   "outputs": [],
   "source": [
    "def tts(X, y):\n",
    "    X_train, X_test, y_train, y_test = train_test_split(\n",
    "                                                X, y_sys)\n",
    "    return X_train, X_test, y_train, y_test"
   ]
  },
  {
   "cell_type": "code",
   "execution_count": null,
   "id": "88a06a51-b7c9-47b2-8f33-b9b9adf1fb10",
   "metadata": {
    "scrolled": true
   },
   "outputs": [],
   "source": [
    "for pi, pth_n in enumerate(tran_cl_cp): # based on input paths\n",
    "    # print(pi)\n",
    "    # print(pth_n)\n",
    "    # Get the benchmarks (defined by tissue type)\n",
    "    b1 = pth_n[0].split('/')[-1].split('.')[0] # input r5\n",
    "    b2 = pth_n[1].split('/')[-1].split('.')[0] # input r5\n",
    "    \n",
    "    # Get two corresponding MBatch out paths\n",
    "    mb_pth1 = '../results/mbatch-out/r5/r5-fls/'+b1+'.tsv'\n",
    "    mb_pth2 = '../results/mbatch-out/r5/r5-fls/'+b2+'.tsv'\n",
    "\n",
    "    vae_pth1 = '../results/vae-out/r5/r5-fls/'+b1+'_250-ltnt-dim_12-epchs.tsv'\n",
    "    vae_pth2 = '../results/vae-out/r5/r5-fls/'+b2+'_250-ltnt-dim_12-epchs.tsv'    \n",
    "    # print(mb_pth1)\n",
    "    # print(mb_pth2)\n",
    "    \n",
    "    # Read two corresponding MBatch out files\n",
    "    mb_1 = pd.read_csv(\n",
    "        mb_pth1, sep = '\\t', index_col = 0)\n",
    "    Xm1 = mb_1.iloc[:, 2:]\n",
    "    yms1 = mb_1.System\n",
    "    \n",
    "    for xf_i in list(range(1, 5)):\n",
    "        X_train, X_test, y_train, y_test = tts(Xm1, yms1)\n",
    "            \n",
    "    mb_2 = pd.read_csv(\n",
    "        mb_pth2, sep = '\\t', index_col = 0)\n",
    "    Xm2 = mb_1.iloc[:, 2:]\n",
    "    yms2 = mb_1.System\n",
    "    \n",
    "    for xf_i in list(range(1, 5)):\n",
    "        X_train, X_test, y_train, y_test = tts(Xm2, yms2)\n",
    "    \n",
    "    vae_1 = pd.read_csv(\n",
    "        vae_pth1, sep = '\\t', index_col = 0)\n",
    "    Xvae1 = mb_1.iloc[:, 2:]\n",
    "    yvaeSys1 = mb_1.System # end two-cancer setup, end ump_clf\n",
    "\n",
    "                            # Go to single classifier Mbatch vs VAE\n",
    "\n",
    "    for xf_i in list(range(1, 5)):\n",
    "        X_train, X_test, y_train, y_test = tts(Xm2, yms2)    \n",
    "    \n",
    "    vae_2 = pd.read_csv(\n",
    "        vae_pth2, sep = '\\t', index_col = 0)\n",
    "\n",
    "    # Make three Mbatch system predictions\n",
    "        # Start with one\n",
    "\n",
    "    ab_1 = mb_1.System.unique()\n",
    "    ab_2 = mb_2.System.unique()\n",
    "\n",
    "    mb_1a = mb_1[mb_1.System == ab_1[0]]\n",
    "    mb_1b = mb_1[mb_1.System == ab_1[1]]\n",
    "\n",
    "    mb_2a = mb_2[mb_2.System == ab_2[0]]\n",
    "    mb_2b = mb_2[mb_2.System == ab_2[1]]\n",
    "\n",
    "    ab_1 = vae_1.System.unique()\n",
    "    ab_2 = vae_2.System.unique()\n",
    "\n",
    "    vae_1a = vae_1[vae_1.System == ab_1[0]]\n",
    "    vae_1b = vae_1[vae_1.System == ab_1[1]]\n",
    "\n",
    "    vae_2a = vae_2[vae_2.System == ab_2[0]]\n",
    "    vae_2b = vae_2[vae_2.System == ab_2[1]]\n",
    "\n",
    "    for xf_i in list(range(1, 5)):\n",
    "        X_train, X_test, y_train, y_test = train_test_split(\n",
    "                                                X, y_sys)\n",
    "    \n",
    "    # Make Mbatch tissue prediction\n",
    "\n",
    "    # Repeat for VAE - non dot in file name\n",
    "\n",
    "    # To x and y on scatter\n",
    "\n",
    "    print('end')\n",
    "    break"
   ]
  },
  {
   "cell_type": "code",
   "execution_count": null,
   "id": "d17ca7de-237d-437a-b647-1cd67c76c5b8",
   "metadata": {},
   "outputs": [],
   "source": [
    "mb_1"
   ]
  },
  {
   "cell_type": "code",
   "execution_count": null,
   "id": "13e57dcb-ab26-42d2-9ea7-295b1f840fca",
   "metadata": {},
   "outputs": [],
   "source": [
    "df_n"
   ]
  },
  {
   "cell_type": "code",
   "execution_count": null,
   "id": "eb705fc2-8efe-42bb-954e-00c31f17f0a1",
   "metadata": {},
   "outputs": [],
   "source": [
    "# RFE"
   ]
  },
  {
   "cell_type": "code",
   "execution_count": null,
   "id": "de85de95-bca9-4eac-932f-5df5cba02d75",
   "metadata": {},
   "outputs": [],
   "source": [
    "rfe = RFE(estimator=estimator, n_features_to_select=10, step=10)\n",
    "file_n = pd.read_csv(pth, sep = '\\t', index_col = 0) # read validation split file\n",
    "X = file_n.iloc[:, 1:]\n",
    "y = file_n.iloc[:, 0]\n",
    "rfe.fit(X, y)\n",
    "mask = rfe.support_\n",
    "vs_dict[vs] = json.dumps(list(X.columns[mask]))"
   ]
  },
  {
   "cell_type": "markdown",
   "id": "a4bb64d6-9255-45ba-b8b7-7344b35d0c56",
   "metadata": {
    "jp-MarkdownHeadingCollapsed": true
   },
   "source": [
    "##### Devel, scatter crossfolds"
   ]
  },
  {
   "cell_type": "code",
   "execution_count": null,
   "id": "fc5f572c-d373-4a3f-b15f-9182ea7bfade",
   "metadata": {
    "jupyter": {
     "source_hidden": true
    }
   },
   "outputs": [],
   "source": [
    "for pi, pth_n in enumerate(tran_cl_cp): # based on input paths\n",
    "    # print(pi)\n",
    "    # print(pth_n)\n",
    "    # Get the benchmarks (defined by tissue type)\n",
    "    b1 = pth_n[0].split('/')[-1].split('.')[0] # input r5\n",
    "    b2 = pth_n[1].split('/')[-1].split('.')[0] # input r5\n",
    "    \n",
    "    # Get two corresponding MBatch out paths\n",
    "    mb_pth1 = '../results/mbatch-out/r5/r5-fls/'+b1+'.tsv'\n",
    "    mb_pth2 = '../results/mbatch-out/r5/r5-fls/'+b2+'.tsv'\n",
    "\n",
    "    vae_pth1 = '../results/vae-out/r5/r5-fls/'+b1+'_250-ltnt-dim_12-epchs.tsv'\n",
    "    vae_pth2 = '../results/vae-out/r5/r5-fls/'+b2+'_250-ltnt-dim_12-epchs.tsv'    \n",
    "    # print(mb_pth1)\n",
    "    # print(mb_pth2)\n",
    "    \n",
    "    # Read two corresponding MBatch out files\n",
    "    mb_1 = pd.read_csv(\n",
    "        mb_pth1, sep = '\\t', index_col = 0)\n",
    "    mb_2 = pd.read_csv(\n",
    "        mb_pth2, sep = '\\t', index_col = 0)\n",
    "\n",
    "    vae_1 = pd.read_csv(\n",
    "        vae_pth1, sep = '\\t', index_col = 0)\n",
    "    vae_2 = pd.read_csv(\n",
    "        vae_pth2, sep = '\\t', index_col = 0)\n",
    "\n",
    "    # Make three Mbatch system predictions\n",
    "        # Start with one\n",
    "\n",
    "    ab_1 = mb_1.System.unique()\n",
    "    ab_2 = mb_2.System.unique()\n",
    "\n",
    "    mb_1a = mb_1[mb_1.System == ab_1[0]]\n",
    "    mb_1b = mb_1[mb_1.System == ab_1[1]]\n",
    "\n",
    "    mb_2a = mb_2[mb_2.System == ab_2[0]]\n",
    "    mb_2b = mb_2[mb_2.System == ab_2[1]]\n",
    "\n",
    "    ab_1 = vae_1.System.unique()\n",
    "    ab_2 = vae_2.System.unique()\n",
    "\n",
    "    vae_1a = vae_1[vae_1.System == ab_1[0]]\n",
    "    vae_1b = vae_1[vae_1.System == ab_1[1]]\n",
    "\n",
    "    vae_2a = vae_2[vae_2.System == ab_2[0]]\n",
    "    vae_2b = vae_2[vae_2.System == ab_2[1]]\n",
    "\n",
    "    for xf_i in list(range(1, 5)):\n",
    "        X_train, X_test, y_train, y_test = train_test_split(\n",
    "                                                X, y_sys)\n",
    "    \n",
    "    # Make Mbatch tissue prediction\n",
    "\n",
    "    # Repeat for VAE - non dot in file name\n",
    "\n",
    "    # To x and y on scatter\n",
    "\n",
    "    print('end')\n",
    "    break"
   ]
  },
  {
   "cell_type": "markdown",
   "id": "02dd11ba-1ef0-4205-9d73-e0645229e2ca",
   "metadata": {},
   "source": [
    "##### Classifier, cancer type pairs"
   ]
  },
  {
   "cell_type": "code",
   "execution_count": null,
   "id": "375826a7-5861-4f9c-a496-5cbe307f8b9d",
   "metadata": {},
   "outputs": [],
   "source": [
    "phase_name"
   ]
  },
  {
   "cell_type": "code",
   "execution_count": null,
   "id": "d591a769-c3be-4c54-8cd5-6ab6760d05a0",
   "metadata": {
    "scrolled": true
   },
   "outputs": [],
   "source": [
    "# Cancer combos n - to scatter within each modality \n",
    "    # run on three phases: ../results/input-data,\n",
    "                        #  ../results/mbatch-out, \n",
    "                        #  ../results/vae-out\n",
    "start = time.time()\n",
    "\n",
    "# phase\n",
    "print(phase_name)\n",
    "\n",
    "# Transcriptomics toggle\n",
    "cmb_lst_n = tran_comb\n",
    "\n",
    "# Proteomics togglea\n",
    "# cmb_lst_n = prot_comb\n",
    "\n",
    "# Joint embedding runs\n",
    "# cmb_lst_n = je_comb\n",
    "'''\n",
    "end toggles\n",
    "'''\n",
    "for cmb_n, pth_cmb_n in enumerate(cmb_lst_n):\n",
    "    # print(cmb_n, fl_pths)\n",
    "    \n",
    "    df_n1 = pd.read_csv(\n",
    "        pth_cmb_n[0], sep = '\\t', index_col = 0)\n",
    "    cncr_1 = pth_cmb_n[0].split('_')[-3].split('/')[-1]\n",
    "    print(cncr_1)\n",
    "    \n",
    "    inf_count = f\"{df_n1.isin([np.inf, -np.inf]).sum().sum():,}\"\n",
    "    print(inf_count)\n",
    "\n",
    "    df_n1.isin([np.inf, -np.inf]).sum().sum() #\n",
    "    \n",
    "    print(inf_count)\n",
    "    df_n2 = pd.read_csv(\n",
    "        pth_cmb_n[1], sep = '\\t', index_col = 0)\n",
    "        \n",
    "    cncr_2 = pth_cmb_n[1].split('_')[-3].split('/')[-1]\n",
    "    inf_count = f\"{df_n2.isin([np.inf, -np.inf]).sum().sum():,}\"\n",
    "    print(inf_count)\n",
    "    \n",
    "    # print('check')\n",
    "    # break\n",
    "\n",
    "    x = clf_main(phase, phase_name, pth_cmb_n, df_n1, df_n2)\n",
    "    # mmd_main(fl_n, file_set_n)\n",
    "    # umap_main(fl_n, file_set_n)\n",
    "    # return\n",
    "    break\n",
    "time.time() - start"
   ]
  },
  {
   "cell_type": "code",
   "execution_count": null,
   "id": "ebe953e1-da22-4e33-8137-7300d1d4f3d7",
   "metadata": {},
   "outputs": [],
   "source": [
    "x"
   ]
  },
  {
   "cell_type": "code",
   "execution_count": null,
   "id": "7011bc47-6450-4c4e-9725-8c05c535b6b5",
   "metadata": {
    "scrolled": true
   },
   "outputs": [],
   "source": [
    "def clf_main(phase, phase_name, pth_cmb_n, df_n1, df_n2):\n",
    "\n",
    "    # print(strctrd.value_counts(strctrd.System))\n",
    "                # to plot labels\n",
    "    print('Start clf_main')\n",
    "    # return pth_cmb_n\n",
    "    modality = pth_cmb_n[0].split('_')[-2]\n",
    "    # return modality\n",
    "    cncr_1 = pth_cmb_n[0].split('_')[-3].split('/')[-1]\n",
    "    cncr_2 = pth_cmb_n[1].split('_')[-3].split('/')[-1]\n",
    "    # return phase, modality, cancer1, cancer2\n",
    "    if df_n1.isna().sum().sum() > 0:\n",
    "        print('strctr1 NaN values: ', cncr_1, phase)\n",
    "        return # To next file\n",
    "    if df_n2.isin([np.inf, -np.inf]).sum().sum() > 0:\n",
    "        print('strct2 inf values: ', cncr_1, phase)\n",
    "        return # To next file    \n",
    "\n",
    "    if df_n2.isna().sum().sum() > 0:\n",
    "        print('strct2 NaN values: ', cncr_2, phase)\n",
    "        return # To next file\n",
    "    if df_n2.isin([np.inf, -np.inf]).sum().sum() > 0:\n",
    "        print('strct2 inf values: ', cncr_2, phase)\n",
    "        return # To next file\n",
    "\n",
    "    two_cncer = pd.concat([df_n1, df_n2], axis = 0,\n",
    "                       join = 'inner')\n",
    "    X =two_cncer.iloc[:, 2:]\n",
    "    y_sys = two_cncer.System\n",
    "    y_cncr = two_cncer.Cancer_type # to Cross val index matching\n",
    "    # return X\n",
    "    sys_scores = [] # between these two cancers\n",
    "    cncr_scores = [] # between these two cancers\n",
    "    # return fl_pths, cancer1, cancer2\n",
    "    \n",
    "    clf_name = 'rnd-frst'\n",
    "    # clf_name = 'dt'\n",
    "    # clf_name = 'lg_rg'\n",
    "\n",
    "    return clf_name\n",
    "    for xf_i in list(range(1,10)):\n",
    "    # for xf_i in list(range(1,30)):\n",
    "        X_train, X_test, y_train, y_test = train_test_split(\n",
    "                                                X, y_sys)\n",
    "        # System                                      ^\n",
    "        clf = RandomForestClassifier(\n",
    "                    max_depth=2,\n",
    "                    random_state=0).fit(\n",
    "                                    X_train, y_train)\n",
    "        \n",
    "        # clf = tree.DecisionTreeClassifier().fit(X_train, y_train)\n",
    "        # clf = LogisticRegression(random_state=0).fit(X_train, y_train)\n",
    "        \n",
    "        score = f1_score(y_test, clf.predict(X_test), average = 'weighted')\n",
    "        sys_scores.append(score)\n",
    "\n",
    "        # Cross val index matching           y_c_typ:\n",
    "        y_train = y_cncr[y_cncr.index.isin(y_train.index)]\n",
    "        y_test = y_cncr[y_cncr.index.isin(y_test.index)]\n",
    "\n",
    "        # Cancer type\n",
    "        clf = RandomForestClassifier(\n",
    "                    max_depth=2,\n",
    "                    random_state=0).fit(\n",
    "                                    X_train, y_train)\n",
    "        \n",
    "        score = f1_score(y_test, clf.predict(X_test), average = 'weighted')\n",
    "        cncr_scores.append(score)\n",
    "    \n",
    "    #     break\n",
    "    # return cncr_scores\n",
    "    # for score_list in \n",
    "    sys_mean = statistics.mean(sys_scores)\n",
    "    sys_err = statistics.stdev(sys_scores)"
   ]
  },
  {
   "cell_type": "markdown",
   "id": "cfe9e85b-96e4-4539-ba27-6d6811b9539b",
   "metadata": {
    "jp-MarkdownHeadingCollapsed": true
   },
   "source": [
    "##### Bar plot templates"
   ]
  },
  {
   "cell_type": "code",
   "execution_count": null,
   "id": "7b791795-a238-42c4-b7a4-0851854b090a",
   "metadata": {},
   "outputs": [],
   "source": [
    "    # fig, ax = plt.subplots()\n",
    "    # plt.ylim(0, 1)\n",
    "    \n",
    "    # # System barplot\n",
    "    # bar_s = ax.bar('sys', sys_mean, yerr=sys_err, capsize = 7, label='System')\n",
    "    # plt.title(phase_name+' '+cancer1+'+'+cancer2+\n",
    "    #     '_'+modality)\n",
    "    \n",
    "    # # Legend\n",
    "    # ax.legend()\n",
    "    # plt.savefig(\n",
    "    #     '../results/'+phase+'/'+r+'/'+r+'_fgs/'+phase+'_'+cancer1+'+'+cancer2+\n",
    "    #     '_'+modality+'_'+systems+'_'+clf_name+'_sys.png')\n",
    "    # print(cancer1+'+'+cancer2, modality, ' to disk')\n",
    "    # print(' ')\n",
    "    # plt.close()\n",
    "    # cncr_mean = statistics.mean(cncr_scores)\n",
    "    # cncr_err = statistics.stdev(cncr_scores)\n",
    "    \n",
    "    # fig, ax = plt.subplots()\n",
    "    # plt.ylim(0, 1)\n",
    "    \n",
    "    # # Cancer barplot\n",
    "    # bar_c = ax.bar('sys', cncr_mean, yerr=cncr_err, capsize = 7, label='Cancer')\n",
    "    # plt.title(phase_name+' '+cancer1+'+'+cancer2+\n",
    "    #     '_'+modality)\n",
    "    \n",
    "    # # Cancer Legend\n",
    "    # ax.legend()\n",
    "    # plt.savefig(\n",
    "    #     '../results/'+phase+'/'+r+'/'+r+'_fgs/'+phase+'_'+cancer1+'+'+cancer2+\n",
    "    #     '_'+modality+'_'+systems+'_'+clf_name+'_cncr.png')\n",
    "    # print(cancer1+'+'+cancer2, modality, ' to disk')\n",
    "    # print(' ')\n",
    "    # plt.close()    \n",
    "    # # return x\n",
    "    # # break"
   ]
  },
  {
   "cell_type": "markdown",
   "id": "e37c33b3-24c4-4ba6-a8f6-315d43260013",
   "metadata": {
    "jp-MarkdownHeadingCollapsed": true
   },
   "source": [
    "#### MMD template"
   ]
  },
  {
   "cell_type": "code",
   "execution_count": null,
   "id": "407fe5a3-b35b-4ca9-bd9a-5fb6a9192451",
   "metadata": {},
   "outputs": [],
   "source": [
    "# order file names by cancer, modality, systems - \n",
    "    # for sorting in dirs - mult cncrs per moda, mult modas per system"
   ]
  },
  {
   "cell_type": "code",
   "execution_count": null,
   "id": "249ad04f-5bdf-42b5-96b1-06d7fe6493e8",
   "metadata": {},
   "outputs": [],
   "source": [
    "def compute_mmd(bio_mrk_1, bio_mrk_2, gamma=1.0):\n",
    "    K_XX = rbf_kernel(bio_mrk_1, bio_mrk_1, gamma=gamma)\n",
    "    K_XY = rbf_kernel(bio_mrk_1, bio_mrk_2, gamma=gamma)\n",
    "    K_YY = rbf_kernel(bio_mrk_2, bio_mrk_2, gamma=gamma)\n",
    "\n",
    "    m = bio_mrk_1.shape[0]\n",
    "    n = bio_mrk_2.shape[0]\n",
    "\n",
    "    mmd = (np.sum(K_XX) - np.trace(K_XX)) / (m * (m - 1))\n",
    "    mmd += (np.sum(K_YY) - np.trace(K_YY)) / (n * (n - 1))\n",
    "    mmd -= 2 * np.sum(K_XY) / (m * n)\n",
    "\n",
    "    # Ensure the MMD value is non-negative\n",
    "    mmd = np.maximum(mmd, 0)\n",
    "\n",
    "    return np.sqrt(mmd)"
   ]
  },
  {
   "cell_type": "markdown",
   "id": "fc571b39-131c-40e6-8aab-5d9e0c5a1431",
   "metadata": {},
   "source": [
    "##### mmd inspection"
   ]
  },
  {
   "cell_type": "code",
   "execution_count": null,
   "id": "03dcaeb4-746a-4325-87b3-7bb0550e4d82",
   "metadata": {},
   "outputs": [],
   "source": [
    "for i, file in enumerate(file_set_n):\n",
    "    # print(file)\n",
    "    strctrd_n = pd.read_csv(\n",
    "        file,\n",
    "        sep = '\\t', index_col = 0)\n",
    "    \n",
    "    # print(strctrd.value_counts(strctrd.System))\n",
    "    print(' ')\n",
    "    cancer = cancer_types[i]\n",
    "    print(cancer)\n",
    "    # break\n",
    "    bio_mrk_1 = strctrd_n[strctrd_n.System=='cell_line'].iloc[:, 2:]\n",
    "    bio_mrk_2 = strctrd_n[strctrd_n.System=='CPTAC'].iloc[:, 2:]\n",
    "    \n",
    "    mmd_score = compute_mmd(bio_mrk_1, bio_mrk_2)\n",
    "    print(mmd_score)\n",
    "    # break"
   ]
  },
  {
   "cell_type": "markdown",
   "id": "a8c29480-8460-4fbf-9a06-0b0e60ced7d2",
   "metadata": {},
   "source": [
    "#### UMAP"
   ]
  },
  {
   "cell_type": "code",
   "execution_count": null,
   "id": "a446f01b-c325-494a-a403-26d0a4ea7609",
   "metadata": {},
   "outputs": [],
   "source": [
    "# Set input (raw data) to file set n\n",
    "phase = 'input_data'\n",
    "phase_name = 'Input data'\n",
    "file_set_n = sorted(glob.glob('../strctrd/one_cncr/*'))"
   ]
  },
  {
   "cell_type": "code",
   "execution_count": null,
   "id": "fa1b1570-2387-43e2-9aff-8a2afb3a375e",
   "metadata": {},
   "outputs": [],
   "source": [
    "# UMAP on structured data, input data\n",
    "print(phase_name)\n",
    "for i, file in enumerate(file_set_n):\n",
    "    strctrd_n = pd.read_csv(\n",
    "        file,\n",
    "        sep = '\\t', index_col = 0)\n",
    "    cancer = cancer_types[i]\n",
    "    print(cancer)\n",
    "    print(' ')\n",
    "    # break\n",
    "    features = strctrd_n.drop(['System', 'Cancer_type'], axis=1)\n",
    "    system_labels = strctrd_n['System'] # data phase\n",
    "    \n",
    "    umap_result = umap.UMAP(n_neighbors=15, min_dist=0.1, n_components=2, metric='euclidean').fit_transform(features)\n",
    "    unique_labels = system_labels.unique()\n",
    "    \n",
    "    colors = ['red', 'green']\n",
    "    color_map = dict(zip(unique_labels, colors))\n",
    "    \n",
    "    plt.figure(figsize=(10, 8))\n",
    "    \n",
    "    for i in range(len(umap_result)):\n",
    "        plt.scatter(umap_result[i, 0], umap_result[i, 1],\n",
    "                    c=[color_map[system_labels.iloc[i]]],\n",
    "                    edgecolor='k',\n",
    "                    s=100,\n",
    "                    label=system_labels.iloc[i] + ' - ' + system_labels.iloc[i] if i in [list(system_labels).index(x) for x in unique_labels] else \"\")\n",
    "    \n",
    "    plt.legend()\n",
    "    \n",
    "    plt.title(cancer+', '+phase+', '+modality, fontsize=14)\n",
    "    \n",
    "    plt.tight_layout()\n",
    "    plt.savefig(\n",
    "        '../results/'+phase+'/one_cncr/figures/'+phase+'_'+cancer+\n",
    "        '_'+modality+'_'+systems+'rf.png')\n",
    "    \n",
    "    plt.show()\n",
    "    # break"
   ]
  },
  {
   "cell_type": "code",
   "execution_count": null,
   "id": "49623d07-999f-4034-a631-424f6d5b0133",
   "metadata": {},
   "outputs": [],
   "source": [
    "# Set input (mbatch data) to file set n\n",
    "phase = 'mbatch_out'\n",
    "phase_name = 'Mbatch corrected'\n",
    "file_set_n = sorted(glob.glob('../results/mbatch_out/one_cncr/files/*'))"
   ]
  },
  {
   "cell_type": "code",
   "execution_count": null,
   "id": "e7dc757a-a691-47e5-80f4-1ee74d57806d",
   "metadata": {},
   "outputs": [],
   "source": [
    "# UMAP on structured data, mbatch out\n",
    "print(phase_name)\n",
    "for i, file in enumerate(file_set_n):\n",
    "    strctrd_n = pd.read_csv(\n",
    "        file,\n",
    "        sep = '\\t', index_col = 0)\n",
    "    cancer = cancer_types[i]\n",
    "    print(cancer)\n",
    "    print(' ')\n",
    "    # break\n",
    "    features = strctrd_n.drop(['System', 'Cancer_type'], axis=1)\n",
    "    system_labels = strctrd_n['System'] # data phase\n",
    "    \n",
    "    umap_result = umap.UMAP(n_neighbors=15, min_dist=0.1, n_components=2, metric='euclidean').fit_transform(features)\n",
    "    unique_labels = system_labels.unique()\n",
    "    \n",
    "    colors = ['red', 'green']\n",
    "    color_map = dict(zip(unique_labels, colors))\n",
    "    \n",
    "    plt.figure(figsize=(10, 8))\n",
    "    \n",
    "    for i in range(len(umap_result)):\n",
    "        plt.scatter(umap_result[i, 0], umap_result[i, 1],\n",
    "                    c=[color_map[system_labels.iloc[i]]],\n",
    "                    edgecolor='k',\n",
    "                    s=100,\n",
    "                    label=system_labels.iloc[i] + ' - ' + system_labels.iloc[i] if i in [list(system_labels).index(x) for x in unique_labels] else \"\")\n",
    "    \n",
    "    plt.legend()\n",
    "    \n",
    "    plt.title(cancer+', '+phase+', '+modality, fontsize=14)\n",
    "    \n",
    "    plt.tight_layout()\n",
    "\n",
    "    plt.savefig(\n",
    "        '../results/'+phase+'/one_cncr/figures/'+phase+'_'+cancer+\n",
    "        '_'+modality+'_'+systems+'rf.png')\n",
    "    plt.show()\n",
    "    # break"
   ]
  },
  {
   "cell_type": "markdown",
   "id": "0f7ef1ca-e098-412a-87c5-8273593258ab",
   "metadata": {
    "jp-MarkdownHeadingCollapsed": true
   },
   "source": [
    "### UMAP function"
   ]
  },
  {
   "cell_type": "code",
   "execution_count": null,
   "id": "40c9562f-c4af-4e53-9aa9-48780b18fc0a",
   "metadata": {},
   "outputs": [],
   "source": [
    "# UMAP\n",
    "def umap(df, modality, )\n",
    "    features = df.drop(['Data_phase', 'Labels'], axis=1)\n",
    "    data_phase = df['Data_phase']\n",
    "    labels = df['Labels']\n",
    "    \n",
    "    umap_result = umap.UMAP(n_neighbors=15, min_dist=0.1, n_components=2, metric='euclidean').fit_transform(features)\n",
    "    unique_labels = labels.unique()\n",
    "    \n",
    "    colors = ['red', 'green']\n",
    "    color_map = dict(zip(unique_labels, colors))\n",
    "    \n",
    "    shape_dict = {'Original': 'o', 'Synthetic': '^'}\n",
    "    \n",
    "    # Begin UMAPs on n = 25\n",
    "    plt.figure(figsize=(10, 8))\n",
    "    \n",
    "    for i in range(len(umap_result)):\n",
    "        plt.scatter(umap_result[i, 0], umap_result[i, 1],\n",
    "                    c=[color_map[labels.iloc[i]]],\n",
    "                    marker=shape_dict[data_phase.iloc[i]],\n",
    "                    edgecolor='k',\n",
    "                    s=100,\n",
    "                    label=labels.iloc[i] + ' - ' + data_phase.iloc[i] if i in [list(labels).index(x) for x in unique_labels] else \"\")\n",
    "    \n",
    "    labels = list(unique_labels)\n",
    "    color_legend = [Line2D([0], [0], marker='s', color='w', label=label,\n",
    "                           markersize=10, markerfacecolor=color) for label, color in color_map.items() if label in labels]\n",
    "    \n",
    "    \n",
    "    first_legend = plt.legend(handles=color_legend, title='Labels', bbox_to_anchor=(1.05, 1), loc='upper left')\n",
    "    plt.gca().add_artist(first_legend)\n",
    "    shape_legend = [Line2D([0], [0], marker=shape, color='w', label=status,\n",
    "                           markersize=10, markerfacecolor='gray') for status, shape in shape_dict.items()]\n",
    "    plt.legend(handles=shape_legend, title='Data Phase', bbox_to_anchor=(1.05, 0.5), loc='upper left')\n",
    "    \n",
    "    plt.title(cancer+', '+data_type, fontsize=14)\n",
    "    \n",
    "    plt.tight_layout()\n",
    "    plt.savefig(f'i_o/UMAP_{v}_{systems}_{cancer}_{modality}.png',\n",
    "                bbox_inches='tight', dpi = 300) # file name, need to replace cancer name and version with auto vars\n",
    "    \n",
    "    plt.show()"
   ]
  }
 ],
 "metadata": {
  "kernelspec": {
   "display_name": "Python 3 (ipykernel)",
   "language": "python",
   "name": "python3"
  },
  "language_info": {
   "codemirror_mode": {
    "name": "ipython",
    "version": 3
   },
   "file_extension": ".py",
   "mimetype": "text/x-python",
   "name": "python",
   "nbconvert_exporter": "python",
   "pygments_lexer": "ipython3",
   "version": "3.10.8"
  }
 },
 "nbformat": 4,
 "nbformat_minor": 5
}
