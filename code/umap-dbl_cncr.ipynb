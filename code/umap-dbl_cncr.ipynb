{
 "cells": [
  {
   "cell_type": "raw",
   "id": "d39bb35b-b496-431e-affb-28405492c4d3",
   "metadata": {},
   "source": [
    "pwd\n",
    "mdl-sys-bnchmrk/code"
   ]
  },
  {
   "cell_type": "code",
   "execution_count": 1,
   "id": "8c0d97c9-e838-47dc-a8c9-957109c39b7e",
   "metadata": {},
   "outputs": [
    {
     "name": "stdout",
     "output_type": "stream",
     "text": [
      "Interactive namespace is empty.\n"
     ]
    }
   ],
   "source": [
    "%whos"
   ]
  },
  {
   "cell_type": "code",
   "execution_count": 2,
   "id": "e5bdf9dc-e6c8-4b34-adaa-e91a8fb240a1",
   "metadata": {},
   "outputs": [
    {
     "name": "stderr",
     "output_type": "stream",
     "text": [
      "/Users/karlberb/miniforge3/envs/py310tf210/lib/python3.10/site-packages/umap/distances.py:1063: NumbaDeprecationWarning: \u001b[1mThe 'nopython' keyword argument was not supplied to the 'numba.jit' decorator. The implicit default value for this argument is currently False, but it will be changed to True in Numba 0.59.0. See https://numba.readthedocs.io/en/stable/reference/deprecation.html#deprecation-of-object-mode-fall-back-behaviour-when-using-jit for details.\u001b[0m\n",
      "  @numba.jit()\n",
      "/Users/karlberb/miniforge3/envs/py310tf210/lib/python3.10/site-packages/umap/distances.py:1071: NumbaDeprecationWarning: \u001b[1mThe 'nopython' keyword argument was not supplied to the 'numba.jit' decorator. The implicit default value for this argument is currently False, but it will be changed to True in Numba 0.59.0. See https://numba.readthedocs.io/en/stable/reference/deprecation.html#deprecation-of-object-mode-fall-back-behaviour-when-using-jit for details.\u001b[0m\n",
      "  @numba.jit()\n",
      "/Users/karlberb/miniforge3/envs/py310tf210/lib/python3.10/site-packages/umap/distances.py:1086: NumbaDeprecationWarning: \u001b[1mThe 'nopython' keyword argument was not supplied to the 'numba.jit' decorator. The implicit default value for this argument is currently False, but it will be changed to True in Numba 0.59.0. See https://numba.readthedocs.io/en/stable/reference/deprecation.html#deprecation-of-object-mode-fall-back-behaviour-when-using-jit for details.\u001b[0m\n",
      "  @numba.jit()\n",
      "/Users/karlberb/miniforge3/envs/py310tf210/lib/python3.10/site-packages/umap/umap_.py:660: NumbaDeprecationWarning: \u001b[1mThe 'nopython' keyword argument was not supplied to the 'numba.jit' decorator. The implicit default value for this argument is currently False, but it will be changed to True in Numba 0.59.0. See https://numba.readthedocs.io/en/stable/reference/deprecation.html#deprecation-of-object-mode-fall-back-behaviour-when-using-jit for details.\u001b[0m\n",
      "  @numba.jit()\n"
     ]
    }
   ],
   "source": [
    "# Data handling\n",
    "import pandas as pd\n",
    "import glob as glob\n",
    "\n",
    "# UMAP\n",
    "import umap\n",
    "import matplotlib.pyplot as plt\n",
    "from matplotlib.lines import Line2D"
   ]
  },
  {
   "cell_type": "markdown",
   "id": "974dcad8-3eb2-4aed-949b-378259071f78",
   "metadata": {},
   "source": [
    "#### Read data"
   ]
  },
  {
   "cell_type": "markdown",
   "id": "fc07f0bf-460d-4ea9-bcd2-4e7573ff44b1",
   "metadata": {},
   "source": [
    "##### Input"
   ]
  },
  {
   "cell_type": "code",
   "execution_count": 61,
   "id": "a5772ff0-72b6-41c2-9827-bd5d38f97702",
   "metadata": {},
   "outputs": [
    {
     "name": "stdout",
     "output_type": "stream",
     "text": [
      "File count:  22\n"
     ]
    }
   ],
   "source": [
    "# Set input (raw data) to file set n\n",
    "phase = 'input-data'\n",
    "phase_name = 'Input data'\n",
    "pths_n = sorted(glob.glob('../results/input-data/'+r+'/'+r+'-fls/*'))\n",
    "print('File count: ', len(pths_n))"
   ]
  },
  {
   "cell_type": "code",
   "execution_count": null,
   "id": "2304b4fb-4e51-4d90-a4f4-d2f305a825c7",
   "metadata": {},
   "outputs": [],
   "source": [
    "pths_n[0]"
   ]
  },
  {
   "cell_type": "code",
   "execution_count": null,
   "id": "388aeeee-f834-4aa2-b239-5ff4f947cf56",
   "metadata": {},
   "outputs": [],
   "source": [
    "pths_n"
   ]
  },
  {
   "cell_type": "markdown",
   "id": "677f9ae9-f8bb-412b-b8f1-84440f74939c",
   "metadata": {},
   "source": [
    "###### Input name fix to n = 22, to r6"
   ]
  },
  {
   "cell_type": "code",
   "execution_count": null,
   "id": "ca91eca0-652d-490d-b809-2d760a4696bf",
   "metadata": {},
   "outputs": [],
   "source": [
    "# r6: set dashes for multipart names in file naming\n",
    "    # plus symbol to combine names, underscore for benchmark\n",
    "    # component separtaration\n",
    "# no dashes in folder names"
   ]
  },
  {
   "cell_type": "code",
   "execution_count": null,
   "id": "35d1c413-ce35-4b08-a15d-3e4443218959",
   "metadata": {},
   "outputs": [],
   "source": [
    "# Correct ordering of HCMI and CPTAC\n",
    "# Remove cell line + HCMI"
   ]
  },
  {
   "cell_type": "code",
   "execution_count": null,
   "id": "9f4fad91-1d0a-4350-b21c-bd13a1c2f61f",
   "metadata": {},
   "outputs": [],
   "source": [
    "sorted(glob.glob('../results/input-data/'+r+'/'+r+'-fls_name-order/*CPTAC+HCMI*'))"
   ]
  },
  {
   "cell_type": "code",
   "execution_count": null,
   "id": "97494a17-bf11-4920-8b75-02f2ef9e5271",
   "metadata": {},
   "outputs": [],
   "source": [
    "path_fix = '../results/input-data/r5/r5-fls/'\n",
    "sys_fix = '_transcriptomics_HCMI+CPTAC.tsv'\n",
    "for pth_n in sorted(\n",
    "    glob.glob('../results/input-data/'+r+'/'+r+'-fls_name-order/*CPTAC+HCMI*')):\n",
    "    cancer = pth_n.split('/')[-1].split('_')[0]\n",
    "    df_n = pd.read_csv(\n",
    "        pth_n, sep = '\\t', index_col = 0)\n",
    "    df_n.to_csv(path_fix+cancer+sys_fix, sep = '\\t')\n",
    "    # break"
   ]
  },
  {
   "cell_type": "markdown",
   "id": "538943b1-4e81-4bc5-88f4-03f40941aebd",
   "metadata": {},
   "source": [
    "##### Mbatch"
   ]
  },
  {
   "cell_type": "code",
   "execution_count": 64,
   "id": "ce6d1d84-8630-433c-949c-4920a277a541",
   "metadata": {},
   "outputs": [
    {
     "name": "stdout",
     "output_type": "stream",
     "text": [
      "File count:  13\n"
     ]
    }
   ],
   "source": [
    "# Set mbatch to file set n\n",
    "phase = 'mbatch-out'\n",
    "phase_name = 'Mbatch corrected'\n",
    "pths_n = sorted(glob.glob('../results/mbatch-out/'+r+'/'+r+'-fls/*'))\n",
    "print('File count: ', len(pths_n))"
   ]
  },
  {
   "cell_type": "code",
   "execution_count": null,
   "id": "b2371468-e694-4bb0-a728-db9e732f2395",
   "metadata": {},
   "outputs": [],
   "source": [
    "pths_n[0]"
   ]
  },
  {
   "cell_type": "code",
   "execution_count": null,
   "id": "52021b74-f7b9-4121-a7db-58d51cd83e03",
   "metadata": {},
   "outputs": [],
   "source": [
    "pths_n"
   ]
  },
  {
   "cell_type": "code",
   "execution_count": null,
   "id": "dd2375ae-3527-46bb-8fe2-80a5ea7cd634",
   "metadata": {},
   "outputs": [],
   "source": [
    "len(pths_n)"
   ]
  },
  {
   "cell_type": "code",
   "execution_count": null,
   "id": "da057eee-f88c-4fd1-9fa0-1c3a9e3055bb",
   "metadata": {},
   "outputs": [],
   "source": [
    "# 22 inp, 13 mbatch, 22 vae"
   ]
  },
  {
   "cell_type": "markdown",
   "id": "c370fd56-d11d-40a6-8035-c565e8bc5a72",
   "metadata": {},
   "source": [
    "##### VAE"
   ]
  },
  {
   "cell_type": "markdown",
   "id": "b9b86c7c-d706-487d-a89e-051ca52f5123",
   "metadata": {
    "jp-MarkdownHeadingCollapsed": true
   },
   "source": [
    "###### Tybalt"
   ]
  },
  {
   "cell_type": "code",
   "execution_count": 68,
   "id": "36ee792e-a7fa-4121-8346-bfdf879c0763",
   "metadata": {},
   "outputs": [
    {
     "name": "stdout",
     "output_type": "stream",
     "text": [
      "File count:  22\n"
     ]
    }
   ],
   "source": [
    "# Set vae to file set n\n",
    "phase = 'vae-out'\n",
    "phase_name = 'VAE corrected'\n",
    "pths_n = sorted(glob.glob('../results/vae-out/'+r+'/'+r+'-fls/*.tsv'))\n",
    "print('File count: ', len(pths_n))"
   ]
  },
  {
   "cell_type": "code",
   "execution_count": 72,
   "id": "2bb5fe0c-1117-4204-a4f4-1d2bf0764025",
   "metadata": {},
   "outputs": [
    {
     "name": "stdout",
     "output_type": "stream",
     "text": [
      "File count:  22\n"
     ]
    }
   ],
   "source": [
    "# Set vae to file set n\n",
    "phase = 'dann-out'\n",
    "phase_name = 'DANN corrected'\n",
    "pths_n = sorted(glob.glob('../results/vae-out/'+r+'/'+r+'_dann/*.tsv'))\n",
    "print('File count: ', len(pths_n))"
   ]
  },
  {
   "cell_type": "markdown",
   "id": "5f58e504-2f24-4bdc-a3cd-f35664921153",
   "metadata": {
    "jp-MarkdownHeadingCollapsed": true
   },
   "source": [
    "###### Bash file renaming"
   ]
  },
  {
   "cell_type": "code",
   "execution_count": null,
   "id": "e0174a82-0344-47d5-9491-6dddb10d3b49",
   "metadata": {},
   "outputs": [],
   "source": [
    "for file in *_latent_space.dann-out.32-ltnt-dim.tsv; do \n",
    "  mv \"$file\" \"${file/_latent_space/}\" \n",
    "done"
   ]
  },
  {
   "cell_type": "code",
   "execution_count": null,
   "id": "81e7a4ef-d4bc-46d6-8a29-4d8276765cef",
   "metadata": {},
   "outputs": [],
   "source": [
    "pths_n[0]"
   ]
  },
  {
   "cell_type": "code",
   "execution_count": null,
   "id": "e54cefa2-1791-46c2-b5cb-36bc25e77c55",
   "metadata": {},
   "outputs": [],
   "source": [
    "pths_n"
   ]
  },
  {
   "cell_type": "markdown",
   "id": "9ad56551-4f29-4f75-8c3f-2caa23ee1eb3",
   "metadata": {
    "jp-MarkdownHeadingCollapsed": true
   },
   "source": [
    "###### VAE file name fix notes"
   ]
  },
  {
   "cell_type": "code",
   "execution_count": null,
   "id": "100df8ae-e12a-4d72-8d8c-de5fe9ae5795",
   "metadata": {},
   "outputs": [],
   "source": [
    "mv *cell-line+HCMI* cl_hc"
   ]
  },
  {
   "cell_type": "code",
   "execution_count": null,
   "id": "53022850-4e36-47d0-8d81-2ae3497da9e6",
   "metadata": {},
   "outputs": [],
   "source": [
    "sorted(glob.glob('../results/vae-out/'+r+'/'+r+'-fls_name-order/*CPTAC+HCMI*'))"
   ]
  },
  {
   "cell_type": "code",
   "execution_count": null,
   "id": "c7941924-c836-4804-bff2-e6e1fc94a59e",
   "metadata": {},
   "outputs": [],
   "source": [
    "path_fix = '../results/vae-out/r5/r5-fls/'\n",
    "sys_fix = '_transcriptomics_HCMI+CPTAC.tsv'\n",
    "for pth_n in sorted(\n",
    "    glob.glob('../results/vae-out/'+r+'/'+r+'-fls_name-order/*CPTAC+HCMI*')):\n",
    "    cancer = pth_n.split('/')[-1].split('_')[0]\n",
    "    df_n = pd.read_csv(\n",
    "        pth_n, sep = '\\t', index_col = 0)\n",
    "    df_n.to_csv(path_fix+cancer+sys_fix, sep = '\\t')\n",
    "    break"
   ]
  },
  {
   "cell_type": "code",
   "execution_count": null,
   "id": "d90ad532-36b0-4cc7-92fd-ba7e63934ca8",
   "metadata": {},
   "outputs": [],
   "source": [
    "mv *CPTAC+HCMI* cl_hc"
   ]
  },
  {
   "cell_type": "code",
   "execution_count": null,
   "id": "183b7178-c9ca-4789-8b5e-85ccda4c125d",
   "metadata": {},
   "outputs": [],
   "source": [
    "ls ../results/vae-out/r5/r5-fls_name-order/"
   ]
  },
  {
   "cell_type": "code",
   "execution_count": null,
   "id": "a41ae803-842d-4bb2-854d-60b6c66e1628",
   "metadata": {},
   "outputs": [],
   "source": [
    "sorted(glob.glob('../results/vae-out/'+r+'/'+r+'-fls_name-order/*transcriptomics_cell-line+CPTAC_250*'))"
   ]
  },
  {
   "cell_type": "code",
   "execution_count": null,
   "id": "a9613705-e020-49ec-86ad-ff900229f76d",
   "metadata": {},
   "outputs": [],
   "source": [
    "path_fix = '../results/vae-out/r5/r5-fls/'\n",
    "sys_fix = '_transcriptomics_cell-line+CPTAC.tsv'\n",
    "for pth_n in sorted(\n",
    "    glob.glob('../results/vae-out/'+r+'/'+r+'-fls_name-order/*transcriptomics_cell-line+CPTAC_250*')):\n",
    "    cancer = pth_n.split('/')[-1].split('_')[0]\n",
    "    df_n = pd.read_csv(\n",
    "        pth_n, sep = '\\t', index_col = 0)\n",
    "    df_n.to_csv(path_fix+cancer+sys_fix, sep = '\\t')\n",
    "    # break"
   ]
  },
  {
   "cell_type": "code",
   "execution_count": null,
   "id": "ea4396c0-0ff8-4045-88d2-bef9b6a5eb7c",
   "metadata": {},
   "outputs": [],
   "source": [
    "path_fix = '../results/vae-out/r5/r5-fls/'\n",
    "sys_fix = '_proteomics_cell-line+CPTAC.tsv'\n",
    "for pth_n in sorted(\n",
    "    glob.glob('../results/vae-out/'+r+'/'+r+'-fls_name-order/*proteomics_cell-line+CPTAC_250*')):\n",
    "    cancer = pth_n.split('/')[-1].split('_')[0]\n",
    "    df_n = pd.read_csv(\n",
    "        pth_n, sep = '\\t', index_col = 0)\n",
    "    df_n.to_csv(path_fix+cancer+sys_fix, sep = '\\t')"
   ]
  },
  {
   "cell_type": "code",
   "execution_count": null,
   "id": "da577345-d9a6-4930-9621-f987f2f3d632",
   "metadata": {},
   "outputs": [],
   "source": [
    "# AML manual move and remove training info, 2 files - done\n",
    "# Done - 22 file fixes complete"
   ]
  },
  {
   "cell_type": "markdown",
   "id": "dc85303e-05c4-471c-b16c-01fb2bb33aec",
   "metadata": {},
   "source": [
    "#### Continue"
   ]
  },
  {
   "cell_type": "code",
   "execution_count": 13,
   "id": "40c98904-5033-44f9-9c3c-427fd4b48180",
   "metadata": {},
   "outputs": [
    {
     "name": "stdout",
     "output_type": "stream",
     "text": [
      "colon-nos-adeno_transcriptomics_HCMI+CPTAC.latent_space.tsv\n",
      "colon-nos-adeno_transcriptomics_HCMI+CPTAC.loss_history.tsv\n",
      "colon-nos-adeno_transcriptomics_HCMI+CPTAC.vae.umap.png\n",
      "\u001b[34mdbl\u001b[m\u001b[m/\n"
     ]
    }
   ],
   "source": [
    "ls ../results/r7/"
   ]
  },
  {
   "cell_type": "code",
   "execution_count": 10,
   "id": "d3dbc047-9084-46bb-9e19-34b27d1790f9",
   "metadata": {},
   "outputs": [],
   "source": [
    "phase = 'vae'"
   ]
  },
  {
   "cell_type": "code",
   "execution_count": 3,
   "id": "a4d6d7ad-4199-48e6-8821-67aebba2bf3c",
   "metadata": {},
   "outputs": [],
   "source": [
    "pths_n = sorted(glob.glob('../results/r7/dbl/*'))"
   ]
  },
  {
   "cell_type": "code",
   "execution_count": 21,
   "id": "6ef640db-b47c-4666-8f14-f50e6a97d394",
   "metadata": {},
   "outputs": [
    {
     "name": "stdout",
     "output_type": "stream",
     "text": [
      "0\n",
      "colon-nos-adeno pancreatic-nos-ductal-ad transcriptomics HCMI+CPTAC\n"
     ]
    },
    {
     "data": {
      "image/png": "[encoded data removed]",
      "text/plain": [
       "<Figure size 500x400 with 1 Axes>"
      ]
     },
     "metadata": {},
     "output_type": "display_data"
    }
   ],
   "source": [
    "# UMAP Double cancer\n",
    "for pi, pth_n in enumerate(pths_n):\n",
    "    print(pi)\n",
    "    # break\n",
    "    cancer_1 = pth_n.split('/')[-1].split('_')[0]\n",
    "    cancer_2 = pth_n.split('/')[-1].split('_')[2]\n",
    "    modality = pth_n.split('/')[-1].split('_')[1]\n",
    "                                             # remove file extension\n",
    "    systems = pth_n.split('/')[-1].split('_')[4].split('.')[0]\n",
    "    print(cancer_1, cancer_2, modality, systems)\n",
    "\n",
    "    df_n = pd.read_csv(\n",
    "        pth_n, sep = '\\t', index_col = 0)\n",
    "    features = df_n.drop(\n",
    "        ['System', 'Cancer_type'], axis=1)\n",
    "    system_labels = df_n['System']\n",
    "    \n",
    "    umap_result = umap.UMAP(\n",
    "        n_neighbors=15, min_dist=0.1, n_components=2, metric='euclidean').fit_transform(features)\n",
    "    unique_labels = system_labels.unique()\n",
    "\n",
    "    colors = ['orange', 'blue'] # add a unique color for each\n",
    "                                # model system (?)\n",
    "    color_map = dict(zip(unique_labels, colors))\n",
    "\n",
    "    plt.figure(figsize=(5, 4))\n",
    "    \n",
    "    for i in range(len(umap_result)):\n",
    "        plt.scatter(umap_result[i, 0], umap_result[i, 1],\n",
    "                    c=[color_map[system_labels.iloc[i]]],\n",
    "                    edgecolor='k',\n",
    "                    s=100,\n",
    "                    label=\n",
    "                    # system_labels.iloc[i]\n",
    "                    # + ' - ' + \n",
    "                    system_labels.iloc[i] if i in [list(system_labels).index(x) for x in unique_labels] else \"\"\n",
    "                   )\n",
    "    \n",
    "    plt.legend()\n",
    "    \n",
    "    plt.title(cancer_1+'_'+cancer_2+', '+phase+', '+modality, fontsize=14)\n",
    "    pad = 2\n",
    "    plt.xlabel('UMAP 1', size = 12, labelpad=pad)\n",
    "    plt.ylabel('UMAP 2', size = 12, labelpad=pad)\n",
    "    plt.tight_layout()\n",
    "    # plt.savefig(\n",
    "    #     '../results/r7/'+\n",
    "    #     cancer_1+'_'+cancer_2+'_'modality+'_'+systems+\n",
    "    #     '.'+phase+'.umap.png', dpi = 300)\n",
    "    \n",
    "    plt.show()\n",
    "    plt.close()\n",
    "    # break"
   ]
  },
  {
   "cell_type": "code",
   "execution_count": null,
   "id": "3762758d-1e97-4085-831b-76c03ec1bca8",
   "metadata": {},
   "outputs": [],
   "source": [
    "df_n"
   ]
  },
  {
   "cell_type": "markdown",
   "id": "229d547e-19b8-4886-9aaa-483aacca3b61",
   "metadata": {},
   "source": [
    "#### Markdown table devel"
   ]
  },
  {
   "cell_type": "markdown",
   "id": "d70bb4fe-2afe-4ce4-9da6-fa6147bda76b",
   "metadata": {},
   "source": [
    "| Cancer_type | Data_modality | Model_system |\n",
    "|---|---|---|\n",
    "| Lung | Transcriptomics | BeatAML |\n",
    "| Brain | Proteomics | Cell line |\n",
    "| Pancreas | Copy number | CPTAC | \n",
    "|   | Mutation | HCMI |\n",
    "|  |  |  |\n",
    "|  |  |  |\n",
    "|  |  |  | "
   ]
  },
  {
   "cell_type": "markdown",
   "id": "ed996315-a6b1-4f62-b2b6-c196555a6023",
   "metadata": {
    "jupyter": {
     "source_hidden": true
    }
   },
   "source": [
    "| Cancer_type | Data_modality | Model_system |\n",
    "|---|---|---|\n",
    "| Lung | Transcriptomics | BeatAML |\n",
    "| Lung | Proteomics | Cell line |\n",
    "| Lung | Copy number | CPTAC | \n",
    "| Lung | Mutation | HCMI |\n",
    "| Brain | Transcriptomics | BeatAML |\n",
    "| Brain | Proteomics | Cell line |\n",
    "| Brain | Copy number | CPTAC | \n",
    "| Brain | Mutation | HCMI |\n",
    "| Pancreas | Transcriptomics | BeatAML |\n",
    "| Pancreas | Proteomics | Cell line |\n",
    "| Pancreas | Copy number | CPTAC | \n",
    "| Pancreas | Mutation | HCMI |"
   ]
  },
  {
   "cell_type": "markdown",
   "id": "37cd628e-02fd-4a76-8b17-b6b7fa8e275a",
   "metadata": {},
   "source": []
  }
 ],
 "metadata": {
  "kernelspec": {
   "display_name": "Python 3 (ipykernel)",
   "language": "python",
   "name": "python3"
  },
  "language_info": {
   "codemirror_mode": {
    "name": "ipython",
    "version": 3
   },
   "file_extension": ".py",
   "mimetype": "text/x-python",
   "name": "python",
   "nbconvert_exporter": "python",
   "pygments_lexer": "ipython3",
   "version": "3.10.8"
  }
 },
 "nbformat": 4,
 "nbformat_minor": 5
}
