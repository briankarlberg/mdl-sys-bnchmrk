{
 "cells": [
  {
   "cell_type": "code",
   "execution_count": null,
   "id": "c5f652de-1cd8-4aa6-9036-55118ab7408b",
   "metadata": {},
   "outputs": [],
   "source": [
    "# r = 'r72'\n",
    "r = 'r8'"
   ]
  },
  {
   "cell_type": "code",
   "execution_count": 2,
   "id": "7665b182-c37a-409e-bc5c-27594d1b0c93",
   "metadata": {},
   "outputs": [
    {
     "name": "stdout",
     "output_type": "stream",
     "text": [
      "Variable   Type    Data/Info\n",
      "----------------------------\n",
      "r          str     r8\n"
     ]
    }
   ],
   "source": [
    "%whos"
   ]
  },
  {
   "cell_type": "code",
   "execution_count": 3,
   "id": "a943d81c-78a4-4776-8d50-b83cb8934fe8",
   "metadata": {},
   "outputs": [],
   "source": [
    "import pandas as pd\n",
    "import glob"
   ]
  },
  {
   "cell_type": "code",
   "execution_count": 8,
   "id": "67d6d5a3-6c04-4c69-81f8-e39f0f9ceefc",
   "metadata": {},
   "outputs": [
    {
     "name": "stdout",
     "output_type": "stream",
     "text": [
      "nc2_transcriptomics_HCMI+CPTAC.input-data.tsv\n",
      "nc5_transcriptomics_cell-line+CPTAC.input-data.tsv\n"
     ]
    }
   ],
   "source": [
    "ls ../data/r72/"
   ]
  },
  {
   "cell_type": "code",
   "execution_count": 4,
   "id": "ad9d30e9-f0a6-4a4e-a0c2-a0997e3be2db",
   "metadata": {},
   "outputs": [
    {
     "name": "stdout",
     "output_type": "stream",
     "text": [
      "AML_proteomics_cell-line+BeatAML.tsv\n",
      "AML_transcriptomics_cell-line+BeatAML.tsv\n",
      "colon-adeno_proteomics_cell-line+CPTAC.tsv\n",
      "glioblastoma_proteomics_cell-line+CPTAC.tsv\n",
      "lung-adeno_proteomics_cell-line+CPTAC.tsv\n",
      "nc3a_proteomics_cell-line+CPTAC.tsv\n",
      "nc3b_proteomics_cell-line+CPTAC.tsv\n",
      "nc3c_proteomics_cell-line+CPTAC.tsv\n",
      "nc3d_proteomics_cell-line+CPTAC.tsv\n",
      "nc4_proteomics_cell-line+CPTAC.tsv\n",
      "pancreatic-adeno_proteomics_cell-line+CPTAC.tsv\n"
     ]
    }
   ],
   "source": [
    "ls ../data/r8/"
   ]
  },
  {
   "cell_type": "code",
   "execution_count": null,
   "id": "3eb6d04f-9a06-46c9-a091-5515e3652aca",
   "metadata": {},
   "outputs": [],
   "source": [
    "n_2 = sorted(\n",
    "    glob.glob(\n",
    "        '../data/r72/*'), reverse = True)"
   ]
  },
  {
   "cell_type": "code",
   "execution_count": 9,
   "id": "bbebddc8-b3c9-43d8-8273-e387edb023eb",
   "metadata": {},
   "outputs": [],
   "source": [
    "nc5 = sorted(\n",
    "    glob.glob(\n",
    "        '../data/r72/nc5*'), reverse = True)"
   ]
  },
  {
   "cell_type": "code",
   "execution_count": 5,
   "id": "beace838-110e-4c3a-9698-86c7fae0970c",
   "metadata": {},
   "outputs": [],
   "source": [
    "prot_n = sorted(\n",
    "    glob.glob(\n",
    "        '../data/r8/nc*'), reverse = True)"
   ]
  },
  {
   "cell_type": "code",
   "execution_count": 53,
   "id": "666c8cd6-3146-4528-a6e9-e05528198f2f",
   "metadata": {},
   "outputs": [
    {
     "data": {
      "text/plain": [
       "['../data/r8/nc4_proteomics_cell-line+CPTAC.tsv',\n",
       " '../data/r8/nc3d_proteomics_cell-line+CPTAC.tsv',\n",
       " '../data/r8/nc3c_proteomics_cell-line+CPTAC.tsv',\n",
       " '../data/r8/nc3b_proteomics_cell-line+CPTAC.tsv',\n",
       " '../data/r8/nc3a_proteomics_cell-line+CPTAC.tsv']"
      ]
     },
     "execution_count": 53,
     "metadata": {},
     "output_type": "execute_result"
    }
   ],
   "source": [
    "prot_n"
   ]
  },
  {
   "cell_type": "markdown",
   "id": "395c7c30-36a2-4c6d-85e7-9e32b9f86a5b",
   "metadata": {},
   "source": [
    "#### Joint embedding"
   ]
  },
  {
   "cell_type": "code",
   "execution_count": 18,
   "id": "a9382c2f-040e-4b9e-85e5-1a4828791866",
   "metadata": {},
   "outputs": [],
   "source": [
    "nc4df = pd.read_csv(prot_n[0],\n",
    "                        sep = '\\t', index_col = 0)"
   ]
  },
  {
   "cell_type": "code",
   "execution_count": 39,
   "id": "30e362bc-7f71-49f7-a9ec-c5829da20275",
   "metadata": {},
   "outputs": [
    {
     "data": {
      "text/plain": [
       "(500, 3830)"
      ]
     },
     "execution_count": 39,
     "metadata": {},
     "output_type": "execute_result"
    }
   ],
   "source": [
    "nc4df.shape"
   ]
  },
  {
   "cell_type": "code",
   "execution_count": 20,
   "id": "a474eeca-2db7-449f-999a-1cedd7bd3375",
   "metadata": {},
   "outputs": [
    {
     "data": {
      "text/html": [
       "<div>\n",
       "<style scoped>\n",
       "    .dataframe tbody tr th:only-of-type {\n",
       "        vertical-align: middle;\n",
       "    }\n",
       "\n",
       "    .dataframe tbody tr th {\n",
       "        vertical-align: top;\n",
       "    }\n",
       "\n",
       "    .dataframe thead th {\n",
       "        text-align: right;\n",
       "    }\n",
       "</style>\n",
       "<table border=\"1\" class=\"dataframe\">\n",
       "  <thead>\n",
       "    <tr style=\"text-align: right;\">\n",
       "      <th></th>\n",
       "      <th>System</th>\n",
       "      <th>Cancer_type</th>\n",
       "      <th>entrz_prot_2</th>\n",
       "      <th>entrz_prot_14</th>\n",
       "    </tr>\n",
       "    <tr>\n",
       "      <th>improve_sample_id</th>\n",
       "      <th></th>\n",
       "      <th></th>\n",
       "      <th></th>\n",
       "      <th></th>\n",
       "    </tr>\n",
       "  </thead>\n",
       "  <tbody>\n",
       "    <tr>\n",
       "      <th>smpl_id_22</th>\n",
       "      <td>cell-line</td>\n",
       "      <td>pancreatic-adeno</td>\n",
       "      <td>-0.545773</td>\n",
       "      <td>0.861017</td>\n",
       "    </tr>\n",
       "    <tr>\n",
       "      <th>smpl_id_41</th>\n",
       "      <td>cell-line</td>\n",
       "      <td>pancreatic-adeno</td>\n",
       "      <td>-1.542713</td>\n",
       "      <td>0.236735</td>\n",
       "    </tr>\n",
       "    <tr>\n",
       "      <th>smpl_id_113</th>\n",
       "      <td>cell-line</td>\n",
       "      <td>pancreatic-adeno</td>\n",
       "      <td>-1.167143</td>\n",
       "      <td>-0.579061</td>\n",
       "    </tr>\n",
       "    <tr>\n",
       "      <th>smpl_id_117</th>\n",
       "      <td>cell-line</td>\n",
       "      <td>pancreatic-adeno</td>\n",
       "      <td>-0.256381</td>\n",
       "      <td>-0.203389</td>\n",
       "    </tr>\n",
       "  </tbody>\n",
       "</table>\n",
       "</div>"
      ],
      "text/plain": [
       "                      System       Cancer_type  entrz_prot_2  entrz_prot_14\n",
       "improve_sample_id                                                          \n",
       "smpl_id_22         cell-line  pancreatic-adeno     -0.545773       0.861017\n",
       "smpl_id_41         cell-line  pancreatic-adeno     -1.542713       0.236735\n",
       "smpl_id_113        cell-line  pancreatic-adeno     -1.167143      -0.579061\n",
       "smpl_id_117        cell-line  pancreatic-adeno     -0.256381      -0.203389"
      ]
     },
     "execution_count": 20,
     "metadata": {},
     "output_type": "execute_result"
    }
   ],
   "source": [
    "nc4df.iloc[:4, :4]"
   ]
  },
  {
   "cell_type": "code",
   "execution_count": 10,
   "id": "1fe44e45-36ae-4297-922c-0a9067dc679c",
   "metadata": {},
   "outputs": [
    {
     "data": {
      "text/plain": [
       "['../data/r72/nc5_transcriptomics_cell-line+CPTAC.input-data.tsv']"
      ]
     },
     "execution_count": 10,
     "metadata": {},
     "output_type": "execute_result"
    }
   ],
   "source": [
    "nc5"
   ]
  },
  {
   "cell_type": "code",
   "execution_count": 14,
   "id": "dcd56f5a-6a4a-448e-a285-f3db98d9d4a9",
   "metadata": {},
   "outputs": [],
   "source": [
    "nc5df = pd.read_csv(nc5[0],\n",
    "                        sep = '\\t', index_col = 0)"
   ]
  },
  {
   "cell_type": "code",
   "execution_count": 40,
   "id": "549dc7e9-9d7f-4866-8461-125eaba9ec1e",
   "metadata": {},
   "outputs": [
    {
     "data": {
      "text/plain": [
       "(827, 19133)"
      ]
     },
     "execution_count": 40,
     "metadata": {},
     "output_type": "execute_result"
    }
   ],
   "source": [
    "nc5df.shape"
   ]
  },
  {
   "cell_type": "code",
   "execution_count": 31,
   "id": "faac3d43-7f6b-4646-ab6a-8cf5fdede794",
   "metadata": {},
   "outputs": [
    {
     "data": {
      "text/html": [
       "<div>\n",
       "<style scoped>\n",
       "    .dataframe tbody tr th:only-of-type {\n",
       "        vertical-align: middle;\n",
       "    }\n",
       "\n",
       "    .dataframe tbody tr th {\n",
       "        vertical-align: top;\n",
       "    }\n",
       "\n",
       "    .dataframe thead th {\n",
       "        text-align: right;\n",
       "    }\n",
       "</style>\n",
       "<table border=\"1\" class=\"dataframe\">\n",
       "  <thead>\n",
       "    <tr style=\"text-align: right;\">\n",
       "      <th></th>\n",
       "      <th>System</th>\n",
       "      <th>Cancer_type</th>\n",
       "      <th>entrz_tran_1</th>\n",
       "      <th>entrz_tran_2</th>\n",
       "    </tr>\n",
       "    <tr>\n",
       "      <th>improve_sample_id</th>\n",
       "      <th></th>\n",
       "      <th></th>\n",
       "      <th></th>\n",
       "      <th></th>\n",
       "    </tr>\n",
       "  </thead>\n",
       "  <tbody>\n",
       "    <tr>\n",
       "      <th>smpl_id_2787</th>\n",
       "      <td>cptac</td>\n",
       "      <td>pancreatic-adeno</td>\n",
       "      <td>5.010000</td>\n",
       "      <td>14.410000</td>\n",
       "    </tr>\n",
       "    <tr>\n",
       "      <th>smpl_id_28</th>\n",
       "      <td>cell-line</td>\n",
       "      <td>lung-adeno</td>\n",
       "      <td>0.411426</td>\n",
       "      <td>0.214125</td>\n",
       "    </tr>\n",
       "    <tr>\n",
       "      <th>smpl_id_280</th>\n",
       "      <td>cell-line</td>\n",
       "      <td>pancreatic-adeno</td>\n",
       "      <td>0.238787</td>\n",
       "      <td>0.070389</td>\n",
       "    </tr>\n",
       "    <tr>\n",
       "      <th>smpl_id_281</th>\n",
       "      <td>cell-line</td>\n",
       "      <td>lung-adeno</td>\n",
       "      <td>4.458119</td>\n",
       "      <td>0.056584</td>\n",
       "    </tr>\n",
       "    <tr>\n",
       "      <th>smpl_id_282</th>\n",
       "      <td>cell-line</td>\n",
       "      <td>glioblastoma</td>\n",
       "      <td>0.014355</td>\n",
       "      <td>0.124328</td>\n",
       "    </tr>\n",
       "    <tr>\n",
       "      <th>smpl_id_288</th>\n",
       "      <td>cell-line</td>\n",
       "      <td>glioblastoma</td>\n",
       "      <td>1.744161</td>\n",
       "      <td>4.491212</td>\n",
       "    </tr>\n",
       "    <tr>\n",
       "      <th>smpl_id_2891</th>\n",
       "      <td>cptac</td>\n",
       "      <td>renal-clear-cell</td>\n",
       "      <td>5.330000</td>\n",
       "      <td>15.850000</td>\n",
       "    </tr>\n",
       "    <tr>\n",
       "      <th>smpl_id_2892</th>\n",
       "      <td>cptac</td>\n",
       "      <td>renal-clear-cell</td>\n",
       "      <td>4.960000</td>\n",
       "      <td>15.870000</td>\n",
       "    </tr>\n",
       "  </tbody>\n",
       "</table>\n",
       "</div>"
      ],
      "text/plain": [
       "                      System       Cancer_type  entrz_tran_1  entrz_tran_2\n",
       "improve_sample_id                                                         \n",
       "smpl_id_2787           cptac  pancreatic-adeno      5.010000     14.410000\n",
       "smpl_id_28         cell-line        lung-adeno      0.411426      0.214125\n",
       "smpl_id_280        cell-line  pancreatic-adeno      0.238787      0.070389\n",
       "smpl_id_281        cell-line        lung-adeno      4.458119      0.056584\n",
       "smpl_id_282        cell-line      glioblastoma      0.014355      0.124328\n",
       "smpl_id_288        cell-line      glioblastoma      1.744161      4.491212\n",
       "smpl_id_2891           cptac  renal-clear-cell      5.330000     15.850000\n",
       "smpl_id_2892           cptac  renal-clear-cell      4.960000     15.870000"
      ]
     },
     "execution_count": 31,
     "metadata": {},
     "output_type": "execute_result"
    }
   ],
   "source": [
    "nc5df.iloc[540:548, :4]"
   ]
  },
  {
   "cell_type": "code",
   "execution_count": 19,
   "id": "3e820fde-430e-4222-86df-01516a5a20cc",
   "metadata": {},
   "outputs": [
    {
     "data": {
      "text/plain": [
       "array(['pancreatic-adeno', 'glioblastoma', 'colon-adeno', 'lung-adeno'],\n",
       "      dtype=object)"
      ]
     },
     "execution_count": 19,
     "metadata": {},
     "output_type": "execute_result"
    }
   ],
   "source": [
    "nc4df.Cancer_type.unique()"
   ]
  },
  {
   "cell_type": "code",
   "execution_count": 16,
   "id": "92bf6984-bca5-42be-8970-5f6d75b71665",
   "metadata": {},
   "outputs": [
    {
     "data": {
      "text/plain": [
       "array(['glioblastoma', 'colon-adeno', 'pancreatic-adeno', 'lung-adeno',\n",
       "       'renal-clear-cell'], dtype=object)"
      ]
     },
     "execution_count": 16,
     "metadata": {},
     "output_type": "execute_result"
    }
   ],
   "source": [
    "nc5df.Cancer_type.unique()"
   ]
  },
  {
   "cell_type": "code",
   "execution_count": null,
   "id": "0362f976-cce6-4e50-a732-26ab9e102bca",
   "metadata": {},
   "outputs": [],
   "source": [
    "# obersve: No renal cell for transcriptomics"
   ]
  },
  {
   "cell_type": "code",
   "execution_count": 24,
   "id": "68fea440-640e-4981-a678-f54e90b7efd4",
   "metadata": {},
   "outputs": [
    {
     "data": {
      "text/plain": [
       "System\n",
       "cptac        407\n",
       "cell-line     93\n",
       "Name: count, dtype: int64"
      ]
     },
     "execution_count": 24,
     "metadata": {},
     "output_type": "execute_result"
    }
   ],
   "source": [
    "nc4df.System.value_counts()"
   ]
  },
  {
   "cell_type": "code",
   "execution_count": 21,
   "id": "dec181e9-82c5-4ad4-a7ad-af01e7aa7e01",
   "metadata": {},
   "outputs": [
    {
     "data": {
      "text/plain": [
       "Cancer_type\n",
       "lung-adeno          143\n",
       "colon-adeno         125\n",
       "pancreatic-adeno    123\n",
       "glioblastoma        109\n",
       "Name: count, dtype: int64"
      ]
     },
     "execution_count": 21,
     "metadata": {},
     "output_type": "execute_result"
    }
   ],
   "source": [
    "nc4df.Cancer_type.value_counts()"
   ]
  },
  {
   "cell_type": "code",
   "execution_count": 23,
   "id": "4b9ff59a-7910-48ff-8291-32e38f184672",
   "metadata": {},
   "outputs": [
    {
     "data": {
      "text/plain": [
       "System\n",
       "cptac        566\n",
       "cell-line    261\n",
       "Name: count, dtype: int64"
      ]
     },
     "execution_count": 23,
     "metadata": {},
     "output_type": "execute_result"
    }
   ],
   "source": [
    "nc5df.System.value_counts()"
   ]
  },
  {
   "cell_type": "code",
   "execution_count": 22,
   "id": "cf6dd3ec-25a5-499c-8810-cec5430e93a5",
   "metadata": {},
   "outputs": [
    {
     "data": {
      "text/plain": [
       "Cancer_type\n",
       "pancreatic-adeno    195\n",
       "lung-adeno          188\n",
       "colon-adeno         165\n",
       "glioblastoma        152\n",
       "renal-clear-cell    127\n",
       "Name: count, dtype: int64"
      ]
     },
     "execution_count": 22,
     "metadata": {},
     "output_type": "execute_result"
    }
   ],
   "source": [
    "nc5df.Cancer_type.value_counts()"
   ]
  },
  {
   "cell_type": "code",
   "execution_count": 34,
   "id": "4c623453-6f2d-4231-babc-170a4981617c",
   "metadata": {},
   "outputs": [],
   "source": [
    "nc4df_tran = nc5df[nc5df.Cancer_type != 'renal-clear-cell']"
   ]
  },
  {
   "cell_type": "code",
   "execution_count": null,
   "id": "2d45bae0-09f9-474e-bda9-76b663e46ea1",
   "metadata": {},
   "outputs": [],
   "source": [
    "isect = src.columns.intersection(dst.columns)"
   ]
  },
  {
   "cell_type": "code",
   "execution_count": null,
   "id": "3e742b48-ed78-4b94-aecf-ca41fafc5ba2",
   "metadata": {},
   "outputs": [],
   "source": [
    ", axis=0, join='inner'"
   ]
  },
  {
   "cell_type": "code",
   "execution_count": 45,
   "id": "f32c7164-9724-4fa1-a752-168d81093b35",
   "metadata": {},
   "outputs": [],
   "source": [
    "nc4_tran_prot = pd.concat([nc4df_tran, nc4df.iloc[:, 2:]], axis=1, join='inner')"
   ]
  },
  {
   "cell_type": "code",
   "execution_count": 46,
   "id": "b33b7dcc-ad75-4896-9cc5-04ff3240df95",
   "metadata": {},
   "outputs": [
    {
     "data": {
      "text/plain": [
       "3830"
      ]
     },
     "execution_count": 46,
     "metadata": {},
     "output_type": "execute_result"
    }
   ],
   "source": [
    "22963 - 19133"
   ]
  },
  {
   "cell_type": "code",
   "execution_count": null,
   "id": "e62e16b3-3e3e-4b20-a5e8-0dfb5d5e4660",
   "metadata": {},
   "outputs": [],
   "source": [
    "nc4_tran_prot"
   ]
  },
  {
   "cell_type": "code",
   "execution_count": 49,
   "id": "856b0710-99e7-4fab-aa17-eef6366488ff",
   "metadata": {},
   "outputs": [
    {
     "data": {
      "text/plain": [
       "System\n",
       "cptac        406\n",
       "cell-line     90\n",
       "Name: count, dtype: int64"
      ]
     },
     "execution_count": 49,
     "metadata": {},
     "output_type": "execute_result"
    }
   ],
   "source": [
    "nc4_tran_prot.System.value_counts()"
   ]
  },
  {
   "cell_type": "code",
   "execution_count": 50,
   "id": "58a52daf-b246-4e9d-926e-1a2441638068",
   "metadata": {},
   "outputs": [
    {
     "data": {
      "text/plain": [
       "Cancer_type\n",
       "lung-adeno          142\n",
       "colon-adeno         123\n",
       "pancreatic-adeno    122\n",
       "glioblastoma        109\n",
       "Name: count, dtype: int64"
      ]
     },
     "execution_count": 50,
     "metadata": {},
     "output_type": "execute_result"
    }
   ],
   "source": [
    "nc4_tran_prot.Cancer_type.value_counts()"
   ]
  },
  {
   "cell_type": "code",
   "execution_count": 51,
   "id": "1fd7487c-857d-4ddf-acec-72b656ddd0c6",
   "metadata": {},
   "outputs": [
    {
     "data": {
      "text/plain": [
       "Cancer_type\n",
       "lung-adeno          36\n",
       "colon-adeno         27\n",
       "pancreatic-adeno    17\n",
       "glioblastoma        10\n",
       "Name: count, dtype: int64"
      ]
     },
     "execution_count": 51,
     "metadata": {},
     "output_type": "execute_result"
    }
   ],
   "source": [
    "nc4_tran_prot[nc4_tran_prot.System == 'cell-line'].Cancer_type.value_counts()"
   ]
  },
  {
   "cell_type": "code",
   "execution_count": 55,
   "id": "21813509-5ec0-4543-b595-a23cd3a7ff9a",
   "metadata": {},
   "outputs": [
    {
     "name": "stdout",
     "output_type": "stream",
     "text": [
      "AML_proteomics_cell-line+BeatAML.tsv\n",
      "AML_transcriptomics_cell-line+BeatAML.tsv\n",
      "colon-adeno_proteomics_cell-line+CPTAC.tsv\n",
      "glioblastoma_proteomics_cell-line+CPTAC.tsv\n",
      "lung-adeno_proteomics_cell-line+CPTAC.tsv\n",
      "nc3a_proteomics_cell-line+CPTAC.tsv\n",
      "nc3b_proteomics_cell-line+CPTAC.tsv\n",
      "nc3c_proteomics_cell-line+CPTAC.tsv\n",
      "nc3d_proteomics_cell-line+CPTAC.tsv\n",
      "nc4_proteomics_cell-line+CPTAC.tsv\n",
      "pancreatic-adeno_proteomics_cell-line+CPTAC.tsv\n"
     ]
    }
   ],
   "source": [
    "ls ../data/r8/"
   ]
  },
  {
   "cell_type": "code",
   "execution_count": 56,
   "id": "e746565a-9829-4b30-ae2d-e4926d86113c",
   "metadata": {},
   "outputs": [],
   "source": [
    "nc4_tran_prot.to_csv('../data/r8/nc4_tran-prot_cell-line+CPTAC.tsv',\n",
    "                    sep = '\\t')"
   ]
  },
  {
   "cell_type": "code",
   "execution_count": 57,
   "id": "2f630bca-4090-47da-9dc4-cbc24e22aa1e",
   "metadata": {},
   "outputs": [
    {
     "name": "stdout",
     "output_type": "stream",
     "text": [
      "../data/r8/nc4_tran-prot_cell-line+CPTAC.tsv\n"
     ]
    }
   ],
   "source": [
    "ls ../data/r8/*tran-prot*"
   ]
  },
  {
   "cell_type": "code",
   "execution_count": 58,
   "id": "807272ac-f8da-470c-981e-01195aa64869",
   "metadata": {},
   "outputs": [],
   "source": [
    "nc4_tran_prot_pth = sorted(\n",
    "                    glob.glob(\n",
    "                    '../data/r8/*tran-prot*'), reverse = True)"
   ]
  },
  {
   "cell_type": "code",
   "execution_count": 59,
   "id": "6b42f646-c6fc-4e33-8df9-35c7aedb711a",
   "metadata": {},
   "outputs": [
    {
     "data": {
      "text/plain": [
       "['../data/r8/nc4_tran-prot_cell-line+CPTAC.tsv']"
      ]
     },
     "execution_count": 59,
     "metadata": {},
     "output_type": "execute_result"
    }
   ],
   "source": [
    "nc4_tran_prot_pth"
   ]
  },
  {
   "cell_type": "markdown",
   "id": "fe53243f-163c-4156-ba34-a7b7211f70e4",
   "metadata": {},
   "source": [
    "#### Tybalt, continue"
   ]
  },
  {
   "cell_type": "code",
   "execution_count": 7,
   "id": "9bbc4467-963b-4fec-a9be-7e1b4efebc9a",
   "metadata": {},
   "outputs": [],
   "source": [
    "import math\n",
    "import collections\n",
    "\n",
    "import numpy as np\n",
    "\n",
    "import tensorflow as tf\n",
    "from tensorflow import keras\n",
    "from tensorflow.keras import layers\n",
    "from tensorflow.keras.models import Model\n",
    "from tensorflow.keras.layers import BatchNormalization, Activation, Layer\n",
    "from tensorflow.keras import metrics, optimizers\n",
    "from tensorflow.keras.losses import binary_crossentropy\n",
    "from tensorflow.keras.callbacks import Callback\n",
    "import tensorflow.compat.v1.keras.backend as K\n",
    "tf.compat.v1.disable_eager_execution()\n",
    "\n",
    "import matplotlib.pyplot as plt\n",
    "from sklearn.preprocessing import MinMaxScaler"
   ]
  },
  {
   "cell_type": "code",
   "execution_count": 11,
   "id": "cfd53a2b-426b-42bc-b32b-dd26123ab2ef",
   "metadata": {},
   "outputs": [],
   "source": [
    "# VAE functions\n",
    "def compute_latent(x):\n",
    "    mu, sigma = x\n",
    "    batch = K.shape(mu)[0]\n",
    "    dim = K.shape(mu)[1]\n",
    "    eps = K.random_normal(shape=(batch,dim), mean=0., stddev=1.0 )\n",
    "    return mu + K.exp(sigma/2)*eps\n",
    "\n",
    "class CustomVariationalLayer(Layer):\n",
    "    \"\"\"\n",
    "    Define a custom layer\n",
    "    \"\"\"\n",
    "    def __init__(self, **kwargs):\n",
    "        self.is_placeholder = True\n",
    "        super(CustomVariationalLayer, self).__init__(**kwargs)\n",
    "\n",
    "    def vae_loss(self, x_input, x_decoded):\n",
    "        reconstruction_loss = original_dim * metrics.binary_crossentropy(\n",
    "            x_input, x_decoded)\n",
    "        kl_loss = - 0.5 * K.sum(1 + z_log_var_encoded - K.square(z_mean_encoded) - \n",
    "                                K.exp(z_log_var_encoded), axis=-1)\n",
    "        return K.mean(reconstruction_loss + (K.get_value(beta) * kl_loss))\n",
    "\n",
    "    def call(self, inputs):\n",
    "        x = inputs[0]\n",
    "        x_decoded = inputs[1]\n",
    "        loss = self.vae_loss(x, x_decoded)\n",
    "        self.add_loss(loss, inputs=inputs)\n",
    "        return x\n",
    "    \n",
    "class WarmUpCallback(Callback):\n",
    "    def __init__(self, beta, kappa):\n",
    "        self.beta = beta\n",
    "        self.kappa = kappa\n",
    "\n",
    "    def on_epoch_end(self, epoch, logs={}):\n",
    "        if K.get_value(self.beta) <= 1:\n",
    "            K.set_value(self.beta, K.get_value(self.beta) + self.kappa)"
   ]
  },
  {
   "cell_type": "code",
   "execution_count": 13,
   "id": "e93d6ed0-4f24-4667-870a-78cd189dac7f",
   "metadata": {},
   "outputs": [],
   "source": [
    "# Loss plot visualization to determine degree of model fitting\n",
    "def plot_loss(loss_dict, cancer, modality, systems, latent_dim, train_file):\n",
    "\n",
    "    # Create a new figure\n",
    "    plt.figure(figsize=(10, 6))\n",
    "\n",
    "    # Plot loss values\n",
    "    plt.plot(loss_dict['vs0'], marker='o', linestyle='-', color='b')\n",
    "\n",
    "    # Add a grid\n",
    "    plt.grid(True, linestyle='--', alpha=0.6)\n",
    "\n",
    "    # Add titles and labels\n",
    "    plt.title(cancer+' '+modality+' '+systems+' VAE Loss', fontsize=16, fontweight='bold')\n",
    "    plt.xlabel('Epoch', fontsize=14)\n",
    "    plt.ylabel('Loss', fontsize=14)\n",
    "\n",
    "    # Annotation for epochs and latent dimension\n",
    "    plt.annotate('Samples: {}'.format(\n",
    "        len(train_file))+'\\nLatent dim: '+str(\n",
    "        latent_dim)+'\\nRaw features: {}'.format(len(train_file.columns)), \n",
    "                 xy=(0.7, 0.3), xycoords='axes fraction', \n",
    "                 bbox=dict(boxstyle='round, pad=0.5', fc='white', ec='black'),\n",
    "                 fontsize=12)\n",
    "\n",
    "    # Save the plot\n",
    "    plt.savefig(#'loss_plots/'+data_type+'_vae_loss.png'\n",
    "               '../results/r8/tybalt/'+cancer+'_'+modality+'_'+\n",
    "                         systems+'_'+str(latent_dim)+'-ltnt-dim_'+\n",
    "                         str(epochs)+'-epchs_loss.png')\n",
    "    # plt.close()  # Close the figure - not for interactive devel / demo"
   ]
  },
  {
   "cell_type": "code",
   "execution_count": 60,
   "id": "64a1ac35-61bd-46d9-a0fa-dea44bd6423b",
   "metadata": {},
   "outputs": [
    {
     "name": "stdout",
     "output_type": "stream",
     "text": [
      "../data/r8/nc4_tran-prot_cell-line+CPTAC.tsv\n",
      "WARNING:tensorflow:Output {0} missing from loss dictionary. We assume this was done on purpose. The fit and evaluate APIs will not be expecting any data to be passed to custom_variational_layer_5.\n",
      "Train on 496 samples\n",
      "Epoch 1/12\n",
      "496/496 [==============================] - 1s 1ms/sample - loss: 15106.8510\n",
      "Epoch 2/12\n",
      "496/496 [==============================] - 0s 545us/sample - loss: 13085.2785\n",
      "Epoch 3/12\n",
      "496/496 [==============================] - 0s 546us/sample - loss: 11851.1827\n",
      "Epoch 4/12\n",
      "496/496 [==============================] - 0s 552us/sample - loss: 11175.4493\n",
      "Epoch 5/12\n",
      "496/496 [==============================] - 0s 555us/sample - loss: 10880.7726\n",
      "Epoch 6/12\n",
      "496/496 [==============================] - 0s 557us/sample - loss: 10661.1424\n",
      "Epoch 7/12\n",
      "496/496 [==============================] - 0s 544us/sample - loss: 10559.7898\n",
      "Epoch 8/12\n",
      "496/496 [==============================] - 0s 549us/sample - loss: 10462.5665\n",
      "Epoch 9/12\n",
      "496/496 [==============================] - 0s 544us/sample - loss: 10449.0839\n",
      "Epoch 10/12\n",
      "496/496 [==============================] - 0s 550us/sample - loss: 10405.0087\n",
      "Epoch 11/12\n",
      "496/496 [==============================] - 0s 529us/sample - loss: 10344.8561\n",
      "Epoch 12/12\n",
      "496/496 [==============================] - 0s 520us/sample - loss: 10353.2249\n"
     ]
    },
    {
     "name": "stderr",
     "output_type": "stream",
     "text": [
      "/Users/karlberb/miniforge3/envs/py310tf210/lib/python3.10/site-packages/keras/engine/training_v1.py:2356: UserWarning: `Model.state_updates` will be removed in a future version. This property should not be used in TensorFlow 2.0, as `updates` are applied automatically.\n",
      "  updates=self.state_updates,\n"
     ]
    },
    {
     "name": "stdout",
     "output_type": "stream",
     "text": [
      "VAE done, latent object and loss plot written to disk\n"
     ]
    },
    {
     "data": {
      "image/png": "[encoded data removed]",
      "text/plain": [
       "<Figure size 1000x600 with 1 Axes>"
      ]
     },
     "metadata": {},
     "output_type": "display_data"
    }
   ],
   "source": [
    "epochs = 12\n",
    "# for fl_pth in n_2:\n",
    "# for fl_pth in prot_n:\n",
    "for fl_pth in nc4_tran_prot_pth:\n",
    "    print(fl_pth)\n",
    "    cancer = fl_pth.split('_')[0].split('/')[-1]\n",
    "    modality = fl_pth.split('_')[1]\n",
    "    systems = fl_pth.split('_')[2].split('.')[0]\n",
    "    latent_header_prefix = modality[:4]\n",
    "    train_file = pd.read_csv(fl_pth,\n",
    "                        sep = '\\t', index_col = 0)\n",
    "    sys_lbls = train_file.System\n",
    "    cncr_lbls = train_file.Cancer_type\n",
    "    train_file = train_file.iloc[:, 2:]\n",
    "\n",
    "    # Normalize\n",
    "    scaler = MinMaxScaler()\n",
    "    train_file = pd.DataFrame(\n",
    "        scaler.fit_transform(train_file),\n",
    "        columns=train_file.columns,\n",
    "        index=train_file.index)\n",
    "    # break\n",
    "    # Variational auto-encoder, Tybalt\n",
    "    loss_dict = {}\n",
    "    vs_list = ['vs0']\n",
    "    validation_split = vs_list[0]\n",
    "    \n",
    "    features = train_file.columns\n",
    "    \n",
    "    original_dim = len(features)\n",
    "    feature_dim = len(features)\n",
    "    latent_dim = 250\n",
    "    batch_size = 50\n",
    "    \n",
    "    encoder_inputs = keras.Input(shape=(feature_dim,))\n",
    "    z_mean_dense_linear = layers.Dense(\n",
    "        latent_dim, kernel_initializer='glorot_uniform', name=\"encoder_1\")(encoder_inputs)\n",
    "    z_mean_dense_batchnorm = layers.BatchNormalization()(z_mean_dense_linear)\n",
    "    z_mean_encoded = layers.Activation('relu')(z_mean_dense_batchnorm)\n",
    "    \n",
    "    z_log_var_dense_linear = layers.Dense(\n",
    "        latent_dim, kernel_initializer='glorot_uniform', name=\"encoder_2\")(encoder_inputs)\n",
    "    z_log_var_dense_batchnorm = layers.BatchNormalization()(z_log_var_dense_linear)\n",
    "    z_log_var_encoded = layers.Activation('relu')(z_log_var_dense_batchnorm)\n",
    "    \n",
    "    latent_space = layers.Lambda(\n",
    "        compute_latent, output_shape=(\n",
    "            latent_dim,), name=\"latent_space\")([z_mean_encoded, z_log_var_encoded])\n",
    "    \n",
    "    decoder_to_reconstruct = layers.Dense(\n",
    "        feature_dim, kernel_initializer='glorot_uniform', activation='sigmoid')\n",
    "    decoder_outputs = decoder_to_reconstruct(latent_space)\n",
    "    \n",
    "    learning_rate = 0.0005\n",
    "    \n",
    "    kappa = 1\n",
    "    beta = K.variable(0)\n",
    "    \n",
    "    adam = optimizers.Adam(learning_rate=learning_rate)\n",
    "    vae_layer = CustomVariationalLayer()([encoder_inputs, decoder_outputs])\n",
    "    vae = Model(encoder_inputs, vae_layer)\n",
    "    vae.compile(optimizer=adam, loss=None, loss_weights=[beta])\n",
    "    \n",
    "    history = vae.fit(train_file,\n",
    "                epochs=epochs,\n",
    "                      batch_size=batch_size,\n",
    "                      shuffle=True,\n",
    "                      callbacks=[WarmUpCallback(beta, kappa)],\n",
    "                      verbose=1)\n",
    "    loss_dict[validation_split] = history.history['loss']\n",
    "    \n",
    "    encoder = Model(encoder_inputs, z_mean_encoded)\n",
    "    latent_object = pd.DataFrame(\n",
    "        encoder.predict(train_file),\n",
    "        index=train_file.index\n",
    "    )\n",
    "    latent_object.index.name = train_file.index.name\n",
    "    # break\n",
    "    # Convert latent object headers to dtype specific strings for input to transformer\n",
    "    new_column_headers = []\n",
    "    for column_header in latent_object.columns:\n",
    "        # latent_header_prefix\n",
    "        new_column_header = latent_header_prefix+'_' + str(column_header)\n",
    "        new_column_headers.append(new_column_header)\n",
    "    latent_object.columns = new_column_headers\n",
    "    latent_object.insert(0, 'Cancer_type', cncr_lbls)\n",
    "    latent_object.insert(0, 'System', sys_lbls)\n",
    "    # break\n",
    "    latent_object.to_csv('../results/r8/tybalt/'+cancer+'_'+modality+'_'+\n",
    "                         systems+'.'+str(latent_dim)+'-ltnt-dim_'+\n",
    "                         str(epochs)+'-epchs.tsv', sep = '\\t')\n",
    "    plot_loss(loss_dict, cancer, modality, systems, latent_dim, train_file)\n",
    "    print('VAE done, latent object and loss plot written to disk')\n",
    "    # break"
   ]
  },
  {
   "cell_type": "code",
   "execution_count": null,
   "id": "d057265e-2e79-404d-9c5b-080b54b043f5",
   "metadata": {},
   "outputs": [],
   "source": [
    "# Proteomics run notes\n",
    "    # nc3x key is in dta_ldr\n",
    "    # not necessary if labels are re-appended to latent space"
   ]
  }
 ],
 "metadata": {
  "kernelspec": {
   "display_name": "Python 3 (ipykernel)",
   "language": "python",
   "name": "python3"
  },
  "language_info": {
   "codemirror_mode": {
    "name": "ipython",
    "version": 3
   },
   "file_extension": ".py",
   "mimetype": "text/x-python",
   "name": "python",
   "nbconvert_exporter": "python",
   "pygments_lexer": "ipython3",
   "version": "3.10.8"
  }
 },
 "nbformat": 4,
 "nbformat_minor": 5
}
