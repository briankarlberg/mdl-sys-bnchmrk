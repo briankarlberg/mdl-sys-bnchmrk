{
 "cells": [
  {
   "cell_type": "code",
   "execution_count": null,
   "id": "97a98144-64fd-408f-b884-7ccb78b69658",
   "metadata": {},
   "outputs": [],
   "source": [
    "# from quantile_rescale.py - to archive\n",
    "# produce two corrected files - nc5 done, nc2 ____\n",
    "    # to ../results/r72/quant_resc/ - check, mkdir ../results/r8/\n",
    "# pilot n3_n4 chk (?) - done, itertools, solve nc3a, nc2b, ..., etc.\n",
    "    # use Tybalt VAE as control (?) - \n",
    "# Use quant resc as pilot for mbatch across projects and data types:\n",
    "    # what is fastest route to answer neg val question?"
   ]
  },
  {
   "cell_type": "code",
   "execution_count": null,
   "id": "6afb292d-c923-483a-8a27-4911fbb7b74d",
   "metadata": {},
   "outputs": [],
   "source": [
    "%whos"
   ]
  },
  {
   "cell_type": "code",
   "execution_count": null,
   "id": "74f4b09f-61dd-48e6-8f3a-68b318c57716",
   "metadata": {},
   "outputs": [],
   "source": [
    "# Data handling\n",
    "import pandas as pd\n",
    "import glob\n",
    "import itertools"
   ]
  },
  {
   "cell_type": "code",
   "execution_count": null,
   "id": "08a3db56-8bb7-4f58-8062-9d6265523011",
   "metadata": {},
   "outputs": [],
   "source": [
    "def quantileRescale(src, dst):\n",
    "    lower = 0.10\n",
    "    upper = 0.90\n",
    "    dstRange = dst.quantile([lower,upper])\n",
    "    srcRange = src.quantile([lower,upper])\n",
    "    scale = (srcRange.loc[upper] - srcRange.loc[lower]) / (dstRange.loc[upper] - dstRange.loc[lower])\n",
    "    shift = (srcRange.loc[lower] / scale) - dstRange.loc[lower]\n",
    "    scaleDF = src / scale - shift\n",
    "    return scaleDF"
   ]
  },
  {
   "cell_type": "code",
   "execution_count": null,
   "id": "5df85497-75e3-43be-baf2-bfbe92c043bb",
   "metadata": {},
   "outputs": [],
   "source": [
    "# Is quantile a native Pandas function?"
   ]
  },
  {
   "cell_type": "raw",
   "id": "63663850-64d2-4b05-8f61-6a253109ef79",
   "metadata": {},
   "source": [
    "../results/r72/vae/cntrstv-loss/nc5_transcriptomics_cell-line+CPTAC.cntrstv-loss_xx-ltnt-dim_xx-epchs.tsv\n",
    "../results/r72/vae/cntrstv-loss/nc2_transcriptomics_HCMI+CPTAC.cntrstv-loss_xx-ltnt-dim_xx-epchs.tsv"
   ]
  },
  {
   "cell_type": "code",
   "execution_count": null,
   "id": "dae7afbc-d5a3-4fa9-814c-4a94cc5f133c",
   "metadata": {},
   "outputs": [],
   "source": [
    "ls ../results/r72/tybalt/"
   ]
  },
  {
   "cell_type": "code",
   "execution_count": null,
   "id": "8b6a46ce-cd9d-4f77-9ea1-9c1d9ac77b53",
   "metadata": {},
   "outputs": [],
   "source": [
    "ls ../data/r72/"
   ]
  },
  {
   "cell_type": "code",
   "execution_count": null,
   "id": "f73f5daf-8f03-4cc9-9dc1-407d3f6fea08",
   "metadata": {},
   "outputs": [],
   "source": [
    "# phase = 'Input' (to Quantile rescaling here)\n",
    "inp_pths = sorted(\n",
    "    glob.glob('../data/r72/*.tsv'), reverse = True)\n",
    "inp_pths"
   ]
  },
  {
   "cell_type": "markdown",
   "id": "b6cb83b0-6ca5-4bb7-b9a7-05a80c447efa",
   "metadata": {},
   "source": [
    "### Cycle point"
   ]
  },
  {
   "cell_type": "code",
   "execution_count": null,
   "id": "a1c83e27-b9c5-418f-9fc0-8c376af862f2",
   "metadata": {},
   "outputs": [],
   "source": [
    "# Names from transfer_learn.ipynb (plot vars)\n",
    "path_index_toggle = 0\n",
    "cancer_count = 5\n",
    "sys_togg = 'cell-line'\n",
    "sys_file_names = 'cell-line+CPTAC'\n",
    "sample_count_lbl = 'Cell line'\n",
    "mdl_sys_inline = 'cell line'"
   ]
  },
  {
   "cell_type": "code",
   "execution_count": null,
   "id": "83f342f1-8093-4ffb-b21a-f91c9b198f12",
   "metadata": {},
   "outputs": [],
   "source": [
    "path_index_toggle = 1\n",
    "cancer_count = 2\n",
    "sys_togg = 'hcmi'\n",
    "sys_file_names = 'HMCI+CPTAC'\n",
    "sample_count_lbl = 'HCMI'\n",
    "mdl_sys_inline = 'HCMI'"
   ]
  },
  {
   "cell_type": "code",
   "execution_count": null,
   "id": "bf82a19e-6290-432e-abe8-bf6c296c68ff",
   "metadata": {},
   "outputs": [],
   "source": [
    "inp_pths[path_index_toggle]"
   ]
  },
  {
   "cell_type": "code",
   "execution_count": null,
   "id": "f92d30f1-a1eb-462c-b120-463e7148b643",
   "metadata": {},
   "outputs": [],
   "source": [
    "# Input load, check read the raw data for q rsc\n",
    "input_df = pd.read_csv(\n",
    "                inp_pths[path_index_toggle], # nc5 or nc2 file\n",
    "                sep = '\\t',\n",
    "                index_col = 0)\n",
    "out_name = inp_pths[path_index_toggle].split('/')[-1].split('.')[0]\n",
    "print('inpt len:', len(input_df))\n",
    "print('out_name:', out_name)"
   ]
  },
  {
   "cell_type": "code",
   "execution_count": null,
   "id": "6f7d2a22-3aa3-4d80-abc7-7faf7aa73481",
   "metadata": {},
   "outputs": [],
   "source": [
    "input_df.System.unique() # Automation for HCMI:\n",
    "                            # sort order reverse alph\n",
    "                            # assign to src_ref\n",
    "                            # Use alt method to relying on sort order"
   ]
  },
  {
   "cell_type": "markdown",
   "id": "8c266c96-af40-4c9a-974d-5f4acba171f7",
   "metadata": {},
   "source": [
    "##### Split by system - quant scale"
   ]
  },
  {
   "cell_type": "code",
   "execution_count": null,
   "id": "64c40d5e-2fff-46ef-8d1f-a7f60f39bd72",
   "metadata": {},
   "outputs": [],
   "source": [
    "# Cell line and CPTAC - trans and prot\n",
    "    # src, dst to r72 to r8 conversion\n",
    "src_lab = input_df[input_df.System == 'cell-line'] #\n",
    "src = src_lab.iloc[:, 2:]\n",
    "dst_lab = input_df[input_df.System == 'cptac'] #\n",
    "dst = dst_lab.iloc[:, 2:]"
   ]
  },
  {
   "cell_type": "code",
   "execution_count": null,
   "id": "4a36f4e8-4a2e-4082-9348-4e8261baa6c1",
   "metadata": {},
   "outputs": [],
   "source": [
    "# HCMI and CPTAC - trans and prot\n",
    "src_lab = input_df[input_df.System == 'cptac']\n",
    "src = src_lab.iloc[:, 2:]\n",
    "dst_lab = input_df[input_df.System == 'hcmi']\n",
    "dst = dst_lab.iloc[:, 2:]"
   ]
  },
  {
   "cell_type": "code",
   "execution_count": null,
   "id": "3c72958c-5156-41a1-87fa-752786ef7015",
   "metadata": {},
   "outputs": [],
   "source": [
    "# BeatAML - trans (ngtv vals) and prot\n",
    " = input_df[input_df.System == 'cptac']\n",
    "\n",
    " = input_df[input_df.System == 'hcmi']\n"
   ]
  },
  {
   "cell_type": "markdown",
   "id": "aec8767a-a528-434c-b03d-04689f01ab58",
   "metadata": {},
   "source": [
    "##### Quant Resc main"
   ]
  },
  {
   "cell_type": "code",
   "execution_count": null,
   "id": "587fc9b4-2ec9-4b35-b891-9160d0aec4e6",
   "metadata": {},
   "outputs": [],
   "source": [
    "# MBatch alignment\n",
    "    # * dst (quant_resc) = ref (mbatch) <----"
   ]
  },
  {
   "cell_type": "code",
   "execution_count": null,
   "id": "bbaf5207-2a21-4283-85cb-0347fe6e0f60",
   "metadata": {},
   "outputs": [],
   "source": [
    "src_lab.iloc[:3, :3]"
   ]
  },
  {
   "cell_type": "code",
   "execution_count": null,
   "id": "f2ff978c-23ff-49ab-a94b-d7211812e585",
   "metadata": {},
   "outputs": [],
   "source": [
    "dst_lab.iloc[:3, :3]"
   ]
  },
  {
   "cell_type": "code",
   "execution_count": null,
   "id": "ee387e53-50f5-4287-9e4c-8b6b010c94fa",
   "metadata": {},
   "outputs": [],
   "source": [
    "src # cell line or HCMI"
   ]
  },
  {
   "cell_type": "code",
   "execution_count": null,
   "id": "377f5392-a179-40de-99ec-35e91f1795e2",
   "metadata": {},
   "outputs": [],
   "source": [
    "dst # CPTAC or BeatAML"
   ]
  },
  {
   "cell_type": "markdown",
   "id": "a75b03aa-b8cc-4323-b6cd-5de680198756",
   "metadata": {},
   "source": [
    "#### Rescale"
   ]
  },
  {
   "cell_type": "code",
   "execution_count": null,
   "id": "ca36f006-edca-47ba-8ced-8bbab6c40d78",
   "metadata": {},
   "outputs": [],
   "source": [
    "isect = src.columns.intersection(dst.columns)\n",
    "scaled = quantileRescale(src[isect], dst[isect])"
   ]
  },
  {
   "cell_type": "markdown",
   "id": "c213795d-6371-4519-8638-82d94ad68f8a",
   "metadata": {},
   "source": [
    "##### Confirm order preservation, to index merge"
   ]
  },
  {
   "cell_type": "code",
   "execution_count": null,
   "id": "7794f6b0-1c93-4ba2-850d-52badc722f10",
   "metadata": {},
   "outputs": [],
   "source": [
    "src_lab"
   ]
  },
  {
   "cell_type": "code",
   "execution_count": null,
   "id": "5d3777d2-6c19-4378-af24-142b489966f5",
   "metadata": {},
   "outputs": [],
   "source": [
    "src # Observation: order preserved for label re-install"
   ]
  },
  {
   "cell_type": "code",
   "execution_count": null,
   "id": "adcb80cb-aef2-4110-8015-e0228b09ef37",
   "metadata": {},
   "outputs": [],
   "source": [
    "scaled # Observation: n = 261, cell line data scaled into human space"
   ]
  },
  {
   "cell_type": "markdown",
   "id": "efef4a56-f08d-43a9-bebf-f12578e7859d",
   "metadata": {},
   "source": [
    "##### Continue"
   ]
  },
  {
   "cell_type": "code",
   "execution_count": null,
   "id": "6d58be1b-a45a-4aaa-adfb-f7e303bd68c8",
   "metadata": {},
   "outputs": [],
   "source": [
    "# Target out"
   ]
  },
  {
   "cell_type": "code",
   "execution_count": null,
   "id": "962058e1-97e7-44d9-84c7-3dafb3b5d52b",
   "metadata": {},
   "outputs": [],
   "source": [
    "ls ../results/r72/quant_resc/"
   ]
  },
  {
   "cell_type": "code",
   "execution_count": null,
   "id": "60edf09b-c433-4eb2-9bbb-c322b050c0a4",
   "metadata": {},
   "outputs": [],
   "source": [
    "scaled = pd.concat(\n",
    "    [src_lab[['System', 'Cancer_type']], scaled], axis = 1)"
   ]
  },
  {
   "cell_type": "code",
   "execution_count": null,
   "id": "c0dc0eca-e776-4fc7-847e-42a38c76f368",
   "metadata": {},
   "outputs": [],
   "source": [
    "scaled"
   ]
  },
  {
   "cell_type": "code",
   "execution_count": null,
   "id": "b07b43cf-fe0a-46bd-9856-dadf7c7c2a6a",
   "metadata": {},
   "outputs": [],
   "source": [
    "quant_resc = pd.concat([scaled, dst_lab], axis  = 0)"
   ]
  },
  {
   "cell_type": "code",
   "execution_count": null,
   "id": "072815e2-ac50-45a2-b29f-b7ee08caec9c",
   "metadata": {},
   "outputs": [],
   "source": [
    "quant_resc"
   ]
  },
  {
   "cell_type": "code",
   "execution_count": null,
   "id": "6abaf940-10cf-4607-a270-64e6bf04ce71",
   "metadata": {},
   "outputs": [],
   "source": [
    "quant_resc.to_csv(\n",
    "    '../results/r72/quant_resc/'+out_name+'.quant_resc.tsv',\n",
    "    sep='\\t')"
   ]
  },
  {
   "cell_type": "markdown",
   "id": "ec40bd52-4b1e-4f7f-9388-0ae63fa038ac",
   "metadata": {},
   "source": [
    "##### read check"
   ]
  },
  {
   "cell_type": "code",
   "execution_count": null,
   "id": "829350b3-550e-48c1-9204-720bb6c84add",
   "metadata": {},
   "outputs": [],
   "source": [
    "rc = pd.read_csv(\n",
    "    '../results/r72/quant_resc/'+out_name+'.quant_resc.tsv',\n",
    "    sep='\\t')\n",
    "rc"
   ]
  },
  {
   "cell_type": "code",
   "execution_count": null,
   "id": "eadf88e5-5aea-4302-aabb-1a972ec9768a",
   "metadata": {},
   "outputs": [],
   "source": [
    "ls ../results/r72/quant_resc/"
   ]
  },
  {
   "cell_type": "code",
   "execution_count": null,
   "id": "157f90ed-61d7-4939-b6f5-1c1bad668218",
   "metadata": {},
   "outputs": [],
   "source": []
  }
 ],
 "metadata": {
  "kernelspec": {
   "display_name": "Python 3 (ipykernel)",
   "language": "python",
   "name": "python3"
  },
  "language_info": {
   "codemirror_mode": {
    "name": "ipython",
    "version": 3
   },
   "file_extension": ".py",
   "mimetype": "text/x-python",
   "name": "python",
   "nbconvert_exporter": "python",
   "pygments_lexer": "ipython3",
   "version": "3.10.8"
  }
 },
 "nbformat": 4,
 "nbformat_minor": 5
}
