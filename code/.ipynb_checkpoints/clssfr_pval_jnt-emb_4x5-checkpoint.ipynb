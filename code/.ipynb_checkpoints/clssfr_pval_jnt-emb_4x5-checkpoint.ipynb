{
 "cells": [
  {
   "cell_type": "markdown",
   "id": "59f4a06d-d172-4737-a94a-175836a294fb",
   "metadata": {},
   "source": [
    "# R8"
   ]
  },
  {
   "cell_type": "code",
   "execution_count": null,
   "id": "24515ada-bf16-4302-b929-0aba1e8214d6",
   "metadata": {},
   "outputs": [],
   "source": [
    "# Add pvals for *joint embedding* comparison plot\n",
    "# Compare VAEn4 joint embedding results to default VAE\n",
    "    # MBatch, and quant resc\n",
    "\n",
    "# Linear methods -> correct for transcriptomics\n",
    "    # VAE methods -> correct for transcriptomics and proteomics\n",
    "    # Specific VAE methods -> correct for joint data modality embedding\n",
    "\n",
    "# Start with p-val on Tybalt vs VAEn4 calcs\n",
    "\n",
    "    # 4x5 (five vae corrections) plot, locate file reads from clssfr_eval.ipynb\n",
    "    # Nested plot format from clssfr_pval-4x4.ipynb\n",
    "\n",
    "# *cancer types? n2, n5, n3 - No, only use n4 joint embedding tran_prot\n",
    "    # the other, n3 cancer combo files were for proteomics only\n",
    "\n",
    "# Make a 4 sklrn clf by 6 F1 plot - input, Tybalt, 4 VAEs\n",
    "    # With p-vals within each cluster"
   ]
  },
  {
   "cell_type": "code",
   "execution_count": null,
   "id": "62cd2566-29d3-4b58-bfa2-842fc56130e8",
   "metadata": {},
   "outputs": [],
   "source": [
    "production_date = '2024-03-22' "
   ]
  },
  {
   "cell_type": "code",
   "execution_count": null,
   "id": "7d6ddeb3-b3fb-4a5b-85f3-aea24641e74c",
   "metadata": {},
   "outputs": [],
   "source": [
    "%whos"
   ]
  },
  {
   "cell_type": "code",
   "execution_count": null,
   "id": "ce4d0e57-6692-41c5-be98-a33677884dc6",
   "metadata": {},
   "outputs": [],
   "source": [
    "# Data handling & comparision setup\n",
    "import pandas as pd\n",
    "import glob\n",
    "import itertools\n",
    "\n",
    "# Feature selection, RFE\n",
    "from sklearn.feature_selection import RFE\n",
    "from sklearn.svm import SVR\n",
    "\n",
    "# Import 3 SciKit Learn classifiers\n",
    "from sklearn.ensemble import RandomForestClassifier\n",
    "from sklearn import tree\n",
    "from sklearn.linear_model import LogisticRegression\n",
    "\n",
    "# SVM\n",
    "from sklearn.svm import LinearSVC\n",
    "from sklearn.pipeline import make_pipeline\n",
    "from sklearn.preprocessing import StandardScaler\n",
    "\n",
    "# Classification setup and eval\n",
    "from sklearn.model_selection import train_test_split\n",
    "from sklearn.metrics import f1_score\n",
    "import statistics\n",
    "\n",
    "# Plotting\n",
    "import matplotlib.pyplot as plt"
   ]
  },
  {
   "cell_type": "markdown",
   "id": "0d3c6e0a-c4c3-49b0-b95f-950625022961",
   "metadata": {},
   "source": [
    "### Set data paths"
   ]
  },
  {
   "cell_type": "markdown",
   "id": "c35a4153-09e1-4739-9943-411e9a04a0e1",
   "metadata": {},
   "source": [
    "#### Input read"
   ]
  },
  {
   "cell_type": "code",
   "execution_count": null,
   "id": "45d6d76b-10d6-40fa-9741-369884b6ffa4",
   "metadata": {},
   "outputs": [],
   "source": [
    "# Joint embedding input,\n",
    "inp_pths = sorted(\n",
    "    glob.glob('../data/r8/nc4_tran-prot_cell-line+CPTAC.tsv'), reverse = True)\n",
    "inp_pths"
   ]
  },
  {
   "cell_type": "markdown",
   "id": "57044056-445e-47be-805d-cf70fa37e175",
   "metadata": {},
   "source": [
    "#### Tybalt"
   ]
  },
  {
   "cell_type": "code",
   "execution_count": null,
   "id": "83a9faf2-b6bd-4129-a13e-6bd34c65d6d9",
   "metadata": {},
   "outputs": [],
   "source": [
    "# Use [0]\n",
    "tb_pths = sorted(\n",
    "    glob.glob('../results/r8/tybalt/*.tsv'), reverse = True)\n",
    "tb_pths"
   ]
  },
  {
   "cell_type": "code",
   "execution_count": null,
   "id": "29b8f19f-476b-42f1-bfd4-e1b1adc3683a",
   "metadata": {},
   "outputs": [],
   "source": [
    "# So the key to the 4x4 was one big results frame"
   ]
  },
  {
   "cell_type": "markdown",
   "id": "5794b494-8d7b-4d9f-af3a-8bf5109b0de5",
   "metadata": {},
   "source": [
    "### Load data"
   ]
  },
  {
   "cell_type": "code",
   "execution_count": null,
   "id": "c8374142-97a0-4d58-b939-b9b39b280c69",
   "metadata": {},
   "outputs": [],
   "source": [
    "path_index_toggle = 0\n",
    "cancer_count = 5\n",
    "sys_togg = 'cell-line'\n",
    "sys_file_names = 'cell-line+CPTAC'\n",
    "sample_count_lbl = 'Cell line'\n",
    "mdl_sys_inline = 'cell line'"
   ]
  },
  {
   "cell_type": "code",
   "execution_count": null,
   "id": "3ce96515-6213-46bc-8988-450d7cd910f2",
   "metadata": {},
   "outputs": [],
   "source": [
    "# Pause - these tran-prot joint embedding results are written to disk\n",
    "    # Locate from plot input data paths from clssfr_eval.ipynb\n",
    "    # Read from prev indv joint emb plot runs and feed to 4x5"
   ]
  },
  {
   "cell_type": "markdown",
   "id": "be7e6260-0669-4629-a276-daa8f90de73b",
   "metadata": {},
   "source": [
    "# Read and concat disk .tsvs to get 6x results_df"
   ]
  },
  {
   "cell_type": "code",
   "execution_count": null,
   "id": "e8fac25c-7332-4052-ba61-2b09593a508b",
   "metadata": {},
   "outputs": [],
   "source": [
    "# Input is each of 5 VAE results_df frames\n",
    "    # Sub-sample from the 150 combined input cross vals "
   ]
  },
  {
   "cell_type": "code",
   "execution_count": null,
   "id": "cea9cdeb-d928-43dc-9110-e5d171cf9319",
   "metadata": {},
   "outputs": [],
   "source": [
    "results/r8/2024-03-20/input-tybalt_clf-eval-n4_x-val=30_nc4_tran-prot_cell-line+CPTAC.tsv"
   ]
  },
  {
   "cell_type": "code",
   "execution_count": null,
   "id": "9f27a20e-b2c5-4b14-9651-e67cbf428fc9",
   "metadata": {},
   "outputs": [],
   "source": [
    "tybalt_results_df = pd.read_csv( # This is not in a production date dir, so not results df\n",
    "    '../results/r8/2024-03-20/input-tybalt_clf-eval-n4_x-val=30_nc4_tran-prot_cell-line+CPTAC.tsv',\n",
    "        sep = '\\t',\n",
    "            index_col = 0)"
   ]
  },
  {
   "cell_type": "code",
   "execution_count": null,
   "id": "697b762b-800f-4909-bca9-1c51a923c29a",
   "metadata": {},
   "outputs": [],
   "source": [
    "tybalt_results_df"
   ]
  },
  {
   "cell_type": "code",
   "execution_count": null,
   "id": "f3f34e1c-7837-475f-813e-03f3c156b0d9",
   "metadata": {},
   "outputs": [],
   "source": [
    "tybalt_results_df['type'] = tybalt_results_df['type'].replace('corrected', 'tybalt_vae')"
   ]
  },
  {
   "cell_type": "code",
   "execution_count": null,
   "id": "6c6d9896-8f5e-41c1-8945-2d558d488ebe",
   "metadata": {},
   "outputs": [],
   "source": [
    "tybalt_results_df"
   ]
  },
  {
   "cell_type": "code",
   "execution_count": null,
   "id": "612d45ee-15d4-44c9-ae49-9f2486749f43",
   "metadata": {},
   "outputs": [],
   "source": [
    "tybalt_results_df.type.value_counts()"
   ]
  },
  {
   "cell_type": "code",
   "execution_count": null,
   "id": "439b70b3-3499-4fac-a267-9029ad4710bd",
   "metadata": {},
   "outputs": [],
   "source": [
    "# Sub-sample from the 150 combined input cross vals"
   ]
  },
  {
   "cell_type": "code",
   "execution_count": null,
   "id": "c972cdf3-d893-4ee7-a680-13f52097d6b8",
   "metadata": {
    "scrolled": true
   },
   "outputs": [],
   "source": [
    "ls ../results/r8/2024-03-21/"
   ]
  },
  {
   "cell_type": "code",
   "execution_count": null,
   "id": "48ee6fd2-dea6-4cf7-a7d8-1c7fddc07dce",
   "metadata": {},
   "outputs": [],
   "source": [
    "beta_vae_results_df = pd.read_csv( # This is not in a production date dir, so not results df\n",
    "    '../results/r8/2024-03-21/input-vae_beta-classifier_clf-eval-n4_x-val=30_nc4_tran-prot_cell-line+CPTAC.tsv',\n",
    "        sep = '\\t',\n",
    "            index_col = 0)"
   ]
  },
  {
   "cell_type": "code",
   "execution_count": null,
   "id": "004399e4-0102-47e6-9448-a4e49da595f3",
   "metadata": {},
   "outputs": [],
   "source": [
    "beta_vae_results_df"
   ]
  },
  {
   "cell_type": "code",
   "execution_count": null,
   "id": "27c54b3d-dc58-4eea-aa9a-43b3f7058d80",
   "metadata": {},
   "outputs": [],
   "source": [
    "beta_vae_results_df['type'] = beta_vae_results_df['type'].replace('corrected', 'beta_vae')"
   ]
  },
  {
   "cell_type": "code",
   "execution_count": null,
   "id": "324dd821-46b4-431e-b957-84a6a70b15bd",
   "metadata": {},
   "outputs": [],
   "source": [
    "beta_vae_results_df"
   ]
  },
  {
   "cell_type": "code",
   "execution_count": null,
   "id": "23e3da4a-4f64-446c-9850-e53b7c12b3d5",
   "metadata": {},
   "outputs": [],
   "source": [
    "clssfr_vae_results_df = pd.read_csv( # This is not in a production date dir, so not results df\n",
    "    '../results/r8/2024-03-21/input-vae_classifier_clf-eval-n4_x-val=30_nc4_tran-prot_cell-line+CPTAC.tsv',\n",
    "        sep = '\\t',\n",
    "            index_col = 0)\n",
    "clssfr_vae_results_df['type'] = clssfr_vae_results_df['type'].replace('corrected', 'clssfr_vae')"
   ]
  },
  {
   "cell_type": "code",
   "execution_count": null,
   "id": "be76b8f1-32bb-4344-a00d-e6f72b58fc99",
   "metadata": {},
   "outputs": [],
   "source": [
    "cntrstv_loss_vae_results_df = pd.read_csv( # This is not in a production date dir, so not results df\n",
    "    '../results/r8/2024-03-21/input-vae_cntrstv-loss_clf-eval-n4_x-val=30_nc4_tran-prot_cell-line+CPTAC.tsv',\n",
    "        sep = '\\t',\n",
    "            index_col = 0)\n",
    "cntrstv_loss_vae_results_df['type'] = cntrstv_loss_vae_results_df['type'].replace('corrected', 'cntrstv-loss_vae')"
   ]
  },
  {
   "cell_type": "code",
   "execution_count": null,
   "id": "c0e1d645-9489-468b-a310-76f0efea0318",
   "metadata": {},
   "outputs": [],
   "source": [
    "disc_vae_results_df = pd.read_csv( # This is not in a production date dir, so not results df\n",
    "    '../results/r8/2024-03-21/input-vae_disc_clf-eval-n4_x-val=30_nc4_tran-prot_cell-line+CPTAC.tsv',\n",
    "        sep = '\\t',\n",
    "            index_col = 0)\n",
    "disc_vae_results_df['type'] = disc_vae_results_df['type'].replace('corrected', 'disc_vae')"
   ]
  },
  {
   "cell_type": "code",
   "execution_count": null,
   "id": "93a10d1d-d014-48cc-bd96-8dd1529c9192",
   "metadata": {},
   "outputs": [],
   "source": [
    "n6 = pd.concat([tybalt_results_df,\n",
    "               beta_vae_results_df,\n",
    "               clssfr_vae_results_df,\n",
    "               cntrstv_loss_vae_results_df,\n",
    "               disc_vae_results_df])"
   ]
  },
  {
   "cell_type": "code",
   "execution_count": null,
   "id": "7726aca4-194d-4f64-9302-e584fbfc44a1",
   "metadata": {},
   "outputs": [],
   "source": [
    "n6"
   ]
  },
  {
   "cell_type": "code",
   "execution_count": null,
   "id": "56499699-ca1e-4fc5-a56c-01eb5916a8d8",
   "metadata": {},
   "outputs": [],
   "source": [
    "n6.type.value_counts()"
   ]
  },
  {
   "cell_type": "code",
   "execution_count": null,
   "id": "f98a97b9-c148-45c4-aecb-a48274038433",
   "metadata": {},
   "outputs": [],
   "source": [
    "inp600"
   ]
  },
  {
   "cell_type": "code",
   "execution_count": null,
   "id": "909fa582-e730-4980-aefb-9bbf0b638a6d",
   "metadata": {},
   "outputs": [],
   "source": [
    "inp600 = n6[n6.type == 'input']"
   ]
  },
  {
   "cell_type": "code",
   "execution_count": null,
   "id": "af86aa59-b2d8-4667-94ee-bea9f3ec906f",
   "metadata": {},
   "outputs": [],
   "source": [
    "inp600.classifier.value_counts()"
   ]
  },
  {
   "cell_type": "code",
   "execution_count": null,
   "id": "17c5db46-56e7-4047-95fc-a480956ac767",
   "metadata": {},
   "outputs": [],
   "source": [
    "inpRF150 = inp600[inp600.classifier == 'RF']"
   ]
  },
  {
   "cell_type": "code",
   "execution_count": null,
   "id": "0788ae00-83f9-4535-ade7-88047fa48e43",
   "metadata": {},
   "outputs": [],
   "source": [
    "inpDT150 = inp600[inp600.classifier == 'DT']"
   ]
  },
  {
   "cell_type": "code",
   "execution_count": null,
   "id": "0ebb0e29-4271-49c8-b7ab-d96bf4ba6457",
   "metadata": {},
   "outputs": [],
   "source": [
    "inpLR150 = inp600[inp600.classifier == 'LR']"
   ]
  },
  {
   "cell_type": "code",
   "execution_count": null,
   "id": "742fd52b-bbbc-402d-a530-b6fede7f464d",
   "metadata": {},
   "outputs": [],
   "source": [
    "inpSVM150 = inp600[inp600.classifier == 'SVM']"
   ]
  },
  {
   "cell_type": "code",
   "execution_count": null,
   "id": "7c05116c-0dc5-4bc9-8f8b-0bdd264842e5",
   "metadata": {},
   "outputs": [],
   "source": [
    "inpRF30 = inpRF150.sample(30)\n",
    "inpDT30 = inpDT150.sample(30)\n",
    "inpLR30 = inpLR150.sample(30)\n",
    "inpSVM30 = inpSVM150.sample(30)"
   ]
  },
  {
   "cell_type": "code",
   "execution_count": null,
   "id": "ee896ed7-da94-47d2-a01e-ed22bb2e6881",
   "metadata": {},
   "outputs": [],
   "source": [
    "n6= n6[n6['type'] != 'input']"
   ]
  },
  {
   "cell_type": "code",
   "execution_count": null,
   "id": "158691ee-c06a-4050-ab8f-37c2e206ad50",
   "metadata": {},
   "outputs": [],
   "source": [
    "n6"
   ]
  },
  {
   "cell_type": "code",
   "execution_count": null,
   "id": "465f2c26-8746-4fe0-86df-5fda6e52fdb6",
   "metadata": {},
   "outputs": [],
   "source": [
    "n6 = pd.concat([inpRF30,\n",
    "               inpDT30,\n",
    "               inpLR30,\n",
    "               inpSVM30,\n",
    "               n6])"
   ]
  },
  {
   "cell_type": "code",
   "execution_count": null,
   "id": "4a1d05f6-2b6b-430a-a89d-5fd6e2b162f5",
   "metadata": {},
   "outputs": [],
   "source": [
    "n6"
   ]
  },
  {
   "cell_type": "code",
   "execution_count": null,
   "id": "c2f68f03-9e4e-475a-a22d-85649094feca",
   "metadata": {},
   "outputs": [],
   "source": [
    "n6.type.value_counts()"
   ]
  },
  {
   "cell_type": "code",
   "execution_count": null,
   "id": "690474f5-9f30-4ab7-a09e-2389c6c8a707",
   "metadata": {},
   "outputs": [],
   "source": [
    "n6[n6.type == 'input']"
   ]
  },
  {
   "cell_type": "code",
   "execution_count": null,
   "id": "43688ffe-328f-4f9f-a50f-6f47ea5af50d",
   "metadata": {},
   "outputs": [],
   "source": [
    "n6[n6.type == 'tybalt_vae']"
   ]
  },
  {
   "cell_type": "code",
   "execution_count": null,
   "id": "123cbd0d-5c2d-4701-bf08-9ce9b50f2c81",
   "metadata": {},
   "outputs": [],
   "source": [
    "len(n6[n6.type == 'input'])"
   ]
  },
  {
   "cell_type": "code",
   "execution_count": null,
   "id": "1a625644-050d-4224-939f-3cad88176e2d",
   "metadata": {},
   "outputs": [],
   "source": [
    "inp = n6[n6.type == 'input']"
   ]
  },
  {
   "cell_type": "markdown",
   "id": "38e78c2b-772a-4fb9-8caf-4ff362b435e3",
   "metadata": {
    "jp-MarkdownHeadingCollapsed": true
   },
   "source": [
    "#### Histos"
   ]
  },
  {
   "cell_type": "code",
   "execution_count": null,
   "id": "24895409-4b42-4c21-8a27-5b010047624e",
   "metadata": {},
   "outputs": [],
   "source": [
    "inp[inp.classifier == 'RF'].score.hist()"
   ]
  },
  {
   "cell_type": "code",
   "execution_count": null,
   "id": "6495afbf-8beb-4e4a-b168-1ba1d333139f",
   "metadata": {},
   "outputs": [],
   "source": [
    "inp[inp.classifier == 'DT'].score.hist()"
   ]
  },
  {
   "cell_type": "code",
   "execution_count": null,
   "id": "42a82482-a63f-413b-95fe-ec390a740a9a",
   "metadata": {},
   "outputs": [],
   "source": [
    "inp[inp.classifier == 'LR'].score.hist()"
   ]
  },
  {
   "cell_type": "code",
   "execution_count": null,
   "id": "90f96162-049e-4ea4-a4d9-6ae1044eecf8",
   "metadata": {},
   "outputs": [],
   "source": [
    "inp[inp.classifier == 'SVM'].score.hist()"
   ]
  },
  {
   "cell_type": "markdown",
   "id": "eb9a0441-fe23-4fec-a27a-5c5840f39a09",
   "metadata": {},
   "source": [
    "#### Continue"
   ]
  },
  {
   "cell_type": "code",
   "execution_count": null,
   "id": "1f0ca827-01b3-4e2e-8716-4fa97d018dfe",
   "metadata": {},
   "outputs": [],
   "source": [
    "from scipy.stats import mannwhitneyu\n",
    "import matplotlib.pyplot as plt\n",
    "import seaborn as sns\n",
    "import numpy as np"
   ]
  },
  {
   "cell_type": "code",
   "execution_count": null,
   "id": "4372755e-f994-4c5e-95bb-d497c42557fb",
   "metadata": {},
   "outputs": [],
   "source": [
    "# Calculate 20 p-values\n",
    "# 5 input-to-VAE p-values within each of 4 classifier group of bars\n",
    "\n",
    "# Look at the x-tick labels. There are six boxplots per x-tick.\n",
    "n6.classifier.unique()\n",
    "# array(['RF', 'DT', 'LR', 'SVM'], dtype=object)\n",
    "\n",
    "p_values = []\n",
    "max_points = []\n",
    "for clf in ['RF', 'DT', 'LR', 'SVM']:\n",
    "    clf_sub_frame = n6[n6.classifier == clf]\n",
    "\n",
    "    # Look at the 6 boxplots within each classifier x-tick.\n",
    "    clf_sub_frame.type.unique()\n",
    "    # array(['input', 'tybalt_vae', 'beta_vae', 'clssfr_vae',\n",
    "           # 'cntrstv-loss_vae', 'disc_vae'], dtype=object)\n",
    "    \n",
    "    inp_frame = clf_sub_frame[clf_sub_frame.type == 'input']\n",
    "\n",
    "    # Get the input scores for the five vae p-values to be annotated within this x-tick.\n",
    "    input_scores = inp_frame.score\n",
    "    \n",
    "    for vae in ['tybalt_vae', 'beta_vae', 'clssfr_vae',\n",
    "                'cntrstv-loss_vae', 'disc_vae']:\n",
    "        vae_frame = clf_sub_frame[clf_sub_frame.type == vae]\n",
    "        vae_scores = vae_frame.score\n",
    "        max_points.append(vae_frame.score.max())\n",
    "        stat, p_value = mannwhitneyu(input_scores, vae_scores)\n",
    "        p_values.append(p_value)\n",
    "len(p_values)"
   ]
  },
  {
   "cell_type": "code",
   "execution_count": null,
   "id": "010b6e4b-a4ca-4bb4-bea5-98ad1f5c6808",
   "metadata": {},
   "outputs": [],
   "source": [
    "max_points"
   ]
  },
  {
   "cell_type": "code",
   "execution_count": null,
   "id": "15f32add-7a7b-4a58-99bc-882b444213e5",
   "metadata": {},
   "outputs": [],
   "source": [
    "formatted_p_values = [\"{:.2e}\".format(pval) for pval in p_values]"
   ]
  },
  {
   "cell_type": "code",
   "execution_count": null,
   "id": "54cf213c-7822-4d97-a314-37751047b776",
   "metadata": {},
   "outputs": [],
   "source": [
    "formatted_p_values"
   ]
  },
  {
   "cell_type": "code",
   "execution_count": null,
   "id": "6b6d3b98-1bd9-4a01-acdb-a85a9227ae34",
   "metadata": {},
   "outputs": [],
   "source": [
    "ls ../data/r8/"
   ]
  },
  {
   "cell_type": "code",
   "execution_count": null,
   "id": "6ac1a54a-0139-436c-9e97-f6735f9cd791",
   "metadata": {},
   "outputs": [],
   "source": [
    "nc4_tran_prot = pd.read_csv('../data/r8/nc4_tran-prot_cell-line+CPTAC.tsv',\n",
    "                          sep = '\\t', index_col = 0)"
   ]
  },
  {
   "cell_type": "code",
   "execution_count": null,
   "id": "72e7e548-66d8-44ea-8add-3aac7de55f4c",
   "metadata": {},
   "outputs": [],
   "source": [
    "list(nc4_tran_prot.Cancer_type.unique())"
   ]
  },
  {
   "cell_type": "code",
   "execution_count": null,
   "id": "334f70d4-163a-4613-824b-7b12ad644a5a",
   "metadata": {},
   "outputs": [],
   "source": [
    "plt.figure(figsize=(11, 7))\n",
    "sns.set_style(\"whitegrid\")\n",
    "sns.boxplot(data=n6, x='classifier', y='score',\n",
    "            hue='type', palette='Set3')\n",
    "plt.xlabel('Classifier', fontsize=17)\n",
    "plt.ylabel('F1 Score', fontsize=17)\n",
    "plt.xticks(fontsize=14)\n",
    "plt.yticks(fontsize=14)\n",
    "\n",
    "i = 0\n",
    "\n",
    "x_positions = [-0.24, -0.11, 0.02, 0.16, .29,\n",
    "              .76, .89, 1.02, 1.16, 1.29,\n",
    "              1.76, 1.89, 2.02, 2.16, 2.29,\n",
    "              2.76, 2.89, 3.02, 3.16, 3.29,]\n",
    "for i, x in enumerate(x_positions):\n",
    "    plt.text(x, max_points[i] + 0.01, \n",
    "         f\"$p = {formatted_p_values[i]}$\", ha='left', rotation = 60)\n",
    "plt.suptitle('Joint embedding of data modalities'+\n",
    "          '\\nTranscriptomics and proteomics', fontsize=17)\n",
    "plt.title('P-value comparisions of VAE-corrected data with input data')\n",
    "plt.legend(loc='upper center')\n",
    "\n",
    "c_typs = ['Cancer types:', 'lung-adeno', 'pancreatic-adeno', 'colon-adeno', 'glioblastoma']\n",
    "for i, y_height in enumerate([.68, .66, .64, .62, .60,]):\n",
    "    plt.text(.5, y_height, c_typs[i])\n",
    "\n",
    "plt.savefig('../../joint-emb_pvals.png',\n",
    "            dpi = 300)"
   ]
  },
  {
   "cell_type": "code",
   "execution_count": null,
   "id": "5b95476d-c648-4222-bff0-b900b06d0750",
   "metadata": {},
   "outputs": [],
   "source": []
  }
 ],
 "metadata": {
  "kernelspec": {
   "display_name": "Python 3 (ipykernel)",
   "language": "python",
   "name": "python3"
  },
  "language_info": {
   "codemirror_mode": {
    "name": "ipython",
    "version": 3
   },
   "file_extension": ".py",
   "mimetype": "text/x-python",
   "name": "python",
   "nbconvert_exporter": "python",
   "pygments_lexer": "ipython3",
   "version": "3.10.8"
  }
 },
 "nbformat": 4,
 "nbformat_minor": 5
}
