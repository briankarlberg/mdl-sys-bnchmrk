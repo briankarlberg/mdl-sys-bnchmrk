{
 "cells": [
  {
   "cell_type": "code",
   "execution_count": null,
   "id": "9cd6d37d-8ce9-418f-aa50-1c9e99ac9198",
   "metadata": {},
   "outputs": [],
   "source": [
    "# data_loader\n",
    "    # read from model system sub-folders in data\n",
    "    # write to ../strctrd/\n",
    "    # read from ../strctrd/ to correction methods, write to results/files"
   ]
  },
  {
   "cell_type": "markdown",
   "id": "1669f06f-d0bf-4d2e-aa4f-8dfc94ae8e93",
   "metadata": {},
   "source": [
    "https://pnnl-compbio.github.io/coderdata/pages/usage"
   ]
  },
  {
   "cell_type": "markdown",
   "id": "6693c3ab-58f6-4238-86fc-a2cf9e3ffd57",
   "metadata": {
    "jp-MarkdownHeadingCollapsed": true
   },
   "source": [
    "#### Download data"
   ]
  },
  {
   "cell_type": "raw",
   "id": "5b6a12c6-5783-4867-8f8f-e94d53e4b1eb",
   "metadata": {},
   "source": [
    "pwd\n",
    "mdl-sys-bnchmrk/data/<cancer model system specific sub-folder>"
   ]
  },
  {
   "cell_type": "code",
   "execution_count": null,
   "id": "899dc530-a6b2-44ec-8994-4c2002bf1899",
   "metadata": {},
   "outputs": [],
   "source": [
    "import coderdata as cd"
   ]
  },
  {
   "cell_type": "code",
   "execution_count": null,
   "id": "5b5b31d1-e1fe-444e-bbfb-71201a91ee88",
   "metadata": {},
   "outputs": [],
   "source": [
    "# cd.download_data_by_prefix('beataml')\n",
    "# cd.download_data_by_prefix('cell_line')\n",
    "# cd.download_data_by_prefix('cptac')\n",
    "# cd.download_data_by_prefix('hcmi')"
   ]
  },
  {
   "cell_type": "markdown",
   "id": "05eabd0f-44c1-40c4-8cda-99af0ec60f34",
   "metadata": {
    "jp-MarkdownHeadingCollapsed": true
   },
   "source": [
    "##### Exacloud download"
   ]
  },
  {
   "cell_type": "code",
   "execution_count": null,
   "id": "32451989-925a-4789-bb25-141a5964ca76",
   "metadata": {},
   "outputs": [],
   "source": [
    "pip install coderdata"
   ]
  },
  {
   "cell_type": "code",
   "execution_count": null,
   "id": "c2fa1296-57fe-44cc-af22-8556ca3e2e86",
   "metadata": {},
   "outputs": [],
   "source": []
  },
  {
   "cell_type": "markdown",
   "id": "b12608da-1880-4012-8cf8-968e2d9a1d68",
   "metadata": {
    "jp-MarkdownHeadingCollapsed": true
   },
   "source": [
    "##### Exacloud upload"
   ]
  },
  {
   "cell_type": "code",
   "execution_count": null,
   "id": "71bb0c72-8436-4d4c-bf63-1ef49ebc1935",
   "metadata": {},
   "outputs": [],
   "source": [
    "ls ../data/beataml/"
   ]
  },
  {
   "cell_type": "raw",
   "id": "f4a58d32-c9a8-4743-96df-99643c6c849b",
   "metadata": {},
   "source": [
    "scp ../data/beataml/* mdl-sys-bnchmrk/data/beataml/"
   ]
  },
  {
   "cell_type": "markdown",
   "id": "7784f7a8-0149-4f57-b3a2-81720e712be1",
   "metadata": {
    "jp-MarkdownHeadingCollapsed": true
   },
   "source": [
    "#### Set systems"
   ]
  },
  {
   "cell_type": "code",
   "execution_count": null,
   "id": "4eb782b1-4148-448f-a990-107931e8218a",
   "metadata": {},
   "outputs": [],
   "source": [
    "pwd\n",
    "mdl-sys-bnchmrk/code"
   ]
  },
  {
   "cell_type": "code",
   "execution_count": 2,
   "id": "c305c6cc-8255-4d0d-bc30-e4c92117fe1c",
   "metadata": {},
   "outputs": [
    {
     "name": "stdout",
     "output_type": "stream",
     "text": [
      "Interactive namespace is empty.\n"
     ]
    }
   ],
   "source": [
    "%whos"
   ]
  },
  {
   "cell_type": "code",
   "execution_count": 3,
   "id": "a0b89cd0-a84c-4c71-8294-802a78b17ec1",
   "metadata": {},
   "outputs": [
    {
     "name": "stdout",
     "output_type": "stream",
     "text": [
      "Processing Data...\n",
      "Processing Data...\n",
      "Processing Data...\n",
      "Processing Data...\n",
      "DatasetLoaders in RAM\n"
     ]
    }
   ],
   "source": [
    "import coderdata as cd\n",
    "cell_line = cd.DatasetLoader('cell_line', data_directory = '../data/cell_line/') # a\n",
    "cptac = cd.DatasetLoader('cptac', data_directory = '../data/cptac/') # b\n",
    "beataml = cd.DatasetLoader('beataml', data_directory = '../data/beataml/') # c\n",
    "hcmi = cd.DatasetLoader('hcmi', data_directory = '../data/hcmi/') # d\n",
    "\n",
    "print('DatasetLoaders in RAM')\n",
    "systems = 'cell-line+CPTAC'"
   ]
  },
  {
   "cell_type": "code",
   "execution_count": null,
   "id": "d45549b7-8be1-4db5-b77c-98ca4e953339",
   "metadata": {},
   "outputs": [],
   "source": [
    "# r5: write to: (mb and vae read target)"
   ]
  },
  {
   "cell_type": "code",
   "execution_count": 7,
   "id": "994582af-a10f-45b2-869b-b05b4c0fdfb3",
   "metadata": {},
   "outputs": [],
   "source": [
    "ls ../results/input-data/r5/r5-fls/"
   ]
  },
  {
   "cell_type": "code",
   "execution_count": 69,
   "id": "b25aa7a8-4a31-4ca3-a2ce-9c195a7d3b00",
   "metadata": {},
   "outputs": [],
   "source": [
    "r = 'r5'"
   ]
  },
  {
   "cell_type": "code",
   "execution_count": 71,
   "id": "bf543945-90a8-4d87-bd0d-e9be4ff8ffac",
   "metadata": {},
   "outputs": [
    {
     "data": {
      "text/plain": [
       "'../results/input-data/r5/r5-fls/'"
      ]
     },
     "execution_count": 71,
     "metadata": {},
     "output_type": "execute_result"
    }
   ],
   "source": [
    "out_dir = '../results/input-data/'+r+'/'+r+'-fls/'\n",
    "out_dir"
   ]
  },
  {
   "cell_type": "raw",
   "id": "7b1d7384-2f12-4f34-ac39-af7c454c7bc8",
   "metadata": {},
   "source": [
    "../results/mbatch-out/r5/r5-fls/ # "
   ]
  },
  {
   "cell_type": "raw",
   "id": "abd68274-edce-4810-9f72-67e4b5a13fdb",
   "metadata": {},
   "source": [
    "../results/vae-out/r5/r5-fls/"
   ]
  },
  {
   "cell_type": "code",
   "execution_count": null,
   "id": "0f18b8aa-efb1-4844-8d96-27c1d969a4e9",
   "metadata": {},
   "outputs": [],
   "source": [
    "# then read from these three dirs into ump_clf.ipynb\n",
    "    # (mbatch and vae read from ../results/input-data/r5/r5-fls/)"
   ]
  },
  {
   "cell_type": "markdown",
   "id": "f35e165e-2edd-4662-8963-1cf53dd46ffc",
   "metadata": {
    "jp-MarkdownHeadingCollapsed": true
   },
   "source": [
    "#### Imports and functions"
   ]
  },
  {
   "cell_type": "code",
   "execution_count": null,
   "id": "af185186-0190-4bc6-8e9a-2640142d9852",
   "metadata": {},
   "outputs": [],
   "source": [
    "# this was ported to script in strctr_one.ipynb\n",
    "    # With strctr.py as the function file for that^\n",
    "    # import strctr, strctr.dflite() was import error \n",
    "    # between nb and script\n",
    "\n",
    "    # run import strctr in notebook?"
   ]
  },
  {
   "cell_type": "code",
   "execution_count": 9,
   "id": "e5cf931a-a468-4ee1-a859-7f8769a6580e",
   "metadata": {},
   "outputs": [],
   "source": [
    "import glob\n",
    "import pandas as pd\n",
    "import umap\n",
    "import numpy as np\n",
    "import os\n",
    "import matplotlib.pyplot as plt\n",
    "from matplotlib.lines import Line2D"
   ]
  },
  {
   "cell_type": "code",
   "execution_count": 10,
   "id": "2d0d9d22-04b3-4a02-8e49-f27a7114f444",
   "metadata": {},
   "outputs": [],
   "source": [
    "# Traspose long-form X-file into biomarkers as columns,\n",
    "def extract(df_lite):\n",
    "    import time\n",
    "    start = time.time()\n",
    "    data_type = df_lite.columns[2] # extract marker values\n",
    "\n",
    "    dot_T = df_lite.pivot_table(\n",
    "        index='improve_sample_id',\n",
    "        columns='entrez_id',\n",
    "        values=data_type,\n",
    "        aggfunc='mean'             # average duplicate values\n",
    "    )\n",
    "\n",
    "    end = time.time()\n",
    "    wall_clock = end - start\n",
    "    return str(round(wall_clock / 60, 2)) + ' minutes', dot_T"
   ]
  },
  {
   "cell_type": "code",
   "execution_count": 11,
   "id": "f4d53ca1-d276-4278-bb0b-1e45b2bfe5c4",
   "metadata": {},
   "outputs": [],
   "source": [
    "# Extract ids and biomarker values\n",
    "def df_check(X_n):\n",
    "    df_lite = X_n.iloc[:, :3] # cut the last two columns, source and study\n",
    "    size = f\"{df_lite.shape[0]:,}\"\n",
    "    na_count = f\"{df_lite.isna().sum().sum():,}\"\n",
    "    inf_count = f\"{df_lite.isin([np.inf, -np.inf]).sum().sum():,}\"\n",
    "    return df_lite, size, na_count, inf_count"
   ]
  },
  {
   "cell_type": "code",
   "execution_count": 12,
   "id": "016ca65e-0f63-4f0a-84ad-f6880b50bb61",
   "metadata": {},
   "outputs": [],
   "source": [
    "# dot_T = g(d_typ, dot_T.copy())\n",
    "def g(d_typ, df):\n",
    "    \"\"\"\n",
    "    Checks the data types of columns and index in a DataFrame and prints informative messages.\n",
    "\n",
    "    Args:\n",
    "        df (pandas.DataFrame): The DataFrame to check.\n",
    "\n",
    "    Returns:\n",
    "        None\n",
    "    \"\"\"\n",
    "\n",
    "    if df.columns.dtype == 'float64' and df.index.dtype == 'float64':\n",
    "        print('both float')\n",
    "        df = float_to_string(d_typ, df)\n",
    "    elif df.columns.dtype == 'float64' and df.index.dtype == 'int':\n",
    "        print('columns are float, index are int')\n",
    "        df = indx_int_colm_flt(d_typ, df)\n",
    "    elif df.columns.dtype == 'int' and df.index.dtype == 'float':\n",
    "        print('columns are int, index are float, fail, write another function')\n",
    "        # forth function\n",
    "    elif df.columns.dtype == 'int' and df.index.dtype == 'int':\n",
    "        print('columns are int, index are int')\n",
    "        df = int_to_string(d_typ, df)\n",
    "    else:\n",
    "        print('non int or float dtype detected')\n",
    "    return df"
   ]
  },
  {
   "cell_type": "code",
   "execution_count": 13,
   "id": "d6738cf4-43f4-4fa1-8c36-324ce0f59232",
   "metadata": {},
   "outputs": [],
   "source": [
    "def int_to_string(d_typ, dot_T):\n",
    "    dot_T.columns = dot_T.columns.map(str)\n",
    "    dot_T.columns = ['entrz_' + d_typ + i for i in dot_T.columns] #\n",
    "    dot_T.columns.name = 'entrez_id'\n",
    "\n",
    "    dot_T.index = dot_T.index.map(str)\n",
    "    dot_T.index = ['smpl_id_' + i for i in dot_T.index]\n",
    "    dot_T.index.name = 'improve_sample_id'\n",
    "    return dot_T"
   ]
  },
  {
   "cell_type": "code",
   "execution_count": 14,
   "id": "0f9c1b97-5e33-419d-baf3-bc3c8f3a137b",
   "metadata": {},
   "outputs": [],
   "source": [
    "def indx_int_colm_flt(d_typ, dot_T):\n",
    "    dot_T.columns = dot_T.columns.map(str)\n",
    "    dot_T.columns = [i.split('.')[0] for i in dot_T.columns]\n",
    "    dot_T.columns = ['entrz_' + d_typ + i for i in dot_T.columns]\n",
    "    dot_T.columns.name = 'entrez_id'\n",
    "    \n",
    "    dot_T.index = dot_T.index.map(str)\n",
    "    dot_T.index = ['smpl_id_' + i for i in dot_T.index]\n",
    "    dot_T.index.name = 'improve_sample_id'\n",
    "    return dot_T"
   ]
  },
  {
   "cell_type": "code",
   "execution_count": 15,
   "id": "61e643e0-6ccf-472a-bc8b-0831eca51699",
   "metadata": {},
   "outputs": [],
   "source": [
    "def float_to_string(d_typ, dot_T):\n",
    "    dot_T.columns = dot_T.columns.map(str)\n",
    "    dot_T.columns = [i.split('.')[0] for i in dot_T.columns]\n",
    "    dot_T.columns = ['entrz_' + d_typ + i for i in dot_T.columns]\n",
    "    dot_T.columns.name = 'entrez_id'\n",
    "    \n",
    "    dot_T.index = dot_T.index.map(str)\n",
    "    dot_T.index = [i.split('.')[0] for i in dot_T.index]\n",
    "    dot_T.index = ['smpl_id_' + i for i in dot_T.index]\n",
    "    dot_T.index.name = 'improve_sample_id'\n",
    "    return dot_T"
   ]
  },
  {
   "cell_type": "markdown",
   "id": "993cfc7b-5ce7-4c18-8fbf-e78f056f1c39",
   "metadata": {
    "jp-MarkdownHeadingCollapsed": true
   },
   "source": [
    "#### HCMI"
   ]
  },
  {
   "cell_type": "code",
   "execution_count": 18,
   "id": "f8edb898-fc2b-4ef5-8f99-e43fe88e4517",
   "metadata": {},
   "outputs": [],
   "source": [
    "sys_b = 'hcmi'\n",
    "sys_b_samp = hcmi.samples"
   ]
  },
  {
   "cell_type": "code",
   "execution_count": 19,
   "id": "d87b5973-df95-4a4d-b258-ef7687b5e2f1",
   "metadata": {
    "jupyter": {
     "source_hidden": true
    }
   },
   "outputs": [
    {
     "data": {
      "text/html": [
       "<div>\n",
       "<style scoped>\n",
       "    .dataframe tbody tr th:only-of-type {\n",
       "        vertical-align: middle;\n",
       "    }\n",
       "\n",
       "    .dataframe tbody tr th {\n",
       "        vertical-align: top;\n",
       "    }\n",
       "\n",
       "    .dataframe thead th {\n",
       "        text-align: right;\n",
       "    }\n",
       "</style>\n",
       "<table border=\"1\" class=\"dataframe\">\n",
       "  <thead>\n",
       "    <tr style=\"text-align: right;\">\n",
       "      <th></th>\n",
       "      <th>cancer_type</th>\n",
       "      <th>common_name</th>\n",
       "      <th>other_names</th>\n",
       "      <th>other_id</th>\n",
       "      <th>model_type</th>\n",
       "      <th>other_id_source</th>\n",
       "      <th>improve_sample_id</th>\n",
       "    </tr>\n",
       "  </thead>\n",
       "  <tbody>\n",
       "    <tr>\n",
       "      <th>0</th>\n",
       "      <td>Adenocarcinoma, NOS</td>\n",
       "      <td>Extrahepatic bile duct</td>\n",
       "      <td>aba4536f-6457-4ec2-90ac-1e0464352d7b</td>\n",
       "      <td>9c45ad53-6741-4929-b5a3-0a91e0ae6f89</td>\n",
       "      <td>Solid Tissue</td>\n",
       "      <td>HCMI</td>\n",
       "      <td>3001</td>\n",
       "    </tr>\n",
       "    <tr>\n",
       "      <th>1</th>\n",
       "      <td>Adenocarcinoma, NOS</td>\n",
       "      <td>Stomach, NOS</td>\n",
       "      <td>7a4676bb-3b9f-4e1c-b58f-30f80660df44</td>\n",
       "      <td>f390b838-55a9-42c2-b07d-1cfecb124404</td>\n",
       "      <td>3D Organoid</td>\n",
       "      <td>HCMI</td>\n",
       "      <td>3002</td>\n",
       "    </tr>\n",
       "    <tr>\n",
       "      <th>2</th>\n",
       "      <td>Adenocarcinoma, NOS</td>\n",
       "      <td>Stomach, NOS</td>\n",
       "      <td>7a4676bb-3b9f-4e1c-b58f-30f80660df44</td>\n",
       "      <td>077e85a1-c058-4d87-9228-32fac1e11270</td>\n",
       "      <td>Peripheral Blood Components NOS</td>\n",
       "      <td>HCMI</td>\n",
       "      <td>3003</td>\n",
       "    </tr>\n",
       "    <tr>\n",
       "      <th>3</th>\n",
       "      <td>Infiltrating duct carcinoma, NOS</td>\n",
       "      <td>Pancreas, NOS</td>\n",
       "      <td>ee35fde8-183f-48d2-b4ea-460c40445daa</td>\n",
       "      <td>e8f8cb08-d875-444f-9a1a-c7f0bf039e0b</td>\n",
       "      <td>3D Organoid</td>\n",
       "      <td>HCMI</td>\n",
       "      <td>3004</td>\n",
       "    </tr>\n",
       "    <tr>\n",
       "      <th>4</th>\n",
       "      <td>Adenocarcinoma, NOS</td>\n",
       "      <td>Stomach, NOS</td>\n",
       "      <td>1f080fcb-15c8-452a-a083-05ed83098a52</td>\n",
       "      <td>8a69a95f-830e-467d-ac36-0fec5e64d18a</td>\n",
       "      <td>3D Organoid</td>\n",
       "      <td>HCMI</td>\n",
       "      <td>3005</td>\n",
       "    </tr>\n",
       "    <tr>\n",
       "      <th>...</th>\n",
       "      <td>...</td>\n",
       "      <td>...</td>\n",
       "      <td>...</td>\n",
       "      <td>...</td>\n",
       "      <td>...</td>\n",
       "      <td>...</td>\n",
       "      <td>...</td>\n",
       "    </tr>\n",
       "    <tr>\n",
       "      <th>904</th>\n",
       "      <td>Infiltrating duct carcinoma, NOS</td>\n",
       "      <td>Pancreas, NOS</td>\n",
       "      <td>f6824107-f92f-47fc-930a-cbe3bfe58895</td>\n",
       "      <td>569e15b7-c6a4-4f62-b260-da841b5f2b16</td>\n",
       "      <td>3D Organoid</td>\n",
       "      <td>HCMI</td>\n",
       "      <td>3905</td>\n",
       "    </tr>\n",
       "    <tr>\n",
       "      <th>905</th>\n",
       "      <td>Infiltrating duct carcinoma, NOS</td>\n",
       "      <td>Pancreas, NOS</td>\n",
       "      <td>f6824107-f92f-47fc-930a-cbe3bfe58895</td>\n",
       "      <td>f9fd26cf-d18a-4fab-ab33-43562cbccab0</td>\n",
       "      <td>Solid Tissue</td>\n",
       "      <td>HCMI</td>\n",
       "      <td>3906</td>\n",
       "    </tr>\n",
       "    <tr>\n",
       "      <th>906</th>\n",
       "      <td>Glioblastoma</td>\n",
       "      <td>Brain, NOS</td>\n",
       "      <td>149a8565-e0c5-4474-a693-d44f1b445c0c</td>\n",
       "      <td>529f3cbf-f65d-4a60-a562-b3fcfbd7d4c9</td>\n",
       "      <td>Solid Tissue</td>\n",
       "      <td>HCMI</td>\n",
       "      <td>3907</td>\n",
       "    </tr>\n",
       "    <tr>\n",
       "      <th>907</th>\n",
       "      <td>Glioblastoma</td>\n",
       "      <td>Brain, NOS</td>\n",
       "      <td>d420e653-3fb2-432b-9e81-81232a80264d</td>\n",
       "      <td>c24ba203-53ba-4fe1-97c4-152b45d44c39</td>\n",
       "      <td>Peripheral Blood Components NOS</td>\n",
       "      <td>HCMI</td>\n",
       "      <td>3908</td>\n",
       "    </tr>\n",
       "    <tr>\n",
       "      <th>908</th>\n",
       "      <td>Glioblastoma</td>\n",
       "      <td>Brain, NOS</td>\n",
       "      <td>88335768-5a27-4b29-b3bc-72e53b87015b</td>\n",
       "      <td>587a7c71-7766-41da-87a3-56974f0b720b</td>\n",
       "      <td>3D Neurosphere</td>\n",
       "      <td>HCMI</td>\n",
       "      <td>3909</td>\n",
       "    </tr>\n",
       "  </tbody>\n",
       "</table>\n",
       "<p>909 rows × 7 columns</p>\n",
       "</div>"
      ],
      "text/plain": [
       "                          cancer_type             common_name  \\\n",
       "0                 Adenocarcinoma, NOS  Extrahepatic bile duct   \n",
       "1                 Adenocarcinoma, NOS            Stomach, NOS   \n",
       "2                 Adenocarcinoma, NOS            Stomach, NOS   \n",
       "3    Infiltrating duct carcinoma, NOS           Pancreas, NOS   \n",
       "4                 Adenocarcinoma, NOS            Stomach, NOS   \n",
       "..                                ...                     ...   \n",
       "904  Infiltrating duct carcinoma, NOS           Pancreas, NOS   \n",
       "905  Infiltrating duct carcinoma, NOS           Pancreas, NOS   \n",
       "906                      Glioblastoma              Brain, NOS   \n",
       "907                      Glioblastoma              Brain, NOS   \n",
       "908                      Glioblastoma              Brain, NOS   \n",
       "\n",
       "                              other_names  \\\n",
       "0    aba4536f-6457-4ec2-90ac-1e0464352d7b   \n",
       "1    7a4676bb-3b9f-4e1c-b58f-30f80660df44   \n",
       "2    7a4676bb-3b9f-4e1c-b58f-30f80660df44   \n",
       "3    ee35fde8-183f-48d2-b4ea-460c40445daa   \n",
       "4    1f080fcb-15c8-452a-a083-05ed83098a52   \n",
       "..                                    ...   \n",
       "904  f6824107-f92f-47fc-930a-cbe3bfe58895   \n",
       "905  f6824107-f92f-47fc-930a-cbe3bfe58895   \n",
       "906  149a8565-e0c5-4474-a693-d44f1b445c0c   \n",
       "907  d420e653-3fb2-432b-9e81-81232a80264d   \n",
       "908  88335768-5a27-4b29-b3bc-72e53b87015b   \n",
       "\n",
       "                                 other_id                       model_type  \\\n",
       "0    9c45ad53-6741-4929-b5a3-0a91e0ae6f89                     Solid Tissue   \n",
       "1    f390b838-55a9-42c2-b07d-1cfecb124404                      3D Organoid   \n",
       "2    077e85a1-c058-4d87-9228-32fac1e11270  Peripheral Blood Components NOS   \n",
       "3    e8f8cb08-d875-444f-9a1a-c7f0bf039e0b                      3D Organoid   \n",
       "4    8a69a95f-830e-467d-ac36-0fec5e64d18a                      3D Organoid   \n",
       "..                                    ...                              ...   \n",
       "904  569e15b7-c6a4-4f62-b260-da841b5f2b16                      3D Organoid   \n",
       "905  f9fd26cf-d18a-4fab-ab33-43562cbccab0                     Solid Tissue   \n",
       "906  529f3cbf-f65d-4a60-a562-b3fcfbd7d4c9                     Solid Tissue   \n",
       "907  c24ba203-53ba-4fe1-97c4-152b45d44c39  Peripheral Blood Components NOS   \n",
       "908  587a7c71-7766-41da-87a3-56974f0b720b                   3D Neurosphere   \n",
       "\n",
       "    other_id_source  improve_sample_id  \n",
       "0              HCMI               3001  \n",
       "1              HCMI               3002  \n",
       "2              HCMI               3003  \n",
       "3              HCMI               3004  \n",
       "4              HCMI               3005  \n",
       "..              ...                ...  \n",
       "904            HCMI               3905  \n",
       "905            HCMI               3906  \n",
       "906            HCMI               3907  \n",
       "907            HCMI               3908  \n",
       "908            HCMI               3909  \n",
       "\n",
       "[909 rows x 7 columns]"
      ]
     },
     "execution_count": 19,
     "metadata": {},
     "output_type": "execute_result"
    }
   ],
   "source": [
    "sys_b_samp"
   ]
  },
  {
   "cell_type": "code",
   "execution_count": 22,
   "id": "09db735d-2e5a-45a9-9c13-197b50656663",
   "metadata": {},
   "outputs": [
    {
     "data": {
      "text/plain": [
       "model_type\n",
       "3D Organoid                                     260\n",
       "Solid Tissue                                    242\n",
       "Peripheral Whole Blood                           88\n",
       "Adherent Cell Line                               76\n",
       "Buffy Coat                                       43\n",
       "3D Neurosphere                                   39\n",
       "2D Modified Conditionally Reprogrammed Cells     26\n",
       "Peripheral Blood Components NOS                  22\n",
       "Not Reported                                      6\n",
       "Pleural Effusion                                  4\n",
       "Mixed Adherent Suspension                         2\n",
       "Cell                                              2\n",
       "Human Original Cells                              1\n",
       "Saliva                                            1\n",
       "Name: count, dtype: int64"
      ]
     },
     "execution_count": 22,
     "metadata": {},
     "output_type": "execute_result"
    }
   ],
   "source": [
    "sys_b_samp.model_type.value_counts()[:100]"
   ]
  },
  {
   "cell_type": "code",
   "execution_count": 23,
   "id": "5debe365-643b-4783-b90a-0197d69a5f71",
   "metadata": {},
   "outputs": [],
   "source": [
    "sys_b_samp_orgnd = sys_b_samp[sys_b_samp.model_type == '3D Organoid']"
   ]
  },
  {
   "cell_type": "code",
   "execution_count": 24,
   "id": "83c0202f-253a-48c2-a0a6-dff43531466e",
   "metadata": {},
   "outputs": [
    {
     "data": {
      "text/plain": [
       "cancer_type\n",
       "Adenocarcinoma, NOS                                     146\n",
       "Infiltrating duct carcinoma, NOS                         47\n",
       "Adenocarcinoma, metastatic, NOS                          20\n",
       "Tubulovillous adenoma, NOS                               10\n",
       "Mucinous adenocarcinoma                                   9\n",
       "Carcinoma, NOS                                            7\n",
       "Intraductal papillary-mucinous carcinoma, invasive        5\n",
       "Tubular adenoma, NOS                                      3\n",
       "Adenocarcinoma, intestinal type                           3\n",
       "Serrated adenoma                                          2\n",
       "Atypical carcinoid tumor                                  2\n",
       "Neuroendocrine carcinoma, NOS                             2\n",
       "Medullary carcinoma, NOS                                  1\n",
       "Cholangiocarcinoma                                        1\n",
       "Metaplastic carcinoma, NOS                                1\n",
       "Noninfiltrating intraductal papillary adenocarcinoma      1\n",
       "Name: count, dtype: int64"
      ]
     },
     "execution_count": 24,
     "metadata": {},
     "output_type": "execute_result"
    }
   ],
   "source": [
    "sys_b_samp_orgnd.cancer_type.value_counts()[:100]"
   ]
  },
  {
   "cell_type": "code",
   "execution_count": 27,
   "id": "821813a1-052a-490d-8e05-402c6627d68f",
   "metadata": {},
   "outputs": [
    {
     "data": {
      "text/plain": [
       "common_name\n",
       "Colon, NOS        73\n",
       "Pancreas, NOS     63\n",
       "Esophagus, NOS    43\n",
       "Rectum, NOS       24\n",
       "Stomach, NOS      19\n",
       "Name: count, dtype: int64"
      ]
     },
     "execution_count": 27,
     "metadata": {},
     "output_type": "execute_result"
    }
   ],
   "source": [
    "sys_b_samp_orgnd.common_name.value_counts()[:5]"
   ]
  },
  {
   "cell_type": "code",
   "execution_count": null,
   "id": "9308c8fe-5fad-4fad-9c7b-40d612ed4810",
   "metadata": {},
   "outputs": [],
   "source": [
    "sys_b_samp_orgnd.common_name == 'Colon, NOS'"
   ]
  },
  {
   "cell_type": "code",
   "execution_count": null,
   "id": "b37081f6-e99d-41e1-b12d-a9788ca8002e",
   "metadata": {},
   "outputs": [],
   "source": [
    "# Descriptive stat plots?"
   ]
  },
  {
   "cell_type": "code",
   "execution_count": 21,
   "id": "ae53f6a2-a0a1-4d00-b4e2-925c80c9d0e3",
   "metadata": {
    "collapsed": true,
    "jupyter": {
     "outputs_hidden": true
    }
   },
   "outputs": [
    {
     "name": "stdout",
     "output_type": "stream",
     "text": [
      "hcmi is system b\n"
     ]
    },
    {
     "data": {
      "text/plain": [
       "cancer_type\n",
       "Adenocarcinoma, NOS                                     380\n",
       "Glioblastoma                                            145\n",
       "Infiltrating duct carcinoma, NOS                        105\n",
       "Malignant melanoma, NOS                                  82\n",
       "Adenocarcinoma, metastatic, NOS                          37\n",
       "Mucinous adenocarcinoma                                  22\n",
       "Tubulovillous adenoma, NOS                               22\n",
       "Carcinoma, NOS                                           19\n",
       "Intraductal papillary-mucinous carcinoma, invasive        9\n",
       "Tubular adenoma, NOS                                      8\n",
       "Spindle cell sarcoma                                      7\n",
       "Adenocarcinoma, intestinal type                           6\n",
       "Nephroblastoma, NOS                                       6\n",
       "Gliosarcoma                                               6\n",
       "Alveolar rhabdomyosarcoma                                 5\n",
       "Epithelioid sarcoma                                       5\n",
       "Not Reported                                              5\n",
       "Ewing sarcoma                                             5\n",
       "Neuroendocrine carcinoma, NOS                             5\n",
       "Atypical carcinoid tumor                                  5\n",
       "Osteosarcoma, NOS                                         4\n",
       "Undifferentiated sarcoma                                  4\n",
       "Cholangiocarcinoma                                        3\n",
       "Noninfiltrating intraductal papillary adenocarcinoma      3\n",
       "Serrated adenoma                                          3\n",
       "Medullary carcinoma, NOS                                  2\n",
       "Pleomorphic carcinoma                                     2\n",
       "Mixed type rhabdomyosarcoma                               2\n",
       "Metaplastic carcinoma, NOS                                2\n",
       "Name: count, dtype: int64"
      ]
     },
     "execution_count": 21,
     "metadata": {},
     "output_type": "execute_result"
    }
   ],
   "source": [
    "print(sys_b, 'is system b')\n",
    "sys_b_samp.cancer_type.value_counts()[:100]"
   ]
  },
  {
   "cell_type": "code",
   "execution_count": 26,
   "id": "a812b783-dc40-45d2-8d15-1629de807417",
   "metadata": {
    "collapsed": true,
    "jupyter": {
     "outputs_hidden": true
    }
   },
   "outputs": [
    {
     "name": "stdout",
     "output_type": "stream",
     "text": [
      "hcmi is system b\n"
     ]
    },
    {
     "data": {
      "text/plain": [
       "common_name\n",
       "Colon, NOS                                              188\n",
       "Brain, NOS                                              151\n",
       "Pancreas, NOS                                           134\n",
       "Esophagus, NOS                                          119\n",
       "Skin, NOS                                                90\n",
       "Rectum, NOS                                              66\n",
       "Stomach, NOS                                             33\n",
       "Ampulla of Vater                                         19\n",
       "Bone, NOS                                                14\n",
       "Extrahepatic bile duct                                   13\n",
       "Lung, NOS                                                13\n",
       "Connective, subcutaneous and other soft tissues, NOS     13\n",
       "Small intestine, NOS                                     12\n",
       "Not Reported                                             11\n",
       "Breast, NOS                                               9\n",
       "Ovary                                                     9\n",
       "Kidney, NOS                                               6\n",
       "Rectosigmoid junction                                     3\n",
       "Intrahepatic bile duct                                    3\n",
       "Gallbladder                                               3\n",
       "Name: count, dtype: int64"
      ]
     },
     "execution_count": 26,
     "metadata": {},
     "output_type": "execute_result"
    }
   ],
   "source": [
    "print(sys_b, 'is system b')\n",
    "sys_b_samp.common_name.value_counts()[:100]"
   ]
  },
  {
   "cell_type": "code",
   "execution_count": null,
   "id": "8bac2523-721b-45cf-a9b8-3dc40c229ede",
   "metadata": {},
   "outputs": [],
   "source": [
    "sys_a_samp = cell_line.samples"
   ]
  },
  {
   "cell_type": "code",
   "execution_count": null,
   "id": "76244910-b9d2-456d-b4a6-c723487652d1",
   "metadata": {},
   "outputs": [],
   "source": [
    "sys_a_samp = cptac.samples"
   ]
  },
  {
   "cell_type": "code",
   "execution_count": null,
   "id": "06c235e5-7a53-4eb8-aa58-9644d8bfb012",
   "metadata": {},
   "outputs": [],
   "source": [
    "sys_a_samp = cell_line.samples"
   ]
  },
  {
   "cell_type": "markdown",
   "id": "b4f1479c-96b4-4799-9d1a-32ace78312b5",
   "metadata": {},
   "source": [
    "#### Systems toggles"
   ]
  },
  {
   "cell_type": "code",
   "execution_count": null,
   "id": "036eda46-0fd6-4bfc-b43b-9b316bb3179f",
   "metadata": {},
   "outputs": [],
   "source": [
    "systems = 'cell-line+CPTAC'"
   ]
  },
  {
   "cell_type": "markdown",
   "id": "b4d85dfb-be6f-4583-a4af-ba844e8eb6db",
   "metadata": {},
   "source": [
    "#### Samples, abstract systems to a and b"
   ]
  },
  {
   "cell_type": "markdown",
   "id": "c219e46d-24ad-4350-81fc-402fd79ef8f3",
   "metadata": {
    "jp-MarkdownHeadingCollapsed": true
   },
   "source": [
    "##### HCMI"
   ]
  },
  {
   "cell_type": "code",
   "execution_count": null,
   "id": "e8109221-2713-41db-883e-f6112b402b1a",
   "metadata": {},
   "outputs": [],
   "source": [
    "# HCMI + cell line\n",
    "systems = 'cell-line+HCMI'\n",
    "\n",
    "sys_a_samp = cell_line.samples\n",
    "sys_a = 'cell-line'\n",
    "sys_a_lbl = 'cell_line'\n",
    "\n",
    "sys_b_samp = hcmi.samples\n",
    "sys_b_samp = sys_b_samp[sys_b_samp.model_type == '3D Organoid']\n",
    "sys_b = 'hcmi'\n",
    "sys_b_lbl = 'HCMI'"
   ]
  },
  {
   "cell_type": "code",
   "execution_count": 218,
   "id": "b09c0466-a957-416b-975c-408475f9b558",
   "metadata": {},
   "outputs": [],
   "source": [
    "# HCMI + CPTAC\n",
    "systems = 'CPTAC+HCMI'\n",
    "\n",
    "sys_a_samp = cptac.samples # to cptac from cell line\n",
    "sys_a = 'cptac'\n",
    "sys_a_lbl = 'CPTAC'\n",
    "\n",
    "sys_b_samp = hcmi.samples\n",
    "sys_b = 'hcmi'\n",
    "sys_b_lbl = 'HCMI'"
   ]
  },
  {
   "cell_type": "markdown",
   "id": "7414a0c3-f983-4c9e-a8c4-20a0b91890f1",
   "metadata": {},
   "source": [
    "##### AML"
   ]
  },
  {
   "cell_type": "code",
   "execution_count": 260,
   "id": "0668b831-9014-4a5e-9da0-237849cfaa45",
   "metadata": {},
   "outputs": [],
   "source": [
    "# AML\n",
    "systems = 'cell-line+BeatAML'\n",
    "\n",
    "sys_a_samp = cell_line.samples\n",
    "sys_a = 'cell-line'\n",
    "sys_a_lbl = 'cell_line'\n",
    "\n",
    "sys_b_samp = beataml.samples\n",
    "sys_b = 'beataml'\n",
    "sys_b_lbl = 'BeatAML'"
   ]
  },
  {
   "cell_type": "markdown",
   "id": "05987bc4-f1ea-454d-9e52-a00e8757dbab",
   "metadata": {
    "jp-MarkdownHeadingCollapsed": true
   },
   "source": [
    "##### Cell line and CPTAC"
   ]
  },
  {
   "cell_type": "code",
   "execution_count": null,
   "id": "eefc8d3e-d0fe-4630-9e4b-50f5919d2813",
   "metadata": {},
   "outputs": [],
   "source": [
    "# Cell line and CPTAC\n",
    "sys_a_samp = cell_line.samples\n",
    "sys_a = 'cell-line'\n",
    "sys_a_lbl = 'cell_line'\n",
    "\n",
    "sys_b_samp = cptac.samples\n",
    "sys_b = 'cptac'\n",
    "sys_b_lbl = 'CPTAC'"
   ]
  },
  {
   "cell_type": "markdown",
   "id": "f1c63ed2-e57d-4fb8-83e9-b48cc8de416d",
   "metadata": {},
   "source": [
    "#### Cancer_type view"
   ]
  },
  {
   "cell_type": "code",
   "execution_count": 261,
   "id": "d0e2e586-b3e3-4f1f-9f2f-d5dea155b029",
   "metadata": {
    "scrolled": true
   },
   "outputs": [
    {
     "name": "stdout",
     "output_type": "stream",
     "text": [
      "cell-line is system a\n"
     ]
    },
    {
     "data": {
      "text/plain": [
       "cancer_type\n",
       "Lung Adenocarcinoma                            1886\n",
       "Small Cell Lung Cancer                         1697\n",
       "Pancreatic Adenocarcinoma                      1657\n",
       "Melanoma                                       1643\n",
       "Colon Adenocarcinoma                           1311\n",
       "Neuroblastoma                                  1054\n",
       "Glioblastoma                                   1050\n",
       "Oral Cavity Squamous Cell Carcinoma             938\n",
       "Diffuse Large B-Cell Lymphoma, NOS              790\n",
       "Cutaneous Melanoma                              788\n",
       "Acute Myeloid Leukemia                          747\n",
       "Ewing Sarcoma                                   722\n",
       "Invasive Breast Carcinoma                       687\n",
       "Burkitt Lymphoma                                675\n",
       "Breast Invasive Ductal Carcinoma                662\n",
       "T-Lymphoblastic Leukemia/Lymphoma               630\n",
       "Esophageal Squamous Cell Carcinoma              606\n",
       "Lung Squamous Cell Carcinoma                    605\n",
       "Plasma Cell Myeloma                             592\n",
       "Bladder Urothelial Carcinoma                    580\n",
       "Hepatocellular Carcinoma                        547\n",
       "B-Lymphoblastic Leukemia/Lymphoma               518\n",
       "High-Grade Serous Ovarian Cancer                469\n",
       "Renal Clear Cell Carcinoma                      469\n",
       "Renal Cell Carcinoma                            448\n",
       "Matched Normal                                  442\n",
       "Serous Ovarian Cancer                           396\n",
       "Stomach Adenocarcinoma                          370\n",
       "Pleural Mesothelioma, Epithelioid Type          369\n",
       "Osteosarcoma                                    369\n",
       "Endometrial Carcinoma                           356\n",
       "Astrocytoma                                     345\n",
       "Cervical Squamous Cell Carcinoma                332\n",
       "Non-Small Cell Lung Cancer                      323\n",
       "Medulloblastoma                                 312\n",
       "Large Cell Lung Carcinoma                       300\n",
       "Breast Invasive Lobular Carcinoma               292\n",
       "Larynx Squamous Cell Carcinoma                  248\n",
       "Prostate Adenocarcinoma                         228\n",
       "Chronic Myelogenous Leukemia                    228\n",
       "Breast Invasive Carcinoma, NOS                  207\n",
       "Intrahepatic Cholangiocarcinoma                 204\n",
       "Esophageal Adenocarcinoma                       194\n",
       "Alveolar Rhabdomyosarcoma                       186\n",
       "Hodgkin Lymphoma                                171\n",
       "Acute Monoblastic/Monocytic Leukemia            155\n",
       "Adult T-Cell Leukemia/Lymphoma                  153\n",
       "Embryonal Rhabdomyosarcoma                      153\n",
       "Endometrioid Ovarian Cancer                     153\n",
       "Mantle Cell Lymphoma                            148\n",
       "Embryonal Carcinoma                             144\n",
       "Anaplastic Thyroid Cancer                       144\n",
       "Fibroblast, Skin                                144\n",
       "Anaplastic Large-Cell Lymphoma ALK Positive     141\n",
       "Head and Neck Squamous Cell Carcinoma           138\n",
       "Fibroblast, Bone                                137\n",
       "Rectal Adenocarcinoma                           136\n",
       "Pleural Mesothelioma                            132\n",
       "Follicular Thyroid Cancer                       128\n",
       "Tubular Stomach Adenocarcinoma                  123\n",
       "Name: count, dtype: int64"
      ]
     },
     "execution_count": 261,
     "metadata": {},
     "output_type": "execute_result"
    }
   ],
   "source": [
    "print(sys_a, 'is system a')\n",
    "sys_a_samp.cancer_type.value_counts()[:60]"
   ]
  },
  {
   "cell_type": "code",
   "execution_count": 262,
   "id": "9181d248-dd89-4348-8326-c35e2748a93c",
   "metadata": {},
   "outputs": [
    {
     "name": "stdout",
     "output_type": "stream",
     "text": [
      "beataml is system b\n"
     ]
    },
    {
     "data": {
      "text/plain": [
       "common_name\n",
       "Bone Marrow Aspirate         693\n",
       "Peripheral Blood             435\n",
       "Leukapheresis                 24\n",
       "Healthy Individual BM MNC     20\n",
       "Healthy pooled CD34+          16\n",
       "Healthy Individual CD34+       1\n",
       "Name: count, dtype: int64"
      ]
     },
     "execution_count": 262,
     "metadata": {},
     "output_type": "execute_result"
    }
   ],
   "source": [
    "print(sys_b, 'is system b')\n",
    "# sys_b_samp.cancer_type.value_counts()[:50]\n",
    "sys_b_samp.common_name.value_counts()[:50] # HCMI, beatAML have common names"
   ]
  },
  {
   "cell_type": "code",
   "execution_count": 263,
   "id": "2dc819db-2290-4c65-a819-9d4cf741d497",
   "metadata": {},
   "outputs": [
    {
     "name": "stdout",
     "output_type": "stream",
     "text": [
      "beataml is system b\n"
     ]
    },
    {
     "data": {
      "text/plain": [
       "cancer_type\n",
       "ACUTE MYELOID LEUKAEMIA    1189\n",
       "Name: count, dtype: int64"
      ]
     },
     "execution_count": 263,
     "metadata": {},
     "output_type": "execute_result"
    }
   ],
   "source": [
    "print(sys_b, 'is system b')\n",
    "sys_b_samp.cancer_type.value_counts()[:50]\n",
    "# sys_b_samp.common_name.value_counts()[:50] # HCMI, beatAML have common names"
   ]
  },
  {
   "cell_type": "code",
   "execution_count": null,
   "id": "59302023-3c01-42ca-b0b2-4b8904258e03",
   "metadata": {},
   "outputs": [],
   "source": [
    "print(sys_c, 'is system c')\n",
    "sys_c_samp.cancer_type.value_counts()[:2] # hold for 3-project combos"
   ]
  },
  {
   "cell_type": "markdown",
   "id": "0645d276-4ef4-4a2c-9c61-45bfeb960bd1",
   "metadata": {},
   "source": [
    "### Cancer_type toggles into systems A and B"
   ]
  },
  {
   "cell_type": "markdown",
   "id": "6a69c963-1481-448e-8b2b-b6d7de6674e5",
   "metadata": {},
   "source": [
    "#### HCMI"
   ]
  },
  {
   "cell_type": "markdown",
   "id": "90131613-5f35-44d0-bf7c-7f7a4d027775",
   "metadata": {
    "jp-MarkdownHeadingCollapsed": true
   },
   "source": [
    "##### Cell line + HCMI"
   ]
  },
  {
   "cell_type": "code",
   "execution_count": 124,
   "id": "f01d6df8-bdd8-480f-944f-3475ef808de1",
   "metadata": {},
   "outputs": [
    {
     "name": "stdout",
     "output_type": "stream",
     "text": [
      "colon\n",
      "sys a: cell-line 67 \n",
      "sys b: hcmi 73\n"
     ]
    }
   ],
   "source": [
    "cncr = 'colon'\n",
    "cncr_lbl = 'colon'\n",
    "sys_a_samp_canc_n = sys_a_samp[sys_a_samp.cancer_type == 'Colon Adenocarcinoma']\n",
    "sys_b_samp_canc_n = sys_b_samp[sys_b_samp.common_name == 'Colon, NOS']\n",
    "print(cncr)\n",
    "print('sys a:', sys_a, len(sys_a_samp_canc_n.improve_sample_id.unique()),\n",
    "    '\\nsys b:', sys_b, len(sys_b_samp_canc_n.improve_sample_id.unique()))"
   ]
  },
  {
   "cell_type": "code",
   "execution_count": 105,
   "id": "9cb72eb8-d7e5-4692-bda7-d658d23979fd",
   "metadata": {},
   "outputs": [
    {
     "name": "stdout",
     "output_type": "stream",
     "text": [
      "pancreas\n",
      "sys a: cell-line 62 \n",
      "sys b: hcmi 63\n"
     ]
    }
   ],
   "source": [
    "cncr = 'pancreas'\n",
    "cncr_lbl = 'pancreas'\n",
    "sys_a_samp_canc_n = sys_a_samp[sys_a_samp.cancer_type == 'Pancreatic Adenocarcinoma']\n",
    "sys_b_samp_canc_n = sys_b_samp[sys_b_samp.common_name == 'Pancreas, NOS']\n",
    "print(cncr)\n",
    "print('sys a:', sys_a, len(sys_a_samp_canc_n.improve_sample_id.unique()),\n",
    "    '\\nsys b:', sys_b, len(sys_b_samp_canc_n.improve_sample_id.unique()))"
   ]
  },
  {
   "cell_type": "code",
   "execution_count": 56,
   "id": "824a9e9d-96d8-4901-b65e-8bb00e5bd714",
   "metadata": {},
   "outputs": [
    {
     "name": "stdout",
     "output_type": "stream",
     "text": [
      "esophogeal\n",
      "sys a: cell-line 13 \n",
      "sys b: hcmi 43\n"
     ]
    }
   ],
   "source": [
    "cncr = 'esophogeal'\n",
    "cncr_lbl = 'esophogeal'\n",
    "sys_a_samp_canc_n = sys_a_samp[sys_a_samp.cancer_type == 'Esophageal Adenocarcinoma']\n",
    "sys_b_samp_canc_n = sys_b_samp[sys_b_samp.common_name == 'Esophagus, NOS']\n",
    "print(cncr)\n",
    "print('sys a:', sys_a, len(sys_a_samp_canc_n.improve_sample_id.unique()),\n",
    "    '\\nsys b:', sys_b, len(sys_b_samp_canc_n.improve_sample_id.unique()))"
   ]
  },
  {
   "cell_type": "markdown",
   "id": "1867e24e-2259-420d-aeff-546f57a26a51",
   "metadata": {
    "jp-MarkdownHeadingCollapsed": true
   },
   "source": [
    "##### CPTAC + HCMI"
   ]
  },
  {
   "cell_type": "code",
   "execution_count": 178,
   "id": "9d6ca625-72f3-4cc4-b0d4-e94b7e96fff6",
   "metadata": {},
   "outputs": [
    {
     "name": "stdout",
     "output_type": "stream",
     "text": [
      "systms: CPTAC+HCMI\n",
      "pancreatic\n",
      "sys a: cptac 140 \n",
      "sys b: hcmi 134\n"
     ]
    }
   ],
   "source": [
    "print('systms:', systems)\n",
    "cncr = 'pancreatic'\n",
    "cncr_lbl = 'pancreatic'\n",
    "sys_a_samp_canc_n = sys_a_samp[sys_a_samp.cancer_type == 'Pancreatic ductal adenocarcinoma'] # cptac\n",
    "sys_b_samp_canc_n = sys_b_samp[sys_b_samp.common_name == 'Pancreas, NOS'] # hcmi\n",
    "print(cncr)\n",
    "print('sys a:', sys_a, len(sys_a_samp_canc_n.improve_sample_id.unique()),\n",
    "    '\\nsys b:', sys_b, len(sys_b_samp_canc_n.improve_sample_id.unique()))"
   ]
  },
  {
   "cell_type": "code",
   "execution_count": 196,
   "id": "99409924-70f3-40e4-a25b-80e78d3d2d54",
   "metadata": {},
   "outputs": [
    {
     "name": "stdout",
     "output_type": "stream",
     "text": [
      "systms: CPTAC+HCMI\n",
      "colon\n",
      "sys a: cptac 109 \n",
      "sys b: hcmi 188\n"
     ]
    }
   ],
   "source": [
    "print('systms:', systems)\n",
    "cncr = 'colon'\n",
    "cncr_lbl = 'colon'\n",
    "sys_a_samp_canc_n = sys_a_samp[sys_a_samp.cancer_type == 'Colon adenocarcinoma'] # cptac\n",
    "sys_b_samp_canc_n = sys_b_samp[sys_b_samp.common_name == 'Colon, NOS'] # hcmi\n",
    "print(cncr)\n",
    "print('sys a:', sys_a, len(sys_a_samp_canc_n.improve_sample_id.unique()),\n",
    "    '\\nsys b:', sys_b, len(sys_b_samp_canc_n.improve_sample_id.unique()))"
   ]
  },
  {
   "cell_type": "code",
   "execution_count": 207,
   "id": "6da08f2a-0dd9-46bc-b412-68d33ac3fe72",
   "metadata": {},
   "outputs": [
    {
     "name": "stdout",
     "output_type": "stream",
     "text": [
      "systms: CPTAC+HCMI\n",
      "brain\n",
      "sys a: cptac 100 \n",
      "sys b: hcmi 151\n"
     ]
    }
   ],
   "source": [
    "print('systms:', systems)\n",
    "cncr = 'brain'\n",
    "cncr_lbl = 'brain'\n",
    "sys_a_samp_canc_n = sys_a_samp[sys_a_samp.cancer_type == 'Glioblastoma multiforme'] # cptac\n",
    "sys_b_samp_canc_n = sys_b_samp[sys_b_samp.common_name == 'Brain, NOS'] # hcmi\n",
    "print(cncr)\n",
    "print('sys a:', sys_a, len(sys_a_samp_canc_n.improve_sample_id.unique()),\n",
    "    '\\nsys b:', sys_b, len(sys_b_samp_canc_n.improve_sample_id.unique()))"
   ]
  },
  {
   "cell_type": "code",
   "execution_count": 219,
   "id": "7e7ab7a8-bfd4-4eb5-9ae4-f73f018d64d6",
   "metadata": {},
   "outputs": [
    {
     "name": "stdout",
     "output_type": "stream",
     "text": [
      "systms: CPTAC+HCMI\n",
      "ovarian\n",
      "sys a: cptac 110 \n",
      "sys b: hcmi 9\n"
     ]
    }
   ],
   "source": [
    "print('systms:', systems)\n",
    "cncr = 'ovarian'\n",
    "cncr_lbl = 'ovarian'\n",
    "sys_a_samp_canc_n = sys_a_samp[sys_a_samp.cancer_type == 'Ovarian carcinoma'] # cptac\n",
    "sys_b_samp_canc_n = sys_b_samp[sys_b_samp.common_name == 'Ovary'] # hcmi\n",
    "print(cncr)\n",
    "print('sys a:', sys_a, len(sys_a_samp_canc_n.improve_sample_id.unique()),\n",
    "    '\\nsys b:', sys_b, len(sys_b_samp_canc_n.improve_sample_id.unique()))"
   ]
  },
  {
   "cell_type": "code",
   "execution_count": 228,
   "id": "84ca4735-a141-4f4b-854a-a652170ff7a9",
   "metadata": {},
   "outputs": [
    {
     "name": "stdout",
     "output_type": "stream",
     "text": [
      "systms: CPTAC+HCMI\n",
      "breast\n",
      "sys a: cptac 134 \n",
      "sys b: hcmi 9\n"
     ]
    }
   ],
   "source": [
    "print('systms:', systems)\n",
    "cncr = 'breast'\n",
    "cncr_lbl = 'breast'\n",
    "sys_a_samp_canc_n = sys_a_samp[sys_a_samp.cancer_type == 'Breast carcinoma'] # cptac\n",
    "sys_b_samp_canc_n = sys_b_samp[sys_b_samp.common_name == 'Breast, NOS'] # hcmi\n",
    "print(cncr)\n",
    "print('sys a:', sys_a, len(sys_a_samp_canc_n.improve_sample_id.unique()),\n",
    "    '\\nsys b:', sys_b, len(sys_b_samp_canc_n.improve_sample_id.unique()))"
   ]
  },
  {
   "cell_type": "code",
   "execution_count": 238,
   "id": "e75cbccb-d1ec-459c-b0a6-8a2e1792d05c",
   "metadata": {},
   "outputs": [
    {
     "name": "stdout",
     "output_type": "stream",
     "text": [
      "systms: CPTAC+HCMI\n",
      "kidney\n",
      "sys a: cptac 110 \n",
      "sys b: hcmi 6\n"
     ]
    }
   ],
   "source": [
    "print('systms:', systems)\n",
    "cncr = 'kidney'\n",
    "cncr_lbl = 'kidney'\n",
    "sys_a_samp_canc_n = sys_a_samp[sys_a_samp.cancer_type == 'Clear cell renal cell carcinoma'] # cptac\n",
    "sys_b_samp_canc_n = sys_b_samp[sys_b_samp.common_name == 'Kidney, NOS'] # hcmi\n",
    "print(cncr)\n",
    "print('sys a:', sys_a, len(sys_a_samp_canc_n.improve_sample_id.unique()),\n",
    "    '\\nsys b:', sys_b, len(sys_b_samp_canc_n.improve_sample_id.unique()))"
   ]
  },
  {
   "cell_type": "code",
   "execution_count": 241,
   "id": "1926c908-2175-4193-8697-198ffdba4a36",
   "metadata": {},
   "outputs": [
    {
     "name": "stdout",
     "output_type": "stream",
     "text": [
      "systms: CPTAC+HCMI\n",
      "lung-ad\n",
      "sys a: cptac 111 \n",
      "sys b: hcmi 13\n"
     ]
    }
   ],
   "source": [
    "print('systms:', systems)\n",
    "cncr = 'lung-ad'\n",
    "cncr_lbl = 'lung-ad'\n",
    "sys_a_samp_canc_n = sys_a_samp[sys_a_samp.cancer_type == 'Lung adenocarcinoma'] # cptac\n",
    "sys_b_samp_canc_n = sys_b_samp[sys_b_samp.common_name == 'Lung, NOS'] # hcmi\n",
    "print(cncr)\n",
    "print('sys a:', sys_a, len(sys_a_samp_canc_n.improve_sample_id.unique()),\n",
    "    '\\nsys b:', sys_b, len(sys_b_samp_canc_n.improve_sample_id.unique()))"
   ]
  },
  {
   "cell_type": "code",
   "execution_count": 250,
   "id": "c86357e4-a3d9-404a-8cb6-9c75b859d4f8",
   "metadata": {},
   "outputs": [
    {
     "name": "stdout",
     "output_type": "stream",
     "text": [
      "systms: CPTAC+HCMI\n",
      "lung-sq\n",
      "sys a: cptac 110 \n",
      "sys b: hcmi 13\n"
     ]
    }
   ],
   "source": [
    "print('systms:', systems)\n",
    "cncr = 'lung-sq'\n",
    "cncr_lbl = 'lung-sq'\n",
    "sys_a_samp_canc_n = sys_a_samp[sys_a_samp.cancer_type == 'Lung squamous cell carcinoma'] # cptac\n",
    "sys_b_samp_canc_n = sys_b_samp[sys_b_samp.common_name == 'Lung, NOS'] # hcmi\n",
    "print(cncr)\n",
    "print('sys a:', sys_a, len(sys_a_samp_canc_n.improve_sample_id.unique()),\n",
    "    '\\nsys b:', sys_b, len(sys_b_samp_canc_n.improve_sample_id.unique()))"
   ]
  },
  {
   "cell_type": "markdown",
   "id": "912b6e61-4188-46aa-a87a-4056a5c25f9c",
   "metadata": {},
   "source": [
    "#### BeatAML"
   ]
  },
  {
   "cell_type": "code",
   "execution_count": 264,
   "id": "9f893b01-04f9-4673-bb91-5f0418627561",
   "metadata": {},
   "outputs": [
    {
     "name": "stdout",
     "output_type": "stream",
     "text": [
      "cell-line+BeatAML\n"
     ]
    }
   ],
   "source": [
    "print(systems)\n",
    "cncr = 'AML'\n",
    "cncr_lbl = 'aml'\n",
    "sys_a_samp_canc_n = sys_a_samp[sys_a_samp.cancer_type == 'Acute Myeloid Leukemia'] # cl\n",
    "sys_b_samp_canc_n = sys_b_samp[sys_b_samp.cancer_type == 'ACUTE MYELOID LEUKAEMIA'] # beatAML"
   ]
  },
  {
   "cell_type": "code",
   "execution_count": null,
   "id": "a765c58d-6d2c-4057-bd0c-5659438a8c71",
   "metadata": {},
   "outputs": [],
   "source": [
    "# beat aml as single cancer\n"
   ]
  },
  {
   "cell_type": "markdown",
   "id": "02e7888e-2e49-4b2c-8688-47cd1c4bb194",
   "metadata": {
    "jp-MarkdownHeadingCollapsed": true
   },
   "source": [
    "#### BRCA"
   ]
  },
  {
   "cell_type": "code",
   "execution_count": null,
   "id": "2bbb32d9-252f-4eba-b6d2-3eeb1c3cdfc0",
   "metadata": {},
   "outputs": [],
   "source": [
    "# Breast Ductal - 3 transciptomic samples for cell line\n",
    "cncr = 'breast-ductal'\n",
    "cncr_lbl = 'breast_ductal'\n",
    "sys_a_samp_canc_n = sys_a_samp[sys_a_samp.cancer_type == 'Breast Invasive Ductal Carcinoma'] # cl\n",
    "sys_b_samp_canc_n = sys_b_samp[sys_b_samp.cancer_type == 'Breast carcinoma']"
   ]
  },
  {
   "cell_type": "code",
   "execution_count": null,
   "id": "69b114ce-9eef-4441-a1db-b6b25620f9b1",
   "metadata": {},
   "outputs": [],
   "source": [
    "# Breast Lobular - # one cell line sample for prot, 8 samples trans\n",
    "cncr = 'breast-lobular'\n",
    "cncr_lbl = 'breast_lobular'\n",
    "sys_a_samp_canc_n = sys_a_samp[sys_a_samp.cancer_type == 'Breast Invasive Lobular Carcinoma'] # cl\n",
    "sys_b_samp_canc_n = sys_b_samp[sys_b_samp.cancer_type == 'Breast carcinoma']"
   ]
  },
  {
   "cell_type": "code",
   "execution_count": null,
   "id": "0d08d7cc-577b-48f3-b6aa-3ed6a9650ec2",
   "metadata": {},
   "outputs": [],
   "source": [
    "# Breast NOS - # two cell line samples for prot - 3 transciptomic samples for cell line\n",
    "cncr = 'breast-nos'\n",
    "cncr_lbl = 'breast_nos'\n",
    "sys_a_samp_canc_n = sys_a_samp[sys_a_samp.cancer_type == 'Breast Invasive Carcinoma, NOS'] # cl\n",
    "sys_b_samp_canc_n = sys_b_samp[sys_b_samp.cancer_type == 'Breast carcinoma']"
   ]
  },
  {
   "cell_type": "markdown",
   "id": "bb08b0e5-7289-4483-a377-07d99ceb7185",
   "metadata": {
    "jp-MarkdownHeadingCollapsed": true
   },
   "source": [
    "#### Cell line as a, CPTAC as b"
   ]
  },
  {
   "cell_type": "code",
   "execution_count": null,
   "id": "ac236dc9-2166-4d53-a934-b72f2748d798",
   "metadata": {},
   "outputs": [],
   "source": [
    "# Lung adeno\n",
    "cncr = 'lung-adeno'\n",
    "cncr_lbl = 'lung_adeno'\n",
    "sys_a_samp_canc_n = sys_a_samp[sys_a_samp.cancer_type == 'Lung Adenocarcinoma'] # cl\n",
    "sys_b_samp_canc_n = sys_b_samp[sys_b_samp.cancer_type == 'Lung adenocarcinoma'] # cp"
   ]
  },
  {
   "cell_type": "code",
   "execution_count": null,
   "id": "40d3b3d6-e83c-46d9-b3e5-f75745f27dff",
   "metadata": {},
   "outputs": [],
   "source": [
    "# Pancreatic adeno\n",
    "cncr = 'pancreatic-adeno'\n",
    "cncr_lbl = 'pancreatic_adeno'\n",
    "sys_a_samp_canc_n = sys_a_samp[sys_a_samp.cancer_type == 'Pancreatic Adenocarcinoma'] # cl\n",
    "sys_b_samp_canc_n = sys_b_samp[sys_b_samp.cancer_type == 'Pancreatic ductal adenocarcinoma'] # cp"
   ]
  },
  {
   "cell_type": "code",
   "execution_count": null,
   "id": "d1eecdcb-05be-4bb8-8990-933a1a2f57e2",
   "metadata": {},
   "outputs": [],
   "source": [
    "# Head and neck - no prot samples?, 5 trns samples\n",
    "cncr = 'head-neck'\n",
    "cncr_lbl = 'head_neck'\n",
    "sys_a_samp_canc_n = sys_a_samp[sys_a_samp.cancer_type == 'Head and Neck Squamous Cell Carcinoma'] # cl\n",
    "sys_b_samp_canc_n = sys_b_samp[sys_b_samp.cancer_type == 'Head and Neck squamous cell carcinoma'] # cp"
   ]
  },
  {
   "cell_type": "code",
   "execution_count": null,
   "id": "9a2f3256-9ade-4435-a0c2-455c7197f00c",
   "metadata": {},
   "outputs": [],
   "source": [
    "# Colon adeno\n",
    "cncr = 'colon-adeno'\n",
    "cncr_lbl = 'colon_adeno'\n",
    "sys_a_samp_canc_n = sys_a_samp[sys_a_samp.cancer_type == 'Colon Adenocarcinoma'] # cl\n",
    "sys_b_samp_canc_n = sys_b_samp[sys_b_samp.cancer_type == 'Colon adenocarcinoma'] # cp"
   ]
  },
  {
   "cell_type": "code",
   "execution_count": null,
   "id": "317090c0-6abb-4305-afb2-b1eba503088c",
   "metadata": {},
   "outputs": [],
   "source": [
    "# Glioblastoma\n",
    "cncr = 'glioblastoma'\n",
    "cncr_lbl = 'glioblastoma'\n",
    "sys_a_samp_canc_n = sys_a_samp[sys_a_samp.cancer_type == 'Glioblastoma']\n",
    "sys_b_samp_canc_n = sys_b_samp[sys_b_samp.cancer_type == 'Glioblastoma multiforme'] # cp"
   ]
  },
  {
   "cell_type": "code",
   "execution_count": null,
   "id": "997809b3-303d-49d7-b6f3-430fb3e97778",
   "metadata": {},
   "outputs": [],
   "source": [
    "# Renal clear cell\n",
    "cncr = 'renal-clear-cell'\n",
    "cncr_lbl = 'renal_clear_cell'\n",
    "sys_a_samp_canc_n = sys_a_samp[sys_a_samp.cancer_type == 'Renal Clear Cell Carcinoma']\n",
    "sys_b_samp_canc_n = sys_b_samp[sys_b_samp.cancer_type == 'Clear cell renal cell carcinoma'] # cp"
   ]
  },
  {
   "cell_type": "code",
   "execution_count": null,
   "id": "423cb7ad-d195-4ae4-ae2f-33b2a4ea21b0",
   "metadata": {},
   "outputs": [],
   "source": []
  },
  {
   "cell_type": "markdown",
   "id": "ca1d5e38-32b2-4f6c-966a-2c92473a6a78",
   "metadata": {},
   "source": [
    "#### ID extract"
   ]
  },
  {
   "cell_type": "code",
   "execution_count": 265,
   "id": "f630f7a6-be7d-4c5f-9c7d-109cbb0908d4",
   "metadata": {},
   "outputs": [
    {
     "name": "stdout",
     "output_type": "stream",
     "text": [
      "AML cell-line beataml\n"
     ]
    }
   ],
   "source": [
    "print(cncr, sys_a, sys_b)\n",
    "ids_sys_a = sys_a_samp_canc_n.improve_sample_id # \n",
    "ids_sys_b = sys_b_samp_canc_n.improve_sample_id # "
   ]
  },
  {
   "cell_type": "markdown",
   "id": "79d490cf-9b5d-40b8-81f7-55f6a685a2a9",
   "metadata": {
    "jp-MarkdownHeadingCollapsed": true
   },
   "source": [
    "#### Data extraction, HCMI + Cell line"
   ]
  },
  {
   "cell_type": "code",
   "execution_count": 176,
   "id": "c8900e86-99f9-4e5c-a583-07dedce6d3cf",
   "metadata": {},
   "outputs": [
    {
     "name": "stdout",
     "output_type": "stream",
     "text": [
      "colon CPTAC+HCMI\n",
      "transcriptomics\n",
      "sys a: 0\n",
      "sys b: 87\n"
     ]
    }
   ],
   "source": [
    "print(cncr, systems)\n",
    "modality = 'transcriptomics'\n",
    "print(modality)\n",
    "moda = 'tran_'\n",
    "mda_n_sys_a = cell_line.transcriptomics[cell_line.transcriptomics.improve_sample_id.isin(ids_sys_a)] # sys n\n",
    "mda_n_sys_b = hcmi.transcriptomics[hcmi.transcriptomics.improve_sample_id.isin(ids_sys_b)] # hcmi is sys b\n",
    "print('sys a:', len(mda_n_sys_a.improve_sample_id.unique()))\n",
    "print('sys b:', len(mda_n_sys_b.improve_sample_id.unique()))"
   ]
  },
  {
   "cell_type": "code",
   "execution_count": null,
   "id": "1a7fbd54-c123-4277-aa65-375d6ef011a7",
   "metadata": {},
   "outputs": [],
   "source": [
    "print(cncr, systems)\n",
    "modality = 'proteomics'\n",
    "print(modality)\n",
    "moda = 'prot_'\n",
    "mda_n_sys_a = cell_line.proteomics[cell_line.proteomics.improve_sample_id.isin(ids_sys_a)] # sys n\n",
    "mda_n_sys_b = hcmi.proteomics[hcmi.proteomics.improve_sample_id.isin(ids_sys_b)] # hcmi is b\n",
    "print('sys a:', len(mda_n_sys_a.improve_sample_id.unique()))\n",
    "print('sys b:', len(mda_n_sys_b.improve_sample_id.unique()))"
   ]
  },
  {
   "cell_type": "markdown",
   "id": "f7439a11-d8d7-49f3-bbc7-e797eaa560f4",
   "metadata": {
    "jp-MarkdownHeadingCollapsed": true
   },
   "source": [
    "#### Data extraction, CPTAC + HCMI "
   ]
  },
  {
   "cell_type": "code",
   "execution_count": 266,
   "id": "0ebfd8c7-8596-4fda-957d-143265c12ce1",
   "metadata": {},
   "outputs": [
    {
     "name": "stdout",
     "output_type": "stream",
     "text": [
      "AML cell-line+BeatAML\n",
      "transcriptomics\n",
      "sys a: 0\n",
      "sys b: 0\n"
     ]
    }
   ],
   "source": [
    "print(cncr, systems)\n",
    "modality = 'transcriptomics'\n",
    "print(modality)\n",
    "moda = 'tran_'\n",
    "mda_n_sys_a = cptac.transcriptomics[cptac.transcriptomics.improve_sample_id.isin(ids_sys_a)] # sys n\n",
    "mda_n_sys_b = hcmi.transcriptomics[hcmi.transcriptomics.improve_sample_id.isin(ids_sys_b)] # hcmi is sys b\n",
    "print('sys a:', len(mda_n_sys_a.improve_sample_id.unique()))\n",
    "print('sys b:', len(mda_n_sys_b.improve_sample_id.unique()))"
   ]
  },
  {
   "cell_type": "code",
   "execution_count": null,
   "id": "56f2b1d0-ce8c-4b94-90fd-d42e695360c1",
   "metadata": {},
   "outputs": [],
   "source": [
    "print(cncr, systems)\n",
    "modality = 'proteomics'\n",
    "print(modality)\n",
    "moda = 'prot_'\n",
    "mda_n_sys_a = cptac.proteomics[cptac.proteomics.improve_sample_id.isin(ids_sys_a)] # sys n\n",
    "mda_n_sys_b = hcmi.proteomics[hcmi.proteomics.improve_sample_id.isin(ids_sys_b)] # hcmi is sys b\n",
    "print('sys a:', len(mda_n_sys_a.improve_sample_id.unique()))\n",
    "print('sys b:', len(mda_n_sys_b.improve_sample_id.unique()))"
   ]
  },
  {
   "cell_type": "code",
   "execution_count": 186,
   "id": "50037b57-6b17-4f4b-96f9-0d8d98acceee",
   "metadata": {},
   "outputs": [
    {
     "data": {
      "text/html": [
       "<div>\n",
       "<style scoped>\n",
       "    .dataframe tbody tr th:only-of-type {\n",
       "        vertical-align: middle;\n",
       "    }\n",
       "\n",
       "    .dataframe tbody tr th {\n",
       "        vertical-align: top;\n",
       "    }\n",
       "\n",
       "    .dataframe thead th {\n",
       "        text-align: right;\n",
       "    }\n",
       "</style>\n",
       "<table border=\"1\" class=\"dataframe\">\n",
       "  <thead>\n",
       "    <tr style=\"text-align: right;\">\n",
       "      <th></th>\n",
       "    </tr>\n",
       "  </thead>\n",
       "  <tbody>\n",
       "  </tbody>\n",
       "</table>\n",
       "</div>"
      ],
      "text/plain": [
       "Empty DataFrame\n",
       "Columns: []\n",
       "Index: []"
      ]
     },
     "execution_count": 186,
     "metadata": {},
     "output_type": "execute_result"
    }
   ],
   "source": [
    "hcmi.proteomics"
   ]
  },
  {
   "cell_type": "markdown",
   "id": "232f4280-8484-4f5f-8894-ecf450f5282e",
   "metadata": {},
   "source": [
    "#### Data extraction, cell line + BeatAML"
   ]
  },
  {
   "cell_type": "markdown",
   "id": "1cec49a6-5e34-4ce1-bb22-fd50b4157247",
   "metadata": {},
   "source": [
    "##### trans"
   ]
  },
  {
   "cell_type": "code",
   "execution_count": 267,
   "id": "14ef35d9-cb21-4308-b143-d0fbfc334320",
   "metadata": {},
   "outputs": [
    {
     "name": "stdout",
     "output_type": "stream",
     "text": [
      "AML cell-line+BeatAML\n",
      "transcriptomics\n",
      "sys a: 31\n",
      "sys b: 707\n"
     ]
    }
   ],
   "source": [
    "print(cncr, systems)\n",
    "modality = 'transcriptomics'\n",
    "print(modality)\n",
    "moda = 'tran_'\n",
    "mda_n_sys_a = cell_line.transcriptomics[cell_line.transcriptomics.improve_sample_id.isin(ids_sys_a)] # cl\n",
    "mda_n_sys_b = beataml.transcriptomics[beataml.transcriptomics.improve_sample_id.isin(ids_sys_b)]\n",
    "print('sys a:', len(mda_n_sys_a.improve_sample_id.unique()))\n",
    "print('sys b:', len(mda_n_sys_b.improve_sample_id.unique()))"
   ]
  },
  {
   "cell_type": "markdown",
   "id": "d9487102-a777-4e50-94ee-64772da88bee",
   "metadata": {},
   "source": [
    "##### prot"
   ]
  },
  {
   "cell_type": "code",
   "execution_count": 276,
   "id": "6357ed22-4587-40ce-9c0d-5138ab9e1502",
   "metadata": {},
   "outputs": [
    {
     "name": "stdout",
     "output_type": "stream",
     "text": [
      "AML cell-line+BeatAML\n",
      "sys a: 10\n",
      "sys b: 210\n"
     ]
    }
   ],
   "source": [
    "print(cncr, systems)\n",
    "modality = 'proteomics' # to file name\n",
    "moda = 'prot_' # to columns and index\n",
    "mda_n_sys_a = cell_line.proteomics[cell_line.proteomics.improve_sample_id.isin(ids_sys_a)] # cl\n",
    "mda_n_sys_b = beataml.proteomics[beataml.proteomics.improve_sample_id.isin(ids_sys_b)] # beat aml\n",
    "print('sys a:', len(mda_n_sys_a.improve_sample_id.unique()))\n",
    "print('sys b:', len(mda_n_sys_b.improve_sample_id.unique()))"
   ]
  },
  {
   "cell_type": "markdown",
   "id": "0828688b-0985-4ca1-a6c6-31fcc2ad3622",
   "metadata": {
    "jp-MarkdownHeadingCollapsed": true
   },
   "source": [
    "#### Data extraction, AML"
   ]
  },
  {
   "cell_type": "markdown",
   "id": "989a9257-0d01-4acc-b561-25d4bf83ea6e",
   "metadata": {},
   "source": [
    "### Extraction to disk script"
   ]
  },
  {
   "cell_type": "code",
   "execution_count": 277,
   "id": "16e96751-0825-44f0-a8a2-341230ee3616",
   "metadata": {},
   "outputs": [
    {
     "name": "stdout",
     "output_type": "stream",
     "text": [
      "cell-line | sys a\n",
      "AML proteomics\n",
      "98,194\n",
      "75\n",
      "0\n",
      "columns are float, index are int\n",
      "10\n",
      " \n",
      "beataml | sys b\n",
      "AML proteomics\n",
      "len:  3,238,430\n",
      "NaNs:  3,926\n",
      "Infs:  0\n",
      "columns are float, index are int\n",
      "210\n"
     ]
    }
   ],
   "source": [
    "df_lite, size, na_count, inf_count = df_check(mda_n_sys_a)\n",
    "print(sys_a, '| sys a')                 #               ^ \n",
    "print(cncr, modality)\n",
    "print(size)\n",
    "print(na_count)\n",
    "print(inf_count)\n",
    "\n",
    "wall_clock, dot_T = extract(df_lite)\n",
    "dot_T = g(moda, dot_T.copy())\n",
    "dot_T.dropna(axis = 1, inplace = True)\n",
    "a = dot_T\n",
    "print(len(a))\n",
    "print(' ')\n",
    "\n",
    "df_lite, size, na_count, inf_count = df_check(mda_n_sys_b)\n",
    "print(sys_b, '| sys b')                 #               ^ \n",
    "print(cncr, modality)\n",
    "print('len: ', size)\n",
    "print('NaNs: ', na_count)\n",
    "print('Infs: ', inf_count)\n",
    "\n",
    "wall_clock, dot_T = extract(df_lite)\n",
    "dot_T = g(moda, dot_T.copy())\n",
    "dot_T.dropna(axis = 1, inplace = True)\n",
    "b = dot_T\n",
    "print(len(b))\n",
    "\n",
    "a.insert(0, 'Cancer_type', cncr_lbl)\n",
    "b.insert(0, 'Cancer_type', cncr_lbl)\n",
    "a.insert(0, 'System', sys_a_lbl)\n",
    "b.insert(0, 'System', sys_b_lbl)\n",
    "\n",
    "ab = pd.concat([a, b], axis=0, join='inner')"
   ]
  },
  {
   "cell_type": "markdown",
   "id": "e9fb6480-056d-40fa-8ca0-c1466589ea4c",
   "metadata": {},
   "source": [
    "### Disk write"
   ]
  },
  {
   "cell_type": "code",
   "execution_count": 269,
   "id": "562194d5-86fd-48db-9cfa-5f8525881938",
   "metadata": {},
   "outputs": [
    {
     "data": {
      "text/plain": [
       "('../results/input-data/r5/r5-fls/',\n",
       " 'AML',\n",
       " 'transcriptomics',\n",
       " 'cell-line+BeatAML')"
      ]
     },
     "execution_count": 269,
     "metadata": {},
     "output_type": "execute_result"
    }
   ],
   "source": [
    "out_dir, cncr, modality, systems"
   ]
  },
  {
   "cell_type": "code",
   "execution_count": 278,
   "id": "f3cea2a8-7e70-4d3e-827a-cf3bd86291e3",
   "metadata": {},
   "outputs": [
    {
     "data": {
      "text/plain": [
       "System\n",
       "BeatAML      210\n",
       "cell_line     10\n",
       "Name: count, dtype: int64"
      ]
     },
     "execution_count": 278,
     "metadata": {},
     "output_type": "execute_result"
    }
   ],
   "source": [
    "ab.System.value_counts()"
   ]
  },
  {
   "cell_type": "code",
   "execution_count": 279,
   "id": "e1eb0778-ed5c-4d1f-91fb-eee5f19ade90",
   "metadata": {},
   "outputs": [
    {
     "data": {
      "text/plain": [
       "Cancer_type\n",
       "aml    220\n",
       "Name: count, dtype: int64"
      ]
     },
     "execution_count": 279,
     "metadata": {},
     "output_type": "execute_result"
    }
   ],
   "source": [
    "ab.Cancer_type.value_counts()"
   ]
  },
  {
   "cell_type": "code",
   "execution_count": 281,
   "id": "485ad603-9178-4f6a-9422-0a86a31dc8a3",
   "metadata": {},
   "outputs": [],
   "source": [
    "# Write two-system, single cancer type to disk\n",
    "ab.to_csv(out_dir+\n",
    "    '/'+cncr+'_'+modality+'_'+systems+'.tsv',\n",
    "    sep = '\\t')"
   ]
  },
  {
   "cell_type": "code",
   "execution_count": 273,
   "id": "9d7be6ae-d14d-4857-9b5d-c0f04f83568a",
   "metadata": {},
   "outputs": [],
   "source": [
    "chk_ab = pd.read_csv(out_dir+\n",
    "    '/'+cncr+'_'+modality+'_'+systems+'.tsv',\n",
    "    sep = '\\t', index_col = 0)"
   ]
  },
  {
   "cell_type": "code",
   "execution_count": null,
   "id": "9b80fc41-b534-44a6-b2c9-46644b305acb",
   "metadata": {
    "scrolled": true
   },
   "outputs": [],
   "source": [
    "print(out_dir, cncr, modality, systems)\n",
    "chk_ab"
   ]
  },
  {
   "cell_type": "code",
   "execution_count": 280,
   "id": "74e557be-6d3b-44e9-861e-04d248075aba",
   "metadata": {},
   "outputs": [
    {
     "data": {
      "text/plain": [
       "('AML', 'proteomics', 'cell-line+BeatAML')"
      ]
     },
     "execution_count": 280,
     "metadata": {},
     "output_type": "execute_result"
    }
   ],
   "source": [
    "cncr, modality, systems"
   ]
  },
  {
   "cell_type": "markdown",
   "id": "79585785-aa2b-4c65-b092-81f4ce1cbae8",
   "metadata": {},
   "source": [
    "#### Experimental record"
   ]
  },
  {
   "cell_type": "raw",
   "id": "1d588c50-5978-4602-80d8-ddd261c45432",
   "metadata": {},
   "source": [
    "2024-02-26, r5\n",
    "('esophogeal', 'transcriptomics', 'cell-line+HCMI')\n",
    "('pancreas', 'transcriptomics', 'cell-line+HCMI')\n",
    "('colon', 'transcriptomics', 'cell-line+HCMI')\n",
    "('pancreatic', 'transcriptomics', 'CPTAC+HCMI')\n",
    "('colon', 'transcriptomics', 'CPTAC+HCMI')\n",
    "('brain', 'transcriptomics', 'CPTAC+HCMI')\n",
    "('ovarian', 'transcriptomics', 'CPTAC+HCMI')\n",
    "('breast', 'transcriptomics', 'CPTAC+HCMI')\n",
    "('lung-ad', 'transcriptomics', 'CPTAC+HCMI')\n",
    "('lung-sq', 'transcriptomics', 'CPTAC+HCMI')\n",
    "('AML', 'transcriptomics', 'cell-line+BeatAML')\n",
    "('AML', 'proteomics', 'cell-line+BeatAML')\n",
    "\n",
    "--\n",
    "lung-adeno\n",
    "pancreatic-adeno\n",
    "renal-clear-cell\n",
    "colon-adeno\n",
    "glioblastoma"
   ]
  },
  {
   "cell_type": "markdown",
   "id": "26b997d0-0506-4a55-a909-3bb32ee905d4",
   "metadata": {
    "jp-MarkdownHeadingCollapsed": true
   },
   "source": [
    "##### Check proteomics negatives"
   ]
  },
  {
   "cell_type": "code",
   "execution_count": null,
   "id": "7a93edd0-e3f1-4ca8-842e-f9abaecfa032",
   "metadata": {},
   "outputs": [],
   "source": [
    "prot_neg_fls = glob.glob('../strctrd/one_cncr/*proteomics_cell-line+CPTAC.tsv')"
   ]
  },
  {
   "cell_type": "code",
   "execution_count": null,
   "id": "fafc21c7-f8ba-48b7-a720-312696817e5e",
   "metadata": {},
   "outputs": [],
   "source": [
    "prot_neg_fls"
   ]
  },
  {
   "cell_type": "code",
   "execution_count": null,
   "id": "229d3626-2d2b-4657-ac8c-82215efc954e",
   "metadata": {},
   "outputs": [],
   "source": [
    "for png in prot_neg_fls:\n",
    "    chk_ab = pd.read_csv(png,\n",
    "        sep = '\\t', index_col = 0)\n",
    "    print(png.split('/')[3])\n",
    "    print(chk_ab.iloc[:, 2:].min().min())\n",
    "    print(' ')\n",
    "    # break"
   ]
  },
  {
   "cell_type": "code",
   "execution_count": null,
   "id": "eb66dca9-263a-4520-90c7-b811f0a5505c",
   "metadata": {},
   "outputs": [],
   "source": [
    "chk_ab.iloc[:, 2:].min().min()"
   ]
  },
  {
   "cell_type": "code",
   "execution_count": null,
   "id": "85353ce4-db3c-4cfb-9c1d-7c776bc08303",
   "metadata": {},
   "outputs": [],
   "source": [
    "print(cncr)\n",
    "ab.iloc[:3, :3]"
   ]
  },
  {
   "cell_type": "code",
   "execution_count": null,
   "id": "cc5ae405-ba59-4006-b596-f1e77065399f",
   "metadata": {},
   "outputs": [],
   "source": [
    "ab.shape"
   ]
  },
  {
   "cell_type": "markdown",
   "id": "61317474-332d-4165-a5c9-6f290e29deb0",
   "metadata": {},
   "source": [
    "### Devel"
   ]
  },
  {
   "cell_type": "markdown",
   "id": "322415bf-f4ef-474a-8d2e-cd6303dfaf3a",
   "metadata": {},
   "source": [
    "#### Extract sample ids"
   ]
  },
  {
   "cell_type": "code",
   "execution_count": 154,
   "id": "b36cfb5e-fe78-4f6f-9fc3-074f5d0ed987",
   "metadata": {},
   "outputs": [
    {
     "name": "stdout",
     "output_type": "stream",
     "text": [
      "pancreatic cptac hcmi\n"
     ]
    }
   ],
   "source": [
    "print(cncr, sys_a, sys_b)\n",
    "ids_sys_a = sys_a_samp_canc_n.improve_sample_id # \n",
    "ids_sys_b = sys_b_samp_canc_n.improve_sample_id # "
   ]
  },
  {
   "cell_type": "markdown",
   "id": "bf489d37-da8b-45a2-b539-82e2dc878445",
   "metadata": {},
   "source": [
    "#### Data extraction, AML"
   ]
  },
  {
   "cell_type": "markdown",
   "id": "a5642ecc-e1c2-4619-96a3-589c5610a259",
   "metadata": {},
   "source": [
    "#### Data extraction, CPTAC"
   ]
  },
  {
   "cell_type": "markdown",
   "id": "0a5685a3-7135-404b-a877-0bb8bdb9d811",
   "metadata": {},
   "source": [
    "##### trns"
   ]
  },
  {
   "cell_type": "code",
   "execution_count": null,
   "id": "e42b0fee-72d6-4510-8c89-998d36a05fb3",
   "metadata": {},
   "outputs": [],
   "source": [
    "print(cncr)\n",
    "modality = 'transcriptomics' # to file name # BRCA bug?\n",
    "moda = 'tran_' # to columns and index\n",
    "mda_n_sys_a = cell_line.transcriptomics[cell_line.transcriptomics.improve_sample_id.isin(ids_sys_a)] # cl\n",
    "mda_n_sys_b = cptac.transcriptomics[cptac.transcriptomics.improve_sample_id.isin(ids_sys_b)]"
   ]
  },
  {
   "cell_type": "markdown",
   "id": "8a427a01-c656-4d15-a2ca-ad5adcb32212",
   "metadata": {},
   "source": [
    "##### prot"
   ]
  },
  {
   "cell_type": "code",
   "execution_count": null,
   "id": "6bffe055-8869-420d-9381-a964e9d90ffb",
   "metadata": {},
   "outputs": [],
   "source": [
    "modality = 'proteomics' # to file name\n",
    "moda = 'prot_' # to columns and index\n",
    "mda_n_sys_a = cell_line.proteomics[cell_line.proteomics.improve_sample_id.isin(ids_sys_a)] # cl\n",
    "mda_n_sys_b = cptac.proteomics[cptac.proteomics.improve_sample_id.isin(ids_sys_b)]"
   ]
  },
  {
   "cell_type": "markdown",
   "id": "563c5ae2-006e-474f-a462-57b5170f70bd",
   "metadata": {},
   "source": [
    "##### cn"
   ]
  },
  {
   "cell_type": "code",
   "execution_count": null,
   "id": "6a8f3257-a589-4bb0-9d19-728464a2013f",
   "metadata": {},
   "outputs": [],
   "source": [
    "modality = 'copy-number' # to file name\n",
    "moda = 'cpnm_' # to columns and index\n",
    "mda_n_sys_a= cell_line.copy_number[cell_line.copy_number.improve_sample_id.isin(ids_sys_a)]\n",
    "mda_n_sys_a= cell_line.copy_number[cptac.copy_number.improve_sample_id.isin(ids_sys_b)]"
   ]
  },
  {
   "cell_type": "code",
   "execution_count": null,
   "id": "04b1ee9a-7947-4e65-9a51-8a25622c6f13",
   "metadata": {},
   "outputs": [],
   "source": [
    "modality = 'mutations' # to file name\n",
    "moda = 'muta_' # to columns and index\n",
    "mda_n_sys_a = cell_line.mutations[cell_line.mutations.improve_sample_id.isin(ids_sys_a)]\n",
    "mda_n_sys_b = cptac.mutations[cptac.mutations.improve_sample_id.isin(ids_sys_b)]"
   ]
  },
  {
   "cell_type": "markdown",
   "id": "3bb77775-0e92-4d57-8a83-3e3e1fc46f43",
   "metadata": {},
   "source": [
    "#### Project A"
   ]
  },
  {
   "cell_type": "code",
   "execution_count": 127,
   "id": "e3ff696f-67e0-44ea-b350-7ed4f9b88c2f",
   "metadata": {},
   "outputs": [
    {
     "name": "stdout",
     "output_type": "stream",
     "text": [
      "cell-line | sys a\n",
      "colon transcriptomics\n",
      "1,151,519\n",
      "0\n",
      "0\n",
      "columns are int, index are int\n"
     ]
    }
   ],
   "source": [
    "df_lite, size, na_count, inf_count = df_check(mda_n_sys_a)\n",
    "print(sys_a, '| sys a')                 #               ^ \n",
    "print(cncr, modality)\n",
    "print(size)\n",
    "print(na_count)\n",
    "print(inf_count)\n",
    "\n",
    "wall_clock, dot_T = extract(df_lite)\n",
    "dot_T = g(moda, dot_T.copy())\n",
    "dot_T.dropna(axis = 1, inplace = True)\n",
    "# add zero check\n",
    "a = dot_T # cell line"
   ]
  },
  {
   "cell_type": "markdown",
   "id": "6f06adb1-be6a-4c43-921f-540195b3a5a7",
   "metadata": {},
   "source": [
    "#### Project B"
   ]
  },
  {
   "cell_type": "code",
   "execution_count": 128,
   "id": "df58287c-bcfc-4bf3-970e-10db36a792a3",
   "metadata": {},
   "outputs": [
    {
     "name": "stdout",
     "output_type": "stream",
     "text": [
      "hcmi | sys b\n",
      "colon transcriptomics\n",
      "len:  1,136,844\n",
      "NaNs:  27,278\n",
      "Infs:  0\n",
      "columns are float, index are int\n"
     ]
    }
   ],
   "source": [
    "df_lite, size, na_count, inf_count = df_check(mda_n_sys_b)\n",
    "print(sys_b, '| sys b')                 #               ^ \n",
    "print(cncr, modality)\n",
    "print('len: ', size)\n",
    "print('NaNs: ', na_count)\n",
    "print('Infs: ', inf_count)\n",
    "\n",
    "wall_clock, dot_T = extract(df_lite)\n",
    "dot_T = g(moda, dot_T.copy())\n",
    "dot_T.dropna(axis = 1, inplace = True)\n",
    "b = dot_T # "
   ]
  },
  {
   "cell_type": "markdown",
   "id": "e955d242-9b01-42fa-8ed3-9b8312a5eb7f",
   "metadata": {},
   "source": [
    "#### Labels"
   ]
  },
  {
   "cell_type": "markdown",
   "id": "bf4d8697-1aa8-48ef-8738-ec131e258c35",
   "metadata": {},
   "source": [
    "##### Check a and b are different"
   ]
  },
  {
   "cell_type": "code",
   "execution_count": 129,
   "id": "bce05ecb-fbc9-440f-b30c-35fd3cf336de",
   "metadata": {},
   "outputs": [
    {
     "data": {
      "text/html": [
       "<div>\n",
       "<style scoped>\n",
       "    .dataframe tbody tr th:only-of-type {\n",
       "        vertical-align: middle;\n",
       "    }\n",
       "\n",
       "    .dataframe tbody tr th {\n",
       "        vertical-align: top;\n",
       "    }\n",
       "\n",
       "    .dataframe thead th {\n",
       "        text-align: right;\n",
       "    }\n",
       "</style>\n",
       "<table border=\"1\" class=\"dataframe\">\n",
       "  <thead>\n",
       "    <tr style=\"text-align: right;\">\n",
       "      <th>entrez_id</th>\n",
       "      <th>entrz_tran_1</th>\n",
       "      <th>entrz_tran_2</th>\n",
       "      <th>entrz_tran_9</th>\n",
       "    </tr>\n",
       "    <tr>\n",
       "      <th>improve_sample_id</th>\n",
       "      <th></th>\n",
       "      <th></th>\n",
       "      <th></th>\n",
       "    </tr>\n",
       "  </thead>\n",
       "  <tbody>\n",
       "    <tr>\n",
       "      <th>smpl_id_3</th>\n",
       "      <td>1.400538</td>\n",
       "      <td>0.321928</td>\n",
       "      <td>3.400538</td>\n",
       "    </tr>\n",
       "    <tr>\n",
       "      <th>smpl_id_7</th>\n",
       "      <td>0.137504</td>\n",
       "      <td>0.201634</td>\n",
       "      <td>2.849999</td>\n",
       "    </tr>\n",
       "    <tr>\n",
       "      <th>smpl_id_9</th>\n",
       "      <td>1.464668</td>\n",
       "      <td>0.250962</td>\n",
       "      <td>2.976364</td>\n",
       "    </tr>\n",
       "  </tbody>\n",
       "</table>\n",
       "</div>"
      ],
      "text/plain": [
       "entrez_id          entrz_tran_1  entrz_tran_2  entrz_tran_9\n",
       "improve_sample_id                                          \n",
       "smpl_id_3              1.400538      0.321928      3.400538\n",
       "smpl_id_7              0.137504      0.201634      2.849999\n",
       "smpl_id_9              1.464668      0.250962      2.976364"
      ]
     },
     "execution_count": 129,
     "metadata": {},
     "output_type": "execute_result"
    }
   ],
   "source": [
    "a.iloc[:3, :3]"
   ]
  },
  {
   "cell_type": "code",
   "execution_count": 130,
   "id": "b9910252-619f-41e8-94f9-e7487d5851af",
   "metadata": {},
   "outputs": [
    {
     "data": {
      "text/html": [
       "<div>\n",
       "<style scoped>\n",
       "    .dataframe tbody tr th:only-of-type {\n",
       "        vertical-align: middle;\n",
       "    }\n",
       "\n",
       "    .dataframe tbody tr th {\n",
       "        vertical-align: top;\n",
       "    }\n",
       "\n",
       "    .dataframe thead th {\n",
       "        text-align: right;\n",
       "    }\n",
       "</style>\n",
       "<table border=\"1\" class=\"dataframe\">\n",
       "  <thead>\n",
       "    <tr style=\"text-align: right;\">\n",
       "      <th>entrez_id</th>\n",
       "      <th>entrz_tran_1</th>\n",
       "      <th>entrz_tran_2</th>\n",
       "      <th>entrz_tran_9</th>\n",
       "    </tr>\n",
       "    <tr>\n",
       "      <th>improve_sample_id</th>\n",
       "      <th></th>\n",
       "      <th></th>\n",
       "      <th></th>\n",
       "    </tr>\n",
       "  </thead>\n",
       "  <tbody>\n",
       "    <tr>\n",
       "      <th>smpl_id_3018</th>\n",
       "      <td>0.0433</td>\n",
       "      <td>0.0457</td>\n",
       "      <td>20.3283</td>\n",
       "    </tr>\n",
       "    <tr>\n",
       "      <th>smpl_id_3024</th>\n",
       "      <td>0.5619</td>\n",
       "      <td>0.2667</td>\n",
       "      <td>1.5229</td>\n",
       "    </tr>\n",
       "    <tr>\n",
       "      <th>smpl_id_3047</th>\n",
       "      <td>0.3022</td>\n",
       "      <td>0.1851</td>\n",
       "      <td>4.1184</td>\n",
       "    </tr>\n",
       "  </tbody>\n",
       "</table>\n",
       "</div>"
      ],
      "text/plain": [
       "entrez_id          entrz_tran_1  entrz_tran_2  entrz_tran_9\n",
       "improve_sample_id                                          \n",
       "smpl_id_3018             0.0433        0.0457       20.3283\n",
       "smpl_id_3024             0.5619        0.2667        1.5229\n",
       "smpl_id_3047             0.3022        0.1851        4.1184"
      ]
     },
     "execution_count": 130,
     "metadata": {},
     "output_type": "execute_result"
    }
   ],
   "source": [
    "b.iloc[:3, :3]"
   ]
  },
  {
   "cell_type": "markdown",
   "id": "7ec93f50-dd8a-411f-9f2b-1cb534b792e5",
   "metadata": {},
   "source": [
    "##### Continue"
   ]
  },
  {
   "cell_type": "code",
   "execution_count": 131,
   "id": "e3a7e455-0b15-4e70-b7c6-46ab14183f31",
   "metadata": {},
   "outputs": [],
   "source": [
    "a.insert(0, 'Cancer_type', cncr_lbl)\n",
    "b.insert(0, 'Cancer_type', cncr_lbl)\n",
    "a.insert(0, 'System', sys_a_lbl)\n",
    "b.insert(0, 'System', sys_b_lbl)"
   ]
  },
  {
   "cell_type": "code",
   "execution_count": 132,
   "id": "45c947e4-e9aa-47bd-b553-6deb3953af22",
   "metadata": {},
   "outputs": [],
   "source": [
    "ab = pd.concat([a, b], axis=0, join='inner')"
   ]
  },
  {
   "cell_type": "code",
   "execution_count": null,
   "id": "c7eae046-d161-4f43-af48-b67840e60ebb",
   "metadata": {},
   "outputs": [],
   "source": [
    "print(cncr, modality)\n",
    "ab"
   ]
  },
  {
   "cell_type": "code",
   "execution_count": 118,
   "id": "627be977-1518-43b5-b945-96bcadfff186",
   "metadata": {},
   "outputs": [
    {
     "data": {
      "text/plain": [
       "(96, 19136)"
      ]
     },
     "execution_count": 118,
     "metadata": {},
     "output_type": "execute_result"
    }
   ],
   "source": [
    "ab.shape"
   ]
  }
 ],
 "metadata": {
  "kernelspec": {
   "display_name": "Python 3 (ipykernel)",
   "language": "python",
   "name": "python3"
  },
  "language_info": {
   "codemirror_mode": {
    "name": "ipython",
    "version": 3
   },
   "file_extension": ".py",
   "mimetype": "text/x-python",
   "name": "python",
   "nbconvert_exporter": "python",
   "pygments_lexer": "ipython3",
   "version": "3.10.8"
  }
 },
 "nbformat": 4,
 "nbformat_minor": 5
}
