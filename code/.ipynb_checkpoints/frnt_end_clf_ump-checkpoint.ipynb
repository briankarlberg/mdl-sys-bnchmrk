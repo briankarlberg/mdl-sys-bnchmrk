{
 "cells": [
  {
   "cell_type": "code",
   "execution_count": null,
   "id": "56d09330-4bca-4f31-b2bf-749897655420",
   "metadata": {},
   "outputs": [],
   "source": [
    "# Front-end classification and umap\n",
    "    # Post data structure, prior to split for mbatch and vae"
   ]
  },
  {
   "cell_type": "code",
   "execution_count": 1,
   "id": "f16c29ac-18bf-437c-835a-8329b77c7d3a",
   "metadata": {},
   "outputs": [],
   "source": [
    "import pandas as pd"
   ]
  },
  {
   "cell_type": "code",
   "execution_count": null,
   "id": "82f073eb-7deb-45aa-8c84-524adf974658",
   "metadata": {},
   "outputs": [],
   "source": [
    "output/dbl-cncr"
   ]
  },
  {
   "cell_type": "code",
   "execution_count": null,
   "id": "371006ab-dc41-4a59-9ff0-c3445e46967e",
   "metadata": {},
   "outputs": [],
   "source": [
    "output/dbl-cncr/pancreatic-adeno+lung-adeno_transcriptomics_cell-line+CPTAC.tsv"
   ]
  },
  {
   "cell_type": "code",
   "execution_count": 4,
   "id": "71b42127-d036-46ef-9b22-9c499cabf7e4",
   "metadata": {},
   "outputs": [
    {
     "name": "stdout",
     "output_type": "stream",
     "text": [
      "\u001b[34m2024-02-17\u001b[m\u001b[m/\n",
      "pancreatic-adeno+lung-adeno_transcriptomics_cell-line+CPTAC.tsv\n",
      "renal-clear-cell+colon-adeno_transcriptomics_cell-line+CPTAC.tsv\n",
      "renal-clear-cell+glioblastoma_transcriptomics_cell-line+CPTAC.tsv\n",
      "renal-clear-cell+lung-adeno_transcriptomics_cell-line+CPTAC.tsv\n",
      "renal-clear-cell+pancreatic-adeno_transcriptomics_cell-line+CPTAC.tsv\n"
     ]
    }
   ],
   "source": [
    "ls ../output/dbl-cncr/"
   ]
  },
  {
   "cell_type": "code",
   "execution_count": 5,
   "id": "c4797920-f370-45d6-9b11-c38e17a82455",
   "metadata": {},
   "outputs": [],
   "source": [
    "import glob"
   ]
  },
  {
   "cell_type": "code",
   "execution_count": null,
   "id": "f453bd1a-6538-4341-ae4b-ff1ee4c5f8de",
   "metadata": {},
   "outputs": [],
   "source": [
    "# glob ../output/dbl-cncr/"
   ]
  },
  {
   "cell_type": "code",
   "execution_count": 7,
   "id": "1bf14b53-259e-4707-80ed-3933aa33e33c",
   "metadata": {},
   "outputs": [],
   "source": [
    "dbl_n = pd.read_csv(\n",
    "    '../output/dbl-cncr/pancreatic-adeno+lung-adeno_transcriptomics_cell-line+CPTAC.tsv',\n",
    "    sep = '\\t', index_col = 0)"
   ]
  },
  {
   "cell_type": "code",
   "execution_count": null,
   "id": "48e406f7-b64c-4149-85f7-bd29d9537438",
   "metadata": {},
   "outputs": [],
   "source": [
    "dbl_n"
   ]
  },
  {
   "cell_type": "code",
   "execution_count": null,
   "id": "0d3dbecf-f469-48f2-a8bf-000c79fee25c",
   "metadata": {},
   "outputs": [],
   "source": [
    "System, Cancer_type"
   ]
  }
 ],
 "metadata": {
  "kernelspec": {
   "display_name": "Python 3 (ipykernel)",
   "language": "python",
   "name": "python3"
  },
  "language_info": {
   "codemirror_mode": {
    "name": "ipython",
    "version": 3
   },
   "file_extension": ".py",
   "mimetype": "text/x-python",
   "name": "python",
   "nbconvert_exporter": "python",
   "pygments_lexer": "ipython3",
   "version": "3.10.8"
  }
 },
 "nbformat": 4,
 "nbformat_minor": 5
}
