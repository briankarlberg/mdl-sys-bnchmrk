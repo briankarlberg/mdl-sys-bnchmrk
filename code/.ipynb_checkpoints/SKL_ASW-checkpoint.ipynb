{
 "cells": [
  {
   "cell_type": "code",
   "execution_count": 25,
   "id": "2a9fb902-d15c-42f4-880f-3778d5396217",
   "metadata": {},
   "outputs": [
    {
     "name": "stdout",
     "output_type": "stream",
     "text": [
      "AML_transcriptomics_cell-line+BeatAML.latent_space.tsv\n",
      "AML_transcriptomics_cell-line+BeatAML.vae.umap.png\n",
      "colon-adeno_transcriptomics_cell-line+CPTAC.latent_space.tsv\n",
      "colon-adeno_transcriptomics_cell-line+CPTAC.vae.umap.png\n",
      "colon-nos-adeno_transcriptomics_HCMI+CPTAC.latent_space.tsv\n",
      "colon-nos-adeno_transcriptomics_HCMI+CPTAC.vae.umap.png\n",
      "\u001b[34mdbl\u001b[m\u001b[m/\n",
      "glioblastoma_transcriptomics_cell-line+CPTAC.latent_space.tsv\n",
      "glioblastoma_transcriptomics_cell-line+CPTAC.vae.umap.png\n",
      "lung-adeno_transcriptomics_cell-line+CPTAC.latent_space.tsv\n",
      "lung-adeno_transcriptomics_cell-line+CPTAC.vae.umap.png\n",
      "pancreatic-adeno_transcriptomics_cell-line+CPTAC.latent_space.tsv\n",
      "pancreatic-adeno_transcriptomics_cell-line+CPTAC.vae.umap.png\n",
      "pancreatic-nos-ductal-ad_transcriptomics_HCMI+CPTAC.latent_space.tsv\n",
      "pancreatic-nos-ductal-ad_transcriptomics_HCMI+CPTAC.vae.umap.png\n",
      "renal-clear-cell_transcriptomics_cell-line+CPTAC.latent_space.tsv\n",
      "renal-clear-cell_transcriptomics_cell-line+CPTAC.vae.umap.png\n",
      "\u001b[34msgl_arch\u001b[m\u001b[m/\n"
     ]
    }
   ],
   "source": [
    "ls ../results/r7"
   ]
  },
  {
   "cell_type": "code",
   "execution_count": 26,
   "id": "97168610-f585-4bbc-8e85-151f5a32ad1d",
   "metadata": {},
   "outputs": [
    {
     "name": "stdout",
     "output_type": "stream",
     "text": [
      "AML_transcriptomics_cell-line+BeatAML.tsv\n",
      "\u001b[34mbreast\u001b[m\u001b[m/\n",
      "colon-adeno_transcriptomics_cell-line+CPTAC.tsv\n",
      "colon-nos-adeno_transcriptomics_HCMI+CPTAC.tsv\n",
      "glioblastoma_transcriptomics_cell-line+CPTAC.tsv\n",
      "lung-adeno_transcriptomics_cell-line+CPTAC.tsv\n",
      "pancreatic-adeno_transcriptomics_cell-line+CPTAC.tsv\n",
      "pancreatic-nos-ductal-ad_transcriptomics_HCMI+CPTAC.tsv\n",
      "renal-clear-cell_transcriptomics_cell-line+CPTAC.tsv\n"
     ]
    }
   ],
   "source": [
    "ls ../data/r7"
   ]
  },
  {
   "cell_type": "code",
   "execution_count": 27,
   "id": "10901212-0edd-4113-a91d-8fc3e72f02b6",
   "metadata": {},
   "outputs": [
    {
     "name": "stdout",
     "output_type": "stream",
     "text": [
      "colon-adeno_transcriptomics_cell-line+CPTAC.tsv\n",
      "colon-nos-adeno_transcriptomics_HCMI+CPTAC.tsv\n",
      "glioblastoma_transcriptomics_cell-line+CPTAC.tsv\n",
      "lung-adeno_transcriptomics_cell-line+CPTAC.tsv\n",
      "pancreatic-adeno_transcriptomics_cell-line+CPTAC.tsv\n",
      "pancreatic-nos-ductal-ad_transcriptomics_HCMI+CPTAC.tsv\n",
      "renal-clear-cell_transcriptomics_cell-line+CPTAC.tsv\n"
     ]
    }
   ],
   "source": [
    "ls ../results/r7/mbatch"
   ]
  },
  {
   "cell_type": "code",
   "execution_count": null,
   "id": "52bc7638-41c7-4a90-aeda-d97a883e0588",
   "metadata": {},
   "outputs": [],
   "source": [
    "# ^run mbatch on input - done\n",
    "# ^run umaps on input"
   ]
  },
  {
   "cell_type": "code",
   "execution_count": 31,
   "id": "1e98ca98-250e-4cbf-8266-6a9f7d705476",
   "metadata": {},
   "outputs": [
    {
     "name": "stdout",
     "output_type": "stream",
     "text": [
      "cell-line+CPTAC\n",
      "colon-adeno\n",
      "Input 0.7541339678732152\n",
      "mb 0.435618979554585\n",
      "vae 0.02537948068086858\n",
      " \n",
      "HCMI+CPTAC\n",
      "colon-nos-adeno\n",
      "Input 0.7637915061705105\n",
      "mb 0.8384714707790508\n",
      "vae 0.023897311585840377\n",
      " \n",
      "cell-line+CPTAC\n",
      "glioblastoma\n",
      "Input 0.7941282691531054\n",
      "mb 0.4285955576605848\n",
      "vae 0.026138221631063302\n",
      " \n",
      "cell-line+CPTAC\n",
      "lung-adeno\n",
      "Input 0.7838805136916783\n",
      "mb 0.35300395682524977\n",
      "vae 0.02255797156625567\n",
      " \n",
      "cell-line+CPTAC\n",
      "pancreatic-adeno\n",
      "Input 0.8117909777945946\n",
      "mb 0.44170506034210955\n",
      "vae 0.025118350440518182\n",
      " \n",
      "HCMI+CPTAC\n",
      "pancreatic-nos-ductal-ad\n",
      "Input 0.7981689226424528\n",
      "mb 0.7054531822889479\n",
      "vae 0.02475998881013472\n",
      " \n",
      "cell-line+CPTAC\n",
      "renal-clear-cell\n",
      "Input 0.791982852526236\n",
      "mb 0.4434701654441618\n",
      "vae 0.02673085069165532\n",
      " \n"
     ]
    }
   ],
   "source": [
    "# Data handling\n",
    "import pandas as pd\n",
    "import glob as glob\n",
    "\n",
    "# Average Sihouette Width\n",
    "from sklearn.cluster import KMeans\n",
    "from sklearn.metrics import silhouette_score\n",
    "\n",
    "# Bar plot across cancers\n",
    "import matplotlib.pyplot as plt\n",
    "\n",
    "# Surpress warnings\n",
    "import warnings\n",
    "warnings.simplefilter(action='ignore', category=FutureWarning)\n",
    "\n",
    "inp_pths_n = sorted(glob.glob('../data/r7/*tsv')) # input data\n",
    "mb_pths_n = sorted(glob.glob('../results/r7/mbatch/*tsv')) # mbatch control\n",
    "pths_n = sorted(glob.glob('../results/r7/*tsv')) # vae\n",
    "\n",
    "# Store results, to bar plot\n",
    "inp_asw = []\n",
    "mb_asw = []\n",
    "vae_asw = []\n",
    "\n",
    "# Get silhouettes\n",
    "for pi, pth_n in enumerate(pths_n):\n",
    "\n",
    "    # Get system combo and cancer type\n",
    "    systems = pth_n.split('/')[-1].split('_')[2].split('.')[0]\n",
    "    cancer = pth_n.split('/')[-1].split('_')[0]\n",
    "    print(systems)\n",
    "    print(cancer)\n",
    "\n",
    "    # Input\n",
    "    inp_df_n = pd.read_csv(\n",
    "        inp_pths_n[pi], sep = '\\t', index_col = 0)\n",
    "    X = inp_df_n.drop(\n",
    "        ['System', 'Cancer_type'], axis=1)\n",
    "    ss = silhouette_score(X, kmeans.fit_predict(X))\n",
    "    inp_asw.append(ss)\n",
    "    print('Input', ss)\n",
    "\n",
    "    # Mbatch\n",
    "    mb_df_n = pd.read_csv(\n",
    "        mb_pths_n[pi], sep = '\\t', index_col = 0)\n",
    "    X = mb_df_n.drop(\n",
    "        ['System', 'Cancer_type'], axis=1)\n",
    "    ss = silhouette_score(X, kmeans.fit_predict(X))\n",
    "    mb_asw.append(ss)\n",
    "    print('mb', ss)      \n",
    "\n",
    "    # VAE\n",
    "    df_n = pd.read_csv(\n",
    "        pth_n, sep = '\\t', index_col = 0)\n",
    "    X = df_n.drop(\n",
    "        ['System', 'Cancer_type'], axis=1)\n",
    "    ss = silhouette_score(X, kmeans.fit_predict(X))\n",
    "    vae_asw.append(ss)\n",
    "    print('vae', ss)\n",
    "\n",
    "    print(' ')\n",
    "    # break"
   ]
  },
  {
   "cell_type": "code",
   "execution_count": 29,
   "id": "c400df9d-3441-450c-a8de-d932eaed6122",
   "metadata": {},
   "outputs": [],
   "source": [
    "results = pd.DataFrame({'Input': inp_asw,\n",
    "                        'Mbatch': mb_asw,\n",
    "                        'VAE': vae_asw})"
   ]
  },
  {
   "cell_type": "code",
   "execution_count": 30,
   "id": "4a7469e3-f1d0-4fc9-abcd-59fa2be731f6",
   "metadata": {},
   "outputs": [
    {
     "data": {
      "text/html": [
       "<div>\n",
       "<style scoped>\n",
       "    .dataframe tbody tr th:only-of-type {\n",
       "        vertical-align: middle;\n",
       "    }\n",
       "\n",
       "    .dataframe tbody tr th {\n",
       "        vertical-align: top;\n",
       "    }\n",
       "\n",
       "    .dataframe thead th {\n",
       "        text-align: right;\n",
       "    }\n",
       "</style>\n",
       "<table border=\"1\" class=\"dataframe\">\n",
       "  <thead>\n",
       "    <tr style=\"text-align: right;\">\n",
       "      <th></th>\n",
       "      <th>Input</th>\n",
       "      <th>Mbatch</th>\n",
       "      <th>VAE</th>\n",
       "    </tr>\n",
       "  </thead>\n",
       "  <tbody>\n",
       "    <tr>\n",
       "      <th>0</th>\n",
       "      <td>0.754134</td>\n",
       "      <td>0.435619</td>\n",
       "      <td>0.025379</td>\n",
       "    </tr>\n",
       "    <tr>\n",
       "      <th>1</th>\n",
       "      <td>0.763792</td>\n",
       "      <td>0.838471</td>\n",
       "      <td>0.023897</td>\n",
       "    </tr>\n",
       "    <tr>\n",
       "      <th>2</th>\n",
       "      <td>0.794128</td>\n",
       "      <td>0.428596</td>\n",
       "      <td>0.026138</td>\n",
       "    </tr>\n",
       "    <tr>\n",
       "      <th>3</th>\n",
       "      <td>0.783881</td>\n",
       "      <td>0.353004</td>\n",
       "      <td>0.022558</td>\n",
       "    </tr>\n",
       "    <tr>\n",
       "      <th>4</th>\n",
       "      <td>0.811791</td>\n",
       "      <td>0.441705</td>\n",
       "      <td>0.025118</td>\n",
       "    </tr>\n",
       "    <tr>\n",
       "      <th>5</th>\n",
       "      <td>0.798169</td>\n",
       "      <td>0.705453</td>\n",
       "      <td>0.024760</td>\n",
       "    </tr>\n",
       "    <tr>\n",
       "      <th>6</th>\n",
       "      <td>0.791983</td>\n",
       "      <td>0.443470</td>\n",
       "      <td>0.026731</td>\n",
       "    </tr>\n",
       "  </tbody>\n",
       "</table>\n",
       "</div>"
      ],
      "text/plain": [
       "      Input    Mbatch       VAE\n",
       "0  0.754134  0.435619  0.025379\n",
       "1  0.763792  0.838471  0.023897\n",
       "2  0.794128  0.428596  0.026138\n",
       "3  0.783881  0.353004  0.022558\n",
       "4  0.811791  0.441705  0.025118\n",
       "5  0.798169  0.705453  0.024760\n",
       "6  0.791983  0.443470  0.026731"
      ]
     },
     "execution_count": 30,
     "metadata": {},
     "output_type": "execute_result"
    }
   ],
   "source": [
    "results"
   ]
  },
  {
   "cell_type": "code",
   "execution_count": 32,
   "id": "a29fb415-3951-44b4-8c82-f7da90981192",
   "metadata": {},
   "outputs": [],
   "source": [
    "results.to_csv('../results/SKL_ASW.tsv',\n",
    "              sep = '\\t')"
   ]
  },
  {
   "cell_type": "code",
   "execution_count": null,
   "id": "5e8e463d-380e-420c-82e4-4974741907cd",
   "metadata": {},
   "outputs": [],
   "source": [
    "# Bar plot"
   ]
  }
 ],
 "metadata": {
  "kernelspec": {
   "display_name": "Python 3 (ipykernel)",
   "language": "python",
   "name": "python3"
  },
  "language_info": {
   "codemirror_mode": {
    "name": "ipython",
    "version": 3
   },
   "file_extension": ".py",
   "mimetype": "text/x-python",
   "name": "python",
   "nbconvert_exporter": "python",
   "pygments_lexer": "ipython3",
   "version": "3.10.8"
  }
 },
 "nbformat": 4,
 "nbformat_minor": 5
}
