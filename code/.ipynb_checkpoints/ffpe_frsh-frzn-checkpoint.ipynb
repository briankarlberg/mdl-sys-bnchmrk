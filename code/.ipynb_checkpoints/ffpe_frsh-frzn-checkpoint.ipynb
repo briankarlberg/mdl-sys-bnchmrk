{
 "cells": [
  {
   "cell_type": "code",
   "execution_count": null,
   "id": "68405e92-a120-4537-b988-a95c2af75b07",
   "metadata": {},
   "outputs": [],
   "source": [
    "# Formilin-fixed, parafin ebedded; for histology\n",
    "# Fresh frozen; preserves DNA, RNA, and protein molecules\n",
    "\n",
    "# Inspection results: three sets of Agilent files @ n .txt = 54\n",
    "    # two sets of Illumina files @ n .txt = 1,014 and 2,028"
   ]
  },
  {
   "cell_type": "code",
   "execution_count": null,
   "id": "7dfc8eb7-4de5-4682-9c32-210ca2fc3308",
   "metadata": {},
   "outputs": [],
   "source": [
    "pwd"
   ]
  },
  {
   "cell_type": "code",
   "execution_count": null,
   "id": "242c1e8c-714d-4126-a55d-c5a21cf19c27",
   "metadata": {},
   "outputs": [],
   "source": [
    "ls ../../../../composite_loss_devel/composite_loss_devel/array_seq/"
   ]
  },
  {
   "cell_type": "code",
   "execution_count": null,
   "id": "97819a28-123c-4e27-9983-95ccbac7f1a8",
   "metadata": {},
   "outputs": [],
   "source": [
    "# Unzip in Finder"
   ]
  },
  {
   "cell_type": "code",
   "execution_count": null,
   "id": "8e348acb-0784-44ae-a9e3-8ca593053bb2",
   "metadata": {},
   "outputs": [],
   "source": [
    "ls ../../../../composite_loss_devel/composite_loss_devel/array_seq/"
   ]
  },
  {
   "cell_type": "code",
   "execution_count": null,
   "id": "0bd350cc-dc82-4fa5-8319-567169cdcfcf",
   "metadata": {},
   "outputs": [],
   "source": [
    "ls ../../../../composite_loss_devel/composite_loss_devel/array_seq/unc.edu_UCEC.AgilentG4502A_07_3/"
   ]
  },
  {
   "cell_type": "code",
   "execution_count": null,
   "id": "3ab0f1e4-a1e6-4676-9e54-fd4553dc6f59",
   "metadata": {},
   "outputs": [],
   "source": [
    "ls ../../../../composite_loss_devel/composite_loss_devel/array_seq/unc.edu_UCEC.Illumina_RNASeq.Level_3/"
   ]
  },
  {
   "cell_type": "code",
   "execution_count": null,
   "id": "156a40a6-cc6a-44a8-a416-e04520eb3c86",
   "metadata": {},
   "outputs": [],
   "source": [
    "-- more unzipping"
   ]
  },
  {
   "cell_type": "code",
   "execution_count": null,
   "id": "44f8352d-070b-4394-a9a6-6197903c84c4",
   "metadata": {},
   "outputs": [],
   "source": [
    "ls ../../../../composite_loss_devel/composite_loss_devel/array_seq/"
   ]
  },
  {
   "cell_type": "code",
   "execution_count": null,
   "id": "07b08dd0-52a4-4807-a1de-d38f7ee0b359",
   "metadata": {},
   "outputs": [],
   "source": [
    "ls ../../../../composite_loss_devel/composite_loss_devel/array_seq/unc.edu_UCEC.AgilentG4502A_07_3/"
   ]
  },
  {
   "cell_type": "code",
   "execution_count": null,
   "id": "88bd12d2-ac8f-4848-ac68-5044b408aae5",
   "metadata": {},
   "outputs": [],
   "source": [
    "# Look at three Agilent dirs with 57 - 3 prov files = 54 .txt files"
   ]
  },
  {
   "cell_type": "code",
   "execution_count": null,
   "id": "fe7d2d5b-5388-4976-bfa4-e49ba1743041",
   "metadata": {
    "scrolled": true
   },
   "outputs": [],
   "source": [
    "ls ../../../../composite_loss_devel/composite_loss_devel/array_seq/unc.edu_UCEC.AgilentG4502A_07_3/unc.edu_UCEC.AgilentG4502A_07_3.Level_1.1.0.0/"
   ]
  },
  {
   "cell_type": "code",
   "execution_count": null,
   "id": "17f3af4b-67c8-48fd-8ced-4cfc87bd8123",
   "metadata": {
    "scrolled": true
   },
   "outputs": [],
   "source": [
    "ls ../../../../composite_loss_devel/composite_loss_devel/array_seq/unc.edu_UCEC.AgilentG4502A_07_3/unc.edu_UCEC.AgilentG4502A_07_3.Level_2.1.0.0/"
   ]
  },
  {
   "cell_type": "code",
   "execution_count": null,
   "id": "3bf6b0a0-0a5c-4436-a87f-65d5b14686a8",
   "metadata": {
    "scrolled": true
   },
   "outputs": [],
   "source": [
    "ls ../../../../composite_loss_devel/composite_loss_devel/array_seq/unc.edu_UCEC.AgilentG4502A_07_3/unc.edu_UCEC.AgilentG4502A_07_3.Level_3.1.0.0/"
   ]
  },
  {
   "cell_type": "code",
   "execution_count": null,
   "id": "f6dcef9d-4de5-4815-a4ad-0616ff80e1ab",
   "metadata": {},
   "outputs": [],
   "source": [
    "--"
   ]
  },
  {
   "cell_type": "code",
   "execution_count": null,
   "id": "962844f0-6d46-40be-acc5-33c49dc0792f",
   "metadata": {},
   "outputs": [],
   "source": [
    "# Illumina, 2 dirs"
   ]
  },
  {
   "cell_type": "code",
   "execution_count": null,
   "id": "cac542c3-8005-4d8d-8d9b-de8388381a22",
   "metadata": {},
   "outputs": [],
   "source": [
    "ls ../../../../composite_loss_devel/composite_loss_devel/array_seq/unc.edu_UCEC.Illumina_RNASeq.Level_3/"
   ]
  },
  {
   "cell_type": "code",
   "execution_count": null,
   "id": "aa940849-c151-4d1a-aed5-54b775e753d9",
   "metadata": {},
   "outputs": [],
   "source": [
    "# 1018 - 4 prov files = 1014 .txt files"
   ]
  },
  {
   "cell_type": "code",
   "execution_count": null,
   "id": "51a72c07-2692-4143-ad3f-142879d4595a",
   "metadata": {
    "scrolled": true
   },
   "outputs": [],
   "source": [
    "ls ../../../../composite_loss_devel/composite_loss_devel/array_seq/unc.edu_UCEC.Illumina_RNASeq.Level_3/unc.edu_UCEC.IlluminaGA_RNASeq.Level_3.2.7.0/"
   ]
  },
  {
   "cell_type": "code",
   "execution_count": null,
   "id": "d6c99274-7bb6-4590-8359-f4d911ada390",
   "metadata": {},
   "outputs": [],
   "source": [
    "# 2,031 - 3 prov files = 2,028 .txt files\n",
    "\n",
    "# Observation: 2,028 = 2 x 1,014"
   ]
  },
  {
   "cell_type": "code",
   "execution_count": null,
   "id": "61066160-5dd7-4fda-abba-02366c1fde77",
   "metadata": {
    "scrolled": true
   },
   "outputs": [],
   "source": [
    "ls ../../../../composite_loss_devel/composite_loss_devel/array_seq/unc.edu_UCEC.Illumina_RNASeq.Level_3/unc.edu_UCEC.IlluminaHiSeq_RNASeqV2.Level_3.1.0.0/"
   ]
  }
 ],
 "metadata": {
  "kernelspec": {
   "display_name": "Python 3 (ipykernel)",
   "language": "python",
   "name": "python3"
  },
  "language_info": {
   "codemirror_mode": {
    "name": "ipython",
    "version": 3
   },
   "file_extension": ".py",
   "mimetype": "text/x-python",
   "name": "python",
   "nbconvert_exporter": "python",
   "pygments_lexer": "ipython3",
   "version": "3.10.8"
  }
 },
 "nbformat": 4,
 "nbformat_minor": 5
}
