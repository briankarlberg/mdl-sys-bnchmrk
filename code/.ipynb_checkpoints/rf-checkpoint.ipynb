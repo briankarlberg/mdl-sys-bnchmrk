{
 "cells": [
  {
   "cell_type": "code",
   "execution_count": null,
   "id": "174a7cbb-a372-46aa-81be-5f1aa3b563ef",
   "metadata": {},
   "outputs": [],
   "source": [
    "# Random Forest\n",
    "# Subset by system - HCMI with CPTAC first\n",
    "    # cell line and CPTAC second\n",
    "# Get pairs of cancer types\n",
    "# Read first cancer pair of mbatch files\n",
    "# Predict on system labels for mbatch, save to mbatch x column\n",
    "# Read corresponding pair of vae-encoded files\n",
    "# Predict on system labels for vae, save to vae x column\n",
    "    # 22 input and VAE files, 14 mbatch files\n",
    "# With and without RFE\n",
    "# Use matching cross folds\n",
    "# MMD as control\n",
    "\n",
    "# From fig template for rf and rfe\n",
    "    # and mmd for the i-o"
   ]
  },
  {
   "cell_type": "code",
   "execution_count": null,
   "id": "3e0e99f7-c305-40e6-b517-08a733efc3ab",
   "metadata": {},
   "outputs": [],
   "source": [
    "# Run 5\n",
    "r = 'r5'"
   ]
  },
  {
   "cell_type": "markdown",
   "id": "e5d1e07e-9e7b-44a6-abbc-ad80928030ce",
   "metadata": {},
   "source": [
    "##### Imports"
   ]
  },
  {
   "cell_type": "code",
   "execution_count": null,
   "id": "afd393a5-94f4-4b02-95bf-1c8afbf7ab74",
   "metadata": {},
   "outputs": [],
   "source": [
    "# Data handling\n",
    "import pandas as pd\n",
    "import glob as glob\n",
    "\n",
    "# Pairwise cancer type prep\n",
    "import itertools\n",
    "\n",
    "# RFE\n",
    "from sklearn.feature_selection import RFE\n",
    "from sklearn.svm import SVR\n",
    "\n",
    "# RF\n",
    "from sklearn.ensemble import RandomForestClassifier\n",
    "from sklearn.model_selection import train_test_split\n",
    "from sklearn.metrics import f1_score\n",
    "\n",
    "# MMD\n",
    "import numpy as np\n",
    "from sklearn.metrics.pairwise import rbf_kernel\n",
    "\n",
    "# Plot\n",
    "import matplotlib.pyplot as plt"
   ]
  },
  {
   "cell_type": "markdown",
   "id": "43a350f8-2a2c-4a3c-836c-e8cc6f8d2907",
   "metadata": {},
   "source": [
    "##### MMD function"
   ]
  },
  {
   "cell_type": "code",
   "execution_count": null,
   "id": "829a25e5-39df-4a46-8681-b19a3a7ac3b8",
   "metadata": {},
   "outputs": [],
   "source": [
    "def compute_mmd(bio_mrk_1, bio_mrk_2, gamma):\n",
    "    K_XX = rbf_kernel(bio_mrk_1, bio_mrk_1, gamma=gamma)\n",
    "    K_XY = rbf_kernel(bio_mrk_1, bio_mrk_2, gamma=gamma)\n",
    "    K_YY = rbf_kernel(bio_mrk_2, bio_mrk_2, gamma=gamma)\n",
    "\n",
    "    m = bio_mrk_1.shape[0]\n",
    "    n = bio_mrk_2.shape[0]\n",
    "\n",
    "    mmd = (np.sum(K_XX) - np.trace(K_XX)) / (m * (m - 1))\n",
    "    mmd += (np.sum(K_YY) - np.trace(K_YY)) / (n * (n - 1))\n",
    "    mmd -= 2 * np.sum(K_XY) / (m * n)\n",
    "\n",
    "    # Ensure the MMD value is non-negative\n",
    "    mmd = np.maximum(mmd, 0)\n",
    "\n",
    "    return np.sqrt(mmd)"
   ]
  },
  {
   "cell_type": "markdown",
   "id": "6fae6e08-3a83-4bce-8934-53aaec44044e",
   "metadata": {},
   "source": [
    "##### RFE function"
   ]
  },
  {
   "cell_type": "code",
   "execution_count": null,
   "id": "ca636442-bacb-483a-a33a-6381601adce7",
   "metadata": {},
   "outputs": [],
   "source": []
  },
  {
   "cell_type": "markdown",
   "id": "99385c94-ec35-4243-867d-cd6a0320ed4b",
   "metadata": {},
   "source": [
    "##### Random forest function"
   ]
  },
  {
   "cell_type": "code",
   "execution_count": null,
   "id": "0c39c8f7-7aa0-47ca-8383-969664591d93",
   "metadata": {},
   "outputs": [],
   "source": []
  },
  {
   "cell_type": "markdown",
   "id": "eda7c738-c21c-41f2-b18b-c91148a2e298",
   "metadata": {},
   "source": [
    "##### Data to memory"
   ]
  },
  {
   "cell_type": "raw",
   "id": "1ff36771-80d6-4420-9f23-ab0c21800f4b",
   "metadata": {},
   "source": [
    "pwd\n",
    "mdl-sys-bnchmrk/code"
   ]
  },
  {
   "cell_type": "code",
   "execution_count": null,
   "id": "e48abe9c-0325-4285-be2d-b7476f8cbba7",
   "metadata": {},
   "outputs": [],
   "source": [
    "# Input-data\n",
    "# phase = 'input-data'\n",
    "# phase_name = 'Input data'\n",
    "input_pths = sorted(glob.glob('../results/input-data/'+r+'/'+r+'-fls/*'))\n",
    "print('File count: ', len(input_pths))"
   ]
  },
  {
   "cell_type": "code",
   "execution_count": null,
   "id": "eb239ee7-2c84-478d-bf5c-a87335bd719f",
   "metadata": {},
   "outputs": [],
   "source": [
    "# Manual check, input\n",
    "df_n = pd.read_csv(\n",
    "        input_pths[5], sep = '\\t', index_col = 0)"
   ]
  },
  {
   "cell_type": "code",
   "execution_count": null,
   "id": "7c100b58-f479-4e30-b003-2f86a4e131c8",
   "metadata": {
    "scrolled": true
   },
   "outputs": [],
   "source": [
    "# Input data lens\n",
    "for pth_n in input_pths:\n",
    "    df_n = pd.read_csv(\n",
    "        pth_n, sep = '\\t', index_col = 0)\n",
    "    print(pth_n)\n",
    "    print(df_n.System.unique())\n",
    "    print(df_n.Cancer_type.unique())\n",
    "    print(len(df_n))\n",
    "    print(' ')\n",
    "    # break"
   ]
  },
  {
   "cell_type": "code",
   "execution_count": null,
   "id": "1fd912ef-1d56-4a42-9115-a1f79a8a6b3a",
   "metadata": {},
   "outputs": [],
   "source": [
    "df_n"
   ]
  },
  {
   "cell_type": "code",
   "execution_count": null,
   "id": "f0309d5e-40de-4606-a614-64e93d75f0ac",
   "metadata": {},
   "outputs": [],
   "source": [
    "# Mbatch paths for read-in, wrote disk in r6\n",
    "# phase = 'mbatch-out'\n",
    "# phase_name = 'Mbatch corrected'\n",
    "mbatch_pths = sorted(glob.glob('../results/mbatch-out/r6/r6-fls/*'))\n",
    "print('File count: ', len(mbatch_pths))"
   ]
  },
  {
   "cell_type": "code",
   "execution_count": null,
   "id": "9dc232c2-aa9b-4488-a786-77c5fe905d11",
   "metadata": {},
   "outputs": [],
   "source": [
    "# Manual check, Mbatch\n",
    "df_n = pd.read_csv(\n",
    "        mbatch_pths[2], sep = '\\t', index_col = 0)"
   ]
  },
  {
   "cell_type": "code",
   "execution_count": null,
   "id": "70e6e679-2daa-4675-b6f8-203f5e5dcb99",
   "metadata": {},
   "outputs": [],
   "source": [
    "df_n"
   ]
  },
  {
   "cell_type": "code",
   "execution_count": null,
   "id": "65b11369-8b43-4728-94ad-c4f41c494670",
   "metadata": {},
   "outputs": [],
   "source": [
    "for pth_n in mbatch_pths:\n",
    "    df_n = pd.read_csv(\n",
    "        pth_n, sep = '\\t', index_col = 0)\n",
    "    print(pth_n)\n",
    "    print(df_n.System.unique())\n",
    "    print(df_n.Cancer_type.unique())\n",
    "    print(len(df_n))\n",
    "    print(' ')"
   ]
  },
  {
   "cell_type": "code",
   "execution_count": null,
   "id": "d6ed5f0e-ca1b-4400-a8df-2ede0ccd20a1",
   "metadata": {},
   "outputs": [],
   "source": [
    "# Set vae paths\n",
    "# phase = 'vae-out'\n",
    "# phase_name = 'VAE corrected'\n",
    "vae_pths = sorted(glob.glob('../results/vae-out/'+r+'/'+r+'-fls/*.tsv'))\n",
    "print('File count: ', len(vae_pths))"
   ]
  },
  {
   "cell_type": "code",
   "execution_count": null,
   "id": "bc212b3f-e6ed-4d29-b39e-f429d72dfdd6",
   "metadata": {},
   "outputs": [],
   "source": [
    "for pth_n in vae_pths:\n",
    "    df_n = pd.read_csv(\n",
    "        pth_n, sep = '\\t', index_col = 0)\n",
    "    print(pth_n)\n",
    "    print(df_n.System.unique())\n",
    "    print(df_n.Cancer_type.unique())\n",
    "    print(len(df_n))\n",
    "    print(' ')"
   ]
  },
  {
   "cell_type": "code",
   "execution_count": null,
   "id": "02134548-1f10-41b3-8e29-e0c82f696d98",
   "metadata": {},
   "outputs": [],
   "source": [
    "# Set DANN paths\n",
    "# phase = 'dann-out'\n",
    "# phase_name = 'DANN corrected'\n",
    "dann_pths = sorted(glob.glob('../results/vae-out/'+r+'/'+r+'_dann/*.tsv'))\n",
    "print('File count: ', len(dann_pths))"
   ]
  },
  {
   "cell_type": "code",
   "execution_count": null,
   "id": "74cb0a7a-e879-4bee-ab3f-799355f30aa8",
   "metadata": {
    "scrolled": true
   },
   "outputs": [],
   "source": [
    "for pth_n in dann_pths:\n",
    "    df_n = pd.read_csv(\n",
    "        pth_n, sep = '\\t', index_col = 0)\n",
    "    print(pth_n)\n",
    "    print(df_n.System.unique())\n",
    "    print(df_n.Cancer_type.unique())\n",
    "    print(len(df_n))\n",
    "    print(' ')"
   ]
  },
  {
   "cell_type": "code",
   "execution_count": null,
   "id": "69da8675-4743-4eff-bdf7-99e81b594715",
   "metadata": {},
   "outputs": [],
   "source": [
    "Tabular results to disk, four lists\n",
    "Subset VAE paths to Mbatch benchmarks\n",
    "    itertools - prot and trans\n",
    "    RFE, RF on both label sets\n",
    "    MMD\n",
    "\n",
    "4 data, input\n",
    "\n",
    "want value counts! samples by label <--- descrptv stats\n",
    "    Samples\n",
    "    Cancer types\n",
    "annotation\n",
    "use loss plot format, dstnc"
   ]
  },
  {
   "cell_type": "markdown",
   "id": "352794d1-e97b-4a7b-bd23-b3a6bf919177",
   "metadata": {},
   "source": [
    "#### Get pairs function"
   ]
  },
  {
   "cell_type": "code",
   "execution_count": null,
   "id": "8b5f5537-0ffe-4056-ab4e-a0596bed54fc",
   "metadata": {},
   "outputs": [],
   "source": [
    "def get_pairs(pths_n):\n",
    "    prot_list = []\n",
    "    tran_list = []\n",
    "    for file in pths_n:\n",
    "        if 'proteomics' in file:\n",
    "            prot_list.append(file)\n",
    "        elif 'transcriptomics' in file:\n",
    "            tran_list.append(file)\n",
    "    tran_comb = list(itertools.combinations(tran_list, 2))\n",
    "    prot_comb = list(itertools.combinations(prot_list, 2))\n",
    "    return tran_comb, prot_comb"
   ]
  },
  {
   "cell_type": "markdown",
   "id": "74210392-49de-47b7-92d4-5c2b071cbd15",
   "metadata": {},
   "source": [
    "#### Continue"
   ]
  },
  {
   "cell_type": "code",
   "execution_count": null,
   "id": "db50efb0-b08c-460d-9436-360b882c7532",
   "metadata": {},
   "outputs": [],
   "source": [
    "pths_n"
   ]
  },
  {
   "cell_type": "code",
   "execution_count": null,
   "id": "c73a43e9-5305-44e7-a1ce-bb67923ed8b2",
   "metadata": {},
   "outputs": [],
   "source": [
    "for pi, pth_n in enumerate(pths_n):\n",
    "    benchmark = pth_n.split('/')[-1].split('.')[0]\n",
    "    df_n = pd.read_csv(\n",
    "        pth_n, sep = '\\t', index_col = 0)\n",
    "    break"
   ]
  },
  {
   "cell_type": "code",
   "execution_count": null,
   "id": "84a61ff8-6d8e-46e7-88b1-846894c3ce6f",
   "metadata": {},
   "outputs": [],
   "source": [
    "# add cross val"
   ]
  },
  {
   "cell_type": "markdown",
   "id": "b02b212a-b078-4c0b-9a1c-cd9bd4f418e6",
   "metadata": {},
   "source": [
    "#### Pairwise subsets"
   ]
  },
  {
   "cell_type": "code",
   "execution_count": null,
   "id": "9c8cf7a4-70f1-413a-a383-1b6a6ceb2184",
   "metadata": {},
   "outputs": [],
   "source": [
    "ls ../results/mbatch-out/r6/r6-fls/"
   ]
  },
  {
   "cell_type": "code",
   "execution_count": null,
   "id": "765a409d-cc9e-49d4-99ad-9d0011d167d1",
   "metadata": {},
   "outputs": [],
   "source": [
    "# control for within-system pairs for c_typ pairwise comparisons"
   ]
  },
  {
   "cell_type": "code",
   "execution_count": null,
   "id": "a80c5903-a05d-47f2-b484-57427d25b3a6",
   "metadata": {},
   "outputs": [],
   "source": [
    "ls ../results/mbatch-out/r5/r5-fls/*HCMI+CPTAC.tsv"
   ]
  },
  {
   "cell_type": "code",
   "execution_count": null,
   "id": "9352c85a-ec6f-48e5-b9e0-42718cb8e50e",
   "metadata": {},
   "outputs": [],
   "source": [
    "ls ../results/mbatch-out/r5/r5-fls/*cell-line+CPTAC.tsv"
   ]
  },
  {
   "cell_type": "markdown",
   "id": "c231ec65-618c-4647-80d0-e1fc02985c43",
   "metadata": {},
   "source": [
    "#### Main setup"
   ]
  },
  {
   "cell_type": "code",
   "execution_count": null,
   "id": "5d350e3d-c6c3-4dfa-8f4c-6195323f89a1",
   "metadata": {},
   "outputs": [],
   "source": [
    "r"
   ]
  },
  {
   "cell_type": "code",
   "execution_count": null,
   "id": "e8bc862a-0557-432d-9775-4a5f8f2debea",
   "metadata": {},
   "outputs": [],
   "source": [
    "systms"
   ]
  },
  {
   "cell_type": "code",
   "execution_count": null,
   "id": "59f5c955-0f21-4aff-84c1-063b953510b7",
   "metadata": {},
   "outputs": [],
   "source": [
    "phase"
   ]
  },
  {
   "cell_type": "code",
   "execution_count": null,
   "id": "bbdb244e-6bc5-4881-a6b1-2a31367dd1e9",
   "metadata": {},
   "outputs": [],
   "source": [
    "phase_name"
   ]
  },
  {
   "cell_type": "code",
   "execution_count": null,
   "id": "021e0fa0-7e88-458e-a64e-596d0ef14fb5",
   "metadata": {},
   "outputs": [],
   "source": [
    "pths_n # Expecting only transcriptomics for both sys cmbs\n",
    "            # 2 sys combos - HCMI+CPTAC and cell_line+CPTAC\n",
    "        # because reading from mbatch and only trans ran"
   ]
  },
  {
   "cell_type": "code",
   "execution_count": null,
   "id": "fbb0b23f-e785-4c1b-8fe7-7747f438a2a1",
   "metadata": {},
   "outputs": [],
   "source": [
    "from IPython.display import Image\n",
    "Image(\"../../F1_scatter.png\")"
   ]
  },
  {
   "cell_type": "code",
   "execution_count": null,
   "id": "8ff2cd8e-e8e6-41f3-8d67-771f6b088461",
   "metadata": {},
   "outputs": [],
   "source": [
    "pth_cmb_n"
   ]
  },
  {
   "cell_type": "code",
   "execution_count": null,
   "id": "d8a70c20-9d39-4d5c-9e1f-063caffcb6fc",
   "metadata": {},
   "outputs": [],
   "source": [
    "# 15 dann files for comparison"
   ]
  },
  {
   "cell_type": "code",
   "execution_count": null,
   "id": "c2f5c31f-5b48-4cae-8849-f23222ebf3b6",
   "metadata": {},
   "outputs": [],
   "source": [
    "ls ../results/vae-out/r5/r5_dann/*trans*.tsv"
   ]
  },
  {
   "cell_type": "code",
   "execution_count": null,
   "id": "10fa3f5f-2e4a-45a3-bfe9-33432a795bbf",
   "metadata": {},
   "outputs": [],
   "source": [
    "# 15 vae files for comparison"
   ]
  },
  {
   "cell_type": "code",
   "execution_count": null,
   "id": "a1ee80ff-f622-40b2-8892-1c8d2af41ac5",
   "metadata": {
    "scrolled": true
   },
   "outputs": [],
   "source": [
    "ls ../results/vae-out/r5/r5-fls/*trans*.tsv"
   ]
  },
  {
   "cell_type": "markdown",
   "id": "34dc3676-5dbb-4348-b52f-12a7213032a8",
   "metadata": {},
   "source": [
    "#### Main"
   ]
  },
  {
   "cell_type": "code",
   "execution_count": null,
   "id": "3319f7cd-49b6-4add-a618-0b63df679bc6",
   "metadata": {
    "scrolled": true
   },
   "outputs": [],
   "source": [
    "ls ../results/vae-out/r5/r5-fls/"
   ]
  },
  {
   "cell_type": "markdown",
   "id": "d7159697-892d-40ed-bc63-807af537b9a0",
   "metadata": {
    "jp-MarkdownHeadingCollapsed": true
   },
   "source": [
    "##### Lung ad / squam failed for HCMI + CPTAC"
   ]
  },
  {
   "cell_type": "code",
   "execution_count": null,
   "id": "09d7a77d-a173-41db-b4f0-8b22a7eeda94",
   "metadata": {},
   "outputs": [],
   "source": [
    "tran_comb_sub = [('../results/mbatch-out/r6/r6-fls/lung-ad_transcriptomics_HCMI+CPTAC.tsv',\n",
    "  '../results/mbatch-out/r6/r6-fls/ovarian_transcriptomics_HCMI+CPTAC.tsv'),\n",
    " ('../results/mbatch-out/r6/r6-fls/lung-ad_transcriptomics_HCMI+CPTAC.tsv',\n",
    "  '../results/mbatch-out/r6/r6-fls/pancreatic_transcriptomics_HCMI+CPTAC.tsv'),\n",
    " ('../results/mbatch-out/r6/r6-fls/lung-sq_transcriptomics_HCMI+CPTAC.tsv',\n",
    "  '../results/mbatch-out/r6/r6-fls/ovarian_transcriptomics_HCMI+CPTAC.tsv'),\n",
    " ('../results/mbatch-out/r6/r6-fls/lung-sq_transcriptomics_HCMI+CPTAC.tsv',\n",
    "  '../results/mbatch-out/r6/r6-fls/pancreatic_transcriptomics_HCMI+CPTAC.tsv'),\n",
    " ('../results/mbatch-out/r6/r6-fls/ovarian_transcriptomics_HCMI+CPTAC.tsv',\n",
    "  '../results/mbatch-out/r6/r6-fls/pancreatic_transcriptomics_HCMI+CPTAC.tsv')]"
   ]
  },
  {
   "cell_type": "markdown",
   "id": "52887f5d-c06d-4c81-beb5-5e97b2e3ead9",
   "metadata": {},
   "source": [
    "##### Continue"
   ]
  },
  {
   "cell_type": "code",
   "execution_count": null,
   "id": "33dab7a2-3f6c-4110-b24e-89676593030b",
   "metadata": {},
   "outputs": [],
   "source": [
    "pth_cmb_n"
   ]
  },
  {
   "cell_type": "code",
   "execution_count": null,
   "id": "21b218ff-864a-431a-ac96-ccc7c49c4dbf",
   "metadata": {},
   "outputs": [],
   "source": [
    "pths_n"
   ]
  },
  {
   "cell_type": "code",
   "execution_count": null,
   "id": "dc796d69-b773-4ac1-92a7-7e82b5928dc8",
   "metadata": {},
   "outputs": [],
   "source": [
    "dann_pths_n"
   ]
  },
  {
   "cell_type": "code",
   "execution_count": null,
   "id": "7c20fd12-7f8f-4262-80e3-ad6506c7f9b3",
   "metadata": {},
   "outputs": [],
   "source": [
    "pth_cmb_n[0].split('/')[-1].split('.')[0]"
   ]
  },
  {
   "cell_type": "code",
   "execution_count": null,
   "id": "c6a8aa9c-da84-4b5e-ad45-1e7578230c03",
   "metadata": {
    "scrolled": true
   },
   "outputs": [],
   "source": [
    "systms = 'HCMI+CPTAC'\n",
    "# systms = 'cell-line+CPTAC'\n",
    "\n",
    "pths_n = sorted(\n",
    "    glob.glob('../results/mbatch-out/r6/r6-fls/*'+systms+'.tsv'))\n",
    "\n",
    "dann_pths_n = sorted(\n",
    "    glob.glob(\n",
    "        '../results/vae-out/r5/r5_dann/*'+'transcriptomics_'+systms+'.dann-out.32-ltnt-dim.tsv'))\n",
    "\n",
    "tran_comb, prot_comb = get_pairs(pths_n)\n",
    "print('len transctiptomics combos', len(tran_comb))\n",
    "stor_frm = pd.DataFrame() # Toggle-off for manual restart\n",
    "for cmb_n, pth_cmb_n in enumerate(tran_comb):\n",
    "# for cmb_n, pth_cmb_n in enumerate(tran_comb_sub):\n",
    "    # break\n",
    "    print(cmb_n)\n",
    "    mb_n1 = pd.read_csv(\n",
    "        pth_cmb_n[0], sep = '\\t', index_col = 0)\n",
    "    print(len(mb_n1))\n",
    "    mb_n2 = pd.read_csv(\n",
    "        pth_cmb_n[1], sep = '\\t', index_col = 0)\n",
    "    print(len(mb_n2))\n",
    "    mb_cmb = pd.concat([mb_n1, mb_n2], axis = 0)\n",
    "    print(len(mb_cmb))\n",
    "    print(' ')\n",
    "    # vae_pth_1 = '../results/vae-out/r5/r5-fls/' + pth_cmb_n[0].split('/')[-1]\n",
    "    vae_pth_1 = '../results/vae-out/r5/r5_dann/' + pth_cmb_n[0].split(\n",
    "        '/')[-1].split('.')[0] + '.dann-out.32-ltnt-dim.tsv'\n",
    "    vae_n1 = pd.read_csv(\n",
    "        vae_pth_1, sep = '\\t', index_col = 0)\n",
    "    print(len(vae_n1))\n",
    "    # vae_pth_2 = '../results/vae-out/r5/r5-fls/' + pth_cmb_n[1].split('/')[-1]\n",
    "    vae_pth_2 = '../results/vae-out/r5/r5_dann/' + pth_cmb_n[1].split(\n",
    "        '/')[-1].split('.')[0] + '.dann-out.32-ltnt-dim.tsv'\n",
    "    vae_n2 = pd.read_csv(\n",
    "        vae_pth_2, sep = '\\t', index_col = 0)\n",
    "    print(len(vae_n2))\n",
    "    vae_cmb = pd.concat([vae_n1, vae_n2], axis = 0)\n",
    "    print(len(vae_cmb))\n",
    "    # break\n",
    "\n",
    "    Xmb = mb_cmb.iloc[:, 2:]\n",
    "    ymb_sys = mb_cmb.System\n",
    "    ymb_cncr = mb_cmb.Cancer_type\n",
    "\n",
    "    Xmb = Xmb.rename(lambda x: x[:-4], axis=0) # Remove mbatch index appendage\n",
    "\n",
    "    Xvae = vae_cmb.iloc[:, 2:]\n",
    "    yvae_sys = vae_cmb.System\n",
    "    yvae_cncr = vae_cmb.Cancer_type\n",
    "\n",
    "    # System woven cross folds\n",
    "    mb_sys_scores = []\n",
    "    vae_sys_scores = []\n",
    "    for xf_i in list(range(1,10)):\n",
    "        Xmb_train, Xmb_test, ymb_train, ymb_test = train_test_split(\n",
    "                                                        Xmb, ymb_sys)#\n",
    "        Xvae_train = Xvae.loc[Xmb_train.index]\n",
    "        Xvae_test = Xvae.loc[Xmb_test.index]\n",
    "        yvae_train = ymb_train\n",
    "        yvae_test = ymb_test\n",
    "\n",
    "        clf = RandomForestClassifier(\n",
    "                    max_depth=2,\n",
    "                    random_state=0).fit(\n",
    "                                    Xmb_train, ymb_train)\n",
    "        score = f1_score(ymb_test, clf.predict(Xmb_test), average = 'weighted')\n",
    "        mb_sys_scores.append(score)#\n",
    "\n",
    "        clf = RandomForestClassifier(\n",
    "                    max_depth=2,\n",
    "                    random_state=0).fit(\n",
    "                                    Xvae_train, yvae_train)\n",
    "        score = f1_score(yvae_test, clf.predict(Xvae_test), average = 'weighted')\n",
    "        vae_sys_scores.append(score)#\n",
    "\n",
    "    # Cancer woven cross folds\n",
    "    mb_cncr_scores = []\n",
    "    vae_cncr_scores = []\n",
    "    for xf_i in list(range(1,10)):\n",
    "        Xmb_train, Xmb_test, ymb_train, ymb_test = train_test_split(\n",
    "                                                        Xmb, ymb_cncr)#\n",
    "        Xvae_train = Xvae.loc[Xmb_train.index]\n",
    "        Xvae_test = Xvae.loc[Xmb_test.index]\n",
    "        yvae_train = ymb_train\n",
    "        yvae_test = ymb_test\n",
    "\n",
    "        clf = RandomForestClassifier(\n",
    "                    max_depth=2,\n",
    "                    random_state=0).fit(\n",
    "                                    Xmb_train, ymb_train)\n",
    "        score = f1_score(ymb_test, clf.predict(Xmb_test), average = 'weighted')\n",
    "        mb_cncr_scores.append(score)#\n",
    "\n",
    "        clf = RandomForestClassifier(\n",
    "                    max_depth=2,\n",
    "                    random_state=0).fit(\n",
    "                                    Xvae_train, yvae_train)\n",
    "        score = f1_score(yvae_test, clf.predict(Xvae_test), average = 'weighted')\n",
    "        vae_cncr_scores.append(score)#\n",
    "    loop_frm = pd.DataFrame({'mb_sys_scores': mb_sys_scores,\n",
    "             'vae_sys_scores': vae_sys_scores,\n",
    "             'mb_cncr_scores': mb_cncr_scores,\n",
    "             'vae_cncr_scores': vae_cncr_scores,\n",
    "             'bnchmrk': pth_cmb_n[0].split(\n",
    "    '/')[-1].split('.')[0] + '_&_' + pth_cmb_n[1].split(\n",
    "    '/')[-1].split('.')[0]})\n",
    "    stor_frm = pd.concat([stor_frm, loop_frm],\n",
    "                        axis = 0)\n",
    "    print(' ')"
   ]
  },
  {
   "cell_type": "code",
   "execution_count": null,
   "id": "40b8c7fa-60ca-4d93-be06-dc6768221970",
   "metadata": {},
   "outputs": [],
   "source": [
    "stor_frm"
   ]
  },
  {
   "cell_type": "code",
   "execution_count": null,
   "id": "028c6e20-c981-494a-be23-a89fbdcbbddc",
   "metadata": {},
   "outputs": [],
   "source": [
    "plt.hist(stor_frm_chk.vae_cncr_scores)\n",
    "plt.figtext(0.5, 0.92, 'dann_cncr_scores, hcmi+cptac', ha='center')\n",
    "plt.savefig('../results/dann_cncr_scores-hcmi+cptac.png')"
   ]
  },
  {
   "cell_type": "code",
   "execution_count": null,
   "id": "6e534e4b-1f3a-4da5-b1b1-54871259983e",
   "metadata": {},
   "outputs": [],
   "source": [
    "stor_frm.to_csv('../results/rf_f1_DANN_hcmi+cptac.tsv', sep = '\\t')"
   ]
  },
  {
   "cell_type": "code",
   "execution_count": null,
   "id": "0f64a1e4-6b36-4ca8-804b-068e42fac06e",
   "metadata": {},
   "outputs": [],
   "source": [
    "plt.hist(stor_frm_chk.vae_cncr_scores)\n",
    "plt.figtext(0.5, 0.92, 'dann_cncr_scores, cellline+cptac', ha='center')\n",
    "plt.savefig('../results/dann_cncr_scores-cellline+cptac.png')"
   ]
  },
  {
   "cell_type": "code",
   "execution_count": null,
   "id": "cb1aa61a-1fb9-4a24-a1a4-94d70883ce78",
   "metadata": {},
   "outputs": [],
   "source": [
    "stor_frm.to_csv('../results/rf_f1_DANN_cellline+cptac.tsv', sep = '\\t')"
   ]
  },
  {
   "cell_type": "markdown",
   "id": "e5e60f9e-daa5-4741-b042-718cae17dcac",
   "metadata": {},
   "source": [
    "### Control, vae1"
   ]
  },
  {
   "cell_type": "code",
   "execution_count": null,
   "id": "116ea46c-04d1-40de-8c3f-443697ae59d6",
   "metadata": {},
   "outputs": [],
   "source": [
    "stor_frm.to_csv('../results/rf_f1_hcmi+cptac.tsv', sep = '\\t')"
   ]
  },
  {
   "cell_type": "code",
   "execution_count": null,
   "id": "b5b7e7d9-3622-40fd-8802-6c5b4fece31f",
   "metadata": {},
   "outputs": [],
   "source": [
    "stor_frm.to_csv('../results/rf_f1_cellline+cptac.tsv', sep = '\\t')"
   ]
  },
  {
   "cell_type": "code",
   "execution_count": null,
   "id": "ac9a263a-7bc0-40eb-8d29-45ccf8c53f4c",
   "metadata": {},
   "outputs": [],
   "source": [
    "stor_frm_chk = pd.read_csv('../results/rf_f1_hcmi+cptac.tsv', sep = '\\t',\n",
    "                          index_col = 0)"
   ]
  },
  {
   "cell_type": "code",
   "execution_count": null,
   "id": "de564776-f166-40c9-a404-7a822ac4aad1",
   "metadata": {},
   "outputs": [],
   "source": [
    "stor_frm_chk"
   ]
  },
  {
   "cell_type": "markdown",
   "id": "430d7ff0-df12-419f-9c4a-24a783692324",
   "metadata": {},
   "source": [
    "#### Cell line histos to disk"
   ]
  },
  {
   "cell_type": "code",
   "execution_count": null,
   "id": "26b6fde8-ff89-42f6-ba2e-40e7ea4b60d5",
   "metadata": {},
   "outputs": [],
   "source": [
    "plt.hist(stor_frm_chk.vae_cncr_scores)\n",
    "plt.figtext(0.5, 0.92, 'vae_cncr_scores, cellline+cptac', ha='center')\n",
    "plt.savefig('../results/vae_cncr_scores-cellline+cptac.png')"
   ]
  },
  {
   "cell_type": "code",
   "execution_count": null,
   "id": "f63b1cae-12ab-4e97-b071-393ec02c36be",
   "metadata": {},
   "outputs": [],
   "source": [
    "plt.hist(stor_frm_chk.mb_cncr_scores)\n",
    "plt.figtext(0.5, 0.92, 'mb_cncr_scores, cellline+cptac', ha='center')\n",
    "plt.savefig('../results/mb_cncr_scores-cellline+cptac.png')"
   ]
  },
  {
   "cell_type": "code",
   "execution_count": null,
   "id": "9c186758-a7c0-4066-86b6-6fbb98515e41",
   "metadata": {},
   "outputs": [],
   "source": [
    "plt.hist(stor_frm_chk.vae_sys_scores)\n",
    "plt.figtext(0.5, 0.92, 'vae_sys_scores, cellline+cptac', ha='center')\n",
    "plt.savefig('../results/vae_sys_scores-cellline+cptac.png')"
   ]
  },
  {
   "cell_type": "code",
   "execution_count": null,
   "id": "e6619f90-b744-47e9-a095-a5d1237c158f",
   "metadata": {},
   "outputs": [],
   "source": [
    "plt.hist(stor_frm_chk.mb_sys_scores)\n",
    "plt.figtext(0.5, 0.92, 'mb_sys_scores, cellline+cptac', ha='center')\n",
    "plt.savefig('../results/mb_sys_scores-cellline+cptac.png')"
   ]
  },
  {
   "cell_type": "markdown",
   "id": "59ae3b6f-ed4a-40b0-979f-9197ccb4320b",
   "metadata": {
    "jp-MarkdownHeadingCollapsed": true
   },
   "source": [
    "#### HCMI histos to disk"
   ]
  },
  {
   "cell_type": "code",
   "execution_count": null,
   "id": "87d1a569-2472-4a1c-a880-0e4c8817623e",
   "metadata": {},
   "outputs": [],
   "source": [
    "plt.hist(stor_frm_chk.vae_cncr_scores)\n",
    "plt.figtext(0.5, 0.92, 'vae_cncr_scores, hcmi+cptac', ha='center')\n",
    "plt.savefig('../results/vae_cncr_scores-hcmi+cptac.png')"
   ]
  },
  {
   "cell_type": "code",
   "execution_count": null,
   "id": "cb7cb735-8259-445c-a78a-c4f0fa8e7792",
   "metadata": {},
   "outputs": [],
   "source": [
    "plt.hist(stor_frm_chk.mb_cncr_scores)\n",
    "plt.figtext(0.5, 0.92, 'mb_cncr_scores, hcmi+cptac', ha='center')\n",
    "plt.savefig('../results/mb_cncr_scores-hcmi+cptac.png')"
   ]
  },
  {
   "cell_type": "code",
   "execution_count": null,
   "id": "0d9f707d-e567-42e7-afd4-dfc487b274aa",
   "metadata": {},
   "outputs": [],
   "source": [
    "plt.hist(stor_frm_chk.vae_sys_scores)\n",
    "plt.figtext(0.5, 0.92, 'vae_sys_scores, hcmi+cptac', ha='center')\n",
    "plt.savefig('../results/vae_sys_scores-hcmi+cptac.png')"
   ]
  },
  {
   "cell_type": "code",
   "execution_count": null,
   "id": "6c946cc9-9012-4400-bd5b-2a6798e1f68c",
   "metadata": {},
   "outputs": [],
   "source": [
    "plt.hist(stor_frm_chk.mb_sys_scores)\n",
    "plt.figtext(0.5, 0.92, 'mb_sys_scores, hcmi+cptac', ha='center')\n",
    "plt.savefig('../results/mb_sys_scores-hcmi+cptac.png')"
   ]
  },
  {
   "cell_type": "code",
   "execution_count": null,
   "id": "9e3ce0ba-8f75-4bb2-9dd8-07360be32d8f",
   "metadata": {
    "scrolled": true
   },
   "outputs": [],
   "source": [
    "stor_frm_chk.bnchmrk.unique()"
   ]
  },
  {
   "cell_type": "code",
   "execution_count": null,
   "id": "e100425c-435d-4ad6-8b73-b355bd2aecf7",
   "metadata": {},
   "outputs": [],
   "source": [
    "len(stor_frm_chk.bnchmrk.unique())"
   ]
  },
  {
   "cell_type": "code",
   "execution_count": null,
   "id": "6ee7f475-a4df-411b-bc69-5f65a49f583d",
   "metadata": {},
   "outputs": [],
   "source": [
    "# Relabel HCMI files\n",
    "r = 'r5'\n",
    "phase = 'mbatch-out'\n",
    "systms = 'HCMI+CPTAC'\n",
    "pths_n = sorted(\n",
    "    glob.glob('../results/'+phase+\n",
    "              '/'+r+'/'+r+'-fls/*'+systms+'.tsv'))\n",
    "for pth in pths_n:\n",
    "    print(pth)\n",
    "    df = pd.read_csv(\n",
    "        pth, sep = '\\t', index_col = 0)\n",
    "    df['System'] = df['System'].replace('cell_line', 'HCMI')\n",
    "    df.to_csv(\n",
    "        pth,\n",
    "        sep = '\\t')\n",
    "    # break"
   ]
  },
  {
   "cell_type": "code",
   "execution_count": null,
   "id": "7e3c21b0-0725-43ff-a5f0-ba9041c043ab",
   "metadata": {},
   "outputs": [],
   "source": [
    "# x is system, need two values: mbatch and vae\n",
    "# y is cancer type, need two values: mbatch and vae\n",
    "\n",
    "# start with proteomics <-- subset scatter plots level one - No, only trans in Mbatch\n",
    "\n",
    "    # make an mbatch prediction\n",
    "\n",
    "        # within HCMI+CPTAC <-- subset scatter plot level two,\n",
    "                                            # this means two scatters\n",
    "                                            # to Follow-ups\n",
    "        # for brain <-- start\n",
    "        # on system label <-- this is the x value in the scatter\n",
    "        # ^ this is one of six dot pairs for scatter plot one\n",
    "\n",
    "    # make vae corresponding ^ prediction"
   ]
  },
  {
   "cell_type": "code",
   "execution_count": null,
   "id": "738d5667-2a32-4e38-9605-efeff33d1891",
   "metadata": {},
   "outputs": [],
   "source": [
    "df_n.Cancer_type.value_counts() # This will be more meaningful\n",
    "                                # for pairwise"
   ]
  },
  {
   "cell_type": "code",
   "execution_count": null,
   "id": "c8618d6b-a548-48a1-9cae-be496ea75c2b",
   "metadata": {},
   "outputs": [],
   "source": [
    "df_n.System.value_counts()"
   ]
  }
 ],
 "metadata": {
  "kernelspec": {
   "display_name": "Python 3 (ipykernel)",
   "language": "python",
   "name": "python3"
  },
  "language_info": {
   "codemirror_mode": {
    "name": "ipython",
    "version": 3
   },
   "file_extension": ".py",
   "mimetype": "text/x-python",
   "name": "python",
   "nbconvert_exporter": "python",
   "pygments_lexer": "ipython3",
   "version": "3.10.8"
  }
 },
 "nbformat": 4,
 "nbformat_minor": 5
}
