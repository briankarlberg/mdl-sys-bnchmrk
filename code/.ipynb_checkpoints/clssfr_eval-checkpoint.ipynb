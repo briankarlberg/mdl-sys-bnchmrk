{
 "cells": [
  {
   "cell_type": "markdown",
   "id": "59f4a06d-d172-4737-a94a-175836a294fb",
   "metadata": {},
   "source": [
    "# R8"
   ]
  },
  {
   "cell_type": "code",
   "execution_count": null,
   "id": "24515ada-bf16-4302-b929-0aba1e8214d6",
   "metadata": {},
   "outputs": [],
   "source": [
    "# Proteomics and joint embedding"
   ]
  },
  {
   "cell_type": "code",
   "execution_count": null,
   "id": "62cd2566-29d3-4b58-bfa2-842fc56130e8",
   "metadata": {},
   "outputs": [],
   "source": [
    "production_date = '2024-03-21'"
   ]
  },
  {
   "cell_type": "code",
   "execution_count": null,
   "id": "7d6ddeb3-b3fb-4a5b-85f3-aea24641e74c",
   "metadata": {},
   "outputs": [],
   "source": [
    "%whos"
   ]
  },
  {
   "cell_type": "code",
   "execution_count": null,
   "id": "ce4d0e57-6692-41c5-be98-a33677884dc6",
   "metadata": {},
   "outputs": [],
   "source": [
    "# Data handling & comparision setup\n",
    "import pandas as pd\n",
    "import glob\n",
    "import itertools\n",
    "\n",
    "# Feature selection, RFE\n",
    "from sklearn.feature_selection import RFE\n",
    "from sklearn.svm import SVR\n",
    "\n",
    "# Import 3 SciKit Learn classifiers\n",
    "from sklearn.ensemble import RandomForestClassifier\n",
    "from sklearn import tree\n",
    "from sklearn.linear_model import LogisticRegression\n",
    "\n",
    "# SVM\n",
    "from sklearn.svm import LinearSVC\n",
    "from sklearn.pipeline import make_pipeline\n",
    "from sklearn.preprocessing import StandardScaler\n",
    "\n",
    "# Classification setup and eval\n",
    "from sklearn.model_selection import train_test_split\n",
    "from sklearn.metrics import f1_score\n",
    "import statistics\n",
    "\n",
    "# Plotting\n",
    "import matplotlib.pyplot as plt"
   ]
  },
  {
   "cell_type": "markdown",
   "id": "0d3c6e0a-c4c3-49b0-b95f-950625022961",
   "metadata": {},
   "source": [
    "### Set data paths"
   ]
  },
  {
   "cell_type": "code",
   "execution_count": null,
   "id": "8b8d6ffb-6de8-46ed-87a8-5b1c191c4c28",
   "metadata": {},
   "outputs": [],
   "source": [
    "ls ../data/r8/"
   ]
  },
  {
   "cell_type": "markdown",
   "id": "c35a4153-09e1-4739-9943-411e9a04a0e1",
   "metadata": {},
   "source": [
    "#### Input read"
   ]
  },
  {
   "cell_type": "markdown",
   "id": "b07ded97-71e7-45bb-b3b7-7b539ed372d0",
   "metadata": {
    "jp-MarkdownHeadingCollapsed": true
   },
   "source": [
    "##### Pure prot"
   ]
  },
  {
   "cell_type": "code",
   "execution_count": null,
   "id": "45d6d76b-10d6-40fa-9741-369884b6ffa4",
   "metadata": {},
   "outputs": [],
   "source": [
    "# phase = 'Input', need for all comparisons\n",
    "inp_pths = sorted(\n",
    "    glob.glob('../data/r8/nc*prote*.tsv'), reverse = True)\n",
    "inp_pths"
   ]
  },
  {
   "cell_type": "markdown",
   "id": "6f32d74b-5dba-47a8-8df8-6aac411a32b9",
   "metadata": {},
   "source": [
    "##### Joint embed"
   ]
  },
  {
   "cell_type": "code",
   "execution_count": null,
   "id": "73bf2925-e905-49e3-ad3b-bcc7cc2ea001",
   "metadata": {},
   "outputs": [],
   "source": [
    "# phase = 'Input', need for all comparisons\n",
    "inp_pths = sorted(\n",
    "    glob.glob('../data/r8/nc4_tran-prot_cell-line+CPTAC.tsv'), reverse = True)\n",
    "inp_pths"
   ]
  },
  {
   "cell_type": "markdown",
   "id": "9387d749-7245-4a5b-b33e-2f8516c53a9a",
   "metadata": {
    "jp-MarkdownHeadingCollapsed": true
   },
   "source": [
    "##### Check label capitalization on input paths"
   ]
  },
  {
   "cell_type": "code",
   "execution_count": null,
   "id": "c490bf74-2233-4e72-84dc-66c4a06beb2e",
   "metadata": {},
   "outputs": [],
   "source": [
    "for inp_pth in inp_pths:\n",
    "    df = pd.read_csv(\n",
    "        inp_pth, sep = '\\t', index_col = 0)\n",
    "    print(df.System.unique())"
   ]
  },
  {
   "cell_type": "code",
   "execution_count": null,
   "id": "c9a8d399-07d2-4191-9471-4c7ea53b82dc",
   "metadata": {},
   "outputs": [],
   "source": [
    "# Conclusion - MBatch rebuild script converted to caps\n",
    "    # archive caps versions\n",
    "    # conver to lowercase and re-write"
   ]
  },
  {
   "cell_type": "markdown",
   "id": "b70d9b49-6104-43cf-a9ff-12a5120ac260",
   "metadata": {
    "jp-MarkdownHeadingCollapsed": true
   },
   "source": [
    "#### MBatch"
   ]
  },
  {
   "cell_type": "code",
   "execution_count": null,
   "id": "e2641fee-9509-4086-bea0-94e3f16a4dda",
   "metadata": {},
   "outputs": [],
   "source": [
    "# phase = 'MBatch'\n",
    "mb_pths = sorted(\n",
    "    glob.glob('../results/r72/mbatch/*.tsv'), reverse = True)\n",
    "mb_pths"
   ]
  },
  {
   "cell_type": "markdown",
   "id": "68c52cdf-0699-46be-875d-5ed5126feef7",
   "metadata": {
    "jp-MarkdownHeadingCollapsed": true
   },
   "source": [
    "##### MBatch i-o de-capitilize"
   ]
  },
  {
   "cell_type": "code",
   "execution_count": null,
   "id": "94414391-a9bc-4d35-86d5-714daf716a3f",
   "metadata": {},
   "outputs": [],
   "source": [
    "for mb_pth in mb_pths:\n",
    "    df = pd.read_csv(\n",
    "        mb_pth, sep = '\\t', index_col = 0)\n",
    "    print(df.System.unique())"
   ]
  },
  {
   "cell_type": "code",
   "execution_count": null,
   "id": "0cb3cf7f-bebd-4549-8abf-132cf28e192d",
   "metadata": {},
   "outputs": [],
   "source": [
    "mb_pths = sorted(\n",
    "    glob.glob('../results/r72/mbatch/cap_lbls_archive/*.tsv'), reverse = True)\n",
    "for mb_pth in mb_pths:\n",
    "    # print(mb_pth)\n",
    "    f_nm = mb_pth.split('/')[-1]\n",
    "    df = pd.read_csv(\n",
    "        mb_pth, sep = '\\t', index_col = 0)\n",
    "    print(df.System.unique())\n",
    "\n",
    "    df['System'] = df['System'].str.lower()\n",
    "    \n",
    "    print(df.System.unique())\n",
    "\n",
    "    df.to_csv(\n",
    "        '../results/r72/mbatch/'+f_nm,\n",
    "        sep = '\\t')\n",
    "    print(' ')\n",
    "    # break"
   ]
  },
  {
   "cell_type": "code",
   "execution_count": null,
   "id": "3d06ea37-5d03-40b7-b50f-ab63a9cf3b9d",
   "metadata": {},
   "outputs": [],
   "source": [
    "f_nm = mb_pth.split('/')[-1]"
   ]
  },
  {
   "cell_type": "code",
   "execution_count": null,
   "id": "7ae04232-ea47-4912-bf33-9cefe2c51e38",
   "metadata": {},
   "outputs": [],
   "source": [
    "f_nm"
   ]
  },
  {
   "cell_type": "markdown",
   "id": "549b4b38-6b39-4580-b543-0cd35e461d97",
   "metadata": {
    "jp-MarkdownHeadingCollapsed": true
   },
   "source": [
    "#### Qaunt rescale"
   ]
  },
  {
   "cell_type": "code",
   "execution_count": null,
   "id": "5666e9d4-12e4-48da-88be-74d003201644",
   "metadata": {},
   "outputs": [],
   "source": [
    "qs_pths = sorted(\n",
    "    glob.glob('../results/r72/quant-resc/*.tsv'), reverse = True)\n",
    "qs_pths"
   ]
  },
  {
   "cell_type": "markdown",
   "id": "3011eee1-2c3f-4299-9904-cc4784d7d486",
   "metadata": {},
   "source": [
    "#### VAE"
   ]
  },
  {
   "cell_type": "code",
   "execution_count": null,
   "id": "442e3ce2-514c-4ce3-954e-4830ffde74a1",
   "metadata": {},
   "outputs": [],
   "source": [
    "# Outer cycle point"
   ]
  },
  {
   "cell_type": "code",
   "execution_count": null,
   "id": "e1b3337a-7de8-40fe-b82a-dd9c801ce4a9",
   "metadata": {},
   "outputs": [],
   "source": [
    "ls ../results/r72/vae/"
   ]
  },
  {
   "cell_type": "code",
   "execution_count": null,
   "id": "8f8849c1-5b20-4e6a-a995-c79797d3743c",
   "metadata": {},
   "outputs": [],
   "source": [
    "ls ../results/r72/vae/beta-classifier/"
   ]
  },
  {
   "cell_type": "code",
   "execution_count": null,
   "id": "748c9d17-c061-4be3-89c8-044fb75f7469",
   "metadata": {},
   "outputs": [],
   "source": [
    "ls ../results/r8/beta-classifier/"
   ]
  },
  {
   "cell_type": "code",
   "execution_count": null,
   "id": "eff27b58-79a6-455c-94b0-2d0d67324f11",
   "metadata": {},
   "outputs": [],
   "source": [
    "# phase = 'VAE beta-classifier'\n",
    "corr_mthd_title = 'VAE_beta-classifier'\n",
    "mthd_file_disk_name = 'vae_beta-classifier'\n",
    "vae_pths = sorted(\n",
    "    glob.glob('../results/r8/beta-classifier/*.tsv'), reverse = True)\n",
    "vae_pths"
   ]
  },
  {
   "cell_type": "code",
   "execution_count": null,
   "id": "f9d97acd-dd8c-4a74-8ded-4ac785225624",
   "metadata": {},
   "outputs": [],
   "source": [
    "ls ../results/r72/vae/classifier/"
   ]
  },
  {
   "cell_type": "code",
   "execution_count": null,
   "id": "22067bf7-2e17-4b37-a88f-6f9d3337ca29",
   "metadata": {},
   "outputs": [],
   "source": [
    "# phase = 'VAE classifier'\n",
    "corr_mthd_title = 'VAE_classifier'\n",
    "mthd_file_disk_name = 'vae_classifier'\n",
    "vae_pths = sorted(\n",
    "    glob.glob('../results/r8/classifier/*.tsv'), reverse = True)\n",
    "vae_pths"
   ]
  },
  {
   "cell_type": "code",
   "execution_count": null,
   "id": "45a874fd-e661-4aaf-8797-471cb3ccf746",
   "metadata": {},
   "outputs": [],
   "source": [
    "ls ../results/r72/vae/con_loss/"
   ]
  },
  {
   "cell_type": "code",
   "execution_count": null,
   "id": "52fd612b-2aee-4c13-8f41-090e1a0ba014",
   "metadata": {},
   "outputs": [],
   "source": [
    "# phase = 'VAE con_loss'\n",
    "corr_mthd_title = 'VAE_cntrstv-loss'\n",
    "mthd_file_disk_name = 'vae_cntrstv-loss'\n",
    "vae_pths = sorted(\n",
    "    glob.glob('../results/r8/cntrstv-loss/*.tsv'), reverse = True)\n",
    "vae_pths"
   ]
  },
  {
   "cell_type": "code",
   "execution_count": null,
   "id": "b49e5e97-6981-4f45-8f78-2787ea7dacf7",
   "metadata": {},
   "outputs": [],
   "source": [
    "ls ../results/r72/vae/disc/"
   ]
  },
  {
   "cell_type": "code",
   "execution_count": null,
   "id": "dc0c8b45-6a77-481e-8b61-4228553327e6",
   "metadata": {},
   "outputs": [],
   "source": [
    "# phase = 'VAE disc'\n",
    "corr_mthd_title = 'VAE_disc'\n",
    "mthd_file_disk_name = 'vae_disc'\n",
    "vae_pths = sorted(\n",
    "    glob.glob('../results/r8/disc/*.tsv'), reverse = True)\n",
    "vae_pths"
   ]
  },
  {
   "cell_type": "markdown",
   "id": "b573be36-49fa-4e53-b77d-5c2b2a0a5ce2",
   "metadata": {},
   "source": [
    "##### Tran prot"
   ]
  },
  {
   "cell_type": "code",
   "execution_count": null,
   "id": "905827c7-af3f-46e8-86b2-710cf3497eda",
   "metadata": {},
   "outputs": [],
   "source": [
    "ls ../results/r8/trn-prt_vae-n4_exa_dwn/"
   ]
  },
  {
   "cell_type": "code",
   "execution_count": null,
   "id": "08ba86be-8a44-4e6f-a485-1771810ed839",
   "metadata": {},
   "outputs": [],
   "source": [
    "vae_pths = sorted(\n",
    "    glob.glob('../results/r8/trn-prt_vae-n4_exa_dwn/*.tsv'))\n",
    "vae_pths"
   ]
  },
  {
   "cell_type": "code",
   "execution_count": null,
   "id": "a72c33ef-ec95-4e16-8107-84b764b16f25",
   "metadata": {},
   "outputs": [],
   "source": [
    "# phase = 'VAE beta-classifier'\n",
    "corr_mthd_title = 'VAE_beta-classifier'\n",
    "mthd_file_disk_name = 'vae_beta-classifier'"
   ]
  },
  {
   "cell_type": "code",
   "execution_count": null,
   "id": "cdb5c7ed-a729-4bc9-89c0-1afc15462a01",
   "metadata": {},
   "outputs": [],
   "source": [
    "corr_mthd_title = 'VAE_classifier'\n",
    "mthd_file_disk_name = 'vae_classifier'"
   ]
  },
  {
   "cell_type": "code",
   "execution_count": null,
   "id": "6915236f-2d4b-4354-8e68-66e1964bf7a2",
   "metadata": {},
   "outputs": [],
   "source": [
    "corr_mthd_title = 'VAE_cntrstv-loss'\n",
    "mthd_file_disk_name = 'vae_cntrstv-loss'"
   ]
  },
  {
   "cell_type": "code",
   "execution_count": null,
   "id": "7456c0ea-1c82-4881-8bbe-6f5ad5fa77a8",
   "metadata": {},
   "outputs": [],
   "source": [
    "corr_mthd_title = 'VAE_disc'\n",
    "mthd_file_disk_name = 'vae_disc'"
   ]
  },
  {
   "cell_type": "markdown",
   "id": "57044056-445e-47be-805d-cf70fa37e175",
   "metadata": {
    "jp-MarkdownHeadingCollapsed": true
   },
   "source": [
    "#### Tybalt"
   ]
  },
  {
   "cell_type": "code",
   "execution_count": null,
   "id": "420e07b1-ac97-4b71-8ebe-3950858c3ba7",
   "metadata": {},
   "outputs": [],
   "source": [
    "ls ../results/r72/tybalt/"
   ]
  },
  {
   "cell_type": "code",
   "execution_count": null,
   "id": "83a9faf2-b6bd-4129-a13e-6bd34c65d6d9",
   "metadata": {},
   "outputs": [],
   "source": [
    "tb_pths = sorted(\n",
    "    glob.glob('../results/r8/tybalt/*.tsv'), reverse = True)\n",
    "tb_pths"
   ]
  },
  {
   "cell_type": "code",
   "execution_count": null,
   "id": "27109080-6785-46b4-b5e5-523705e253a2",
   "metadata": {},
   "outputs": [],
   "source": [
    "# skip RFE for now, start with 3 clf on raw and mbatch"
   ]
  },
  {
   "cell_type": "markdown",
   "id": "0f46e028-dc49-4624-a6a5-15b8bea94808",
   "metadata": {
    "jp-MarkdownHeadingCollapsed": true
   },
   "source": [
    "### RFE"
   ]
  },
  {
   "cell_type": "code",
   "execution_count": null,
   "id": "2fa42486-ff6d-44c8-8126-2329157c4ba1",
   "metadata": {},
   "outputs": [],
   "source": [
    "for pth in inp:\n",
    "    df = pd.read_csv(\n",
    "        pth, sep = '\\t', index_col = 0)\n",
    "    X = df.iloc[:, 2:]\n",
    "    break"
   ]
  },
  {
   "cell_type": "code",
   "execution_count": null,
   "id": "f837add9-7a33-4f97-b588-3f2ce69f1f3a",
   "metadata": {},
   "outputs": [],
   "source": [
    "df"
   ]
  },
  {
   "cell_type": "code",
   "execution_count": null,
   "id": "45fb3fba-c6cc-4370-a703-741b4a16f809",
   "metadata": {},
   "outputs": [],
   "source": [
    "estimator = SVR(kernel=\"linear\")\n",
    "rfe = RFE(estimator=estimator, n_features_to_select=10, step=0.5)\n",
    "file_n = pd.read_csv(pth, sep = '\\t', index_col = 0) # read validation split file\n",
    "X = file_n.iloc[:, 1:]\n",
    "y = file_n.iloc[:, 0]\n",
    "rfe.fit(X, y)\n",
    "mask = rfe.support_\n",
    "vs_dict[vs] = json.dumps(list(X.columns[mask]))"
   ]
  },
  {
   "cell_type": "markdown",
   "id": "62f2ae5a-23fb-4326-939f-52c4b9ac2192",
   "metadata": {
    "jp-MarkdownHeadingCollapsed": true
   },
   "source": [
    "### Subsample cross val devel"
   ]
  },
  {
   "cell_type": "code",
   "execution_count": null,
   "id": "aae09068-10c2-4b92-8647-d9ec7af152dc",
   "metadata": {},
   "outputs": [],
   "source": [
    "# Sub-sample input at 80%\n",
    "# match row index on corr df"
   ]
  },
  {
   "cell_type": "code",
   "execution_count": null,
   "id": "01fc1df2-7bff-4a1e-a5e5-778a66486674",
   "metadata": {},
   "outputs": [],
   "source": [
    "inp_pths"
   ]
  },
  {
   "cell_type": "code",
   "execution_count": null,
   "id": "5fda4959-2809-4bc8-960f-e67075844e44",
   "metadata": {},
   "outputs": [],
   "source": [
    "tb_pths"
   ]
  },
  {
   "cell_type": "code",
   "execution_count": null,
   "id": "a90f0ee2-cd3b-4b86-962e-d030de409f15",
   "metadata": {},
   "outputs": [],
   "source": [
    "vae_pths"
   ]
  },
  {
   "cell_type": "code",
   "execution_count": null,
   "id": "5026e87a-4e29-4ae7-ac79-4652afc17492",
   "metadata": {},
   "outputs": [],
   "source": [
    "# Questions - sub-sample on only the input?\n",
    "# Predict on entire CPTAC?\n",
    "\n",
    "# split before subsample? - yes, that's what X was"
   ]
  },
  {
   "cell_type": "markdown",
   "id": "5794b494-8d7b-4d9f-af3a-8bf5109b0de5",
   "metadata": {},
   "source": [
    "### Load data"
   ]
  },
  {
   "cell_type": "markdown",
   "id": "cf9f82e4-fbce-4fd1-adbb-1a1fa235549c",
   "metadata": {
    "jp-MarkdownHeadingCollapsed": true
   },
   "source": [
    "##### Transciptomics"
   ]
  },
  {
   "cell_type": "code",
   "execution_count": null,
   "id": "c8374142-97a0-4d58-b939-b9b39b280c69",
   "metadata": {},
   "outputs": [],
   "source": [
    "path_index_toggle = 0\n",
    "cancer_count = 5\n",
    "sys_togg = 'cell-line'\n",
    "sys_file_names = 'cell-line+CPTAC'\n",
    "sample_count_lbl = 'Cell line'\n",
    "mdl_sys_inline = 'cell line'"
   ]
  },
  {
   "cell_type": "code",
   "execution_count": null,
   "id": "3f7073b7-2fce-462d-926d-ff7539bc61cc",
   "metadata": {},
   "outputs": [],
   "source": [
    "path_index_toggle = 1\n",
    "cancer_count = 2\n",
    "sys_togg = 'hcmi'\n",
    "sys_file_names = 'HMCI+CPTAC'\n",
    "sample_count_lbl = 'HCMI'\n",
    "mdl_sys_inline = 'HCMI'"
   ]
  },
  {
   "cell_type": "markdown",
   "id": "aa127bf8-f393-467b-8bb3-750efd9dbc15",
   "metadata": {},
   "source": [
    "##### Proteomics"
   ]
  },
  {
   "cell_type": "code",
   "execution_count": null,
   "id": "9bf0d3c4-2169-4de4-b86b-f2a02960d7ee",
   "metadata": {},
   "outputs": [],
   "source": [
    "# Cycle start\n",
    "path_index_toggle = 3 # 0-4 for proteomics\n",
    "# cancer_count = len(df.Cancer_type.unique())\n",
    "sys_togg = 'cell-line'\n",
    "sys_file_names = 'cell-line+CPTAC'\n",
    "sample_count_lbl = 'Cell line'\n",
    "mdl_sys_inline = 'cell line'"
   ]
  },
  {
   "cell_type": "markdown",
   "id": "205535bd-f66b-4231-a272-64a11e6ed72c",
   "metadata": {
    "jp-MarkdownHeadingCollapsed": true
   },
   "source": [
    "##### Continue"
   ]
  },
  {
   "cell_type": "code",
   "execution_count": null,
   "id": "2543cfd2-8d9a-4d49-8cc2-0bcf95fbb9be",
   "metadata": {},
   "outputs": [],
   "source": [
    "path_index_toggle"
   ]
  },
  {
   "cell_type": "code",
   "execution_count": null,
   "id": "f2116df2-f2c3-4601-bbe8-4d75d2b8d22e",
   "metadata": {},
   "outputs": [],
   "source": [
    "inp_pths"
   ]
  },
  {
   "cell_type": "markdown",
   "id": "430348de-e935-4ffd-99e4-5b6814617bc3",
   "metadata": {},
   "source": [
    "#### Input load"
   ]
  },
  {
   "cell_type": "code",
   "execution_count": null,
   "id": "63d4bbe4-de55-4217-acf6-65f2feb46c3a",
   "metadata": {},
   "outputs": [],
   "source": [
    "# Input load, reload for each of 5 cancer combos (r8)\n",
    "    # load once for joint embedding\n",
    "print(inp_pths[path_index_toggle])\n",
    "input_df = pd.read_csv(\n",
    "                inp_pths[path_index_toggle], # nc5 or nc2 file\n",
    "                sep = '\\t',\n",
    "                index_col = 0)\n",
    "print('inpt len:', len(input_df))"
   ]
  },
  {
   "cell_type": "markdown",
   "id": "ae28bd87-5553-4d4c-a5f4-d1353884c45c",
   "metadata": {
    "jp-MarkdownHeadingCollapsed": true
   },
   "source": [
    "##### Checks"
   ]
  },
  {
   "cell_type": "code",
   "execution_count": null,
   "id": "e5b10800-ddbf-4526-b12f-4a69559bbb30",
   "metadata": {
    "scrolled": true
   },
   "outputs": [],
   "source": [
    "input_df"
   ]
  },
  {
   "cell_type": "code",
   "execution_count": null,
   "id": "78eec16b-00fb-4d89-9676-76c1ed8ff86d",
   "metadata": {},
   "outputs": [],
   "source": [
    "input_df.isna().sum().sum()"
   ]
  },
  {
   "cell_type": "markdown",
   "id": "1cf6e495-6238-4ff8-9acf-c64bad83bead",
   "metadata": {
    "jp-MarkdownHeadingCollapsed": true
   },
   "source": [
    "#### Linear methods"
   ]
  },
  {
   "cell_type": "code",
   "execution_count": null,
   "id": "cf89432f-a4b3-4014-9a8a-c23217001983",
   "metadata": {},
   "outputs": [],
   "source": [
    "# MBatch load\n",
    "corr_df = pd.read_csv(\n",
    "                mb_pths[path_index_toggle],\n",
    "                sep = '\\t',\n",
    "                index_col = 0)\n",
    "corr_pths = mb_pths\n",
    "print('MB corr len:', len(corr_df))\n",
    "corr_mthd_title = 'MBatch'\n",
    "mthd_file_disk_name = 'mbatch'\n",
    "latent_dim = 'NA'"
   ]
  },
  {
   "cell_type": "code",
   "execution_count": null,
   "id": "d5d4fc86-b17c-427f-9f56-c3e7f3fa8501",
   "metadata": {},
   "outputs": [],
   "source": [
    "# Quant-resc load\n",
    "corr_df = pd.read_csv(\n",
    "                qs_pths[path_index_toggle],\n",
    "                sep = '\\t',\n",
    "                index_col = 0)\n",
    "corr_pths = qs_pths\n",
    "print('QS corr len:', len(corr_df))\n",
    "corr_mthd_title = 'Quant-resc'\n",
    "mthd_file_disk_name = 'quant-resc'\n",
    "latent_dim = 'NA'"
   ]
  },
  {
   "cell_type": "code",
   "execution_count": null,
   "id": "75e7b2b9-ad38-4e12-8733-1f0301dbd61a",
   "metadata": {},
   "outputs": [],
   "source": [
    "corr_df.isna().sum().sum()"
   ]
  },
  {
   "cell_type": "code",
   "execution_count": null,
   "id": "c65ca5a3-7e1d-449d-b515-b7cb1520571c",
   "metadata": {},
   "outputs": [],
   "source": [
    "corr_df.isna().any(axis=0).sum()"
   ]
  },
  {
   "cell_type": "code",
   "execution_count": null,
   "id": "6c83b4d0-e839-4403-b318-6df70b17d80d",
   "metadata": {},
   "outputs": [],
   "source": [
    "corr_df.shape"
   ]
  },
  {
   "cell_type": "code",
   "execution_count": null,
   "id": "c43d274d-ec93-4f3d-a64e-5cfea39c572a",
   "metadata": {},
   "outputs": [],
   "source": [
    "corr_df = corr_df.loc[:, corr_df.isna().any(axis=0) == False]"
   ]
  },
  {
   "cell_type": "code",
   "execution_count": null,
   "id": "95350598-b484-448c-8acb-8c5d10ba0d9b",
   "metadata": {},
   "outputs": [],
   "source": [
    "corr_df.shape"
   ]
  },
  {
   "cell_type": "code",
   "execution_count": null,
   "id": "fb56a384-a0d6-43ba-bcb8-d7613c048d49",
   "metadata": {},
   "outputs": [],
   "source": [
    "corr_df.isna().sum().sum()"
   ]
  },
  {
   "cell_type": "markdown",
   "id": "c0ef5af1-5a41-4470-9f44-97d7d76aff05",
   "metadata": {},
   "source": [
    "#### VAE"
   ]
  },
  {
   "cell_type": "markdown",
   "id": "41d6d38e-44d0-4737-bfe3-a3e249ed9cab",
   "metadata": {
    "jp-MarkdownHeadingCollapsed": true
   },
   "source": [
    "##### VAE paths"
   ]
  },
  {
   "cell_type": "code",
   "execution_count": null,
   "id": "b21f6891-ec1e-46c2-9073-c600f9a5a093",
   "metadata": {},
   "outputs": [],
   "source": [
    "vae_pths # Check beta, cssfr, cntrstv, disc"
   ]
  },
  {
   "cell_type": "markdown",
   "id": "ce49d841-02bc-4112-aad3-3a096ec3b267",
   "metadata": {},
   "source": [
    "#### VAE load"
   ]
  },
  {
   "cell_type": "code",
   "execution_count": null,
   "id": "89062a49-ba75-436d-8b55-5bd1841e162e",
   "metadata": {},
   "outputs": [],
   "source": [
    "# VAE load\n",
    "print(vae_pths[path_index_toggle])\n",
    "corr_df = pd.read_csv(\n",
    "        vae_pths[path_index_toggle],\n",
    "        sep = '\\t',\n",
    "        index_col = 0)\n",
    "corr_pths = vae_pths\n",
    "print('vae latent len:', len(corr_df))\n",
    "\n",
    "latent_dim = 50"
   ]
  },
  {
   "cell_type": "markdown",
   "id": "dbf79baf-0224-40ac-a6a0-c48dfb60330d",
   "metadata": {
    "jp-MarkdownHeadingCollapsed": true
   },
   "source": [
    "##### Correction frame check"
   ]
  },
  {
   "cell_type": "code",
   "execution_count": null,
   "id": "1da95c09-317d-479b-b1b6-3125a14b1da5",
   "metadata": {},
   "outputs": [],
   "source": [
    "corr_df"
   ]
  },
  {
   "cell_type": "markdown",
   "id": "a3ca3c54-b217-482b-bfa5-426bf2d2276e",
   "metadata": {
    "jp-MarkdownHeadingCollapsed": true
   },
   "source": [
    "#### Tybalt"
   ]
  },
  {
   "cell_type": "code",
   "execution_count": null,
   "id": "5baa14d0-830d-4f67-9cff-07eced054a2c",
   "metadata": {},
   "outputs": [],
   "source": [
    "# Tybalt load\n",
    "corr_df = pd.read_csv(\n",
    "            tb_pths[path_index_toggle],\n",
    "            sep = '\\t',\n",
    "            index_col = 0)\n",
    "corr_pths = tb_pths\n",
    "print('Tybalt latent len:', len(corr_df))\n",
    "corr_mthd_title = 'Tybalt baseline VAE'\n",
    "mthd_file_disk_name = 'tybalt'\n",
    "latent_dim = corr_df.shape[1] - 2"
   ]
  },
  {
   "cell_type": "code",
   "execution_count": null,
   "id": "90ca0b69-c53f-4c57-a772-8e6911c3dd17",
   "metadata": {},
   "outputs": [],
   "source": [
    "sys_togg"
   ]
  },
  {
   "cell_type": "code",
   "execution_count": null,
   "id": "e9b6a1f2-4061-4572-8e8b-b7e70b075cd1",
   "metadata": {},
   "outputs": [],
   "source": [
    "inp_mdl_sys_train_df"
   ]
  },
  {
   "cell_type": "code",
   "execution_count": null,
   "id": "4900e435-5edf-46ea-893f-2cd51548bf8a",
   "metadata": {},
   "outputs": [],
   "source": [
    "corr_mdl_sys_train_df # disk index"
   ]
  },
  {
   "cell_type": "markdown",
   "id": "b4a19dea-b1bf-46a6-9a9f-b28b30c8405a",
   "metadata": {},
   "source": [
    "### Clf"
   ]
  },
  {
   "cell_type": "code",
   "execution_count": null,
   "id": "e2e0bbcb-6f06-4e43-a44b-3035f5724aa4",
   "metadata": {},
   "outputs": [],
   "source": [
    "path_index_toggle"
   ]
  },
  {
   "cell_type": "code",
   "execution_count": null,
   "id": "646ceb92-52c1-47a9-b74a-72502f06ecb1",
   "metadata": {
    "scrolled": true
   },
   "outputs": [],
   "source": [
    "# print('Begin clf on ', phase)\n",
    "print('Begin sub-sampled, matched-cross val\\n classification evals')\n",
    "print(' ')\n",
    "# print('Input file:\\n', inp_pths[path_index_toggle].split('/')[-1])\n",
    "print('Input file:\\n', inp_pths[0].split('/')[-1]) # Tran prot\n",
    "print('Correction file:\\n', corr_pths[path_index_toggle].split('/')[-1])\n",
    "print(' ')\n",
    "\n",
    "clf_list = [RandomForestClassifier(max_depth=2, random_state=0),\n",
    "            tree.DecisionTreeClassifier(),\n",
    "            LogisticRegression(random_state=0, max_iter=5000),\n",
    "            make_pipeline(StandardScaler(),\n",
    "                LinearSVC(dual=\"auto\", random_state=0,\n",
    "                          max_iter=100000, tol=1e-5))]\n",
    "\n",
    "print('path_index_toggle', path_index_toggle)\n",
    "print('sys_togg', sys_togg)\n",
    "\n",
    "# if path_index_toggle == 1:\n",
    "# # HCMI\n",
    "# # Subset training input\n",
    "#     inp_mdl_sys_train_df = input_df[input_df.System == sys_togg]\n",
    "\n",
    "# # Subset correction object, toggle with file read\n",
    "#     corr_mdl_sys_train_df = corr_df[corr_df.System == sys_togg]\n",
    "# else:\n",
    "#     print('cell-line')\n",
    "#     print(sys_togg)\n",
    "#     inp_mdl_sys_train_df = input_df[input_df.System == sys_togg]\n",
    "#     corr_mdl_sys_train_df = corr_df[corr_df.System == sys_togg]\n",
    "\n",
    "# Subset training input\n",
    "inp_mdl_sys_train_df = input_df[input_df.System == sys_togg]\n",
    "\n",
    "# Subset correction object, toggle with file read\n",
    "corr_mdl_sys_train_df = corr_df[corr_df.System == sys_togg]\n",
    "\n",
    "# List of dicts\n",
    "results = []\n",
    "\n",
    "for cross_val in range(30): # chk\n",
    "    print('cross_val', cross_val)\n",
    "\n",
    "    # Train set sub-sample, input - X and y\n",
    "    X_input = inp_mdl_sys_train_df.iloc[:, 2:]\n",
    "    X_input = X_input.sample(round(len(X_input)*.85))\n",
    "    y_input = inp_mdl_sys_train_df[inp_mdl_sys_train_df.index.isin(\n",
    "                                        X_input.index)].Cancer_type\n",
    "\n",
    "    # Train set sub-sample, corr - X and y\n",
    "    X_corr = corr_mdl_sys_train_df.iloc[:, 2:]\n",
    "    X_corr = X_corr[X_corr.index.isin(X_input.index)]\n",
    "    y_corr = corr_mdl_sys_train_df[corr_mdl_sys_train_df.index.isin(\n",
    "                                        X_corr.index)].Cancer_type\n",
    "\n",
    "    # Test set extraction, input and corr\n",
    "    CPTAC_input = input_df[input_df.System == 'cptac']\n",
    "    CPTAC_corr = corr_df[corr_df.System == 'cptac']\n",
    "\n",
    "    # print(len(CPTAC_input))\n",
    "    # print(len(CPTAC_corr))\n",
    "    \n",
    "    clf_i_list = ['RF', 'DT', 'LR', 'SVM']\n",
    "\n",
    "    # Classifier loop, input\n",
    "    print('Start input loop')\n",
    "    input_score_list = []\n",
    "    for clf_i in range(len(clf_list)):\n",
    "        clf = clf_list[clf_i]\n",
    "        clf.fit(X_input,\n",
    "                y_input)\n",
    "    \n",
    "        score = f1_score(CPTAC_input.Cancer_type,\n",
    "                         clf.predict(CPTAC_input.iloc[:, 2:]),\n",
    "                         average = 'weighted')\n",
    "        \n",
    "        results.append({\n",
    "            'cross_val': cross_val,\n",
    "            'classifier': clf_i_list[clf_i],\n",
    "            'score': score,\n",
    "            'type': 'input'\n",
    "        })\n",
    "        # break\n",
    "    # Classifier loop, correction method\n",
    "    print('Start correction eval loop')\n",
    "    for clf_i in range(len(clf_list)):\n",
    "        clf = clf_list[clf_i]\n",
    "        clf.fit(X_corr,\n",
    "                y_corr)\n",
    "    \n",
    "        score = f1_score(CPTAC_corr.Cancer_type,\n",
    "                         clf.predict(CPTAC_corr.iloc[:, 2:]),\n",
    "                         average = 'weighted')\n",
    "        results.append({\n",
    "            'cross_val': cross_val,\n",
    "            'classifier': clf_i_list[clf_i],\n",
    "            'score': score,\n",
    "            'type': 'corrected'\n",
    "        })\n",
    "\n",
    "    # print('end cross fold')\n",
    "    print(' ')\n",
    "    # break\n",
    "print('done')"
   ]
  },
  {
   "cell_type": "code",
   "execution_count": null,
   "id": "5e3c3546-7cbc-43bb-b719-ceec16ddf0a2",
   "metadata": {},
   "outputs": [],
   "source": [
    "results_df = pd.DataFrame(results)\n",
    "# results_df"
   ]
  },
  {
   "cell_type": "markdown",
   "id": "d41a365a-8a62-4be0-aa02-439dcddd8c6f",
   "metadata": {
    "jp-MarkdownHeadingCollapsed": true
   },
   "source": [
    "##### res df inspct"
   ]
  },
  {
   "cell_type": "code",
   "execution_count": null,
   "id": "36b21390-f808-4743-94cb-fe21976d8701",
   "metadata": {},
   "outputs": [],
   "source": [
    "pd.options.display.max_rows = 300"
   ]
  },
  {
   "cell_type": "code",
   "execution_count": null,
   "id": "78caf70a-0f88-4788-a66a-fafe55113191",
   "metadata": {
    "scrolled": true
   },
   "outputs": [],
   "source": [
    "results_df"
   ]
  },
  {
   "cell_type": "markdown",
   "id": "a29853d9-1b6f-4821-a2d2-14b36b1f90e6",
   "metadata": {},
   "source": [
    "##### Continue"
   ]
  },
  {
   "cell_type": "code",
   "execution_count": null,
   "id": "12f6964e-0b25-491b-ac1a-9fc28f4abc95",
   "metadata": {},
   "outputs": [],
   "source": [
    "print(sys_file_names)\n",
    "print(mthd_file_disk_name)\n",
    "# inp_pths[path_index_toggle].split('/')[-1].split('.')[0]\n",
    "vae_pths[path_index_toggle].split('/')[-1].split('.')[0]"
   ]
  },
  {
   "cell_type": "markdown",
   "id": "9d0ce52e-5e4e-4c1b-bac8-4f3ffcb739c7",
   "metadata": {
    "jp-MarkdownHeadingCollapsed": true
   },
   "source": [
    "##### checks"
   ]
  },
  {
   "cell_type": "code",
   "execution_count": null,
   "id": "d1b5537d-b569-4907-b5b5-92f7146b8539",
   "metadata": {},
   "outputs": [],
   "source": [
    "ls ../results/r72/"
   ]
  },
  {
   "cell_type": "code",
   "execution_count": null,
   "id": "e63dbbf1-0fcf-4ebb-ab27-45889a8fa918",
   "metadata": {},
   "outputs": [],
   "source": [
    "ls ../results/r8/"
   ]
  },
  {
   "cell_type": "code",
   "execution_count": null,
   "id": "9813485c-695b-4bd0-bbc0-7b1649bc788e",
   "metadata": {},
   "outputs": [],
   "source": [
    "inp_pths[path_index_toggle]"
   ]
  },
  {
   "cell_type": "markdown",
   "id": "cc89e519-a102-4af3-982f-11b65086bbb0",
   "metadata": {},
   "source": [
    "##### cont"
   ]
  },
  {
   "cell_type": "code",
   "execution_count": null,
   "id": "1002c08c-0fe4-45da-85ca-4db3672fb411",
   "metadata": {},
   "outputs": [],
   "source": [
    "results_df.to_csv('../results/r8/'+\n",
    "                  production_date+'/input-'+mthd_file_disk_name+\n",
    "                  '_clf-eval-n4_x-val=30_'+\n",
    "                  # inp_pths[path_index_toggle].split('/')[-1].split('.')[0]+\n",
    "                  inp_pths[0].split('/')[-1].split('.')[0]+ # Tran - prot\n",
    "                  '.tsv',\n",
    "                 sep = '\\t')"
   ]
  },
  {
   "cell_type": "markdown",
   "id": "4ce9096b-5115-4246-b01f-7c97afb44df0",
   "metadata": {},
   "source": [
    "### Plot"
   ]
  },
  {
   "cell_type": "code",
   "execution_count": null,
   "id": "2105a535-c9f5-4104-9925-4c0ea734cec0",
   "metadata": {},
   "outputs": [],
   "source": [
    "[i for i in input_df.Cancer_type.unique()]"
   ]
  },
  {
   "cell_type": "code",
   "execution_count": null,
   "id": "6a5b8cfa-f0f9-4938-9873-484c87b19fe7",
   "metadata": {},
   "outputs": [],
   "source": [
    "# dta_mode = inp_pths[path_index_toggle].split(\n",
    "#     '/')[-1].split('.')[0].split('_')[1]\n",
    "\n",
    "dta_mode = inp_pths[0].split(\n",
    "    '/')[-1].split('.')[0].split('_')[1]\n",
    "\n",
    "cancer_count = len(input_df.Cancer_type.unique())\n",
    "\n",
    "import matplotlib.pyplot as plt\n",
    "import seaborn as sns\n",
    "\n",
    "# Set the aesthetic style of the plots\n",
    "sns.set_style(\"whitegrid\")\n",
    "\n",
    "# Create a figure and axis\n",
    "plt.figure(figsize=(10, 7))\n",
    "\n",
    "# Plot\n",
    "sns.boxplot(data=results_df, x='classifier', y='score',\n",
    "            hue='type', palette='Set2')\n",
    "\n",
    "# cancer_count = 5\n",
    "# cancer_count = 5\n",
    "\n",
    "# Adding title and labels\n",
    "plt.title('Classification Prediction Performance on Input'+\n",
    "          ' vs Corrected Data\\nTrain on '+mdl_sys_inline+' 85% subsample, '+\n",
    "          'predict on CPTAC, n cancers = '+str(cancer_count)+\n",
    "          '\\n'+corr_mthd_title+', '+dta_mode, fontsize=16)\n",
    "plt.xlabel('Classifier', fontsize=15)\n",
    "plt.ylabel('F1 Score', fontsize=15)\n",
    "plt.legend(title='Data Type', fontsize=12)\n",
    "\n",
    "plt.annotate(sample_count_lbl+' samples: {}'.format(len(inp_mdl_sys_train_df))+\n",
    "             '\\nCPTAC samples: {}'.format(len(CPTAC_input))+\n",
    "             '\\nLatent dim: '+str(latent_dim)+'\\nFeature count: {}'.format(\n",
    "                 len(X_input.columns)), \n",
    "                 # xy=(0.03, 0.85), # Tybalt\n",
    "                 xy=(0.20, 0.85), # \n",
    "                 xycoords='axes fraction', \n",
    "                 bbox=dict(boxstyle='round, pad=0.5', fc='white', ec='black'),\n",
    "                 fontsize=12)\n",
    "\n",
    "plt.annotate([i for i in input_df.Cancer_type.unique()], \n",
    "                 # xy=(0.03, 0.85), # Tybalt\n",
    "                 xy=(0.45, 0.30), # \n",
    "                 xycoords='axes fraction', \n",
    "                 bbox=dict(boxstyle='round, pad=0.5', fc='white', ec='black'),\n",
    "                 fontsize=12)\n",
    "\n",
    "# Display the plot\n",
    "plt.tight_layout()\n",
    "plt.savefig('../results/r8/'+\n",
    "            production_date+'/input-'+mthd_file_disk_name+\n",
    "            '_clf-eval-n4_x-val=30_'+\n",
    "            # inp_pths[path_index_toggle].split('/')[-1].split('.')[0]+\n",
    "            inp_pths[0].split('/')[-1].split('.')[0]+\n",
    "            '.png',\n",
    "            dpi = 300)\n",
    "# plt.show()"
   ]
  },
  {
   "cell_type": "code",
   "execution_count": null,
   "id": "f1edadca-41b7-45fa-84bb-8b012874d09e",
   "metadata": {},
   "outputs": [],
   "source": [
    "X_input"
   ]
  }
 ],
 "metadata": {
  "kernelspec": {
   "display_name": "Python 3 (ipykernel)",
   "language": "python",
   "name": "python3"
  },
  "language_info": {
   "codemirror_mode": {
    "name": "ipython",
    "version": 3
   },
   "file_extension": ".py",
   "mimetype": "text/x-python",
   "name": "python",
   "nbconvert_exporter": "python",
   "pygments_lexer": "ipython3",
   "version": "3.10.8"
  }
 },
 "nbformat": 4,
 "nbformat_minor": 5
}
