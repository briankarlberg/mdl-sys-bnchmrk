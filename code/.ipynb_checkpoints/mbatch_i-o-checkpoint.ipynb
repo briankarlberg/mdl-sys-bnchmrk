{
 "cells": [
  {
   "cell_type": "code",
   "execution_count": null,
   "id": "5e5233cd-5530-4f34-be94-1125472fa57f",
   "metadata": {},
   "outputs": [],
   "source": [
    "# code/mbatch_i-o.ipynb"
   ]
  },
  {
   "cell_type": "markdown",
   "id": "84c13d57-48a5-4085-a6e0-01c1d8269d45",
   "metadata": {},
   "source": [
    "#### Split and merge by sys for mbatch"
   ]
  },
  {
   "cell_type": "code",
   "execution_count": null,
   "id": "32386141-df93-437a-90cc-8cd3216c1c4f",
   "metadata": {},
   "outputs": [],
   "source": [
    "%whos"
   ]
  },
  {
   "cell_type": "code",
   "execution_count": null,
   "id": "05ff4b51-8b9c-4a51-bd05-e2594b67e5b6",
   "metadata": {},
   "outputs": [],
   "source": [
    "import pandas as pd\n",
    "import glob"
   ]
  },
  {
   "cell_type": "code",
   "execution_count": null,
   "id": "fe334811-c9f3-4315-b497-f0c2572c9b90",
   "metadata": {},
   "outputs": [],
   "source": [
    "ls mbatch/bk_mbatch/data/"
   ]
  },
  {
   "cell_type": "code",
   "execution_count": null,
   "id": "58626bee-2ebb-4d5f-a38c-195c5eda40ca",
   "metadata": {},
   "outputs": [],
   "source": [
    "mkdir mbatch/bk_mbatch/data/r5_splt_in/"
   ]
  },
  {
   "cell_type": "code",
   "execution_count": null,
   "id": "6e502809-335e-4711-99ea-c0f7eb947470",
   "metadata": {},
   "outputs": [],
   "source": [
    "mkdir mbatch/bk_mbatch/data/mbatch_r5/"
   ]
  },
  {
   "cell_type": "code",
   "execution_count": null,
   "id": "d234518d-eda4-45e5-8c13-f2ff17cdd2ef",
   "metadata": {},
   "outputs": [],
   "source": [
    "rm -r mbatch/bk_mbatch/data/r5/"
   ]
  },
  {
   "cell_type": "code",
   "execution_count": null,
   "id": "1104fe32-4241-48f5-a18e-5bce203942cb",
   "metadata": {},
   "outputs": [],
   "source": [
    "ls mbatch/bk_mbatch/data/"
   ]
  },
  {
   "cell_type": "code",
   "execution_count": null,
   "id": "6e304c71-b4ff-45d6-9c02-99caba859271",
   "metadata": {},
   "outputs": [],
   "source": [
    "# Split files from ../results/input-data/r5/r5-fls/\n",
    "    # write split files to r5_splt_in/\n",
    "    # command line from docker container on that\n",
    "    # send to mkdir mbatch/bk_mbatch/data/mbatch_r5/\n",
    "\n",
    "    # checking for negs on front end, pull 7 completed files from r4 to r5\n",
    "\"\"\"\n",
    "     * Paths are tied to Docker loc *\n",
    "\"\"\""
   ]
  },
  {
   "cell_type": "raw",
   "id": "f59d220c-5c26-4359-8cc7-6a393b413dc5",
   "metadata": {},
   "source": [
    "pwd\n",
    "mdl-sys-bnchmrk/code"
   ]
  },
  {
   "cell_type": "code",
   "execution_count": null,
   "id": "8310d620-478c-4c76-b4c8-c97e755a930b",
   "metadata": {},
   "outputs": [],
   "source": [
    "r = 'r5'"
   ]
  },
  {
   "cell_type": "code",
   "execution_count": null,
   "id": "4d1f5a85-879e-4231-9df7-73d2c3354bc6",
   "metadata": {
    "scrolled": true
   },
   "outputs": [],
   "source": [
    "ls ../results/input-data/r5/r5-fls/"
   ]
  },
  {
   "cell_type": "code",
   "execution_count": null,
   "id": "fee660a0-e5ea-4d1a-89af-9d3ff13fde30",
   "metadata": {},
   "outputs": [],
   "source": [
    "r5_pths = glob.glob('../results/input-data/r5/r5-fls/*.tsv')"
   ]
  },
  {
   "cell_type": "code",
   "execution_count": null,
   "id": "3e1cf513-3d20-4fb4-bb7d-087f5ca2f5de",
   "metadata": {},
   "outputs": [],
   "source": [
    "ls ../results/mbatch-out/r4/r4-fls/"
   ]
  },
  {
   "cell_type": "code",
   "execution_count": null,
   "id": "7e4ae0d3-b529-4f63-805d-31213fb4f50c",
   "metadata": {
    "scrolled": true
   },
   "outputs": [],
   "source": [
    "r5_pths"
   ]
  },
  {
   "cell_type": "code",
   "execution_count": null,
   "id": "e75d8ba8-1941-4159-a5dd-825e9851509d",
   "metadata": {},
   "outputs": [],
   "source": [
    "# Does it make biological sense to correct between cell line and HCMI?"
   ]
  },
  {
   "cell_type": "code",
   "execution_count": null,
   "id": "30c260df-cc5f-4dc8-adc8-1e51756ca9bb",
   "metadata": {},
   "outputs": [],
   "source": [
    "systems.split('+')[0]"
   ]
  },
  {
   "cell_type": "markdown",
   "id": "838bc397-9318-4b4c-a515-d17f260265a9",
   "metadata": {},
   "source": [
    "##### NMF zeros"
   ]
  },
  {
   "cell_type": "code",
   "execution_count": null,
   "id": "ae464fe3-ef10-4955-a48b-0c49f66205f6",
   "metadata": {},
   "outputs": [],
   "source": [
    "# Duplicate all genes, so apply to columns 20K to 40K\n",
    "P1: 4,6,-3,4,-1,4 becomes two rows\n",
    "P1_pos: 4,6,0,4,0,4\n",
    "P2_neg: 0,0,3,0,1,0"
   ]
  },
  {
   "cell_type": "markdown",
   "id": "dca2b373-c807-4b66-bcf3-e926d183de8e",
   "metadata": {},
   "source": [
    "#### r5 production run"
   ]
  },
  {
   "cell_type": "code",
   "execution_count": null,
   "id": "83e1e6c2-53f0-4ff1-86c3-037d6ddcc30a",
   "metadata": {
    "scrolled": true
   },
   "outputs": [],
   "source": [
    "r = 'r5'\n",
    "value_counts = []\n",
    "for fl_pth in r5_pths:\n",
    "    print(fl_pth.split('/')[-1])\n",
    "    ab = pd.read_csv(\n",
    "        fl_pth,\n",
    "        sep = '\\t', index_col = 0)\n",
    "    print('min val ', ab.iloc[:, 2:].min().min())\n",
    "    if ab.iloc[:, 2:].min().min() < 0:\n",
    "        print('neg values')\n",
    "        print(' ')\n",
    "        continue # to next\n",
    "    print('pos vals, spitting to disk', r)\n",
    "    print(' ')\n",
    "    # break\n",
    "    cancer = fl_pth.split('_')[0].split('/')[-1]\n",
    "    modality = fl_pth.split('_')[1].split('/')[-1]\n",
    "    systems = fl_pth.split('_')[-1].split('.')[0]\n",
    "    # break\n",
    "    src_ref = 'src'\n",
    "    sys = systems.split('+')[0] # Automation note: human always last\n",
    "    cl = ab[ab.System == sys].copy()\n",
    "    cl.drop(columns = ['System'], inplace = True)\n",
    "    cl.drop(columns = ['Cancer_type'], inplace = True)\n",
    "    cl = cl.T\n",
    "    # break\n",
    "    cl.to_csv(\n",
    "              'mbatch/bk_mbatch/data/'+r+'_splt_in/'+\n",
    "              cancer+'_'+sys+'_'+modality+'_'+src_ref+'.tsv',\n",
    "              sep = '\\t')\n",
    "\n",
    "    src_ref = 'ref'\n",
    "    sys = systems.split('+')[1]\n",
    "    cp = ab[ab.System == 'CPTAC'].copy()    # Label datum to file name\n",
    "    cp.drop(columns = ['System'], inplace = True)\n",
    "    cp.drop(columns = ['Cancer_type'], inplace = True)\n",
    "    cp = cp.T\n",
    "    cp.to_csv(\n",
    "              'mbatch/bk_mbatch/data/'+r+'_splt_in/'+\n",
    "              cancer+'_'+sys+'_'+modality+'_'+src_ref+'.tsv',\n",
    "              sep = '\\t')"
   ]
  },
  {
   "cell_type": "markdown",
   "id": "fda41370-3150-4843-91d6-e48902e2a0d4",
   "metadata": {},
   "source": [
    "##### r4 (template)"
   ]
  },
  {
   "cell_type": "raw",
   "id": "e3897188-027d-4f55-9b95-588d3728b3c6",
   "metadata": {},
   "source": [
    "r4: breast-lobular_transcriptomics_cell-line+CPTAC.tsv,\n",
    "    beat-aml_transcriptomics_cell-line+CPTAC.tsv"
   ]
  },
  {
   "cell_type": "code",
   "execution_count": null,
   "id": "958ddeac-64a9-4a47-86a9-62a2d340e843",
   "metadata": {},
   "outputs": [],
   "source": [
    "one_cncr_files = [\n",
    "    '../strctrd/one_cncr/breast-lobular_transcriptomics_cell-line+CPTAC.tsv',\n",
    "      # '../strctrd/one_cncr/beat-aml_transcriptomics_cell-line+CPTAC.tsv'\n",
    "    ]"
   ]
  },
  {
   "cell_type": "code",
   "execution_count": null,
   "id": "f53a2191-7e31-427a-a815-6130279779ed",
   "metadata": {},
   "outputs": [],
   "source": [
    "run = 'r4'\n",
    "value_counts = []\n",
    "for file in one_cncr_files:\n",
    "    print(file)\n",
    "    ab = pd.read_csv(\n",
    "        file,\n",
    "        sep = '\\t', index_col = 0)\n",
    "    print('min val ', ab.iloc[:, 2:].min().min())\n",
    "    value_counts.append([ab.System.value_counts(),\n",
    "                         ab.Cancer_type.value_counts()])\n",
    "    cancer = file.split('_')[1].split('/')[1]\n",
    "    modality = file.split('_')[2]\n",
    "\n",
    "    src_ref = 'src'\n",
    "    sys = 'cell_line'\n",
    "    cl = ab[ab.System == sys].copy()\n",
    "    cl.drop(columns = ['System'], inplace = True)\n",
    "    cl.drop(columns = ['Cancer_type'], inplace = True)\n",
    "    cl = cl.T\n",
    "    # break\n",
    "    cl.to_csv(\n",
    "              'mbatch/bk_mbatch/data/'+run+'_splt_in/'+\n",
    "              cancer+'_'+sys+'_'+modality+'_'+src_ref+'.tsv',\n",
    "              sep = '\\t')\n",
    "    # ^glob this dir, to mbatch_one_cncr.R\n",
    "\n",
    "    src_ref = 'ref'\n",
    "    sys = 'cptac'\n",
    "    cp = ab[ab.System == 'CPTAC'].copy()    # Label datum to file name\n",
    "    cp.drop(columns = ['System'], inplace = True)\n",
    "    cp.drop(columns = ['Cancer_type'], inplace = True)\n",
    "    cp = cp.T\n",
    "    cp.to_csv(\n",
    "              'mbatch/bk_mbatch/data/'+run+'_splt_in/'+\n",
    "              cancer+'_'+sys+'_'+modality+'_'+src_ref+'.tsv',\n",
    "              sep = '\\t')\n",
    "    # break"
   ]
  },
  {
   "cell_type": "code",
   "execution_count": null,
   "id": "19714a45-d6ec-4bfb-bf41-0619c98bf480",
   "metadata": {},
   "outputs": [],
   "source": [
    "sys, cancer, modality, src_ref"
   ]
  },
  {
   "cell_type": "markdown",
   "id": "cfb7d364-ec73-494c-9de7-6ba669908fab",
   "metadata": {
    "jp-MarkdownHeadingCollapsed": true
   },
   "source": [
    "##### r4, fix brca"
   ]
  },
  {
   "cell_type": "code",
   "execution_count": null,
   "id": "c669be28-5ed8-4dd1-b53d-6d060969c4c9",
   "metadata": {},
   "outputs": [],
   "source": [
    "'mbatch/bk_mbatch/data/r4_splt_in\n",
    "\n",
    "beat aml trans was neg"
   ]
  },
  {
   "cell_type": "markdown",
   "id": "9805d788-0b1c-445e-b337-f9130f369ada",
   "metadata": {
    "jp-MarkdownHeadingCollapsed": true
   },
   "source": [
    "##### run 1"
   ]
  },
  {
   "cell_type": "code",
   "execution_count": null,
   "id": "415509fd-91b9-49aa-810a-dbcfdb2688a3",
   "metadata": {},
   "outputs": [],
   "source": [
    "# Target output dir for one cncr split files:\n",
    "bk_mbatch/data/oc_splt_in\n",
    "# (Docker command line R script output loc)"
   ]
  },
  {
   "cell_type": "raw",
   "id": "bd617263-de52-4160-8e29-d11d4c4700fd",
   "metadata": {},
   "source": [
    "pwd\n",
    "mdl-sys-bnchmrk/code"
   ]
  },
  {
   "cell_type": "markdown",
   "id": "12f5e82d-446b-4d6a-9667-4567fa88bac2",
   "metadata": {},
   "source": [
    "#### Mbatch out to results/mbatch-out/rn"
   ]
  },
  {
   "cell_type": "code",
   "execution_count": null,
   "id": "9262a8ce-11e6-4108-9068-b5817932d7a7",
   "metadata": {},
   "outputs": [],
   "source": [
    "# already in r5 from r4"
   ]
  },
  {
   "cell_type": "code",
   "execution_count": null,
   "id": "f7a4a8bc-1efa-483d-8163-4e6a9e1949f7",
   "metadata": {},
   "outputs": [],
   "source": [
    "ls ../results/mbatch-out/r5/r5-fls"
   ]
  },
  {
   "cell_type": "code",
   "execution_count": null,
   "id": "58598ea5-0ab0-4579-b005-d8de511bbc76",
   "metadata": {},
   "outputs": [],
   "source": [
    "mb_n = sorted(glob.glob(\n",
    "    'mbatch/bk_mbatch/data/mbatch_'+r+'/correctedResults_src_r*.tsv'))"
   ]
  },
  {
   "cell_type": "code",
   "execution_count": null,
   "id": "ddcb1279-cf6d-4e0c-ac35-6aad873a9b65",
   "metadata": {},
   "outputs": [],
   "source": [
    "mb_n"
   ]
  },
  {
   "cell_type": "code",
   "execution_count": null,
   "id": "2b00a572-b886-4edb-8b3b-87996890ee93",
   "metadata": {},
   "outputs": [],
   "source": [
    "# From R script 5\n",
    "cancer_type = [\n",
    "    'pancreatic',\n",
    "    'ovarian',\n",
    "    'lung-sq',\n",
    "    'lung-ad',\n",
    "    'breast',\n",
    "    'brain',\n",
    "    ]"
   ]
  },
  {
   "cell_type": "code",
   "execution_count": null,
   "id": "38e5e1bd-379a-4354-8d7c-6b817e6fd5f9",
   "metadata": {
    "jupyter": {
     "source_hidden": true
    }
   },
   "outputs": [],
   "source": [
    "moda_type = [\n",
    "    # 'pancreatic',\n",
    "    # 'ovarian',\n",
    "    # 'lung-sq',\n",
    "    # 'lung-ad',\n",
    "    # 'breast',\n",
    "    # 'brain',\n",
    "    ]"
   ]
  },
  {
   "cell_type": "code",
   "execution_count": null,
   "id": "a9d8a667-1bf6-4849-a23f-7bce06c0920c",
   "metadata": {},
   "outputs": [],
   "source": [
    "sys_type = [\n",
    "    'HCMI+CPTAC',\n",
    "    'HCMI+CPTAC',\n",
    "    'lung-sq',\n",
    "    'lung-ad',\n",
    "    'breast',\n",
    "    'brain',\n",
    "    ]"
   ]
  },
  {
   "cell_type": "code",
   "execution_count": null,
   "id": "0e471c27-1e01-415d-b133-486432e19ed6",
   "metadata": {},
   "outputs": [],
   "source": [
    "# r5 rebuild\n",
    "for i, strctrd_dot_T_file in enumerate(mb_n):\n",
    "    print(strctrd_dot_T_file)\n",
    "    strctrd_dot_T = pd.read_csv(\n",
    "    strctrd_dot_T_file,\n",
    "        sep = '\\t', index_col = 0)\n",
    "\n",
    "    # strctrd_dot_T\n",
    "    s = strctrd_dot_T.T\n",
    "\n",
    "    s.insert(0, 'Cancer_type', cancer_type[i])\n",
    "\n",
    "    src_df = s[s.index.str.endswith(\".src\")]\n",
    "    ref_df = s[s.index.str.endswith(\".ref\")]\n",
    "\n",
    "    src_df.insert(0, 'System', 'cell_line')\n",
    "    ref_df.insert(0, 'System', 'CPTAC')\n",
    "\n",
    "    mb_strctrd = pd.concat([src_df, ref_df], axis = 0)\n",
    "\n",
    "    cancer = cancer_type[i]\n",
    "    modality = 'transcriptomics'\n",
    "    # systems = 'cell-line+CPTAC'\n",
    "    # systems = sys_type[i]\n",
    "    systems = 'HCMI+CPTAC'\n",
    "    mb_strctrd.to_csv(\n",
    "        '../results/mbatch-out/'+r+'/'+r+'-fls/'+cancer+'_'+modality+'_'+systems+'.tsv',\n",
    "        sep = '\\t')\n",
    "    # break"
   ]
  },
  {
   "cell_type": "code",
   "execution_count": null,
   "id": "e4b89a00-c1ff-49f5-8e9f-7889aff224cf",
   "metadata": {},
   "outputs": [],
   "source": [
    "# end v5"
   ]
  },
  {
   "cell_type": "markdown",
   "id": "0fc966df-8cac-481d-a88d-c26b59521f11",
   "metadata": {},
   "source": [
    "#### Mbatch out .T to strctrd (template)"
   ]
  },
  {
   "cell_type": "markdown",
   "id": "5601fa41-ce94-46e5-865c-c7eb217abeb3",
   "metadata": {},
   "source": [
    "##### run one, og nine"
   ]
  },
  {
   "cell_type": "code",
   "execution_count": null,
   "id": "de8caa09-3201-4c37-b5ee-1dbba3a8715d",
   "metadata": {},
   "outputs": [],
   "source": [
    "ls mbatch/bk_mbatch/data/mbatch_oc/"
   ]
  },
  {
   "cell_type": "markdown",
   "id": "b5e3a98b-e01b-466a-9afd-761edccbd5c1",
   "metadata": {},
   "source": [
    "##### r4"
   ]
  },
  {
   "cell_type": "code",
   "execution_count": null,
   "id": "58c93449-2ff9-4b52-8c3a-f59d95954483",
   "metadata": {},
   "outputs": [],
   "source": [
    "ls mbatch/bk_mbatch/data/r4_splt_in/"
   ]
  },
  {
   "cell_type": "code",
   "execution_count": null,
   "id": "dc316680-71b2-4290-af81-a3bd76ebfbf2",
   "metadata": {},
   "outputs": [],
   "source": [
    "run # was 'oc' before r4 (one cancer, nine files)"
   ]
  },
  {
   "cell_type": "code",
   "execution_count": null,
   "id": "c076010b-0be6-4847-8c58-9483a5c6d9fb",
   "metadata": {},
   "outputs": [],
   "source": [
    "ls mbatch/bk_mbatch/data/mbatch_r4"
   ]
  },
  {
   "cell_type": "code",
   "execution_count": null,
   "id": "9a1de283-4c20-49bc-9cdf-146b973c95bb",
   "metadata": {},
   "outputs": [],
   "source": [
    "mb_n = sorted(glob.glob(\n",
    "    'mbatch/bk_mbatch/data/mbatch_'+run+'/correctedResults_src_r*.tsv'))"
   ]
  },
  {
   "cell_type": "code",
   "execution_count": null,
   "id": "40ae6646-6a72-435c-8094-71cde5a941e1",
   "metadata": {},
   "outputs": [],
   "source": [
    "mb_n"
   ]
  },
  {
   "cell_type": "code",
   "execution_count": null,
   "id": "1c54801e-317b-4294-b2ac-0a8514b6e087",
   "metadata": {},
   "outputs": [],
   "source": [
    "# mbatch_r4.R\n",
    "# breast-lobular_transcriptomics_cell-line+CPTAC"
   ]
  },
  {
   "cell_type": "code",
   "execution_count": null,
   "id": "2e8c78ed-9119-4b1c-bda7-ed60a851fd51",
   "metadata": {},
   "outputs": [],
   "source": [
    "cancer_type = [#'breast-ductal',\n",
    "'breast-lobular',\n",
    "# 'breast-nos',\n",
    "# 'colon-adeno',\n",
    "# 'glioblastoma',\n",
    "# 'head-neck',\n",
    "# 'lung-adeno',\n",
    "# 'pancreatic-adeno',\n",
    "# 'renal-clear-cell'\n",
    "]"
   ]
  },
  {
   "cell_type": "code",
   "execution_count": null,
   "id": "a23495c9-739e-4749-ba5c-9c718acd7537",
   "metadata": {},
   "outputs": [],
   "source": [
    "# r4 rebuild, used as template for v5\n",
    "for i, strctrd_dot_T_file in enumerate(mb_n):\n",
    "    print(strctrd_dot_T_file)\n",
    "    strctrd_dot_T = pd.read_csv(\n",
    "    strctrd_dot_T_file,\n",
    "        sep = '\\t', index_col = 0)\n",
    "\n",
    "    strctrd_dot_T\n",
    "    s = strctrd_dot_T.T\n",
    "\n",
    "    s.insert(0, 'Cancer_type', cancer_type[i])\n",
    "\n",
    "    src_df = s[s.index.str.endswith(\".src\")]\n",
    "    ref_df = s[s.index.str.endswith(\".ref\")]\n",
    "\n",
    "    src_df.insert(0, 'System', 'cell_line')\n",
    "    ref_df.insert(0, 'System', 'CPTAC')\n",
    "\n",
    "    mb_strctrd = pd.concat([src_df, ref_df], axis = 0)\n",
    "\n",
    "    cancer = cancer_type[i]\n",
    "    modality = 'transcriptomics'\n",
    "    systems = 'cell-line+CPTAC'\n",
    "    mb_strctrd.to_csv(\n",
    "        '../results/mbatch_out/'+run+'/files/'+cancer+'_'+modality+'_'+systems+'.tsv',\n",
    "        sep = '\\t')\n",
    "    # break"
   ]
  },
  {
   "cell_type": "code",
   "execution_count": null,
   "id": "8e55be7c-3075-401e-a17f-9c5647de6bd6",
   "metadata": {},
   "outputs": [],
   "source": [
    "lst_file_out = '../results/mbatch/one_cncr/files/'+cancer+'_'+modality+'_'+systems+'.tsv'"
   ]
  },
  {
   "cell_type": "code",
   "execution_count": null,
   "id": "56dd4ffc-cf44-4abf-afc7-2846b59dd3b1",
   "metadata": {},
   "outputs": [],
   "source": [
    "chk = pd.read_csv(\n",
    "    lst_file_out,\n",
    "        sep = '\\t', index_col = 0)"
   ]
  },
  {
   "cell_type": "code",
   "execution_count": null,
   "id": "2ffbf703-f3e0-4985-86b4-0f594c30bdb6",
   "metadata": {},
   "outputs": [],
   "source": [
    "chk"
   ]
  },
  {
   "cell_type": "markdown",
   "id": "488150f6-b062-41c5-ae24-09c1a23faf6e",
   "metadata": {
    "jp-MarkdownHeadingCollapsed": true
   },
   "source": [
    "##### devel notes on one cancer return to strctrd frmt:"
   ]
  },
  {
   "cell_type": "code",
   "execution_count": null,
   "id": "8706e441-bee6-4410-b9da-958f4a2dfb3a",
   "metadata": {},
   "outputs": [],
   "source": [
    "for indx in strctrd.index:\n",
    "    print(indx) # observation: mbatch output is sorted alphanum"
   ]
  },
  {
   "cell_type": "code",
   "execution_count": null,
   "id": "3e4ec18b-3f23-4c6e-9bf7-5e14939fb697",
   "metadata": {},
   "outputs": [],
   "source": [
    "ab = glob.glob('../strctrd/one_cncr/'+cancer_type+'*')"
   ]
  },
  {
   "cell_type": "markdown",
   "id": "556fab6a-9632-45ed-9e69-76cf80fe3e4d",
   "metadata": {
    "jp-MarkdownHeadingCollapsed": true
   },
   "source": [
    "#### Two-cancer version"
   ]
  },
  {
   "cell_type": "markdown",
   "id": "5f3cd2e8-4960-4337-8c5d-940c11d8defc",
   "metadata": {},
   "source": [
    "##### read and check"
   ]
  },
  {
   "cell_type": "code",
   "execution_count": null,
   "id": "3039aba9-571f-4ae2-9d28-f28012e0e124",
   "metadata": {},
   "outputs": [],
   "source": [
    "ab = pd.read_csv( # changed to strctrd/one_cncr above\n",
    "    '../output/dbl-cncr/pancreatic-adeno+lung-adeno_transcriptomics_cell-line+CPTAC.tsv',\n",
    "        sep = '\\t', index_col = 0)"
   ]
  },
  {
   "cell_type": "code",
   "execution_count": null,
   "id": "e5406f76-c507-4070-8fc3-30c849050cdc",
   "metadata": {},
   "outputs": [],
   "source": [
    "# mbatch takes non-negative numbers\n",
    "ab.iloc[:, 2:].min().min()"
   ]
  },
  {
   "cell_type": "code",
   "execution_count": null,
   "id": "c1a36b0d-342e-4e19-88eb-545516ac2da7",
   "metadata": {},
   "outputs": [],
   "source": [
    "ab.System.value_counts()"
   ]
  },
  {
   "cell_type": "code",
   "execution_count": null,
   "id": "1962bc1b-3d76-456b-b69c-ef5f145cd4a7",
   "metadata": {},
   "outputs": [],
   "source": [
    "ab.Cancer_type.value_counts()"
   ]
  },
  {
   "cell_type": "code",
   "execution_count": null,
   "id": "d5c8e0b7-89c5-4440-8c66-566504802465",
   "metadata": {},
   "outputs": [],
   "source": [
    "cancers = 'pancreatic-adeno+lung-adeno'"
   ]
  },
  {
   "cell_type": "code",
   "execution_count": null,
   "id": "1179ab0f-9b5c-4f1b-99d4-ffe7038aa6be",
   "metadata": {},
   "outputs": [],
   "source": [
    "modality = 'transcriptomics'"
   ]
  },
  {
   "cell_type": "markdown",
   "id": "e693bafc-e46b-4fc7-8002-f0412005dcb0",
   "metadata": {
    "jp-MarkdownHeadingCollapsed": true
   },
   "source": [
    "##### Split template, using dep output/ paths"
   ]
  },
  {
   "cell_type": "code",
   "execution_count": null,
   "id": "d7ad4af5-4124-4a18-bdad-45f0636bdc2c",
   "metadata": {},
   "outputs": [],
   "source": [
    "src_ref = 'src'\n",
    "sys = 'cell_line'\n",
    "cl = ab[ab.System == 'cell_line'].copy()\n",
    "cl.drop(columns = ['System'], inplace = True)\n",
    "cl.drop(columns = ['Cancer_type'], inplace = True)\n",
    "cl = cl.T\n",
    "cl.to_csv(\n",
    "    'mbatch/bk_mbatch/data/inputs/'+sys+'_'+cancer+'_'+modality+'_'+src_ref+'.tsv',\n",
    "    sep = '\\t')"
   ]
  },
  {
   "cell_type": "code",
   "execution_count": null,
   "id": "ff46bc09-0f34-41b1-be0b-c435e29b31f8",
   "metadata": {},
   "outputs": [],
   "source": [
    "cl_transposed_read_test = pd.read_csv(\n",
    "    'mbatch/bk_mbatch/data/inputs/'+sys+'_'+cancer+'_'+modality+'_'+src_ref+'.tsv',\n",
    "        sep = '\\t',\n",
    "        index_col = 0)"
   ]
  },
  {
   "cell_type": "code",
   "execution_count": null,
   "id": "93ea809a-70e4-4e1c-8b4f-6c01ae332336",
   "metadata": {},
   "outputs": [],
   "source": [
    "cl_transposed_read_test"
   ]
  },
  {
   "cell_type": "code",
   "execution_count": null,
   "id": "068dfd25-9300-4491-a37b-84e9aedeb9d2",
   "metadata": {},
   "outputs": [],
   "source": [
    "src_ref = 'ref'\n",
    "sys = 'cptac'\n",
    "cp = ab[ab.System == 'CPTAC'].copy()\n",
    "cp.drop(columns = ['System'], inplace = True)\n",
    "cp.drop(columns = ['Cancer_type'], inplace = True)\n",
    "cp = cp.T\n",
    "cp.to_csv(\n",
    "    'mbatch/bk_mbatch/data/inputs/'+sys+'_'+cancer+'_'+modality+'_'+src_ref+'.tsv',\n",
    "    sep = '\\t')"
   ]
  },
  {
   "cell_type": "code",
   "execution_count": null,
   "id": "5c3e9ee5-7f1d-4c1d-acec-909447c80886",
   "metadata": {},
   "outputs": [],
   "source": [
    "cp_transposed_read_test = pd.read_csv(\n",
    "    'mbatch/bk_mbatch/data/inputs/'+sys+'_'+cancer+'_'+modality+'_'+src_ref+'.tsv',\n",
    "        sep = '\\t',\n",
    "        index_col = 0)\n",
    "cp_transposed_read_test"
   ]
  },
  {
   "cell_type": "code",
   "execution_count": null,
   "id": "72b42ddf-38cc-41b7-9b1f-9e6274f952d1",
   "metadata": {},
   "outputs": [],
   "source": [
    "ab"
   ]
  },
  {
   "cell_type": "code",
   "execution_count": null,
   "id": "e10fa942-b46a-4158-a70e-fcbccf4acce5",
   "metadata": {},
   "outputs": [],
   "source": [
    "ab.System.value_counts()"
   ]
  },
  {
   "cell_type": "markdown",
   "id": "a2f8af40-3c33-4808-b0a8-363b52f95ecf",
   "metadata": {
    "jp-MarkdownHeadingCollapsed": true
   },
   "source": [
    "#### Attach 2 label sets"
   ]
  },
  {
   "cell_type": "raw",
   "id": "c2cc7873-fc79-447d-a920-b8d6415b077a",
   "metadata": {},
   "source": [
    "pwd\n",
    "mdl-sys-bnchmrk/code"
   ]
  },
  {
   "cell_type": "code",
   "execution_count": null,
   "id": "ee0f7538-f34c-41ee-a518-5499b1e255be",
   "metadata": {},
   "outputs": [],
   "source": [
    "ls # this is mbatch_i-o.ipynb"
   ]
  },
  {
   "cell_type": "code",
   "execution_count": null,
   "id": "872382be-f01a-4a23-a3d8-3ce6bf74372d",
   "metadata": {},
   "outputs": [],
   "source": [
    "ls mbatch/bk_mbatch/data/mbatch/"
   ]
  },
  {
   "cell_type": "code",
   "execution_count": null,
   "id": "29fe0545-b449-49f8-80d4-aa05036973da",
   "metadata": {},
   "outputs": [],
   "source": [
    "cd = pd.read_csv(\n",
    "    'mbatch/bk_mbatch/data/mbatch/correctedResults_src_v1.tsv',\n",
    "        sep = '\\t', index_col = 0)"
   ]
  },
  {
   "cell_type": "code",
   "execution_count": null,
   "id": "b5a4af6d-f302-4f48-858f-635ed2ab9ecd",
   "metadata": {},
   "outputs": [],
   "source": [
    "cd"
   ]
  },
  {
   "cell_type": "code",
   "execution_count": null,
   "id": "672f8405-8d9a-4989-8fc6-4bd0132ed7f9",
   "metadata": {},
   "outputs": [],
   "source": [
    "src_df = cd.T[cd.T.index.str.endswith(\".src\")]\n",
    "ref_df = cd.T[cd.T.index.str.endswith(\".ref\")]"
   ]
  },
  {
   "cell_type": "code",
   "execution_count": null,
   "id": "357a858e-64cc-4c7a-b657-6ba63ae31934",
   "metadata": {
    "scrolled": true
   },
   "outputs": [],
   "source": [
    "src_df"
   ]
  },
  {
   "cell_type": "code",
   "execution_count": null,
   "id": "2366878e-d978-4ea0-b00d-5cf300c586ef",
   "metadata": {
    "scrolled": true
   },
   "outputs": [],
   "source": [
    "ref_df"
   ]
  },
  {
   "cell_type": "code",
   "execution_count": null,
   "id": "0c6d7ba4-8539-401c-b92a-e36a628dcdf5",
   "metadata": {},
   "outputs": [],
   "source": [
    "ab_src = ab[ab.System == 'cell_line']\n",
    "ab_ref = ab[ab.System == 'CPTAC']"
   ]
  },
  {
   "cell_type": "code",
   "execution_count": null,
   "id": "113e60e7-3bfb-4d2a-8f73-006f7adf1d32",
   "metadata": {},
   "outputs": [],
   "source": [
    "ab_src"
   ]
  },
  {
   "cell_type": "code",
   "execution_count": null,
   "id": "6b406ca9-74c0-41d1-bb85-2fdcbda53dd2",
   "metadata": {},
   "outputs": [],
   "source": [
    "ab_ref"
   ]
  },
  {
   "cell_type": "code",
   "execution_count": null,
   "id": "bd0eef7c-b524-43d4-a6cd-56ee4fcdac81",
   "metadata": {},
   "outputs": [],
   "source": [
    "src_df.insert(0, 'Cancer_type', list(ab_src.Cancer_type))\n",
    "ref_df.insert(0, 'Cancer_type', list(ab_ref.Cancer_type))"
   ]
  },
  {
   "cell_type": "code",
   "execution_count": null,
   "id": "1bc60d27-69ba-4a03-bee9-7d0a5b06c00c",
   "metadata": {},
   "outputs": [],
   "source": [
    "src_df.insert(0, 'System', 'cell_line')\n",
    "ref_df.insert(0, 'System', 'CPTAC')"
   ]
  },
  {
   "cell_type": "code",
   "execution_count": null,
   "id": "a1c5c730-e0d7-4c0c-a606-4d679e7eeb05",
   "metadata": {},
   "outputs": [],
   "source": [
    "mb_sys = pd.concat([src_df, ref_df], axis = 0)"
   ]
  },
  {
   "cell_type": "code",
   "execution_count": null,
   "id": "08ed2999-bcc1-4ad8-bc90-8d3e96781bd7",
   "metadata": {},
   "outputs": [],
   "source": [
    "mb_sys"
   ]
  },
  {
   "cell_type": "markdown",
   "id": "6e701463-7e4e-44e2-98c7-cd51c96c1f6e",
   "metadata": {
    "jp-MarkdownHeadingCollapsed": true
   },
   "source": [
    "#### Run random forest from front-end on mb_sys"
   ]
  },
  {
   "cell_type": "code",
   "execution_count": null,
   "id": "5c5ff7ce-70c1-4b50-8439-e4dd6b1a48b3",
   "metadata": {},
   "outputs": [],
   "source": [
    "systems = 'cell-line+CPTAC'"
   ]
  },
  {
   "cell_type": "code",
   "execution_count": null,
   "id": "1c97670a-d77e-4be9-8279-934dd9ebd1fd",
   "metadata": {},
   "outputs": [],
   "source": [
    "cancer, modality, systems"
   ]
  },
  {
   "cell_type": "code",
   "execution_count": null,
   "id": "cff9fc86-4f8e-4cc8-92f5-b3bc7ee04873",
   "metadata": {},
   "outputs": [],
   "source": [
    "mb_sys.to_csv(\n",
    "    '../results/mbatch/files/'+cancer+'_'+modality+'_'+systems+'.tsv',\n",
    "    sep = '\\t')"
   ]
  },
  {
   "cell_type": "code",
   "execution_count": null,
   "id": "b0d223bc-20dd-4835-a9b9-8babf6a64a7d",
   "metadata": {},
   "outputs": [],
   "source": [
    "obj_n = pd.read_csv(\n",
    "    '../results/mbatch/files/'+cancer+'_'+modality+'_'+systems+'.tsv',\n",
    "    sep = '\\t', index_col = 0)"
   ]
  },
  {
   "cell_type": "code",
   "execution_count": null,
   "id": "6d72a414-b442-4eab-8ac0-33c9828a9432",
   "metadata": {},
   "outputs": [],
   "source": [
    "del(mb_sys)"
   ]
  },
  {
   "cell_type": "code",
   "execution_count": null,
   "id": "cb176f85-64fd-4f13-8d6c-25c9687b3051",
   "metadata": {},
   "outputs": [],
   "source": [
    "import pandas as pd\n",
    "import glob\n",
    "from sklearn.ensemble import RandomForestClassifier\n",
    "from sklearn.model_selection import train_test_split\n",
    "from sklearn.metrics import f1_score\n",
    "import matplotlib.pyplot as plt\n",
    "import statistics"
   ]
  },
  {
   "cell_type": "code",
   "execution_count": null,
   "id": "38abc0b6-86b7-41dc-bc9b-abd3c5897e8e",
   "metadata": {},
   "outputs": [],
   "source": [
    "obj_n"
   ]
  },
  {
   "cell_type": "markdown",
   "id": "a6ae310c-f6b8-4da3-8f28-cc7ffd1c7994",
   "metadata": {
    "jp-MarkdownHeadingCollapsed": true
   },
   "source": [
    "##### Random forest, for delete"
   ]
  },
  {
   "cell_type": "code",
   "execution_count": null,
   "id": "d0dcd4f7-9cd5-4dd1-8da2-bd77a890eb36",
   "metadata": {},
   "outputs": [],
   "source": [
    "X = obj_n.iloc[:, 2:]\n",
    "y_sys = obj_n.System\n",
    "y_c_typ = obj_n.Cancer_type\n",
    "\n",
    "sys_scores = []\n",
    "c_typ_scores = []\n",
    "\n",
    "for i in list(range(0,9)):\n",
    "    X_train, X_test, y_train, y_test = train_test_split(X, y_sys)\n",
    "    clf = RandomForestClassifier(max_depth=2, random_state=0)\n",
    "    clf.fit(X_train, y_train)\n",
    "    y_pred = clf.predict(X_test)\n",
    "    score = f1_score(y_test, y_pred, average = 'weighted')\n",
    "    sys_scores.append(score)\n",
    "\n",
    "    y_train = y_c_typ[y_c_typ.index.isin(y_train.index)]\n",
    "    y_test = y_c_typ[y_c_typ.index.isin(y_test.index)]\n",
    "    \n",
    "    clf = RandomForestClassifier(max_depth=2, random_state=0)\n",
    "    clf.fit(X_train, y_train)\n",
    "    y_pred = clf.predict(X_test)\n",
    "    score = f1_score(y_test, y_pred, average = 'weighted')\n",
    "    c_typ_scores.append(score)"
   ]
  },
  {
   "cell_type": "code",
   "execution_count": null,
   "id": "d392eed4-b822-4d52-ae58-8a1d668e9bd1",
   "metadata": {},
   "outputs": [],
   "source": [
    "cancers+'_'+modality+'_'+systems"
   ]
  },
  {
   "cell_type": "code",
   "execution_count": null,
   "id": "61ad7c74-e9fd-4db5-bf67-a487586b49b7",
   "metadata": {},
   "outputs": [],
   "source": [
    "file_n = cancers+'_'+modality+'_'+systems"
   ]
  },
  {
   "cell_type": "code",
   "execution_count": null,
   "id": "32d2d0c8-f06c-4432-8b3d-6f866f427b04",
   "metadata": {},
   "outputs": [],
   "source": [
    "sys_mean = statistics.mean(sys_scores)\n",
    "c_typ_mean = statistics.mean(c_typ_scores)\n",
    "\n",
    "sys_err = statistics.stdev(sys_scores)\n",
    "c_typ_err = statistics.stdev(c_typ_scores)\n",
    "\n",
    "fig, ax = plt.subplots()\n",
    "\n",
    "# Create bars\n",
    "bar1 = ax.bar('sys', sys_mean, yerr=sys_err, capsize = 7, label='System')\n",
    "bar2 = ax.bar('c typ', c_typ_mean, yerr=c_typ_err, capsize = 7, label='Cancer type')\n",
    "\n",
    "plt.title(file_n) # automate later\n",
    "plt.xlabel('Cancer Model System')\n",
    "plt.ylabel('F1 score')\n",
    "\n",
    "# Legend\n",
    "ax.legend()\n",
    "plt.savefig('../results/mbatch/figures/'+file_n+'rf_barplot.png')"
   ]
  },
  {
   "cell_type": "code",
   "execution_count": null,
   "id": "cd3905af-f18e-401c-80e2-ec06cc543a99",
   "metadata": {},
   "outputs": [],
   "source": []
  }
 ],
 "metadata": {
  "kernelspec": {
   "display_name": "Python 3 (ipykernel)",
   "language": "python",
   "name": "python3"
  },
  "language_info": {
   "codemirror_mode": {
    "name": "ipython",
    "version": 3
   },
   "file_extension": ".py",
   "mimetype": "text/x-python",
   "name": "python",
   "nbconvert_exporter": "python",
   "pygments_lexer": "ipython3",
   "version": "3.10.8"
  }
 },
 "nbformat": 4,
 "nbformat_minor": 5
}
