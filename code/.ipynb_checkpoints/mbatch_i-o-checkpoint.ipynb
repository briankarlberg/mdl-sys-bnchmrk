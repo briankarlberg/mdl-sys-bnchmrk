{
 "cells": [
  {
   "cell_type": "markdown",
   "id": "84c13d57-48a5-4085-a6e0-01c1d8269d45",
   "metadata": {},
   "source": [
    "#### Split file for mbatch"
   ]
  },
  {
   "cell_type": "code",
   "execution_count": 45,
   "id": "03429f85-bd76-449f-a327-ae9c2477d354",
   "metadata": {},
   "outputs": [
    {
     "name": "stdout",
     "output_type": "stream",
     "text": [
      "Variable                  Type         Data/Info\n",
      "------------------------------------------------\n",
      "ab                        DataFrame                          Sys<...>383 rows x 19133 columns]\n",
      "cancer                    str          pancreatic-adeno+lung-adeno\n",
      "cd                        DataFrame                      smpl_id<...>19131 rows x 383 columns]\n",
      "cl                        DataFrame    improve_sample_id     smp<...>19131 rows x 132 columns]\n",
      "cl_transposed_read_test   DataFrame                          smp<...>19131 rows x 132 columns]\n",
      "cp                        DataFrame    improve_sample_id     smp<...>19131 rows x 251 columns]\n",
      "cp_transposed_read_test   DataFrame                          smp<...>19131 rows x 251 columns]\n",
      "modality                  str          transcriptomics\n",
      "pd                        module       <module 'pandas' from '/U<...>ages/pandas/__init__.py'>\n",
      "ref_df                    DataFrame                      entrz_t<...>132 rows x 19131 columns]\n",
      "src_df                    DataFrame                      entrz_t<...>251 rows x 19131 columns]\n",
      "src_ref                   str          ref\n",
      "sys                       str          cptac\n",
      "system                    str          cptac\n"
     ]
    }
   ],
   "source": [
    "%whos"
   ]
  },
  {
   "cell_type": "code",
   "execution_count": 50,
   "id": "dea0a640-9ec0-4bc9-ac4a-e5c4513448f1",
   "metadata": {},
   "outputs": [],
   "source": [
    "# target dir for split files is two_cncr_splt in output"
   ]
  },
  {
   "cell_type": "code",
   "execution_count": 3,
   "id": "009585e2-63dd-4d2d-892e-a6ccd0039bf7",
   "metadata": {},
   "outputs": [
    {
     "name": "stdout",
     "output_type": "stream",
     "text": [
      "dta_ldr.ipynb           mbatch_i-o.ipynb        \u001b[31mschedule_vae_gpu.sh\u001b[m\u001b[m*\n",
      "frnt_end_clf_ump.ipynb  \u001b[34mnb_dvl\u001b[m\u001b[m/                 \u001b[31mvae.py\u001b[m\u001b[m*\n",
      "\u001b[31mjob_scheduler.sh\u001b[m\u001b[m*       \u001b[34mplots\u001b[m\u001b[m/\n",
      "\u001b[34mmbatch\u001b[m\u001b[m/                 \u001b[31mschedule_vae_cpu.sh\u001b[m\u001b[m*\n"
     ]
    }
   ],
   "source": [
    "ls"
   ]
  },
  {
   "cell_type": "code",
   "execution_count": 5,
   "id": "05ff4b51-8b9c-4a51-bd05-e2594b67e5b6",
   "metadata": {},
   "outputs": [],
   "source": [
    "import pandas as pd"
   ]
  },
  {
   "cell_type": "code",
   "execution_count": 7,
   "id": "3039aba9-571f-4ae2-9d28-f28012e0e124",
   "metadata": {},
   "outputs": [],
   "source": [
    "# devel on panc-lung, renal next\n",
    "ab = pd.read_csv(\n",
    "    '../output/dbl-cncr/pancreatic-adeno+lung-adeno_transcriptomics_cell-line+CPTAC.tsv',\n",
    "        sep = '\\t', index_col = 0)"
   ]
  },
  {
   "cell_type": "code",
   "execution_count": 8,
   "id": "e5406f76-c507-4070-8fc3-30c849050cdc",
   "metadata": {},
   "outputs": [
    {
     "data": {
      "text/plain": [
       "0.0"
      ]
     },
     "execution_count": 8,
     "metadata": {},
     "output_type": "execute_result"
    }
   ],
   "source": [
    "# mbatch takes non-negative numbers\n",
    "ab.iloc[:, 2:].min().min()"
   ]
  },
  {
   "cell_type": "code",
   "execution_count": 46,
   "id": "c1a36b0d-342e-4e19-88eb-545516ac2da7",
   "metadata": {},
   "outputs": [
    {
     "data": {
      "text/plain": [
       "System\n",
       "CPTAC        251\n",
       "cell_line    132\n",
       "Name: count, dtype: int64"
      ]
     },
     "execution_count": 46,
     "metadata": {},
     "output_type": "execute_result"
    }
   ],
   "source": [
    "ab.System.value_counts()"
   ]
  },
  {
   "cell_type": "code",
   "execution_count": 47,
   "id": "1962bc1b-3d76-456b-b69c-ef5f145cd4a7",
   "metadata": {},
   "outputs": [
    {
     "data": {
      "text/plain": [
       "Cancer_type\n",
       "pancreatic_adeno    195\n",
       "lung_adeno          188\n",
       "Name: count, dtype: int64"
      ]
     },
     "execution_count": 47,
     "metadata": {},
     "output_type": "execute_result"
    }
   ],
   "source": [
    "ab.Cancer_type.value_counts()"
   ]
  },
  {
   "cell_type": "code",
   "execution_count": 48,
   "id": "d5c8e0b7-89c5-4440-8c66-566504802465",
   "metadata": {},
   "outputs": [],
   "source": [
    "cancer = 'pancreatic-adeno+lung-adeno'"
   ]
  },
  {
   "cell_type": "code",
   "execution_count": 49,
   "id": "1179ab0f-9b5c-4f1b-99d4-ffe7038aa6be",
   "metadata": {},
   "outputs": [],
   "source": [
    "modality = 'transcriptomics'"
   ]
  },
  {
   "cell_type": "raw",
   "id": "8c19a3d9-e2ba-41aa-aaa0-f78edd479813",
   "metadata": {},
   "source": [
    "# input to mbatch\n",
    "bnch_mrk/mdl-sys-bnchmrk/code/mbatch/bk_mbatch/data/inputs"
   ]
  },
  {
   "cell_type": "code",
   "execution_count": 27,
   "id": "d7ad4af5-4124-4a18-bdad-45f0636bdc2c",
   "metadata": {},
   "outputs": [],
   "source": [
    "src_ref = 'src'\n",
    "sys = 'cell_line'\n",
    "cl = ab[ab.System == 'cell_line'].copy()\n",
    "cl.drop(columns = ['System'], inplace = True)\n",
    "cl.drop(columns = ['Cancer_type'], inplace = True)\n",
    "cl = cl.T\n",
    "cl.to_csv(\n",
    "    'mbatch/bk_mbatch/data/inputs/'+sys+'_'+cancer+'_'+modality+'_'+src_ref+'.tsv',\n",
    "    sep = '\\t')"
   ]
  },
  {
   "cell_type": "code",
   "execution_count": 28,
   "id": "ff46bc09-0f34-41b1-be0b-c435e29b31f8",
   "metadata": {},
   "outputs": [],
   "source": [
    "cl_transposed_read_test = pd.read_csv(\n",
    "    'mbatch/bk_mbatch/data/inputs/'+sys+'_'+cancer+'_'+modality+'_'+src_ref+'.tsv',\n",
    "        sep = '\\t',\n",
    "        index_col = 0)"
   ]
  },
  {
   "cell_type": "code",
   "execution_count": null,
   "id": "93ea809a-70e4-4e1c-8b4f-6c01ae332336",
   "metadata": {},
   "outputs": [],
   "source": [
    "cl_transposed_read_test"
   ]
  },
  {
   "cell_type": "code",
   "execution_count": 32,
   "id": "068dfd25-9300-4491-a37b-84e9aedeb9d2",
   "metadata": {},
   "outputs": [],
   "source": [
    "src_ref = 'ref'\n",
    "sys = 'cptac'\n",
    "cp = ab[ab.System == 'CPTAC'].copy()\n",
    "cp.drop(columns = ['System'], inplace = True)\n",
    "cp.drop(columns = ['Cancer_type'], inplace = True)\n",
    "cp = cp.T\n",
    "cp.to_csv(\n",
    "    'mbatch/bk_mbatch/data/inputs/'+sys+'_'+cancer+'_'+modality+'_'+src_ref+'.tsv',\n",
    "    sep = '\\t')"
   ]
  },
  {
   "cell_type": "code",
   "execution_count": null,
   "id": "5c3e9ee5-7f1d-4c1d-acec-909447c80886",
   "metadata": {},
   "outputs": [],
   "source": [
    "cp_transposed_read_test = pd.read_csv(\n",
    "    'mbatch/bk_mbatch/data/inputs/'+sys+'_'+cancer+'_'+modality+'_'+src_ref+'.tsv',\n",
    "        sep = '\\t',\n",
    "        index_col = 0)\n",
    "cp_transposed_read_test"
   ]
  },
  {
   "cell_type": "code",
   "execution_count": null,
   "id": "72b42ddf-38cc-41b7-9b1f-9e6274f952d1",
   "metadata": {},
   "outputs": [],
   "source": [
    "ab"
   ]
  },
  {
   "cell_type": "code",
   "execution_count": 51,
   "id": "e10fa942-b46a-4158-a70e-fcbccf4acce5",
   "metadata": {},
   "outputs": [
    {
     "data": {
      "text/plain": [
       "System\n",
       "CPTAC        251\n",
       "cell_line    132\n",
       "Name: count, dtype: int64"
      ]
     },
     "execution_count": 51,
     "metadata": {},
     "output_type": "execute_result"
    }
   ],
   "source": [
    "ab.System.value_counts()"
   ]
  },
  {
   "cell_type": "markdown",
   "id": "a2f8af40-3c33-4808-b0a8-363b52f95ecf",
   "metadata": {},
   "source": [
    "#### Attach 2 label sets"
   ]
  },
  {
   "cell_type": "raw",
   "id": "c2cc7873-fc79-447d-a920-b8d6415b077a",
   "metadata": {},
   "source": [
    "pwd\n",
    "mdl-sys-bnchmrk/code"
   ]
  },
  {
   "cell_type": "code",
   "execution_count": 52,
   "id": "ee0f7538-f34c-41ee-a518-5499b1e255be",
   "metadata": {},
   "outputs": [
    {
     "name": "stdout",
     "output_type": "stream",
     "text": [
      "dta_ldr.ipynb           mbatch_i-o.ipynb        \u001b[31mschedule_vae_gpu.sh\u001b[m\u001b[m*\n",
      "frnt_end_clf_ump.ipynb  \u001b[34mnb_dvl\u001b[m\u001b[m/                 \u001b[31mvae.py\u001b[m\u001b[m*\n",
      "\u001b[31mjob_scheduler.sh\u001b[m\u001b[m*       \u001b[34mplots\u001b[m\u001b[m/\n",
      "\u001b[34mmbatch\u001b[m\u001b[m/                 \u001b[31mschedule_vae_cpu.sh\u001b[m\u001b[m*\n"
     ]
    }
   ],
   "source": [
    "ls # this is mbatch_i-o.ipynb"
   ]
  },
  {
   "cell_type": "code",
   "execution_count": 53,
   "id": "872382be-f01a-4a23-a3d8-3ce6bf74372d",
   "metadata": {},
   "outputs": [
    {
     "name": "stdout",
     "output_type": "stream",
     "text": [
      "\u001b[34mEBNPlus_TrainAndValidateReplicates_Structures\u001b[m\u001b[m/\n",
      "correctedResults_src_v1.tsv\n",
      "input_ref_v1.tsv\n",
      "input_src_v1.tsv\n"
     ]
    }
   ],
   "source": [
    "ls mbatch/bk_mbatch/data/mbatch/"
   ]
  },
  {
   "cell_type": "code",
   "execution_count": 54,
   "id": "29fe0545-b449-49f8-80d4-aa05036973da",
   "metadata": {},
   "outputs": [],
   "source": [
    "cd = pd.read_csv(\n",
    "    'mbatch/bk_mbatch/data/mbatch/correctedResults_src_v1.tsv',\n",
    "        sep = '\\t', index_col = 0)"
   ]
  },
  {
   "cell_type": "code",
   "execution_count": null,
   "id": "b5a4af6d-f302-4f48-858f-635ed2ab9ecd",
   "metadata": {},
   "outputs": [],
   "source": [
    "cd"
   ]
  },
  {
   "cell_type": "code",
   "execution_count": 75,
   "id": "672f8405-8d9a-4989-8fc6-4bd0132ed7f9",
   "metadata": {},
   "outputs": [],
   "source": [
    "src_df = cd.T[cd.T.index.str.endswith(\".src\")]\n",
    "ref_df = cd.T[cd.T.index.str.endswith(\".ref\")]"
   ]
  },
  {
   "cell_type": "code",
   "execution_count": null,
   "id": "357a858e-64cc-4c7a-b657-6ba63ae31934",
   "metadata": {
    "scrolled": true
   },
   "outputs": [],
   "source": [
    "src_df"
   ]
  },
  {
   "cell_type": "code",
   "execution_count": null,
   "id": "2366878e-d978-4ea0-b00d-5cf300c586ef",
   "metadata": {
    "scrolled": true
   },
   "outputs": [],
   "source": [
    "ref_df"
   ]
  },
  {
   "cell_type": "code",
   "execution_count": 78,
   "id": "0c6d7ba4-8539-401c-b92a-e36a628dcdf5",
   "metadata": {},
   "outputs": [],
   "source": [
    "ab_src = ab[ab.System == 'cell_line']\n",
    "ab_ref = ab[ab.System == 'CPTAC']"
   ]
  },
  {
   "cell_type": "code",
   "execution_count": null,
   "id": "113e60e7-3bfb-4d2a-8f73-006f7adf1d32",
   "metadata": {},
   "outputs": [],
   "source": [
    "ab_src"
   ]
  },
  {
   "cell_type": "code",
   "execution_count": null,
   "id": "6b406ca9-74c0-41d1-bb85-2fdcbda53dd2",
   "metadata": {},
   "outputs": [],
   "source": [
    "ab_ref"
   ]
  },
  {
   "cell_type": "code",
   "execution_count": 84,
   "id": "bd0eef7c-b524-43d4-a6cd-56ee4fcdac81",
   "metadata": {},
   "outputs": [],
   "source": [
    "src_df.insert(0, 'Cancer_type', list(ab_src.Cancer_type))\n",
    "ref_df.insert(0, 'Cancer_type', list(ab_ref.Cancer_type))"
   ]
  },
  {
   "cell_type": "code",
   "execution_count": 85,
   "id": "1bc60d27-69ba-4a03-bee9-7d0a5b06c00c",
   "metadata": {},
   "outputs": [],
   "source": [
    "src_df.insert(0, 'System', 'cell_line')\n",
    "ref_df.insert(0, 'System', 'CPTAC')"
   ]
  },
  {
   "cell_type": "code",
   "execution_count": 86,
   "id": "a1c5c730-e0d7-4c0c-a606-4d679e7eeb05",
   "metadata": {},
   "outputs": [],
   "source": [
    "mb_sys = pd.concat([src_df, ref_df], axis = 0)"
   ]
  },
  {
   "cell_type": "code",
   "execution_count": null,
   "id": "08ed2999-bcc1-4ad8-bc90-8d3e96781bd7",
   "metadata": {},
   "outputs": [],
   "source": [
    "mb_sys"
   ]
  },
  {
   "cell_type": "markdown",
   "id": "6e701463-7e4e-44e2-98c7-cd51c96c1f6e",
   "metadata": {},
   "source": [
    "#### Run random forest from front-end on mb_sys"
   ]
  },
  {
   "cell_type": "code",
   "execution_count": null,
   "id": "47331b7e-9e9d-44e4-9cc7-85f39a8ce584",
   "metadata": {},
   "outputs": [],
   "source": []
  },
  {
   "cell_type": "markdown",
   "id": "5d242134-5a58-4036-8379-e31c37ee17de",
   "metadata": {},
   "source": [
    "#### devel"
   ]
  },
  {
   "cell_type": "code",
   "execution_count": null,
   "id": "ae494fad-7d32-4bf6-bf4e-a80465faa285",
   "metadata": {},
   "outputs": [],
   "source": [
    "ab[['System', 'Cancer_type']]"
   ]
  },
  {
   "cell_type": "code",
   "execution_count": 46,
   "id": "83f18ccf-9e44-40e2-abde-e9513001a7dc",
   "metadata": {},
   "outputs": [],
   "source": [
    "ab_lbls = ab[['System', 'Cancer_type']].copy()"
   ]
  },
  {
   "cell_type": "code",
   "execution_count": null,
   "id": "5f641c92-ebd8-49e9-bae3-4a23200badf0",
   "metadata": {},
   "outputs": [],
   "source": [
    "ab_lbls"
   ]
  }
 ],
 "metadata": {
  "kernelspec": {
   "display_name": "Python 3 (ipykernel)",
   "language": "python",
   "name": "python3"
  },
  "language_info": {
   "codemirror_mode": {
    "name": "ipython",
    "version": 3
   },
   "file_extension": ".py",
   "mimetype": "text/x-python",
   "name": "python",
   "nbconvert_exporter": "python",
   "pygments_lexer": "ipython3",
   "version": "3.10.8"
  }
 },
 "nbformat": 4,
 "nbformat_minor": 5
}
