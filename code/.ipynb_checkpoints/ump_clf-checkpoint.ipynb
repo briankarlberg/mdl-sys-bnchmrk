{
 "cells": [
  {
   "cell_type": "code",
   "execution_count": null,
   "id": "0c52775e-d23c-4ced-a15b-e9f2991e52f7",
   "metadata": {},
   "outputs": [],
   "source": [
    "# path to mbatch-corrected one_cncr files:"
   ]
  },
  {
   "cell_type": "code",
   "execution_count": null,
   "id": "86b0a76e-86d7-4019-8203-888c1d94ace4",
   "metadata": {},
   "outputs": [],
   "source": []
  },
  {
   "cell_type": "code",
   "execution_count": null,
   "id": "70da3c85-740e-4658-bb61-fd2d60e2e092",
   "metadata": {},
   "outputs": [],
   "source": [
    "# paths to vae-corrected two_cncr files:"
   ]
  },
  {
   "cell_type": "code",
   "execution_count": null,
   "id": "046424f6-79a4-4337-94ac-9847c496ba26",
   "metadata": {},
   "outputs": [],
   "source": []
  },
  {
   "cell_type": "code",
   "execution_count": null,
   "id": "89f4e82d-4395-442d-ba6e-633e4d9a58a3",
   "metadata": {},
   "outputs": [],
   "source": [
    "# path to mbatch-corrected one_cncr files:"
   ]
  },
  {
   "cell_type": "code",
   "execution_count": null,
   "id": "7143324b-eb7a-423e-8928-e1209a56a055",
   "metadata": {},
   "outputs": [],
   "source": []
  },
  {
   "cell_type": "code",
   "execution_count": null,
   "id": "590f0ac7-9120-476b-8451-dad4ae327b70",
   "metadata": {},
   "outputs": [],
   "source": [
    "# paths to vae-corrected two_cncr files:"
   ]
  },
  {
   "cell_type": "code",
   "execution_count": null,
   "id": "c683953e-35fc-4d65-958b-0943959287dc",
   "metadata": {},
   "outputs": [],
   "source": []
  }
 ],
 "metadata": {
  "kernelspec": {
   "display_name": "Python 3 (ipykernel)",
   "language": "python",
   "name": "python3"
  },
  "language_info": {
   "codemirror_mode": {
    "name": "ipython",
    "version": 3
   },
   "file_extension": ".py",
   "mimetype": "text/x-python",
   "name": "python",
   "nbconvert_exporter": "python",
   "pygments_lexer": "ipython3",
   "version": "3.10.8"
  }
 },
 "nbformat": 4,
 "nbformat_minor": 5
}
