{
 "cells": [
  {
   "cell_type": "code",
   "execution_count": null,
   "id": "f6bfc5b4-7d3b-4392-8139-06fa13671ce4",
   "metadata": {},
   "outputs": [],
   "source": [
    "# Run UMAPs, classifiers, and distance metrics\n",
    "    # on the input - rf, mbatch, umap done\n",
    "    # on mbatch output - rf, mbatch, umap done\n",
    "    # on the default vae output - \n",
    "    # target outdir: /raw_data/one_cncr/figures"
   ]
  },
  {
   "cell_type": "code",
   "execution_count": null,
   "id": "6257b926-98f0-4c3e-8866-0b952755f01e",
   "metadata": {},
   "outputs": [],
   "source": [
    "ls ../results/mbatch-out/r4/r4_fgs/"
   ]
  },
  {
   "cell_type": "raw",
   "id": "096653e7-3c6c-4745-a872-aba42308c27d",
   "metadata": {},
   "source": [
    "pwd\n",
    "mdl-sys-bnchmrk/code"
   ]
  },
  {
   "cell_type": "code",
   "execution_count": 5,
   "id": "8668c06b-fe4a-4945-9c21-a5012a75935f",
   "metadata": {},
   "outputs": [
    {
     "name": "stdout",
     "output_type": "stream",
     "text": [
      "Interactive namespace is empty.\n"
     ]
    }
   ],
   "source": [
    "%whos"
   ]
  },
  {
   "cell_type": "markdown",
   "id": "6f02ff90-880a-41d5-9d91-fd61a9b7b8a6",
   "metadata": {
    "jp-MarkdownHeadingCollapsed": true
   },
   "source": [
    "##### rfe"
   ]
  },
  {
   "cell_type": "code",
   "execution_count": 5,
   "id": "3a62acec-82eb-403f-a4af-9ceeffb9b303",
   "metadata": {},
   "outputs": [],
   "source": [
    "from sklearn.feature_selection import RFE\n",
    "from sklearn.svm import SVR"
   ]
  },
  {
   "cell_type": "code",
   "execution_count": null,
   "id": "de85de95-bca9-4eac-932f-5df5cba02d75",
   "metadata": {},
   "outputs": [],
   "source": [
    "rfe = RFE(estimator=estimator, n_features_to_select=10, step=10)\n",
    "file_n = pd.read_csv(pth, sep = '\\t', index_col = 0) # read validation split file\n",
    "X = file_n.iloc[:, 1:]\n",
    "y = file_n.iloc[:, 0]\n",
    "rfe.fit(X, y)\n",
    "mask = rfe.support_\n",
    "vs_dict[vs] = json.dumps(list(X.columns[mask]))"
   ]
  },
  {
   "cell_type": "markdown",
   "id": "4dab19ff-ee98-4b21-b011-fc19b7b4aed4",
   "metadata": {
    "jp-MarkdownHeadingCollapsed": true
   },
   "source": [
    "##### dt and logreg devel"
   ]
  },
  {
   "cell_type": "code",
   "execution_count": 6,
   "id": "bcee3135-3c6c-4cdd-b3ee-016fba316327",
   "metadata": {},
   "outputs": [],
   "source": [
    "from sklearn import tree\n",
    "# clf = tree.DecisionTreeClassifier()"
   ]
  },
  {
   "cell_type": "code",
   "execution_count": 7,
   "id": "9eccb7cc-4a94-478c-b5de-918af4f634c5",
   "metadata": {},
   "outputs": [],
   "source": [
    "from sklearn.linear_model import LogisticRegression\n",
    "# clf = LogisticRegression(random_state=0).fit(X, y)"
   ]
  },
  {
   "cell_type": "markdown",
   "id": "1cd69bc9-a934-47f8-80bd-845fc1ce7683",
   "metadata": {
    "jp-MarkdownHeadingCollapsed": true
   },
   "source": [
    "#### Imports"
   ]
  },
  {
   "cell_type": "code",
   "execution_count": 12,
   "id": "8f8fdfe6-56b7-4780-b721-580ac8c755d8",
   "metadata": {},
   "outputs": [],
   "source": [
    "# Data handling\n",
    "import pandas as pd\n",
    "import glob as glob\n",
    "import itertools\n",
    "import time\n",
    "\n",
    "# RF\n",
    "from sklearn.ensemble import RandomForestClassifier\n",
    "from sklearn.model_selection import train_test_split\n",
    "from sklearn.metrics import f1_score\n",
    "import statistics\n",
    "import matplotlib.pyplot as plt\n",
    "\n",
    "# MMD\n",
    "import numpy as np\n",
    "from sklearn.metrics.pairwise import rbf_kernel\n",
    "\n",
    "# UMAP\n",
    "import umap\n",
    "import os\n",
    "from matplotlib.lines import Line2D"
   ]
  },
  {
   "cell_type": "markdown",
   "id": "c3f65222-43b9-4f82-ad75-5325a575b436",
   "metadata": {},
   "source": [
    "#### Start"
   ]
  },
  {
   "cell_type": "code",
   "execution_count": 7,
   "id": "302b4558-fc6e-41fa-a703-925b5ce7d4cc",
   "metadata": {},
   "outputs": [],
   "source": [
    "systems = 'cell-line+CPTAC' # add beat aml, cptac\n",
    "# modality = 'transcriptomics'"
   ]
  },
  {
   "cell_type": "markdown",
   "id": "9b9efc59-b734-4579-93d9-fccfdc12c8f2",
   "metadata": {},
   "source": [
    "#### Input, mbatch, vae file reads"
   ]
  },
  {
   "cell_type": "markdown",
   "id": "723e17e7-4b22-41ba-a77b-58f3cc25929f",
   "metadata": {
    "jp-MarkdownHeadingCollapsed": true
   },
   "source": [
    "##### run 3 n = 9 notes"
   ]
  },
  {
   "cell_type": "code",
   "execution_count": null,
   "id": "074861c1-e562-4149-8546-f1c7b51cdda1",
   "metadata": {},
   "outputs": [],
   "source": [
    "cancer_types = ['breast-ductal',\n",
    "    'breast-lobular',\n",
    "    'breast-nos',\n",
    "    'colon-adeno',\n",
    "    'glioblastoma',\n",
    "    'head-neck',\n",
    "    'lung-adeno',\n",
    "    'pancreatic-adeno',\n",
    "    'renal-clear-cell']"
   ]
  },
  {
   "cell_type": "raw",
   "id": "64b010a8-1eea-43e5-8726-fba6804b8776",
   "metadata": {},
   "source": [
    "# run on input data, mbatch, vae\n",
    "# target dirs:\n",
    "results/raw_data/one_cncr/figures\n",
    "results/mbatch/one_cncr/figures\n",
    "results/vae/one_cncr/figures"
   ]
  },
  {
   "cell_type": "raw",
   "id": "fce3b444-31a8-4e29-a937-8c9a138107ea",
   "metadata": {},
   "source": [
    "/results/vae/file = \n",
    "/results/vae/one_cncr"
   ]
  },
  {
   "cell_type": "markdown",
   "id": "c0926ea5-d6e1-4967-a07b-976e8f7fbcd2",
   "metadata": {},
   "source": [
    "##### r4"
   ]
  },
  {
   "cell_type": "code",
   "execution_count": 8,
   "id": "07b2aabc-7d92-4b8e-becf-38240e030998",
   "metadata": {},
   "outputs": [],
   "source": [
    "r = 'r4'"
   ]
  },
  {
   "cell_type": "markdown",
   "id": "0fda4216-4fe9-4029-ad11-613b03a85a20",
   "metadata": {
    "jp-MarkdownHeadingCollapsed": true
   },
   "source": [
    "##### One cancer file sets"
   ]
  },
  {
   "cell_type": "code",
   "execution_count": 56,
   "id": "8313dea0-cbec-4d38-a734-2be3bc64e6fd",
   "metadata": {},
   "outputs": [
    {
     "name": "stdout",
     "output_type": "stream",
     "text": [
      "File count:  15\n",
      "beat-aml_proteomics_cell-line+CPTAC.tsv\n",
      " renal-clear-cell_transcriptomics_cell-line+CPTAC.tsv\n"
     ]
    }
   ],
   "source": [
    "# Set input (raw data) to file set n\n",
    "phase = 'input_data'\n",
    "phase_name = 'Input data'\n",
    "file_set_n = sorted(glob.glob('../strctrd/'+r+'/'+r+'_fls/*'))\n",
    "print('File count: ', len(file_set_n))\n",
    "print(file_set_n[0].split('/')[-1]+'\\n', file_set_n[-1].split('/')[-1])"
   ]
  },
  {
   "cell_type": "code",
   "execution_count": null,
   "id": "8c890797-38cf-4b36-b442-64256b4406d3",
   "metadata": {},
   "outputs": [],
   "source": [
    "# Set input (mbatch data) to file set n\n",
    "phase = 'mbatch_out'\n",
    "phase_name = 'Mbatch corrected'\n",
    "file_set_n = sorted(glob.glob('../results/mbatch_out/'+r+'/'+r+'_fls/*'))\n",
    "print('File count: ', len(file_set_n))\n",
    "print(file_set_n[0].split('/')[-1]+'\\n', file_set_n[-1].split('/')[-1])"
   ]
  },
  {
   "cell_type": "code",
   "execution_count": null,
   "id": "ebacd5d7-d443-49d3-bead-988f8c63edce",
   "metadata": {},
   "outputs": [],
   "source": [
    "# Set input (vae data) to file set n\n",
    "phase = 'vae_out'\n",
    "phase_name = 'VAE corrected'\n",
    "file_set_n = sorted(glob.glob('../results/vae_out/'+r+'/'+r+'_fls/*'))\n",
    "print('File count: ', len(file_set_n))\n",
    "print(file_set_n[0].split('/')[-1]+'\\n', file_set_n[-1].split('/')[-1])"
   ]
  },
  {
   "cell_type": "markdown",
   "id": "f8f074c0-3988-40da-bece-8ba107f51a08",
   "metadata": {},
   "source": [
    "##### Pairwise file sets"
   ]
  },
  {
   "cell_type": "code",
   "execution_count": 9,
   "id": "89661147-dc24-4877-959b-76cb582781b5",
   "metadata": {},
   "outputs": [],
   "source": [
    "def get_pairs(file_set_n):\n",
    "    prot_list = []\n",
    "    tran_list = []\n",
    "    for file in file_set_n:\n",
    "        if 'proteomics' in file:\n",
    "            prot_list.append(file)\n",
    "        elif 'transcriptomics' in file:\n",
    "            tran_list.append(file)\n",
    "    tran_comb = list(itertools.combinations(tran_list, 2))\n",
    "    prot_comb = list(itertools.combinations(prot_list, 2))\n",
    "    return tran_comb, prot_comb"
   ]
  },
  {
   "cell_type": "code",
   "execution_count": 78,
   "id": "63cd4f7b-c207-429d-ba60-03facff349fa",
   "metadata": {},
   "outputs": [
    {
     "name": "stdout",
     "output_type": "stream",
     "text": [
      "File count:  15\n",
      "Trscrptmc, Prtmc comb lens:  28 21\n",
      "beat-aml_proteomics_cell-line+CPTAC.tsv\n",
      " renal-clear-cell_transcriptomics_cell-line+CPTAC.tsv\n"
     ]
    }
   ],
   "source": [
    "# Set input (raw data) to file set n\n",
    "phase = 'input-data'\n",
    "phase_name = 'Input data'\n",
    "\n",
    "file_set_n = sorted(glob.glob('../strctrd/'+phase+'/'+r+'/'+r+'_fls/*'))\n",
    "print('File count: ', len(file_set_n))\n",
    "\n",
    "tran_comb, prot_comb = get_pairs(file_set_n)\n",
    "print('Trscrptmc, Prtmc comb lens: ', len(tran_comb), len(prot_comb))\n",
    "\n",
    "# First and last files\n",
    "print(file_set_n[0].split('/')[-1]+'\\n', file_set_n[-1].split('/')[-1])"
   ]
  },
  {
   "cell_type": "code",
   "execution_count": 175,
   "id": "93e79c38-a099-4392-a049-61d529f3a818",
   "metadata": {},
   "outputs": [
    {
     "name": "stdout",
     "output_type": "stream",
     "text": [
      "File count:  7\n",
      "Trscrptmc, Prtmc comb lens:  21 0\n",
      "breast-lobular_transcriptomics_cell-line+CPTAC.tsv\n",
      " renal-clear-cell_transcriptomics_cell-line+CPTAC.tsv\n"
     ]
    }
   ],
   "source": [
    "# mBatch to file set n\n",
    "phase = 'mbatch-out'\n",
    "phase_name = 'Mbatch corrected'\n",
    "\n",
    "file_set_n = sorted(glob.glob('../results/'+phase+'/'+r+'/'+r+'-fls/*'))\n",
    "print('File count: ', len(file_set_n))\n",
    "\n",
    "tran_comb, prot_comb = get_pairs(file_set_n)\n",
    "print('Trscrptmc, Prtmc comb lens: ', len(tran_comb), len(prot_comb))\n",
    "\n",
    "# First and last files\n",
    "print(file_set_n[0].split('/')[-1]+'\\n', file_set_n[-1].split('/')[-1])"
   ]
  },
  {
   "cell_type": "code",
   "execution_count": 10,
   "id": "9fa4566a-119d-42ac-9bc5-ecb168d42d49",
   "metadata": {},
   "outputs": [
    {
     "name": "stdout",
     "output_type": "stream",
     "text": [
      "File count:  15\n",
      "Trscrptmc, Prtmc comb lens:  28 21\n",
      "beat-aml_proteomics_cell-line+CPTAC_latent_space.tsv\n",
      " renal-clear-cell_transcriptomics_cell-line+CPTAC_latent_space.tsv\n"
     ]
    }
   ],
   "source": [
    "# VAE to file set n\n",
    "phase = 'vae-out'\n",
    "phase_name = 'VAE corrected'\n",
    "\n",
    "file_set_n = sorted(glob.glob('../results/'+phase+'/'+r+'/'+r+'-fls/*'))\n",
    "print('File count: ', len(file_set_n))\n",
    "\n",
    "tran_comb, prot_comb = get_pairs(file_set_n)\n",
    "print('Trscrptmc, Prtmc comb lens: ', len(tran_comb), len(prot_comb))\n",
    "\n",
    "# First and last files\n",
    "print(file_set_n[0].split('/')[-1]+'\\n', file_set_n[-1].split('/')[-1])"
   ]
  },
  {
   "cell_type": "code",
   "execution_count": 11,
   "id": "35325300-9341-4fb3-a982-85d4aa961678",
   "metadata": {},
   "outputs": [
    {
     "data": {
      "text/plain": [
       "'vae-out'"
      ]
     },
     "execution_count": 11,
     "metadata": {},
     "output_type": "execute_result"
    }
   ],
   "source": [
    "phase"
   ]
  },
  {
   "cell_type": "markdown",
   "id": "cb990a11-ac0a-4e0e-9fb6-ec9304d2a7a7",
   "metadata": {},
   "source": [
    "##### Infinity vals"
   ]
  },
  {
   "cell_type": "code",
   "execution_count": null,
   "id": "6cf1c835-4b70-44dd-ae9a-28d5e45dbee1",
   "metadata": {},
   "outputs": [],
   "source": [
    "strctrd_n"
   ]
  },
  {
   "cell_type": "code",
   "execution_count": null,
   "id": "f0966643-dd8a-4a48-a268-29de27206dbd",
   "metadata": {},
   "outputs": [],
   "source": [
    "strctrd_n.isin([np.inf, -np.inf]).sum().sum()"
   ]
  },
  {
   "cell_type": "code",
   "execution_count": null,
   "id": "ecb8dc3d-3c68-4abf-9b5b-232cfcefcc85",
   "metadata": {},
   "outputs": [],
   "source": [
    "inf_count = f\"{df_lite.isin([np.inf, -np.inf]).sum().sum():,}\""
   ]
  },
  {
   "cell_type": "markdown",
   "id": "c10664a1-9a86-4209-944b-6a312d79989b",
   "metadata": {},
   "source": [
    "#### Classifier"
   ]
  },
  {
   "cell_type": "markdown",
   "id": "ee117362-540f-4eff-aca3-df1ac897ac56",
   "metadata": {
    "jp-MarkdownHeadingCollapsed": true
   },
   "source": [
    "##### run 3 n = 9 notes"
   ]
  },
  {
   "cell_type": "code",
   "execution_count": null,
   "id": "36f7fb0a-3ba2-47ec-ab75-5d1156ffec05",
   "metadata": {},
   "outputs": [],
   "source": [
    "# Check\n",
    "for i, file in enumerate(file_set_n):\n",
    "    print(strctrd_n)\n",
    "    break"
   ]
  },
  {
   "cell_type": "code",
   "execution_count": null,
   "id": "25e33bf6-9116-40d3-889e-acd7959f8e47",
   "metadata": {},
   "outputs": [],
   "source": [
    "file_set_n = ['../results/vae_out/one_cncr/files/breast-ductal_transcriptomics_cell-line+CPTAC_latent_space.tsv',\n",
    " '../results/vae_out/one_cncr/files/breast-lobular_transcriptomics_cell-line+CPTAC_latent_space.tsv',\n",
    " '../results/vae_out/one_cncr/files/breast-nos_transcriptomics_cell-line+CPTAC_latent_space.tsv',\n",
    " # '../results/vae_out/one_cncr/files/colon-adeno_transcriptomics_cell-line+CPTAC_latent_space.tsv',\n",
    "'../results/vae_out/one_cncr/files/glioblastoma_transcriptomics_cell-line+CPTAC_latent_space.tsv',\n",
    " '../results/vae_out/one_cncr/files/head-neck_transcriptomics_cell-line+CPTAC_latent_space.tsv',\n",
    " # '../results/vae_out/one_cncr/files/lung-adeno_transcriptomics_cell-line+CPTAC_latent_space.tsv',\n",
    " '../results/vae_out/one_cncr/files/pancreatic-adeno_transcriptomics_cell-line+CPTAC_latent_space.tsv',\n",
    " '../results/vae_out/one_cncr/files/renal-clear-cell_transcriptomics_cell-line+CPTAC_latent_space.tsv']"
   ]
  },
  {
   "cell_type": "markdown",
   "id": "48ee0df3-d103-496e-993c-cd5674c171ac",
   "metadata": {},
   "source": [
    "##### Clf main"
   ]
  },
  {
   "cell_type": "code",
   "execution_count": 23,
   "id": "d591a769-c3be-4c54-8cd5-6ab6760d05a0",
   "metadata": {
    "scrolled": true
   },
   "outputs": [
    {
     "name": "stdout",
     "output_type": "stream",
     "text": [
      "VAE corrected\n",
      "cell-line+CPTAC\n",
      "0\n",
      "0\n",
      "256\n",
      "strctr1 NaN values:  cell-line+CPTAC vae-out\n",
      "cell-line+CPTAC\n",
      "0\n",
      "0\n",
      "0\n",
      "strctr1 NaN values:  cell-line+CPTAC vae-out\n",
      "cell-line+CPTAC\n",
      "0\n",
      "0\n",
      "1,342\n",
      "strctr1 NaN values:  cell-line+CPTAC vae-out\n",
      "cell-line+CPTAC\n",
      "0\n",
      "0\n",
      "0\n",
      "strctr1 NaN values:  cell-line+CPTAC vae-out\n",
      "cell-line+CPTAC\n",
      "0\n",
      "0\n",
      "0\n",
      "strctr1 NaN values:  cell-line+CPTAC vae-out\n",
      "cell-line+CPTAC\n",
      "0\n",
      "0\n",
      "0\n",
      "strctr1 NaN values:  cell-line+CPTAC vae-out\n",
      "cell-line+CPTAC\n",
      "0\n",
      "0\n",
      "0\n",
      "strctr1 NaN values:  cell-line+CPTAC vae-out\n",
      "cell-line+CPTAC\n",
      "256\n",
      "256\n",
      "0\n"
     ]
    },
    {
     "name": "stderr",
     "output_type": "stream",
     "text": [
      "/Users/karlberb/miniforge3/envs/py310tf210/lib/python3.10/site-packages/numpy/core/fromnumeric.py:88: RuntimeWarning: invalid value encountered in reduce\n",
      "  return ufunc.reduce(obj, axis, dtype, out, **passkwargs)\n"
     ]
    },
    {
     "ename": "ValueError",
     "evalue": "Input X contains infinity or a value too large for dtype('float32').",
     "output_type": "error",
     "traceback": [
      "\u001b[0;31m---------------------------------------------------------------------------\u001b[0m",
      "\u001b[0;31mValueError\u001b[0m                                Traceback (most recent call last)",
      "Cell \u001b[0;32mIn[23], line 43\u001b[0m\n\u001b[1;32m     38\u001b[0m     \u001b[38;5;28mprint\u001b[39m(inf_count)\n\u001b[1;32m     40\u001b[0m     \u001b[38;5;66;03m# print('check')\u001b[39;00m\n\u001b[1;32m     41\u001b[0m     \u001b[38;5;66;03m# break\u001b[39;00m\n\u001b[0;32m---> 43\u001b[0m     cancer1 \u001b[38;5;241m=\u001b[39m \u001b[43mclf_main\u001b[49m\u001b[43m(\u001b[49m\u001b[43mphase\u001b[49m\u001b[43m,\u001b[49m\u001b[43m \u001b[49m\u001b[43mphase_name\u001b[49m\u001b[43m,\u001b[49m\u001b[43m \u001b[49m\u001b[43mfl_pths\u001b[49m\u001b[43m,\u001b[49m\u001b[43m \u001b[49m\u001b[43mstrctrd_n1\u001b[49m\u001b[43m,\u001b[49m\u001b[43m \u001b[49m\u001b[43mstrctrd_n2\u001b[49m\u001b[43m)\u001b[49m\n\u001b[1;32m     44\u001b[0m     \u001b[38;5;66;03m# mmd_main(fl_n, file_set_n)\u001b[39;00m\n\u001b[1;32m     45\u001b[0m     \u001b[38;5;66;03m# umap_main(fl_n, file_set_n)\u001b[39;00m\n\u001b[1;32m     46\u001b[0m     \u001b[38;5;66;03m# return\u001b[39;00m\n\u001b[1;32m     47\u001b[0m     \u001b[38;5;66;03m# break\u001b[39;00m\n\u001b[1;32m     48\u001b[0m time\u001b[38;5;241m.\u001b[39mtime() \u001b[38;5;241m-\u001b[39m start\n",
      "Cell \u001b[0;32mIn[22], line 48\u001b[0m, in \u001b[0;36mclf_main\u001b[0;34m(phase, phase_name, fl_pths, strctrd_n1, strctrd_n2)\u001b[0m\n\u001b[1;32m     43\u001b[0m X_train, X_test, y_train, y_test \u001b[38;5;241m=\u001b[39m train_test_split(\n\u001b[1;32m     44\u001b[0m                                         X, y_sys)\n\u001b[1;32m     45\u001b[0m \u001b[38;5;66;03m# System                                      ^\u001b[39;00m\n\u001b[1;32m     46\u001b[0m clf \u001b[38;5;241m=\u001b[39m \u001b[43mRandomForestClassifier\u001b[49m\u001b[43m(\u001b[49m\n\u001b[1;32m     47\u001b[0m \u001b[43m            \u001b[49m\u001b[43mmax_depth\u001b[49m\u001b[38;5;241;43m=\u001b[39;49m\u001b[38;5;241;43m2\u001b[39;49m\u001b[43m,\u001b[49m\n\u001b[0;32m---> 48\u001b[0m \u001b[43m            \u001b[49m\u001b[43mrandom_state\u001b[49m\u001b[38;5;241;43m=\u001b[39;49m\u001b[38;5;241;43m0\u001b[39;49m\u001b[43m)\u001b[49m\u001b[38;5;241;43m.\u001b[39;49m\u001b[43mfit\u001b[49m\u001b[43m(\u001b[49m\n\u001b[1;32m     49\u001b[0m \u001b[43m                            \u001b[49m\u001b[43mX_train\u001b[49m\u001b[43m,\u001b[49m\u001b[43m \u001b[49m\u001b[43my_train\u001b[49m\u001b[43m)\u001b[49m\n\u001b[1;32m     51\u001b[0m \u001b[38;5;66;03m# clf = tree.DecisionTreeClassifier().fit(X_train, y_train)\u001b[39;00m\n\u001b[1;32m     52\u001b[0m \u001b[38;5;66;03m# clf = LogisticRegression(random_state=0).fit(X_train, y_train)\u001b[39;00m\n\u001b[1;32m     54\u001b[0m score \u001b[38;5;241m=\u001b[39m f1_score(y_test, clf\u001b[38;5;241m.\u001b[39mpredict(X_test), average \u001b[38;5;241m=\u001b[39m \u001b[38;5;124m'\u001b[39m\u001b[38;5;124mweighted\u001b[39m\u001b[38;5;124m'\u001b[39m)\n",
      "File \u001b[0;32m~/miniforge3/envs/py310tf210/lib/python3.10/site-packages/sklearn/base.py:1152\u001b[0m, in \u001b[0;36m_fit_context.<locals>.decorator.<locals>.wrapper\u001b[0;34m(estimator, *args, **kwargs)\u001b[0m\n\u001b[1;32m   1145\u001b[0m     estimator\u001b[38;5;241m.\u001b[39m_validate_params()\n\u001b[1;32m   1147\u001b[0m \u001b[38;5;28;01mwith\u001b[39;00m config_context(\n\u001b[1;32m   1148\u001b[0m     skip_parameter_validation\u001b[38;5;241m=\u001b[39m(\n\u001b[1;32m   1149\u001b[0m         prefer_skip_nested_validation \u001b[38;5;129;01mor\u001b[39;00m global_skip_validation\n\u001b[1;32m   1150\u001b[0m     )\n\u001b[1;32m   1151\u001b[0m ):\n\u001b[0;32m-> 1152\u001b[0m     \u001b[38;5;28;01mreturn\u001b[39;00m \u001b[43mfit_method\u001b[49m\u001b[43m(\u001b[49m\u001b[43mestimator\u001b[49m\u001b[43m,\u001b[49m\u001b[43m \u001b[49m\u001b[38;5;241;43m*\u001b[39;49m\u001b[43margs\u001b[49m\u001b[43m,\u001b[49m\u001b[43m \u001b[49m\u001b[38;5;241;43m*\u001b[39;49m\u001b[38;5;241;43m*\u001b[39;49m\u001b[43mkwargs\u001b[49m\u001b[43m)\u001b[49m\n",
      "File \u001b[0;32m~/miniforge3/envs/py310tf210/lib/python3.10/site-packages/sklearn/ensemble/_forest.py:348\u001b[0m, in \u001b[0;36mBaseForest.fit\u001b[0;34m(self, X, y, sample_weight)\u001b[0m\n\u001b[1;32m    346\u001b[0m \u001b[38;5;28;01mif\u001b[39;00m issparse(y):\n\u001b[1;32m    347\u001b[0m     \u001b[38;5;28;01mraise\u001b[39;00m \u001b[38;5;167;01mValueError\u001b[39;00m(\u001b[38;5;124m\"\u001b[39m\u001b[38;5;124msparse multilabel-indicator for y is not supported.\u001b[39m\u001b[38;5;124m\"\u001b[39m)\n\u001b[0;32m--> 348\u001b[0m X, y \u001b[38;5;241m=\u001b[39m \u001b[38;5;28;43mself\u001b[39;49m\u001b[38;5;241;43m.\u001b[39;49m\u001b[43m_validate_data\u001b[49m\u001b[43m(\u001b[49m\n\u001b[1;32m    349\u001b[0m \u001b[43m    \u001b[49m\u001b[43mX\u001b[49m\u001b[43m,\u001b[49m\u001b[43m \u001b[49m\u001b[43my\u001b[49m\u001b[43m,\u001b[49m\u001b[43m \u001b[49m\u001b[43mmulti_output\u001b[49m\u001b[38;5;241;43m=\u001b[39;49m\u001b[38;5;28;43;01mTrue\u001b[39;49;00m\u001b[43m,\u001b[49m\u001b[43m \u001b[49m\u001b[43maccept_sparse\u001b[49m\u001b[38;5;241;43m=\u001b[39;49m\u001b[38;5;124;43m\"\u001b[39;49m\u001b[38;5;124;43mcsc\u001b[39;49m\u001b[38;5;124;43m\"\u001b[39;49m\u001b[43m,\u001b[49m\u001b[43m \u001b[49m\u001b[43mdtype\u001b[49m\u001b[38;5;241;43m=\u001b[39;49m\u001b[43mDTYPE\u001b[49m\n\u001b[1;32m    350\u001b[0m \u001b[43m\u001b[49m\u001b[43m)\u001b[49m\n\u001b[1;32m    351\u001b[0m \u001b[38;5;28;01mif\u001b[39;00m sample_weight \u001b[38;5;129;01mis\u001b[39;00m \u001b[38;5;129;01mnot\u001b[39;00m \u001b[38;5;28;01mNone\u001b[39;00m:\n\u001b[1;32m    352\u001b[0m     sample_weight \u001b[38;5;241m=\u001b[39m _check_sample_weight(sample_weight, X)\n",
      "File \u001b[0;32m~/miniforge3/envs/py310tf210/lib/python3.10/site-packages/sklearn/base.py:622\u001b[0m, in \u001b[0;36mBaseEstimator._validate_data\u001b[0;34m(self, X, y, reset, validate_separately, cast_to_ndarray, **check_params)\u001b[0m\n\u001b[1;32m    620\u001b[0m         y \u001b[38;5;241m=\u001b[39m check_array(y, input_name\u001b[38;5;241m=\u001b[39m\u001b[38;5;124m\"\u001b[39m\u001b[38;5;124my\u001b[39m\u001b[38;5;124m\"\u001b[39m, \u001b[38;5;241m*\u001b[39m\u001b[38;5;241m*\u001b[39mcheck_y_params)\n\u001b[1;32m    621\u001b[0m     \u001b[38;5;28;01melse\u001b[39;00m:\n\u001b[0;32m--> 622\u001b[0m         X, y \u001b[38;5;241m=\u001b[39m \u001b[43mcheck_X_y\u001b[49m\u001b[43m(\u001b[49m\u001b[43mX\u001b[49m\u001b[43m,\u001b[49m\u001b[43m \u001b[49m\u001b[43my\u001b[49m\u001b[43m,\u001b[49m\u001b[43m \u001b[49m\u001b[38;5;241;43m*\u001b[39;49m\u001b[38;5;241;43m*\u001b[39;49m\u001b[43mcheck_params\u001b[49m\u001b[43m)\u001b[49m\n\u001b[1;32m    623\u001b[0m     out \u001b[38;5;241m=\u001b[39m X, y\n\u001b[1;32m    625\u001b[0m \u001b[38;5;28;01mif\u001b[39;00m \u001b[38;5;129;01mnot\u001b[39;00m no_val_X \u001b[38;5;129;01mand\u001b[39;00m check_params\u001b[38;5;241m.\u001b[39mget(\u001b[38;5;124m\"\u001b[39m\u001b[38;5;124mensure_2d\u001b[39m\u001b[38;5;124m\"\u001b[39m, \u001b[38;5;28;01mTrue\u001b[39;00m):\n",
      "File \u001b[0;32m~/miniforge3/envs/py310tf210/lib/python3.10/site-packages/sklearn/utils/validation.py:1146\u001b[0m, in \u001b[0;36mcheck_X_y\u001b[0;34m(X, y, accept_sparse, accept_large_sparse, dtype, order, copy, force_all_finite, ensure_2d, allow_nd, multi_output, ensure_min_samples, ensure_min_features, y_numeric, estimator)\u001b[0m\n\u001b[1;32m   1141\u001b[0m         estimator_name \u001b[38;5;241m=\u001b[39m _check_estimator_name(estimator)\n\u001b[1;32m   1142\u001b[0m     \u001b[38;5;28;01mraise\u001b[39;00m \u001b[38;5;167;01mValueError\u001b[39;00m(\n\u001b[1;32m   1143\u001b[0m         \u001b[38;5;124mf\u001b[39m\u001b[38;5;124m\"\u001b[39m\u001b[38;5;132;01m{\u001b[39;00mestimator_name\u001b[38;5;132;01m}\u001b[39;00m\u001b[38;5;124m requires y to be passed, but the target y is None\u001b[39m\u001b[38;5;124m\"\u001b[39m\n\u001b[1;32m   1144\u001b[0m     )\n\u001b[0;32m-> 1146\u001b[0m X \u001b[38;5;241m=\u001b[39m \u001b[43mcheck_array\u001b[49m\u001b[43m(\u001b[49m\n\u001b[1;32m   1147\u001b[0m \u001b[43m    \u001b[49m\u001b[43mX\u001b[49m\u001b[43m,\u001b[49m\n\u001b[1;32m   1148\u001b[0m \u001b[43m    \u001b[49m\u001b[43maccept_sparse\u001b[49m\u001b[38;5;241;43m=\u001b[39;49m\u001b[43maccept_sparse\u001b[49m\u001b[43m,\u001b[49m\n\u001b[1;32m   1149\u001b[0m \u001b[43m    \u001b[49m\u001b[43maccept_large_sparse\u001b[49m\u001b[38;5;241;43m=\u001b[39;49m\u001b[43maccept_large_sparse\u001b[49m\u001b[43m,\u001b[49m\n\u001b[1;32m   1150\u001b[0m \u001b[43m    \u001b[49m\u001b[43mdtype\u001b[49m\u001b[38;5;241;43m=\u001b[39;49m\u001b[43mdtype\u001b[49m\u001b[43m,\u001b[49m\n\u001b[1;32m   1151\u001b[0m \u001b[43m    \u001b[49m\u001b[43morder\u001b[49m\u001b[38;5;241;43m=\u001b[39;49m\u001b[43morder\u001b[49m\u001b[43m,\u001b[49m\n\u001b[1;32m   1152\u001b[0m \u001b[43m    \u001b[49m\u001b[43mcopy\u001b[49m\u001b[38;5;241;43m=\u001b[39;49m\u001b[43mcopy\u001b[49m\u001b[43m,\u001b[49m\n\u001b[1;32m   1153\u001b[0m \u001b[43m    \u001b[49m\u001b[43mforce_all_finite\u001b[49m\u001b[38;5;241;43m=\u001b[39;49m\u001b[43mforce_all_finite\u001b[49m\u001b[43m,\u001b[49m\n\u001b[1;32m   1154\u001b[0m \u001b[43m    \u001b[49m\u001b[43mensure_2d\u001b[49m\u001b[38;5;241;43m=\u001b[39;49m\u001b[43mensure_2d\u001b[49m\u001b[43m,\u001b[49m\n\u001b[1;32m   1155\u001b[0m \u001b[43m    \u001b[49m\u001b[43mallow_nd\u001b[49m\u001b[38;5;241;43m=\u001b[39;49m\u001b[43mallow_nd\u001b[49m\u001b[43m,\u001b[49m\n\u001b[1;32m   1156\u001b[0m \u001b[43m    \u001b[49m\u001b[43mensure_min_samples\u001b[49m\u001b[38;5;241;43m=\u001b[39;49m\u001b[43mensure_min_samples\u001b[49m\u001b[43m,\u001b[49m\n\u001b[1;32m   1157\u001b[0m \u001b[43m    \u001b[49m\u001b[43mensure_min_features\u001b[49m\u001b[38;5;241;43m=\u001b[39;49m\u001b[43mensure_min_features\u001b[49m\u001b[43m,\u001b[49m\n\u001b[1;32m   1158\u001b[0m \u001b[43m    \u001b[49m\u001b[43mestimator\u001b[49m\u001b[38;5;241;43m=\u001b[39;49m\u001b[43mestimator\u001b[49m\u001b[43m,\u001b[49m\n\u001b[1;32m   1159\u001b[0m \u001b[43m    \u001b[49m\u001b[43minput_name\u001b[49m\u001b[38;5;241;43m=\u001b[39;49m\u001b[38;5;124;43m\"\u001b[39;49m\u001b[38;5;124;43mX\u001b[39;49m\u001b[38;5;124;43m\"\u001b[39;49m\u001b[43m,\u001b[49m\n\u001b[1;32m   1160\u001b[0m \u001b[43m\u001b[49m\u001b[43m)\u001b[49m\n\u001b[1;32m   1162\u001b[0m y \u001b[38;5;241m=\u001b[39m _check_y(y, multi_output\u001b[38;5;241m=\u001b[39mmulti_output, y_numeric\u001b[38;5;241m=\u001b[39my_numeric, estimator\u001b[38;5;241m=\u001b[39mestimator)\n\u001b[1;32m   1164\u001b[0m check_consistent_length(X, y)\n",
      "File \u001b[0;32m~/miniforge3/envs/py310tf210/lib/python3.10/site-packages/sklearn/utils/validation.py:957\u001b[0m, in \u001b[0;36mcheck_array\u001b[0;34m(array, accept_sparse, accept_large_sparse, dtype, order, copy, force_all_finite, ensure_2d, allow_nd, ensure_min_samples, ensure_min_features, estimator, input_name)\u001b[0m\n\u001b[1;32m    951\u001b[0m         \u001b[38;5;28;01mraise\u001b[39;00m \u001b[38;5;167;01mValueError\u001b[39;00m(\n\u001b[1;32m    952\u001b[0m             \u001b[38;5;124m\"\u001b[39m\u001b[38;5;124mFound array with dim \u001b[39m\u001b[38;5;132;01m%d\u001b[39;00m\u001b[38;5;124m. \u001b[39m\u001b[38;5;132;01m%s\u001b[39;00m\u001b[38;5;124m expected <= 2.\u001b[39m\u001b[38;5;124m\"\u001b[39m\n\u001b[1;32m    953\u001b[0m             \u001b[38;5;241m%\u001b[39m (array\u001b[38;5;241m.\u001b[39mndim, estimator_name)\n\u001b[1;32m    954\u001b[0m         )\n\u001b[1;32m    956\u001b[0m     \u001b[38;5;28;01mif\u001b[39;00m force_all_finite:\n\u001b[0;32m--> 957\u001b[0m         \u001b[43m_assert_all_finite\u001b[49m\u001b[43m(\u001b[49m\n\u001b[1;32m    958\u001b[0m \u001b[43m            \u001b[49m\u001b[43marray\u001b[49m\u001b[43m,\u001b[49m\n\u001b[1;32m    959\u001b[0m \u001b[43m            \u001b[49m\u001b[43minput_name\u001b[49m\u001b[38;5;241;43m=\u001b[39;49m\u001b[43minput_name\u001b[49m\u001b[43m,\u001b[49m\n\u001b[1;32m    960\u001b[0m \u001b[43m            \u001b[49m\u001b[43mestimator_name\u001b[49m\u001b[38;5;241;43m=\u001b[39;49m\u001b[43mestimator_name\u001b[49m\u001b[43m,\u001b[49m\n\u001b[1;32m    961\u001b[0m \u001b[43m            \u001b[49m\u001b[43mallow_nan\u001b[49m\u001b[38;5;241;43m=\u001b[39;49m\u001b[43mforce_all_finite\u001b[49m\u001b[43m \u001b[49m\u001b[38;5;241;43m==\u001b[39;49m\u001b[43m \u001b[49m\u001b[38;5;124;43m\"\u001b[39;49m\u001b[38;5;124;43mallow-nan\u001b[39;49m\u001b[38;5;124;43m\"\u001b[39;49m\u001b[43m,\u001b[49m\n\u001b[1;32m    962\u001b[0m \u001b[43m        \u001b[49m\u001b[43m)\u001b[49m\n\u001b[1;32m    964\u001b[0m \u001b[38;5;28;01mif\u001b[39;00m ensure_min_samples \u001b[38;5;241m>\u001b[39m \u001b[38;5;241m0\u001b[39m:\n\u001b[1;32m    965\u001b[0m     n_samples \u001b[38;5;241m=\u001b[39m _num_samples(array)\n",
      "File \u001b[0;32m~/miniforge3/envs/py310tf210/lib/python3.10/site-packages/sklearn/utils/validation.py:122\u001b[0m, in \u001b[0;36m_assert_all_finite\u001b[0;34m(X, allow_nan, msg_dtype, estimator_name, input_name)\u001b[0m\n\u001b[1;32m    119\u001b[0m \u001b[38;5;28;01mif\u001b[39;00m first_pass_isfinite:\n\u001b[1;32m    120\u001b[0m     \u001b[38;5;28;01mreturn\u001b[39;00m\n\u001b[0;32m--> 122\u001b[0m \u001b[43m_assert_all_finite_element_wise\u001b[49m\u001b[43m(\u001b[49m\n\u001b[1;32m    123\u001b[0m \u001b[43m    \u001b[49m\u001b[43mX\u001b[49m\u001b[43m,\u001b[49m\n\u001b[1;32m    124\u001b[0m \u001b[43m    \u001b[49m\u001b[43mxp\u001b[49m\u001b[38;5;241;43m=\u001b[39;49m\u001b[43mxp\u001b[49m\u001b[43m,\u001b[49m\n\u001b[1;32m    125\u001b[0m \u001b[43m    \u001b[49m\u001b[43mallow_nan\u001b[49m\u001b[38;5;241;43m=\u001b[39;49m\u001b[43mallow_nan\u001b[49m\u001b[43m,\u001b[49m\n\u001b[1;32m    126\u001b[0m \u001b[43m    \u001b[49m\u001b[43mmsg_dtype\u001b[49m\u001b[38;5;241;43m=\u001b[39;49m\u001b[43mmsg_dtype\u001b[49m\u001b[43m,\u001b[49m\n\u001b[1;32m    127\u001b[0m \u001b[43m    \u001b[49m\u001b[43mestimator_name\u001b[49m\u001b[38;5;241;43m=\u001b[39;49m\u001b[43mestimator_name\u001b[49m\u001b[43m,\u001b[49m\n\u001b[1;32m    128\u001b[0m \u001b[43m    \u001b[49m\u001b[43minput_name\u001b[49m\u001b[38;5;241;43m=\u001b[39;49m\u001b[43minput_name\u001b[49m\u001b[43m,\u001b[49m\n\u001b[1;32m    129\u001b[0m \u001b[43m\u001b[49m\u001b[43m)\u001b[49m\n",
      "File \u001b[0;32m~/miniforge3/envs/py310tf210/lib/python3.10/site-packages/sklearn/utils/validation.py:171\u001b[0m, in \u001b[0;36m_assert_all_finite_element_wise\u001b[0;34m(X, xp, allow_nan, msg_dtype, estimator_name, input_name)\u001b[0m\n\u001b[1;32m    154\u001b[0m \u001b[38;5;28;01mif\u001b[39;00m estimator_name \u001b[38;5;129;01mand\u001b[39;00m input_name \u001b[38;5;241m==\u001b[39m \u001b[38;5;124m\"\u001b[39m\u001b[38;5;124mX\u001b[39m\u001b[38;5;124m\"\u001b[39m \u001b[38;5;129;01mand\u001b[39;00m has_nan_error:\n\u001b[1;32m    155\u001b[0m     \u001b[38;5;66;03m# Improve the error message on how to handle missing values in\u001b[39;00m\n\u001b[1;32m    156\u001b[0m     \u001b[38;5;66;03m# scikit-learn.\u001b[39;00m\n\u001b[1;32m    157\u001b[0m     msg_err \u001b[38;5;241m+\u001b[39m\u001b[38;5;241m=\u001b[39m (\n\u001b[1;32m    158\u001b[0m         \u001b[38;5;124mf\u001b[39m\u001b[38;5;124m\"\u001b[39m\u001b[38;5;130;01m\\n\u001b[39;00m\u001b[38;5;132;01m{\u001b[39;00mestimator_name\u001b[38;5;132;01m}\u001b[39;00m\u001b[38;5;124m does not accept missing values\u001b[39m\u001b[38;5;124m\"\u001b[39m\n\u001b[1;32m    159\u001b[0m         \u001b[38;5;124m\"\u001b[39m\u001b[38;5;124m encoded as NaN natively. For supervised learning, you might want\u001b[39m\u001b[38;5;124m\"\u001b[39m\n\u001b[0;32m   (...)\u001b[0m\n\u001b[1;32m    169\u001b[0m         \u001b[38;5;124m\"\u001b[39m\u001b[38;5;124m#estimators-that-handle-nan-values\u001b[39m\u001b[38;5;124m\"\u001b[39m\n\u001b[1;32m    170\u001b[0m     )\n\u001b[0;32m--> 171\u001b[0m \u001b[38;5;28;01mraise\u001b[39;00m \u001b[38;5;167;01mValueError\u001b[39;00m(msg_err)\n",
      "\u001b[0;31mValueError\u001b[0m: Input X contains infinity or a value too large for dtype('float32')."
     ]
    }
   ],
   "source": [
    "# Cancer combos n\n",
    "    # run on three phases: input(../strctrd), mbatch_out, vae_out\n",
    "start = time.time()\n",
    "\n",
    "# phase\n",
    "print(phase_name)\n",
    "\n",
    "# Transcriptomics toggle\n",
    "cmb_lst_n = tran_comb\n",
    "\n",
    "# Proteomics togglea\n",
    "# cmb_lst_n = prot_comb\n",
    "\n",
    "# Joint embedding runs\n",
    "# cmb_lst_n = je_comb\n",
    "'''\n",
    "end toggles\n",
    "'''\n",
    "for cmb_n, fl_pths in enumerate(cmb_lst_n):\n",
    "    # print(cmb_n, fl_pths)\n",
    "    \n",
    "    strctrd_n1 = pd.read_csv(\n",
    "        fl_pths[0], sep = '\\t', index_col = 0)\n",
    "    cancer1 = fl_pths[0].split('_')[-3].split('/')[-1]\n",
    "    print(cancer1)\n",
    "    \n",
    "    inf_count = f\"{strctrd_n1.isin([np.inf, -np.inf]).sum().sum():,}\"\n",
    "    print(inf_count)\n",
    "\n",
    "    strctrd_n1.isin([np.inf, -np.inf]).sum().sum()\n",
    "    \n",
    "    print(inf_count)\n",
    "    strctrd_n2 = pd.read_csv(\n",
    "        fl_pths[1], sep = '\\t', index_col = 0)\n",
    "        \n",
    "    cancer2 = fl_pths[1].split('_')[-3].split('/')[-1]\n",
    "    inf_count = f\"{strctrd_n2.isin([np.inf, -np.inf]).sum().sum():,}\"\n",
    "    print(inf_count)\n",
    "    \n",
    "    # print('check')\n",
    "    # break\n",
    "\n",
    "    cancer1 = clf_main(phase, phase_name, fl_pths, strctrd_n1, strctrd_n2)\n",
    "    # mmd_main(fl_n, file_set_n)\n",
    "    # umap_main(fl_n, file_set_n)\n",
    "    # return\n",
    "    # break\n",
    "time.time() - start"
   ]
  },
  {
   "cell_type": "code",
   "execution_count": 25,
   "id": "95c569f5-b935-45ba-bd32-ea00782931d9",
   "metadata": {},
   "outputs": [
    {
     "data": {
      "text/html": [
       "<div>\n",
       "<style scoped>\n",
       "    .dataframe tbody tr th:only-of-type {\n",
       "        vertical-align: middle;\n",
       "    }\n",
       "\n",
       "    .dataframe tbody tr th {\n",
       "        vertical-align: top;\n",
       "    }\n",
       "\n",
       "    .dataframe thead th {\n",
       "        text-align: right;\n",
       "    }\n",
       "</style>\n",
       "<table border=\"1\" class=\"dataframe\">\n",
       "  <thead>\n",
       "    <tr style=\"text-align: right;\">\n",
       "      <th></th>\n",
       "      <th>System</th>\n",
       "      <th>Cancer_type</th>\n",
       "      <th>0</th>\n",
       "      <th>1</th>\n",
       "      <th>2</th>\n",
       "      <th>3</th>\n",
       "      <th>4</th>\n",
       "      <th>5</th>\n",
       "      <th>6</th>\n",
       "      <th>7</th>\n",
       "      <th>...</th>\n",
       "      <th>40</th>\n",
       "      <th>41</th>\n",
       "      <th>42</th>\n",
       "      <th>43</th>\n",
       "      <th>44</th>\n",
       "      <th>45</th>\n",
       "      <th>46</th>\n",
       "      <th>47</th>\n",
       "      <th>48</th>\n",
       "      <th>49</th>\n",
       "    </tr>\n",
       "    <tr>\n",
       "      <th>improve_sample_id</th>\n",
       "      <th></th>\n",
       "      <th></th>\n",
       "      <th></th>\n",
       "      <th></th>\n",
       "      <th></th>\n",
       "      <th></th>\n",
       "      <th></th>\n",
       "      <th></th>\n",
       "      <th></th>\n",
       "      <th></th>\n",
       "      <th></th>\n",
       "      <th></th>\n",
       "      <th></th>\n",
       "      <th></th>\n",
       "      <th></th>\n",
       "      <th></th>\n",
       "      <th></th>\n",
       "      <th></th>\n",
       "      <th></th>\n",
       "      <th></th>\n",
       "      <th></th>\n",
       "    </tr>\n",
       "  </thead>\n",
       "  <tbody>\n",
       "    <tr>\n",
       "      <th>smpl_id_43</th>\n",
       "      <td>cell_line</td>\n",
       "      <td>breast_lobular</td>\n",
       "      <td>10.937444</td>\n",
       "      <td>7.909463e+06</td>\n",
       "      <td>-5.018924e+04</td>\n",
       "      <td>-2.153499e+05</td>\n",
       "      <td>-26.263573</td>\n",
       "      <td>2.038053e+08</td>\n",
       "      <td>-2.253996e+02</td>\n",
       "      <td>-18.908405</td>\n",
       "      <td>...</td>\n",
       "      <td>54.338440</td>\n",
       "      <td>13.689118</td>\n",
       "      <td>17.305004</td>\n",
       "      <td>-3.602980e+03</td>\n",
       "      <td>2.839014</td>\n",
       "      <td>53.692307</td>\n",
       "      <td>-3.036984e+03</td>\n",
       "      <td>36.393740</td>\n",
       "      <td>10.137997</td>\n",
       "      <td>-2.249833</td>\n",
       "    </tr>\n",
       "    <tr>\n",
       "      <th>smpl_id_551</th>\n",
       "      <td>cell_line</td>\n",
       "      <td>breast_lobular</td>\n",
       "      <td>9.540454</td>\n",
       "      <td>-5.093856e+05</td>\n",
       "      <td>2.825309e+04</td>\n",
       "      <td>2.194937e+04</td>\n",
       "      <td>-23.075900</td>\n",
       "      <td>4.350726e+07</td>\n",
       "      <td>-4.429232e+02</td>\n",
       "      <td>-16.634220</td>\n",
       "      <td>...</td>\n",
       "      <td>47.440514</td>\n",
       "      <td>12.004441</td>\n",
       "      <td>26.681372</td>\n",
       "      <td>8.895064e+03</td>\n",
       "      <td>2.517756</td>\n",
       "      <td>47.177810</td>\n",
       "      <td>1.786187e+03</td>\n",
       "      <td>31.961842</td>\n",
       "      <td>8.912257</td>\n",
       "      <td>-1.975213</td>\n",
       "    </tr>\n",
       "    <tr>\n",
       "      <th>smpl_id_565</th>\n",
       "      <td>cell_line</td>\n",
       "      <td>breast_lobular</td>\n",
       "      <td>8.689999</td>\n",
       "      <td>1.911345e+05</td>\n",
       "      <td>2.762813e+03</td>\n",
       "      <td>8.547012e+03</td>\n",
       "      <td>-20.500978</td>\n",
       "      <td>1.290536e+05</td>\n",
       "      <td>2.599722e+02</td>\n",
       "      <td>-10.257977</td>\n",
       "      <td>...</td>\n",
       "      <td>42.233260</td>\n",
       "      <td>10.673351</td>\n",
       "      <td>34.641464</td>\n",
       "      <td>-2.071815e+03</td>\n",
       "      <td>2.203262</td>\n",
       "      <td>41.920338</td>\n",
       "      <td>-2.581817e+02</td>\n",
       "      <td>28.399836</td>\n",
       "      <td>7.914184</td>\n",
       "      <td>-1.724946</td>\n",
       "    </tr>\n",
       "    <tr>\n",
       "      <th>smpl_id_780</th>\n",
       "      <td>cell_line</td>\n",
       "      <td>breast_lobular</td>\n",
       "      <td>10.444353</td>\n",
       "      <td>-8.316450e+06</td>\n",
       "      <td>2.127938e+02</td>\n",
       "      <td>-2.421818e+05</td>\n",
       "      <td>-25.037836</td>\n",
       "      <td>-3.072913e+06</td>\n",
       "      <td>-6.825532e+02</td>\n",
       "      <td>-15.470995</td>\n",
       "      <td>...</td>\n",
       "      <td>52.167230</td>\n",
       "      <td>13.034042</td>\n",
       "      <td>41.121750</td>\n",
       "      <td>4.653139e+04</td>\n",
       "      <td>2.701815</td>\n",
       "      <td>51.182117</td>\n",
       "      <td>2.944052e+02</td>\n",
       "      <td>34.689280</td>\n",
       "      <td>9.671338</td>\n",
       "      <td>-2.145222</td>\n",
       "    </tr>\n",
       "    <tr>\n",
       "      <th>smpl_id_825</th>\n",
       "      <td>cell_line</td>\n",
       "      <td>breast_lobular</td>\n",
       "      <td>8.517326</td>\n",
       "      <td>-3.278210e+05</td>\n",
       "      <td>-1.550458e+03</td>\n",
       "      <td>3.611622e+04</td>\n",
       "      <td>-20.485445</td>\n",
       "      <td>5.716605e+05</td>\n",
       "      <td>-3.768535e+02</td>\n",
       "      <td>-12.629261</td>\n",
       "      <td>...</td>\n",
       "      <td>42.315460</td>\n",
       "      <td>10.669261</td>\n",
       "      <td>30.029766</td>\n",
       "      <td>9.547547e+03</td>\n",
       "      <td>2.204255</td>\n",
       "      <td>41.873970</td>\n",
       "      <td>3.794884e+03</td>\n",
       "      <td>28.375778</td>\n",
       "      <td>7.916717</td>\n",
       "      <td>-1.751212</td>\n",
       "    </tr>\n",
       "    <tr>\n",
       "      <th>...</th>\n",
       "      <td>...</td>\n",
       "      <td>...</td>\n",
       "      <td>...</td>\n",
       "      <td>...</td>\n",
       "      <td>...</td>\n",
       "      <td>...</td>\n",
       "      <td>...</td>\n",
       "      <td>...</td>\n",
       "      <td>...</td>\n",
       "      <td>...</td>\n",
       "      <td>...</td>\n",
       "      <td>...</td>\n",
       "      <td>...</td>\n",
       "      <td>...</td>\n",
       "      <td>...</td>\n",
       "      <td>...</td>\n",
       "      <td>...</td>\n",
       "      <td>...</td>\n",
       "      <td>...</td>\n",
       "      <td>...</td>\n",
       "      <td>...</td>\n",
       "    </tr>\n",
       "    <tr>\n",
       "      <th>smpl_id_1989</th>\n",
       "      <td>CPTAC</td>\n",
       "      <td>breast_lobular</td>\n",
       "      <td>41.619152</td>\n",
       "      <td>1.824678e+26</td>\n",
       "      <td>2.918328e+17</td>\n",
       "      <td>1.207575e+21</td>\n",
       "      <td>-100.001180</td>\n",
       "      <td>5.043052e+31</td>\n",
       "      <td>1.797101e+11</td>\n",
       "      <td>-67.100174</td>\n",
       "      <td>...</td>\n",
       "      <td>206.039380</td>\n",
       "      <td>52.083240</td>\n",
       "      <td>-4217.669400</td>\n",
       "      <td>4.776221e+18</td>\n",
       "      <td>10.748941</td>\n",
       "      <td>204.287230</td>\n",
       "      <td>4.013575e+14</td>\n",
       "      <td>138.483600</td>\n",
       "      <td>38.637882</td>\n",
       "      <td>-8.585487</td>\n",
       "    </tr>\n",
       "    <tr>\n",
       "      <th>smpl_id_1991</th>\n",
       "      <td>CPTAC</td>\n",
       "      <td>breast_lobular</td>\n",
       "      <td>42.577923</td>\n",
       "      <td>-3.509080e+26</td>\n",
       "      <td>4.321433e+18</td>\n",
       "      <td>1.975068e+21</td>\n",
       "      <td>-102.196976</td>\n",
       "      <td>8.212798e+31</td>\n",
       "      <td>-1.671638e+11</td>\n",
       "      <td>-73.954400</td>\n",
       "      <td>...</td>\n",
       "      <td>210.472380</td>\n",
       "      <td>53.229046</td>\n",
       "      <td>-5404.296400</td>\n",
       "      <td>7.587785e+18</td>\n",
       "      <td>11.044857</td>\n",
       "      <td>208.713270</td>\n",
       "      <td>1.554299e+16</td>\n",
       "      <td>141.505550</td>\n",
       "      <td>39.479794</td>\n",
       "      <td>-8.736885</td>\n",
       "    </tr>\n",
       "    <tr>\n",
       "      <th>smpl_id_1993</th>\n",
       "      <td>CPTAC</td>\n",
       "      <td>breast_lobular</td>\n",
       "      <td>42.768093</td>\n",
       "      <td>2.157303e+27</td>\n",
       "      <td>-5.093549e+18</td>\n",
       "      <td>3.673540e+21</td>\n",
       "      <td>-102.675900</td>\n",
       "      <td>-3.985034e+32</td>\n",
       "      <td>-7.536137e+10</td>\n",
       "      <td>-77.166140</td>\n",
       "      <td>...</td>\n",
       "      <td>211.493200</td>\n",
       "      <td>53.475292</td>\n",
       "      <td>-2283.013200</td>\n",
       "      <td>8.695857e+18</td>\n",
       "      <td>11.086574</td>\n",
       "      <td>209.710070</td>\n",
       "      <td>-2.517511e+15</td>\n",
       "      <td>142.161730</td>\n",
       "      <td>39.664300</td>\n",
       "      <td>-8.794601</td>\n",
       "    </tr>\n",
       "    <tr>\n",
       "      <th>smpl_id_1994</th>\n",
       "      <td>CPTAC</td>\n",
       "      <td>breast_lobular</td>\n",
       "      <td>40.837273</td>\n",
       "      <td>-5.344405e+25</td>\n",
       "      <td>1.085800e+17</td>\n",
       "      <td>-8.934846e+19</td>\n",
       "      <td>-98.060740</td>\n",
       "      <td>-2.405689e+31</td>\n",
       "      <td>-8.613318e+10</td>\n",
       "      <td>-73.900810</td>\n",
       "      <td>...</td>\n",
       "      <td>202.020140</td>\n",
       "      <td>51.068493</td>\n",
       "      <td>4787.931000</td>\n",
       "      <td>-2.651276e+18</td>\n",
       "      <td>10.566005</td>\n",
       "      <td>200.303180</td>\n",
       "      <td>-4.263624e+15</td>\n",
       "      <td>135.785570</td>\n",
       "      <td>37.886383</td>\n",
       "      <td>-8.404888</td>\n",
       "    </tr>\n",
       "    <tr>\n",
       "      <th>smpl_id_1995</th>\n",
       "      <td>CPTAC</td>\n",
       "      <td>breast_lobular</td>\n",
       "      <td>43.720207</td>\n",
       "      <td>4.163812e+27</td>\n",
       "      <td>-1.314626e+19</td>\n",
       "      <td>-2.631361e+20</td>\n",
       "      <td>-105.128876</td>\n",
       "      <td>2.021844e+33</td>\n",
       "      <td>-6.890460e+09</td>\n",
       "      <td>-76.300220</td>\n",
       "      <td>...</td>\n",
       "      <td>216.629270</td>\n",
       "      <td>54.746950</td>\n",
       "      <td>-3643.061800</td>\n",
       "      <td>-5.504964e+19</td>\n",
       "      <td>11.302139</td>\n",
       "      <td>214.791370</td>\n",
       "      <td>1.801009e+16</td>\n",
       "      <td>145.587220</td>\n",
       "      <td>40.623962</td>\n",
       "      <td>-9.034443</td>\n",
       "    </tr>\n",
       "  </tbody>\n",
       "</table>\n",
       "<p>132 rows × 52 columns</p>\n",
       "</div>"
      ],
      "text/plain": [
       "                      System     Cancer_type          0             1  \\\n",
       "improve_sample_id                                                       \n",
       "smpl_id_43         cell_line  breast_lobular  10.937444  7.909463e+06   \n",
       "smpl_id_551        cell_line  breast_lobular   9.540454 -5.093856e+05   \n",
       "smpl_id_565        cell_line  breast_lobular   8.689999  1.911345e+05   \n",
       "smpl_id_780        cell_line  breast_lobular  10.444353 -8.316450e+06   \n",
       "smpl_id_825        cell_line  breast_lobular   8.517326 -3.278210e+05   \n",
       "...                      ...             ...        ...           ...   \n",
       "smpl_id_1989           CPTAC  breast_lobular  41.619152  1.824678e+26   \n",
       "smpl_id_1991           CPTAC  breast_lobular  42.577923 -3.509080e+26   \n",
       "smpl_id_1993           CPTAC  breast_lobular  42.768093  2.157303e+27   \n",
       "smpl_id_1994           CPTAC  breast_lobular  40.837273 -5.344405e+25   \n",
       "smpl_id_1995           CPTAC  breast_lobular  43.720207  4.163812e+27   \n",
       "\n",
       "                              2             3           4             5  \\\n",
       "improve_sample_id                                                         \n",
       "smpl_id_43        -5.018924e+04 -2.153499e+05  -26.263573  2.038053e+08   \n",
       "smpl_id_551        2.825309e+04  2.194937e+04  -23.075900  4.350726e+07   \n",
       "smpl_id_565        2.762813e+03  8.547012e+03  -20.500978  1.290536e+05   \n",
       "smpl_id_780        2.127938e+02 -2.421818e+05  -25.037836 -3.072913e+06   \n",
       "smpl_id_825       -1.550458e+03  3.611622e+04  -20.485445  5.716605e+05   \n",
       "...                         ...           ...         ...           ...   \n",
       "smpl_id_1989       2.918328e+17  1.207575e+21 -100.001180  5.043052e+31   \n",
       "smpl_id_1991       4.321433e+18  1.975068e+21 -102.196976  8.212798e+31   \n",
       "smpl_id_1993      -5.093549e+18  3.673540e+21 -102.675900 -3.985034e+32   \n",
       "smpl_id_1994       1.085800e+17 -8.934846e+19  -98.060740 -2.405689e+31   \n",
       "smpl_id_1995      -1.314626e+19 -2.631361e+20 -105.128876  2.021844e+33   \n",
       "\n",
       "                              6          7  ...          40         41  \\\n",
       "improve_sample_id                           ...                          \n",
       "smpl_id_43        -2.253996e+02 -18.908405  ...   54.338440  13.689118   \n",
       "smpl_id_551       -4.429232e+02 -16.634220  ...   47.440514  12.004441   \n",
       "smpl_id_565        2.599722e+02 -10.257977  ...   42.233260  10.673351   \n",
       "smpl_id_780       -6.825532e+02 -15.470995  ...   52.167230  13.034042   \n",
       "smpl_id_825       -3.768535e+02 -12.629261  ...   42.315460  10.669261   \n",
       "...                         ...        ...  ...         ...        ...   \n",
       "smpl_id_1989       1.797101e+11 -67.100174  ...  206.039380  52.083240   \n",
       "smpl_id_1991      -1.671638e+11 -73.954400  ...  210.472380  53.229046   \n",
       "smpl_id_1993      -7.536137e+10 -77.166140  ...  211.493200  53.475292   \n",
       "smpl_id_1994      -8.613318e+10 -73.900810  ...  202.020140  51.068493   \n",
       "smpl_id_1995      -6.890460e+09 -76.300220  ...  216.629270  54.746950   \n",
       "\n",
       "                            42            43         44          45  \\\n",
       "improve_sample_id                                                     \n",
       "smpl_id_43           17.305004 -3.602980e+03   2.839014   53.692307   \n",
       "smpl_id_551          26.681372  8.895064e+03   2.517756   47.177810   \n",
       "smpl_id_565          34.641464 -2.071815e+03   2.203262   41.920338   \n",
       "smpl_id_780          41.121750  4.653139e+04   2.701815   51.182117   \n",
       "smpl_id_825          30.029766  9.547547e+03   2.204255   41.873970   \n",
       "...                        ...           ...        ...         ...   \n",
       "smpl_id_1989      -4217.669400  4.776221e+18  10.748941  204.287230   \n",
       "smpl_id_1991      -5404.296400  7.587785e+18  11.044857  208.713270   \n",
       "smpl_id_1993      -2283.013200  8.695857e+18  11.086574  209.710070   \n",
       "smpl_id_1994       4787.931000 -2.651276e+18  10.566005  200.303180   \n",
       "smpl_id_1995      -3643.061800 -5.504964e+19  11.302139  214.791370   \n",
       "\n",
       "                             46          47         48        49  \n",
       "improve_sample_id                                                 \n",
       "smpl_id_43        -3.036984e+03   36.393740  10.137997 -2.249833  \n",
       "smpl_id_551        1.786187e+03   31.961842   8.912257 -1.975213  \n",
       "smpl_id_565       -2.581817e+02   28.399836   7.914184 -1.724946  \n",
       "smpl_id_780        2.944052e+02   34.689280   9.671338 -2.145222  \n",
       "smpl_id_825        3.794884e+03   28.375778   7.916717 -1.751212  \n",
       "...                         ...         ...        ...       ...  \n",
       "smpl_id_1989       4.013575e+14  138.483600  38.637882 -8.585487  \n",
       "smpl_id_1991       1.554299e+16  141.505550  39.479794 -8.736885  \n",
       "smpl_id_1993      -2.517511e+15  142.161730  39.664300 -8.794601  \n",
       "smpl_id_1994      -4.263624e+15  135.785570  37.886383 -8.404888  \n",
       "smpl_id_1995       1.801009e+16  145.587220  40.623962 -9.034443  \n",
       "\n",
       "[132 rows x 52 columns]"
      ]
     },
     "execution_count": 25,
     "metadata": {},
     "output_type": "execute_result"
    }
   ],
   "source": [
    "strctrd_n1"
   ]
  },
  {
   "cell_type": "code",
   "execution_count": null,
   "id": "d93eeea9-0df4-4ba0-9dab-448d60d6309c",
   "metadata": {},
   "outputs": [],
   "source": []
  },
  {
   "cell_type": "code",
   "execution_count": 24,
   "id": "93149bdf-793b-4174-86d4-f7dc8df159c7",
   "metadata": {},
   "outputs": [
    {
     "data": {
      "text/plain": [
       "('../results/vae-out/r4/r4-fls/breast-lobular_transcriptomics_cell-line+CPTAC_latent_space.tsv',\n",
       " '../results/vae-out/r4/r4-fls/colon-adeno_transcriptomics_cell-line+CPTAC_latent_space.tsv')"
      ]
     },
     "execution_count": 24,
     "metadata": {},
     "output_type": "execute_result"
    }
   ],
   "source": [
    "fl_pths"
   ]
  },
  {
   "cell_type": "code",
   "execution_count": 22,
   "id": "7011bc47-6450-4c4e-9725-8c05c535b6b5",
   "metadata": {
    "scrolled": true
   },
   "outputs": [],
   "source": [
    "def clf_main(phase, phase_name, fl_pths,\n",
    "             strctrd_n1, strctrd_n2):\n",
    "\n",
    "    # print(strctrd.value_counts(strctrd.System))\n",
    "                # to plot labels\n",
    "\n",
    "    modality = fl_pths[0].split('_')[-2]\n",
    "    # return modality\n",
    "    cancer1 = fl_pths[0].split('_')[-3].split('/')[-1]\n",
    "    cancer2 = fl_pths[1].split('_')[-3].split('/')[-1]\n",
    "    # return phase, modality, cancer1, cancer2\n",
    "    if strctrd_n1.isna().sum().sum() > 0:\n",
    "        print('strctr1 NaN values: ', cancer1, phase)\n",
    "        return # To next file\n",
    "    if strctrd_n2.isin([np.inf, -np.inf]).sum().sum() > 0:\n",
    "        print('strct2 inf values: ', cancer1, phase)\n",
    "        return # To next file    \n",
    "\n",
    "    if strctrd_n2.isna().sum().sum() > 0:\n",
    "        print('strct2 NaN values: ', cancer2, phase)\n",
    "        return # To next file\n",
    "    if strctrd_n2.isin([np.inf, -np.inf]).sum().sum() > 0:\n",
    "        print('strct2 inf values: ', cancer2, phase)\n",
    "        return # To next file\n",
    "\n",
    "    c2_stcr = pd.concat([strctrd_n1, strctrd_n2], axis = 0,\n",
    "                       join = 'inner')\n",
    "    X = c2_stcr.iloc[:, 2:]\n",
    "    y_sys = c2_stcr.System\n",
    "    y_cncr = c2_stcr.Cancer_type # to Cross val index matching\n",
    "    # return X\n",
    "    sys_scores = [] # between these two cancers\n",
    "    cncr_scores = [] # between these two cancers\n",
    "    # return fl_pths, cancer1, cancer2\n",
    "    \n",
    "    clf_name = 'rnd-frst'\n",
    "    # clf_name = 'dt'\n",
    "    # clf_name = 'lg_rg'\n",
    "\n",
    "    \n",
    "    for xf_i in list(range(1,10)):\n",
    "    # for xf_i in list(range(1,30)):\n",
    "        X_train, X_test, y_train, y_test = train_test_split(\n",
    "                                                X, y_sys)\n",
    "        # System                                      ^\n",
    "        clf = RandomForestClassifier(\n",
    "                    max_depth=2,\n",
    "                    random_state=0).fit(\n",
    "                                    X_train, y_train)\n",
    "        \n",
    "        # clf = tree.DecisionTreeClassifier().fit(X_train, y_train)\n",
    "        # clf = LogisticRegression(random_state=0).fit(X_train, y_train)\n",
    "        \n",
    "        score = f1_score(y_test, clf.predict(X_test), average = 'weighted')\n",
    "        sys_scores.append(score)\n",
    "\n",
    "        # Cross val index matching           y_c_typ:\n",
    "        y_train = y_cncr[y_cncr.index.isin(y_train.index)]\n",
    "        y_test = y_cncr[y_cncr.index.isin(y_test.index)]\n",
    "\n",
    "        # Cancer type\n",
    "        clf = RandomForestClassifier(\n",
    "                    max_depth=2,\n",
    "                    random_state=0).fit(\n",
    "                                    X_train, y_train)\n",
    "        \n",
    "        score = f1_score(y_test, clf.predict(X_test), average = 'weighted')\n",
    "        cncr_scores.append(score)\n",
    "    \n",
    "    #     break\n",
    "    # return cncr_scores\n",
    "    # for score_list in \n",
    "    sys_mean = statistics.mean(sys_scores)\n",
    "    sys_err = statistics.stdev(sys_scores)\n",
    "    \n",
    "    fig, ax = plt.subplots()\n",
    "    plt.ylim(0, 1)\n",
    "    \n",
    "    # System barplot\n",
    "    bar_s = ax.bar('sys', sys_mean, yerr=sys_err, capsize = 7, label='System')\n",
    "    plt.title(phase_name+' '+cancer1+'+'+cancer2+\n",
    "        '_'+modality)\n",
    "    \n",
    "    # Legend\n",
    "    ax.legend()\n",
    "    plt.savefig(\n",
    "        '../results/'+phase+'/'+r+'/'+r+'_fgs/'+phase+'_'+cancer1+'+'+cancer2+\n",
    "        '_'+modality+'_'+systems+'_'+clf_name+'_sys.png')\n",
    "    print(cancer1+'+'+cancer2, modality, ' to disk')\n",
    "    print(' ')\n",
    "    plt.close()\n",
    "    cncr_mean = statistics.mean(cncr_scores)\n",
    "    cncr_err = statistics.stdev(cncr_scores)\n",
    "    \n",
    "    fig, ax = plt.subplots()\n",
    "    plt.ylim(0, 1)\n",
    "    \n",
    "    # Cancer barplot\n",
    "    bar_c = ax.bar('sys', cncr_mean, yerr=cncr_err, capsize = 7, label='Cancer')\n",
    "    plt.title(phase_name+' '+cancer1+'+'+cancer2+\n",
    "        '_'+modality)\n",
    "    \n",
    "    # Cancer Legend\n",
    "    ax.legend()\n",
    "    plt.savefig(\n",
    "        '../results/'+phase+'/'+r+'/'+r+'_fgs/'+phase+'_'+cancer1+'+'+cancer2+\n",
    "        '_'+modality+'_'+systems+'_'+clf_name+'_cncr.png')\n",
    "    print(cancer1+'+'+cancer2, modality, ' to disk')\n",
    "    print(' ')\n",
    "    plt.close()    \n",
    "    # return x\n",
    "    # break"
   ]
  },
  {
   "cell_type": "markdown",
   "id": "e37c33b3-24c4-4ba6-a8f6-315d43260013",
   "metadata": {
    "jp-MarkdownHeadingCollapsed": true
   },
   "source": [
    "#### MMD"
   ]
  },
  {
   "cell_type": "code",
   "execution_count": null,
   "id": "407fe5a3-b35b-4ca9-bd9a-5fb6a9192451",
   "metadata": {},
   "outputs": [],
   "source": [
    "# order file names by cancer, modality, systems - \n",
    "    # for sorting in dirs - mult cncrs per moda, mult modas per system"
   ]
  },
  {
   "cell_type": "code",
   "execution_count": null,
   "id": "249ad04f-5bdf-42b5-96b1-06d7fe6493e8",
   "metadata": {},
   "outputs": [],
   "source": [
    "def compute_mmd(bio_mrk_1, bio_mrk_2, gamma=1.0):\n",
    "    K_XX = rbf_kernel(bio_mrk_1, bio_mrk_1, gamma=gamma)\n",
    "    K_XY = rbf_kernel(bio_mrk_1, bio_mrk_2, gamma=gamma)\n",
    "    K_YY = rbf_kernel(bio_mrk_2, bio_mrk_2, gamma=gamma)\n",
    "\n",
    "    m = bio_mrk_1.shape[0]\n",
    "    n = bio_mrk_2.shape[0]\n",
    "\n",
    "    mmd = (np.sum(K_XX) - np.trace(K_XX)) / (m * (m - 1))\n",
    "    mmd += (np.sum(K_YY) - np.trace(K_YY)) / (n * (n - 1))\n",
    "    mmd -= 2 * np.sum(K_XY) / (m * n)\n",
    "\n",
    "    # Ensure the MMD value is non-negative\n",
    "    mmd = np.maximum(mmd, 0)\n",
    "\n",
    "    return np.sqrt(mmd)"
   ]
  },
  {
   "cell_type": "code",
   "execution_count": null,
   "id": "83d3c258-c178-4a9d-b83f-f3862e87421e",
   "metadata": {},
   "outputs": [],
   "source": [
    "# Set input (raw data) to file set n\n",
    "phase = 'input_data'\n",
    "phase_name = 'Input data'\n",
    "file_set_n = sorted(glob.glob('../strctrd/one_cncr/*'))"
   ]
  },
  {
   "cell_type": "code",
   "execution_count": null,
   "id": "6a5bdf4e-603d-4ec9-9d6b-a31a6cd36233",
   "metadata": {},
   "outputs": [],
   "source": [
    "# Set input (mbatch data) to file set n\n",
    "phase = 'mbatch_out'\n",
    "phase_name = 'Mbatch corrected'\n",
    "file_set_n = sorted(glob.glob('../results/mbatch_out/one_cncr/files/*'))"
   ]
  },
  {
   "cell_type": "code",
   "execution_count": null,
   "id": "cf350e19-fea4-4b01-b025-27f01609332b",
   "metadata": {},
   "outputs": [],
   "source": [
    "# vae\n"
   ]
  },
  {
   "cell_type": "code",
   "execution_count": null,
   "id": "03dcaeb4-746a-4325-87b3-7bb0550e4d82",
   "metadata": {},
   "outputs": [],
   "source": [
    "for i, file in enumerate(file_set_n):\n",
    "    # print(file)\n",
    "    strctrd_n = pd.read_csv(\n",
    "        file,\n",
    "        sep = '\\t', index_col = 0)\n",
    "    \n",
    "    # print(strctrd.value_counts(strctrd.System))\n",
    "    print(' ')\n",
    "    cancer = cancer_types[i]\n",
    "    print(cancer)\n",
    "    # break\n",
    "    bio_mrk_1 = strctrd_n[strctrd_n.System=='cell_line'].iloc[:, 2:]\n",
    "    bio_mrk_2 = strctrd_n[strctrd_n.System=='CPTAC'].iloc[:, 2:]\n",
    "    \n",
    "    mmd_score = compute_mmd(bio_mrk_1, bio_mrk_2)\n",
    "    print(mmd_score)\n",
    "    # break"
   ]
  },
  {
   "cell_type": "code",
   "execution_count": null,
   "id": "7d7e82a0-95a5-424d-a7ba-9e4af21bdb3d",
   "metadata": {},
   "outputs": [],
   "source": [
    "file_set_n"
   ]
  },
  {
   "cell_type": "code",
   "execution_count": null,
   "id": "066765e0-b87d-4847-ad87-ce059019a5bd",
   "metadata": {},
   "outputs": [],
   "source": [
    "print(phase_name)\n",
    "for i, file in enumerate(file_set_n):\n",
    "    # print(file)\n",
    "    strctrd_n = pd.read_csv(\n",
    "        file,\n",
    "        sep = '\\t', index_col = 0)\n",
    "    \n",
    "    # print(strctrd.value_counts(strctrd.System))\n",
    "    print(' ')\n",
    "    cancer = cancer_types[i]\n",
    "    print(cancer)\n",
    "    # break\n",
    "    bio_mrk_1 = strctrd_n[strctrd_n.System=='cell_line'].iloc[:, 2:]\n",
    "    bio_mrk_2 = strctrd_n[strctrd_n.System=='CPTAC'].iloc[:, 2:]\n",
    "    \n",
    "    mmd_score = compute_mmd(bio_mrk_1, bio_mrk_2)\n",
    "    print(mmd_score)\n",
    "    # break"
   ]
  },
  {
   "cell_type": "markdown",
   "id": "a8c29480-8460-4fbf-9a06-0b0e60ced7d2",
   "metadata": {
    "jp-MarkdownHeadingCollapsed": true
   },
   "source": [
    "#### UMAP"
   ]
  },
  {
   "cell_type": "code",
   "execution_count": null,
   "id": "a446f01b-c325-494a-a403-26d0a4ea7609",
   "metadata": {},
   "outputs": [],
   "source": [
    "# Set input (raw data) to file set n\n",
    "phase = 'input_data'\n",
    "phase_name = 'Input data'\n",
    "file_set_n = sorted(glob.glob('../strctrd/one_cncr/*'))"
   ]
  },
  {
   "cell_type": "code",
   "execution_count": null,
   "id": "fa1b1570-2387-43e2-9aff-8a2afb3a375e",
   "metadata": {},
   "outputs": [],
   "source": [
    "# UMAP on structured data, input data\n",
    "print(phase_name)\n",
    "for i, file in enumerate(file_set_n):\n",
    "    strctrd_n = pd.read_csv(\n",
    "        file,\n",
    "        sep = '\\t', index_col = 0)\n",
    "    cancer = cancer_types[i]\n",
    "    print(cancer)\n",
    "    print(' ')\n",
    "    # break\n",
    "    features = strctrd_n.drop(['System', 'Cancer_type'], axis=1)\n",
    "    system_labels = strctrd_n['System'] # data phase\n",
    "    \n",
    "    umap_result = umap.UMAP(n_neighbors=15, min_dist=0.1, n_components=2, metric='euclidean').fit_transform(features)\n",
    "    unique_labels = system_labels.unique()\n",
    "    \n",
    "    colors = ['red', 'green']\n",
    "    color_map = dict(zip(unique_labels, colors))\n",
    "    \n",
    "    plt.figure(figsize=(10, 8))\n",
    "    \n",
    "    for i in range(len(umap_result)):\n",
    "        plt.scatter(umap_result[i, 0], umap_result[i, 1],\n",
    "                    c=[color_map[system_labels.iloc[i]]],\n",
    "                    edgecolor='k',\n",
    "                    s=100,\n",
    "                    label=system_labels.iloc[i] + ' - ' + system_labels.iloc[i] if i in [list(system_labels).index(x) for x in unique_labels] else \"\")\n",
    "    \n",
    "    plt.legend()\n",
    "    \n",
    "    plt.title(cancer+', '+phase+', '+modality, fontsize=14)\n",
    "    \n",
    "    plt.tight_layout()\n",
    "    plt.savefig(\n",
    "        '../results/'+phase+'/one_cncr/figures/'+phase+'_'+cancer+\n",
    "        '_'+modality+'_'+systems+'rf.png')\n",
    "    \n",
    "    plt.show()\n",
    "    # break"
   ]
  },
  {
   "cell_type": "code",
   "execution_count": null,
   "id": "49623d07-999f-4034-a631-424f6d5b0133",
   "metadata": {},
   "outputs": [],
   "source": [
    "# Set input (mbatch data) to file set n\n",
    "phase = 'mbatch_out'\n",
    "phase_name = 'Mbatch corrected'\n",
    "file_set_n = sorted(glob.glob('../results/mbatch_out/one_cncr/files/*'))"
   ]
  },
  {
   "cell_type": "code",
   "execution_count": null,
   "id": "e7dc757a-a691-47e5-80f4-1ee74d57806d",
   "metadata": {},
   "outputs": [],
   "source": [
    "# UMAP on structured data, mbatch out\n",
    "print(phase_name)\n",
    "for i, file in enumerate(file_set_n):\n",
    "    strctrd_n = pd.read_csv(\n",
    "        file,\n",
    "        sep = '\\t', index_col = 0)\n",
    "    cancer = cancer_types[i]\n",
    "    print(cancer)\n",
    "    print(' ')\n",
    "    # break\n",
    "    features = strctrd_n.drop(['System', 'Cancer_type'], axis=1)\n",
    "    system_labels = strctrd_n['System'] # data phase\n",
    "    \n",
    "    umap_result = umap.UMAP(n_neighbors=15, min_dist=0.1, n_components=2, metric='euclidean').fit_transform(features)\n",
    "    unique_labels = system_labels.unique()\n",
    "    \n",
    "    colors = ['red', 'green']\n",
    "    color_map = dict(zip(unique_labels, colors))\n",
    "    \n",
    "    plt.figure(figsize=(10, 8))\n",
    "    \n",
    "    for i in range(len(umap_result)):\n",
    "        plt.scatter(umap_result[i, 0], umap_result[i, 1],\n",
    "                    c=[color_map[system_labels.iloc[i]]],\n",
    "                    edgecolor='k',\n",
    "                    s=100,\n",
    "                    label=system_labels.iloc[i] + ' - ' + system_labels.iloc[i] if i in [list(system_labels).index(x) for x in unique_labels] else \"\")\n",
    "    \n",
    "    plt.legend()\n",
    "    \n",
    "    plt.title(cancer+', '+phase+', '+modality, fontsize=14)\n",
    "    \n",
    "    plt.tight_layout()\n",
    "\n",
    "    plt.savefig(\n",
    "        '../results/'+phase+'/one_cncr/figures/'+phase+'_'+cancer+\n",
    "        '_'+modality+'_'+systems+'rf.png')\n",
    "    plt.show()\n",
    "    # break"
   ]
  },
  {
   "cell_type": "markdown",
   "id": "0f7ef1ca-e098-412a-87c5-8273593258ab",
   "metadata": {
    "jp-MarkdownHeadingCollapsed": true
   },
   "source": [
    "### UMAP function"
   ]
  },
  {
   "cell_type": "code",
   "execution_count": null,
   "id": "40c9562f-c4af-4e53-9aa9-48780b18fc0a",
   "metadata": {},
   "outputs": [],
   "source": [
    "# UMAP\n",
    "def umap(df, modality, )\n",
    "    features = df.drop(['Data_phase', 'Labels'], axis=1)\n",
    "    data_phase = df['Data_phase']\n",
    "    labels = df['Labels']\n",
    "    \n",
    "    umap_result = umap.UMAP(n_neighbors=15, min_dist=0.1, n_components=2, metric='euclidean').fit_transform(features)\n",
    "    unique_labels = labels.unique()\n",
    "    \n",
    "    colors = ['red', 'green']\n",
    "    color_map = dict(zip(unique_labels, colors))\n",
    "    \n",
    "    shape_dict = {'Original': 'o', 'Synthetic': '^'}\n",
    "    \n",
    "    # Begin UMAPs on n = 25\n",
    "    plt.figure(figsize=(10, 8))\n",
    "    \n",
    "    for i in range(len(umap_result)):\n",
    "        plt.scatter(umap_result[i, 0], umap_result[i, 1],\n",
    "                    c=[color_map[labels.iloc[i]]],\n",
    "                    marker=shape_dict[data_phase.iloc[i]],\n",
    "                    edgecolor='k',\n",
    "                    s=100,\n",
    "                    label=labels.iloc[i] + ' - ' + data_phase.iloc[i] if i in [list(labels).index(x) for x in unique_labels] else \"\")\n",
    "    \n",
    "    labels = list(unique_labels)\n",
    "    color_legend = [Line2D([0], [0], marker='s', color='w', label=label,\n",
    "                           markersize=10, markerfacecolor=color) for label, color in color_map.items() if label in labels]\n",
    "    \n",
    "    \n",
    "    first_legend = plt.legend(handles=color_legend, title='Labels', bbox_to_anchor=(1.05, 1), loc='upper left')\n",
    "    plt.gca().add_artist(first_legend)\n",
    "    shape_legend = [Line2D([0], [0], marker=shape, color='w', label=status,\n",
    "                           markersize=10, markerfacecolor='gray') for status, shape in shape_dict.items()]\n",
    "    plt.legend(handles=shape_legend, title='Data Phase', bbox_to_anchor=(1.05, 0.5), loc='upper left')\n",
    "    \n",
    "    plt.title(cancer+', '+data_type, fontsize=14)\n",
    "    \n",
    "    plt.tight_layout()\n",
    "    plt.savefig(f'i_o/UMAP_{v}_{systems}_{cancer}_{modality}.png',\n",
    "                bbox_inches='tight', dpi = 300) # file name, need to replace cancer name and version with auto vars\n",
    "    \n",
    "    plt.show()"
   ]
  },
  {
   "cell_type": "code",
   "execution_count": null,
   "id": "d398f0ea-ec5d-420a-9285-270a5337a962",
   "metadata": {},
   "outputs": [],
   "source": [
    "strctrd.value_counts(strctrd.System)"
   ]
  },
  {
   "cell_type": "code",
   "execution_count": null,
   "id": "0c52775e-d23c-4ced-a15b-e9f2991e52f7",
   "metadata": {},
   "outputs": [],
   "source": [
    "# path to mbatch-corrected one_cncr files:"
   ]
  },
  {
   "cell_type": "code",
   "execution_count": null,
   "id": "86b0a76e-86d7-4019-8203-888c1d94ace4",
   "metadata": {},
   "outputs": [],
   "source": [
    "../results/mbatch/one_cncr/files/"
   ]
  },
  {
   "cell_type": "code",
   "execution_count": null,
   "id": "70da3c85-740e-4658-bb61-fd2d60e2e092",
   "metadata": {},
   "outputs": [],
   "source": [
    "# paths to vae-corrected one_cncr files:"
   ]
  },
  {
   "cell_type": "code",
   "execution_count": null,
   "id": "046424f6-79a4-4337-94ac-9847c496ba26",
   "metadata": {},
   "outputs": [],
   "source": []
  },
  {
   "cell_type": "code",
   "execution_count": null,
   "id": "89f4e82d-4395-442d-ba6e-633e4d9a58a3",
   "metadata": {},
   "outputs": [],
   "source": [
    "# path to mbatch-corrected two_cncr files:"
   ]
  },
  {
   "cell_type": "code",
   "execution_count": null,
   "id": "7143324b-eb7a-423e-8928-e1209a56a055",
   "metadata": {},
   "outputs": [],
   "source": []
  },
  {
   "cell_type": "code",
   "execution_count": null,
   "id": "590f0ac7-9120-476b-8451-dad4ae327b70",
   "metadata": {},
   "outputs": [],
   "source": [
    "# paths to vae-corrected two_cncr files:"
   ]
  },
  {
   "cell_type": "code",
   "execution_count": null,
   "id": "c683953e-35fc-4d65-958b-0943959287dc",
   "metadata": {},
   "outputs": [],
   "source": []
  },
  {
   "cell_type": "code",
   "execution_count": null,
   "id": "06afd613-c6ad-43d4-86d3-6a882eae21a0",
   "metadata": {},
   "outputs": [],
   "source": [
    "# devel, combinations"
   ]
  },
  {
   "cell_type": "code",
   "execution_count": null,
   "id": "afdf05bb-299f-422e-97d4-ccd1b798227e",
   "metadata": {},
   "outputs": [],
   "source": []
  }
 ],
 "metadata": {
  "kernelspec": {
   "display_name": "Python 3 (ipykernel)",
   "language": "python",
   "name": "python3"
  },
  "language_info": {
   "codemirror_mode": {
    "name": "ipython",
    "version": 3
   },
   "file_extension": ".py",
   "mimetype": "text/x-python",
   "name": "python",
   "nbconvert_exporter": "python",
   "pygments_lexer": "ipython3",
   "version": "3.10.8"
  }
 },
 "nbformat": 4,
 "nbformat_minor": 5
}
