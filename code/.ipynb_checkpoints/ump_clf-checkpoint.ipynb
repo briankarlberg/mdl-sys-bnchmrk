{
 "cells": [
  {
   "cell_type": "code",
   "execution_count": null,
   "id": "f6bfc5b4-7d3b-4392-8139-06fa13671ce4",
   "metadata": {},
   "outputs": [],
   "source": [
    "# Run UMAPs, classifiers, and distance metrics\n",
    "    # on the input - rf, mbatch, umap done\n",
    "    # on mbatch output - rf, mbatch, umap done\n",
    "    # on the default vae output - \n",
    "    # target outdir: /raw_data/one_cncr/figures"
   ]
  },
  {
   "cell_type": "code",
   "execution_count": null,
   "id": "a5b48d0a-c8aa-43f3-99ba-78737d9165af",
   "metadata": {},
   "outputs": [],
   "source": [
    "pwd"
   ]
  },
  {
   "cell_type": "code",
   "execution_count": null,
   "id": "8668c06b-fe4a-4945-9c21-a5012a75935f",
   "metadata": {},
   "outputs": [],
   "source": [
    "%whos"
   ]
  },
  {
   "cell_type": "markdown",
   "id": "1cd69bc9-a934-47f8-80bd-845fc1ce7683",
   "metadata": {},
   "source": [
    "#### Imports"
   ]
  },
  {
   "cell_type": "code",
   "execution_count": null,
   "id": "8f8fdfe6-56b7-4780-b721-580ac8c755d8",
   "metadata": {},
   "outputs": [],
   "source": [
    "# Data handling\n",
    "import pandas as pd\n",
    "import glob as glob\n",
    "\n",
    "# RF\n",
    "from sklearn.ensemble import RandomForestClassifier\n",
    "from sklearn.model_selection import train_test_split\n",
    "from sklearn.metrics import f1_score\n",
    "import statistics\n",
    "import matplotlib.pyplot as plt\n",
    "\n",
    "# MMD\n",
    "import numpy as np\n",
    "from sklearn.metrics.pairwise import rbf_kernel\n",
    "\n",
    "# UMAP\n",
    "import umap\n",
    "import os\n",
    "from matplotlib.lines import Line2D"
   ]
  },
  {
   "cell_type": "code",
   "execution_count": null,
   "id": "0d6191eb-a47f-4181-8f81-06dfd4b6530f",
   "metadata": {},
   "outputs": [],
   "source": [
    "file = ''"
   ]
  },
  {
   "cell_type": "code",
   "execution_count": null,
   "id": "2c58dbf2-a431-466e-aeba-9dd3086011e3",
   "metadata": {},
   "outputs": [],
   "source": [
    "strctrd_n = pd.read_csv(\n",
    "        file,\n",
    "        # sep = '\\t', index_col = 0)\n",
    "        sep = ',', index_col = 0)"
   ]
  },
  {
   "cell_type": "code",
   "execution_count": null,
   "id": "302b4558-fc6e-41fa-a703-925b5ce7d4cc",
   "metadata": {},
   "outputs": [],
   "source": [
    "systems = 'cell-line+CPTAC'\n",
    "modality = 'transcriptomics'"
   ]
  },
  {
   "cell_type": "markdown",
   "id": "9b9efc59-b734-4579-93d9-fccfdc12c8f2",
   "metadata": {},
   "source": [
    "#### Input, mbatch, vae file reads"
   ]
  },
  {
   "cell_type": "code",
   "execution_count": null,
   "id": "074861c1-e562-4149-8546-f1c7b51cdda1",
   "metadata": {},
   "outputs": [],
   "source": [
    "cancer_types = ['breast-ductal',\n",
    "    'breast-lobular',\n",
    "    'breast-nos',\n",
    "    'colon-adeno',\n",
    "    'glioblastoma',\n",
    "    'head-neck',\n",
    "    'lung-adeno',\n",
    "    'pancreatic-adeno',\n",
    "    'renal-clear-cell']"
   ]
  },
  {
   "cell_type": "raw",
   "id": "64b010a8-1eea-43e5-8726-fba6804b8776",
   "metadata": {},
   "source": [
    "# run on input data, mbatch, vae\n",
    "# target dirs:\n",
    "results/raw_data/one_cncr/figures\n",
    "results/mbatch/one_cncr/figures\n",
    "results/vae/one_cncr/figures"
   ]
  },
  {
   "cell_type": "raw",
   "id": "fce3b444-31a8-4e29-a937-8c9a138107ea",
   "metadata": {},
   "source": [
    "/results/vae/file = \n",
    "/results/vae/one_cncr"
   ]
  },
  {
   "cell_type": "code",
   "execution_count": null,
   "id": "8313dea0-cbec-4d38-a734-2be3bc64e6fd",
   "metadata": {},
   "outputs": [],
   "source": [
    "# Set input (raw data) to file set n\n",
    "phase = 'input_data'\n",
    "phase_name = 'Input data'\n",
    "file_set_n = sorted(glob.glob('../strctrd/one_cncr/*'))"
   ]
  },
  {
   "cell_type": "code",
   "execution_count": null,
   "id": "8c890797-38cf-4b36-b442-64256b4406d3",
   "metadata": {},
   "outputs": [],
   "source": [
    "# Set input (mbatch data) to file set n\n",
    "phase = 'mbatch_out'\n",
    "phase_name = 'Mbatch corrected'\n",
    "file_set_n = sorted(glob.glob('../results/mbatch_out/one_cncr/files/*'))"
   ]
  },
  {
   "cell_type": "code",
   "execution_count": null,
   "id": "ebacd5d7-d443-49d3-bead-988f8c63edce",
   "metadata": {},
   "outputs": [],
   "source": [
    "# Set input (vae data) to file set n\n",
    "phase = 'vae_out'\n",
    "phase_name = 'VAE corrected'\n",
    "file_set_n = sorted(glob.glob('../results/vae_out/one_cncr/files/*'))"
   ]
  },
  {
   "cell_type": "code",
   "execution_count": null,
   "id": "e43a6564-7a90-4469-b62d-7cb25f65dd24",
   "metadata": {},
   "outputs": [],
   "source": [
    "file_set_n"
   ]
  },
  {
   "cell_type": "markdown",
   "id": "cb990a11-ac0a-4e0e-9fb6-ec9304d2a7a7",
   "metadata": {
    "jp-MarkdownHeadingCollapsed": true
   },
   "source": [
    "##### inf"
   ]
  },
  {
   "cell_type": "code",
   "execution_count": null,
   "id": "6cf1c835-4b70-44dd-ae9a-28d5e45dbee1",
   "metadata": {},
   "outputs": [],
   "source": [
    "strctrd_n"
   ]
  },
  {
   "cell_type": "code",
   "execution_count": null,
   "id": "f0966643-dd8a-4a48-a268-29de27206dbd",
   "metadata": {},
   "outputs": [],
   "source": [
    "strctrd_n.isin([np.inf, -np.inf]).sum().sum()"
   ]
  },
  {
   "cell_type": "code",
   "execution_count": null,
   "id": "ecb8dc3d-3c68-4abf-9b5b-232cfcefcc85",
   "metadata": {},
   "outputs": [],
   "source": [
    "inf_count = f\"{df_lite.isin([np.inf, -np.inf]).sum().sum():,}\""
   ]
  },
  {
   "cell_type": "markdown",
   "id": "c10664a1-9a86-4209-944b-6a312d79989b",
   "metadata": {},
   "source": [
    "#### Random Forest"
   ]
  },
  {
   "cell_type": "code",
   "execution_count": null,
   "id": "36f7fb0a-3ba2-47ec-ab75-5d1156ffec05",
   "metadata": {},
   "outputs": [],
   "source": [
    "# Check\n",
    "for i, file in enumerate(file_set_n):\n",
    "    print(strctrd_n)\n",
    "    break"
   ]
  },
  {
   "cell_type": "code",
   "execution_count": null,
   "id": "25e33bf6-9116-40d3-889e-acd7959f8e47",
   "metadata": {},
   "outputs": [],
   "source": [
    "file_set_n = ['../results/vae_out/one_cncr/files/breast-ductal_transcriptomics_cell-line+CPTAC_latent_space.tsv',\n",
    " '../results/vae_out/one_cncr/files/breast-lobular_transcriptomics_cell-line+CPTAC_latent_space.tsv',\n",
    " '../results/vae_out/one_cncr/files/breast-nos_transcriptomics_cell-line+CPTAC_latent_space.tsv',\n",
    " # '../results/vae_out/one_cncr/files/colon-adeno_transcriptomics_cell-line+CPTAC_latent_space.tsv',\n",
    "'../results/vae_out/one_cncr/files/glioblastoma_transcriptomics_cell-line+CPTAC_latent_space.tsv',\n",
    " '../results/vae_out/one_cncr/files/head-neck_transcriptomics_cell-line+CPTAC_latent_space.tsv',\n",
    " # '../results/vae_out/one_cncr/files/lung-adeno_transcriptomics_cell-line+CPTAC_latent_space.tsv',\n",
    " '../results/vae_out/one_cncr/files/pancreatic-adeno_transcriptomics_cell-line+CPTAC_latent_space.tsv',\n",
    " '../results/vae_out/one_cncr/files/renal-clear-cell_transcriptomics_cell-line+CPTAC_latent_space.tsv']"
   ]
  },
  {
   "cell_type": "code",
   "execution_count": null,
   "id": "e72087c7-2766-4c70-a19c-59df17002997",
   "metadata": {
    "jupyter": {
     "source_hidden": true
    },
    "scrolled": true
   },
   "outputs": [],
   "source": [
    "for i, file in enumerate(file_set_n):\n",
    "    print(file)\n",
    "    strctrd_n = pd.read_csv(\n",
    "        file,\n",
    "        # sep = '\\t', index_col = 0)\n",
    "        sep = '\\t', index_col = 0)\n",
    "    \n",
    "    # print(strctrd.value_counts(strctrd.System))\n",
    "    print(' ')\n",
    "    cancer = cancer_types[i]\n",
    "\n",
    "    if strctrd_n.isna().sum().sum() > 0:\n",
    "        print(cancer)\n",
    "        continue\n",
    "    \n",
    "    X = strctrd_n.iloc[:, 2:]\n",
    "    y_sys = strctrd_n.System\n",
    "    \n",
    "    sys_scores = []\n",
    "    # break\n",
    "    for i in list(range(0,9)):\n",
    "        X_train, X_test, y_train, y_test = train_test_split(X, y_sys)\n",
    "        clf = RandomForestClassifier(max_depth=2, random_state=0)\n",
    "        clf.fit(X_train, y_train)\n",
    "        y_pred = clf.predict(X_test)\n",
    "        score = f1_score(y_test, y_pred, average = 'weighted')\n",
    "        sys_scores.append(score)\n",
    "        # break\n",
    "    # break\n",
    "    sys_mean = statistics.mean(sys_scores)\n",
    "    sys_err = statistics.stdev(sys_scores)\n",
    "    \n",
    "    fig, ax = plt.subplots()\n",
    "    \n",
    "    # Create barplot\n",
    "    bar1 = ax.bar('sys', sys_mean, yerr=sys_err, capsize = 7, label='System')\n",
    "    plt.title(phase_name+'_'+cancer+\n",
    "        '_'+modality+'_'+systems) # automate later\n",
    "    \n",
    "    # Legend\n",
    "    ax.legend()\n",
    "    plt.savefig(\n",
    "        '../results/'+phase+'/one_cncr/figures/'+phase+'_'+cancer+\n",
    "        '_'+modality+'_'+systems+'rf.png')"
   ]
  },
  {
   "cell_type": "code",
   "execution_count": null,
   "id": "7011bc47-6450-4c4e-9725-8c05c535b6b5",
   "metadata": {
    "scrolled": true
   },
   "outputs": [],
   "source": [
    "print(phase)\n",
    "for i, file in enumerate(file_set_n):\n",
    "    print(file)\n",
    "    strctrd_n = pd.read_csv(\n",
    "        file,\n",
    "        # sep = '\\t', index_col = 0)\n",
    "        sep = '\\t', index_col = 0)\n",
    "    \n",
    "    # print(strctrd.value_counts(strctrd.System))\n",
    "    print(' ')\n",
    "    cancer = cancer_types[i]\n",
    "\n",
    "    if strctrd_n.isna().sum().sum() > 0:\n",
    "        print(cancer)\n",
    "        continue\n",
    "    \n",
    "    X = strctrd_n.iloc[:, 2:]\n",
    "    y_sys = strctrd_n.System\n",
    "    \n",
    "    sys_scores = []\n",
    "    # break\n",
    "    for i in list(range(0,9)):\n",
    "        X_train, X_test, y_train, y_test = train_test_split(X, y_sys)\n",
    "        clf = RandomForestClassifier(max_depth=2, random_state=0)\n",
    "        clf.fit(X_train, y_train)\n",
    "        y_pred = clf.predict(X_test)\n",
    "        score = f1_score(y_test, y_pred, average = 'weighted')\n",
    "        sys_scores.append(score)\n",
    "        # break\n",
    "    # break\n",
    "    sys_mean = statistics.mean(sys_scores)\n",
    "    sys_err = statistics.stdev(sys_scores)\n",
    "    \n",
    "    fig, ax = plt.subplots()\n",
    "    plt.ylim(0, 1)\n",
    "    # Create barplot\n",
    "    bar1 = ax.bar('sys', sys_mean, yerr=sys_err, capsize = 7, label='System')\n",
    "    plt.title(phase_name+'_'+cancer+\n",
    "        '_'+modality+'_'+systems) # automate later\n",
    "    \n",
    "    # Legend\n",
    "    ax.legend()\n",
    "    plt.savefig(\n",
    "        '../results/'+phase+'/one_cncr/figures/'+phase+'_'+cancer+\n",
    "        '_'+modality+'_'+systems+'rf.png')\n",
    "    # break"
   ]
  },
  {
   "cell_type": "markdown",
   "id": "e37c33b3-24c4-4ba6-a8f6-315d43260013",
   "metadata": {},
   "source": [
    "#### MMD"
   ]
  },
  {
   "cell_type": "code",
   "execution_count": null,
   "id": "407fe5a3-b35b-4ca9-bd9a-5fb6a9192451",
   "metadata": {},
   "outputs": [],
   "source": [
    "# order file names by cancer, modality, systems - \n",
    "    # for sorting in dirs - mult cncrs per moda, mult modas per system"
   ]
  },
  {
   "cell_type": "code",
   "execution_count": null,
   "id": "249ad04f-5bdf-42b5-96b1-06d7fe6493e8",
   "metadata": {},
   "outputs": [],
   "source": [
    "def compute_mmd(bio_mrk_1, bio_mrk_2, gamma=1.0):\n",
    "    K_XX = rbf_kernel(bio_mrk_1, bio_mrk_1, gamma=gamma)\n",
    "    K_XY = rbf_kernel(bio_mrk_1, bio_mrk_2, gamma=gamma)\n",
    "    K_YY = rbf_kernel(bio_mrk_2, bio_mrk_2, gamma=gamma)\n",
    "\n",
    "    m = bio_mrk_1.shape[0]\n",
    "    n = bio_mrk_2.shape[0]\n",
    "\n",
    "    mmd = (np.sum(K_XX) - np.trace(K_XX)) / (m * (m - 1))\n",
    "    mmd += (np.sum(K_YY) - np.trace(K_YY)) / (n * (n - 1))\n",
    "    mmd -= 2 * np.sum(K_XY) / (m * n)\n",
    "\n",
    "    # Ensure the MMD value is non-negative\n",
    "    mmd = np.maximum(mmd, 0)\n",
    "\n",
    "    return np.sqrt(mmd)"
   ]
  },
  {
   "cell_type": "code",
   "execution_count": null,
   "id": "83d3c258-c178-4a9d-b83f-f3862e87421e",
   "metadata": {},
   "outputs": [],
   "source": [
    "# Set input (raw data) to file set n\n",
    "phase = 'input_data'\n",
    "phase_name = 'Input data'\n",
    "file_set_n = sorted(glob.glob('../strctrd/one_cncr/*'))"
   ]
  },
  {
   "cell_type": "code",
   "execution_count": null,
   "id": "6a5bdf4e-603d-4ec9-9d6b-a31a6cd36233",
   "metadata": {},
   "outputs": [],
   "source": [
    "# Set input (mbatch data) to file set n\n",
    "phase = 'mbatch_out'\n",
    "phase_name = 'Mbatch corrected'\n",
    "file_set_n = sorted(glob.glob('../results/mbatch_out/one_cncr/files/*'))"
   ]
  },
  {
   "cell_type": "code",
   "execution_count": null,
   "id": "cf350e19-fea4-4b01-b025-27f01609332b",
   "metadata": {},
   "outputs": [],
   "source": [
    "# vae\n"
   ]
  },
  {
   "cell_type": "code",
   "execution_count": null,
   "id": "03dcaeb4-746a-4325-87b3-7bb0550e4d82",
   "metadata": {},
   "outputs": [],
   "source": [
    "for i, file in enumerate(file_set_n):\n",
    "    # print(file)\n",
    "    strctrd_n = pd.read_csv(\n",
    "        file,\n",
    "        sep = '\\t', index_col = 0)\n",
    "    \n",
    "    # print(strctrd.value_counts(strctrd.System))\n",
    "    print(' ')\n",
    "    cancer = cancer_types[i]\n",
    "    print(cancer)\n",
    "    # break\n",
    "    bio_mrk_1 = strctrd_n[strctrd_n.System=='cell_line'].iloc[:, 2:]\n",
    "    bio_mrk_2 = strctrd_n[strctrd_n.System=='CPTAC'].iloc[:, 2:]\n",
    "    \n",
    "    mmd_score = compute_mmd(bio_mrk_1, bio_mrk_2)\n",
    "    print(mmd_score)\n",
    "    # break"
   ]
  },
  {
   "cell_type": "code",
   "execution_count": null,
   "id": "7d7e82a0-95a5-424d-a7ba-9e4af21bdb3d",
   "metadata": {},
   "outputs": [],
   "source": [
    "file_set_n"
   ]
  },
  {
   "cell_type": "code",
   "execution_count": null,
   "id": "066765e0-b87d-4847-ad87-ce059019a5bd",
   "metadata": {},
   "outputs": [],
   "source": [
    "print(phase_name)\n",
    "for i, file in enumerate(file_set_n):\n",
    "    # print(file)\n",
    "    strctrd_n = pd.read_csv(\n",
    "        file,\n",
    "        sep = '\\t', index_col = 0)\n",
    "    \n",
    "    # print(strctrd.value_counts(strctrd.System))\n",
    "    print(' ')\n",
    "    cancer = cancer_types[i]\n",
    "    print(cancer)\n",
    "    # break\n",
    "    bio_mrk_1 = strctrd_n[strctrd_n.System=='cell_line'].iloc[:, 2:]\n",
    "    bio_mrk_2 = strctrd_n[strctrd_n.System=='CPTAC'].iloc[:, 2:]\n",
    "    \n",
    "    mmd_score = compute_mmd(bio_mrk_1, bio_mrk_2)\n",
    "    print(mmd_score)\n",
    "    # break"
   ]
  },
  {
   "cell_type": "markdown",
   "id": "a8c29480-8460-4fbf-9a06-0b0e60ced7d2",
   "metadata": {},
   "source": [
    "#### UMAP"
   ]
  },
  {
   "cell_type": "code",
   "execution_count": null,
   "id": "a446f01b-c325-494a-a403-26d0a4ea7609",
   "metadata": {},
   "outputs": [],
   "source": [
    "# Set input (raw data) to file set n\n",
    "phase = 'input_data'\n",
    "phase_name = 'Input data'\n",
    "file_set_n = sorted(glob.glob('../strctrd/one_cncr/*'))"
   ]
  },
  {
   "cell_type": "code",
   "execution_count": null,
   "id": "fa1b1570-2387-43e2-9aff-8a2afb3a375e",
   "metadata": {},
   "outputs": [],
   "source": [
    "# UMAP on structured data, input data\n",
    "print(phase_name)\n",
    "for i, file in enumerate(file_set_n):\n",
    "    strctrd_n = pd.read_csv(\n",
    "        file,\n",
    "        sep = '\\t', index_col = 0)\n",
    "    cancer = cancer_types[i]\n",
    "    print(cancer)\n",
    "    print(' ')\n",
    "    # break\n",
    "    features = strctrd_n.drop(['System', 'Cancer_type'], axis=1)\n",
    "    system_labels = strctrd_n['System'] # data phase\n",
    "    \n",
    "    umap_result = umap.UMAP(n_neighbors=15, min_dist=0.1, n_components=2, metric='euclidean').fit_transform(features)\n",
    "    unique_labels = system_labels.unique()\n",
    "    \n",
    "    colors = ['red', 'green']\n",
    "    color_map = dict(zip(unique_labels, colors))\n",
    "    \n",
    "    plt.figure(figsize=(10, 8))\n",
    "    \n",
    "    for i in range(len(umap_result)):\n",
    "        plt.scatter(umap_result[i, 0], umap_result[i, 1],\n",
    "                    c=[color_map[system_labels.iloc[i]]],\n",
    "                    edgecolor='k',\n",
    "                    s=100,\n",
    "                    label=system_labels.iloc[i] + ' - ' + system_labels.iloc[i] if i in [list(system_labels).index(x) for x in unique_labels] else \"\")\n",
    "    \n",
    "    plt.legend()\n",
    "    \n",
    "    plt.title(cancer+', '+phase+', '+modality, fontsize=14)\n",
    "    \n",
    "    plt.tight_layout()\n",
    "    plt.savefig(\n",
    "        '../results/'+phase+'/one_cncr/figures/'+phase+'_'+cancer+\n",
    "        '_'+modality+'_'+systems+'rf.png')\n",
    "    \n",
    "    plt.show()\n",
    "    # break"
   ]
  },
  {
   "cell_type": "code",
   "execution_count": null,
   "id": "49623d07-999f-4034-a631-424f6d5b0133",
   "metadata": {},
   "outputs": [],
   "source": [
    "# Set input (mbatch data) to file set n\n",
    "phase = 'mbatch_out'\n",
    "phase_name = 'Mbatch corrected'\n",
    "file_set_n = sorted(glob.glob('../results/mbatch_out/one_cncr/files/*'))"
   ]
  },
  {
   "cell_type": "code",
   "execution_count": null,
   "id": "e7dc757a-a691-47e5-80f4-1ee74d57806d",
   "metadata": {},
   "outputs": [],
   "source": [
    "# UMAP on structured data, mbatch out\n",
    "print(phase_name)\n",
    "for i, file in enumerate(file_set_n):\n",
    "    strctrd_n = pd.read_csv(\n",
    "        file,\n",
    "        sep = '\\t', index_col = 0)\n",
    "    cancer = cancer_types[i]\n",
    "    print(cancer)\n",
    "    print(' ')\n",
    "    # break\n",
    "    features = strctrd_n.drop(['System', 'Cancer_type'], axis=1)\n",
    "    system_labels = strctrd_n['System'] # data phase\n",
    "    \n",
    "    umap_result = umap.UMAP(n_neighbors=15, min_dist=0.1, n_components=2, metric='euclidean').fit_transform(features)\n",
    "    unique_labels = system_labels.unique()\n",
    "    \n",
    "    colors = ['red', 'green']\n",
    "    color_map = dict(zip(unique_labels, colors))\n",
    "    \n",
    "    plt.figure(figsize=(10, 8))\n",
    "    \n",
    "    for i in range(len(umap_result)):\n",
    "        plt.scatter(umap_result[i, 0], umap_result[i, 1],\n",
    "                    c=[color_map[system_labels.iloc[i]]],\n",
    "                    edgecolor='k',\n",
    "                    s=100,\n",
    "                    label=system_labels.iloc[i] + ' - ' + system_labels.iloc[i] if i in [list(system_labels).index(x) for x in unique_labels] else \"\")\n",
    "    \n",
    "    plt.legend()\n",
    "    \n",
    "    plt.title(cancer+', '+phase+', '+modality, fontsize=14)\n",
    "    \n",
    "    plt.tight_layout()\n",
    "\n",
    "    plt.savefig(\n",
    "        '../results/'+phase+'/one_cncr/figures/'+phase+'_'+cancer+\n",
    "        '_'+modality+'_'+systems+'rf.png')\n",
    "    plt.show()\n",
    "    # break"
   ]
  },
  {
   "cell_type": "markdown",
   "id": "0f7ef1ca-e098-412a-87c5-8273593258ab",
   "metadata": {},
   "source": [
    "### UMAP function"
   ]
  },
  {
   "cell_type": "code",
   "execution_count": null,
   "id": "40c9562f-c4af-4e53-9aa9-48780b18fc0a",
   "metadata": {},
   "outputs": [],
   "source": [
    "# UMAP\n",
    "def umap(df, modality, )\n",
    "    features = df.drop(['Data_phase', 'Labels'], axis=1)\n",
    "    data_phase = df['Data_phase']\n",
    "    labels = df['Labels']\n",
    "    \n",
    "    umap_result = umap.UMAP(n_neighbors=15, min_dist=0.1, n_components=2, metric='euclidean').fit_transform(features)\n",
    "    unique_labels = labels.unique()\n",
    "    \n",
    "    colors = ['red', 'green']\n",
    "    color_map = dict(zip(unique_labels, colors))\n",
    "    \n",
    "    shape_dict = {'Original': 'o', 'Synthetic': '^'}\n",
    "    \n",
    "    # Begin UMAPs on n = 25\n",
    "    plt.figure(figsize=(10, 8))\n",
    "    \n",
    "    for i in range(len(umap_result)):\n",
    "        plt.scatter(umap_result[i, 0], umap_result[i, 1],\n",
    "                    c=[color_map[labels.iloc[i]]],\n",
    "                    marker=shape_dict[data_phase.iloc[i]],\n",
    "                    edgecolor='k',\n",
    "                    s=100,\n",
    "                    label=labels.iloc[i] + ' - ' + data_phase.iloc[i] if i in [list(labels).index(x) for x in unique_labels] else \"\")\n",
    "    \n",
    "    labels = list(unique_labels)\n",
    "    color_legend = [Line2D([0], [0], marker='s', color='w', label=label,\n",
    "                           markersize=10, markerfacecolor=color) for label, color in color_map.items() if label in labels]\n",
    "    \n",
    "    \n",
    "    first_legend = plt.legend(handles=color_legend, title='Labels', bbox_to_anchor=(1.05, 1), loc='upper left')\n",
    "    plt.gca().add_artist(first_legend)\n",
    "    shape_legend = [Line2D([0], [0], marker=shape, color='w', label=status,\n",
    "                           markersize=10, markerfacecolor='gray') for status, shape in shape_dict.items()]\n",
    "    plt.legend(handles=shape_legend, title='Data Phase', bbox_to_anchor=(1.05, 0.5), loc='upper left')\n",
    "    \n",
    "    plt.title(cancer+', '+data_type, fontsize=14)\n",
    "    \n",
    "    plt.tight_layout()\n",
    "    plt.savefig(f'i_o/UMAP_{v}_{systems}_{cancer}_{modality}.png',\n",
    "                bbox_inches='tight', dpi = 300) # file name, need to replace cancer name and version with auto vars\n",
    "    \n",
    "    plt.show()"
   ]
  },
  {
   "cell_type": "markdown",
   "id": "9236b846-68c3-47d2-b412-a88396d1f0ff",
   "metadata": {},
   "source": [
    "### Setup notes"
   ]
  },
  {
   "cell_type": "code",
   "execution_count": null,
   "id": "d398f0ea-ec5d-420a-9285-270a5337a962",
   "metadata": {},
   "outputs": [],
   "source": [
    "strctrd.value_counts(strctrd.System)"
   ]
  },
  {
   "cell_type": "code",
   "execution_count": null,
   "id": "0c52775e-d23c-4ced-a15b-e9f2991e52f7",
   "metadata": {},
   "outputs": [],
   "source": [
    "# path to mbatch-corrected one_cncr files:"
   ]
  },
  {
   "cell_type": "code",
   "execution_count": null,
   "id": "86b0a76e-86d7-4019-8203-888c1d94ace4",
   "metadata": {},
   "outputs": [],
   "source": [
    "../results/mbatch/one_cncr/files/"
   ]
  },
  {
   "cell_type": "code",
   "execution_count": null,
   "id": "70da3c85-740e-4658-bb61-fd2d60e2e092",
   "metadata": {},
   "outputs": [],
   "source": [
    "# paths to vae-corrected one_cncr files:"
   ]
  },
  {
   "cell_type": "code",
   "execution_count": null,
   "id": "046424f6-79a4-4337-94ac-9847c496ba26",
   "metadata": {},
   "outputs": [],
   "source": []
  },
  {
   "cell_type": "code",
   "execution_count": null,
   "id": "89f4e82d-4395-442d-ba6e-633e4d9a58a3",
   "metadata": {},
   "outputs": [],
   "source": [
    "# path to mbatch-corrected two_cncr files:"
   ]
  },
  {
   "cell_type": "code",
   "execution_count": null,
   "id": "7143324b-eb7a-423e-8928-e1209a56a055",
   "metadata": {},
   "outputs": [],
   "source": []
  },
  {
   "cell_type": "code",
   "execution_count": null,
   "id": "590f0ac7-9120-476b-8451-dad4ae327b70",
   "metadata": {},
   "outputs": [],
   "source": [
    "# paths to vae-corrected two_cncr files:"
   ]
  },
  {
   "cell_type": "code",
   "execution_count": null,
   "id": "c683953e-35fc-4d65-958b-0943959287dc",
   "metadata": {},
   "outputs": [],
   "source": []
  },
  {
   "cell_type": "code",
   "execution_count": null,
   "id": "06afd613-c6ad-43d4-86d3-6a882eae21a0",
   "metadata": {},
   "outputs": [],
   "source": [
    "# devel, combinations"
   ]
  },
  {
   "cell_type": "code",
   "execution_count": null,
   "id": "c74623e9-9f37-41c4-beb9-571be6c33975",
   "metadata": {},
   "outputs": [],
   "source": [
    "import itertools\n",
    "\n",
    "items = ['A', 'B', 'C', 'D', 'E', 'F', 'G', 'H', 'I']\n",
    "combinations = list(itertools.combinations(items, 2))\n",
    "\n",
    "print(combinations)"
   ]
  },
  {
   "cell_type": "code",
   "execution_count": null,
   "id": "afdf05bb-299f-422e-97d4-ccd1b798227e",
   "metadata": {},
   "outputs": [],
   "source": []
  }
 ],
 "metadata": {
  "kernelspec": {
   "display_name": "Python 3 (ipykernel)",
   "language": "python",
   "name": "python3"
  },
  "language_info": {
   "codemirror_mode": {
    "name": "ipython",
    "version": 3
   },
   "file_extension": ".py",
   "mimetype": "text/x-python",
   "name": "python",
   "nbconvert_exporter": "python",
   "pygments_lexer": "ipython3",
   "version": "3.10.8"
  }
 },
 "nbformat": 4,
 "nbformat_minor": 5
}
