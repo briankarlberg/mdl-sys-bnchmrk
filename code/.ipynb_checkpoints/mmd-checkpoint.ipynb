{
 "cells": [
  {
   "cell_type": "code",
   "execution_count": null,
   "id": "357670b4-51dc-4703-a2a8-2f71ddeb6246",
   "metadata": {},
   "outputs": [],
   "source": [
    "# MMD on system for input, mbatch, vae1 and DANN\n",
    "    # from fig templates, mmd section\n",
    "    # i-o template is umap notebook"
   ]
  },
  {
   "cell_type": "code",
   "execution_count": null,
   "id": "e480fe06-58e7-48d4-ab30-155dcb8a2d02",
   "metadata": {},
   "outputs": [],
   "source": [
    "%whos"
   ]
  },
  {
   "cell_type": "code",
   "execution_count": null,
   "id": "2600efa7-d883-4967-be95-a60febff4e1f",
   "metadata": {},
   "outputs": [],
   "source": [
    "# Data handling\n",
    "import pandas as pd\n",
    "import glob as glob\n",
    "\n",
    "# MMD\n",
    "import numpy as np\n",
    "from sklearn.metrics.pairwise import rbf_kernel\n",
    "\n",
    "# cdist check\n",
    "from scipy.spatial.distance import cdist\n",
    "\n",
    "# Heatmap\n",
    "import seaborn as sns\n",
    "import matplotlib.pyplot as plt"
   ]
  },
  {
   "cell_type": "markdown",
   "id": "a02a8b56-332d-43c0-ad11-f30e99f83cec",
   "metadata": {},
   "source": [
    "### MMD function"
   ]
  },
  {
   "cell_type": "code",
   "execution_count": null,
   "id": "ef1514bf-cbe9-47bd-959a-a6c00ab7a273",
   "metadata": {},
   "outputs": [],
   "source": [
    "def compute_mmd(bio_mrk_1, bio_mrk_2, gamma):\n",
    "    K_XX = rbf_kernel(bio_mrk_1, bio_mrk_1, gamma=gamma)\n",
    "    K_XY = rbf_kernel(bio_mrk_1, bio_mrk_2, gamma=gamma)\n",
    "    K_YY = rbf_kernel(bio_mrk_2, bio_mrk_2, gamma=gamma)\n",
    "\n",
    "    m = bio_mrk_1.shape[0]\n",
    "    n = bio_mrk_2.shape[0]\n",
    "\n",
    "    mmd = (np.sum(K_XX) - np.trace(K_XX)) / (m * (m - 1))\n",
    "    mmd += (np.sum(K_YY) - np.trace(K_YY)) / (n * (n - 1))\n",
    "    mmd -= 2 * np.sum(K_XY) / (m * n)\n",
    "\n",
    "    # Ensure the MMD value is non-negative\n",
    "    mmd = np.maximum(mmd, 0)\n",
    "\n",
    "    return np.sqrt(mmd)"
   ]
  },
  {
   "cell_type": "markdown",
   "id": "202d535c-b7a4-4586-810e-c28474430da6",
   "metadata": {},
   "source": [
    "### Setup"
   ]
  },
  {
   "cell_type": "code",
   "execution_count": null,
   "id": "ed942c94-59bc-452d-bd58-c4e5c8a7f74f",
   "metadata": {},
   "outputs": [],
   "source": [
    "r = 'r5'"
   ]
  },
  {
   "cell_type": "code",
   "execution_count": null,
   "id": "ae370798-988d-4aa5-8fba-834146aa6f2b",
   "metadata": {},
   "outputs": [],
   "source": [
    "# Set input paths for read-in\n",
    "phase = 'input-data'\n",
    "phase_name = 'Input data'\n",
    "pths_n = sorted(glob.glob('../results/input-data/'+r+'/'+r+'-fls/*'))\n",
    "print('File count: ', len(pths_n))"
   ]
  },
  {
   "cell_type": "code",
   "execution_count": null,
   "id": "80934d28-f77f-4728-9bbf-fe85cafb5914",
   "metadata": {},
   "outputs": [],
   "source": [
    "# Set mbatch paths for read-in\n",
    "r = 'r6'\n",
    "phase = 'mbatch-out'\n",
    "phase_name = 'Mbatch corrected'\n",
    "pths_n = sorted(glob.glob('../results/mbatch-out/'+r+'/'+r+'-fls/*'))\n",
    "print('File count: ', len(pths_n))"
   ]
  },
  {
   "cell_type": "code",
   "execution_count": null,
   "id": "f2b282c6-9501-40ad-b9f7-ffc86a841a14",
   "metadata": {},
   "outputs": [],
   "source": [
    "# Set mbatch paths for read-in\n",
    "phase = 'vae-out'\n",
    "phase_name = 'VAE corrected'\n",
    "pths_n = sorted(glob.glob('../results/vae-out/'+r+'/'+r+'-fls/*.tsv'))\n",
    "print('File count: ', len(pths_n))"
   ]
  },
  {
   "cell_type": "code",
   "execution_count": null,
   "id": "0a0fe8f8-60b5-4b1b-863c-ccc00c32084f",
   "metadata": {},
   "outputs": [],
   "source": [
    "# Set DANN paths for read-in\n",
    "phase = 'dann-out'\n",
    "phase_name = 'DANN corrected'\n",
    "pths_n = sorted(glob.glob('../results/vae-out/'+r+'/'+r+'_dann/*.tsv'))\n",
    "print('File count: ', len(pths_n))"
   ]
  },
  {
   "cell_type": "markdown",
   "id": "0ed72257-2f83-498c-8be3-2e6a6bb565c3",
   "metadata": {},
   "source": [
    "### Production, MMD heatmaps to disk"
   ]
  },
  {
   "cell_type": "code",
   "execution_count": null,
   "id": "331759e1-b10d-417f-8292-df42bb3a84e5",
   "metadata": {},
   "outputs": [],
   "source": [
    "pths_n"
   ]
  },
  {
   "cell_type": "code",
   "execution_count": null,
   "id": "ba4da7c2-1d86-4b0f-bfab-12ee7d582d91",
   "metadata": {},
   "outputs": [],
   "source": [
    "phase"
   ]
  },
  {
   "cell_type": "code",
   "execution_count": null,
   "id": "5e400328-14f1-489d-954c-35d15a90497a",
   "metadata": {},
   "outputs": [],
   "source": [
    "print(phase)\n",
    "gamma = .0001\n",
    "print(gamma)\n",
    "# Get distances \n",
    "mmd = []\n",
    "axs_lst = [] # axes means of scipy cdist\n",
    "\n",
    "c_lst = []\n",
    "m_lst = []\n",
    "s_lst = []\n",
    "\n",
    "bnchmrk_lst = []\n",
    "\n",
    "for pi, pth_n in enumerate(pths_n):\n",
    "    print(pi)\n",
    "    benchmark = pth_n.split('/')[-1].split('.')[0]\n",
    "    bnchmrk_lst.append(benchmark)\n",
    "    # break\n",
    "    cancer = pth_n.split('/')[-1].split('_')[0]\n",
    "    modality = pth_n.split('/')[-1].split('_')[1]\n",
    "    systems = pth_n.split('/')[-1].split('_')[2].split('.')[0]\n",
    "\n",
    "    c_lst.append(cancer)\n",
    "    m_lst.append(modality)\n",
    "    s_lst.append(systems)\n",
    "    \n",
    "    df_n = pd.read_csv(\n",
    "        pth_n, sep = '\\t', index_col = 0)\n",
    "    ab = df_n.System.unique()\n",
    "    a = df_n[df_n.System == ab[0]]\n",
    "    b = df_n[df_n.System == ab[1]]\n",
    "    mmd.append(compute_mmd(a.iloc[:, 2:], b.iloc[:, 2:], gamma))\n",
    "    axs_lst.append(\n",
    "        (np.mean(cdist(a.iloc[:, 2:], b.iloc[:, 2:],\n",
    "                       metric='euclidean'), axis=1).mean()))\n",
    "    # break\n",
    "dstncs = pd.DataFrame({'phase': phase,\n",
    "                       'Benchmark': bnchmrk_lst,\n",
    "                       'mmd': mmd,\n",
    "                       'gamma': gamma,\n",
    "                       'axs_mns': axs_lst})\n",
    "\n",
    "# to variable toggles - inpt_dstncs = dstncs, mbatch_dstncs = dstncs\n",
    "    # then Subset input to mbatch benchmarks"
   ]
  },
  {
   "cell_type": "code",
   "execution_count": null,
   "id": "d480bd67-cfee-4f04-bd69-683fcf48e5b3",
   "metadata": {},
   "outputs": [],
   "source": [
    "inpt_dstncs = dstncs"
   ]
  },
  {
   "cell_type": "code",
   "execution_count": null,
   "id": "016fd7db-9581-48a8-bf3d-ec71a18d60ae",
   "metadata": {},
   "outputs": [],
   "source": [
    "# switch paths to mbatch, Rerun mmd function"
   ]
  },
  {
   "cell_type": "code",
   "execution_count": null,
   "id": "dfeb40fd-25b2-4664-abda-bfe62a938a2f",
   "metadata": {},
   "outputs": [],
   "source": [
    "mbatch_dstncs = dstncs"
   ]
  },
  {
   "cell_type": "code",
   "execution_count": null,
   "id": "0a6e0fef-bdeb-481e-8d77-e40f5b071064",
   "metadata": {},
   "outputs": [],
   "source": [
    "# switch paths to vae1, Rerun mmd function"
   ]
  },
  {
   "cell_type": "code",
   "execution_count": null,
   "id": "0fea6311-3729-4a6b-8c8a-d0c94b5080cf",
   "metadata": {},
   "outputs": [],
   "source": [
    "vae1_dstncs = dstncs"
   ]
  },
  {
   "cell_type": "code",
   "execution_count": null,
   "id": "ddd38035-180a-4208-acc5-a606242b9d7f",
   "metadata": {},
   "outputs": [],
   "source": [
    "for file in *CPTAC+HCMI.dann-out.32-ltnt-dim.tsv; do \n",
    "  mv \"$file\" \"${file/CPTAC+HCMI/HCMI+CPTAC}\"\n",
    "done"
   ]
  },
  {
   "cell_type": "code",
   "execution_count": null,
   "id": "03e9d446-3734-4417-82c0-f67aac84e075",
   "metadata": {},
   "outputs": [],
   "source": [
    "# switch paths to dann, Rerun mmd function"
   ]
  },
  {
   "cell_type": "code",
   "execution_count": null,
   "id": "7aa0f28f-ebbb-4002-aa38-121fea58732e",
   "metadata": {},
   "outputs": [],
   "source": [
    "dann_dstncs = dstncs"
   ]
  },
  {
   "cell_type": "markdown",
   "id": "b61135b9-c4b3-4a8a-948f-40d8d48e1ff9",
   "metadata": {},
   "source": [
    "#### DANN"
   ]
  },
  {
   "cell_type": "code",
   "execution_count": null,
   "id": "c7d10bb7-e2c7-46f1-9841-e695316f63ce",
   "metadata": {},
   "outputs": [],
   "source": [
    "phase = 'dann-out'\n",
    "print(phase)\n",
    "inpt_dann_stack = pd.concat([inpt_dstncs, dann_dstncs], axis = 0)\n",
    "df_pivot_dn = inpt_dann_stack.pivot_table(\n",
    "                        index=\"Benchmark\",\n",
    "                        columns=\"phase\",\n",
    "                        values=\"mmd\")\n",
    "df_pivot_dn = df_pivot_dn[['input-data', 'dann-out']]\n",
    "sns.heatmap(\n",
    "    df_pivot_dn, annot=True, cmap=\"inferno\")  # viridis, magma, inferno, plasma, cubehelix\n",
    "\n",
    "# Customize the heatmap\n",
    "plt.title(\"Maximum mean discrepency between systems, input vs. DANN\")\n",
    "# plt.xlabel(\"Columns\")\n",
    "# plt.ylabel(\"Rows\")\n",
    "\n",
    "plt.savefig(\n",
    "        '../results/'+phase+'/'+r+'/'+r+'-fgs/'+\n",
    "        phase+'.mmd.png', dpi = 300, bbox_inches = 'tight')"
   ]
  },
  {
   "cell_type": "markdown",
   "id": "12dcfc7b-5bce-4310-ab11-3533f66ed2aa",
   "metadata": {},
   "source": [
    "#### VAE1 concat"
   ]
  },
  {
   "cell_type": "code",
   "execution_count": null,
   "id": "d43c2d0d-9f6a-4680-b683-84cce6c898fb",
   "metadata": {},
   "outputs": [],
   "source": [
    "phase"
   ]
  },
  {
   "cell_type": "code",
   "execution_count": null,
   "id": "0af0770d-2b2d-452c-b448-d414343fbac2",
   "metadata": {},
   "outputs": [],
   "source": [
    "df_pivot_v1"
   ]
  },
  {
   "cell_type": "code",
   "execution_count": null,
   "id": "1ae0ca88-0b44-4457-900a-977a038c8b72",
   "metadata": {},
   "outputs": [],
   "source": [
    "phase = 'vae-out'\n",
    "inpt_vae1_stack = pd.concat([inpt_dstncs, vae1_dstncs], axis = 0)\n",
    "df_pivot_v1 = inpt_vae1_stack.pivot_table(\n",
    "                        index=\"Benchmark\",\n",
    "                        columns=\"phase\",\n",
    "                        values=\"mmd\")\n",
    "sns.heatmap(\n",
    "    df_pivot_v1, annot=True, cmap=\"inferno\")  # viridis, magma, inferno, plasma, cubehelix\n",
    "\n",
    "# Customize the heatmap\n",
    "plt.title(\"Maximum mean discrepency between systems, input vs. VAE_1\")\n",
    "# plt.xlabel(\"Columns\")\n",
    "# plt.ylabel(\"Rows\")\n",
    "\n",
    "plt.savefig(\n",
    "        '../results/'+phase+'/'+r+'/'+r+'-fgs/'+\n",
    "        phase+'.mmd.png', dpi = 300, bbox_inches = 'tight')"
   ]
  },
  {
   "cell_type": "markdown",
   "id": "1c1981f0-8d22-4d50-988f-93b5b955658c",
   "metadata": {},
   "source": [
    "#### Subset input to mbatch benchmarks"
   ]
  },
  {
   "cell_type": "code",
   "execution_count": null,
   "id": "8c236ba1-f499-4021-aa8d-09b9b74b919c",
   "metadata": {},
   "outputs": [],
   "source": [
    "mb_subset_inpt = inpt_dstncs[inpt_dstncs.Benchmark.isin(list(mbatch_dstncs.Benchmark))]"
   ]
  },
  {
   "cell_type": "code",
   "execution_count": null,
   "id": "e29e15a2-1821-46bb-89c8-463acf8f1151",
   "metadata": {},
   "outputs": [],
   "source": [
    "inpt_mbatch_stack = pd.concat([mb_subset_inpt, mbatch_dstncs], axis = 0)"
   ]
  },
  {
   "cell_type": "code",
   "execution_count": null,
   "id": "393d24e7-ec15-4aad-8bee-4887846f96c6",
   "metadata": {},
   "outputs": [],
   "source": [
    "df_pivot_m = inpt_mbatch_stack.pivot_table(\n",
    "                        index=\"Benchmark\",\n",
    "                        columns=\"phase\",\n",
    "                        values=\"mmd\")"
   ]
  },
  {
   "cell_type": "code",
   "execution_count": null,
   "id": "3a3a02d0-7713-41ab-a43e-12a0d4a4609f",
   "metadata": {},
   "outputs": [],
   "source": [
    "phase"
   ]
  },
  {
   "cell_type": "code",
   "execution_count": null,
   "id": "28e97f37-41af-4c9e-9512-0b2fed564b4e",
   "metadata": {},
   "outputs": [],
   "source": [
    "phase = 'mbatch-out'"
   ]
  },
  {
   "cell_type": "code",
   "execution_count": null,
   "id": "8fc00263-b52d-48b8-94b0-a9f485e33741",
   "metadata": {},
   "outputs": [],
   "source": [
    "r"
   ]
  },
  {
   "cell_type": "code",
   "execution_count": null,
   "id": "a3975fda-5e63-41d9-857c-ead08b238181",
   "metadata": {},
   "outputs": [],
   "source": [
    "sns.heatmap(\n",
    "    df_pivot_m, annot=True, cmap=\"inferno\")  # viridis, magma, inferno, plasma, cubehelix\n",
    "\n",
    "# Customize the heatmap\n",
    "plt.title(\"Maximum mean discrepency by system\")\n",
    "# plt.xlabel(\"Columns\")\n",
    "# plt.ylabel(\"Rows\")\n",
    "# plt.show()\n",
    "\n",
    "plt.savefig(\n",
    "        '../results/'+phase+'/'+r+'/'+r+'-fgs/'+\n",
    "        phase+'.mmd.png', dpi = 300, bbox_inches = 'tight')"
   ]
  },
  {
   "cell_type": "markdown",
   "id": "6c3a28d4-1250-4002-8692-2adfb5d5ab84",
   "metadata": {},
   "source": [
    "#### Correlation between stats (?)"
   ]
  },
  {
   "cell_type": "code",
   "execution_count": null,
   "id": "7c650e5f-df1f-4770-bb69-c16d5aae1f75",
   "metadata": {},
   "outputs": [],
   "source": [
    "mbatch_dstncs.head(1)"
   ]
  },
  {
   "cell_type": "code",
   "execution_count": null,
   "id": "757f2d11-e245-42da-a085-ccf33a419fab",
   "metadata": {},
   "outputs": [],
   "source": [
    "# Mbatch distribution stats\n",
    "plt.scatter(mbatch_dstncs.mmd, mbatch_dstncs.axs_mns)\n",
    "plt.title('Mbatch distribution stats')\n",
    "plt.xlabel('MMD')\n",
    "plt.ylabel('C-dist mean')\n",
    "for index, row in mbatch_dstncs.iterrows():\n",
    "    plt.annotate(row['Benchmark'],  # This is the text to display\n",
    "                 (row['mmd'], row['axs_mns']),  # This sets the position at the point (x,y)\n",
    "                 textcoords=\"offset points\",  # how to position the text\n",
    "                 xytext=(0,10),  # distance from text to points (x,y)\n",
    "                 ha='left')  # horizontal alignment can be left, right or center\n",
    "# for i, row in dstncs.iterrows(): \n",
    "#     plt.annotate(row['Benchmark'], xy=(dstncs.mmd, dstncs.axs_mns), xytext=(5, 2), textcoords='offset points')"
   ]
  },
  {
   "cell_type": "code",
   "execution_count": null,
   "id": "db2b7a88-d606-472b-b919-4f6d4acca7f6",
   "metadata": {},
   "outputs": [],
   "source": [
    "# Input distribution stats\n",
    "plt.scatter(inpt_dstncs.mmd, inpt_dstncs.axs_mns)\n",
    "plt.title('Input distribution stats')\n",
    "plt.xlabel('MMD')\n",
    "plt.ylabel('C-dist mean')\n",
    "for index, row in inpt_dstncs.iterrows():\n",
    "    plt.annotate(row['Benchmark'],  # This is the text to display\n",
    "                 (row['mmd'], row['axs_mns']),  # This sets the position at the point (x,y)\n",
    "                 textcoords=\"offset points\",  # how to position the text\n",
    "                 xytext=(0,10),  # distance from text to points (x,y)\n",
    "                 ha='left')  # horizontal alignment can be left, right or center\n",
    "# for i, row in dstncs.iterrows(): \n",
    "#     plt.annotate(row['Benchmark'], xy=(dstncs.mmd, dstncs.axs_mns), xytext=(5, 2), textcoords='offset points')"
   ]
  },
  {
   "cell_type": "code",
   "execution_count": null,
   "id": "1490f46e-5381-4366-b713-50e44650c52e",
   "metadata": {},
   "outputs": [],
   "source": [
    "# How can this ^ inform cancer type pairwise comparisons?"
   ]
  },
  {
   "cell_type": "code",
   "execution_count": null,
   "id": "a0083876-6306-48c8-acfd-0f037e053d9e",
   "metadata": {},
   "outputs": [],
   "source": []
  },
  {
   "cell_type": "code",
   "execution_count": null,
   "id": "4eeae7fc-8ec9-413a-8214-ffa346e90cb6",
   "metadata": {},
   "outputs": [],
   "source": [
    "# Run pairwise combos for tissue distance?\n",
    "    # Separate or same plot as system distances?"
   ]
  },
  {
   "cell_type": "code",
   "execution_count": null,
   "id": "dcaf152f-c4b8-4590-95c4-18180632ac39",
   "metadata": {},
   "outputs": [],
   "source": []
  },
  {
   "cell_type": "code",
   "execution_count": null,
   "id": "40f9f5a5-c110-4086-ad3b-e2431594eb00",
   "metadata": {},
   "outputs": [],
   "source": [
    "import pandas as pd\n",
    "from scipy.stats import entropy\n",
    "import itertools\n",
    "\n",
    "# Sample dataframes (ensure your data is in this format)\n",
    "df1 = pd.DataFrame({'gene1': [0.2, 0.3, 0.1, 0.2], 'gene2': [0.3, 0.1, 0.2, 0.2], 'gene3': [0.5, 0.6, 0.7, 0.6]})\n",
    "df2 = pd.DataFrame({'gene1': [0.3, 0.2, 0.3], 'gene2': [0.5, 0.5, 0.1]})\n",
    "\n",
    "range_1 = list(range(0, len(df1)))\n",
    "range_2 = list(range(0, len(df2)))\n",
    "# KL divergence between df1 and df2\n",
    "kl_div = entropy(df1.iloc[0], df2.iloc[0])  \n",
    "# fail, dimensions of distributions must match"
   ]
  },
  {
   "cell_type": "code",
   "execution_count": null,
   "id": "4553190b-c310-4c7a-b967-85a75f45976d",
   "metadata": {},
   "outputs": [],
   "source": []
  }
 ],
 "metadata": {
  "kernelspec": {
   "display_name": "Python 3 (ipykernel)",
   "language": "python",
   "name": "python3"
  },
  "language_info": {
   "codemirror_mode": {
    "name": "ipython",
    "version": 3
   },
   "file_extension": ".py",
   "mimetype": "text/x-python",
   "name": "python",
   "nbconvert_exporter": "python",
   "pygments_lexer": "ipython3",
   "version": "3.10.8"
  }
 },
 "nbformat": 4,
 "nbformat_minor": 5
}
