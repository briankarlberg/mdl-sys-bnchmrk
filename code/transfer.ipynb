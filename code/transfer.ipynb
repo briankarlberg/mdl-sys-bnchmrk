{
 "cells": [
  {
   "cell_type": "markdown",
   "id": "59f4a06d-d172-4737-a94a-175836a294fb",
   "metadata": {},
   "source": [
    "# R72"
   ]
  },
  {
   "cell_type": "code",
   "execution_count": null,
   "id": "24515ada-bf16-4302-b929-0aba1e8214d6",
   "metadata": {},
   "outputs": [],
   "source": [
    "# R72:\n",
    "    # HCMI -> CPTAC, 5 cancer types\n",
    "    # cell line -> CPTAC, 5 cancer types"
   ]
  },
  {
   "cell_type": "code",
   "execution_count": null,
   "id": "7d6ddeb3-b3fb-4a5b-85f3-aea24641e74c",
   "metadata": {},
   "outputs": [],
   "source": [
    "%whos"
   ]
  },
  {
   "cell_type": "code",
   "execution_count": 1,
   "id": "ce4d0e57-6692-41c5-be98-a33677884dc6",
   "metadata": {},
   "outputs": [],
   "source": [
    "# Data handling & comparision setup\n",
    "import pandas as pd\n",
    "import glob\n",
    "import itertools\n",
    "\n",
    "# Feature selection\n",
    "from sklearn.feature_selection import RFE\n",
    "from sklearn.svm import SVR\n",
    "\n",
    "# Import 3 SciKit Learn classifiers\n",
    "from sklearn.ensemble import RandomForestClassifier\n",
    "from sklearn import tree\n",
    "from sklearn.linear_model import LogisticRegression\n",
    "\n",
    "# Classification setup and eval\n",
    "from sklearn.model_selection import train_test_split\n",
    "from sklearn.metrics import f1_score\n",
    "import statistics\n",
    "\n",
    "# Plotting\n",
    "import matplotlib.pyplot as plt"
   ]
  },
  {
   "cell_type": "markdown",
   "id": "0d3c6e0a-c4c3-49b0-b95f-950625022961",
   "metadata": {},
   "source": [
    "### Read data"
   ]
  },
  {
   "cell_type": "markdown",
   "id": "c35a4153-09e1-4739-9943-411e9a04a0e1",
   "metadata": {},
   "source": [
    "#### Input read"
   ]
  },
  {
   "cell_type": "code",
   "execution_count": 7,
   "id": "45d6d76b-10d6-40fa-9741-369884b6ffa4",
   "metadata": {},
   "outputs": [
    {
     "data": {
      "text/plain": [
       "['../data/r72/nc5_transcriptomics_cell-line+CPTAC.tsv',\n",
       " '../data/r72/nc2_transcriptomics_HCMI+CPTAC.tsv']"
      ]
     },
     "execution_count": 7,
     "metadata": {},
     "output_type": "execute_result"
    }
   ],
   "source": [
    "# phase = 'Input'\n",
    "inp_pths = sorted(\n",
    "    glob.glob('../data/r72/*.tsv'), reverse = True)\n",
    "inp_pths"
   ]
  },
  {
   "cell_type": "markdown",
   "id": "9387d749-7245-4a5b-b33e-2f8516c53a9a",
   "metadata": {
    "jp-MarkdownHeadingCollapsed": true
   },
   "source": [
    "##### Check label capitalization on input paths"
   ]
  },
  {
   "cell_type": "code",
   "execution_count": 9,
   "id": "c490bf74-2233-4e72-84dc-66c4a06beb2e",
   "metadata": {},
   "outputs": [
    {
     "name": "stdout",
     "output_type": "stream",
     "text": [
      "['cell-line' 'cptac']\n",
      "['cptac' 'hcmi']\n"
     ]
    }
   ],
   "source": [
    "for inp_pth in inp_pths:\n",
    "    df = pd.read_csv(\n",
    "        inp_pth, sep = '\\t', index_col = 0)\n",
    "    print(df.System.unique())"
   ]
  },
  {
   "cell_type": "code",
   "execution_count": null,
   "id": "c9a8d399-07d2-4191-9471-4c7ea53b82dc",
   "metadata": {},
   "outputs": [],
   "source": [
    "# Conclusion - MBatch rebuild script converted to caps\n",
    "    # archive caps versions\n",
    "    # conver to lowercase and re-write"
   ]
  },
  {
   "cell_type": "markdown",
   "id": "b70d9b49-6104-43cf-a9ff-12a5120ac260",
   "metadata": {},
   "source": [
    "#### MBatch"
   ]
  },
  {
   "cell_type": "code",
   "execution_count": 22,
   "id": "e2641fee-9509-4086-bea0-94e3f16a4dda",
   "metadata": {},
   "outputs": [
    {
     "data": {
      "text/plain": [
       "['../results/r72/mbatch/nc5_transcriptomics_cell-line+CPTAC.tsv',\n",
       " '../results/r72/mbatch/nc2_transcriptomics_HCMI+CPTAC.tsv']"
      ]
     },
     "execution_count": 22,
     "metadata": {},
     "output_type": "execute_result"
    }
   ],
   "source": [
    "# phase = 'MBatch'\n",
    "mb_pths = sorted(\n",
    "    glob.glob('../results/r72/mbatch/*.tsv'), reverse = True)\n",
    "mb_pths"
   ]
  },
  {
   "cell_type": "markdown",
   "id": "68c52cdf-0699-46be-875d-5ed5126feef7",
   "metadata": {
    "jp-MarkdownHeadingCollapsed": true
   },
   "source": [
    "##### MBatch i-o de-capitilize"
   ]
  },
  {
   "cell_type": "code",
   "execution_count": 15,
   "id": "94414391-a9bc-4d35-86d5-714daf716a3f",
   "metadata": {},
   "outputs": [
    {
     "name": "stdout",
     "output_type": "stream",
     "text": [
      "['cell-line' 'CPTAC']\n",
      "['CPTAC' 'HCMI']\n"
     ]
    }
   ],
   "source": [
    "for mb_pth in mb_pths:\n",
    "    df = pd.read_csv(\n",
    "        mb_pth, sep = '\\t', index_col = 0)\n",
    "    print(df.System.unique())"
   ]
  },
  {
   "cell_type": "code",
   "execution_count": 21,
   "id": "0cb3cf7f-bebd-4549-8abf-132cf28e192d",
   "metadata": {},
   "outputs": [
    {
     "name": "stdout",
     "output_type": "stream",
     "text": [
      "['cell-line' 'CPTAC']\n",
      "['cell-line' 'cptac']\n",
      " \n",
      "['CPTAC' 'HCMI']\n",
      "['cptac' 'hcmi']\n",
      " \n"
     ]
    }
   ],
   "source": [
    "mb_pths = sorted(\n",
    "    glob.glob('../results/r72/mbatch/cap_lbls_archive/*.tsv'), reverse = True)\n",
    "for mb_pth in mb_pths:\n",
    "    # print(mb_pth)\n",
    "    f_nm = mb_pth.split('/')[-1]\n",
    "    df = pd.read_csv(\n",
    "        mb_pth, sep = '\\t', index_col = 0)\n",
    "    print(df.System.unique())\n",
    "\n",
    "    df['System'] = df['System'].str.lower()\n",
    "    \n",
    "    print(df.System.unique())\n",
    "\n",
    "    df.to_csv(\n",
    "        '../results/r72/mbatch/'+f_nm,\n",
    "        sep = '\\t')\n",
    "    print(' ')\n",
    "    # break"
   ]
  },
  {
   "cell_type": "code",
   "execution_count": 19,
   "id": "3d06ea37-5d03-40b7-b50f-ab63a9cf3b9d",
   "metadata": {},
   "outputs": [],
   "source": [
    "f_nm = mb_pth.split('/')[-1]"
   ]
  },
  {
   "cell_type": "code",
   "execution_count": 20,
   "id": "7ae04232-ea47-4912-bf33-9cefe2c51e38",
   "metadata": {},
   "outputs": [
    {
     "data": {
      "text/plain": [
       "'nc5_transcriptomics_cell-line+CPTAC.tsv'"
      ]
     },
     "execution_count": 20,
     "metadata": {},
     "output_type": "execute_result"
    }
   ],
   "source": [
    "f_nm"
   ]
  },
  {
   "cell_type": "markdown",
   "id": "3011eee1-2c3f-4299-9904-cc4784d7d486",
   "metadata": {},
   "source": [
    "#### VAE"
   ]
  },
  {
   "cell_type": "code",
   "execution_count": 5,
   "id": "e1b3337a-7de8-40fe-b82a-dd9c801ce4a9",
   "metadata": {},
   "outputs": [
    {
     "name": "stdout",
     "output_type": "stream",
     "text": [
      "2024-03-11-latent_space_1.tsv\n"
     ]
    }
   ],
   "source": [
    "ls ../results/r72/vae/"
   ]
  },
  {
   "cell_type": "code",
   "execution_count": 6,
   "id": "52fd612b-2aee-4c13-8f41-090e1a0ba014",
   "metadata": {},
   "outputs": [
    {
     "data": {
      "text/plain": [
       "['../results/r72/vae/2024-03-11-latent_space_1.tsv']"
      ]
     },
     "execution_count": 6,
     "metadata": {},
     "output_type": "execute_result"
    }
   ],
   "source": [
    "# phase = 'VAE'\n",
    "vae_pths = sorted(\n",
    "    glob.glob('../results/r72/vae/*.tsv'))\n",
    "phase_pths"
   ]
  },
  {
   "cell_type": "markdown",
   "id": "57044056-445e-47be-805d-cf70fa37e175",
   "metadata": {
    "jp-MarkdownHeadingCollapsed": true
   },
   "source": [
    "#### Tybalt"
   ]
  },
  {
   "cell_type": "code",
   "execution_count": null,
   "id": "83a9faf2-b6bd-4129-a13e-6bd34c65d6d9",
   "metadata": {},
   "outputs": [],
   "source": [
    "vae # run Tybalt for baseline"
   ]
  },
  {
   "cell_type": "code",
   "execution_count": null,
   "id": "27109080-6785-46b4-b5e5-523705e253a2",
   "metadata": {},
   "outputs": [],
   "source": [
    "# skip RFE for now, start with 3 clf on raw and mbatch"
   ]
  },
  {
   "cell_type": "markdown",
   "id": "0f46e028-dc49-4624-a6a5-15b8bea94808",
   "metadata": {
    "jp-MarkdownHeadingCollapsed": true
   },
   "source": [
    "### RFE"
   ]
  },
  {
   "cell_type": "code",
   "execution_count": null,
   "id": "2fa42486-ff6d-44c8-8126-2329157c4ba1",
   "metadata": {},
   "outputs": [],
   "source": [
    "for pth in inp:\n",
    "    df = pd.read_csv(\n",
    "        pth, sep = '\\t', index_col = 0)\n",
    "    X = df.iloc[:, 2:]\n",
    "    break"
   ]
  },
  {
   "cell_type": "code",
   "execution_count": null,
   "id": "f837add9-7a33-4f97-b588-3f2ce69f1f3a",
   "metadata": {},
   "outputs": [],
   "source": [
    "df"
   ]
  },
  {
   "cell_type": "code",
   "execution_count": null,
   "id": "45fb3fba-c6cc-4370-a703-741b4a16f809",
   "metadata": {},
   "outputs": [],
   "source": [
    "estimator = SVR(kernel=\"linear\")\n",
    "rfe = RFE(estimator=estimator, n_features_to_select=10, step=0.5)\n",
    "file_n = pd.read_csv(pth, sep = '\\t', index_col = 0) # read validation split file\n",
    "X = file_n.iloc[:, 1:]\n",
    "y = file_n.iloc[:, 0]\n",
    "rfe.fit(X, y)\n",
    "mask = rfe.support_\n",
    "vs_dict[vs] = json.dumps(list(X.columns[mask]))"
   ]
  },
  {
   "cell_type": "markdown",
   "id": "b4a19dea-b1bf-46a6-9a9f-b28b30c8405a",
   "metadata": {},
   "source": [
    "### Clf"
   ]
  },
  {
   "cell_type": "code",
   "execution_count": null,
   "id": "24237a5d-0124-42ed-b73c-e5acb19c1ffe",
   "metadata": {},
   "outputs": [],
   "source": [
    "inp[toggle_val]"
   ]
  },
  {
   "cell_type": "code",
   "execution_count": null,
   "id": "e1179b4a-edee-4106-90b7-cf371a29ebf7",
   "metadata": {},
   "outputs": [],
   "source": [
    "df"
   ]
  },
  {
   "cell_type": "code",
   "execution_count": null,
   "id": "4f2ee105-18f3-4424-b7c0-af886625481a",
   "metadata": {},
   "outputs": [],
   "source": [
    "df.System.unique()"
   ]
  },
  {
   "cell_type": "code",
   "execution_count": null,
   "id": "83e58c67-9b50-4853-92e5-4131a653e2fa",
   "metadata": {},
   "outputs": [],
   "source": [
    "pth"
   ]
  },
  {
   "cell_type": "code",
   "execution_count": null,
   "id": "42d41d9d-4f3a-4fc8-8114-2e4d836f1ad5",
   "metadata": {},
   "outputs": [],
   "source": [
    "trn_i"
   ]
  },
  {
   "cell_type": "code",
   "execution_count": null,
   "id": "f5a0f21a-90ad-42d7-b792-282a5eb289a8",
   "metadata": {},
   "outputs": [],
   "source": [
    "non_human_train_df"
   ]
  },
  {
   "cell_type": "code",
   "execution_count": null,
   "id": "b2d2c969-5ccc-429d-b564-de7f19284ca4",
   "metadata": {},
   "outputs": [],
   "source": [
    "train_list[toggle_val]"
   ]
  },
  {
   "cell_type": "code",
   "execution_count": null,
   "id": "da57f82c-57e7-4199-be9c-cc47fcc414c9",
   "metadata": {},
   "outputs": [],
   "source": [
    "CPTAC_df"
   ]
  },
  {
   "cell_type": "code",
   "execution_count": null,
   "id": "646ceb92-52c1-47a9-b74a-72502f06ecb1",
   "metadata": {},
   "outputs": [],
   "source": [
    "print('Begin 3 clf on ', phase)\n",
    "print('Input files:\\n', inp)\n",
    "print(' ')\n",
    "\n",
    "clf_list = [RandomForestClassifier(max_depth=2, random_state=0),\n",
    "            tree.DecisionTreeClassifier(),\n",
    "            LogisticRegression(random_state=0, max_iter=5000)]\n",
    "\n",
    "train_list = ['cell-line', 'HCMI']\n",
    "\n",
    "toggle_val = 1\n",
    "\n",
    "# for trn_i, pth in enumerate(inp[toggle_val]):\n",
    "for pth in [phase_pths[toggle_val]]:\n",
    "    # break\n",
    "    df = pd.read_csv(\n",
    "        pth, sep = '\\t', index_col = 0)\n",
    "    # break\n",
    "    # Train on cell line, n = 261\n",
    "    non_human_train_df = df[df.System == train_list[toggle_val]]\n",
    "    X = non_human_train_df.iloc[:, 2:]\n",
    "\n",
    "    if toggle_val == 0:\n",
    "        CPTAC_df = df[df.System == 'CPTAC']\n",
    "    else:\n",
    "        CPTAC_df = df[df.System == 'CPTAC']\n",
    "\n",
    "    # Store scores by clf\n",
    "    clf_i_list = ['RF', 'DT', 'LR',]\n",
    "    clf_score_dict = {}\n",
    "    for clf_i, clf in enumerate(clf_list):\n",
    "\n",
    "        for cv_split in list(range(0,1)):\n",
    "\n",
    "            clf.fit(X,\n",
    "                    non_human_train_df.Cancer_type)\n",
    "    \n",
    "            score = f1_score(CPTAC_df.Cancer_type,\n",
    "                             clf.predict(CPTAC_df.iloc[:, 2:]),\n",
    "                             average = 'weighted')\n",
    "            clf_score_dict[clf_i_list[clf_i]] = score\n",
    "            # break\n",
    "        print(' ')\n",
    "        # break\n",
    "    # break # cell line, HCMI\n",
    "print('done')"
   ]
  },
  {
   "cell_type": "code",
   "execution_count": null,
   "id": "3b30e4de-80be-4e97-b466-83ffff0f5e26",
   "metadata": {},
   "outputs": [],
   "source": [
    "print(phase)\n",
    "print(train_list[toggle_val])\n",
    "clf_score_dict"
   ]
  },
  {
   "cell_type": "code",
   "execution_count": null,
   "id": "c40b0a9b-75a1-4a67-8340-9ba17d562cce",
   "metadata": {},
   "outputs": [],
   "source": [
    "CPTAC_df"
   ]
  },
  {
   "cell_type": "code",
   "execution_count": null,
   "id": "0e0c61ec-2e72-416f-8012-9b073dd7d314",
   "metadata": {},
   "outputs": [],
   "source": [
    "cell_line_df"
   ]
  },
  {
   "cell_type": "markdown",
   "id": "d433c361-6493-491c-a140-b605138445ae",
   "metadata": {},
   "source": [
    "#### Devel"
   ]
  },
  {
   "cell_type": "code",
   "execution_count": null,
   "id": "d7aa68e4-de0f-468d-8b52-39e5a21c656f",
   "metadata": {
    "scrolled": true
   },
   "outputs": [],
   "source": [
    "df.System.unique()"
   ]
  },
  {
   "cell_type": "code",
   "execution_count": null,
   "id": "7c9b8028-35a4-4041-a199-9885a910a4cc",
   "metadata": {},
   "outputs": [],
   "source": [
    "df.System.value_counts()"
   ]
  },
  {
   "cell_type": "code",
   "execution_count": null,
   "id": "2481b0e4-2aa9-49ba-b034-b67abb9e70b7",
   "metadata": {},
   "outputs": [],
   "source": [
    "df.Cancer_type.unique()"
   ]
  },
  {
   "cell_type": "code",
   "execution_count": null,
   "id": "46760e3c-da2e-477a-9b32-43c6b28a7971",
   "metadata": {},
   "outputs": [],
   "source": [
    "df.Cancer_type.value_counts()"
   ]
  },
  {
   "cell_type": "markdown",
   "id": "e902194e-3147-4318-acd7-d2b12b9a6398",
   "metadata": {},
   "source": [
    "#### Notes"
   ]
  },
  {
   "cell_type": "code",
   "execution_count": null,
   "id": "3d63479e-9332-470d-be6f-f5964d474be8",
   "metadata": {},
   "outputs": [],
   "source": [
    "# clf = tree.DecisionTreeClassifier()\n",
    "# clf = LogisticRegression(random_state=0).fit(X, y)"
   ]
  }
 ],
 "metadata": {
  "kernelspec": {
   "display_name": "Python 3 (ipykernel)",
   "language": "python",
   "name": "python3"
  },
  "language_info": {
   "codemirror_mode": {
    "name": "ipython",
    "version": 3
   },
   "file_extension": ".py",
   "mimetype": "text/x-python",
   "name": "python",
   "nbconvert_exporter": "python",
   "pygments_lexer": "ipython3",
   "version": "3.10.8"
  }
 },
 "nbformat": 4,
 "nbformat_minor": 5
}
