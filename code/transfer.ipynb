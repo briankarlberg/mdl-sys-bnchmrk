{
 "cells": [
  {
   "cell_type": "markdown",
   "id": "59f4a06d-d172-4737-a94a-175836a294fb",
   "metadata": {},
   "source": [
    "# R72"
   ]
  },
  {
   "cell_type": "code",
   "execution_count": null,
   "id": "24515ada-bf16-4302-b929-0aba1e8214d6",
   "metadata": {},
   "outputs": [],
   "source": [
    "# R7 was redo indiv files\n",
    "# this is the concat of those files"
   ]
  },
  {
   "cell_type": "code",
   "execution_count": 1,
   "id": "68d081e0-8b29-4b6b-abe4-8529629d395e",
   "metadata": {},
   "outputs": [],
   "source": [
    "# Transfer learning test\n",
    "# Train on cell line or HCMI\n",
    "# Predict on CPTAC (human)\n",
    "\n",
    "# check rf note book for templates\n",
    "# Start with multiclass (cell line), no RFE"
   ]
  },
  {
   "cell_type": "code",
   "execution_count": 3,
   "id": "7d6ddeb3-b3fb-4a5b-85f3-aea24641e74c",
   "metadata": {},
   "outputs": [
    {
     "name": "stdout",
     "output_type": "stream",
     "text": [
      "Variable                 Type        Data/Info\n",
      "----------------------------------------------\n",
      "LogisticRegression       type        <class 'sklearn.linear_mo<...>stic.LogisticRegression'>\n",
      "RFE                      ABCMeta     <class 'sklearn.feature_selection._rfe.RFE'>\n",
      "RandomForestClassifier   ABCMeta     <class 'sklearn.ensemble.<...>.RandomForestClassifier'>\n",
      "SVR                      ABCMeta     <class 'sklearn.svm._classes.SVR'>\n",
      "f1_score                 function    <function f1_score at 0x15b2e35b0>\n",
      "glob                     module      <module 'glob' from '/Use<...>/lib/python3.10/glob.py'>\n",
      "itertools                module      <module 'itertools' (built-in)>\n",
      "pd                       module      <module 'pandas' from '/U<...>ages/pandas/__init__.py'>\n",
      "plt                      module      <module 'matplotlib.pyplo<...>es/matplotlib/pyplot.py'>\n",
      "statistics               module      <module 'statistics' from<...>ython3.10/statistics.py'>\n",
      "train_test_split         function    <function train_test_split at 0x15b873ac0>\n",
      "tree                     module      <module 'sklearn.tree' fr<...>klearn/tree/__init__.py'>\n"
     ]
    }
   ],
   "source": [
    "%whos"
   ]
  },
  {
   "cell_type": "code",
   "execution_count": 2,
   "id": "ce4d0e57-6692-41c5-be98-a33677884dc6",
   "metadata": {},
   "outputs": [],
   "source": [
    "# Data handling & comparision setup\n",
    "import pandas as pd\n",
    "import glob\n",
    "import itertools\n",
    "\n",
    "# Feature selection\n",
    "from sklearn.feature_selection import RFE\n",
    "from sklearn.svm import SVR\n",
    "\n",
    "# Import 3 SciKit Learn classifiers\n",
    "from sklearn.ensemble import RandomForestClassifier\n",
    "from sklearn import tree\n",
    "from sklearn.linear_model import LogisticRegression\n",
    "\n",
    "# Classification setup and eval\n",
    "from sklearn.model_selection import train_test_split\n",
    "from sklearn.metrics import f1_score\n",
    "import statistics\n",
    "\n",
    "# Plotting\n",
    "import matplotlib.pyplot as plt"
   ]
  },
  {
   "cell_type": "code",
   "execution_count": 13,
   "id": "45d6d76b-10d6-40fa-9741-369884b6ffa4",
   "metadata": {},
   "outputs": [],
   "source": [
    "inp = sorted(\n",
    "    glob.glob('../data/r72/*.tsv'), reverse = True)"
   ]
  },
  {
   "cell_type": "code",
   "execution_count": 14,
   "id": "fe266154-43c2-478d-86ca-21343b418e0c",
   "metadata": {},
   "outputs": [
    {
     "data": {
      "text/plain": [
       "['../data/r72/nc5_transcriptomics_cell-line+CPTAC.tsv',\n",
       " '../data/r72/nc2_transcriptomics_HCMI+CPTAC.tsv']"
      ]
     },
     "execution_count": 14,
     "metadata": {},
     "output_type": "execute_result"
    }
   ],
   "source": [
    "inp"
   ]
  },
  {
   "cell_type": "code",
   "execution_count": 6,
   "id": "e2641fee-9509-4086-bea0-94e3f16a4dda",
   "metadata": {},
   "outputs": [],
   "source": [
    "mb = sorted(\n",
    "    glob.glob('../results/r72/mbatch/*.tsv'))"
   ]
  },
  {
   "cell_type": "code",
   "execution_count": 7,
   "id": "94414391-a9bc-4d35-86d5-714daf716a3f",
   "metadata": {},
   "outputs": [
    {
     "data": {
      "text/plain": [
       "['../results/r72/mbatch/nc2_transcriptomics_HCMI+CPTAC.tsv',\n",
       " '../results/r72/mbatch/nc5_transcriptomics_cell-line+CPTAC.tsv']"
      ]
     },
     "execution_count": 7,
     "metadata": {},
     "output_type": "execute_result"
    }
   ],
   "source": [
    "mb"
   ]
  },
  {
   "cell_type": "code",
   "execution_count": 8,
   "id": "52fd612b-2aee-4c13-8f41-090e1a0ba014",
   "metadata": {},
   "outputs": [],
   "source": [
    "vae = sorted(\n",
    "    glob.glob('../results/r72/*.tsv'))"
   ]
  },
  {
   "cell_type": "code",
   "execution_count": 9,
   "id": "83a9faf2-b6bd-4129-a13e-6bd34c65d6d9",
   "metadata": {},
   "outputs": [
    {
     "data": {
      "text/plain": [
       "[]"
      ]
     },
     "execution_count": 9,
     "metadata": {},
     "output_type": "execute_result"
    }
   ],
   "source": [
    "vae # run Tybalt for baseline"
   ]
  },
  {
   "cell_type": "code",
   "execution_count": null,
   "id": "27109080-6785-46b4-b5e5-523705e253a2",
   "metadata": {},
   "outputs": [],
   "source": [
    "# skip RFE for now, start with 3 clf on raw and mbatch"
   ]
  },
  {
   "cell_type": "markdown",
   "id": "0f46e028-dc49-4624-a6a5-15b8bea94808",
   "metadata": {
    "jp-MarkdownHeadingCollapsed": true
   },
   "source": [
    "### RFE"
   ]
  },
  {
   "cell_type": "code",
   "execution_count": 11,
   "id": "2fa42486-ff6d-44c8-8126-2329157c4ba1",
   "metadata": {},
   "outputs": [],
   "source": [
    "for pth in inp:\n",
    "    df = pd.read_csv(\n",
    "        pth, sep = '\\t', index_col = 0)\n",
    "    X = df.iloc[:, 2:]\n",
    "    break"
   ]
  },
  {
   "cell_type": "code",
   "execution_count": null,
   "id": "f837add9-7a33-4f97-b588-3f2ce69f1f3a",
   "metadata": {},
   "outputs": [],
   "source": [
    "df"
   ]
  },
  {
   "cell_type": "code",
   "execution_count": null,
   "id": "45fb3fba-c6cc-4370-a703-741b4a16f809",
   "metadata": {},
   "outputs": [],
   "source": [
    "estimator = SVR(kernel=\"linear\")\n",
    "rfe = RFE(estimator=estimator, n_features_to_select=10, step=0.5)\n",
    "file_n = pd.read_csv(pth, sep = '\\t', index_col = 0) # read validation split file\n",
    "X = file_n.iloc[:, 1:]\n",
    "y = file_n.iloc[:, 0]\n",
    "rfe.fit(X, y)\n",
    "mask = rfe.support_\n",
    "vs_dict[vs] = json.dumps(list(X.columns[mask]))"
   ]
  },
  {
   "cell_type": "markdown",
   "id": "b4a19dea-b1bf-46a6-9a9f-b28b30c8405a",
   "metadata": {},
   "source": [
    "### Clf"
   ]
  },
  {
   "cell_type": "code",
   "execution_count": null,
   "id": "646ceb92-52c1-47a9-b74a-72502f06ecb1",
   "metadata": {},
   "outputs": [],
   "source": [
    "print('Begin 3 clf on input')\n",
    "print('Input files:', np)\n",
    "for pth in inp:\n",
    "    df = pd.read_csv(\n",
    "        pth, sep = '\\t', index_col = 0)\n",
    "    X = df.iloc[:, 2:]\n",
    "    break"
   ]
  },
  {
   "cell_type": "code",
   "execution_count": null,
   "id": "3d63479e-9332-470d-be6f-f5964d474be8",
   "metadata": {},
   "outputs": [],
   "source": [
    "# clf = tree.DecisionTreeClassifier()\n",
    "# clf = LogisticRegression(random_state=0).fit(X, y)"
   ]
  }
 ],
 "metadata": {
  "kernelspec": {
   "display_name": "Python 3 (ipykernel)",
   "language": "python",
   "name": "python3"
  },
  "language_info": {
   "codemirror_mode": {
    "name": "ipython",
    "version": 3
   },
   "file_extension": ".py",
   "mimetype": "text/x-python",
   "name": "python",
   "nbconvert_exporter": "python",
   "pygments_lexer": "ipython3",
   "version": "3.10.8"
  }
 },
 "nbformat": 4,
 "nbformat_minor": 5
}
