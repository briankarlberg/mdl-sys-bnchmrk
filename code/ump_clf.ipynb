{
 "cells": [
  {
   "cell_type": "code",
   "execution_count": null,
   "id": "f6bfc5b4-7d3b-4392-8139-06fa13671ce4",
   "metadata": {},
   "outputs": [],
   "source": [
    "# Run UMAPs, classifiers, and distance metrics\n",
    "    # on input-data/\n",
    "    # on mbatch-out/\n",
    "    # on vae-out/\n",
    "\n",
    "    # target outdir: ..results/<bnchmrk-phs>/r5/r5-fgs/\n"
   ]
  },
  {
   "cell_type": "raw",
   "id": "096653e7-3c6c-4745-a872-aba42308c27d",
   "metadata": {},
   "source": [
    "pwd\n",
    "mdl-sys-bnchmrk/code"
   ]
  },
  {
   "cell_type": "code",
   "execution_count": 2,
   "id": "8668c06b-fe4a-4945-9c21-a5012a75935f",
   "metadata": {},
   "outputs": [
    {
     "name": "stdout",
     "output_type": "stream",
     "text": [
      "Interactive namespace is empty.\n"
     ]
    }
   ],
   "source": [
    "%whos"
   ]
  },
  {
   "cell_type": "markdown",
   "id": "6f02ff90-880a-41d5-9d91-fd61a9b7b8a6",
   "metadata": {
    "jp-MarkdownHeadingCollapsed": true
   },
   "source": [
    "##### rfe"
   ]
  },
  {
   "cell_type": "code",
   "execution_count": 5,
   "id": "3a62acec-82eb-403f-a4af-9ceeffb9b303",
   "metadata": {},
   "outputs": [],
   "source": [
    "from sklearn.feature_selection import RFE\n",
    "from sklearn.svm import SVR"
   ]
  },
  {
   "cell_type": "code",
   "execution_count": null,
   "id": "de85de95-bca9-4eac-932f-5df5cba02d75",
   "metadata": {},
   "outputs": [],
   "source": [
    "rfe = RFE(estimator=estimator, n_features_to_select=10, step=10)\n",
    "file_n = pd.read_csv(pth, sep = '\\t', index_col = 0) # read validation split file\n",
    "X = file_n.iloc[:, 1:]\n",
    "y = file_n.iloc[:, 0]\n",
    "rfe.fit(X, y)\n",
    "mask = rfe.support_\n",
    "vs_dict[vs] = json.dumps(list(X.columns[mask]))"
   ]
  },
  {
   "cell_type": "markdown",
   "id": "4dab19ff-ee98-4b21-b011-fc19b7b4aed4",
   "metadata": {
    "jp-MarkdownHeadingCollapsed": true
   },
   "source": [
    "##### dt and logreg devel"
   ]
  },
  {
   "cell_type": "code",
   "execution_count": 6,
   "id": "bcee3135-3c6c-4cdd-b3ee-016fba316327",
   "metadata": {},
   "outputs": [],
   "source": [
    "from sklearn import tree\n",
    "# clf = tree.DecisionTreeClassifier()"
   ]
  },
  {
   "cell_type": "code",
   "execution_count": 7,
   "id": "9eccb7cc-4a94-478c-b5de-918af4f634c5",
   "metadata": {},
   "outputs": [],
   "source": [
    "from sklearn.linear_model import LogisticRegression\n",
    "# clf = LogisticRegression(random_state=0).fit(X, y)"
   ]
  },
  {
   "cell_type": "markdown",
   "id": "1cd69bc9-a934-47f8-80bd-845fc1ce7683",
   "metadata": {},
   "source": [
    "#### Imports"
   ]
  },
  {
   "cell_type": "code",
   "execution_count": 1,
   "id": "ac229b62-1309-47b0-b1a4-2aab78657e35",
   "metadata": {},
   "outputs": [],
   "source": [
    "# Data handling\n",
    "import pandas as pd\n",
    "import glob as glob\n",
    "import itertools\n",
    "import time"
   ]
  },
  {
   "cell_type": "code",
   "execution_count": null,
   "id": "8f8fdfe6-56b7-4780-b721-580ac8c755d8",
   "metadata": {},
   "outputs": [],
   "source": [
    "# RF\n",
    "from sklearn.ensemble import RandomForestClassifier\n",
    "from sklearn.model_selection import train_test_split\n",
    "from sklearn.metrics import f1_score\n",
    "import statistics\n",
    "import matplotlib.pyplot as plt\n",
    "\n",
    "# MMD\n",
    "import numpy as np\n",
    "from sklearn.metrics.pairwise import rbf_kernel\n",
    "\n",
    "# Dstnc, othr\n",
    "import tensorflow as tf\n",
    "from scipy.spatial.distance import euclidean\n",
    "from scipy.spatial.distance import cdist\n",
    "\n",
    "# UMAP\n",
    "import umap\n",
    "import os\n",
    "from matplotlib.lines import Line2D"
   ]
  },
  {
   "cell_type": "markdown",
   "id": "c3f65222-43b9-4f82-ad75-5325a575b436",
   "metadata": {
    "jp-MarkdownHeadingCollapsed": true
   },
   "source": [
    "#### Start"
   ]
  },
  {
   "cell_type": "code",
   "execution_count": null,
   "id": "302b4558-fc6e-41fa-a703-925b5ce7d4cc",
   "metadata": {},
   "outputs": [],
   "source": [
    "systems = 'cell-line+CPTAC' # add beat aml, cptac\n",
    "modality = 'transcriptomics'"
   ]
  },
  {
   "cell_type": "code",
   "execution_count": null,
   "id": "e1970907-cfe8-4c18-b2a5-87f449063937",
   "metadata": {},
   "outputs": [],
   "source": []
  },
  {
   "cell_type": "markdown",
   "id": "9b9efc59-b734-4579-93d9-fccfdc12c8f2",
   "metadata": {},
   "source": [
    "#### Input, mbatch, vae file reads"
   ]
  },
  {
   "cell_type": "markdown",
   "id": "723e17e7-4b22-41ba-a77b-58f3cc25929f",
   "metadata": {
    "jp-MarkdownHeadingCollapsed": true
   },
   "source": [
    "##### cancers list template"
   ]
  },
  {
   "cell_type": "code",
   "execution_count": null,
   "id": "074861c1-e562-4149-8546-f1c7b51cdda1",
   "metadata": {},
   "outputs": [],
   "source": [
    "cancer_types = ['breast-ductal',\n",
    "    'breast-lobular',\n",
    "    'breast-nos',\n",
    "    'colon-adeno',\n",
    "    'glioblastoma',\n",
    "    'head-neck',\n",
    "    'lung-adeno',\n",
    "    'pancreatic-adeno',\n",
    "    'renal-clear-cell']"
   ]
  },
  {
   "cell_type": "markdown",
   "id": "c0926ea5-d6e1-4967-a07b-976e8f7fbcd2",
   "metadata": {
    "jp-MarkdownHeadingCollapsed": true
   },
   "source": [
    "##### r_n"
   ]
  },
  {
   "cell_type": "code",
   "execution_count": 4,
   "id": "07b2aabc-7d92-4b8e-becf-38240e030998",
   "metadata": {},
   "outputs": [],
   "source": [
    "r = 'r5'"
   ]
  },
  {
   "cell_type": "markdown",
   "id": "0fda4216-4fe9-4029-ad11-613b03a85a20",
   "metadata": {},
   "source": [
    "##### One cancer file sets"
   ]
  },
  {
   "cell_type": "code",
   "execution_count": 15,
   "id": "8313dea0-cbec-4d38-a734-2be3bc64e6fd",
   "metadata": {},
   "outputs": [
    {
     "name": "stdout",
     "output_type": "stream",
     "text": [
      "File count:  25\n"
     ]
    },
    {
     "data": {
      "text/plain": [
       "'cell-line+BeatAML'"
      ]
     },
     "execution_count": 15,
     "metadata": {},
     "output_type": "execute_result"
    }
   ],
   "source": [
    "# Set input (raw data) to file set n\n",
    "phase = 'input-data'\n",
    "phase_name = 'Input data'\n",
    "pths_n = sorted(glob.glob('../results/input-data/'+r+'/'+r+'-fls/*'))\n",
    "print('File count: ', len(pths_n))"
   ]
  },
  {
   "cell_type": "markdown",
   "id": "4223cbb4-00bf-4035-acfb-0b96cbbdd291",
   "metadata": {
    "jp-MarkdownHeadingCollapsed": true
   },
   "source": [
    "###### mbatch"
   ]
  },
  {
   "cell_type": "code",
   "execution_count": 70,
   "id": "8c890797-38cf-4b36-b442-64256b4406d3",
   "metadata": {},
   "outputs": [
    {
     "name": "stdout",
     "output_type": "stream",
     "text": [
      "File count:  13\n",
      "brain_transcriptomics_HCMI+CPTAC.tsv\n",
      " renal-clear-cell_transcriptomics_cell-line+CPTAC.tsv\n"
     ]
    }
   ],
   "source": [
    "# Set input (mbatch data) to file set n\n",
    "phase = 'mbatch-out'\n",
    "phase_name = 'Mbatch corrected'\n",
    "pths_n = sorted(glob.glob('../results/mbatch-out/'+r+'/'+r+'-fls/*'))\n",
    "print('File count: ', len(pths_n))"
   ]
  },
  {
   "cell_type": "code",
   "execution_count": 83,
   "id": "ebacd5d7-d443-49d3-bead-988f8c63edce",
   "metadata": {},
   "outputs": [
    {
     "name": "stdout",
     "output_type": "stream",
     "text": [
      "File count:  25\n"
     ]
    }
   ],
   "source": [
    "# Set input (vae data) to file set n\n",
    "phase = 'vae-out'\n",
    "phase_name = 'VAE corrected'\n",
    "pths_n = sorted(glob.glob('../results/vae-out/'+r+'/'+r+'-fls/*.tsv'))\n",
    "print('File count: ', len(pths_n))"
   ]
  },
  {
   "cell_type": "code",
   "execution_count": null,
   "id": "8bb1a606-a210-45c3-aca1-cf57968d6b9c",
   "metadata": {},
   "outputs": [],
   "source": [
    "pths_n"
   ]
  },
  {
   "cell_type": "markdown",
   "id": "2db92c6f-66d7-4d1f-bc87-a26a96ce52da",
   "metadata": {},
   "source": [
    "##### One cancer MMD"
   ]
  },
  {
   "cell_type": "markdown",
   "id": "7127786d-2fb3-4073-b030-70f1c6e4d6c2",
   "metadata": {
    "jp-MarkdownHeadingCollapsed": true
   },
   "source": [
    "###### mmd func"
   ]
  },
  {
   "cell_type": "code",
   "execution_count": 68,
   "id": "aa3bf56f-932c-4414-85e2-6c77eb78fa19",
   "metadata": {},
   "outputs": [],
   "source": [
    "def compute_mmd(bio_mrk_1, bio_mrk_2, gamma=.0001):\n",
    "    K_XX = rbf_kernel(bio_mrk_1, bio_mrk_1, gamma=gamma)\n",
    "    K_XY = rbf_kernel(bio_mrk_1, bio_mrk_2, gamma=gamma)\n",
    "    K_YY = rbf_kernel(bio_mrk_2, bio_mrk_2, gamma=gamma)\n",
    "\n",
    "    m = bio_mrk_1.shape[0]\n",
    "    n = bio_mrk_2.shape[0]\n",
    "\n",
    "    mmd = (np.sum(K_XX) - np.trace(K_XX)) / (m * (m - 1))\n",
    "    mmd += (np.sum(K_YY) - np.trace(K_YY)) / (n * (n - 1))\n",
    "    mmd -= 2 * np.sum(K_XY) / (m * n)\n",
    "\n",
    "    # Ensure the MMD value is non-negative\n",
    "    mmd = np.maximum(mmd, 0)\n",
    "\n",
    "    return np.sqrt(mmd)"
   ]
  },
  {
   "cell_type": "markdown",
   "id": "54bf5b8d-8b59-4070-8671-ddf59f86fde4",
   "metadata": {},
   "source": [
    "###### MMD main "
   ]
  },
  {
   "cell_type": "code",
   "execution_count": 84,
   "id": "17b23b98-d621-416b-a23e-fe00db97c60c",
   "metadata": {
    "scrolled": true
   },
   "outputs": [
    {
     "name": "stdout",
     "output_type": "stream",
     "text": [
      "vae-out\n",
      "0\n",
      "1\n",
      "2\n",
      "3\n",
      "4\n",
      "5\n",
      "6\n",
      "7\n",
      "8\n",
      "9\n",
      "10\n",
      "11\n",
      "12\n",
      "13\n",
      "14\n",
      "15\n",
      "16\n",
      "17\n",
      "18\n",
      "19\n",
      "20\n",
      "21\n",
      "22\n",
      "23\n",
      "24\n"
     ]
    }
   ],
   "source": [
    "print(phase)\n",
    "\n",
    "# Get distances \n",
    "mmd = []\n",
    "# cos_sim = []\n",
    "axs_lst = [] # axes means of scipy cdist\n",
    "c_lst = []\n",
    "m_lst = []\n",
    "s_lst = []\n",
    "for pi, pth_n in enumerate(pths_n):\n",
    "    print(pi)\n",
    "    cancer = pth_n.split('/')[-1].split('_')[0]\n",
    "    modality = pth_n.split('/')[-1].split('_')[1]\n",
    "    systems = pth_n.split('/')[-1].split('_')[2].split('.')[0]\n",
    "\n",
    "    c_lst.append(cancer)\n",
    "    m_lst.append(modality)\n",
    "    s_lst.append(systems)\n",
    "    \n",
    "    df_n = pd.read_csv(\n",
    "        pth_n, sep = '\\t', index_col = 0)\n",
    "    ab = df_n.System.unique()\n",
    "    a = df_n[df_n.System == ab[0]]\n",
    "    b = df_n[df_n.System == ab[1]]\n",
    "    mmd.append(compute_mmd(a.iloc[:, 2:], b.iloc[:, 2:]))\n",
    "    axs_lst.append((np.mean(cdist(a.iloc[:, 2:], b.iloc[:, 2:], metric='euclidean'), axis=1).mean(),\n",
    "                    np.mean(cdist(a.iloc[:, 2:], b.iloc[:, 2:], metric='euclidean'), axis=0).mean()))\n",
    "    # break\n",
    "dstncs = pd.DataFrame({'mmd': mmd,\n",
    "                             'cancer': c_lst,\n",
    "                             'modality': m_lst,\n",
    "                             'systems': s_lst,\n",
    "                             'axs_mns': axs_lst})\n",
    "# df_n"
   ]
  },
  {
   "cell_type": "code",
   "execution_count": 87,
   "id": "d65f72fb-500f-46ed-a1de-e7ebbb9f4599",
   "metadata": {},
   "outputs": [],
   "source": [
    "vae_dstncs = dstncs"
   ]
  },
  {
   "cell_type": "code",
   "execution_count": 93,
   "id": "eddf59d8-b4c5-4c97-b1fe-69509eb31620",
   "metadata": {},
   "outputs": [],
   "source": [
    "vae_dstncs.to_csv(\n",
    "    '../results/stats-out/vae_dstncs_r5.tsv', sep = '\\t')"
   ]
  },
  {
   "cell_type": "code",
   "execution_count": null,
   "id": "2812c30a-bf22-4722-b55c-0380b5d7247a",
   "metadata": {},
   "outputs": [],
   "source": [
    "mbatch_dstncs"
   ]
  },
  {
   "cell_type": "markdown",
   "id": "3cf194b7-d861-4bb9-b741-b27fed382a9e",
   "metadata": {
    "jp-MarkdownHeadingCollapsed": true
   },
   "source": [
    "##### mbatch"
   ]
  },
  {
   "cell_type": "code",
   "execution_count": 75,
   "id": "225f4cbb-e73c-4eea-8a9a-1e885d9c9638",
   "metadata": {},
   "outputs": [],
   "source": [
    "mbatch_dstncs = dstncs"
   ]
  },
  {
   "cell_type": "code",
   "execution_count": 92,
   "id": "a0e62ce0-611a-4724-a22e-4f3d35862ea5",
   "metadata": {},
   "outputs": [],
   "source": [
    "mbatch_dstncs.to_csv(\n",
    "    '../results/stats-out/mbatch_dstncs_r5.tsv', sep = '\\t')"
   ]
  },
  {
   "cell_type": "code",
   "execution_count": 73,
   "id": "3e8d0baa-ad4c-4040-8bb2-49577e2cff0c",
   "metadata": {},
   "outputs": [
    {
     "data": {
      "text/plain": [
       "[0.0,\n",
       " 0.14927820658906296,\n",
       " 0.0,\n",
       " 0.23617940669949763,\n",
       " 0.24477738090155135,\n",
       " 0.19255011386163273,\n",
       " 0.0,\n",
       " 0.21338705729646135,\n",
       " 0.0,\n",
       " 0.0,\n",
       " 0.32557874415386895,\n",
       " 0.0,\n",
       " 0.26118309073188384]"
      ]
     },
     "execution_count": 73,
     "metadata": {},
     "output_type": "execute_result"
    }
   ],
   "source": [
    "mmd # mbatch, align with cancer type / modality coverage"
   ]
  },
  {
   "cell_type": "code",
   "execution_count": 72,
   "id": "4f417709-c940-4815-be8a-7c1ce99820f4",
   "metadata": {},
   "outputs": [],
   "source": [
    "mbatch_mmd_0001 = mmd"
   ]
  },
  {
   "cell_type": "markdown",
   "id": "460b1459-4331-44ff-a6cf-36e88557f069",
   "metadata": {},
   "source": [
    "##### Input dstncs"
   ]
  },
  {
   "cell_type": "code",
   "execution_count": null,
   "id": "c3c6c53f-de20-4f62-86b1-782af0c8bc79",
   "metadata": {},
   "outputs": [],
   "source": [
    "input-data"
   ]
  },
  {
   "cell_type": "code",
   "execution_count": 66,
   "id": "f554f49b-02b6-48c4-b79f-b5da3d46a561",
   "metadata": {
    "collapsed": true,
    "jupyter": {
     "outputs_hidden": true
    }
   },
   "outputs": [
    {
     "data": {
      "text/plain": [
       "[(76.94179143734988, 76.94179143734989),\n",
       " (304.5341333159213, 304.5341333159212),\n",
       " (16211.721988311636, 16211.721988311638),\n",
       " (1863.9358672951798, 1863.9358672951796),\n",
       " (708.363443031154, 708.363443031154),\n",
       " (16221.288638388125, 16221.288638388127),\n",
       " (1619.8829086837588, 1619.8829086837586),\n",
       " (693.003878875459, 693.0038788754589),\n",
       " (28106.88400184207, 28106.884001842074),\n",
       " (19579.504524197335, 19579.50452419734),\n",
       " (21002.703583700462, 21002.703583700466),\n",
       " (1888.9054863621745, 1888.9054863621745),\n",
       " (819.8558001056683, 819.8558001056684),\n",
       " (841.3313145573209, 841.3313145573209),\n",
       " (19052.4123716267, 19052.412371626702),\n",
       " (1844.6023976696295, 1844.602397669629),\n",
       " (818.6586597079089, 818.6586597079089),\n",
       " (19050.429159943138, 19050.429159943138),\n",
       " (14899.49049802119, 14899.490498021192),\n",
       " (13834.843774526276, 13834.843774526278),\n",
       " (1742.6994203649529, 1742.6994203649524),\n",
       " (833.401472101835, 833.4014721018348),\n",
       " (20002.578234002573, 20002.578234002573),\n",
       " (1846.6127531515694, 1846.6127531515694),\n",
       " (836.3068844008061, 836.3068844008062)]"
      ]
     },
     "execution_count": 66,
     "metadata": {},
     "output_type": "execute_result"
    }
   ],
   "source": [
    "inpt_axs_lst"
   ]
  },
  {
   "cell_type": "code",
   "execution_count": 65,
   "id": "2f6e0e77-b5eb-47f8-8b14-5288f2d7b3d9",
   "metadata": {},
   "outputs": [],
   "source": [
    "inpt_axs_lst = axs_lst"
   ]
  },
  {
   "cell_type": "code",
   "execution_count": 74,
   "id": "ae016ed1-d1ce-4405-8f8b-1ad0569a5699",
   "metadata": {},
   "outputs": [],
   "source": [
    "input_mmd_0001 = mmd_0001"
   ]
  },
  {
   "cell_type": "code",
   "execution_count": 48,
   "id": "c7a3dff6-a92a-4b0d-bcea-41ed78844a7e",
   "metadata": {},
   "outputs": [],
   "source": [
    "mmd_0001 = mmd"
   ]
  },
  {
   "cell_type": "code",
   "execution_count": 44,
   "id": "958c69eb-3a9f-4f15-84d2-52c2fb2af35c",
   "metadata": {},
   "outputs": [],
   "source": [
    "mmd_001 = mmd"
   ]
  },
  {
   "cell_type": "code",
   "execution_count": 40,
   "id": "367bdd18-03b1-46fe-96ea-f057ff3bb2ee",
   "metadata": {},
   "outputs": [],
   "source": [
    "mmd_01 = mmd"
   ]
  },
  {
   "cell_type": "code",
   "execution_count": 33,
   "id": "16a3ff70-7e81-47e8-ac8d-353b48bfafea",
   "metadata": {},
   "outputs": [],
   "source": [
    "input_dstncs = pd.DataFrame({'mmd': mmd, # gamma = 1\n",
    "                             'cancer': c_lst,\n",
    "                             'modality': m_lst,\n",
    "                             'systems': s_lst})"
   ]
  },
  {
   "cell_type": "code",
   "execution_count": 89,
   "id": "60622237-b30f-4715-b6a8-ace3c7ab5564",
   "metadata": {},
   "outputs": [],
   "source": [
    "input_dstncs['mmd'] = input_mmd_0001"
   ]
  },
  {
   "cell_type": "code",
   "execution_count": 97,
   "id": "7e06b978-d279-4844-b0c2-b079efa0502a",
   "metadata": {},
   "outputs": [],
   "source": [
    "input_dstncs.to_csv(\n",
    "    '../results/stats-out/input_dstncs_r5.tsv', sep = '\\t')"
   ]
  },
  {
   "cell_type": "code",
   "execution_count": 96,
   "id": "c3659b17-8674-4fbc-9918-7db16d91c936",
   "metadata": {},
   "outputs": [
    {
     "data": {
      "text/html": [
       "<div>\n",
       "<style scoped>\n",
       "    .dataframe tbody tr th:only-of-type {\n",
       "        vertical-align: middle;\n",
       "    }\n",
       "\n",
       "    .dataframe tbody tr th {\n",
       "        vertical-align: top;\n",
       "    }\n",
       "\n",
       "    .dataframe thead th {\n",
       "        text-align: right;\n",
       "    }\n",
       "</style>\n",
       "<table border=\"1\" class=\"dataframe\">\n",
       "  <thead>\n",
       "    <tr style=\"text-align: right;\">\n",
       "      <th></th>\n",
       "      <th>mmd</th>\n",
       "      <th>cancer</th>\n",
       "      <th>modality</th>\n",
       "      <th>systems</th>\n",
       "      <th>axs_mns</th>\n",
       "    </tr>\n",
       "  </thead>\n",
       "  <tbody>\n",
       "    <tr>\n",
       "      <th>0</th>\n",
       "      <td>0.485534</td>\n",
       "      <td>AML</td>\n",
       "      <td>proteomics</td>\n",
       "      <td>cell-line+BeatAML</td>\n",
       "      <td>(76.94179143734988, 76.94179143734989)</td>\n",
       "    </tr>\n",
       "  </tbody>\n",
       "</table>\n",
       "</div>"
      ],
      "text/plain": [
       "        mmd cancer    modality            systems  \\\n",
       "0  0.485534    AML  proteomics  cell-line+BeatAML   \n",
       "\n",
       "                                  axs_mns  \n",
       "0  (76.94179143734988, 76.94179143734989)  "
      ]
     },
     "execution_count": 96,
     "metadata": {},
     "output_type": "execute_result"
    }
   ],
   "source": [
    "input_dstncs.head(1)"
   ]
  },
  {
   "cell_type": "code",
   "execution_count": 95,
   "id": "52f09157-53f1-4881-8d0e-e4787ee7de0d",
   "metadata": {},
   "outputs": [],
   "source": [
    "input_dstncs['axs_mns'] = inpt_axs_lst"
   ]
  },
  {
   "cell_type": "markdown",
   "id": "2c40a864-2811-4dbf-abfc-b8044393a42b",
   "metadata": {},
   "source": [
    "#### Read stats-out"
   ]
  },
  {
   "cell_type": "code",
   "execution_count": 3,
   "id": "e6d800ad-f8b9-4705-bdf2-220edaf3c3d0",
   "metadata": {},
   "outputs": [
    {
     "name": "stdout",
     "output_type": "stream",
     "text": [
      "input_dstncs_r5.tsv   mbatch_dstncs_r5.tsv  vae_dstncs_r5.tsv\n"
     ]
    }
   ],
   "source": [
    "ls ../results/stats-out/"
   ]
  },
  {
   "cell_type": "code",
   "execution_count": 4,
   "id": "0fbde35b-d7fd-420e-be46-42476338dd77",
   "metadata": {},
   "outputs": [],
   "source": [
    "so_pths = glob.glob('../results/stats-out/*')"
   ]
  },
  {
   "cell_type": "code",
   "execution_count": 5,
   "id": "53a3a3e1-81f9-49ae-bdc7-1b72b60f2ba5",
   "metadata": {},
   "outputs": [
    {
     "data": {
      "text/plain": [
       "['../results/stats-out/vae_dstncs_r5.tsv',\n",
       " '../results/stats-out/input_dstncs_r5.tsv',\n",
       " '../results/stats-out/mbatch_dstncs_r5.tsv']"
      ]
     },
     "execution_count": 5,
     "metadata": {},
     "output_type": "execute_result"
    }
   ],
   "source": [
    "so_pths"
   ]
  },
  {
   "cell_type": "code",
   "execution_count": 15,
   "id": "7fccb58d-45da-4bbf-a842-1c4eff5648af",
   "metadata": {},
   "outputs": [
    {
     "name": "stdout",
     "output_type": "stream",
     "text": [
      "../results/stats-out/vae_dstncs_r5.tsv\n",
      "../results/stats-out/input_dstncs_r5.tsv\n",
      "../results/stats-out/mbatch_dstncs_r5.tsv\n"
     ]
    }
   ],
   "source": [
    "df_stck = pd.DataFrame()\n",
    "for pth_n in so_pths:\n",
    "    print(pth_n)\n",
    "    phase = pth_n.split('/')[-1].split('_')[0]\n",
    "    df_n = pd.read_csv(\n",
    "        pth_n, sep = '\\t', index_col = 0)\n",
    "    df_n.insert(0, 'phase', phase)\n",
    "    df_stck = pd.concat([df_stck, df_n], axis = 0)\n",
    "    # break"
   ]
  },
  {
   "cell_type": "code",
   "execution_count": 18,
   "id": "a9860f9e-f5da-477f-80f5-4fae6cd9407d",
   "metadata": {},
   "outputs": [],
   "source": [
    "df_stck.iloc[:, :5].to_csv(\n",
    "    '../results/stats-out/mmd_stack_r5.tsv', sep = '\\t')"
   ]
  },
  {
   "cell_type": "code",
   "execution_count": 19,
   "id": "dd17d61e-8427-409f-9b35-bbee720a96a8",
   "metadata": {},
   "outputs": [],
   "source": [
    "pth_n = '../results/stats-out/mmd_stack_r5.tsv'\n",
    "df_stck = pd.read_csv(\n",
    "        pth_n, sep = '\\t', index_col = 0)"
   ]
  },
  {
   "cell_type": "code",
   "execution_count": 21,
   "id": "fe61cd4d-bad4-499c-8e82-74e67ed9464b",
   "metadata": {},
   "outputs": [
    {
     "data": {
      "text/plain": [
       "phase\n",
       "vae       25\n",
       "input     25\n",
       "mbatch    13\n",
       "Name: count, dtype: int64"
      ]
     },
     "execution_count": 21,
     "metadata": {},
     "output_type": "execute_result"
    }
   ],
   "source": [
    "df_stck.phase.value_counts()"
   ]
  },
  {
   "cell_type": "code",
   "execution_count": 22,
   "id": "6833195a-a6c6-4a80-b532-45d33a9473df",
   "metadata": {},
   "outputs": [
    {
     "data": {
      "text/html": [
       "<div>\n",
       "<style scoped>\n",
       "    .dataframe tbody tr th:only-of-type {\n",
       "        vertical-align: middle;\n",
       "    }\n",
       "\n",
       "    .dataframe tbody tr th {\n",
       "        vertical-align: top;\n",
       "    }\n",
       "\n",
       "    .dataframe thead th {\n",
       "        text-align: right;\n",
       "    }\n",
       "</style>\n",
       "<table border=\"1\" class=\"dataframe\">\n",
       "  <thead>\n",
       "    <tr style=\"text-align: right;\">\n",
       "      <th></th>\n",
       "      <th>phase</th>\n",
       "      <th>mmd</th>\n",
       "      <th>cancer</th>\n",
       "      <th>modality</th>\n",
       "      <th>systems</th>\n",
       "    </tr>\n",
       "  </thead>\n",
       "  <tbody>\n",
       "    <tr>\n",
       "      <th>0</th>\n",
       "      <td>mbatch</td>\n",
       "      <td>0.000000</td>\n",
       "      <td>brain</td>\n",
       "      <td>transcriptomics</td>\n",
       "      <td>HCMI+CPTAC</td>\n",
       "    </tr>\n",
       "    <tr>\n",
       "      <th>1</th>\n",
       "      <td>mbatch</td>\n",
       "      <td>0.149278</td>\n",
       "      <td>breast-lobular</td>\n",
       "      <td>transcriptomics</td>\n",
       "      <td>cell-line+CPTAC</td>\n",
       "    </tr>\n",
       "    <tr>\n",
       "      <th>2</th>\n",
       "      <td>mbatch</td>\n",
       "      <td>0.000000</td>\n",
       "      <td>breast</td>\n",
       "      <td>transcriptomics</td>\n",
       "      <td>HCMI+CPTAC</td>\n",
       "    </tr>\n",
       "    <tr>\n",
       "      <th>3</th>\n",
       "      <td>mbatch</td>\n",
       "      <td>0.236179</td>\n",
       "      <td>colon-adeno</td>\n",
       "      <td>transcriptomics</td>\n",
       "      <td>cell-line+CPTAC</td>\n",
       "    </tr>\n",
       "    <tr>\n",
       "      <th>4</th>\n",
       "      <td>mbatch</td>\n",
       "      <td>0.244777</td>\n",
       "      <td>glioblastoma</td>\n",
       "      <td>transcriptomics</td>\n",
       "      <td>cell-line+CPTAC</td>\n",
       "    </tr>\n",
       "    <tr>\n",
       "      <th>5</th>\n",
       "      <td>mbatch</td>\n",
       "      <td>0.192550</td>\n",
       "      <td>head-neck</td>\n",
       "      <td>transcriptomics</td>\n",
       "      <td>cell-line+CPTAC</td>\n",
       "    </tr>\n",
       "    <tr>\n",
       "      <th>6</th>\n",
       "      <td>mbatch</td>\n",
       "      <td>0.000000</td>\n",
       "      <td>lung-ad</td>\n",
       "      <td>transcriptomics</td>\n",
       "      <td>HCMI+CPTAC</td>\n",
       "    </tr>\n",
       "    <tr>\n",
       "      <th>7</th>\n",
       "      <td>mbatch</td>\n",
       "      <td>0.213387</td>\n",
       "      <td>lung-adeno</td>\n",
       "      <td>transcriptomics</td>\n",
       "      <td>cell-line+CPTAC</td>\n",
       "    </tr>\n",
       "    <tr>\n",
       "      <th>8</th>\n",
       "      <td>mbatch</td>\n",
       "      <td>0.000000</td>\n",
       "      <td>lung-sq</td>\n",
       "      <td>transcriptomics</td>\n",
       "      <td>HCMI+CPTAC</td>\n",
       "    </tr>\n",
       "    <tr>\n",
       "      <th>9</th>\n",
       "      <td>mbatch</td>\n",
       "      <td>0.000000</td>\n",
       "      <td>ovarian</td>\n",
       "      <td>transcriptomics</td>\n",
       "      <td>HCMI+CPTAC</td>\n",
       "    </tr>\n",
       "    <tr>\n",
       "      <th>10</th>\n",
       "      <td>mbatch</td>\n",
       "      <td>0.325579</td>\n",
       "      <td>pancreatic-adeno</td>\n",
       "      <td>transcriptomics</td>\n",
       "      <td>cell-line+CPTAC</td>\n",
       "    </tr>\n",
       "    <tr>\n",
       "      <th>11</th>\n",
       "      <td>mbatch</td>\n",
       "      <td>0.000000</td>\n",
       "      <td>pancreatic</td>\n",
       "      <td>transcriptomics</td>\n",
       "      <td>HCMI+CPTAC</td>\n",
       "    </tr>\n",
       "    <tr>\n",
       "      <th>12</th>\n",
       "      <td>mbatch</td>\n",
       "      <td>0.261183</td>\n",
       "      <td>renal-clear-cell</td>\n",
       "      <td>transcriptomics</td>\n",
       "      <td>cell-line+CPTAC</td>\n",
       "    </tr>\n",
       "  </tbody>\n",
       "</table>\n",
       "</div>"
      ],
      "text/plain": [
       "     phase       mmd            cancer         modality          systems\n",
       "0   mbatch  0.000000             brain  transcriptomics       HCMI+CPTAC\n",
       "1   mbatch  0.149278    breast-lobular  transcriptomics  cell-line+CPTAC\n",
       "2   mbatch  0.000000            breast  transcriptomics       HCMI+CPTAC\n",
       "3   mbatch  0.236179       colon-adeno  transcriptomics  cell-line+CPTAC\n",
       "4   mbatch  0.244777      glioblastoma  transcriptomics  cell-line+CPTAC\n",
       "5   mbatch  0.192550         head-neck  transcriptomics  cell-line+CPTAC\n",
       "6   mbatch  0.000000           lung-ad  transcriptomics       HCMI+CPTAC\n",
       "7   mbatch  0.213387        lung-adeno  transcriptomics  cell-line+CPTAC\n",
       "8   mbatch  0.000000           lung-sq  transcriptomics       HCMI+CPTAC\n",
       "9   mbatch  0.000000           ovarian  transcriptomics       HCMI+CPTAC\n",
       "10  mbatch  0.325579  pancreatic-adeno  transcriptomics  cell-line+CPTAC\n",
       "11  mbatch  0.000000        pancreatic  transcriptomics       HCMI+CPTAC\n",
       "12  mbatch  0.261183  renal-clear-cell  transcriptomics  cell-line+CPTAC"
      ]
     },
     "execution_count": 22,
     "metadata": {},
     "output_type": "execute_result"
    }
   ],
   "source": [
    "df_stck[df_stck.phase == 'mbatch']"
   ]
  },
  {
   "cell_type": "code",
   "execution_count": 32,
   "id": "12a0f581-761d-491c-966e-29d62675b442",
   "metadata": {
    "scrolled": true
   },
   "outputs": [],
   "source": [
    "i_stck = df_stck[df_stck.phase == 'input'].copy()"
   ]
  },
  {
   "cell_type": "code",
   "execution_count": 34,
   "id": "6ea4a271-44f7-4772-96ee-b417882cb92c",
   "metadata": {},
   "outputs": [],
   "source": [
    "i_stck['Benchmark'] = i_stck.cancer + '+' + i_stck.modality + '+' + i_stck.systems"
   ]
  },
  {
   "cell_type": "code",
   "execution_count": 31,
   "id": "549ef6a7-6e8b-4e44-8f64-e681c53cc4a4",
   "metadata": {},
   "outputs": [],
   "source": [
    "v_stck = df_stck[df_stck.phase == 'vae'].copy()"
   ]
  },
  {
   "cell_type": "code",
   "execution_count": 33,
   "id": "1f05f583-2a0e-4e56-a558-d243e4d78609",
   "metadata": {},
   "outputs": [],
   "source": [
    "v_stck['Benchmark'] = v_stck.cancer + '+' + v_stck.modality + '+' + v_stck.systems"
   ]
  },
  {
   "cell_type": "code",
   "execution_count": 20,
   "id": "6b58be2b-efd1-4f44-92c9-6d4522d4f6cb",
   "metadata": {},
   "outputs": [
    {
     "data": {
      "text/html": [
       "<div>\n",
       "<style scoped>\n",
       "    .dataframe tbody tr th:only-of-type {\n",
       "        vertical-align: middle;\n",
       "    }\n",
       "\n",
       "    .dataframe tbody tr th {\n",
       "        vertical-align: top;\n",
       "    }\n",
       "\n",
       "    .dataframe thead th {\n",
       "        text-align: right;\n",
       "    }\n",
       "</style>\n",
       "<table border=\"1\" class=\"dataframe\">\n",
       "  <thead>\n",
       "    <tr style=\"text-align: right;\">\n",
       "      <th></th>\n",
       "      <th>phase</th>\n",
       "      <th>mmd</th>\n",
       "      <th>cancer</th>\n",
       "      <th>modality</th>\n",
       "      <th>systems</th>\n",
       "    </tr>\n",
       "  </thead>\n",
       "  <tbody>\n",
       "    <tr>\n",
       "      <th>0</th>\n",
       "      <td>vae</td>\n",
       "      <td>0.154165</td>\n",
       "      <td>AML</td>\n",
       "      <td>proteomics</td>\n",
       "      <td>cell-line+BeatAML</td>\n",
       "    </tr>\n",
       "    <tr>\n",
       "      <th>1</th>\n",
       "      <td>vae</td>\n",
       "      <td>0.205161</td>\n",
       "      <td>AML</td>\n",
       "      <td>transcriptomics</td>\n",
       "      <td>cell-line+BeatAML</td>\n",
       "    </tr>\n",
       "    <tr>\n",
       "      <th>2</th>\n",
       "      <td>vae</td>\n",
       "      <td>0.503925</td>\n",
       "      <td>brain</td>\n",
       "      <td>transcriptomics</td>\n",
       "      <td>CPTAC+HCMI</td>\n",
       "    </tr>\n",
       "    <tr>\n",
       "      <th>3</th>\n",
       "      <td>vae</td>\n",
       "      <td>0.997767</td>\n",
       "      <td>breast-ductal</td>\n",
       "      <td>proteomics</td>\n",
       "      <td>cell-line+CPTAC</td>\n",
       "    </tr>\n",
       "    <tr>\n",
       "      <th>4</th>\n",
       "      <td>vae</td>\n",
       "      <td>0.450338</td>\n",
       "      <td>breast-lobular</td>\n",
       "      <td>transcriptomics</td>\n",
       "      <td>cell-line+CPTAC</td>\n",
       "    </tr>\n",
       "    <tr>\n",
       "      <th>...</th>\n",
       "      <td>...</td>\n",
       "      <td>...</td>\n",
       "      <td>...</td>\n",
       "      <td>...</td>\n",
       "      <td>...</td>\n",
       "    </tr>\n",
       "    <tr>\n",
       "      <th>8</th>\n",
       "      <td>mbatch</td>\n",
       "      <td>0.000000</td>\n",
       "      <td>lung-sq</td>\n",
       "      <td>transcriptomics</td>\n",
       "      <td>HCMI+CPTAC</td>\n",
       "    </tr>\n",
       "    <tr>\n",
       "      <th>9</th>\n",
       "      <td>mbatch</td>\n",
       "      <td>0.000000</td>\n",
       "      <td>ovarian</td>\n",
       "      <td>transcriptomics</td>\n",
       "      <td>HCMI+CPTAC</td>\n",
       "    </tr>\n",
       "    <tr>\n",
       "      <th>10</th>\n",
       "      <td>mbatch</td>\n",
       "      <td>0.325579</td>\n",
       "      <td>pancreatic-adeno</td>\n",
       "      <td>transcriptomics</td>\n",
       "      <td>cell-line+CPTAC</td>\n",
       "    </tr>\n",
       "    <tr>\n",
       "      <th>11</th>\n",
       "      <td>mbatch</td>\n",
       "      <td>0.000000</td>\n",
       "      <td>pancreatic</td>\n",
       "      <td>transcriptomics</td>\n",
       "      <td>HCMI+CPTAC</td>\n",
       "    </tr>\n",
       "    <tr>\n",
       "      <th>12</th>\n",
       "      <td>mbatch</td>\n",
       "      <td>0.261183</td>\n",
       "      <td>renal-clear-cell</td>\n",
       "      <td>transcriptomics</td>\n",
       "      <td>cell-line+CPTAC</td>\n",
       "    </tr>\n",
       "  </tbody>\n",
       "</table>\n",
       "<p>63 rows × 5 columns</p>\n",
       "</div>"
      ],
      "text/plain": [
       "     phase       mmd            cancer         modality            systems\n",
       "0      vae  0.154165               AML       proteomics  cell-line+BeatAML\n",
       "1      vae  0.205161               AML  transcriptomics  cell-line+BeatAML\n",
       "2      vae  0.503925             brain  transcriptomics         CPTAC+HCMI\n",
       "3      vae  0.997767     breast-ductal       proteomics    cell-line+CPTAC\n",
       "4      vae  0.450338    breast-lobular  transcriptomics    cell-line+CPTAC\n",
       "..     ...       ...               ...              ...                ...\n",
       "8   mbatch  0.000000           lung-sq  transcriptomics         HCMI+CPTAC\n",
       "9   mbatch  0.000000           ovarian  transcriptomics         HCMI+CPTAC\n",
       "10  mbatch  0.325579  pancreatic-adeno  transcriptomics    cell-line+CPTAC\n",
       "11  mbatch  0.000000        pancreatic  transcriptomics         HCMI+CPTAC\n",
       "12  mbatch  0.261183  renal-clear-cell  transcriptomics    cell-line+CPTAC\n",
       "\n",
       "[63 rows x 5 columns]"
      ]
     },
     "execution_count": 20,
     "metadata": {},
     "output_type": "execute_result"
    }
   ],
   "source": [
    "df_stck"
   ]
  },
  {
   "cell_type": "markdown",
   "id": "a6d26716-4885-4d33-87c4-bf48efd6d343",
   "metadata": {},
   "source": [
    "##### dstnc devel"
   ]
  },
  {
   "cell_type": "code",
   "execution_count": 49,
   "id": "30123be0-377d-4b17-9d15-546d5671d7c6",
   "metadata": {},
   "outputs": [],
   "source": [
    "import numpy as np\n",
    "from scipy.spatial.distance import cdist"
   ]
  },
  {
   "cell_type": "code",
   "execution_count": 50,
   "id": "a6230619-73a4-4aed-916b-1cec8d42be38",
   "metadata": {},
   "outputs": [
    {
     "name": "stdout",
     "output_type": "stream",
     "text": [
      "[[0.         5.19615242 3.        ]\n",
      " [5.19615242 0.         7.34846923]\n",
      " [3.         7.34846923 0.        ]]\n"
     ]
    }
   ],
   "source": [
    "points = np.array([[1, 2, 3],\n",
    "                   [4, 5, 6],\n",
    "                   [2, 0, 1]])\n",
    "\n",
    "distances = cdist(points, points, metric='euclidean')\n",
    "print(distances)"
   ]
  },
  {
   "cell_type": "code",
   "execution_count": null,
   "id": "bb783eda-49ec-4faf-b0bc-f0f7cdbf493b",
   "metadata": {},
   "outputs": [],
   "source": [
    "cdist(a.iloc[:, 2:], b.iloc[:, 2:], metric='euclidean')"
   ]
  },
  {
   "cell_type": "code",
   "execution_count": 61,
   "id": "f08a9a5c-f433-40cf-b0b0-0998c915db54",
   "metadata": {},
   "outputs": [
    {
     "data": {
      "text/plain": [
       "836.3068844008061"
      ]
     },
     "execution_count": 61,
     "metadata": {},
     "output_type": "execute_result"
    }
   ],
   "source": [
    "np.mean(cdist(a.iloc[:, 2:], b.iloc[:, 2:], metric='euclidean'), axis=1).mean()"
   ]
  },
  {
   "cell_type": "code",
   "execution_count": 63,
   "id": "7807e3b3-c698-4476-877e-6e8dcf2797b1",
   "metadata": {},
   "outputs": [
    {
     "data": {
      "text/plain": [
       "836.3068844008062"
      ]
     },
     "execution_count": 63,
     "metadata": {},
     "output_type": "execute_result"
    }
   ],
   "source": [
    "np.mean(cdist(a.iloc[:, 2:], b.iloc[:, 2:], metric='euclidean'), axis=0).mean()"
   ]
  },
  {
   "cell_type": "code",
   "execution_count": null,
   "id": "f346f5af-45de-4215-a64a-96c4a4d4b0bd",
   "metadata": {},
   "outputs": [],
   "source": [
    "# mean, auc?"
   ]
  },
  {
   "cell_type": "code",
   "execution_count": null,
   "id": "7c886bea-5ac9-4403-9b69-35d5660e72f9",
   "metadata": {},
   "outputs": [],
   "source": [
    "# Pairwise samples or features\n",
    "tf.keras.losses.cosine_similarity(\n",
    "    y_true, y_pred, axis=-1\n",
    ")"
   ]
  },
  {
   "cell_type": "markdown",
   "id": "f8f074c0-3988-40da-bece-8ba107f51a08",
   "metadata": {
    "jp-MarkdownHeadingCollapsed": true
   },
   "source": [
    "##### Pairwise file sets"
   ]
  },
  {
   "cell_type": "code",
   "execution_count": 9,
   "id": "89661147-dc24-4877-959b-76cb582781b5",
   "metadata": {},
   "outputs": [],
   "source": [
    "def get_pairs(file_set_n):\n",
    "    prot_list = []\n",
    "    tran_list = []\n",
    "    for file in file_set_n:\n",
    "        if 'proteomics' in file:\n",
    "            prot_list.append(file)\n",
    "        elif 'transcriptomics' in file:\n",
    "            tran_list.append(file)\n",
    "    tran_comb = list(itertools.combinations(tran_list, 2))\n",
    "    prot_comb = list(itertools.combinations(prot_list, 2))\n",
    "    return tran_comb, prot_comb"
   ]
  },
  {
   "cell_type": "code",
   "execution_count": 78,
   "id": "63cd4f7b-c207-429d-ba60-03facff349fa",
   "metadata": {},
   "outputs": [
    {
     "name": "stdout",
     "output_type": "stream",
     "text": [
      "File count:  15\n",
      "Trscrptmc, Prtmc comb lens:  28 21\n",
      "beat-aml_proteomics_cell-line+CPTAC.tsv\n",
      " renal-clear-cell_transcriptomics_cell-line+CPTAC.tsv\n"
     ]
    }
   ],
   "source": [
    "# Set input (raw data) to file set n\n",
    "phase = 'input-data'\n",
    "phase_name = 'Input data'\n",
    "\n",
    "file_set_n = sorted(glob.glob('../strctrd/'+phase+'/'+r+'/'+r+'_fls/*'))\n",
    "print('File count: ', len(file_set_n))\n",
    "\n",
    "tran_comb, prot_comb = get_pairs(file_set_n)\n",
    "print('Trscrptmc, Prtmc comb lens: ', len(tran_comb), len(prot_comb))\n",
    "\n",
    "# First and last files\n",
    "print(file_set_n[0].split('/')[-1]+'\\n', file_set_n[-1].split('/')[-1])"
   ]
  },
  {
   "cell_type": "code",
   "execution_count": 175,
   "id": "93e79c38-a099-4392-a049-61d529f3a818",
   "metadata": {},
   "outputs": [
    {
     "name": "stdout",
     "output_type": "stream",
     "text": [
      "File count:  7\n",
      "Trscrptmc, Prtmc comb lens:  21 0\n",
      "breast-lobular_transcriptomics_cell-line+CPTAC.tsv\n",
      " renal-clear-cell_transcriptomics_cell-line+CPTAC.tsv\n"
     ]
    }
   ],
   "source": [
    "# mBatch to file set n\n",
    "phase = 'mbatch-out'\n",
    "phase_name = 'Mbatch corrected'\n",
    "\n",
    "file_set_n = sorted(glob.glob('../results/'+phase+'/'+r+'/'+r+'-fls/*'))\n",
    "print('File count: ', len(file_set_n))\n",
    "\n",
    "tran_comb, prot_comb = get_pairs(file_set_n)\n",
    "print('Trscrptmc, Prtmc comb lens: ', len(tran_comb), len(prot_comb))\n",
    "\n",
    "# First and last files\n",
    "print(file_set_n[0].split('/')[-1]+'\\n', file_set_n[-1].split('/')[-1])"
   ]
  },
  {
   "cell_type": "code",
   "execution_count": 10,
   "id": "9fa4566a-119d-42ac-9bc5-ecb168d42d49",
   "metadata": {},
   "outputs": [
    {
     "name": "stdout",
     "output_type": "stream",
     "text": [
      "File count:  15\n",
      "Trscrptmc, Prtmc comb lens:  28 21\n",
      "beat-aml_proteomics_cell-line+CPTAC_latent_space.tsv\n",
      " renal-clear-cell_transcriptomics_cell-line+CPTAC_latent_space.tsv\n"
     ]
    }
   ],
   "source": [
    "# VAE to file set n\n",
    "phase = 'vae-out'\n",
    "phase_name = 'VAE corrected'\n",
    "\n",
    "file_set_n = sorted(glob.glob('../results/'+phase+'/'+r+'/'+r+'-fls/*'))\n",
    "print('File count: ', len(file_set_n))\n",
    "\n",
    "tran_comb, prot_comb = get_pairs(file_set_n)\n",
    "print('Trscrptmc, Prtmc comb lens: ', len(tran_comb), len(prot_comb))\n",
    "\n",
    "# First and last files\n",
    "print(file_set_n[0].split('/')[-1]+'\\n', file_set_n[-1].split('/')[-1])"
   ]
  },
  {
   "cell_type": "code",
   "execution_count": 11,
   "id": "35325300-9341-4fb3-a982-85d4aa961678",
   "metadata": {},
   "outputs": [
    {
     "data": {
      "text/plain": [
       "'vae-out'"
      ]
     },
     "execution_count": 11,
     "metadata": {},
     "output_type": "execute_result"
    }
   ],
   "source": [
    "phase"
   ]
  },
  {
   "cell_type": "markdown",
   "id": "cb990a11-ac0a-4e0e-9fb6-ec9304d2a7a7",
   "metadata": {
    "jp-MarkdownHeadingCollapsed": true
   },
   "source": [
    "##### Infinity vals"
   ]
  },
  {
   "cell_type": "code",
   "execution_count": null,
   "id": "6cf1c835-4b70-44dd-ae9a-28d5e45dbee1",
   "metadata": {},
   "outputs": [],
   "source": [
    "strctrd_n"
   ]
  },
  {
   "cell_type": "code",
   "execution_count": null,
   "id": "f0966643-dd8a-4a48-a268-29de27206dbd",
   "metadata": {},
   "outputs": [],
   "source": [
    "strctrd_n.isin([np.inf, -np.inf]).sum().sum()"
   ]
  },
  {
   "cell_type": "code",
   "execution_count": null,
   "id": "ecb8dc3d-3c68-4abf-9b5b-232cfcefcc85",
   "metadata": {},
   "outputs": [],
   "source": [
    "inf_count = f\"{df_lite.isin([np.inf, -np.inf]).sum().sum():,}\""
   ]
  },
  {
   "cell_type": "markdown",
   "id": "c10664a1-9a86-4209-944b-6a312d79989b",
   "metadata": {
    "jp-MarkdownHeadingCollapsed": true
   },
   "source": [
    "#### Classifier"
   ]
  },
  {
   "cell_type": "markdown",
   "id": "ee117362-540f-4eff-aca3-df1ac897ac56",
   "metadata": {
    "jp-MarkdownHeadingCollapsed": true
   },
   "source": [
    "##### run 3 n = 9 notes"
   ]
  },
  {
   "cell_type": "code",
   "execution_count": null,
   "id": "36f7fb0a-3ba2-47ec-ab75-5d1156ffec05",
   "metadata": {},
   "outputs": [],
   "source": [
    "# Check\n",
    "for i, file in enumerate(file_set_n):\n",
    "    print(strctrd_n)\n",
    "    break"
   ]
  },
  {
   "cell_type": "code",
   "execution_count": null,
   "id": "25e33bf6-9116-40d3-889e-acd7959f8e47",
   "metadata": {},
   "outputs": [],
   "source": [
    "file_set_n = ['../results/vae_out/one_cncr/files/breast-ductal_transcriptomics_cell-line+CPTAC_latent_space.tsv',\n",
    " '../results/vae_out/one_cncr/files/breast-lobular_transcriptomics_cell-line+CPTAC_latent_space.tsv',\n",
    " '../results/vae_out/one_cncr/files/breast-nos_transcriptomics_cell-line+CPTAC_latent_space.tsv',\n",
    " # '../results/vae_out/one_cncr/files/colon-adeno_transcriptomics_cell-line+CPTAC_latent_space.tsv',\n",
    "'../results/vae_out/one_cncr/files/glioblastoma_transcriptomics_cell-line+CPTAC_latent_space.tsv',\n",
    " '../results/vae_out/one_cncr/files/head-neck_transcriptomics_cell-line+CPTAC_latent_space.tsv',\n",
    " # '../results/vae_out/one_cncr/files/lung-adeno_transcriptomics_cell-line+CPTAC_latent_space.tsv',\n",
    " '../results/vae_out/one_cncr/files/pancreatic-adeno_transcriptomics_cell-line+CPTAC_latent_space.tsv',\n",
    " '../results/vae_out/one_cncr/files/renal-clear-cell_transcriptomics_cell-line+CPTAC_latent_space.tsv']"
   ]
  },
  {
   "cell_type": "markdown",
   "id": "48ee0df3-d103-496e-993c-cd5674c171ac",
   "metadata": {
    "jp-MarkdownHeadingCollapsed": true
   },
   "source": [
    "##### Clf main"
   ]
  },
  {
   "cell_type": "code",
   "execution_count": null,
   "id": "d591a769-c3be-4c54-8cd5-6ab6760d05a0",
   "metadata": {
    "jupyter": {
     "source_hidden": true
    },
    "scrolled": true
   },
   "outputs": [],
   "source": [
    "# Cancer combos n\n",
    "    # run on three phases: input(../strctrd), mbatch_out, vae_out\n",
    "start = time.time()\n",
    "\n",
    "# phase\n",
    "print(phase_name)\n",
    "\n",
    "# Transcriptomics toggle\n",
    "cmb_lst_n = tran_comb\n",
    "\n",
    "# Proteomics togglea\n",
    "# cmb_lst_n = prot_comb\n",
    "\n",
    "# Joint embedding runs\n",
    "# cmb_lst_n = je_comb\n",
    "'''\n",
    "end toggles\n",
    "'''\n",
    "for cmb_n, fl_pths in enumerate(cmb_lst_n):\n",
    "    # print(cmb_n, fl_pths)\n",
    "    \n",
    "    strctrd_n1 = pd.read_csv(\n",
    "        fl_pths[0], sep = '\\t', index_col = 0)\n",
    "    cancer1 = fl_pths[0].split('_')[-3].split('/')[-1]\n",
    "    print(cancer1)\n",
    "    \n",
    "    inf_count = f\"{strctrd_n1.isin([np.inf, -np.inf]).sum().sum():,}\"\n",
    "    print(inf_count)\n",
    "\n",
    "    strctrd_n1.isin([np.inf, -np.inf]).sum().sum()\n",
    "    \n",
    "    print(inf_count)\n",
    "    strctrd_n2 = pd.read_csv(\n",
    "        fl_pths[1], sep = '\\t', index_col = 0)\n",
    "        \n",
    "    cancer2 = fl_pths[1].split('_')[-3].split('/')[-1]\n",
    "    inf_count = f\"{strctrd_n2.isin([np.inf, -np.inf]).sum().sum():,}\"\n",
    "    print(inf_count)\n",
    "    \n",
    "    # print('check')\n",
    "    # break\n",
    "\n",
    "    cancer1 = clf_main(phase, phase_name, fl_pths, strctrd_n1, strctrd_n2)\n",
    "    # mmd_main(fl_n, file_set_n)\n",
    "    # umap_main(fl_n, file_set_n)\n",
    "    # return\n",
    "    # break\n",
    "time.time() - start"
   ]
  },
  {
   "cell_type": "code",
   "execution_count": null,
   "id": "95c569f5-b935-45ba-bd32-ea00782931d9",
   "metadata": {},
   "outputs": [],
   "source": [
    "strctrd_n1"
   ]
  },
  {
   "cell_type": "code",
   "execution_count": 24,
   "id": "93149bdf-793b-4174-86d4-f7dc8df159c7",
   "metadata": {},
   "outputs": [
    {
     "data": {
      "text/plain": [
       "('../results/vae-out/r4/r4-fls/breast-lobular_transcriptomics_cell-line+CPTAC_latent_space.tsv',\n",
       " '../results/vae-out/r4/r4-fls/colon-adeno_transcriptomics_cell-line+CPTAC_latent_space.tsv')"
      ]
     },
     "execution_count": 24,
     "metadata": {},
     "output_type": "execute_result"
    }
   ],
   "source": [
    "fl_pths"
   ]
  },
  {
   "cell_type": "code",
   "execution_count": 22,
   "id": "7011bc47-6450-4c4e-9725-8c05c535b6b5",
   "metadata": {
    "jupyter": {
     "source_hidden": true
    },
    "scrolled": true
   },
   "outputs": [],
   "source": [
    "def clf_main(phase, phase_name, fl_pths,\n",
    "             strctrd_n1, strctrd_n2):\n",
    "\n",
    "    # print(strctrd.value_counts(strctrd.System))\n",
    "                # to plot labels\n",
    "\n",
    "    modality = fl_pths[0].split('_')[-2]\n",
    "    # return modality\n",
    "    cancer1 = fl_pths[0].split('_')[-3].split('/')[-1]\n",
    "    cancer2 = fl_pths[1].split('_')[-3].split('/')[-1]\n",
    "    # return phase, modality, cancer1, cancer2\n",
    "    if strctrd_n1.isna().sum().sum() > 0:\n",
    "        print('strctr1 NaN values: ', cancer1, phase)\n",
    "        return # To next file\n",
    "    if strctrd_n2.isin([np.inf, -np.inf]).sum().sum() > 0:\n",
    "        print('strct2 inf values: ', cancer1, phase)\n",
    "        return # To next file    \n",
    "\n",
    "    if strctrd_n2.isna().sum().sum() > 0:\n",
    "        print('strct2 NaN values: ', cancer2, phase)\n",
    "        return # To next file\n",
    "    if strctrd_n2.isin([np.inf, -np.inf]).sum().sum() > 0:\n",
    "        print('strct2 inf values: ', cancer2, phase)\n",
    "        return # To next file\n",
    "\n",
    "    c2_stcr = pd.concat([strctrd_n1, strctrd_n2], axis = 0,\n",
    "                       join = 'inner')\n",
    "    X = c2_stcr.iloc[:, 2:]\n",
    "    y_sys = c2_stcr.System\n",
    "    y_cncr = c2_stcr.Cancer_type # to Cross val index matching\n",
    "    # return X\n",
    "    sys_scores = [] # between these two cancers\n",
    "    cncr_scores = [] # between these two cancers\n",
    "    # return fl_pths, cancer1, cancer2\n",
    "    \n",
    "    clf_name = 'rnd-frst'\n",
    "    # clf_name = 'dt'\n",
    "    # clf_name = 'lg_rg'\n",
    "\n",
    "    \n",
    "    for xf_i in list(range(1,10)):\n",
    "    # for xf_i in list(range(1,30)):\n",
    "        X_train, X_test, y_train, y_test = train_test_split(\n",
    "                                                X, y_sys)\n",
    "        # System                                      ^\n",
    "        clf = RandomForestClassifier(\n",
    "                    max_depth=2,\n",
    "                    random_state=0).fit(\n",
    "                                    X_train, y_train)\n",
    "        \n",
    "        # clf = tree.DecisionTreeClassifier().fit(X_train, y_train)\n",
    "        # clf = LogisticRegression(random_state=0).fit(X_train, y_train)\n",
    "        \n",
    "        score = f1_score(y_test, clf.predict(X_test), average = 'weighted')\n",
    "        sys_scores.append(score)\n",
    "\n",
    "        # Cross val index matching           y_c_typ:\n",
    "        y_train = y_cncr[y_cncr.index.isin(y_train.index)]\n",
    "        y_test = y_cncr[y_cncr.index.isin(y_test.index)]\n",
    "\n",
    "        # Cancer type\n",
    "        clf = RandomForestClassifier(\n",
    "                    max_depth=2,\n",
    "                    random_state=0).fit(\n",
    "                                    X_train, y_train)\n",
    "        \n",
    "        score = f1_score(y_test, clf.predict(X_test), average = 'weighted')\n",
    "        cncr_scores.append(score)\n",
    "    \n",
    "    #     break\n",
    "    # return cncr_scores\n",
    "    # for score_list in \n",
    "    sys_mean = statistics.mean(sys_scores)\n",
    "    sys_err = statistics.stdev(sys_scores)\n",
    "    \n",
    "    fig, ax = plt.subplots()\n",
    "    plt.ylim(0, 1)\n",
    "    \n",
    "    # System barplot\n",
    "    bar_s = ax.bar('sys', sys_mean, yerr=sys_err, capsize = 7, label='System')\n",
    "    plt.title(phase_name+' '+cancer1+'+'+cancer2+\n",
    "        '_'+modality)\n",
    "    \n",
    "    # Legend\n",
    "    ax.legend()\n",
    "    plt.savefig(\n",
    "        '../results/'+phase+'/'+r+'/'+r+'_fgs/'+phase+'_'+cancer1+'+'+cancer2+\n",
    "        '_'+modality+'_'+systems+'_'+clf_name+'_sys.png')\n",
    "    print(cancer1+'+'+cancer2, modality, ' to disk')\n",
    "    print(' ')\n",
    "    plt.close()\n",
    "    cncr_mean = statistics.mean(cncr_scores)\n",
    "    cncr_err = statistics.stdev(cncr_scores)\n",
    "    \n",
    "    fig, ax = plt.subplots()\n",
    "    plt.ylim(0, 1)\n",
    "    \n",
    "    # Cancer barplot\n",
    "    bar_c = ax.bar('sys', cncr_mean, yerr=cncr_err, capsize = 7, label='Cancer')\n",
    "    plt.title(phase_name+' '+cancer1+'+'+cancer2+\n",
    "        '_'+modality)\n",
    "    \n",
    "    # Cancer Legend\n",
    "    ax.legend()\n",
    "    plt.savefig(\n",
    "        '../results/'+phase+'/'+r+'/'+r+'_fgs/'+phase+'_'+cancer1+'+'+cancer2+\n",
    "        '_'+modality+'_'+systems+'_'+clf_name+'_cncr.png')\n",
    "    print(cancer1+'+'+cancer2, modality, ' to disk')\n",
    "    print(' ')\n",
    "    plt.close()    \n",
    "    # return x\n",
    "    # break"
   ]
  },
  {
   "cell_type": "markdown",
   "id": "e37c33b3-24c4-4ba6-a8f6-315d43260013",
   "metadata": {
    "jp-MarkdownHeadingCollapsed": true
   },
   "source": [
    "#### MMD template"
   ]
  },
  {
   "cell_type": "code",
   "execution_count": null,
   "id": "407fe5a3-b35b-4ca9-bd9a-5fb6a9192451",
   "metadata": {},
   "outputs": [],
   "source": [
    "# order file names by cancer, modality, systems - \n",
    "    # for sorting in dirs - mult cncrs per moda, mult modas per system"
   ]
  },
  {
   "cell_type": "code",
   "execution_count": null,
   "id": "249ad04f-5bdf-42b5-96b1-06d7fe6493e8",
   "metadata": {},
   "outputs": [],
   "source": [
    "def compute_mmd(bio_mrk_1, bio_mrk_2, gamma=1.0):\n",
    "    K_XX = rbf_kernel(bio_mrk_1, bio_mrk_1, gamma=gamma)\n",
    "    K_XY = rbf_kernel(bio_mrk_1, bio_mrk_2, gamma=gamma)\n",
    "    K_YY = rbf_kernel(bio_mrk_2, bio_mrk_2, gamma=gamma)\n",
    "\n",
    "    m = bio_mrk_1.shape[0]\n",
    "    n = bio_mrk_2.shape[0]\n",
    "\n",
    "    mmd = (np.sum(K_XX) - np.trace(K_XX)) / (m * (m - 1))\n",
    "    mmd += (np.sum(K_YY) - np.trace(K_YY)) / (n * (n - 1))\n",
    "    mmd -= 2 * np.sum(K_XY) / (m * n)\n",
    "\n",
    "    # Ensure the MMD value is non-negative\n",
    "    mmd = np.maximum(mmd, 0)\n",
    "\n",
    "    return np.sqrt(mmd)"
   ]
  },
  {
   "cell_type": "markdown",
   "id": "fc571b39-131c-40e6-8aab-5d9e0c5a1431",
   "metadata": {
    "jp-MarkdownHeadingCollapsed": true
   },
   "source": [
    "##### mmd inspection"
   ]
  },
  {
   "cell_type": "code",
   "execution_count": null,
   "id": "03dcaeb4-746a-4325-87b3-7bb0550e4d82",
   "metadata": {},
   "outputs": [],
   "source": [
    "for i, file in enumerate(file_set_n):\n",
    "    # print(file)\n",
    "    strctrd_n = pd.read_csv(\n",
    "        file,\n",
    "        sep = '\\t', index_col = 0)\n",
    "    \n",
    "    # print(strctrd.value_counts(strctrd.System))\n",
    "    print(' ')\n",
    "    cancer = cancer_types[i]\n",
    "    print(cancer)\n",
    "    # break\n",
    "    bio_mrk_1 = strctrd_n[strctrd_n.System=='cell_line'].iloc[:, 2:]\n",
    "    bio_mrk_2 = strctrd_n[strctrd_n.System=='CPTAC'].iloc[:, 2:]\n",
    "    \n",
    "    mmd_score = compute_mmd(bio_mrk_1, bio_mrk_2)\n",
    "    print(mmd_score)\n",
    "    # break"
   ]
  },
  {
   "cell_type": "markdown",
   "id": "a8c29480-8460-4fbf-9a06-0b0e60ced7d2",
   "metadata": {
    "jp-MarkdownHeadingCollapsed": true
   },
   "source": [
    "#### UMAP"
   ]
  },
  {
   "cell_type": "code",
   "execution_count": null,
   "id": "a446f01b-c325-494a-a403-26d0a4ea7609",
   "metadata": {},
   "outputs": [],
   "source": [
    "# Set input (raw data) to file set n\n",
    "phase = 'input_data'\n",
    "phase_name = 'Input data'\n",
    "file_set_n = sorted(glob.glob('../strctrd/one_cncr/*'))"
   ]
  },
  {
   "cell_type": "code",
   "execution_count": null,
   "id": "fa1b1570-2387-43e2-9aff-8a2afb3a375e",
   "metadata": {},
   "outputs": [],
   "source": [
    "# UMAP on structured data, input data\n",
    "print(phase_name)\n",
    "for i, file in enumerate(file_set_n):\n",
    "    strctrd_n = pd.read_csv(\n",
    "        file,\n",
    "        sep = '\\t', index_col = 0)\n",
    "    cancer = cancer_types[i]\n",
    "    print(cancer)\n",
    "    print(' ')\n",
    "    # break\n",
    "    features = strctrd_n.drop(['System', 'Cancer_type'], axis=1)\n",
    "    system_labels = strctrd_n['System'] # data phase\n",
    "    \n",
    "    umap_result = umap.UMAP(n_neighbors=15, min_dist=0.1, n_components=2, metric='euclidean').fit_transform(features)\n",
    "    unique_labels = system_labels.unique()\n",
    "    \n",
    "    colors = ['red', 'green']\n",
    "    color_map = dict(zip(unique_labels, colors))\n",
    "    \n",
    "    plt.figure(figsize=(10, 8))\n",
    "    \n",
    "    for i in range(len(umap_result)):\n",
    "        plt.scatter(umap_result[i, 0], umap_result[i, 1],\n",
    "                    c=[color_map[system_labels.iloc[i]]],\n",
    "                    edgecolor='k',\n",
    "                    s=100,\n",
    "                    label=system_labels.iloc[i] + ' - ' + system_labels.iloc[i] if i in [list(system_labels).index(x) for x in unique_labels] else \"\")\n",
    "    \n",
    "    plt.legend()\n",
    "    \n",
    "    plt.title(cancer+', '+phase+', '+modality, fontsize=14)\n",
    "    \n",
    "    plt.tight_layout()\n",
    "    plt.savefig(\n",
    "        '../results/'+phase+'/one_cncr/figures/'+phase+'_'+cancer+\n",
    "        '_'+modality+'_'+systems+'rf.png')\n",
    "    \n",
    "    plt.show()\n",
    "    # break"
   ]
  },
  {
   "cell_type": "code",
   "execution_count": null,
   "id": "49623d07-999f-4034-a631-424f6d5b0133",
   "metadata": {},
   "outputs": [],
   "source": [
    "# Set input (mbatch data) to file set n\n",
    "phase = 'mbatch_out'\n",
    "phase_name = 'Mbatch corrected'\n",
    "file_set_n = sorted(glob.glob('../results/mbatch_out/one_cncr/files/*'))"
   ]
  },
  {
   "cell_type": "code",
   "execution_count": null,
   "id": "e7dc757a-a691-47e5-80f4-1ee74d57806d",
   "metadata": {},
   "outputs": [],
   "source": [
    "# UMAP on structured data, mbatch out\n",
    "print(phase_name)\n",
    "for i, file in enumerate(file_set_n):\n",
    "    strctrd_n = pd.read_csv(\n",
    "        file,\n",
    "        sep = '\\t', index_col = 0)\n",
    "    cancer = cancer_types[i]\n",
    "    print(cancer)\n",
    "    print(' ')\n",
    "    # break\n",
    "    features = strctrd_n.drop(['System', 'Cancer_type'], axis=1)\n",
    "    system_labels = strctrd_n['System'] # data phase\n",
    "    \n",
    "    umap_result = umap.UMAP(n_neighbors=15, min_dist=0.1, n_components=2, metric='euclidean').fit_transform(features)\n",
    "    unique_labels = system_labels.unique()\n",
    "    \n",
    "    colors = ['red', 'green']\n",
    "    color_map = dict(zip(unique_labels, colors))\n",
    "    \n",
    "    plt.figure(figsize=(10, 8))\n",
    "    \n",
    "    for i in range(len(umap_result)):\n",
    "        plt.scatter(umap_result[i, 0], umap_result[i, 1],\n",
    "                    c=[color_map[system_labels.iloc[i]]],\n",
    "                    edgecolor='k',\n",
    "                    s=100,\n",
    "                    label=system_labels.iloc[i] + ' - ' + system_labels.iloc[i] if i in [list(system_labels).index(x) for x in unique_labels] else \"\")\n",
    "    \n",
    "    plt.legend()\n",
    "    \n",
    "    plt.title(cancer+', '+phase+', '+modality, fontsize=14)\n",
    "    \n",
    "    plt.tight_layout()\n",
    "\n",
    "    plt.savefig(\n",
    "        '../results/'+phase+'/one_cncr/figures/'+phase+'_'+cancer+\n",
    "        '_'+modality+'_'+systems+'rf.png')\n",
    "    plt.show()\n",
    "    # break"
   ]
  },
  {
   "cell_type": "markdown",
   "id": "0f7ef1ca-e098-412a-87c5-8273593258ab",
   "metadata": {
    "jp-MarkdownHeadingCollapsed": true
   },
   "source": [
    "### UMAP function"
   ]
  },
  {
   "cell_type": "code",
   "execution_count": null,
   "id": "40c9562f-c4af-4e53-9aa9-48780b18fc0a",
   "metadata": {},
   "outputs": [],
   "source": [
    "# UMAP\n",
    "def umap(df, modality, )\n",
    "    features = df.drop(['Data_phase', 'Labels'], axis=1)\n",
    "    data_phase = df['Data_phase']\n",
    "    labels = df['Labels']\n",
    "    \n",
    "    umap_result = umap.UMAP(n_neighbors=15, min_dist=0.1, n_components=2, metric='euclidean').fit_transform(features)\n",
    "    unique_labels = labels.unique()\n",
    "    \n",
    "    colors = ['red', 'green']\n",
    "    color_map = dict(zip(unique_labels, colors))\n",
    "    \n",
    "    shape_dict = {'Original': 'o', 'Synthetic': '^'}\n",
    "    \n",
    "    # Begin UMAPs on n = 25\n",
    "    plt.figure(figsize=(10, 8))\n",
    "    \n",
    "    for i in range(len(umap_result)):\n",
    "        plt.scatter(umap_result[i, 0], umap_result[i, 1],\n",
    "                    c=[color_map[labels.iloc[i]]],\n",
    "                    marker=shape_dict[data_phase.iloc[i]],\n",
    "                    edgecolor='k',\n",
    "                    s=100,\n",
    "                    label=labels.iloc[i] + ' - ' + data_phase.iloc[i] if i in [list(labels).index(x) for x in unique_labels] else \"\")\n",
    "    \n",
    "    labels = list(unique_labels)\n",
    "    color_legend = [Line2D([0], [0], marker='s', color='w', label=label,\n",
    "                           markersize=10, markerfacecolor=color) for label, color in color_map.items() if label in labels]\n",
    "    \n",
    "    \n",
    "    first_legend = plt.legend(handles=color_legend, title='Labels', bbox_to_anchor=(1.05, 1), loc='upper left')\n",
    "    plt.gca().add_artist(first_legend)\n",
    "    shape_legend = [Line2D([0], [0], marker=shape, color='w', label=status,\n",
    "                           markersize=10, markerfacecolor='gray') for status, shape in shape_dict.items()]\n",
    "    plt.legend(handles=shape_legend, title='Data Phase', bbox_to_anchor=(1.05, 0.5), loc='upper left')\n",
    "    \n",
    "    plt.title(cancer+', '+data_type, fontsize=14)\n",
    "    \n",
    "    plt.tight_layout()\n",
    "    plt.savefig(f'i_o/UMAP_{v}_{systems}_{cancer}_{modality}.png',\n",
    "                bbox_inches='tight', dpi = 300) # file name, need to replace cancer name and version with auto vars\n",
    "    \n",
    "    plt.show()"
   ]
  }
 ],
 "metadata": {
  "kernelspec": {
   "display_name": "Python 3 (ipykernel)",
   "language": "python",
   "name": "python3"
  },
  "language_info": {
   "codemirror_mode": {
    "name": "ipython",
    "version": 3
   },
   "file_extension": ".py",
   "mimetype": "text/x-python",
   "name": "python",
   "nbconvert_exporter": "python",
   "pygments_lexer": "ipython3",
   "version": "3.10.8"
  }
 },
 "nbformat": 4,
 "nbformat_minor": 5
}
