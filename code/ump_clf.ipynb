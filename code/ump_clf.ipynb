{
 "cells": [
  {
   "cell_type": "code",
   "execution_count": null,
   "id": "f6bfc5b4-7d3b-4392-8139-06fa13671ce4",
   "metadata": {},
   "outputs": [],
   "source": [
    "# Run UMAPs, classifiers, and distance metrics\n",
    "    # on the input - \n",
    "    # on mbatch output\n",
    "    # target outdir: "
   ]
  },
  {
   "cell_type": "code",
   "execution_count": 5,
   "id": "4b393d34-1ca6-4174-9e5c-4ce23664d83d",
   "metadata": {},
   "outputs": [],
   "source": [
    "ls ../results/mbatch/one_cncr/figures/"
   ]
  },
  {
   "cell_type": "code",
   "execution_count": null,
   "id": "dc5f8ea9-f435-420d-9044-3a8884002bbb",
   "metadata": {},
   "outputs": [],
   "source": [
    "# path to strctrd files input\n",
    "    # to both mbatch and the vae"
   ]
  },
  {
   "cell_type": "code",
   "execution_count": 1,
   "id": "a5b48d0a-c8aa-43f3-99ba-78737d9165af",
   "metadata": {},
   "outputs": [
    {
     "data": {
      "text/plain": [
       "'/Users/karlberb/Documents/work/2024/bnch_mrk/mdl-sys-bnchmrk/code'"
      ]
     },
     "execution_count": 1,
     "metadata": {},
     "output_type": "execute_result"
    }
   ],
   "source": [
    "pwd"
   ]
  },
  {
   "cell_type": "code",
   "execution_count": 6,
   "id": "2af52fdc-a9ef-4acd-a5fe-f78b5cd8564e",
   "metadata": {},
   "outputs": [
    {
     "name": "stdout",
     "output_type": "stream",
     "text": [
      "breast-ductal_transcriptomics_cell-line+CPTAC.tsv\n",
      "breast-lobular_transcriptomics_cell-line+CPTAC.tsv\n",
      "breast-nos_transcriptomics_cell-line+CPTAC.tsv\n",
      "colon-adeno_transcriptomics_cell-line+CPTAC.tsv\n",
      "glioblastoma_transcriptomics_cell-line+CPTAC.tsv\n",
      "head-neck_transcriptomics_cell-line+CPTAC.tsv\n",
      "lung-adeno_transcriptomics_cell-line+CPTAC.tsv\n",
      "pancreatic-adeno_transcriptomics_cell-line+CPTAC.tsv\n",
      "renal-clear-cell_transcriptomics_cell-line+CPTAC.tsv\n"
     ]
    }
   ],
   "source": [
    "ls ../strctrd/one_cncr/"
   ]
  },
  {
   "cell_type": "code",
   "execution_count": 11,
   "id": "8f8fdfe6-56b7-4780-b721-580ac8c755d8",
   "metadata": {},
   "outputs": [],
   "source": [
    "# Data handling\n",
    "import pandas as pd\n",
    "import glob as glob\n",
    "\n",
    "# RF\n",
    "from sklearn.ensemble import RandomForestClassifier\n",
    "from sklearn.model_selection import train_test_split\n",
    "from sklearn.metrics import f1_score\n",
    "import statistics\n",
    "import matplotlib.pyplot as plt\n",
    "\n",
    "# MMD\n",
    "import numpy as np\n",
    "from sklearn.metrics.pairwise import rbf_kernel\n",
    "\n",
    "# UMAP\n"
   ]
  },
  {
   "cell_type": "code",
   "execution_count": 14,
   "id": "8313dea0-cbec-4d38-a734-2be3bc64e6fd",
   "metadata": {},
   "outputs": [],
   "source": [
    "inp = sorted(glob.glob('../strctrd/one_cncr/*'))"
   ]
  },
  {
   "cell_type": "code",
   "execution_count": 23,
   "id": "e43a6564-7a90-4469-b62d-7cb25f65dd24",
   "metadata": {
    "collapsed": true,
    "jupyter": {
     "outputs_hidden": true
    }
   },
   "outputs": [
    {
     "data": {
      "text/plain": [
       "['../strctrd/one_cncr/breast-ductal_transcriptomics_cell-line+CPTAC.tsv',\n",
       " '../strctrd/one_cncr/breast-lobular_transcriptomics_cell-line+CPTAC.tsv',\n",
       " '../strctrd/one_cncr/breast-nos_transcriptomics_cell-line+CPTAC.tsv',\n",
       " '../strctrd/one_cncr/colon-adeno_transcriptomics_cell-line+CPTAC.tsv',\n",
       " '../strctrd/one_cncr/glioblastoma_transcriptomics_cell-line+CPTAC.tsv',\n",
       " '../strctrd/one_cncr/head-neck_transcriptomics_cell-line+CPTAC.tsv',\n",
       " '../strctrd/one_cncr/lung-adeno_transcriptomics_cell-line+CPTAC.tsv',\n",
       " '../strctrd/one_cncr/pancreatic-adeno_transcriptomics_cell-line+CPTAC.tsv',\n",
       " '../strctrd/one_cncr/renal-clear-cell_transcriptomics_cell-line+CPTAC.tsv']"
      ]
     },
     "execution_count": 23,
     "metadata": {},
     "output_type": "execute_result"
    }
   ],
   "source": [
    "inp"
   ]
  },
  {
   "cell_type": "code",
   "execution_count": 25,
   "id": "074861c1-e562-4149-8546-f1c7b51cdda1",
   "metadata": {},
   "outputs": [],
   "source": [
    "cancer_type = ['breast-ductal',\n",
    "    'breast-lobular',\n",
    "    'breast-nos',\n",
    "    'colon-adeno',\n",
    "    'glioblastoma',\n",
    "    'head-neck',\n",
    "    'lung-adeno',\n",
    "    'pancreatic-adeno',\n",
    "    'renal-clear-cell']"
   ]
  },
  {
   "cell_type": "code",
   "execution_count": 24,
   "id": "302b4558-fc6e-41fa-a703-925b5ce7d4cc",
   "metadata": {},
   "outputs": [],
   "source": [
    "systems = 'cell-line+CPTAC'\n",
    "modality = 'transcriptomics'"
   ]
  },
  {
   "cell_type": "markdown",
   "id": "c10664a1-9a86-4209-944b-6a312d79989b",
   "metadata": {},
   "source": [
    "#### Random Forest"
   ]
  },
  {
   "cell_type": "code",
   "execution_count": null,
   "id": "23536fb2-f90c-49cf-a2b0-19dc6fe28f2a",
   "metadata": {},
   "outputs": [],
   "source": []
  },
  {
   "cell_type": "markdown",
   "id": "e37c33b3-24c4-4ba6-a8f6-315d43260013",
   "metadata": {},
   "source": [
    "#### MMD"
   ]
  },
  {
   "cell_type": "code",
   "execution_count": null,
   "id": "03dcaeb4-746a-4325-87b3-7bb0550e4d82",
   "metadata": {},
   "outputs": [],
   "source": []
  },
  {
   "cell_type": "markdown",
   "id": "a8c29480-8460-4fbf-9a06-0b0e60ced7d2",
   "metadata": {},
   "source": [
    "#### UMAP"
   ]
  },
  {
   "cell_type": "code",
   "execution_count": null,
   "id": "40c9562f-c4af-4e53-9aa9-48780b18fc0a",
   "metadata": {},
   "outputs": [],
   "source": []
  },
  {
   "cell_type": "code",
   "execution_count": 20,
   "id": "7011bc47-6450-4c4e-9725-8c05c535b6b5",
   "metadata": {
    "collapsed": true,
    "jupyter": {
     "outputs_hidden": true
    },
    "scrolled": true
   },
   "outputs": [
    {
     "name": "stdout",
     "output_type": "stream",
     "text": [
      "../strctrd/one_cncr/breast-ductal_transcriptomics_cell-line+CPTAC.tsv\n",
      "System\n",
      "CPTAC        124\n",
      "cell_line     29\n",
      "Name: count, dtype: int64\n",
      " \n",
      "../strctrd/one_cncr/breast-lobular_transcriptomics_cell-line+CPTAC.tsv\n",
      "System\n",
      "CPTAC        124\n",
      "cell_line     29\n",
      "Name: count, dtype: int64\n",
      " \n",
      "../strctrd/one_cncr/breast-nos_transcriptomics_cell-line+CPTAC.tsv\n",
      "System\n",
      "CPTAC        124\n",
      "cell_line     29\n",
      "Name: count, dtype: int64\n",
      " \n",
      "../strctrd/one_cncr/colon-adeno_transcriptomics_cell-line+CPTAC.tsv\n",
      "System\n",
      "CPTAC        105\n",
      "cell_line     60\n",
      "Name: count, dtype: int64\n",
      " \n",
      "../strctrd/one_cncr/glioblastoma_transcriptomics_cell-line+CPTAC.tsv\n",
      "System\n",
      "CPTAC        100\n",
      "cell_line     52\n",
      "Name: count, dtype: int64\n",
      " \n",
      "../strctrd/one_cncr/head-neck_transcriptomics_cell-line+CPTAC.tsv\n",
      "System\n",
      "CPTAC        109\n",
      "cell_line      5\n",
      "Name: count, dtype: int64\n",
      " \n",
      "../strctrd/one_cncr/lung-adeno_transcriptomics_cell-line+CPTAC.tsv\n",
      "System\n",
      "CPTAC        111\n",
      "cell_line     77\n",
      "Name: count, dtype: int64\n",
      " \n",
      "../strctrd/one_cncr/pancreatic-adeno_transcriptomics_cell-line+CPTAC.tsv\n",
      "System\n",
      "CPTAC        140\n",
      "cell_line     55\n",
      "Name: count, dtype: int64\n",
      " \n",
      "../strctrd/one_cncr/renal-clear-cell_transcriptomics_cell-line+CPTAC.tsv\n",
      "System\n",
      "CPTAC        110\n",
      "cell_line     17\n",
      "Name: count, dtype: int64\n",
      " \n"
     ]
    }
   ],
   "source": [
    "for i, file in enumerate(inp):\n",
    "    print(file)\n",
    "    strctrd = pd.read_csv(\n",
    "        file,\n",
    "        sep = '\\t', index_col = 0)\n",
    "    # print(strctrd.value_counts(strctrd.System))\n",
    "    print(' ')\n",
    "    cancer = cancer_type[i]\n",
    "    \n",
    "    # break"
   ]
  },
  {
   "cell_type": "code",
   "execution_count": 19,
   "id": "d398f0ea-ec5d-420a-9285-270a5337a962",
   "metadata": {},
   "outputs": [
    {
     "data": {
      "text/plain": [
       "System\n",
       "CPTAC        124\n",
       "cell_line     29\n",
       "Name: count, dtype: int64"
      ]
     },
     "execution_count": 19,
     "metadata": {},
     "output_type": "execute_result"
    }
   ],
   "source": [
    "strctrd.value_counts(strctrd.System)"
   ]
  },
  {
   "cell_type": "code",
   "execution_count": null,
   "id": "0c52775e-d23c-4ced-a15b-e9f2991e52f7",
   "metadata": {},
   "outputs": [],
   "source": [
    "# path to mbatch-corrected one_cncr files:"
   ]
  },
  {
   "cell_type": "code",
   "execution_count": null,
   "id": "86b0a76e-86d7-4019-8203-888c1d94ace4",
   "metadata": {},
   "outputs": [],
   "source": [
    "../results/mbatch/one_cncr/files/"
   ]
  },
  {
   "cell_type": "code",
   "execution_count": null,
   "id": "70da3c85-740e-4658-bb61-fd2d60e2e092",
   "metadata": {},
   "outputs": [],
   "source": [
    "# paths to vae-corrected one_cncr files:"
   ]
  },
  {
   "cell_type": "code",
   "execution_count": null,
   "id": "046424f6-79a4-4337-94ac-9847c496ba26",
   "metadata": {},
   "outputs": [],
   "source": []
  },
  {
   "cell_type": "code",
   "execution_count": null,
   "id": "89f4e82d-4395-442d-ba6e-633e4d9a58a3",
   "metadata": {},
   "outputs": [],
   "source": [
    "# path to mbatch-corrected two_cncr files:"
   ]
  },
  {
   "cell_type": "code",
   "execution_count": null,
   "id": "7143324b-eb7a-423e-8928-e1209a56a055",
   "metadata": {},
   "outputs": [],
   "source": []
  },
  {
   "cell_type": "code",
   "execution_count": null,
   "id": "590f0ac7-9120-476b-8451-dad4ae327b70",
   "metadata": {},
   "outputs": [],
   "source": [
    "# paths to vae-corrected two_cncr files:"
   ]
  },
  {
   "cell_type": "code",
   "execution_count": null,
   "id": "c683953e-35fc-4d65-958b-0943959287dc",
   "metadata": {},
   "outputs": [],
   "source": []
  },
  {
   "cell_type": "code",
   "execution_count": null,
   "id": "06afd613-c6ad-43d4-86d3-6a882eae21a0",
   "metadata": {},
   "outputs": [],
   "source": [
    "# devel, combinations"
   ]
  },
  {
   "cell_type": "code",
   "execution_count": null,
   "id": "c74623e9-9f37-41c4-beb9-571be6c33975",
   "metadata": {},
   "outputs": [],
   "source": [
    "import itertools\n",
    "\n",
    "items = ['A', 'B', 'C', 'D', 'E', 'F', 'G', 'H', 'I']\n",
    "combinations = list(itertools.combinations(items, 2))\n",
    "\n",
    "print(combinations)"
   ]
  },
  {
   "cell_type": "code",
   "execution_count": null,
   "id": "afdf05bb-299f-422e-97d4-ccd1b798227e",
   "metadata": {},
   "outputs": [],
   "source": []
  }
 ],
 "metadata": {
  "kernelspec": {
   "display_name": "Python 3 (ipykernel)",
   "language": "python",
   "name": "python3"
  },
  "language_info": {
   "codemirror_mode": {
    "name": "ipython",
    "version": 3
   },
   "file_extension": ".py",
   "mimetype": "text/x-python",
   "name": "python",
   "nbconvert_exporter": "python",
   "pygments_lexer": "ipython3",
   "version": "3.10.8"
  }
 },
 "nbformat": 4,
 "nbformat_minor": 5
}
