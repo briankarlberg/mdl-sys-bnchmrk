{
 "cells": [
  {
   "cell_type": "markdown",
   "id": "59f4a06d-d172-4737-a94a-175836a294fb",
   "metadata": {},
   "source": [
    "# R72"
   ]
  },
  {
   "cell_type": "code",
   "execution_count": null,
   "id": "24515ada-bf16-4302-b929-0aba1e8214d6",
   "metadata": {},
   "outputs": [],
   "source": [
    "# R72:\n",
    "    # HCMI -> CPTAC, 2 cancer types\n",
    "    # cell line -> CPTAC, 5 cancer types\n",
    "\n",
    "#2024-03-12\n",
    "    # Devel on Tybalt"
   ]
  },
  {
   "cell_type": "code",
   "execution_count": 1,
   "id": "7d6ddeb3-b3fb-4a5b-85f3-aea24641e74c",
   "metadata": {},
   "outputs": [
    {
     "name": "stdout",
     "output_type": "stream",
     "text": [
      "Interactive namespace is empty.\n"
     ]
    }
   ],
   "source": [
    "%whos"
   ]
  },
  {
   "cell_type": "code",
   "execution_count": 2,
   "id": "ce4d0e57-6692-41c5-be98-a33677884dc6",
   "metadata": {},
   "outputs": [],
   "source": [
    "# Data handling & comparision setup\n",
    "import pandas as pd\n",
    "import glob\n",
    "import itertools\n",
    "\n",
    "# Feature selection, RFE\n",
    "from sklearn.feature_selection import RFE\n",
    "from sklearn.svm import SVR\n",
    "\n",
    "# Import 3 SciKit Learn classifiers\n",
    "from sklearn.ensemble import RandomForestClassifier\n",
    "from sklearn import tree\n",
    "from sklearn.linear_model import LogisticRegression\n",
    "\n",
    "# SVM\n",
    "from sklearn.svm import LinearSVC\n",
    "from sklearn.pipeline import make_pipeline\n",
    "from sklearn.preprocessing import StandardScaler\n",
    "\n",
    "# Classification setup and eval\n",
    "from sklearn.model_selection import train_test_split\n",
    "from sklearn.metrics import f1_score\n",
    "import statistics\n",
    "\n",
    "# Plotting\n",
    "import matplotlib.pyplot as plt"
   ]
  },
  {
   "cell_type": "markdown",
   "id": "0d3c6e0a-c4c3-49b0-b95f-950625022961",
   "metadata": {},
   "source": [
    "### Read data"
   ]
  },
  {
   "cell_type": "markdown",
   "id": "c35a4153-09e1-4739-9943-411e9a04a0e1",
   "metadata": {},
   "source": [
    "#### Input read"
   ]
  },
  {
   "cell_type": "code",
   "execution_count": 3,
   "id": "45d6d76b-10d6-40fa-9741-369884b6ffa4",
   "metadata": {},
   "outputs": [
    {
     "data": {
      "text/plain": [
       "['../data/r72/nc5_transcriptomics_cell-line+CPTAC.tsv',\n",
       " '../data/r72/nc2_transcriptomics_HCMI+CPTAC.tsv']"
      ]
     },
     "execution_count": 3,
     "metadata": {},
     "output_type": "execute_result"
    }
   ],
   "source": [
    "# phase = 'Input'\n",
    "inp_pths = sorted(\n",
    "    glob.glob('../data/r72/*.tsv'), reverse = True)\n",
    "inp_pths"
   ]
  },
  {
   "cell_type": "markdown",
   "id": "9387d749-7245-4a5b-b33e-2f8516c53a9a",
   "metadata": {
    "jp-MarkdownHeadingCollapsed": true
   },
   "source": [
    "##### Check label capitalization on input paths"
   ]
  },
  {
   "cell_type": "code",
   "execution_count": null,
   "id": "c490bf74-2233-4e72-84dc-66c4a06beb2e",
   "metadata": {},
   "outputs": [],
   "source": [
    "for inp_pth in inp_pths:\n",
    "    df = pd.read_csv(\n",
    "        inp_pth, sep = '\\t', index_col = 0)\n",
    "    print(df.System.unique())"
   ]
  },
  {
   "cell_type": "code",
   "execution_count": null,
   "id": "c9a8d399-07d2-4191-9471-4c7ea53b82dc",
   "metadata": {},
   "outputs": [],
   "source": [
    "# Conclusion - MBatch rebuild script converted to caps\n",
    "    # archive caps versions\n",
    "    # conver to lowercase and re-write"
   ]
  },
  {
   "cell_type": "markdown",
   "id": "b70d9b49-6104-43cf-a9ff-12a5120ac260",
   "metadata": {
    "jp-MarkdownHeadingCollapsed": true
   },
   "source": [
    "#### MBatch"
   ]
  },
  {
   "cell_type": "code",
   "execution_count": null,
   "id": "e2641fee-9509-4086-bea0-94e3f16a4dda",
   "metadata": {},
   "outputs": [],
   "source": [
    "# phase = 'MBatch'\n",
    "mb_pths = sorted(\n",
    "    glob.glob('../results/r72/mbatch/*.tsv'), reverse = True)\n",
    "mb_pths"
   ]
  },
  {
   "cell_type": "markdown",
   "id": "68c52cdf-0699-46be-875d-5ed5126feef7",
   "metadata": {
    "jp-MarkdownHeadingCollapsed": true
   },
   "source": [
    "##### MBatch i-o de-capitilize"
   ]
  },
  {
   "cell_type": "code",
   "execution_count": null,
   "id": "94414391-a9bc-4d35-86d5-714daf716a3f",
   "metadata": {},
   "outputs": [],
   "source": [
    "for mb_pth in mb_pths:\n",
    "    df = pd.read_csv(\n",
    "        mb_pth, sep = '\\t', index_col = 0)\n",
    "    print(df.System.unique())"
   ]
  },
  {
   "cell_type": "code",
   "execution_count": null,
   "id": "0cb3cf7f-bebd-4549-8abf-132cf28e192d",
   "metadata": {},
   "outputs": [],
   "source": [
    "mb_pths = sorted(\n",
    "    glob.glob('../results/r72/mbatch/cap_lbls_archive/*.tsv'), reverse = True)\n",
    "for mb_pth in mb_pths:\n",
    "    # print(mb_pth)\n",
    "    f_nm = mb_pth.split('/')[-1]\n",
    "    df = pd.read_csv(\n",
    "        mb_pth, sep = '\\t', index_col = 0)\n",
    "    print(df.System.unique())\n",
    "\n",
    "    df['System'] = df['System'].str.lower()\n",
    "    \n",
    "    print(df.System.unique())\n",
    "\n",
    "    df.to_csv(\n",
    "        '../results/r72/mbatch/'+f_nm,\n",
    "        sep = '\\t')\n",
    "    print(' ')\n",
    "    # break"
   ]
  },
  {
   "cell_type": "code",
   "execution_count": null,
   "id": "3d06ea37-5d03-40b7-b50f-ab63a9cf3b9d",
   "metadata": {},
   "outputs": [],
   "source": [
    "f_nm = mb_pth.split('/')[-1]"
   ]
  },
  {
   "cell_type": "code",
   "execution_count": null,
   "id": "7ae04232-ea47-4912-bf33-9cefe2c51e38",
   "metadata": {},
   "outputs": [],
   "source": [
    "f_nm"
   ]
  },
  {
   "cell_type": "markdown",
   "id": "3011eee1-2c3f-4299-9904-cc4784d7d486",
   "metadata": {
    "jp-MarkdownHeadingCollapsed": true
   },
   "source": [
    "#### VAE"
   ]
  },
  {
   "cell_type": "code",
   "execution_count": null,
   "id": "e1b3337a-7de8-40fe-b82a-dd9c801ce4a9",
   "metadata": {},
   "outputs": [],
   "source": [
    "ls ../results/r72/vae/"
   ]
  },
  {
   "cell_type": "code",
   "execution_count": null,
   "id": "52fd612b-2aee-4c13-8f41-090e1a0ba014",
   "metadata": {},
   "outputs": [],
   "source": [
    "# phase = 'VAE'\n",
    "vae_pths = sorted(\n",
    "    glob.glob('../results/r72/vae/*.tsv'), reverse = True)\n",
    "vae_pths"
   ]
  },
  {
   "cell_type": "markdown",
   "id": "57044056-445e-47be-805d-cf70fa37e175",
   "metadata": {},
   "source": [
    "#### Tybalt"
   ]
  },
  {
   "cell_type": "code",
   "execution_count": null,
   "id": "420e07b1-ac97-4b71-8ebe-3950858c3ba7",
   "metadata": {},
   "outputs": [],
   "source": [
    "ls ../results/r72/tybalt/"
   ]
  },
  {
   "cell_type": "code",
   "execution_count": 6,
   "id": "83a9faf2-b6bd-4129-a13e-6bd34c65d6d9",
   "metadata": {},
   "outputs": [
    {
     "data": {
      "text/plain": [
       "['../results/r72/tybalt/nc5_transcriptomics_cell-line+CPTAC.250-ltnt-dim_12-epchs.tsv',\n",
       " '../results/r72/tybalt/nc2_transcriptomics_HCMI+CPTAC.250-ltnt-dim_12-epchs.tsv']"
      ]
     },
     "execution_count": 6,
     "metadata": {},
     "output_type": "execute_result"
    }
   ],
   "source": [
    "tb_pths = sorted(\n",
    "    glob.glob('../results/r72/tybalt/*.tsv'), reverse = True)\n",
    "tb_pths"
   ]
  },
  {
   "cell_type": "code",
   "execution_count": null,
   "id": "27109080-6785-46b4-b5e5-523705e253a2",
   "metadata": {},
   "outputs": [],
   "source": [
    "# skip RFE for now, start with 3 clf on raw and mbatch"
   ]
  },
  {
   "cell_type": "markdown",
   "id": "0f46e028-dc49-4624-a6a5-15b8bea94808",
   "metadata": {
    "jp-MarkdownHeadingCollapsed": true
   },
   "source": [
    "### RFE"
   ]
  },
  {
   "cell_type": "code",
   "execution_count": null,
   "id": "2fa42486-ff6d-44c8-8126-2329157c4ba1",
   "metadata": {},
   "outputs": [],
   "source": [
    "for pth in inp:\n",
    "    df = pd.read_csv(\n",
    "        pth, sep = '\\t', index_col = 0)\n",
    "    X = df.iloc[:, 2:]\n",
    "    break"
   ]
  },
  {
   "cell_type": "code",
   "execution_count": null,
   "id": "f837add9-7a33-4f97-b588-3f2ce69f1f3a",
   "metadata": {},
   "outputs": [],
   "source": [
    "df"
   ]
  },
  {
   "cell_type": "code",
   "execution_count": null,
   "id": "45fb3fba-c6cc-4370-a703-741b4a16f809",
   "metadata": {},
   "outputs": [],
   "source": [
    "estimator = SVR(kernel=\"linear\")\n",
    "rfe = RFE(estimator=estimator, n_features_to_select=10, step=0.5)\n",
    "file_n = pd.read_csv(pth, sep = '\\t', index_col = 0) # read validation split file\n",
    "X = file_n.iloc[:, 1:]\n",
    "y = file_n.iloc[:, 0]\n",
    "rfe.fit(X, y)\n",
    "mask = rfe.support_\n",
    "vs_dict[vs] = json.dumps(list(X.columns[mask]))"
   ]
  },
  {
   "cell_type": "markdown",
   "id": "62f2ae5a-23fb-4326-939f-52c4b9ac2192",
   "metadata": {},
   "source": [
    "### Subsample cross val"
   ]
  },
  {
   "cell_type": "code",
   "execution_count": null,
   "id": "aae09068-10c2-4b92-8647-d9ec7af152dc",
   "metadata": {},
   "outputs": [],
   "source": [
    "# Sub-sample input at 80%\n",
    "# match row index on corr df"
   ]
  },
  {
   "cell_type": "code",
   "execution_count": 7,
   "id": "01fc1df2-7bff-4a1e-a5e5-778a66486674",
   "metadata": {},
   "outputs": [
    {
     "data": {
      "text/plain": [
       "['../data/r72/nc5_transcriptomics_cell-line+CPTAC.tsv',\n",
       " '../data/r72/nc2_transcriptomics_HCMI+CPTAC.tsv']"
      ]
     },
     "execution_count": 7,
     "metadata": {},
     "output_type": "execute_result"
    }
   ],
   "source": [
    "inp_pths"
   ]
  },
  {
   "cell_type": "code",
   "execution_count": 8,
   "id": "5fda4959-2809-4bc8-960f-e67075844e44",
   "metadata": {},
   "outputs": [
    {
     "data": {
      "text/plain": [
       "['../results/r72/tybalt/nc5_transcriptomics_cell-line+CPTAC.250-ltnt-dim_12-epchs.tsv',\n",
       " '../results/r72/tybalt/nc2_transcriptomics_HCMI+CPTAC.250-ltnt-dim_12-epchs.tsv']"
      ]
     },
     "execution_count": 8,
     "metadata": {},
     "output_type": "execute_result"
    }
   ],
   "source": [
    "tb_pths"
   ]
  },
  {
   "cell_type": "code",
   "execution_count": null,
   "id": "a90f0ee2-cd3b-4b86-962e-d030de409f15",
   "metadata": {},
   "outputs": [],
   "source": [
    "vae_pths"
   ]
  },
  {
   "cell_type": "code",
   "execution_count": null,
   "id": "5026e87a-4e29-4ae7-ac79-4652afc17492",
   "metadata": {},
   "outputs": [],
   "source": [
    "# Questions - sub-sample on only the input?\n",
    "# Predict on entire CPTAC?\n",
    "\n",
    "# split before subsample? - yes, that's what X was"
   ]
  },
  {
   "cell_type": "code",
   "execution_count": 9,
   "id": "63d4bbe4-de55-4217-acf6-65f2feb46c3a",
   "metadata": {},
   "outputs": [
    {
     "name": "stdout",
     "output_type": "stream",
     "text": [
      "inpt len: 827\n"
     ]
    }
   ],
   "source": [
    "# Input load\n",
    "input_df = pd.read_csv(\n",
    "                inp_pths[0], # nc5 file\n",
    "                sep = '\\t',\n",
    "                index_col = 0)\n",
    "print('inpt len:', len(input_df))"
   ]
  },
  {
   "cell_type": "code",
   "execution_count": null,
   "id": "89062a49-ba75-436d-8b55-5bd1841e162e",
   "metadata": {},
   "outputs": [],
   "source": [
    "# VAE load\n",
    "corr_df = pd.read_csv(\n",
    "        vae_pths[0], sep = '\\t', index_col = 0)\n",
    "print('vae latent len:', len(corr_df))"
   ]
  },
  {
   "cell_type": "code",
   "execution_count": 10,
   "id": "5baa14d0-830d-4f67-9cff-07eced054a2c",
   "metadata": {},
   "outputs": [
    {
     "name": "stdout",
     "output_type": "stream",
     "text": [
      "vae latent len: 827\n"
     ]
    }
   ],
   "source": [
    "# Tybalt load\n",
    "corr_df = pd.read_csv(\n",
    "        tb_pths[0], sep = '\\t', index_col = 0)\n",
    "print('vae latent len:', len(corr_df))"
   ]
  },
  {
   "cell_type": "code",
   "execution_count": null,
   "id": "cf89432f-a4b3-4014-9a8a-c23217001983",
   "metadata": {},
   "outputs": [],
   "source": [
    "# Correction load, method to evaluate\n",
    "corr_df = pd.read_csv(\n",
    "        vae_pths[0], sep = '\\t', index_col = 0)\n",
    "print('vae latent len:', len(corr_df))"
   ]
  },
  {
   "cell_type": "code",
   "execution_count": null,
   "id": "08809581-2c43-4f90-9a75-9963e38486f2",
   "metadata": {},
   "outputs": [],
   "source": [
    "# MBatch\n"
   ]
  },
  {
   "cell_type": "code",
   "execution_count": null,
   "id": "ec89c611-cf6e-4204-ba9f-6ee539ee9713",
   "metadata": {},
   "outputs": [],
   "source": [
    "# Cellinger\n"
   ]
  },
  {
   "cell_type": "markdown",
   "id": "b4a19dea-b1bf-46a6-9a9f-b28b30c8405a",
   "metadata": {},
   "source": [
    "### Clf"
   ]
  },
  {
   "cell_type": "code",
   "execution_count": null,
   "id": "773b2245-d5b6-4072-b61a-9ee43d202de5",
   "metadata": {},
   "outputs": [],
   "source": [
    "# Options - store in DF"
   ]
  },
  {
   "cell_type": "code",
   "execution_count": 20,
   "id": "646ceb92-52c1-47a9-b74a-72502f06ecb1",
   "metadata": {
    "scrolled": true
   },
   "outputs": [
    {
     "ename": "SyntaxError",
     "evalue": "invalid syntax (4130707898.py, line 26)",
     "output_type": "error",
     "traceback": [
      "\u001b[0;36m  Cell \u001b[0;32mIn[20], line 26\u001b[0;36m\u001b[0m\n\u001b[0;31m    x_val_lst =\u001b[0m\n\u001b[0m                ^\u001b[0m\n\u001b[0;31mSyntaxError\u001b[0m\u001b[0;31m:\u001b[0m invalid syntax\n"
     ]
    }
   ],
   "source": [
    "# print('Begin clf on ', phase)\n",
    "print('Begin sub-sample matched-cross val clssfctn evals')\n",
    "print(' ')\n",
    "print('Input file:\\n', inp_pths[0])\n",
    "print(' ')\n",
    "\n",
    "# print('Corrected file:\\n', vae_pths)\n",
    "# print(' ')\n",
    "\n",
    "clf_list = [RandomForestClassifier(max_depth=2, random_state=0),\n",
    "            tree.DecisionTreeClassifier(),\n",
    "            LogisticRegression(random_state=0, max_iter=5000),\n",
    "            make_pipeline(StandardScaler(),\n",
    "                LinearSVC(dual=\"auto\", random_state=0,\n",
    "                          max_iter=5000, tol=1e-5))]\n",
    "\n",
    "inp_mdl_sys_train_df = input_df[input_df.System == 'cell-line']\n",
    "X_input = inp_mdl_sys_train_df.iloc[:, 2:]\n",
    "\n",
    "corr_mdl_sys_train_df = corr_df[corr_df.System == 'cell-line']\n",
    "X_corr = corr_mdl_sys_train_df.iloc[:, 2:]\n",
    "\n",
    "# Sub\n",
    "input_dict = {}\n",
    "corr_dict = {}\n",
    "x_val_lst = \n",
    "\n",
    "for cross_val in list(range(0,5)):\n",
    "    print(cross_val)\n",
    "    break\n",
    "    x_val_lst.append(cross_val)\n",
    "    # Train set sub-sample, input - X and y\n",
    "    X_input = X_input.sample(round(len(X_input)*.8))\n",
    "    y_input = inp_mdl_sys_train_df[inp_mdl_sys_train_df.index.isin(\n",
    "                                        X_input.index)].Cancer_type\n",
    "\n",
    "    # Train set sub-sample, corr - X and y\n",
    "    X_corr = X_corr[X_corr.index.isin(X_input.index)]\n",
    "    y_corr = corr_mdl_sys_train_df[corr_mdl_sys_train_df.index.isin(\n",
    "                                        X_corr.index)].Cancer_type\n",
    "\n",
    "    # Test set extraction, input and corr\n",
    "    CPTAC_input = input_df[input_df.System == 'cptac']\n",
    "    CPTAC_corr = corr_df[corr_df.System == 'cptac']\n",
    "\n",
    "    print(len(CPTAC_input))\n",
    "    print(len(CPTAC_corr))\n",
    "    \n",
    "    \n",
    "    # Store scores by clf\n",
    "    \n",
    "    clf_i_list = ['RF', 'DT', 'LR', 'SVM']\n",
    "\n",
    "    # Classifier loop, input\n",
    "    # inp_clf_score_dict = {}\n",
    "    print('Start input loop')\n",
    "    input_score_list = []\n",
    "    for clf_i, clf in enumerate(clf_list):\n",
    "        print(clf)\n",
    "        print(clf_i_list[clf_i])\n",
    "\n",
    "        clf.fit(X_input,\n",
    "                y_input)\n",
    "    \n",
    "        score = f1_score(CPTAC_input.Cancer_type,\n",
    "                         clf.predict(CPTAC_input.iloc[:, 2:]),\n",
    "                         average = 'weighted')\n",
    "        \n",
    "        # inp_clf_score_list.append(score)\n",
    "        input_dict[clf_i_list[clf_i]] = inp_clf_score_list    \n",
    "    print(' ')\n",
    "\n",
    "    # Classifier loop, correction method\n",
    "    corr_clf_score_dict = {}\n",
    "    print('Start correction eval loop')\n",
    "    corr_clf_score_list = []\n",
    "    for clf_i, clf in enumerate(clf_list):\n",
    "        # clf = Scikit-learn.method ?\n",
    "        print(clf)\n",
    "        print(clf_i_list[clf_i])\n",
    "\n",
    "        clf.fit(X_corr,\n",
    "                y_corr)\n",
    "    \n",
    "        score = f1_score(CPTAC_corr.Cancer_type,\n",
    "                         clf.predict(CPTAC_corr.iloc[:, 2:]),\n",
    "                         average = 'weighted')\n",
    "        \n",
    "        corr_clf_score_list.append(score)\n",
    "    corr_clf_score_dict[clf_i_list[clf_i]] = corr_clf_score_list    \n",
    "    print(' ')\n",
    "\n",
    "    print('end cross fold one')\n",
    "    break\n",
    "print('done')"
   ]
  },
  {
   "cell_type": "code",
   "execution_count": 19,
   "id": "6be25472-cf64-4e5b-b8d7-11bcfcfe5823",
   "metadata": {},
   "outputs": [
    {
     "data": {
      "text/html": [
       "<div>\n",
       "<style scoped>\n",
       "    .dataframe tbody tr th:only-of-type {\n",
       "        vertical-align: middle;\n",
       "    }\n",
       "\n",
       "    .dataframe tbody tr th {\n",
       "        vertical-align: top;\n",
       "    }\n",
       "\n",
       "    .dataframe thead th {\n",
       "        text-align: right;\n",
       "    }\n",
       "</style>\n",
       "<table border=\"1\" class=\"dataframe\">\n",
       "  <thead>\n",
       "    <tr style=\"text-align: right;\">\n",
       "      <th></th>\n",
       "      <th>SVM</th>\n",
       "    </tr>\n",
       "  </thead>\n",
       "  <tbody>\n",
       "    <tr>\n",
       "      <th>0</th>\n",
       "      <td>0.058059</td>\n",
       "    </tr>\n",
       "    <tr>\n",
       "      <th>1</th>\n",
       "      <td>0.063249</td>\n",
       "    </tr>\n",
       "    <tr>\n",
       "      <th>2</th>\n",
       "      <td>0.058059</td>\n",
       "    </tr>\n",
       "    <tr>\n",
       "      <th>3</th>\n",
       "      <td>0.053324</td>\n",
       "    </tr>\n",
       "  </tbody>\n",
       "</table>\n",
       "</div>"
      ],
      "text/plain": [
       "        SVM\n",
       "0  0.058059\n",
       "1  0.063249\n",
       "2  0.058059\n",
       "3  0.053324"
      ]
     },
     "execution_count": 19,
     "metadata": {},
     "output_type": "execute_result"
    }
   ],
   "source": [
    "pd.DataFrame(inp_clf_score_dict)"
   ]
  },
  {
   "cell_type": "code",
   "execution_count": 18,
   "id": "221ffc63-9077-47e5-b49d-43140fa2494d",
   "metadata": {},
   "outputs": [
    {
     "data": {
      "text/html": [
       "<div>\n",
       "<style scoped>\n",
       "    .dataframe tbody tr th:only-of-type {\n",
       "        vertical-align: middle;\n",
       "    }\n",
       "\n",
       "    .dataframe tbody tr th {\n",
       "        vertical-align: top;\n",
       "    }\n",
       "\n",
       "    .dataframe thead th {\n",
       "        text-align: right;\n",
       "    }\n",
       "</style>\n",
       "<table border=\"1\" class=\"dataframe\">\n",
       "  <thead>\n",
       "    <tr style=\"text-align: right;\">\n",
       "      <th></th>\n",
       "      <th>SVM</th>\n",
       "    </tr>\n",
       "  </thead>\n",
       "  <tbody>\n",
       "    <tr>\n",
       "      <th>0</th>\n",
       "      <td>0.449844</td>\n",
       "    </tr>\n",
       "    <tr>\n",
       "      <th>1</th>\n",
       "      <td>0.293701</td>\n",
       "    </tr>\n",
       "    <tr>\n",
       "      <th>2</th>\n",
       "      <td>0.434028</td>\n",
       "    </tr>\n",
       "    <tr>\n",
       "      <th>3</th>\n",
       "      <td>0.263939</td>\n",
       "    </tr>\n",
       "  </tbody>\n",
       "</table>\n",
       "</div>"
      ],
      "text/plain": [
       "        SVM\n",
       "0  0.449844\n",
       "1  0.293701\n",
       "2  0.434028\n",
       "3  0.263939"
      ]
     },
     "execution_count": 18,
     "metadata": {},
     "output_type": "execute_result"
    }
   ],
   "source": [
    "pd.DataFrame(corr_clf_score_dict)"
   ]
  },
  {
   "cell_type": "code",
   "execution_count": null,
   "id": "b09d32ac-f344-413e-b4b9-3d277f0f788f",
   "metadata": {},
   "outputs": [],
   "source": [
    "pd.DataFrame(y_corr).value_counts()"
   ]
  },
  {
   "cell_type": "code",
   "execution_count": null,
   "id": "6d1ad663-551c-41b8-bb60-ecb58c112e75",
   "metadata": {},
   "outputs": [],
   "source": [
    "pd.DataFrame(y_input).value_counts()"
   ]
  },
  {
   "cell_type": "markdown",
   "id": "d433c361-6493-491c-a140-b605138445ae",
   "metadata": {},
   "source": [
    "#### Devel"
   ]
  },
  {
   "cell_type": "code",
   "execution_count": null,
   "id": "d7aa68e4-de0f-468d-8b52-39e5a21c656f",
   "metadata": {
    "scrolled": true
   },
   "outputs": [],
   "source": [
    "df.System.unique()"
   ]
  },
  {
   "cell_type": "code",
   "execution_count": null,
   "id": "7c9b8028-35a4-4041-a199-9885a910a4cc",
   "metadata": {},
   "outputs": [],
   "source": [
    "df.System.value_counts()"
   ]
  },
  {
   "cell_type": "code",
   "execution_count": null,
   "id": "2481b0e4-2aa9-49ba-b034-b67abb9e70b7",
   "metadata": {},
   "outputs": [],
   "source": [
    "df.Cancer_type.unique()"
   ]
  },
  {
   "cell_type": "code",
   "execution_count": null,
   "id": "46760e3c-da2e-477a-9b32-43c6b28a7971",
   "metadata": {},
   "outputs": [],
   "source": [
    "df.Cancer_type.value_counts()"
   ]
  },
  {
   "cell_type": "markdown",
   "id": "eeaebb31-22e5-494b-8a1e-5c6ee5cc434a",
   "metadata": {},
   "source": [
    "#### Run 1"
   ]
  },
  {
   "cell_type": "code",
   "execution_count": null,
   "id": "014f73f3-451e-4709-8c2b-6ecb7bc00ce5",
   "metadata": {},
   "outputs": [],
   "source": [
    "train_list = ['cell-line', 'hcmi']\n",
    "\n",
    "# toggle_val = 1\n",
    "\n",
    "# for trn_i, pth in enumerate(inp[toggle_val]):\n",
    "for pth in [phase_pths[toggle_val]]:\n",
    "    # break\n",
    "    df = pd.read_csv(\n",
    "        pth, sep = '\\t', index_col = 0)\n",
    "    # break\n",
    "    # Train on cell line, n = 261\n",
    "    non_human_train_df = df[df.System == train_list[toggle_val]]\n",
    "    X = non_human_train_df.iloc[:, 2:]\n",
    "\n",
    "    CPTAC_df = df[df.System == 'cptac']\n",
    "\n",
    "    # Store scores by clf\n",
    "    clf_i_list = ['RF', 'DT', 'LR',]\n",
    "    clf_score_dict = {}\n",
    "    for clf_i, clf in enumerate(clf_list):\n",
    "\n",
    "        for cv_split in list(range(0,1)):\n",
    "\n",
    "            clf.fit(X,\n",
    "                    non_human_train_df.Cancer_type)\n",
    "    \n",
    "            score = f1_score(CPTAC_df.Cancer_type,\n",
    "                             clf.predict(CPTAC_df.iloc[:, 2:]),\n",
    "                             average = 'weighted')\n",
    "            clf_score_dict[clf_i_list[clf_i]] = score\n",
    "            # break\n",
    "        print(' ')\n",
    "        # break\n",
    "    # break # cell line, HCMI\n",
    "print('done')"
   ]
  },
  {
   "cell_type": "markdown",
   "id": "e902194e-3147-4318-acd7-d2b12b9a6398",
   "metadata": {},
   "source": [
    "#### Notes"
   ]
  },
  {
   "cell_type": "code",
   "execution_count": null,
   "id": "3d63479e-9332-470d-be6f-f5964d474be8",
   "metadata": {},
   "outputs": [],
   "source": [
    "# clf = tree.DecisionTreeClassifier()\n",
    "# clf = LogisticRegression(random_state=0).fit(X, y)"
   ]
  }
 ],
 "metadata": {
  "kernelspec": {
   "display_name": "Python 3 (ipykernel)",
   "language": "python",
   "name": "python3"
  },
  "language_info": {
   "codemirror_mode": {
    "name": "ipython",
    "version": 3
   },
   "file_extension": ".py",
   "mimetype": "text/x-python",
   "name": "python",
   "nbconvert_exporter": "python",
   "pygments_lexer": "ipython3",
   "version": "3.10.8"
  }
 },
 "nbformat": 4,
 "nbformat_minor": 5
}
