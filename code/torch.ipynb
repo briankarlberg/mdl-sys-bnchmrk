{
 "cells": [
  {
   "cell_type": "code",
   "execution_count": null,
   "id": "7088d7fa-6c9c-45ea-a37b-83ada57c5e91",
   "metadata": {},
   "outputs": [],
   "source": [
    "# Torch install\n",
    "\n",
    "conda create -n py310torch python=3.10\n",
    "conda activate py310torch\n",
    "conda install pytorch torchvision torchaudio -c pytorch\n",
    "\n",
    "# conda install -c conda-forge jupyterlab\n",
    "# ^ Fail\n",
    "\n",
    "pip install jupyterlab\n",
    "\n",
    "jupyter-lab"
   ]
  },
  {
   "cell_type": "code",
   "execution_count": 1,
   "id": "a39b34fd-38ce-4215-9608-866b34f64157",
   "metadata": {},
   "outputs": [],
   "source": [
    "import torch\n",
    "import torch.nn as nn\n",
    "import torch.optim as optim"
   ]
  },
  {
   "cell_type": "code",
   "execution_count": null,
   "id": "63264f6d-9c72-4120-b70d-9789fee17f51",
   "metadata": {},
   "outputs": [],
   "source": []
  },
  {
   "cell_type": "code",
   "execution_count": null,
   "id": "cf30e1ac-f062-4dc8-9db0-03706934344e",
   "metadata": {},
   "outputs": [],
   "source": []
  },
  {
   "cell_type": "code",
   "execution_count": null,
   "id": "fc144354-16c6-42ff-a4ed-73d9ba28c87a",
   "metadata": {},
   "outputs": [],
   "source": []
  }
 ],
 "metadata": {
  "kernelspec": {
   "display_name": "Python 3 (ipykernel)",
   "language": "python",
   "name": "python3"
  },
  "language_info": {
   "codemirror_mode": {
    "name": "ipython",
    "version": 3
   },
   "file_extension": ".py",
   "mimetype": "text/x-python",
   "name": "python",
   "nbconvert_exporter": "python",
   "pygments_lexer": "ipython3",
   "version": "3.10.13"
  }
 },
 "nbformat": 4,
 "nbformat_minor": 5
}
