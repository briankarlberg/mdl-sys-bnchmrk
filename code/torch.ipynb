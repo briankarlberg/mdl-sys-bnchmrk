{
 "cells": [
  {
   "cell_type": "code",
   "execution_count": null,
   "id": "7088d7fa-6c9c-45ea-a37b-83ada57c5e91",
   "metadata": {},
   "outputs": [],
   "source": [
    "# Torch install\n",
    "\n",
    "conda create -n py310torch python=3.10\n",
    "conda activate py310torch\n",
    "conda install pytorch torchvision torchaudio -c pytorch\n",
    "\n",
    "# conda install -c conda-forge jupyterlab\n",
    "# ^ Fail\n",
    "\n",
    "pip install jupyterlab\n",
    "\n",
    "jupyter-lab\n",
    "\n",
    "pip install pandas"
   ]
  },
  {
   "cell_type": "code",
   "execution_count": 1,
   "id": "a39b34fd-38ce-4215-9608-866b34f64157",
   "metadata": {},
   "outputs": [],
   "source": [
    "import torch\n",
    "import torch.nn as nn\n",
    "import torch.optim as optim"
   ]
  },
  {
   "cell_type": "code",
   "execution_count": 5,
   "id": "4f9b718f-6c4e-49d4-b972-b2e7142dd1d9",
   "metadata": {},
   "outputs": [],
   "source": [
    "# Data handling & comparision setup\n",
    "import pandas as pd\n",
    "import glob"
   ]
  },
  {
   "cell_type": "code",
   "execution_count": 6,
   "id": "63264f6d-9c72-4120-b70d-9789fee17f51",
   "metadata": {},
   "outputs": [
    {
     "data": {
      "text/plain": [
       "['../data/r72/nc5_transcriptomics_cell-line+CPTAC.tsv',\n",
       " '../data/r72/nc2_transcriptomics_HCMI+CPTAC.tsv']"
      ]
     },
     "execution_count": 6,
     "metadata": {},
     "output_type": "execute_result"
    }
   ],
   "source": [
    "# Read the structured input data, \n",
    "inp_pths = sorted(\n",
    "    glob.glob('../data/r72/*.tsv'), reverse = True)\n",
    "inp_pths"
   ]
  },
  {
   "cell_type": "code",
   "execution_count": 7,
   "id": "cf30e1ac-f062-4dc8-9db0-03706934344e",
   "metadata": {},
   "outputs": [
    {
     "name": "stdout",
     "output_type": "stream",
     "text": [
      "827\n"
     ]
    }
   ],
   "source": [
    "input_df = pd.read_csv(\n",
    "        inp_pths[0], sep = '\\t', index_col = 0)\n",
    "print(len(input_df))"
   ]
  },
  {
   "cell_type": "code",
   "execution_count": 18,
   "id": "fc144354-16c6-42ff-a4ed-73d9ba28c87a",
   "metadata": {},
   "outputs": [
    {
     "name": "stdout",
     "output_type": "stream",
     "text": [
      "(827, 19133)\n"
     ]
    },
    {
     "data": {
      "text/html": [
       "<div>\n",
       "<style scoped>\n",
       "    .dataframe tbody tr th:only-of-type {\n",
       "        vertical-align: middle;\n",
       "    }\n",
       "\n",
       "    .dataframe tbody tr th {\n",
       "        vertical-align: top;\n",
       "    }\n",
       "\n",
       "    .dataframe thead th {\n",
       "        text-align: right;\n",
       "    }\n",
       "</style>\n",
       "<table border=\"1\" class=\"dataframe\">\n",
       "  <thead>\n",
       "    <tr style=\"text-align: right;\">\n",
       "      <th></th>\n",
       "      <th>System</th>\n",
       "      <th>Cancer_type</th>\n",
       "      <th>entrz_tran_1</th>\n",
       "      <th>entrz_tran_2</th>\n",
       "    </tr>\n",
       "    <tr>\n",
       "      <th>improve_sample_id</th>\n",
       "      <th></th>\n",
       "      <th></th>\n",
       "      <th></th>\n",
       "      <th></th>\n",
       "    </tr>\n",
       "  </thead>\n",
       "  <tbody>\n",
       "    <tr>\n",
       "      <th>smpl_id_101</th>\n",
       "      <td>cell-line</td>\n",
       "      <td>glioblastoma</td>\n",
       "      <td>4.173927</td>\n",
       "      <td>0.176323</td>\n",
       "    </tr>\n",
       "    <tr>\n",
       "      <th>smpl_id_1036</th>\n",
       "      <td>cell-line</td>\n",
       "      <td>colon-adeno</td>\n",
       "      <td>0.000000</td>\n",
       "      <td>0.622930</td>\n",
       "    </tr>\n",
       "    <tr>\n",
       "      <th>smpl_id_1059</th>\n",
       "      <td>cell-line</td>\n",
       "      <td>pancreatic-adeno</td>\n",
       "      <td>0.000000</td>\n",
       "      <td>0.000000</td>\n",
       "    </tr>\n",
       "  </tbody>\n",
       "</table>\n",
       "</div>"
      ],
      "text/plain": [
       "                      System       Cancer_type  entrz_tran_1  entrz_tran_2\n",
       "improve_sample_id                                                         \n",
       "smpl_id_101        cell-line      glioblastoma      4.173927      0.176323\n",
       "smpl_id_1036       cell-line       colon-adeno      0.000000      0.622930\n",
       "smpl_id_1059       cell-line  pancreatic-adeno      0.000000      0.000000"
      ]
     },
     "execution_count": 18,
     "metadata": {},
     "output_type": "execute_result"
    }
   ],
   "source": [
    "print(input_df.shape)\n",
    "input_df.iloc[:3, :4]"
   ]
  },
  {
   "cell_type": "code",
   "execution_count": 10,
   "id": "02a51de1-87e5-44a8-be04-abb89ae386f8",
   "metadata": {},
   "outputs": [
    {
     "data": {
      "text/plain": [
       "System\n",
       "cptac        566\n",
       "cell-line    261\n",
       "Name: count, dtype: int64"
      ]
     },
     "execution_count": 10,
     "metadata": {},
     "output_type": "execute_result"
    }
   ],
   "source": [
    "input_df.System.value_counts()"
   ]
  },
  {
   "cell_type": "code",
   "execution_count": 17,
   "id": "9a7fc3f8-8a7e-4799-a6ed-983d36c9e402",
   "metadata": {},
   "outputs": [],
   "source": [
    "cell_line_obj = input_df[input_df.System == 'cell-line']\n",
    "cptac_obj = input_df[input_df.System == 'cptac']"
   ]
  },
  {
   "cell_type": "code",
   "execution_count": 20,
   "id": "fc4a39e9-24d9-4ad8-836d-5f2087f1cfcc",
   "metadata": {},
   "outputs": [
    {
     "name": "stdout",
     "output_type": "stream",
     "text": [
      "(261, 19133)\n"
     ]
    },
    {
     "data": {
      "text/html": [
       "<div>\n",
       "<style scoped>\n",
       "    .dataframe tbody tr th:only-of-type {\n",
       "        vertical-align: middle;\n",
       "    }\n",
       "\n",
       "    .dataframe tbody tr th {\n",
       "        vertical-align: top;\n",
       "    }\n",
       "\n",
       "    .dataframe thead th {\n",
       "        text-align: right;\n",
       "    }\n",
       "</style>\n",
       "<table border=\"1\" class=\"dataframe\">\n",
       "  <thead>\n",
       "    <tr style=\"text-align: right;\">\n",
       "      <th></th>\n",
       "      <th>System</th>\n",
       "      <th>Cancer_type</th>\n",
       "      <th>entrz_tran_1</th>\n",
       "      <th>entrz_tran_2</th>\n",
       "    </tr>\n",
       "    <tr>\n",
       "      <th>improve_sample_id</th>\n",
       "      <th></th>\n",
       "      <th></th>\n",
       "      <th></th>\n",
       "      <th></th>\n",
       "    </tr>\n",
       "  </thead>\n",
       "  <tbody>\n",
       "    <tr>\n",
       "      <th>smpl_id_101</th>\n",
       "      <td>cell-line</td>\n",
       "      <td>glioblastoma</td>\n",
       "      <td>4.173927</td>\n",
       "      <td>0.176323</td>\n",
       "    </tr>\n",
       "    <tr>\n",
       "      <th>smpl_id_1036</th>\n",
       "      <td>cell-line</td>\n",
       "      <td>colon-adeno</td>\n",
       "      <td>0.000000</td>\n",
       "      <td>0.622930</td>\n",
       "    </tr>\n",
       "    <tr>\n",
       "      <th>smpl_id_1059</th>\n",
       "      <td>cell-line</td>\n",
       "      <td>pancreatic-adeno</td>\n",
       "      <td>0.000000</td>\n",
       "      <td>0.000000</td>\n",
       "    </tr>\n",
       "  </tbody>\n",
       "</table>\n",
       "</div>"
      ],
      "text/plain": [
       "                      System       Cancer_type  entrz_tran_1  entrz_tran_2\n",
       "improve_sample_id                                                         \n",
       "smpl_id_101        cell-line      glioblastoma      4.173927      0.176323\n",
       "smpl_id_1036       cell-line       colon-adeno      0.000000      0.622930\n",
       "smpl_id_1059       cell-line  pancreatic-adeno      0.000000      0.000000"
      ]
     },
     "execution_count": 20,
     "metadata": {},
     "output_type": "execute_result"
    }
   ],
   "source": [
    "print(cell_line_obj.shape)\n",
    "cell_line_obj.iloc[:3, :4]"
   ]
  },
  {
   "cell_type": "code",
   "execution_count": 21,
   "id": "cfd0ca16-8b71-4d81-9849-44cb195d157e",
   "metadata": {},
   "outputs": [],
   "source": [
    "cell_line_data = torch.tensor(\n",
    "    cell_line_obj.iloc[:, 2:].values,\n",
    "        dtype=torch.float32)"
   ]
  },
  {
   "cell_type": "code",
   "execution_count": 23,
   "id": "f62bd328-c2f2-46d8-b36f-df8bd1f6ccf1",
   "metadata": {},
   "outputs": [],
   "source": [
    "cptac_data = torch.tensor(\n",
    "    cptac_obj.iloc[:, 2:].values,\n",
    "        dtype=torch.float32)"
   ]
  },
  {
   "cell_type": "code",
   "execution_count": 22,
   "id": "869e4b64-f6e5-4a94-85f0-879bc8fb3807",
   "metadata": {},
   "outputs": [
    {
     "data": {
      "text/plain": [
       "torch.Tensor"
      ]
     },
     "execution_count": 22,
     "metadata": {},
     "output_type": "execute_result"
    }
   ],
   "source": [
    "type(cell_line_data)"
   ]
  },
  {
   "cell_type": "code",
   "execution_count": 15,
   "id": "0f791f8e-08bf-4b0c-a452-63602cc589ee",
   "metadata": {},
   "outputs": [
    {
     "data": {
      "text/plain": [
       "torch.Tensor"
      ]
     },
     "execution_count": 15,
     "metadata": {},
     "output_type": "execute_result"
    }
   ],
   "source": [
    "type(cell_line_data)"
   ]
  },
  {
   "cell_type": "code",
   "execution_count": 14,
   "id": "71c9699d-e2e2-49df-80b6-987db819b05c",
   "metadata": {},
   "outputs": [],
   "source": [
    "cell_line_data = torch.randn(261, 19133)"
   ]
  },
  {
   "cell_type": "code",
   "execution_count": null,
   "id": "c4f8b754-4e1f-4f09-8d60-8a53e1ff0cf6",
   "metadata": {},
   "outputs": [],
   "source": [
    "# Example"
   ]
  },
  {
   "cell_type": "code",
   "execution_count": null,
   "id": "5cf65ec4-a0f3-4dd2-96f7-c7ac20b34b06",
   "metadata": {},
   "outputs": [],
   "source": [
    "class BatchCorrector(nn.Module):\n",
    "    def __init__(self, input_size):\n",
    "        super(BatchCorrector, self).__init__()\n",
    "        self.corrector = nn.Sequential(\n",
    "            nn.Linear(input_size, input_size), # You may want to add more layers\n",
    "            nn.BatchNorm1d(input_size),        # Batch normalization to reduce covariate shift\n",
    "            nn.ReLU(),\n",
    "            nn.Linear(input_size, input_size)\n",
    "        )\n",
    "\n",
    "    def forward(self, x):\n",
    "        return self.corrector(x)\n",
    "\n",
    "# Instantiate the model\n",
    "input_size = cell_line_data.shape[1]  # number of features\n",
    "model = BatchCorrector(input_size)\n",
    "\n",
    "# Loss and optimizer\n",
    "criterion = nn.MSELoss()  # Mean Squared Error Loss\n",
    "optimizer = optim.Adam(model.parameters(), lr=0.001)\n",
    "\n",
    "# A simple training loop\n",
    "for epoch in range(100):  # epochs are arbitrary\n",
    "    model.train()\n",
    "    optimizer.zero_grad()\n",
    "    \n",
    "    # Forward pass: Compute corrected batch and loss\n",
    "    corrected_batch = model(cell_line_data)\n",
    "    loss = criterion(corrected_batch, cptac_data)\n",
    "    \n",
    "    # Backward pass and optimize\n",
    "    loss.backward()\n",
    "    optimizer.step()\n",
    "    \n",
    "    if (epoch+1) % 10 == 0:\n",
    "        print(f'Epoch [{epoch+1}/100], Loss: {loss.item()}')\n",
    "\n",
    "# To correct a new batch of cell line data\n",
    "# model.eval()  # Set the model to evaluation mode\n",
    "# new_cell_line_data = torch.tensor(...)\n",
    "# corrected_new_batch = model(new_cell_line_data)"
   ]
  },
  {
   "cell_type": "code",
   "execution_count": null,
   "id": "f0013921-6085-4515-8f0f-56a2e473db8e",
   "metadata": {},
   "outputs": [],
   "source": []
  }
 ],
 "metadata": {
  "kernelspec": {
   "display_name": "Python 3 (ipykernel)",
   "language": "python",
   "name": "python3"
  },
  "language_info": {
   "codemirror_mode": {
    "name": "ipython",
    "version": 3
   },
   "file_extension": ".py",
   "mimetype": "text/x-python",
   "name": "python",
   "nbconvert_exporter": "python",
   "pygments_lexer": "ipython3",
   "version": "3.10.13"
  }
 },
 "nbformat": 4,
 "nbformat_minor": 5
}
