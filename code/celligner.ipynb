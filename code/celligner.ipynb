{
 "cells": [
  {
   "cell_type": "code",
   "execution_count": null,
   "id": "4bc295e8-2926-4b67-92e5-c3b7cdb47ed6",
   "metadata": {},
   "outputs": [],
   "source": [
    "# reverse chron order, screenshot to project parent dir"
   ]
  },
  {
   "cell_type": "code",
   "execution_count": 7,
   "id": "21081711-7eb5-4633-99c3-d48e49ac8e2c",
   "metadata": {},
   "outputs": [
    {
     "ename": "ImportError",
     "evalue": "cannot import name 'widgetbox' from 'bokeh.layouts' (/Users/karlberb/miniforge3/envs/celligner_env/lib/python3.8/site-packages/bokeh/layouts.py)",
     "output_type": "error",
     "traceback": [
      "\u001b[0;31m---------------------------------------------------------------------------\u001b[0m",
      "\u001b[0;31mImportError\u001b[0m                               Traceback (most recent call last)",
      "Cell \u001b[0;32mIn[7], line 1\u001b[0m\n\u001b[0;32m----> 1\u001b[0m \u001b[38;5;28;01mfrom\u001b[39;00m \u001b[38;5;21;01mcelligner\u001b[39;00m \u001b[38;5;28;01mimport\u001b[39;00m Celligner\n",
      "File \u001b[0;32m~/miniforge3/envs/celligner_env/lib/python3.8/site-packages/celligner/__init__.py:7\u001b[0m\n\u001b[1;32m      4\u001b[0m \u001b[38;5;28;01mfrom\u001b[39;00m \u001b[38;5;21;01mcelligner\u001b[39;00m \u001b[38;5;28;01mimport\u001b[39;00m limma\n\u001b[1;32m      6\u001b[0m \u001b[38;5;28;01mfrom\u001b[39;00m \u001b[38;5;21;01mgenepy\u001b[39;00m\u001b[38;5;21;01m.\u001b[39;00m\u001b[38;5;21;01mutils\u001b[39;00m \u001b[38;5;28;01mimport\u001b[39;00m helper \u001b[38;5;28;01mas\u001b[39;00m h\n\u001b[0;32m----> 7\u001b[0m \u001b[38;5;28;01mfrom\u001b[39;00m \u001b[38;5;21;01mgenepy\u001b[39;00m\u001b[38;5;21;01m.\u001b[39;00m\u001b[38;5;21;01mutils\u001b[39;00m \u001b[38;5;28;01mimport\u001b[39;00m plot\n\u001b[1;32m      9\u001b[0m \u001b[38;5;28;01mfrom\u001b[39;00m \u001b[38;5;21;01msklearn\u001b[39;00m\u001b[38;5;21;01m.\u001b[39;00m\u001b[38;5;21;01mdecomposition\u001b[39;00m \u001b[38;5;28;01mimport\u001b[39;00m PCA, IncrementalPCA\n\u001b[1;32m     10\u001b[0m \u001b[38;5;28;01mfrom\u001b[39;00m \u001b[38;5;21;01msklearn\u001b[39;00m\u001b[38;5;21;01m.\u001b[39;00m\u001b[38;5;21;01mlinear_model\u001b[39;00m \u001b[38;5;28;01mimport\u001b[39;00m LinearRegression\n",
      "File \u001b[0;32m~/miniforge3/envs/celligner_env/lib/python3.8/site-packages/genepy/utils/plot.py:10\u001b[0m\n\u001b[1;32m      8\u001b[0m \u001b[38;5;28;01mfrom\u001b[39;00m \u001b[38;5;21;01mmatplotlib\u001b[39;00m \u001b[38;5;28;01mimport\u001b[39;00m cm\n\u001b[1;32m      9\u001b[0m \u001b[38;5;28;01mfrom\u001b[39;00m \u001b[38;5;21;01mbokeh\u001b[39;00m\u001b[38;5;21;01m.\u001b[39;00m\u001b[38;5;21;01mpalettes\u001b[39;00m \u001b[38;5;28;01mimport\u001b[39;00m \u001b[38;5;241m*\u001b[39m\n\u001b[0;32m---> 10\u001b[0m \u001b[38;5;28;01mfrom\u001b[39;00m \u001b[38;5;21;01mbokeh\u001b[39;00m\u001b[38;5;21;01m.\u001b[39;00m\u001b[38;5;21;01mlayouts\u001b[39;00m \u001b[38;5;28;01mimport\u001b[39;00m layout, widgetbox, column, row\n\u001b[1;32m     11\u001b[0m \u001b[38;5;28;01mfrom\u001b[39;00m \u001b[38;5;21;01mbokeh\u001b[39;00m\u001b[38;5;21;01m.\u001b[39;00m\u001b[38;5;21;01mmodels\u001b[39;00m\u001b[38;5;21;01m.\u001b[39;00m\u001b[38;5;21;01mannotations\u001b[39;00m \u001b[38;5;28;01mimport\u001b[39;00m LabelSet\n\u001b[1;32m     12\u001b[0m \u001b[38;5;28;01mfrom\u001b[39;00m \u001b[38;5;21;01mbokeh\u001b[39;00m\u001b[38;5;21;01m.\u001b[39;00m\u001b[38;5;21;01mmodels\u001b[39;00m\u001b[38;5;21;01m.\u001b[39;00m\u001b[38;5;21;01mwidgets\u001b[39;00m \u001b[38;5;28;01mimport\u001b[39;00m TextInput\n",
      "\u001b[0;31mImportError\u001b[0m: cannot import name 'widgetbox' from 'bokeh.layouts' (/Users/karlberb/miniforge3/envs/celligner_env/lib/python3.8/site-packages/bokeh/layouts.py)"
     ]
    }
   ],
   "source": [
    "from celligner import Celligner"
   ]
  },
  {
   "cell_type": "code",
   "execution_count": null,
   "id": "d744c84d-755d-48df-9ee6-e78ba717a39c",
   "metadata": {},
   "outputs": [],
   "source": [
    "pip install --upgrade broad-genepy"
   ]
  },
  {
   "cell_type": "code",
   "execution_count": null,
   "id": "20eb4288-a89c-42c5-997b-72c50fe3dd3a",
   "metadata": {},
   "outputs": [],
   "source": [
    "(celligner_env) RNB11212:bnch_mrk karlberb$ pip install bokeh==1.4.0\n",
    "Collecting bokeh==1.4.0\n",
    "  Downloading bokeh-1.4.0.tar.gz (32.4 MB)\n",
    "     ━━━━━━━━━━━━━━━━━━━━━━━━━━━━━━━━━━━━━━━━ 32.4/32.4 MB 9.6 MB/s eta 0:00:00\n",
    "  Preparing metadata (setup.py) ... done\n",
    "Requirement already satisfied: six>=1.5.2 in /Users/karlberb/miniforge3/envs/celligner_env/lib/python3.8/site-packages (from bokeh==1.4.0) (1.16.0)\n",
    "Requirement already satisfied: PyYAML>=3.10 in /Users/karlberb/miniforge3/envs/celligner_env/lib/python3.8/site-packages (from bokeh==1.4.0) (6.0.1)\n",
    "Requirement already satisfied: python-dateutil>=2.1 in /Users/karlberb/miniforge3/envs/celligner_env/lib/python3.8/site-packages (from bokeh==1.4.0) (2.9.0)\n",
    "Requirement already satisfied: Jinja2>=2.7 in /Users/karlberb/miniforge3/envs/celligner_env/lib/python3.8/site-packages (from bokeh==1.4.0) (3.1.3)\n",
    "Requirement already satisfied: numpy>=1.7.1 in /Users/karlberb/miniforge3/envs/celligner_env/lib/python3.8/site-packages (from bokeh==1.4.0) (1.24.4)\n",
    "Requirement already satisfied: pillow>=4.0 in /Users/karlberb/miniforge3/envs/celligner_env/lib/python3.8/site-packages (from bokeh==1.4.0) (10.2.0)\n",
    "Requirement already satisfied: packaging>=16.8 in /Users/karlberb/miniforge3/envs/celligner_env/lib/python3.8/site-packages (from bokeh==1.4.0) (24.0)\n",
    "Requirement already satisfied: tornado>=4.3 in /Users/karlberb/miniforge3/envs/celligner_env/lib/python3.8/site-packages (from bokeh==1.4.0) (6.4)\n",
    "Requirement already satisfied: MarkupSafe>=2.0 in /Users/karlberb/miniforge3/envs/celligner_env/lib/python3.8/site-packages (from Jinja2>=2.7->bokeh==1.4.0) (2.1.5)\n",
    "Building wheels for collected packages: bokeh\n",
    "  Building wheel for bokeh (setup.py) ... done\n",
    "  Created wheel for bokeh: filename=bokeh-1.4.0-py3-none-any.whl size=23689191 sha256=a9e0cf246bb41ccb22514e79db1d7ef55f47bdfbe5ab322ec70a802f003ec271\n",
    "  Stored in directory: /Users/karlberb/Library/Caches/pip/wheels/4a/79/96/e953cfb5c24da5e5e03eb1ecb280ca88dce65661fb4d38c7b5\n",
    "Successfully built bokeh\n",
    "Installing collected packages: bokeh\n",
    "  Attempting uninstall: bokeh\n",
    "    Found existing installation: bokeh 3.1.1\n",
    "    Uninstalling bokeh-3.1.1:\n",
    "      Successfully uninstalled bokeh-3.1.1\n",
    "ERROR: pip's dependency resolver does not currently take into account all the packages that are installed. This behaviour is the source of the following dependency conflicts.\n",
    "broad-genepy 1.2.6 requires bokeh>=2.2, but you have bokeh 1.4.0 which is incompatible.\n",
    "celligner 1.1.0 requires bokeh>=2.3, but you have bokeh 1.4.0 which is incompatible.\n",
    "Successfully installed bokeh-1.4.0\n",
    "(celligner_env) RNB11212:bnch_mrk karlberb$"
   ]
  },
  {
   "cell_type": "code",
   "execution_count": null,
   "id": "b52d0a8a-a501-42ad-bea1-515436b70fc8",
   "metadata": {},
   "outputs": [],
   "source": [
    "pip install bokeh==1.4.0"
   ]
  },
  {
   "cell_type": "code",
   "execution_count": 6,
   "id": "4ab2786c-a46e-4271-b79c-0ffe84e30b07",
   "metadata": {},
   "outputs": [
    {
     "ename": "ImportError",
     "evalue": "cannot import name 'widgetbox' from 'bokeh.layouts' (/Users/karlberb/miniforge3/envs/celligner_env/lib/python3.8/site-packages/bokeh/layouts.py)",
     "output_type": "error",
     "traceback": [
      "\u001b[0;31m---------------------------------------------------------------------------\u001b[0m",
      "\u001b[0;31mImportError\u001b[0m                               Traceback (most recent call last)",
      "Cell \u001b[0;32mIn[6], line 1\u001b[0m\n\u001b[0;32m----> 1\u001b[0m \u001b[38;5;28;01mfrom\u001b[39;00m \u001b[38;5;21;01mcelligner\u001b[39;00m \u001b[38;5;28;01mimport\u001b[39;00m Celligner\n",
      "File \u001b[0;32m~/miniforge3/envs/celligner_env/lib/python3.8/site-packages/celligner/__init__.py:7\u001b[0m\n\u001b[1;32m      4\u001b[0m \u001b[38;5;28;01mfrom\u001b[39;00m \u001b[38;5;21;01mcelligner\u001b[39;00m \u001b[38;5;28;01mimport\u001b[39;00m limma\n\u001b[1;32m      6\u001b[0m \u001b[38;5;28;01mfrom\u001b[39;00m \u001b[38;5;21;01mgenepy\u001b[39;00m\u001b[38;5;21;01m.\u001b[39;00m\u001b[38;5;21;01mutils\u001b[39;00m \u001b[38;5;28;01mimport\u001b[39;00m helper \u001b[38;5;28;01mas\u001b[39;00m h\n\u001b[0;32m----> 7\u001b[0m \u001b[38;5;28;01mfrom\u001b[39;00m \u001b[38;5;21;01mgenepy\u001b[39;00m\u001b[38;5;21;01m.\u001b[39;00m\u001b[38;5;21;01mutils\u001b[39;00m \u001b[38;5;28;01mimport\u001b[39;00m plot\n\u001b[1;32m      9\u001b[0m \u001b[38;5;28;01mfrom\u001b[39;00m \u001b[38;5;21;01msklearn\u001b[39;00m\u001b[38;5;21;01m.\u001b[39;00m\u001b[38;5;21;01mdecomposition\u001b[39;00m \u001b[38;5;28;01mimport\u001b[39;00m PCA, IncrementalPCA\n\u001b[1;32m     10\u001b[0m \u001b[38;5;28;01mfrom\u001b[39;00m \u001b[38;5;21;01msklearn\u001b[39;00m\u001b[38;5;21;01m.\u001b[39;00m\u001b[38;5;21;01mlinear_model\u001b[39;00m \u001b[38;5;28;01mimport\u001b[39;00m LinearRegression\n",
      "File \u001b[0;32m~/miniforge3/envs/celligner_env/lib/python3.8/site-packages/genepy/utils/plot.py:10\u001b[0m\n\u001b[1;32m      8\u001b[0m \u001b[38;5;28;01mfrom\u001b[39;00m \u001b[38;5;21;01mmatplotlib\u001b[39;00m \u001b[38;5;28;01mimport\u001b[39;00m cm\n\u001b[1;32m      9\u001b[0m \u001b[38;5;28;01mfrom\u001b[39;00m \u001b[38;5;21;01mbokeh\u001b[39;00m\u001b[38;5;21;01m.\u001b[39;00m\u001b[38;5;21;01mpalettes\u001b[39;00m \u001b[38;5;28;01mimport\u001b[39;00m \u001b[38;5;241m*\u001b[39m\n\u001b[0;32m---> 10\u001b[0m \u001b[38;5;28;01mfrom\u001b[39;00m \u001b[38;5;21;01mbokeh\u001b[39;00m\u001b[38;5;21;01m.\u001b[39;00m\u001b[38;5;21;01mlayouts\u001b[39;00m \u001b[38;5;28;01mimport\u001b[39;00m layout, widgetbox, column, row\n\u001b[1;32m     11\u001b[0m \u001b[38;5;28;01mfrom\u001b[39;00m \u001b[38;5;21;01mbokeh\u001b[39;00m\u001b[38;5;21;01m.\u001b[39;00m\u001b[38;5;21;01mmodels\u001b[39;00m\u001b[38;5;21;01m.\u001b[39;00m\u001b[38;5;21;01mannotations\u001b[39;00m \u001b[38;5;28;01mimport\u001b[39;00m LabelSet\n\u001b[1;32m     12\u001b[0m \u001b[38;5;28;01mfrom\u001b[39;00m \u001b[38;5;21;01mbokeh\u001b[39;00m\u001b[38;5;21;01m.\u001b[39;00m\u001b[38;5;21;01mmodels\u001b[39;00m\u001b[38;5;21;01m.\u001b[39;00m\u001b[38;5;21;01mwidgets\u001b[39;00m \u001b[38;5;28;01mimport\u001b[39;00m TextInput\n",
      "\u001b[0;31mImportError\u001b[0m: cannot import name 'widgetbox' from 'bokeh.layouts' (/Users/karlberb/miniforge3/envs/celligner_env/lib/python3.8/site-packages/bokeh/layouts.py)"
     ]
    }
   ],
   "source": [
    "from celligner import Celligner"
   ]
  },
  {
   "cell_type": "code",
   "execution_count": null,
   "id": "95b7f6b3-4389-4dad-844d-94223ef04422",
   "metadata": {},
   "outputs": [],
   "source": []
  },
  {
   "cell_type": "raw",
   "id": "954ebf2a-778a-4f12-89f6-d1b6d3f54afd",
   "metadata": {},
   "source": [
    "if (!requireNamespace(\"BiocManager\", quietly = TRUE)) install.packages(\"BiocManager\")\n",
    "BiocManager::install(\"limma\")"
   ]
  },
  {
   "cell_type": "code",
   "execution_count": null,
   "id": "e482da72-e091-4566-b2ba-fcfb1895dbdd",
   "metadata": {},
   "outputs": [],
   "source": [
    "from celligner import Celligner\n",
    "[limma error, see above]"
   ]
  },
  {
   "cell_type": "code",
   "execution_count": null,
   "id": "c56f5da4-6bd0-48e7-b5dc-49c824080eaf",
   "metadata": {},
   "outputs": [],
   "source": [
    "--"
   ]
  },
  {
   "cell_type": "code",
   "execution_count": null,
   "id": "656ed02e-d737-4557-8bd6-7540a408d823",
   "metadata": {},
   "outputs": [],
   "source": [
    "conda create --name celligner_env python=3.8\n",
    "conda activate celligner_env\n",
    "\n",
    "conda install -c conda-forge jupyterlab <-\n",
    "\n",
    "pip install celligner\n",
    "\n",
    "password for fire cloud?\n",
    "\n",
    "pip install pandas numpy\n",
    "\n",
    "jupyter lab\n",
    "\n",
    "pip install jupyterlab"
   ]
  },
  {
   "cell_type": "code",
   "execution_count": 1,
   "id": "de074d53-0437-4fd1-8752-3a9d0dd7f1d4",
   "metadata": {},
   "outputs": [
    {
     "ename": "ModuleNotFoundError",
     "evalue": "No module named 'rpy2'",
     "output_type": "error",
     "traceback": [
      "\u001b[0;31m---------------------------------------------------------------------------\u001b[0m",
      "\u001b[0;31mModuleNotFoundError\u001b[0m                       Traceback (most recent call last)",
      "Cell \u001b[0;32mIn[1], line 1\u001b[0m\n\u001b[0;32m----> 1\u001b[0m \u001b[38;5;28;01mfrom\u001b[39;00m \u001b[38;5;21;01mcelligner\u001b[39;00m \u001b[38;5;28;01mimport\u001b[39;00m Celligner\n",
      "File \u001b[0;32m~/miniforge3/envs/celligner_env/lib/python3.8/site-packages/celligner/__init__.py:4\u001b[0m\n\u001b[1;32m      2\u001b[0m \u001b[38;5;28;01mfrom\u001b[39;00m \u001b[38;5;21;01mre\u001b[39;00m \u001b[38;5;28;01mimport\u001b[39;00m sub\n\u001b[1;32m      3\u001b[0m \u001b[38;5;28;01mfrom\u001b[39;00m \u001b[38;5;21;01mcelligner\u001b[39;00m\u001b[38;5;21;01m.\u001b[39;00m\u001b[38;5;21;01mparams\u001b[39;00m \u001b[38;5;28;01mimport\u001b[39;00m \u001b[38;5;241m*\u001b[39m\n\u001b[0;32m----> 4\u001b[0m \u001b[38;5;28;01mfrom\u001b[39;00m \u001b[38;5;21;01mcelligner\u001b[39;00m \u001b[38;5;28;01mimport\u001b[39;00m limma\n\u001b[1;32m      6\u001b[0m \u001b[38;5;28;01mfrom\u001b[39;00m \u001b[38;5;21;01mgenepy\u001b[39;00m\u001b[38;5;21;01m.\u001b[39;00m\u001b[38;5;21;01mutils\u001b[39;00m \u001b[38;5;28;01mimport\u001b[39;00m helper \u001b[38;5;28;01mas\u001b[39;00m h\n\u001b[1;32m      7\u001b[0m \u001b[38;5;28;01mfrom\u001b[39;00m \u001b[38;5;21;01mgenepy\u001b[39;00m\u001b[38;5;21;01m.\u001b[39;00m\u001b[38;5;21;01mutils\u001b[39;00m \u001b[38;5;28;01mimport\u001b[39;00m plot\n",
      "File \u001b[0;32m~/miniforge3/envs/celligner_env/lib/python3.8/site-packages/celligner/limma.py:9\u001b[0m\n\u001b[1;32m      7\u001b[0m \u001b[38;5;28;01mfrom\u001b[39;00m \u001b[38;5;21;01m__future__\u001b[39;00m \u001b[38;5;28;01mimport\u001b[39;00m print_function\n\u001b[1;32m      8\u001b[0m \u001b[38;5;28;01mimport\u001b[39;00m \u001b[38;5;21;01mnumpy\u001b[39;00m \u001b[38;5;28;01mas\u001b[39;00m \u001b[38;5;21;01mnp\u001b[39;00m\n\u001b[0;32m----> 9\u001b[0m \u001b[38;5;28;01mimport\u001b[39;00m \u001b[38;5;21;01mrpy2\u001b[39;00m\u001b[38;5;21;01m.\u001b[39;00m\u001b[38;5;21;01mrobjects\u001b[39;00m \u001b[38;5;28;01mas\u001b[39;00m \u001b[38;5;21;01mrobjects\u001b[39;00m\n\u001b[1;32m     10\u001b[0m \u001b[38;5;28;01mfrom\u001b[39;00m \u001b[38;5;21;01mrpy2\u001b[39;00m\u001b[38;5;21;01m.\u001b[39;00m\u001b[38;5;21;01mrobjects\u001b[39;00m \u001b[38;5;28;01mimport\u001b[39;00m pandas2ri\n\u001b[1;32m     11\u001b[0m pandas2ri\u001b[38;5;241m.\u001b[39mactivate()\n",
      "\u001b[0;31mModuleNotFoundError\u001b[0m: No module named 'rpy2'"
     ]
    }
   ],
   "source": [
    "from celligner import Celligner"
   ]
  },
  {
   "cell_type": "code",
   "execution_count": 2,
   "id": "3eaf4c06-199d-40b4-8f85-07dbaddc4506",
   "metadata": {},
   "outputs": [
    {
     "ename": "ModuleNotFoundError",
     "evalue": "No module named 'rpy2'",
     "output_type": "error",
     "traceback": [
      "\u001b[0;31m---------------------------------------------------------------------------\u001b[0m",
      "\u001b[0;31mModuleNotFoundError\u001b[0m                       Traceback (most recent call last)",
      "Cell \u001b[0;32mIn[2], line 1\u001b[0m\n\u001b[0;32m----> 1\u001b[0m \u001b[38;5;28;01mimport\u001b[39;00m \u001b[38;5;21;01mcelligner\u001b[39;00m\n",
      "File \u001b[0;32m~/miniforge3/envs/celligner_env/lib/python3.8/site-packages/celligner/__init__.py:4\u001b[0m\n\u001b[1;32m      2\u001b[0m \u001b[38;5;28;01mfrom\u001b[39;00m \u001b[38;5;21;01mre\u001b[39;00m \u001b[38;5;28;01mimport\u001b[39;00m sub\n\u001b[1;32m      3\u001b[0m \u001b[38;5;28;01mfrom\u001b[39;00m \u001b[38;5;21;01mcelligner\u001b[39;00m\u001b[38;5;21;01m.\u001b[39;00m\u001b[38;5;21;01mparams\u001b[39;00m \u001b[38;5;28;01mimport\u001b[39;00m \u001b[38;5;241m*\u001b[39m\n\u001b[0;32m----> 4\u001b[0m \u001b[38;5;28;01mfrom\u001b[39;00m \u001b[38;5;21;01mcelligner\u001b[39;00m \u001b[38;5;28;01mimport\u001b[39;00m limma\n\u001b[1;32m      6\u001b[0m \u001b[38;5;28;01mfrom\u001b[39;00m \u001b[38;5;21;01mgenepy\u001b[39;00m\u001b[38;5;21;01m.\u001b[39;00m\u001b[38;5;21;01mutils\u001b[39;00m \u001b[38;5;28;01mimport\u001b[39;00m helper \u001b[38;5;28;01mas\u001b[39;00m h\n\u001b[1;32m      7\u001b[0m \u001b[38;5;28;01mfrom\u001b[39;00m \u001b[38;5;21;01mgenepy\u001b[39;00m\u001b[38;5;21;01m.\u001b[39;00m\u001b[38;5;21;01mutils\u001b[39;00m \u001b[38;5;28;01mimport\u001b[39;00m plot\n",
      "File \u001b[0;32m~/miniforge3/envs/celligner_env/lib/python3.8/site-packages/celligner/limma.py:9\u001b[0m\n\u001b[1;32m      7\u001b[0m \u001b[38;5;28;01mfrom\u001b[39;00m \u001b[38;5;21;01m__future__\u001b[39;00m \u001b[38;5;28;01mimport\u001b[39;00m print_function\n\u001b[1;32m      8\u001b[0m \u001b[38;5;28;01mimport\u001b[39;00m \u001b[38;5;21;01mnumpy\u001b[39;00m \u001b[38;5;28;01mas\u001b[39;00m \u001b[38;5;21;01mnp\u001b[39;00m\n\u001b[0;32m----> 9\u001b[0m \u001b[38;5;28;01mimport\u001b[39;00m \u001b[38;5;21;01mrpy2\u001b[39;00m\u001b[38;5;21;01m.\u001b[39;00m\u001b[38;5;21;01mrobjects\u001b[39;00m \u001b[38;5;28;01mas\u001b[39;00m \u001b[38;5;21;01mrobjects\u001b[39;00m\n\u001b[1;32m     10\u001b[0m \u001b[38;5;28;01mfrom\u001b[39;00m \u001b[38;5;21;01mrpy2\u001b[39;00m\u001b[38;5;21;01m.\u001b[39;00m\u001b[38;5;21;01mrobjects\u001b[39;00m \u001b[38;5;28;01mimport\u001b[39;00m pandas2ri\n\u001b[1;32m     11\u001b[0m pandas2ri\u001b[38;5;241m.\u001b[39mactivate()\n",
      "\u001b[0;31mModuleNotFoundError\u001b[0m: No module named 'rpy2'"
     ]
    }
   ],
   "source": [
    "import celligner"
   ]
  },
  {
   "cell_type": "code",
   "execution_count": 3,
   "id": "d7343d26-838f-43c1-b228-d8b3c1fefa51",
   "metadata": {},
   "outputs": [
    {
     "ename": "NameError",
     "evalue": "name 'R' is not defined",
     "output_type": "error",
     "traceback": [
      "\u001b[0;31m---------------------------------------------------------------------------\u001b[0m",
      "\u001b[0;31mNameError\u001b[0m                                 Traceback (most recent call last)",
      "Cell \u001b[0;32mIn[3], line 1\u001b[0m\n\u001b[0;32m----> 1\u001b[0m \u001b[43mR\u001b[49m \u001b[38;5;241m-\u001b[39m\u001b[38;5;241m-\u001b[39mversion\n",
      "\u001b[0;31mNameError\u001b[0m: name 'R' is not defined"
     ]
    }
   ],
   "source": [
    "R --version"
   ]
  },
  {
   "cell_type": "code",
   "execution_count": null,
   "id": "0fad6129-8567-4989-9163-4f730e036bee",
   "metadata": {},
   "outputs": [],
   "source": [
    "cd Documents/work/2024/bnch_mrk/"
   ]
  },
  {
   "cell_type": "code",
   "execution_count": null,
   "id": "480f4c75-6bbd-4c38-af2c-2584d9769595",
   "metadata": {},
   "outputs": [],
   "source": [
    "conda activate celligner_env\n",
    "pip install rpy2"
   ]
  }
 ],
 "metadata": {
  "kernelspec": {
   "display_name": "Python 3 (ipykernel)",
   "language": "python",
   "name": "python3"
  },
  "language_info": {
   "codemirror_mode": {
    "name": "ipython",
    "version": 3
   },
   "file_extension": ".py",
   "mimetype": "text/x-python",
   "name": "python",
   "nbconvert_exporter": "python",
   "pygments_lexer": "ipython3",
   "version": "3.8.18"
  }
 },
 "nbformat": 4,
 "nbformat_minor": 5
}
