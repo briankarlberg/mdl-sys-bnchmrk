{
 "cells": [
  {
   "cell_type": "code",
   "execution_count": null,
   "id": "b7a73439-6598-4a0f-b2f4-2a88bffdad54",
   "metadata": {},
   "outputs": [],
   "source": [
    "# from quantile_rescale.ipynb"
   ]
  },
  {
   "cell_type": "code",
   "execution_count": null,
   "id": "6bc2a829-13b6-44b0-b677-95df4d445b40",
   "metadata": {},
   "outputs": [],
   "source": [
    "# Data handling\n",
    "import pandas as pd\n",
    "import glob\n",
    "import itertools\n",
    "\n",
    "# Get paths input files\n",
    "inp_pths = sorted(\n",
    "    glob.glob('../data/r72/*.tsv'), reverse = True)\n",
    "inp_pths\n",
    "\n",
    "# Set vars (arg parse, config file, etc.)\n",
    "path_index_toggle = 0\n",
    "cancer_count = 5\n",
    "sys_togg = 'cell-line'\n",
    "sys_file_names = 'cell-line+CPTAC'\n",
    "sample_count_lbl = 'Cell line'\n",
    "mdl_sys_inline = 'cell line'\n",
    "\n",
    "# Read nc5\n",
    "input_df = pd.read_csv(\n",
    "                inp_pths[path_index_toggle], # nc5 or nc2 file\n",
    "                sep = '\\t',\n",
    "                index_col = 0)\n",
    "print('inpt len:', len(input_df))\n",
    "\n",
    "# Get unique cancer types\n",
    "nc5 = input_df.Cancer_type.unique()\n",
    "\n",
    "# Get unique combos of 3 and 4 cancers\n",
    "three_cancer_combos = list(itertools.combinations(nc5, 3))\n",
    "four_cancer_combos = list(itertools.combinations(nc5, 4))"
   ]
  },
  {
   "cell_type": "raw",
   "id": "26d5e7aa-f751-409a-901c-71196e395f0b",
   "metadata": {},
   "source": [
    "run clf check on input to characterize the quality of these combos"
   ]
  },
  {
   "cell_type": "code",
   "execution_count": null,
   "id": "748c5845-d6d2-4d1b-9b41-1aebc55b1153",
   "metadata": {},
   "outputs": [],
   "source": []
  }
 ],
 "metadata": {
  "kernelspec": {
   "display_name": "Python 3 (ipykernel)",
   "language": "python",
   "name": "python3"
  },
  "language_info": {
   "codemirror_mode": {
    "name": "ipython",
    "version": 3
   },
   "file_extension": ".py",
   "mimetype": "text/x-python",
   "name": "python",
   "nbconvert_exporter": "python",
   "pygments_lexer": "ipython3",
   "version": "3.10.8"
  }
 },
 "nbformat": 4,
 "nbformat_minor": 5
}
