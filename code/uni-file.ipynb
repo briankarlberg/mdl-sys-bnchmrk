{
 "cells": [
  {
   "cell_type": "code",
   "execution_count": null,
   "id": "eb91bf89-4694-43fc-b0a7-27b0091f9616",
   "metadata": {},
   "outputs": [],
   "source": [
    "# uni-file\n",
    "# Build combined tissue file for VAE tests\n",
    "    # Within single data modality, start with transcriptomics\n",
    "    # Within single model system to Human project\n",
    "        # Start with cell line to CPTAC"
   ]
  },
  {
   "cell_type": "code",
   "execution_count": 4,
   "id": "6fdc97fe-d142-41b9-a347-fbaa5f168e23",
   "metadata": {},
   "outputs": [],
   "source": [
    "import pandas as pd\n",
    "import glob as glob"
   ]
  },
  {
   "cell_type": "raw",
   "id": "2892656e-0544-4224-bad4-82c7c81a5608",
   "metadata": {},
   "source": [
    "pwd\n",
    "mdl-sys-bnchmrk/code"
   ]
  },
  {
   "cell_type": "code",
   "execution_count": 3,
   "id": "558e0410-d2fd-4b54-8a49-876e99d96531",
   "metadata": {},
   "outputs": [
    {
     "name": "stdout",
     "output_type": "stream",
     "text": [
      "\u001b[34mone_cncr\u001b[m\u001b[m/ \u001b[34mr4\u001b[m\u001b[m/       \u001b[34mr5\u001b[m\u001b[m/\n"
     ]
    }
   ],
   "source": [
    "ls ../results/input-data/"
   ]
  },
  {
   "cell_type": "code",
   "execution_count": 6,
   "id": "d80be5bc-7236-4c51-bd19-17f5e7252e2b",
   "metadata": {},
   "outputs": [],
   "source": [
    "r = 'r5'\n",
    "pths_n = sorted(glob.glob('../results/input-data/'+r+'/'+r+'-fls/*'))"
   ]
  },
  {
   "cell_type": "code",
   "execution_count": 11,
   "id": "159274c7-770a-4c55-b1a7-6023d25ef90b",
   "metadata": {},
   "outputs": [
    {
     "data": {
      "text/plain": [
       "7"
      ]
     },
     "execution_count": 11,
     "metadata": {},
     "output_type": "execute_result"
    }
   ],
   "source": [
    "prot_pths = glob.glob('../results/input-data/r5/r5-fls/*_proteomics_*')\n",
    "len(prot_pths)"
   ]
  },
  {
   "cell_type": "code",
   "execution_count": 10,
   "id": "2308a80e-635d-4576-b611-e4d29ac617db",
   "metadata": {},
   "outputs": [
    {
     "data": {
      "text/plain": [
       "18"
      ]
     },
     "execution_count": 10,
     "metadata": {},
     "output_type": "execute_result"
    }
   ],
   "source": [
    "tran_pths = glob.glob('../results/input-data/r5/r5-fls/*_transcriptomics_*')\n",
    "len(tran_pths)"
   ]
  },
  {
   "cell_type": "markdown",
   "id": "22a0265c-fb1e-46e5-b79d-89f78ab87afc",
   "metadata": {},
   "source": [
    "### Cell line + CPTAC"
   ]
  },
  {
   "cell_type": "code",
   "execution_count": 60,
   "id": "a6d5269f-6ac3-40de-ab4b-74e82e696c0c",
   "metadata": {},
   "outputs": [
    {
     "data": {
      "text/plain": [
       "7"
      ]
     },
     "execution_count": 60,
     "metadata": {},
     "output_type": "execute_result"
    }
   ],
   "source": [
    "tran_pths_cl_cp = glob.glob(\n",
    "    '../results/input-data/r5/r5-fls/*_transcriptomics_cell-line+CPTAC*')\n",
    "len(tran_pths_cl_cp)"
   ]
  },
  {
   "cell_type": "code",
   "execution_count": 61,
   "id": "fc43935f-ce0f-4b3f-8875-051fa1115b86",
   "metadata": {},
   "outputs": [
    {
     "name": "stdout",
     "output_type": "stream",
     "text": [
      "glioblastoma_transcriptomics_cell-line+CPTAC.tsv\n",
      "System\n",
      "CPTAC        100\n",
      "cell_line     52\n",
      "Name: count, dtype: int64\n",
      "\n",
      "pancreatic-adeno_transcriptomics_cell-line+CPTAC.tsv\n",
      "System\n",
      "CPTAC        140\n",
      "cell_line     55\n",
      "Name: count, dtype: int64\n",
      "\n",
      "breast-lobular_transcriptomics_cell-line+CPTAC.tsv\n",
      "System\n",
      "CPTAC        124\n",
      "cell_line      8\n",
      "Name: count, dtype: int64\n",
      "\n",
      "lung-adeno_transcriptomics_cell-line+CPTAC.tsv\n",
      "System\n",
      "CPTAC        111\n",
      "cell_line     77\n",
      "Name: count, dtype: int64\n",
      "\n",
      "head-neck_transcriptomics_cell-line+CPTAC.tsv\n",
      "System\n",
      "CPTAC        109\n",
      "cell_line      5\n",
      "Name: count, dtype: int64\n",
      "\n",
      "colon-adeno_transcriptomics_cell-line+CPTAC.tsv\n",
      "System\n",
      "CPTAC        105\n",
      "cell_line     60\n",
      "Name: count, dtype: int64\n",
      "\n",
      "renal-clear-cell_transcriptomics_cell-line+CPTAC.tsv\n",
      "System\n",
      "CPTAC        110\n",
      "cell_line     17\n",
      "Name: count, dtype: int64\n",
      "\n"
     ]
    }
   ],
   "source": [
    "tall_stack = pd.DataFrame()\n",
    "for i, pth_n in enumerate(tran_pths_cl_cp):\n",
    "    print(pth_n.split('/')[-1])\n",
    "    df_n = pd.read_csv(\n",
    "        pth_n, sep = '\\t', index_col = 0)\n",
    "    print(df_n.System.value_counts())\n",
    "    # print(df_n.Cancer_type.value_counts())\n",
    "    print('')\n",
    "    tall_stack = pd.concat([df_n, tall_stack],\n",
    "                           axis = 0,\n",
    "                           # join = 'inner'\n",
    "                          )\n",
    "    # break"
   ]
  },
  {
   "cell_type": "code",
   "execution_count": 62,
   "id": "832a5d73-e25b-4020-b77d-48a4eb110b4c",
   "metadata": {},
   "outputs": [
    {
     "data": {
      "text/plain": [
       "System\n",
       "CPTAC        799\n",
       "cell_line    274\n",
       "Name: count, dtype: int64"
      ]
     },
     "execution_count": 62,
     "metadata": {},
     "output_type": "execute_result"
    }
   ],
   "source": [
    "tall_stack.System.value_counts()"
   ]
  },
  {
   "cell_type": "code",
   "execution_count": 63,
   "id": "992903db-0bdf-4a50-90f6-7b451e157755",
   "metadata": {},
   "outputs": [
    {
     "data": {
      "text/plain": [
       "Cancer_type\n",
       "pancreatic_adeno    195\n",
       "lung_adeno          188\n",
       "colon_adeno         165\n",
       "glioblastoma        152\n",
       "breast_lobular      132\n",
       "renal-clear_cell    127\n",
       "head_neck           114\n",
       "Name: count, dtype: int64"
      ]
     },
     "execution_count": 63,
     "metadata": {},
     "output_type": "execute_result"
    }
   ],
   "source": [
    "tall_stack.Cancer_type.value_counts()"
   ]
  },
  {
   "cell_type": "code",
   "execution_count": 66,
   "id": "cda0dab8-a8c7-420a-890e-ae84e3ac78df",
   "metadata": {},
   "outputs": [
    {
     "data": {
      "text/plain": [
       "0"
      ]
     },
     "execution_count": 66,
     "metadata": {},
     "output_type": "execute_result"
    }
   ],
   "source": [
    "tall_stack.isna().sum().sum()"
   ]
  },
  {
   "cell_type": "code",
   "execution_count": 65,
   "id": "e25091a8-6730-47bf-a030-8fd2816df532",
   "metadata": {},
   "outputs": [],
   "source": [
    "tall_stack.to_csv(\n",
    "    '../data/uni-files/trans_cl_cp_r5.tsv', sep = '\\t')"
   ]
  },
  {
   "cell_type": "markdown",
   "id": "9df158da-9068-409c-9dc9-1edda57f4458",
   "metadata": {},
   "source": [
    "### CPTAC+HCMI"
   ]
  },
  {
   "cell_type": "code",
   "execution_count": 67,
   "id": "9b69433b-26c9-4916-bbed-5b2b16cb17ef",
   "metadata": {},
   "outputs": [
    {
     "data": {
      "text/plain": [
       "7"
      ]
     },
     "execution_count": 67,
     "metadata": {},
     "output_type": "execute_result"
    }
   ],
   "source": [
    "tran_pths_hc_cp = glob.glob(\n",
    "    '../results/input-data/r5/r5-fls/*_transcriptomics_CPTAC+HCMI*')\n",
    "len(tran_pths_hc_cp)"
   ]
  },
  {
   "cell_type": "code",
   "execution_count": 68,
   "id": "74372851-c4a3-4d0d-ad8f-dab0118b9ab4",
   "metadata": {},
   "outputs": [
    {
     "name": "stdout",
     "output_type": "stream",
     "text": [
      "breast_transcriptomics_CPTAC+HCMI.tsv\n",
      "(129, 19478)\n",
      "System\n",
      "CPTAC    124\n",
      "HCMI       5\n",
      "Name: count, dtype: int64\n",
      " \n",
      "ovarian_transcriptomics_CPTAC+HCMI.tsv\n",
      "(105, 19478)\n",
      "System\n",
      "CPTAC    101\n",
      "HCMI       4\n",
      "Name: count, dtype: int64\n",
      " \n",
      "lung-sq_transcriptomics_CPTAC+HCMI.tsv\n",
      "(117, 19478)\n",
      "System\n",
      "CPTAC    110\n",
      "HCMI       7\n",
      "Name: count, dtype: int64\n",
      " \n",
      "colon_transcriptomics_CPTAC+HCMI.tsv\n",
      "(192, 19478)\n",
      "System\n",
      "CPTAC    105\n",
      "HCMI      87\n",
      "Name: count, dtype: int64\n",
      " \n",
      "lung-ad_transcriptomics_CPTAC+HCMI.tsv\n",
      "(118, 19478)\n",
      "System\n",
      "CPTAC    111\n",
      "HCMI       7\n",
      "Name: count, dtype: int64\n",
      " \n",
      "brain_transcriptomics_CPTAC+HCMI.tsv\n",
      "(178, 19478)\n",
      "System\n",
      "CPTAC    100\n",
      "HCMI      78\n",
      "Name: count, dtype: int64\n",
      " \n",
      "pancreatic_transcriptomics_CPTAC+HCMI.tsv\n",
      "(209, 19478)\n",
      "System\n",
      "CPTAC    140\n",
      "HCMI      69\n",
      "Name: count, dtype: int64\n",
      " \n"
     ]
    }
   ],
   "source": [
    "tall_stack = pd.DataFrame()\n",
    "for i, pth_n in enumerate(tran_pths_hc_cp):\n",
    "    print(pth_n.split('/')[-1])\n",
    "    df_n = pd.read_csv(\n",
    "        pth_n, sep = '\\t', index_col = 0)\n",
    "    print(df_n.shape)\n",
    "    print(df_n.System.value_counts())\n",
    "    # print(df_n.Cancer_type.value_counts())\n",
    "    print(' ')\n",
    "    tall_stack = pd.concat([df_n, tall_stack],\n",
    "                           axis = 0,\n",
    "                           # join = 'inner'\n",
    "                          )"
   ]
  },
  {
   "cell_type": "code",
   "execution_count": 69,
   "id": "8d1d179d-8aef-4d9a-9cfc-e516c90121d7",
   "metadata": {},
   "outputs": [
    {
     "data": {
      "text/plain": [
       "System\n",
       "CPTAC    791\n",
       "HCMI     257\n",
       "Name: count, dtype: int64"
      ]
     },
     "execution_count": 69,
     "metadata": {},
     "output_type": "execute_result"
    }
   ],
   "source": [
    "tall_stack.System.value_counts()"
   ]
  },
  {
   "cell_type": "code",
   "execution_count": 70,
   "id": "bf5b37b3-628d-4b71-a87d-81c16b30cf60",
   "metadata": {},
   "outputs": [
    {
     "data": {
      "text/plain": [
       "Cancer_type\n",
       "pancreatic    209\n",
       "colon         192\n",
       "brain         178\n",
       "breast        129\n",
       "lung-ad       118\n",
       "lung-sq       117\n",
       "ovarian       105\n",
       "Name: count, dtype: int64"
      ]
     },
     "execution_count": 70,
     "metadata": {},
     "output_type": "execute_result"
    }
   ],
   "source": [
    "tall_stack.Cancer_type.value_counts()"
   ]
  },
  {
   "cell_type": "code",
   "execution_count": 71,
   "id": "18904b88-852b-4275-9b06-d3a8e7f798d7",
   "metadata": {},
   "outputs": [
    {
     "data": {
      "text/plain": [
       "0"
      ]
     },
     "execution_count": 71,
     "metadata": {},
     "output_type": "execute_result"
    }
   ],
   "source": [
    "tall_stack.isna().sum().sum()"
   ]
  },
  {
   "cell_type": "code",
   "execution_count": 72,
   "id": "bfd0f4b2-017e-4d4c-8b01-40dcdefb554d",
   "metadata": {},
   "outputs": [],
   "source": [
    "tall_stack.to_csv(\n",
    "    '../data/uni-files/trans_hc_cp_r5.tsv', sep = '\\t')"
   ]
  },
  {
   "cell_type": "markdown",
   "id": "8dc5fd1f-5c0c-44c4-b42e-7f042fbf4744",
   "metadata": {},
   "source": [
    "## Proteomics"
   ]
  },
  {
   "cell_type": "markdown",
   "id": "688013ac-be63-4f91-b49a-63657ddbd8e6",
   "metadata": {},
   "source": [
    "### Cell line + CPTAC"
   ]
  },
  {
   "cell_type": "code",
   "execution_count": 95,
   "id": "692db964-7697-4b50-9573-b994ae608d37",
   "metadata": {},
   "outputs": [
    {
     "data": {
      "text/plain": [
       "6"
      ]
     },
     "execution_count": 95,
     "metadata": {},
     "output_type": "execute_result"
    }
   ],
   "source": [
    "prot_pths_cl_cp = glob.glob(\n",
    "    '../results/input-data/r5/r5-fls/*_proteomics_cell-line+CPTAC*')\n",
    "len(prot_pths_cl_cp)"
   ]
  },
  {
   "cell_type": "code",
   "execution_count": 96,
   "id": "6f7237a7-5131-47b3-a6b1-548735d2238c",
   "metadata": {},
   "outputs": [
    {
     "name": "stdout",
     "output_type": "stream",
     "text": [
      "lung-adeno_proteomics_cell-line+CPTAC.tsv\n",
      "(143, 5288)\n",
      "System\n",
      "CPTAC        106\n",
      "cell_line     37\n",
      "Name: count, dtype: int64\n",
      " \n",
      "breast-ductal_proteomics_cell-line+CPTAC.tsv\n",
      "(136, 5524)\n",
      "System\n",
      "CPTAC        122\n",
      "cell_line     14\n",
      "Name: count, dtype: int64\n",
      " \n",
      "colon-adeno_proteomics_cell-line+CPTAC.tsv\n",
      "(125, 4170)\n",
      "System\n",
      "CPTAC        97\n",
      "cell_line    28\n",
      "Name: count, dtype: int64\n",
      " \n",
      "glioblastoma_proteomics_cell-line+CPTAC.tsv\n",
      "(109, 5747)\n",
      "System\n",
      "CPTAC        99\n",
      "cell_line    10\n",
      "Name: count, dtype: int64\n",
      " \n",
      "pancreatic-adeno_proteomics_cell-line+CPTAC.tsv\n",
      "(123, 4776)\n",
      "System\n",
      "CPTAC        105\n",
      "cell_line     18\n",
      "Name: count, dtype: int64\n",
      " \n",
      "renal-clear-cell_proteomics_cell-line+CPTAC.tsv\n",
      "(109, 5612)\n",
      "System\n",
      "CPTAC        103\n",
      "cell_line      6\n",
      "Name: count, dtype: int64\n",
      " \n"
     ]
    }
   ],
   "source": [
    "tall_stack = pd.DataFrame()\n",
    "for i, pth_n in enumerate(prot_pths_cl_cp):\n",
    "    print(pth_n.split('/')[-1])\n",
    "    df_n = pd.read_csv(\n",
    "        pth_n, sep = '\\t', index_col = 0)\n",
    "    print(df_n.shape)\n",
    "    # print(df_n.head(1))\n",
    "    print(df_n.System.value_counts())\n",
    "    # print(df_n.Cancer_type.value_counts())\n",
    "    print(' ')\n",
    "    tall_stack = pd.concat([df_n, tall_stack],\n",
    "                           axis = 0,\n",
    "                          )\n",
    "    # break\n",
    "tall_stack.dropna(axis=1, inplace = True)"
   ]
  },
  {
   "cell_type": "code",
   "execution_count": 98,
   "id": "c5060520-07db-4015-a839-58e622c26d06",
   "metadata": {},
   "outputs": [
    {
     "data": {
      "text/plain": [
       "(745, 3759)"
      ]
     },
     "execution_count": 98,
     "metadata": {},
     "output_type": "execute_result"
    }
   ],
   "source": [
    "tall_stack.shape"
   ]
  },
  {
   "cell_type": "code",
   "execution_count": 99,
   "id": "68165009-0c30-4972-a3df-4fe4b321f8d8",
   "metadata": {},
   "outputs": [
    {
     "data": {
      "text/plain": [
       "System\n",
       "CPTAC        632\n",
       "cell_line    113\n",
       "Name: count, dtype: int64"
      ]
     },
     "execution_count": 99,
     "metadata": {},
     "output_type": "execute_result"
    }
   ],
   "source": [
    "tall_stack.System.value_counts()"
   ]
  },
  {
   "cell_type": "code",
   "execution_count": 100,
   "id": "553f2a6d-7bc8-47dd-a660-2be81cdbb6fc",
   "metadata": {},
   "outputs": [
    {
     "data": {
      "text/plain": [
       "Cancer_type\n",
       "lung_adeno          143\n",
       "breast_ductal       136\n",
       "colon_adeno         125\n",
       "pancreatic_adeno    123\n",
       "renal_clear_cell    109\n",
       "glioblastoma        109\n",
       "Name: count, dtype: int64"
      ]
     },
     "execution_count": 100,
     "metadata": {},
     "output_type": "execute_result"
    }
   ],
   "source": [
    "tall_stack.Cancer_type.value_counts()"
   ]
  },
  {
   "cell_type": "code",
   "execution_count": 101,
   "id": "8deb35ce-6bc7-4426-b475-60e2e277b79a",
   "metadata": {},
   "outputs": [
    {
     "data": {
      "text/plain": [
       "0"
      ]
     },
     "execution_count": 101,
     "metadata": {},
     "output_type": "execute_result"
    }
   ],
   "source": [
    "tall_stack.isna().sum().sum()"
   ]
  },
  {
   "cell_type": "code",
   "execution_count": 102,
   "id": "0f35b8e4-15dc-41f1-bb77-ddea5626f75d",
   "metadata": {},
   "outputs": [],
   "source": [
    "tall_stack.to_csv(\n",
    "    '../data/uni-files/prot_cl_cp_r5.tsv', sep = '\\t')"
   ]
  },
  {
   "cell_type": "markdown",
   "id": "2b471be9-a386-4d52-a945-74d7ee554572",
   "metadata": {},
   "source": [
    "### CPTAC+HCMI"
   ]
  },
  {
   "cell_type": "code",
   "execution_count": 103,
   "id": "cf37b8a5-ca4c-4386-a746-8f9681af39a7",
   "metadata": {},
   "outputs": [
    {
     "data": {
      "text/plain": [
       "0"
      ]
     },
     "execution_count": 103,
     "metadata": {},
     "output_type": "execute_result"
    }
   ],
   "source": [
    "prot_pths_hc_cp = glob.glob(\n",
    "    '../results/input-data/r5/r5-fls/*_proteomics_CPTAC+HCMI*')\n",
    "len(prot_pths_hc_cp)"
   ]
  }
 ],
 "metadata": {
  "kernelspec": {
   "display_name": "Python 3 (ipykernel)",
   "language": "python",
   "name": "python3"
  },
  "language_info": {
   "codemirror_mode": {
    "name": "ipython",
    "version": 3
   },
   "file_extension": ".py",
   "mimetype": "text/x-python",
   "name": "python",
   "nbconvert_exporter": "python",
   "pygments_lexer": "ipython3",
   "version": "3.10.8"
  }
 },
 "nbformat": 4,
 "nbformat_minor": 5
}
