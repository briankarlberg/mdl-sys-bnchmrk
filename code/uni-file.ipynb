{
 "cells": [
  {
   "cell_type": "code",
   "execution_count": null,
   "id": "eb91bf89-4694-43fc-b0a7-27b0091f9616",
   "metadata": {},
   "outputs": [],
   "source": [
    "# uni-file\n",
    "# Build combined tissue file for VAE tests\n",
    "    # Within single data modality, start with transcriptomics\n",
    "    # Within single model system to Human project\n",
    "        # Start with cell line to CPTAC"
   ]
  },
  {
   "cell_type": "code",
   "execution_count": 1,
   "id": "58231bba-7aba-4309-aef1-4ea093a0fc29",
   "metadata": {},
   "outputs": [
    {
     "name": "stdout",
     "output_type": "stream",
     "text": [
      "Interactive namespace is empty.\n"
     ]
    }
   ],
   "source": [
    "%whos"
   ]
  },
  {
   "cell_type": "code",
   "execution_count": 2,
   "id": "6fdc97fe-d142-41b9-a347-fbaa5f168e23",
   "metadata": {},
   "outputs": [],
   "source": [
    "import pandas as pd\n",
    "import glob as glob"
   ]
  },
  {
   "cell_type": "raw",
   "id": "2892656e-0544-4224-bad4-82c7c81a5608",
   "metadata": {},
   "source": [
    "pwd\n",
    "mdl-sys-bnchmrk/code"
   ]
  },
  {
   "cell_type": "markdown",
   "id": "5de92033-246a-4cbe-8bdd-4633f300aceb",
   "metadata": {},
   "source": [
    "### V8, AML and proteomics version"
   ]
  },
  {
   "cell_type": "code",
   "execution_count": 4,
   "id": "c1e0ed76-cca4-4d18-8fcd-d09c2f534f1d",
   "metadata": {},
   "outputs": [],
   "source": [
    "pths = sorted(glob.glob('../data/r8/*.tsv'))"
   ]
  },
  {
   "cell_type": "code",
   "execution_count": 5,
   "id": "ce42f67d-f92d-4a2b-a09c-23537d0dea9a",
   "metadata": {},
   "outputs": [
    {
     "data": {
      "text/plain": [
       "['../data/r8/AML_proteomics_cell-line+BeatAML.tsv',\n",
       " '../data/r8/AML_transcriptomics_cell-line+BeatAML.tsv',\n",
       " '../data/r8/colon-adeno_proteomics_cell-line+CPTAC.tsv',\n",
       " '../data/r8/glioblastoma_proteomics_cell-line+CPTAC.tsv',\n",
       " '../data/r8/lung-adeno_proteomics_cell-line+CPTAC.tsv',\n",
       " '../data/r8/pancreatic-adeno_proteomics_cell-line+CPTAC.tsv']"
      ]
     },
     "execution_count": 5,
     "metadata": {},
     "output_type": "execute_result"
    }
   ],
   "source": [
    "pths"
   ]
  },
  {
   "cell_type": "code",
   "execution_count": 6,
   "id": "d6a03983-67b5-4b76-8c2c-7c01d1f79018",
   "metadata": {},
   "outputs": [
    {
     "data": {
      "text/plain": [
       "'../data/r8/AML_transcriptomics_cell-line+BeatAML.tsv'"
      ]
     },
     "execution_count": 6,
     "metadata": {},
     "output_type": "execute_result"
    }
   ],
   "source": [
    "pths[1]"
   ]
  },
  {
   "cell_type": "code",
   "execution_count": 7,
   "id": "9db2de5e-7916-4264-abb6-6353e29aa252",
   "metadata": {},
   "outputs": [],
   "source": [
    "df_n = pd.read_csv(\n",
    "        pths[1], sep = '\\t', index_col = 0)"
   ]
  },
  {
   "cell_type": "code",
   "execution_count": null,
   "id": "481e65a2-6109-4768-b544-b3a72cb19107",
   "metadata": {},
   "outputs": [],
   "source": [
    "df_n"
   ]
  },
  {
   "cell_type": "code",
   "execution_count": 9,
   "id": "e90b7321-74f0-4dcc-bf8a-9f27b63f90f6",
   "metadata": {},
   "outputs": [
    {
     "data": {
      "text/plain": [
       "Cancer_type\n",
       "AML    738\n",
       "Name: count, dtype: int64"
      ]
     },
     "execution_count": 9,
     "metadata": {},
     "output_type": "execute_result"
    }
   ],
   "source": [
    "df_n.Cancer_type.value_counts()"
   ]
  },
  {
   "cell_type": "code",
   "execution_count": 10,
   "id": "1826c8c5-2ee2-4996-96ef-631baf748e5d",
   "metadata": {},
   "outputs": [
    {
     "data": {
      "text/plain": [
       "System\n",
       "beataml      707\n",
       "cell-line     31\n",
       "Name: count, dtype: int64"
      ]
     },
     "execution_count": 10,
     "metadata": {},
     "output_type": "execute_result"
    }
   ],
   "source": [
    "df_n.System.value_counts()"
   ]
  },
  {
   "cell_type": "code",
   "execution_count": null,
   "id": "7dc4b365-9f17-4e40-980d-732223afa091",
   "metadata": {},
   "outputs": [],
   "source": [
    "# add beataml as cancer type?"
   ]
  },
  {
   "cell_type": "raw",
   "id": "991d32f5-0105-4c7c-ab1d-ca6ee80bc8c1",
   "metadata": {},
   "source": [
    "Use ncx_ notation for multi-cancer out files"
   ]
  },
  {
   "cell_type": "markdown",
   "id": "ee765b85-9394-448f-98f8-911c75a5ed40",
   "metadata": {
    "jp-MarkdownHeadingCollapsed": true
   },
   "source": [
    "### Descriptive stats plots devel"
   ]
  },
  {
   "cell_type": "code",
   "execution_count": null,
   "id": "58b77407-443c-414a-82fc-00b85fad1a3b",
   "metadata": {},
   "outputs": [],
   "source": [
    "import matplotlib.pyplot as plt\n",
    "from mpl_toolkits.mplot3d import Axes3D\n",
    "import numpy as np"
   ]
  },
  {
   "cell_type": "code",
   "execution_count": null,
   "id": "0da44996-acf7-4002-8446-381ba68b291e",
   "metadata": {},
   "outputs": [],
   "source": [
    "# Dimensions\n",
    "systems = ['Cell line', 'CPTAC', 'HCMI']\n",
    "cancers = ['Lung', 'Brain', 'Breast', 'Pancreas']\n",
    "sample_counts = np.array([\n",
    "    [5, 3, 1],\n",
    "    [20, 15, 10],\n",
    "    [50, 40, 30],\n",
    "    [100, 80, 60]\n",
    "])"
   ]
  },
  {
   "cell_type": "code",
   "execution_count": null,
   "id": "afd1931f-2245-44d4-b363-d55ec812b942",
   "metadata": {},
   "outputs": [],
   "source": [
    "three_d(systems, cancers, sample_counts, title = 'Transcriptomics')"
   ]
  },
  {
   "cell_type": "code",
   "execution_count": null,
   "id": "28892893-c771-45b9-82cf-a4607f357937",
   "metadata": {},
   "outputs": [],
   "source": [
    "def three_d(categories, levels, values, title):\n",
    "    fig = plt.figure()\n",
    "    ax = fig.add_subplot(111, projection='3d')\n",
    "    \n",
    "    xpos, ypos = np.meshgrid(np.arange(values.shape[1]), np.arange(values.shape[0]))\n",
    "    xpos = xpos.flatten()\n",
    "    ypos = ypos.flatten()\n",
    "    zpos = np.zeros(values.shape).flatten()\n",
    "    \n",
    "    dx = 0.8 * np.ones_like(zpos)\n",
    "    dy = dx.copy()\n",
    "    dz = values.flatten()\n",
    "\n",
    "    # dx = 0.6 * np.ones_like(zpos)  # Adjust the value to control the width\n",
    "    # dy = dx.copy()\n",
    "    \n",
    "    # Initial bottom values for stacking\n",
    "    bottom = np.zeros_like(dz)\n",
    "    \n",
    "    for i in range(len(dz)):\n",
    "        ax.bar3d(xpos[i], ypos[i], bottom[i], dx[i], dy[i], dz[i], color='skyblue', zsort='average')\n",
    "        bottom[i] += dz[i]  # Update bottom for the next layer\n",
    "    \n",
    "    ax.set_xlabel('Systems', fontweight='bold')\n",
    "    ax.set_ylabel('Cancer types', fontweight='bold')\n",
    "    ax.set_zlabel('Sample counts', fontweight='bold')\n",
    "    ax.set_xticks(np.arange(len(categories)) + 0.4)  # Center the bars\n",
    "    ax.set_yticks(np.arange(len(levels)) + 0.4)\n",
    "    ax.set_xticklabels(categories)\n",
    "    ax.set_yticklabels(levels)\n",
    "    ax.view_init(elev=15, azim=-60) # Adjust to remove overlab\n",
    "    plt.title(title, y = .9)\n",
    "    plt.savefig('plots/3d_test_2.png')\n",
    "    plt.show()"
   ]
  },
  {
   "cell_type": "code",
   "execution_count": null,
   "id": "ca44b1b4-78d0-4a21-bb46-c1ecf6383095",
   "metadata": {},
   "outputs": [],
   "source": [
    "# Dimensions\n",
    "categories = ['A', 'B', 'C']\n",
    "levels = ['Level 1', 'Level 2', 'Level 3']\n",
    "values = np.array([\n",
    "    [5, 3, 1],\n",
    "    [6, 2, 4],\n",
    "    [3, 5, 2]\n",
    "]) "
   ]
  },
  {
   "cell_type": "code",
   "execution_count": null,
   "id": "8e5bb623-2d67-454a-8835-02587f1ad0fb",
   "metadata": {},
   "outputs": [],
   "source": [
    "fig = plt.figure()\n",
    "ax = fig.add_subplot(111, projection='3d')\n",
    "\n",
    "xpos, ypos = np.meshgrid(np.arange(values.shape[1]), np.arange(values.shape[0]))\n",
    "xpos = xpos.flatten()\n",
    "ypos = ypos.flatten()\n",
    "zpos = np.zeros(values.shape).flatten()\n",
    "\n",
    "dx = 0.8 * np.ones_like(zpos)\n",
    "dy = dx.copy()\n",
    "dz = values.flatten()\n",
    "\n",
    "# Initial bottom values for stacking\n",
    "bottom = np.zeros_like(dz)\n",
    "\n",
    "for i in range(len(dz)):\n",
    "    ax.bar3d(xpos[i], ypos[i], bottom[i], dx[i], dy[i], dz[i], color='skyblue', zsort='average')\n",
    "    bottom[i] += dz[i]  # Update bottom for the next layer\n",
    "\n",
    "ax.set_xlabel('Categories')\n",
    "ax.set_ylabel('Levels')\n",
    "ax.set_zlabel('Values')\n",
    "ax.set_xticks(np.arange(len(categories)) + 0.4)  # Center the bars\n",
    "ax.set_yticks(np.arange(len(levels)) + 0.4)\n",
    "ax.set_xticklabels(categories)\n",
    "ax.set_yticklabels(levels)\n",
    "# plt.tight_layout()\n",
    "plt.savefig('plots/3d_test_1.png')\n",
    "plt.show()"
   ]
  },
  {
   "cell_type": "markdown",
   "id": "eccabcdb-1000-4a76-b9e2-cacbfb93dff0",
   "metadata": {
    "jp-MarkdownHeadingCollapsed": true
   },
   "source": [
    "### Original builds, version 5:"
   ]
  },
  {
   "cell_type": "code",
   "execution_count": null,
   "id": "558e0410-d2fd-4b54-8a49-876e99d96531",
   "metadata": {},
   "outputs": [],
   "source": [
    "ls ../results/input-data/"
   ]
  },
  {
   "cell_type": "code",
   "execution_count": null,
   "id": "d80be5bc-7236-4c51-bd19-17f5e7252e2b",
   "metadata": {},
   "outputs": [],
   "source": [
    "r = 'r5'\n",
    "pths_n = sorted(glob.glob('../results/input-data/'+r+'/'+r+'-fls/*'))"
   ]
  },
  {
   "cell_type": "code",
   "execution_count": null,
   "id": "159274c7-770a-4c55-b1a7-6023d25ef90b",
   "metadata": {},
   "outputs": [],
   "source": [
    "prot_pths = glob.glob('../results/input-data/r5/r5-fls/*_proteomics_*')\n",
    "len(prot_pths)"
   ]
  },
  {
   "cell_type": "code",
   "execution_count": null,
   "id": "2308a80e-635d-4576-b611-e4d29ac617db",
   "metadata": {},
   "outputs": [],
   "source": [
    "tran_pths = glob.glob('../results/input-data/r5/r5-fls/*_transcriptomics_*')\n",
    "len(tran_pths)"
   ]
  },
  {
   "cell_type": "markdown",
   "id": "22a0265c-fb1e-46e5-b79d-89f78ab87afc",
   "metadata": {},
   "source": [
    "### Cell line + CPTAC"
   ]
  },
  {
   "cell_type": "code",
   "execution_count": null,
   "id": "a6d5269f-6ac3-40de-ab4b-74e82e696c0c",
   "metadata": {},
   "outputs": [],
   "source": [
    "tran_pths_cl_cp = glob.glob(\n",
    "    '../results/input-data/r5/r5-fls/*_transcriptomics_cell-line+CPTAC*')\n",
    "len(tran_pths_cl_cp)"
   ]
  },
  {
   "cell_type": "code",
   "execution_count": null,
   "id": "fc43935f-ce0f-4b3f-8875-051fa1115b86",
   "metadata": {},
   "outputs": [],
   "source": [
    "tall_stack = pd.DataFrame()\n",
    "for i, pth_n in enumerate(tran_pths_cl_cp):\n",
    "    print(pth_n.split('/')[-1])\n",
    "    df_n = pd.read_csv(\n",
    "        pth_n, sep = '\\t', index_col = 0)\n",
    "    print(df_n.System.value_counts())\n",
    "    # print(df_n.Cancer_type.value_counts())\n",
    "    print('')\n",
    "    tall_stack = pd.concat([df_n, tall_stack],\n",
    "                           axis = 0,\n",
    "                           # join = 'inner'\n",
    "                          )\n",
    "    # break"
   ]
  },
  {
   "cell_type": "code",
   "execution_count": null,
   "id": "832a5d73-e25b-4020-b77d-48a4eb110b4c",
   "metadata": {},
   "outputs": [],
   "source": [
    "tall_stack.System.value_counts()"
   ]
  },
  {
   "cell_type": "code",
   "execution_count": null,
   "id": "992903db-0bdf-4a50-90f6-7b451e157755",
   "metadata": {},
   "outputs": [],
   "source": [
    "tall_stack.Cancer_type.value_counts()"
   ]
  },
  {
   "cell_type": "code",
   "execution_count": null,
   "id": "cda0dab8-a8c7-420a-890e-ae84e3ac78df",
   "metadata": {},
   "outputs": [],
   "source": [
    "tall_stack.isna().sum().sum()"
   ]
  },
  {
   "cell_type": "code",
   "execution_count": null,
   "id": "e25091a8-6730-47bf-a030-8fd2816df532",
   "metadata": {},
   "outputs": [],
   "source": [
    "tall_stack.to_csv(\n",
    "    '../data/uni-files/trans_cl_cp_r5.tsv', sep = '\\t')"
   ]
  },
  {
   "cell_type": "markdown",
   "id": "9df158da-9068-409c-9dc9-1edda57f4458",
   "metadata": {},
   "source": [
    "### CPTAC+HCMI"
   ]
  },
  {
   "cell_type": "code",
   "execution_count": null,
   "id": "9b69433b-26c9-4916-bbed-5b2b16cb17ef",
   "metadata": {},
   "outputs": [],
   "source": [
    "tran_pths_hc_cp = glob.glob(\n",
    "    '../results/input-data/r5/r5-fls/*_transcriptomics_CPTAC+HCMI*')\n",
    "len(tran_pths_hc_cp)"
   ]
  },
  {
   "cell_type": "code",
   "execution_count": null,
   "id": "74372851-c4a3-4d0d-ad8f-dab0118b9ab4",
   "metadata": {},
   "outputs": [],
   "source": [
    "tall_stack = pd.DataFrame()\n",
    "for i, pth_n in enumerate(tran_pths_hc_cp):\n",
    "    print(pth_n.split('/')[-1])\n",
    "    df_n = pd.read_csv(\n",
    "        pth_n, sep = '\\t', index_col = 0)\n",
    "    print(df_n.shape)\n",
    "    print(df_n.System.value_counts())\n",
    "    # print(df_n.Cancer_type.value_counts())\n",
    "    print(' ')\n",
    "    tall_stack = pd.concat([df_n, tall_stack],\n",
    "                           axis = 0,\n",
    "                           # join = 'inner'\n",
    "                          )"
   ]
  },
  {
   "cell_type": "code",
   "execution_count": null,
   "id": "8d1d179d-8aef-4d9a-9cfc-e516c90121d7",
   "metadata": {},
   "outputs": [],
   "source": [
    "tall_stack.System.value_counts()"
   ]
  },
  {
   "cell_type": "code",
   "execution_count": null,
   "id": "bf5b37b3-628d-4b71-a87d-81c16b30cf60",
   "metadata": {},
   "outputs": [],
   "source": [
    "tall_stack.Cancer_type.value_counts()"
   ]
  },
  {
   "cell_type": "code",
   "execution_count": null,
   "id": "18904b88-852b-4275-9b06-d3a8e7f798d7",
   "metadata": {},
   "outputs": [],
   "source": [
    "tall_stack.isna().sum().sum()"
   ]
  },
  {
   "cell_type": "code",
   "execution_count": null,
   "id": "bfd0f4b2-017e-4d4c-8b01-40dcdefb554d",
   "metadata": {},
   "outputs": [],
   "source": [
    "tall_stack.to_csv(\n",
    "    '../data/uni-files/trans_hc_cp_r5.tsv', sep = '\\t')"
   ]
  },
  {
   "cell_type": "markdown",
   "id": "8dc5fd1f-5c0c-44c4-b42e-7f042fbf4744",
   "metadata": {},
   "source": [
    "## Proteomics"
   ]
  },
  {
   "cell_type": "markdown",
   "id": "688013ac-be63-4f91-b49a-63657ddbd8e6",
   "metadata": {},
   "source": [
    "### Cell line + CPTAC"
   ]
  },
  {
   "cell_type": "code",
   "execution_count": 11,
   "id": "692db964-7697-4b50-9573-b994ae608d37",
   "metadata": {},
   "outputs": [
    {
     "data": {
      "text/plain": [
       "4"
      ]
     },
     "execution_count": 11,
     "metadata": {},
     "output_type": "execute_result"
    }
   ],
   "source": [
    "prot_pths_cl_cp = glob.glob(\n",
    "    '../data/r8/*_proteomics_cell-line+CPTAC*')\n",
    "len(prot_pths_cl_cp)"
   ]
  },
  {
   "cell_type": "code",
   "execution_count": 12,
   "id": "6f7237a7-5131-47b3-a6b1-548735d2238c",
   "metadata": {},
   "outputs": [
    {
     "name": "stdout",
     "output_type": "stream",
     "text": [
      "lung-adeno_proteomics_cell-line+CPTAC.tsv\n",
      "(143, 5288)\n",
      "System\n",
      "cptac        106\n",
      "cell-line     37\n",
      "Name: count, dtype: int64\n",
      " \n",
      "colon-adeno_proteomics_cell-line+CPTAC.tsv\n",
      "(125, 4170)\n",
      "System\n",
      "cptac        97\n",
      "cell-line    28\n",
      "Name: count, dtype: int64\n",
      " \n",
      "glioblastoma_proteomics_cell-line+CPTAC.tsv\n",
      "(109, 5747)\n",
      "System\n",
      "cptac        99\n",
      "cell-line    10\n",
      "Name: count, dtype: int64\n",
      " \n",
      "pancreatic-adeno_proteomics_cell-line+CPTAC.tsv\n",
      "(123, 4776)\n",
      "System\n",
      "cptac        105\n",
      "cell-line     18\n",
      "Name: count, dtype: int64\n",
      " \n"
     ]
    }
   ],
   "source": [
    "tall_stack = pd.DataFrame()\n",
    "for i, pth_n in enumerate(prot_pths_cl_cp):\n",
    "    print(pth_n.split('/')[-1])\n",
    "    df_n = pd.read_csv(\n",
    "        pth_n, sep = '\\t', index_col = 0)\n",
    "    print(df_n.shape)\n",
    "    # print(df_n.head(1))\n",
    "    print(df_n.System.value_counts())\n",
    "    # print(df_n.Cancer_type.value_counts())\n",
    "    print(' ')\n",
    "    tall_stack = pd.concat([df_n, tall_stack],\n",
    "                           axis = 0,\n",
    "                          )\n",
    "    # break\n",
    "tall_stack.dropna(axis=1, inplace = True)"
   ]
  },
  {
   "cell_type": "code",
   "execution_count": 13,
   "id": "c5060520-07db-4015-a839-58e622c26d06",
   "metadata": {},
   "outputs": [
    {
     "data": {
      "text/plain": [
       "(500, 3830)"
      ]
     },
     "execution_count": 13,
     "metadata": {},
     "output_type": "execute_result"
    }
   ],
   "source": [
    "tall_stack.shape"
   ]
  },
  {
   "cell_type": "code",
   "execution_count": 14,
   "id": "68165009-0c30-4972-a3df-4fe4b321f8d8",
   "metadata": {},
   "outputs": [
    {
     "data": {
      "text/plain": [
       "System\n",
       "cptac        407\n",
       "cell-line     93\n",
       "Name: count, dtype: int64"
      ]
     },
     "execution_count": 14,
     "metadata": {},
     "output_type": "execute_result"
    }
   ],
   "source": [
    "tall_stack.System.value_counts()"
   ]
  },
  {
   "cell_type": "code",
   "execution_count": 15,
   "id": "553f2a6d-7bc8-47dd-a660-2be81cdbb6fc",
   "metadata": {},
   "outputs": [
    {
     "data": {
      "text/plain": [
       "Cancer_type\n",
       "lung-adeno          143\n",
       "colon-adeno         125\n",
       "pancreatic-adeno    123\n",
       "glioblastoma        109\n",
       "Name: count, dtype: int64"
      ]
     },
     "execution_count": 15,
     "metadata": {},
     "output_type": "execute_result"
    }
   ],
   "source": [
    "tall_stack.Cancer_type.value_counts()"
   ]
  },
  {
   "cell_type": "code",
   "execution_count": 16,
   "id": "8deb35ce-6bc7-4426-b475-60e2e277b79a",
   "metadata": {},
   "outputs": [
    {
     "data": {
      "text/plain": [
       "0"
      ]
     },
     "execution_count": 16,
     "metadata": {},
     "output_type": "execute_result"
    }
   ],
   "source": [
    "tall_stack.isna().sum().sum()"
   ]
  },
  {
   "cell_type": "code",
   "execution_count": 17,
   "id": "0f35b8e4-15dc-41f1-bb77-ddea5626f75d",
   "metadata": {},
   "outputs": [],
   "source": [
    "tall_stack.to_csv(\n",
    "    '../data/r8/nc4_proteomics_cell-line+CPTAC.tsv', sep = '\\t')"
   ]
  },
  {
   "cell_type": "code",
   "execution_count": 20,
   "id": "7d0c3e02-8763-4580-9183-1c3307b5296f",
   "metadata": {},
   "outputs": [
    {
     "data": {
      "text/plain": [
       "357"
      ]
     },
     "execution_count": 20,
     "metadata": {},
     "output_type": "execute_result"
    }
   ],
   "source": [
    "nc3a = tall_stack[tall_stack.Cancer_type != 'lung-adeno']\n",
    "len(nc3a)"
   ]
  },
  {
   "cell_type": "code",
   "execution_count": 25,
   "id": "95ec5af8-389e-490f-aab8-235107326bc8",
   "metadata": {},
   "outputs": [],
   "source": [
    "nc3a.to_csv(\n",
    "    '../data/r8/nc3a_proteomics_cell-line+CPTAC.tsv', sep = '\\t')"
   ]
  },
  {
   "cell_type": "code",
   "execution_count": 22,
   "id": "12b52d47-8a18-4acf-a666-db0ab475ab9f",
   "metadata": {},
   "outputs": [
    {
     "data": {
      "text/plain": [
       "375"
      ]
     },
     "execution_count": 22,
     "metadata": {},
     "output_type": "execute_result"
    }
   ],
   "source": [
    "nc3b = tall_stack[tall_stack.Cancer_type != 'colon-adeno']\n",
    "len(nc3b)"
   ]
  },
  {
   "cell_type": "code",
   "execution_count": 26,
   "id": "748f781d-40ca-47ac-91e3-d567e03bfb09",
   "metadata": {},
   "outputs": [],
   "source": [
    "nc3b.to_csv(\n",
    "    '../data/r8/nc3b_proteomics_cell-line+CPTAC.tsv', sep = '\\t')"
   ]
  },
  {
   "cell_type": "code",
   "execution_count": 23,
   "id": "4a7fd65f-763f-4609-8a9c-d13efeddc223",
   "metadata": {},
   "outputs": [
    {
     "data": {
      "text/plain": [
       "377"
      ]
     },
     "execution_count": 23,
     "metadata": {},
     "output_type": "execute_result"
    }
   ],
   "source": [
    "nc3c = tall_stack[tall_stack.Cancer_type != 'pancreatic-adeno']\n",
    "len(nc3c)"
   ]
  },
  {
   "cell_type": "code",
   "execution_count": 27,
   "id": "8bb857a2-b855-4db6-9873-2cd632a2e95a",
   "metadata": {},
   "outputs": [],
   "source": [
    "nc3c.to_csv(\n",
    "    '../data/r8/nc3c_proteomics_cell-line+CPTAC.tsv', sep = '\\t')"
   ]
  },
  {
   "cell_type": "code",
   "execution_count": 24,
   "id": "9895256a-e153-4f84-80da-689983ff25ef",
   "metadata": {},
   "outputs": [
    {
     "data": {
      "text/plain": [
       "391"
      ]
     },
     "execution_count": 24,
     "metadata": {},
     "output_type": "execute_result"
    }
   ],
   "source": [
    "nc3d = tall_stack[tall_stack.Cancer_type != 'glioblastoma']\n",
    "len(nc3d)"
   ]
  },
  {
   "cell_type": "code",
   "execution_count": 28,
   "id": "b103a5d1-5168-4856-9635-3d3737f951b1",
   "metadata": {},
   "outputs": [],
   "source": [
    "nc3d.to_csv(\n",
    "    '../data/r8/nc3d_proteomics_cell-line+CPTAC.tsv', sep = '\\t')"
   ]
  },
  {
   "cell_type": "markdown",
   "id": "2b471be9-a386-4d52-a945-74d7ee554572",
   "metadata": {},
   "source": [
    "### CPTAC+HCMI"
   ]
  },
  {
   "cell_type": "code",
   "execution_count": null,
   "id": "cf37b8a5-ca4c-4386-a746-8f9681af39a7",
   "metadata": {},
   "outputs": [],
   "source": [
    "prot_pths_hc_cp = glob.glob(\n",
    "    '../results/input-data/r5/r5-fls/*_proteomics_CPTAC+HCMI*')\n",
    "len(prot_pths_hc_cp)"
   ]
  }
 ],
 "metadata": {
  "kernelspec": {
   "display_name": "Python 3 (ipykernel)",
   "language": "python",
   "name": "python3"
  },
  "language_info": {
   "codemirror_mode": {
    "name": "ipython",
    "version": 3
   },
   "file_extension": ".py",
   "mimetype": "text/x-python",
   "name": "python",
   "nbconvert_exporter": "python",
   "pygments_lexer": "ipython3",
   "version": "3.10.8"
  }
 },
 "nbformat": 4,
 "nbformat_minor": 5
}
