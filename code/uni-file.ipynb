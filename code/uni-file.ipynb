{
 "cells": [
  {
   "cell_type": "code",
   "execution_count": null,
   "id": "eb91bf89-4694-43fc-b0a7-27b0091f9616",
   "metadata": {},
   "outputs": [],
   "source": [
    "# uni-file\n",
    "# Build combined tissue file for VAE tests\n",
    "    # Within single data modality, start with transcriptomics\n",
    "    # Within single model system to Human project\n",
    "        # Start with cell line to CPTAC"
   ]
  },
  {
   "cell_type": "code",
   "execution_count": null,
   "id": "58231bba-7aba-4309-aef1-4ea093a0fc29",
   "metadata": {},
   "outputs": [],
   "source": [
    "%whos"
   ]
  },
  {
   "cell_type": "code",
   "execution_count": null,
   "id": "6fdc97fe-d142-41b9-a347-fbaa5f168e23",
   "metadata": {},
   "outputs": [],
   "source": [
    "import pandas as pd\n",
    "import glob as glob"
   ]
  },
  {
   "cell_type": "raw",
   "id": "2892656e-0544-4224-bad4-82c7c81a5608",
   "metadata": {},
   "source": [
    "pwd\n",
    "mdl-sys-bnchmrk/code"
   ]
  },
  {
   "cell_type": "markdown",
   "id": "5de92033-246a-4cbe-8bdd-4633f300aceb",
   "metadata": {},
   "source": [
    "### V7, multicat version"
   ]
  },
  {
   "cell_type": "code",
   "execution_count": null,
   "id": "afbc4d3d-ed91-41b7-8f29-c9024a87adc9",
   "metadata": {},
   "outputs": [],
   "source": [
    "# check v5 files"
   ]
  },
  {
   "cell_type": "code",
   "execution_count": null,
   "id": "6124daca-f009-4115-a6a4-e62f3d51dc18",
   "metadata": {},
   "outputs": [],
   "source": [
    "ls ../data/uni-files/*.tsv"
   ]
  },
  {
   "cell_type": "code",
   "execution_count": null,
   "id": "c1e0ed76-cca4-4d18-8fcd-d09c2f534f1d",
   "metadata": {},
   "outputs": [],
   "source": [
    "pths = sorted(glob.glob('../data/uni-files/*.tsv'))"
   ]
  },
  {
   "cell_type": "code",
   "execution_count": null,
   "id": "ce42f67d-f92d-4a2b-a09c-23537d0dea9a",
   "metadata": {},
   "outputs": [],
   "source": [
    "pths"
   ]
  },
  {
   "cell_type": "code",
   "execution_count": null,
   "id": "d6a03983-67b5-4b76-8c2c-7c01d1f79018",
   "metadata": {},
   "outputs": [],
   "source": [
    "pths[1]"
   ]
  },
  {
   "cell_type": "code",
   "execution_count": null,
   "id": "9db2de5e-7916-4264-abb6-6353e29aa252",
   "metadata": {},
   "outputs": [],
   "source": [
    "df_n = pd.read_csv(\n",
    "        pths[1], sep = '\\t', index_col = 0)"
   ]
  },
  {
   "cell_type": "code",
   "execution_count": null,
   "id": "481e65a2-6109-4768-b544-b3a72cb19107",
   "metadata": {},
   "outputs": [],
   "source": [
    "df_n"
   ]
  },
  {
   "cell_type": "code",
   "execution_count": null,
   "id": "e90b7321-74f0-4dcc-bf8a-9f27b63f90f6",
   "metadata": {},
   "outputs": [],
   "source": [
    "df_n.Cancer_type.value_counts()"
   ]
  },
  {
   "cell_type": "code",
   "execution_count": null,
   "id": "1826c8c5-2ee2-4996-96ef-631baf748e5d",
   "metadata": {},
   "outputs": [],
   "source": [
    "df_n.System.value_counts()"
   ]
  },
  {
   "cell_type": "code",
   "execution_count": null,
   "id": "7dc4b365-9f17-4e40-980d-732223afa091",
   "metadata": {},
   "outputs": [],
   "source": [
    "# add beataml as cancer type?"
   ]
  },
  {
   "cell_type": "code",
   "execution_count": null,
   "id": "58b77407-443c-414a-82fc-00b85fad1a3b",
   "metadata": {},
   "outputs": [],
   "source": [
    "import matplotlib.pyplot as plt\n",
    "from mpl_toolkits.mplot3d import Axes3D\n",
    "import numpy as np"
   ]
  },
  {
   "cell_type": "code",
   "execution_count": null,
   "id": "0da44996-acf7-4002-8446-381ba68b291e",
   "metadata": {},
   "outputs": [],
   "source": [
    "# Dimensions\n",
    "systems = ['Cell line', 'CPTAC', 'HCMI']\n",
    "cancers = ['Lung', 'Brain', 'Breast', 'Pancreas']\n",
    "sample_counts = np.array([\n",
    "    [5, 3, 1],\n",
    "    [20, 15, 10],\n",
    "    [50, 40, 30],\n",
    "    [100, 80, 60]\n",
    "])"
   ]
  },
  {
   "cell_type": "code",
   "execution_count": null,
   "id": "afd1931f-2245-44d4-b363-d55ec812b942",
   "metadata": {},
   "outputs": [],
   "source": [
    "three_d(systems, cancers, sample_counts, title = 'Transcriptomics')"
   ]
  },
  {
   "cell_type": "code",
   "execution_count": null,
   "id": "28892893-c771-45b9-82cf-a4607f357937",
   "metadata": {},
   "outputs": [],
   "source": [
    "def three_d(categories, levels, values, title):\n",
    "    fig = plt.figure()\n",
    "    ax = fig.add_subplot(111, projection='3d')\n",
    "    \n",
    "    xpos, ypos = np.meshgrid(np.arange(values.shape[1]), np.arange(values.shape[0]))\n",
    "    xpos = xpos.flatten()\n",
    "    ypos = ypos.flatten()\n",
    "    zpos = np.zeros(values.shape).flatten()\n",
    "    \n",
    "    dx = 0.8 * np.ones_like(zpos)\n",
    "    dy = dx.copy()\n",
    "    dz = values.flatten()\n",
    "\n",
    "    # dx = 0.6 * np.ones_like(zpos)  # Adjust the value to control the width\n",
    "    # dy = dx.copy()\n",
    "    \n",
    "    # Initial bottom values for stacking\n",
    "    bottom = np.zeros_like(dz)\n",
    "    \n",
    "    for i in range(len(dz)):\n",
    "        ax.bar3d(xpos[i], ypos[i], bottom[i], dx[i], dy[i], dz[i], color='skyblue', zsort='average')\n",
    "        bottom[i] += dz[i]  # Update bottom for the next layer\n",
    "    \n",
    "    ax.set_xlabel('Systems', fontweight='bold')\n",
    "    ax.set_ylabel('Cancer types', fontweight='bold')\n",
    "    ax.set_zlabel('Sample counts', fontweight='bold')\n",
    "    ax.set_xticks(np.arange(len(categories)) + 0.4)  # Center the bars\n",
    "    ax.set_yticks(np.arange(len(levels)) + 0.4)\n",
    "    ax.set_xticklabels(categories)\n",
    "    ax.set_yticklabels(levels)\n",
    "    ax.view_init(elev=15, azim=-60) # Adjust to remove overlab\n",
    "    plt.title(title, y = .9)\n",
    "    plt.savefig('plots/3d_test_2.png')\n",
    "    plt.show()"
   ]
  },
  {
   "cell_type": "code",
   "execution_count": null,
   "id": "ca44b1b4-78d0-4a21-bb46-c1ecf6383095",
   "metadata": {},
   "outputs": [],
   "source": [
    "# Dimensions\n",
    "categories = ['A', 'B', 'C']\n",
    "levels = ['Level 1', 'Level 2', 'Level 3']\n",
    "values = np.array([\n",
    "    [5, 3, 1],\n",
    "    [6, 2, 4],\n",
    "    [3, 5, 2]\n",
    "]) "
   ]
  },
  {
   "cell_type": "code",
   "execution_count": null,
   "id": "8e5bb623-2d67-454a-8835-02587f1ad0fb",
   "metadata": {},
   "outputs": [],
   "source": [
    "fig = plt.figure()\n",
    "ax = fig.add_subplot(111, projection='3d')\n",
    "\n",
    "xpos, ypos = np.meshgrid(np.arange(values.shape[1]), np.arange(values.shape[0]))\n",
    "xpos = xpos.flatten()\n",
    "ypos = ypos.flatten()\n",
    "zpos = np.zeros(values.shape).flatten()\n",
    "\n",
    "dx = 0.8 * np.ones_like(zpos)\n",
    "dy = dx.copy()\n",
    "dz = values.flatten()\n",
    "\n",
    "# Initial bottom values for stacking\n",
    "bottom = np.zeros_like(dz)\n",
    "\n",
    "for i in range(len(dz)):\n",
    "    ax.bar3d(xpos[i], ypos[i], bottom[i], dx[i], dy[i], dz[i], color='skyblue', zsort='average')\n",
    "    bottom[i] += dz[i]  # Update bottom for the next layer\n",
    "\n",
    "ax.set_xlabel('Categories')\n",
    "ax.set_ylabel('Levels')\n",
    "ax.set_zlabel('Values')\n",
    "ax.set_xticks(np.arange(len(categories)) + 0.4)  # Center the bars\n",
    "ax.set_yticks(np.arange(len(levels)) + 0.4)\n",
    "ax.set_xticklabels(categories)\n",
    "ax.set_yticklabels(levels)\n",
    "# plt.tight_layout()\n",
    "plt.savefig('plots/3d_test_1.png')\n",
    "plt.show()"
   ]
  },
  {
   "cell_type": "markdown",
   "id": "eccabcdb-1000-4a76-b9e2-cacbfb93dff0",
   "metadata": {},
   "source": [
    "### Original builds, version 5:"
   ]
  },
  {
   "cell_type": "code",
   "execution_count": null,
   "id": "558e0410-d2fd-4b54-8a49-876e99d96531",
   "metadata": {},
   "outputs": [],
   "source": [
    "ls ../results/input-data/"
   ]
  },
  {
   "cell_type": "code",
   "execution_count": null,
   "id": "d80be5bc-7236-4c51-bd19-17f5e7252e2b",
   "metadata": {},
   "outputs": [],
   "source": [
    "r = 'r5'\n",
    "pths_n = sorted(glob.glob('../results/input-data/'+r+'/'+r+'-fls/*'))"
   ]
  },
  {
   "cell_type": "code",
   "execution_count": null,
   "id": "159274c7-770a-4c55-b1a7-6023d25ef90b",
   "metadata": {},
   "outputs": [],
   "source": [
    "prot_pths = glob.glob('../results/input-data/r5/r5-fls/*_proteomics_*')\n",
    "len(prot_pths)"
   ]
  },
  {
   "cell_type": "code",
   "execution_count": null,
   "id": "2308a80e-635d-4576-b611-e4d29ac617db",
   "metadata": {},
   "outputs": [],
   "source": [
    "tran_pths = glob.glob('../results/input-data/r5/r5-fls/*_transcriptomics_*')\n",
    "len(tran_pths)"
   ]
  },
  {
   "cell_type": "markdown",
   "id": "22a0265c-fb1e-46e5-b79d-89f78ab87afc",
   "metadata": {},
   "source": [
    "### Cell line + CPTAC"
   ]
  },
  {
   "cell_type": "code",
   "execution_count": null,
   "id": "a6d5269f-6ac3-40de-ab4b-74e82e696c0c",
   "metadata": {},
   "outputs": [],
   "source": [
    "tran_pths_cl_cp = glob.glob(\n",
    "    '../results/input-data/r5/r5-fls/*_transcriptomics_cell-line+CPTAC*')\n",
    "len(tran_pths_cl_cp)"
   ]
  },
  {
   "cell_type": "code",
   "execution_count": null,
   "id": "fc43935f-ce0f-4b3f-8875-051fa1115b86",
   "metadata": {},
   "outputs": [],
   "source": [
    "tall_stack = pd.DataFrame()\n",
    "for i, pth_n in enumerate(tran_pths_cl_cp):\n",
    "    print(pth_n.split('/')[-1])\n",
    "    df_n = pd.read_csv(\n",
    "        pth_n, sep = '\\t', index_col = 0)\n",
    "    print(df_n.System.value_counts())\n",
    "    # print(df_n.Cancer_type.value_counts())\n",
    "    print('')\n",
    "    tall_stack = pd.concat([df_n, tall_stack],\n",
    "                           axis = 0,\n",
    "                           # join = 'inner'\n",
    "                          )\n",
    "    # break"
   ]
  },
  {
   "cell_type": "code",
   "execution_count": null,
   "id": "832a5d73-e25b-4020-b77d-48a4eb110b4c",
   "metadata": {},
   "outputs": [],
   "source": [
    "tall_stack.System.value_counts()"
   ]
  },
  {
   "cell_type": "code",
   "execution_count": null,
   "id": "992903db-0bdf-4a50-90f6-7b451e157755",
   "metadata": {},
   "outputs": [],
   "source": [
    "tall_stack.Cancer_type.value_counts()"
   ]
  },
  {
   "cell_type": "code",
   "execution_count": null,
   "id": "cda0dab8-a8c7-420a-890e-ae84e3ac78df",
   "metadata": {},
   "outputs": [],
   "source": [
    "tall_stack.isna().sum().sum()"
   ]
  },
  {
   "cell_type": "code",
   "execution_count": null,
   "id": "e25091a8-6730-47bf-a030-8fd2816df532",
   "metadata": {},
   "outputs": [],
   "source": [
    "tall_stack.to_csv(\n",
    "    '../data/uni-files/trans_cl_cp_r5.tsv', sep = '\\t')"
   ]
  },
  {
   "cell_type": "markdown",
   "id": "9df158da-9068-409c-9dc9-1edda57f4458",
   "metadata": {},
   "source": [
    "### CPTAC+HCMI"
   ]
  },
  {
   "cell_type": "code",
   "execution_count": null,
   "id": "9b69433b-26c9-4916-bbed-5b2b16cb17ef",
   "metadata": {},
   "outputs": [],
   "source": [
    "tran_pths_hc_cp = glob.glob(\n",
    "    '../results/input-data/r5/r5-fls/*_transcriptomics_CPTAC+HCMI*')\n",
    "len(tran_pths_hc_cp)"
   ]
  },
  {
   "cell_type": "code",
   "execution_count": null,
   "id": "74372851-c4a3-4d0d-ad8f-dab0118b9ab4",
   "metadata": {},
   "outputs": [],
   "source": [
    "tall_stack = pd.DataFrame()\n",
    "for i, pth_n in enumerate(tran_pths_hc_cp):\n",
    "    print(pth_n.split('/')[-1])\n",
    "    df_n = pd.read_csv(\n",
    "        pth_n, sep = '\\t', index_col = 0)\n",
    "    print(df_n.shape)\n",
    "    print(df_n.System.value_counts())\n",
    "    # print(df_n.Cancer_type.value_counts())\n",
    "    print(' ')\n",
    "    tall_stack = pd.concat([df_n, tall_stack],\n",
    "                           axis = 0,\n",
    "                           # join = 'inner'\n",
    "                          )"
   ]
  },
  {
   "cell_type": "code",
   "execution_count": null,
   "id": "8d1d179d-8aef-4d9a-9cfc-e516c90121d7",
   "metadata": {},
   "outputs": [],
   "source": [
    "tall_stack.System.value_counts()"
   ]
  },
  {
   "cell_type": "code",
   "execution_count": null,
   "id": "bf5b37b3-628d-4b71-a87d-81c16b30cf60",
   "metadata": {},
   "outputs": [],
   "source": [
    "tall_stack.Cancer_type.value_counts()"
   ]
  },
  {
   "cell_type": "code",
   "execution_count": null,
   "id": "18904b88-852b-4275-9b06-d3a8e7f798d7",
   "metadata": {},
   "outputs": [],
   "source": [
    "tall_stack.isna().sum().sum()"
   ]
  },
  {
   "cell_type": "code",
   "execution_count": null,
   "id": "bfd0f4b2-017e-4d4c-8b01-40dcdefb554d",
   "metadata": {},
   "outputs": [],
   "source": [
    "tall_stack.to_csv(\n",
    "    '../data/uni-files/trans_hc_cp_r5.tsv', sep = '\\t')"
   ]
  },
  {
   "cell_type": "markdown",
   "id": "8dc5fd1f-5c0c-44c4-b42e-7f042fbf4744",
   "metadata": {},
   "source": [
    "## Proteomics"
   ]
  },
  {
   "cell_type": "markdown",
   "id": "688013ac-be63-4f91-b49a-63657ddbd8e6",
   "metadata": {},
   "source": [
    "### Cell line + CPTAC"
   ]
  },
  {
   "cell_type": "code",
   "execution_count": null,
   "id": "692db964-7697-4b50-9573-b994ae608d37",
   "metadata": {},
   "outputs": [],
   "source": [
    "prot_pths_cl_cp = glob.glob(\n",
    "    '../results/input-data/r5/r5-fls/*_proteomics_cell-line+CPTAC*')\n",
    "len(prot_pths_cl_cp)"
   ]
  },
  {
   "cell_type": "code",
   "execution_count": null,
   "id": "6f7237a7-5131-47b3-a6b1-548735d2238c",
   "metadata": {},
   "outputs": [],
   "source": [
    "tall_stack = pd.DataFrame()\n",
    "for i, pth_n in enumerate(prot_pths_cl_cp):\n",
    "    print(pth_n.split('/')[-1])\n",
    "    df_n = pd.read_csv(\n",
    "        pth_n, sep = '\\t', index_col = 0)\n",
    "    print(df_n.shape)\n",
    "    # print(df_n.head(1))\n",
    "    print(df_n.System.value_counts())\n",
    "    # print(df_n.Cancer_type.value_counts())\n",
    "    print(' ')\n",
    "    tall_stack = pd.concat([df_n, tall_stack],\n",
    "                           axis = 0,\n",
    "                          )\n",
    "    # break\n",
    "tall_stack.dropna(axis=1, inplace = True)"
   ]
  },
  {
   "cell_type": "code",
   "execution_count": null,
   "id": "c5060520-07db-4015-a839-58e622c26d06",
   "metadata": {},
   "outputs": [],
   "source": [
    "tall_stack.shape"
   ]
  },
  {
   "cell_type": "code",
   "execution_count": null,
   "id": "68165009-0c30-4972-a3df-4fe4b321f8d8",
   "metadata": {},
   "outputs": [],
   "source": [
    "tall_stack.System.value_counts()"
   ]
  },
  {
   "cell_type": "code",
   "execution_count": null,
   "id": "553f2a6d-7bc8-47dd-a660-2be81cdbb6fc",
   "metadata": {},
   "outputs": [],
   "source": [
    "tall_stack.Cancer_type.value_counts()"
   ]
  },
  {
   "cell_type": "code",
   "execution_count": null,
   "id": "8deb35ce-6bc7-4426-b475-60e2e277b79a",
   "metadata": {},
   "outputs": [],
   "source": [
    "tall_stack.isna().sum().sum()"
   ]
  },
  {
   "cell_type": "code",
   "execution_count": null,
   "id": "0f35b8e4-15dc-41f1-bb77-ddea5626f75d",
   "metadata": {},
   "outputs": [],
   "source": [
    "tall_stack.to_csv(\n",
    "    '../data/uni-files/prot_cl_cp_r5.tsv', sep = '\\t')"
   ]
  },
  {
   "cell_type": "markdown",
   "id": "2b471be9-a386-4d52-a945-74d7ee554572",
   "metadata": {},
   "source": [
    "### CPTAC+HCMI"
   ]
  },
  {
   "cell_type": "code",
   "execution_count": null,
   "id": "cf37b8a5-ca4c-4386-a746-8f9681af39a7",
   "metadata": {},
   "outputs": [],
   "source": [
    "prot_pths_hc_cp = glob.glob(\n",
    "    '../results/input-data/r5/r5-fls/*_proteomics_CPTAC+HCMI*')\n",
    "len(prot_pths_hc_cp)"
   ]
  }
 ],
 "metadata": {
  "kernelspec": {
   "display_name": "Python 3 (ipykernel)",
   "language": "python",
   "name": "python3"
  },
  "language_info": {
   "codemirror_mode": {
    "name": "ipython",
    "version": 3
   },
   "file_extension": ".py",
   "mimetype": "text/x-python",
   "name": "python",
   "nbconvert_exporter": "python",
   "pygments_lexer": "ipython3",
   "version": "3.10.8"
  }
 },
 "nbformat": 4,
 "nbformat_minor": 5
}
