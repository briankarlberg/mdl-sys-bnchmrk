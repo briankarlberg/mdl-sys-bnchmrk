{
 "cells": [
  {
   "cell_type": "code",
   "execution_count": null,
   "id": "84cd1e2a-e2cb-4ac7-9958-0afeb6d977f8",
   "metadata": {},
   "outputs": [],
   "source": [
    "import pandas as pd"
   ]
  },
  {
   "cell_type": "code",
   "execution_count": null,
   "id": "810a85fd-2ff4-49bd-b618-ac5bb6394fe6",
   "metadata": {},
   "outputs": [],
   "source": []
  },
  {
   "cell_type": "code",
   "execution_count": 1,
   "id": "a2312c47-87d1-49a2-bb5d-9a2ab1a6943c",
   "metadata": {},
   "outputs": [],
   "source": [
    "import tensorflow as tf"
   ]
  },
  {
   "cell_type": "code",
   "execution_count": null,
   "id": "65f7546e-ba9c-4500-966f-80d5b3039b89",
   "metadata": {},
   "outputs": [],
   "source": [
    "tf.keras.losses.cosine_similarity(\n",
    "    y_true, y_pred, axis=-1\n",
    ")"
   ]
  },
  {
   "cell_type": "code",
   "execution_count": null,
   "id": "7ec72ebc-7c6b-4577-991e-deb2fe0a8ed8",
   "metadata": {},
   "outputs": [],
   "source": []
  },
  {
   "cell_type": "code",
   "execution_count": null,
   "id": "228fbb79-c5ee-4d40-911e-716f353b56f9",
   "metadata": {},
   "outputs": [],
   "source": []
  },
  {
   "cell_type": "code",
   "execution_count": null,
   "id": "ac7ce580-16ac-448c-8ec5-f6177f2f56ff",
   "metadata": {},
   "outputs": [],
   "source": [
    "# MMD function, lower score is better\n",
    "def compute_mmd(gexp_1, gexp_2, gamma=1.0):\n",
    "    K_XX = rbf_kernel(gexp_1, gexp_1, gamma=gamma)\n",
    "    K_XY = rbf_kernel(gexp_1, gexp_2, gamma=gamma)\n",
    "    K_YY = rbf_kernel(gexp_2, gexp_2, gamma=gamma)\n",
    "\n",
    "    m = gexp_1.shape[0]\n",
    "    n = gexp_2.shape[0]\n",
    "\n",
    "    mmd = (np.sum(K_XX) - np.trace(K_XX)) / (m * (m - 1))\n",
    "    mmd += (np.sum(K_YY) - np.trace(K_YY)) / (n * (n - 1))\n",
    "    mmd -= 2 * np.sum(K_XY) / (m * n)\n",
    "\n",
    "    # Ensure the MMD value is non-negative\n",
    "    mmd = np.maximum(mmd, 0)\n",
    "\n",
    "    return np.sqrt(mmd)"
   ]
  }
 ],
 "metadata": {
  "kernelspec": {
   "display_name": "Python 3 (ipykernel)",
   "language": "python",
   "name": "python3"
  },
  "language_info": {
   "codemirror_mode": {
    "name": "ipython",
    "version": 3
   },
   "file_extension": ".py",
   "mimetype": "text/x-python",
   "name": "python",
   "nbconvert_exporter": "python",
   "pygments_lexer": "ipython3",
   "version": "3.10.8"
  }
 },
 "nbformat": 4,
 "nbformat_minor": 5
}
