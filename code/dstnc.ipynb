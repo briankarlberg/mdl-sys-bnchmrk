{
 "cells": [
  {
   "cell_type": "code",
   "execution_count": 25,
   "id": "b7c8de7f-e25f-43ba-a1ef-4fc01e42d26b",
   "metadata": {},
   "outputs": [],
   "source": [
    "# VAE local devel, r5\n",
    "r = 'r5'"
   ]
  },
  {
   "cell_type": "raw",
   "id": "30d11b3f-3cf1-4e51-8039-b0f20a828eb3",
   "metadata": {},
   "source": [
    "pwd\n",
    "mdl-sys-bnchmrk/code"
   ]
  },
  {
   "cell_type": "code",
   "execution_count": 7,
   "id": "84cd1e2a-e2cb-4ac7-9958-0afeb6d977f8",
   "metadata": {},
   "outputs": [],
   "source": [
    "import pandas as pd\n",
    "import glob"
   ]
  },
  {
   "cell_type": "code",
   "execution_count": 3,
   "id": "84857896-6794-4768-b543-04caeeff857c",
   "metadata": {
    "scrolled": true
   },
   "outputs": [
    {
     "name": "stdout",
     "output_type": "stream",
     "text": [
      "AML_proteomics_cell-line+BeatAML.tsv\n",
      "AML_transcriptomics_cell-line+BeatAML.tsv\n",
      "brain_transcriptomics_CPTAC+HCMI.tsv\n",
      "breast-ductal_proteomics_cell-line+CPTAC.tsv\n",
      "breast-lobular_transcriptomics_cell-line+CPTAC.tsv\n",
      "breast_transcriptomics_CPTAC+HCMI.tsv\n",
      "colon-adeno_proteomics_cell-line+CPTAC.tsv\n",
      "colon-adeno_transcriptomics_cell-line+CPTAC.tsv\n",
      "colon_transcriptomics_CPTAC+HCMI.tsv\n",
      "colon_transcriptomics_cell-line+HCMI.tsv\n",
      "esophogeal_transcriptomics_cell-line+HCMI.tsv\n",
      "glioblastoma_proteomics_cell-line+CPTAC.tsv\n",
      "glioblastoma_transcriptomics_cell-line+CPTAC.tsv\n",
      "head-neck_transcriptomics_cell-line+CPTAC.tsv\n",
      "lung-ad_transcriptomics_CPTAC+HCMI.tsv\n",
      "lung-adeno_proteomics_cell-line+CPTAC.tsv\n",
      "lung-adeno_transcriptomics_cell-line+CPTAC.tsv\n",
      "lung-sq_transcriptomics_CPTAC+HCMI.tsv\n",
      "ovarian_transcriptomics_CPTAC+HCMI.tsv\n",
      "pancreas_transcriptomics_cell-line+HCMI.tsv\n",
      "pancreatic-adeno_proteomics_cell-line+CPTAC.tsv\n",
      "pancreatic-adeno_transcriptomics_cell-line+CPTAC.tsv\n",
      "pancreatic_transcriptomics_CPTAC+HCMI.tsv\n",
      "renal-clear-cell_proteomics_cell-line+CPTAC.tsv\n",
      "renal-clear-cell_transcriptomics_cell-line+CPTAC.tsv\n"
     ]
    }
   ],
   "source": [
    "ls ../results/input-data/r5/r5-fls"
   ]
  },
  {
   "cell_type": "code",
   "execution_count": 8,
   "id": "9ad12282-4f70-4624-9426-2bafb07683dc",
   "metadata": {},
   "outputs": [],
   "source": [
    "n_25 = sorted(glob.glob('../results/input-data/r5/r5-fls/*'))"
   ]
  },
  {
   "cell_type": "markdown",
   "id": "0b6fb2b6-9f40-44d9-9d4d-19eaa4473fdc",
   "metadata": {},
   "source": [
    "#### VAE setup"
   ]
  },
  {
   "cell_type": "code",
   "execution_count": 4,
   "id": "4e25b906-d5ce-4181-9f5b-7d0e0dd782a1",
   "metadata": {},
   "outputs": [],
   "source": [
    "import math\n",
    "import collections\n",
    "\n",
    "import numpy as np\n",
    "\n",
    "import tensorflow as tf\n",
    "from tensorflow import keras\n",
    "from tensorflow.keras import layers\n",
    "from tensorflow.keras.models import Model\n",
    "from tensorflow.keras.layers import BatchNormalization, Activation, Layer\n",
    "from tensorflow.keras import metrics, optimizers\n",
    "from tensorflow.keras.losses import binary_crossentropy\n",
    "from tensorflow.keras.callbacks import Callback\n",
    "import tensorflow.compat.v1.keras.backend as K\n",
    "tf.compat.v1.disable_eager_execution()\n",
    "\n",
    "import matplotlib.pyplot as plt\n",
    "from sklearn.preprocessing import MinMaxScaler"
   ]
  },
  {
   "cell_type": "code",
   "execution_count": 5,
   "id": "d7278707-0a4a-410a-b76b-37fc26d72cc4",
   "metadata": {},
   "outputs": [],
   "source": [
    "# VAE functions\n",
    "def compute_latent(x):\n",
    "    mu, sigma = x\n",
    "    batch = K.shape(mu)[0]\n",
    "    dim = K.shape(mu)[1]\n",
    "    eps = K.random_normal(shape=(batch,dim), mean=0., stddev=1.0 )\n",
    "    return mu + K.exp(sigma/2)*eps\n",
    "\n",
    "class CustomVariationalLayer(Layer):\n",
    "    \"\"\"\n",
    "    Define a custom layer\n",
    "    \"\"\"\n",
    "    def __init__(self, **kwargs):\n",
    "        self.is_placeholder = True\n",
    "        super(CustomVariationalLayer, self).__init__(**kwargs)\n",
    "\n",
    "    def vae_loss(self, x_input, x_decoded):\n",
    "        reconstruction_loss = original_dim * metrics.binary_crossentropy(\n",
    "            x_input, x_decoded)\n",
    "        kl_loss = - 0.5 * K.sum(1 + z_log_var_encoded - K.square(z_mean_encoded) - \n",
    "                                K.exp(z_log_var_encoded), axis=-1)\n",
    "        return K.mean(reconstruction_loss + (K.get_value(beta) * kl_loss))\n",
    "\n",
    "    def call(self, inputs):\n",
    "        x = inputs[0]\n",
    "        x_decoded = inputs[1]\n",
    "        loss = self.vae_loss(x, x_decoded)\n",
    "        self.add_loss(loss, inputs=inputs)\n",
    "        return x\n",
    "    \n",
    "class WarmUpCallback(Callback):\n",
    "    def __init__(self, beta, kappa):\n",
    "        self.beta = beta\n",
    "        self.kappa = kappa\n",
    "\n",
    "    def on_epoch_end(self, epoch, logs={}):\n",
    "        if K.get_value(self.beta) <= 1:\n",
    "            K.set_value(self.beta, K.get_value(self.beta) + self.kappa)"
   ]
  },
  {
   "cell_type": "code",
   "execution_count": 45,
   "id": "92807d76-6dba-43f0-8a7c-48addbb61b04",
   "metadata": {},
   "outputs": [],
   "source": [
    "# Loss plot visualization to determine degree of model fitting\n",
    "def plot_loss(loss_dict, cancer, modality, systems, latent_dim, train_file):\n",
    "\n",
    "    # Create a new figure\n",
    "    plt.figure(figsize=(10, 6))\n",
    "\n",
    "    # Plot loss values\n",
    "    plt.plot(loss_dict['vs0'], marker='o', linestyle='-', color='b')\n",
    "\n",
    "    # Add a grid\n",
    "    plt.grid(True, linestyle='--', alpha=0.6)\n",
    "\n",
    "    # Add titles and labels\n",
    "    plt.title(cancer+' '+modality+' '+systems+' VAE Loss', fontsize=16, fontweight='bold')\n",
    "    plt.xlabel('Epoch', fontsize=14)\n",
    "    plt.ylabel('Loss', fontsize=14)\n",
    "\n",
    "    # Annotation for epochs and latent dimension\n",
    "    plt.annotate('Samples: {}'.format(\n",
    "        len(train_file))+'\\nLatent dim: '+str(\n",
    "        latent_dim)+'\\nRaw features: {}'.format(len(train_file.columns)), \n",
    "                 xy=(0.7, 0.3), xycoords='axes fraction', \n",
    "                 bbox=dict(boxstyle='round, pad=0.5', fc='white', ec='black'),\n",
    "                 fontsize=12)\n",
    "\n",
    "    # Save the plot\n",
    "    plt.savefig(#'loss_plots/'+data_type+'_vae_loss.png'\n",
    "               '../results/vae-out/'+r+\n",
    "                         '/'+r+'-fls/'+cancer+'_'+modality+'_'+\n",
    "                         systems+'_'+str(latent_dim)+'-ltnt-dim_'+\n",
    "                         str(epochs)+'-epchs_loss.png')\n",
    "    # plt.close()  # Close the figure - not for interactive devel / demo"
   ]
  },
  {
   "cell_type": "markdown",
   "id": "850bde65-2dd4-4b8c-ab03-026d7e15cdb2",
   "metadata": {},
   "source": [
    "#### Load data and run VAE"
   ]
  },
  {
   "cell_type": "code",
   "execution_count": 27,
   "id": "883a9e86-ec6d-43fe-b0ef-67e5299ae2a8",
   "metadata": {},
   "outputs": [
    {
     "data": {
      "text/plain": [
       "['../results/input-data/r5/r5-fls/AML', 'proteomics', 'cell-line+BeatAML.tsv']"
      ]
     },
     "execution_count": 27,
     "metadata": {},
     "output_type": "execute_result"
    }
   ],
   "source": [
    "fl_pth.split('_')"
   ]
  },
  {
   "cell_type": "code",
   "execution_count": null,
   "id": "d2a35b44-1510-4777-bd19-6ae311384a3c",
   "metadata": {},
   "outputs": [],
   "source": [
    "epochs = 12\n",
    "for fl_pth in n_25:\n",
    "    print(fl_pth)\n",
    "    cancer = fl_pth.split('_')[0].split('/')[-1]\n",
    "    modality = fl_pth.split('_')[1]\n",
    "    systems = fl_pth.split('_')[2].split('.')[0]\n",
    "    latent_header_prefix = data_type[:4]\n",
    "    train_file = pd.read_csv(fl_pth,\n",
    "                        sep = '\\t', index_col = 0)\n",
    "    sys_lbls = train_file.System\n",
    "    cncr_lbls = train_file.Cancer_type\n",
    "    train_file = train_file.iloc[:, 2:]\n",
    "\n",
    "    # Normalize\n",
    "    scaler = MinMaxScaler()\n",
    "    train_file = pd.DataFrame(\n",
    "        scaler.fit_transform(train_file),\n",
    "        columns=train_file.columns,\n",
    "        index=train_file.index)\n",
    "    # break\n",
    "    # Variational auto-encoder, Tybalt\n",
    "    loss_dict = {}\n",
    "    vs_list = ['vs0']\n",
    "    validation_split = vs_list[0]\n",
    "    \n",
    "    features = train_file.columns\n",
    "    \n",
    "    original_dim = len(features)\n",
    "    feature_dim = len(features)\n",
    "    latent_dim = 250\n",
    "    batch_size = 50\n",
    "    \n",
    "    encoder_inputs = keras.Input(shape=(feature_dim,))\n",
    "    z_mean_dense_linear = layers.Dense(\n",
    "        latent_dim, kernel_initializer='glorot_uniform', name=\"encoder_1\")(encoder_inputs)\n",
    "    z_mean_dense_batchnorm = layers.BatchNormalization()(z_mean_dense_linear)\n",
    "    z_mean_encoded = layers.Activation('relu')(z_mean_dense_batchnorm)\n",
    "    \n",
    "    z_log_var_dense_linear = layers.Dense(\n",
    "        latent_dim, kernel_initializer='glorot_uniform', name=\"encoder_2\")(encoder_inputs)\n",
    "    z_log_var_dense_batchnorm = layers.BatchNormalization()(z_log_var_dense_linear)\n",
    "    z_log_var_encoded = layers.Activation('relu')(z_log_var_dense_batchnorm)\n",
    "    \n",
    "    latent_space = layers.Lambda(\n",
    "        compute_latent, output_shape=(\n",
    "            latent_dim,), name=\"latent_space\")([z_mean_encoded, z_log_var_encoded])\n",
    "    \n",
    "    decoder_to_reconstruct = layers.Dense(\n",
    "        feature_dim, kernel_initializer='glorot_uniform', activation='sigmoid')\n",
    "    decoder_outputs = decoder_to_reconstruct(latent_space)\n",
    "    \n",
    "    learning_rate = 0.0005\n",
    "    \n",
    "    kappa = 1\n",
    "    beta = K.variable(0)\n",
    "    \n",
    "    adam = optimizers.Adam(learning_rate=learning_rate)\n",
    "    vae_layer = CustomVariationalLayer()([encoder_inputs, decoder_outputs])\n",
    "    vae = Model(encoder_inputs, vae_layer)\n",
    "    vae.compile(optimizer=adam, loss=None, loss_weights=[beta])\n",
    "    \n",
    "    history = vae.fit(train_file,\n",
    "                epochs=epochs,\n",
    "                      batch_size=batch_size,\n",
    "                      shuffle=True,\n",
    "                      callbacks=[WarmUpCallback(beta, kappa)],\n",
    "                      verbose=1)\n",
    "    loss_dict[validation_split] = history.history['loss']\n",
    "    \n",
    "    encoder = Model(encoder_inputs, z_mean_encoded)\n",
    "    latent_object = pd.DataFrame(\n",
    "        encoder.predict(train_file),\n",
    "        index=train_file.index\n",
    "    )\n",
    "    latent_object.index.name = train_file.index.name\n",
    "    # break\n",
    "    # Convert latent object headers to dtype specific strings for input to transformer\n",
    "    new_column_headers = []\n",
    "    for column_header in latent_object.columns:\n",
    "        # latent_header_prefix\n",
    "        new_column_header = latent_header_prefix+'_' + str(column_header)\n",
    "        new_column_headers.append(new_column_header)\n",
    "    latent_object.columns = new_column_headers\n",
    "    \n",
    "    latent_object.to_csv('../results/vae-out/'+r+\n",
    "                         '/'+r+'-fls/'+cancer+'_'+modality+'_'+\n",
    "                         systems+'_'+str(latent_dim)+'-ltnt-dim_'+\n",
    "                         str(epochs)+'-epchs.tsv', sep = '\\t')\n",
    "    plot_loss(loss_dict, cancer, modality, systems, latent_dim, train_file)\n",
    "    print('VAE done, latent object and loss plot written to disk')\n",
    "    # break"
   ]
  },
  {
   "cell_type": "code",
   "execution_count": 34,
   "id": "dfe4c68d-0823-4153-91ca-0b8089dcf281",
   "metadata": {},
   "outputs": [
    {
     "data": {
      "text/plain": [
       "'prot'"
      ]
     },
     "execution_count": 34,
     "metadata": {},
     "output_type": "execute_result"
    }
   ],
   "source": [
    "plot_loss(loss_dict, data_type, train_file)"
   ]
  },
  {
   "cell_type": "markdown",
   "id": "33ffcf0a-ba43-43e3-91f4-bd2f042046ae",
   "metadata": {},
   "source": [
    "#### TF cos sim"
   ]
  },
  {
   "cell_type": "markdown",
   "id": "c03016cf-9c83-4499-b3b1-938e88475cfe",
   "metadata": {},
   "source": [
    "https://www.tensorflow.org/api_docs/python/tf/keras/losses/cosine_similarity"
   ]
  },
  {
   "cell_type": "code",
   "execution_count": 1,
   "id": "a2312c47-87d1-49a2-bb5d-9a2ab1a6943c",
   "metadata": {},
   "outputs": [],
   "source": [
    "import tensorflow as tf"
   ]
  },
  {
   "cell_type": "code",
   "execution_count": null,
   "id": "65f7546e-ba9c-4500-966f-80d5b3039b89",
   "metadata": {},
   "outputs": [],
   "source": [
    "tf.keras.losses.cosine_similarity(\n",
    "    y_true, y_pred, axis=-1\n",
    ")"
   ]
  },
  {
   "cell_type": "code",
   "execution_count": null,
   "id": "8aa4a59b-b473-480a-9412-8f426c665248",
   "metadata": {},
   "outputs": [],
   "source": []
  },
  {
   "cell_type": "markdown",
   "id": "d3527618-1d5b-46b9-8411-8c63c6f1827a",
   "metadata": {},
   "source": [
    "#### MMD"
   ]
  },
  {
   "cell_type": "code",
   "execution_count": null,
   "id": "ac7ce580-16ac-448c-8ec5-f6177f2f56ff",
   "metadata": {},
   "outputs": [],
   "source": [
    "# MMD function, lower score is better\n",
    "import numpy as np\n",
    "from sklearn.metrics.pairwise import rbf_kernel\n",
    "def compute_mmd(gexp_1, gexp_2, gamma=1.0):\n",
    "    K_XX = rbf_kernel(gexp_1, gexp_1, gamma=gamma)\n",
    "    K_XY = rbf_kernel(gexp_1, gexp_2, gamma=gamma)\n",
    "    K_YY = rbf_kernel(gexp_2, gexp_2, gamma=gamma)\n",
    "\n",
    "    m = gexp_1.shape[0]\n",
    "    n = gexp_2.shape[0]\n",
    "\n",
    "    mmd = (np.sum(K_XX) - np.trace(K_XX)) / (m * (m - 1))\n",
    "    mmd += (np.sum(K_YY) - np.trace(K_YY)) / (n * (n - 1))\n",
    "    mmd -= 2 * np.sum(K_XY) / (m * n)\n",
    "\n",
    "    # Ensure the MMD value is non-negative\n",
    "    mmd = np.maximum(mmd, 0)\n",
    "\n",
    "    return np.sqrt(mmd)"
   ]
  },
  {
   "cell_type": "markdown",
   "id": "7b111dc3-1acc-46db-808b-6910c799e370",
   "metadata": {},
   "source": [
    "##### MMD front-end"
   ]
  },
  {
   "cell_type": "code",
   "execution_count": null,
   "id": "114a6aea-de35-492b-824c-f9cedfc97268",
   "metadata": {},
   "outputs": [],
   "source": [
    "# call on ../output/sng-cncr/cell_line_beatAML_transcriptomics.tsv"
   ]
  },
  {
   "cell_type": "code",
   "execution_count": null,
   "id": "b7e2156e-6d8c-4768-9181-085626ce774e",
   "metadata": {},
   "outputs": [],
   "source": []
  },
  {
   "cell_type": "markdown",
   "id": "da6a3ded-054b-4b3d-9cf1-19a10c2740be",
   "metadata": {},
   "source": [
    "##### MMD on latent"
   ]
  },
  {
   "cell_type": "code",
   "execution_count": null,
   "id": "2f1088a7-f1d1-4bc9-9db9-f34ec058f563",
   "metadata": {},
   "outputs": [],
   "source": []
  },
  {
   "cell_type": "markdown",
   "id": "9b399618-0996-4647-b63c-28c15003ae99",
   "metadata": {},
   "source": [
    "##### MMD on mbatch out"
   ]
  },
  {
   "cell_type": "code",
   "execution_count": null,
   "id": "fbc9251a-24ac-47eb-a359-7532ecb27e38",
   "metadata": {},
   "outputs": [],
   "source": []
  },
  {
   "cell_type": "markdown",
   "id": "1f98818a-ab7e-4dd9-b811-63452f517135",
   "metadata": {},
   "source": [
    "#### Scikit-learn"
   ]
  },
  {
   "cell_type": "code",
   "execution_count": null,
   "id": "8a481cdb-b288-4f4f-aa68-18a3a5a832e5",
   "metadata": {},
   "outputs": [],
   "source": []
  },
  {
   "cell_type": "markdown",
   "id": "00b5bf51-17ae-452e-b064-21658e3a3e97",
   "metadata": {},
   "source": [
    "#### UMAP"
   ]
  },
  {
   "cell_type": "code",
   "execution_count": null,
   "id": "904f29e6-3549-4a97-9e2a-c16d7db968c4",
   "metadata": {},
   "outputs": [],
   "source": []
  },
  {
   "cell_type": "markdown",
   "id": "41a48e0f-9a61-446e-8fdb-5af052b170c0",
   "metadata": {},
   "source": [
    "#### default model ops"
   ]
  },
  {
   "cell_type": "code",
   "execution_count": null,
   "id": "b78cd22b-d2ff-4ebe-ac72-f12716e1b6ca",
   "metadata": {},
   "outputs": [],
   "source": [
    "# Call sig, native macos terminal\n",
    "# generate vae latent obj"
   ]
  },
  {
   "cell_type": "raw",
   "id": "7f804804-3e74-46af-9c07-d55d7e24e6af",
   "metadata": {},
   "source": [
    "bash-3.2$ python default_vae.py -d ../output/sng-cncr/cell_line_beatAML_transcriptomics.tsv -o ../results/devel/"
   ]
  },
  {
   "cell_type": "markdown",
   "id": "3f7b3c49-682a-4306-9936-cc5cb4e4abe5",
   "metadata": {},
   "source": [
    "#### devel notes"
   ]
  },
  {
   "cell_type": "code",
   "execution_count": null,
   "id": "9e6fc38e-2a1a-4efc-a028-f8f83bc3cf22",
   "metadata": {},
   "outputs": [],
   "source": [
    "# MAD"
   ]
  },
  {
   "cell_type": "code",
   "execution_count": null,
   "id": "d9a8893b-18d3-4c62-ace1-77066ca2d318",
   "metadata": {},
   "outputs": [],
   "source": []
  },
  {
   "cell_type": "code",
   "execution_count": null,
   "id": "c64617c9-12bb-451e-b5ea-8d688bcd6664",
   "metadata": {},
   "outputs": [],
   "source": [
    "# VAE"
   ]
  },
  {
   "cell_type": "code",
   "execution_count": null,
   "id": "258d1ecd-3446-490c-96e9-bde1492dee35",
   "metadata": {},
   "outputs": [],
   "source": [
    "https://github.com/PNNL-CompBio/panCancerModelSystems/blob/main/CPTAC_VAE_v0.ipynb"
   ]
  },
  {
   "cell_type": "code",
   "execution_count": null,
   "id": "f6ed1917-7db8-4ed0-b491-7b0636a9fa48",
   "metadata": {},
   "outputs": [],
   "source": [
    "# Link to transformer example"
   ]
  },
  {
   "cell_type": "code",
   "execution_count": null,
   "id": "2748e988-5ee3-4a73-91ac-7e9756b95b7d",
   "metadata": {},
   "outputs": [],
   "source": [
    "https://github.com/PNNL-CompBio/panCancerModelSystems/blob/main/CPTAC_trnsfrmr_v0.ipynb"
   ]
  },
  {
   "cell_type": "raw",
   "id": "ce6a9b5a-8dd6-4c94-9f6b-1d521588d009",
   "metadata": {},
   "source": [
    "ls ../output/sng-cncr/"
   ]
  },
  {
   "cell_type": "raw",
   "id": "61cffc28-ba72-4208-adac-4e8436b6135c",
   "metadata": {},
   "source": [
    "mv ../../../model_systems/i_o/yX/cell_line_beatAML_transcriptomics_738x14975_v02_chk.tsv ../output/sng-cncr/cell_line_beatAML_transcriptomics_738x14975_v02_chk.tsv"
   ]
  }
 ],
 "metadata": {
  "kernelspec": {
   "display_name": "Python 3 (ipykernel)",
   "language": "python",
   "name": "python3"
  },
  "language_info": {
   "codemirror_mode": {
    "name": "ipython",
    "version": 3
   },
   "file_extension": ".py",
   "mimetype": "text/x-python",
   "name": "python",
   "nbconvert_exporter": "python",
   "pygments_lexer": "ipython3",
   "version": "3.10.8"
  }
 },
 "nbformat": 4,
 "nbformat_minor": 5
}
