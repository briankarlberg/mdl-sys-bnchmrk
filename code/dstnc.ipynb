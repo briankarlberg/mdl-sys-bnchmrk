{
 "cells": [
  {
   "cell_type": "code",
   "execution_count": null,
   "id": "b7c8de7f-e25f-43ba-a1ef-4fc01e42d26b",
   "metadata": {},
   "outputs": [],
   "source": [
    "# run three quant evals and umap\n",
    "    # on strctrd"
   ]
  },
  {
   "cell_type": "code",
   "execution_count": 3,
   "id": "84cd1e2a-e2cb-4ac7-9958-0afeb6d977f8",
   "metadata": {},
   "outputs": [],
   "source": [
    "import pandas as pd"
   ]
  },
  {
   "cell_type": "raw",
   "id": "636963aa-b0eb-43aa-a3a6-ead1ce924ed0",
   "metadata": {},
   "source": [
    "ls"
   ]
  },
  {
   "cell_type": "markdown",
   "id": "33ffcf0a-ba43-43e3-91f4-bd2f042046ae",
   "metadata": {},
   "source": [
    "#### TF cos sim"
   ]
  },
  {
   "cell_type": "markdown",
   "id": "c03016cf-9c83-4499-b3b1-938e88475cfe",
   "metadata": {},
   "source": [
    "https://www.tensorflow.org/api_docs/python/tf/keras/losses/cosine_similarity"
   ]
  },
  {
   "cell_type": "code",
   "execution_count": 1,
   "id": "a2312c47-87d1-49a2-bb5d-9a2ab1a6943c",
   "metadata": {},
   "outputs": [],
   "source": [
    "import tensorflow as tf"
   ]
  },
  {
   "cell_type": "code",
   "execution_count": null,
   "id": "65f7546e-ba9c-4500-966f-80d5b3039b89",
   "metadata": {},
   "outputs": [],
   "source": [
    "tf.keras.losses.cosine_similarity(\n",
    "    y_true, y_pred, axis=-1\n",
    ")"
   ]
  },
  {
   "cell_type": "code",
   "execution_count": null,
   "id": "8aa4a59b-b473-480a-9412-8f426c665248",
   "metadata": {},
   "outputs": [],
   "source": []
  },
  {
   "cell_type": "markdown",
   "id": "d3527618-1d5b-46b9-8411-8c63c6f1827a",
   "metadata": {},
   "source": [
    "#### MMD"
   ]
  },
  {
   "cell_type": "code",
   "execution_count": null,
   "id": "ac7ce580-16ac-448c-8ec5-f6177f2f56ff",
   "metadata": {},
   "outputs": [],
   "source": [
    "# MMD function, lower score is better\n",
    "import numpy as np\n",
    "from sklearn.metrics.pairwise import rbf_kernel\n",
    "def compute_mmd(gexp_1, gexp_2, gamma=1.0):\n",
    "    K_XX = rbf_kernel(gexp_1, gexp_1, gamma=gamma)\n",
    "    K_XY = rbf_kernel(gexp_1, gexp_2, gamma=gamma)\n",
    "    K_YY = rbf_kernel(gexp_2, gexp_2, gamma=gamma)\n",
    "\n",
    "    m = gexp_1.shape[0]\n",
    "    n = gexp_2.shape[0]\n",
    "\n",
    "    mmd = (np.sum(K_XX) - np.trace(K_XX)) / (m * (m - 1))\n",
    "    mmd += (np.sum(K_YY) - np.trace(K_YY)) / (n * (n - 1))\n",
    "    mmd -= 2 * np.sum(K_XY) / (m * n)\n",
    "\n",
    "    # Ensure the MMD value is non-negative\n",
    "    mmd = np.maximum(mmd, 0)\n",
    "\n",
    "    return np.sqrt(mmd)"
   ]
  },
  {
   "cell_type": "markdown",
   "id": "7b111dc3-1acc-46db-808b-6910c799e370",
   "metadata": {},
   "source": [
    "##### MMD front-end"
   ]
  },
  {
   "cell_type": "code",
   "execution_count": null,
   "id": "114a6aea-de35-492b-824c-f9cedfc97268",
   "metadata": {},
   "outputs": [],
   "source": [
    "# call on ../output/sng-cncr/cell_line_beatAML_transcriptomics.tsv"
   ]
  },
  {
   "cell_type": "code",
   "execution_count": null,
   "id": "b7e2156e-6d8c-4768-9181-085626ce774e",
   "metadata": {},
   "outputs": [],
   "source": []
  },
  {
   "cell_type": "markdown",
   "id": "da6a3ded-054b-4b3d-9cf1-19a10c2740be",
   "metadata": {},
   "source": [
    "##### MMD on latent"
   ]
  },
  {
   "cell_type": "code",
   "execution_count": null,
   "id": "2f1088a7-f1d1-4bc9-9db9-f34ec058f563",
   "metadata": {},
   "outputs": [],
   "source": []
  },
  {
   "cell_type": "markdown",
   "id": "9b399618-0996-4647-b63c-28c15003ae99",
   "metadata": {},
   "source": [
    "##### MMD on mbatch out"
   ]
  },
  {
   "cell_type": "code",
   "execution_count": null,
   "id": "fbc9251a-24ac-47eb-a359-7532ecb27e38",
   "metadata": {},
   "outputs": [],
   "source": []
  },
  {
   "cell_type": "markdown",
   "id": "1f98818a-ab7e-4dd9-b811-63452f517135",
   "metadata": {},
   "source": [
    "#### Scikit-learn"
   ]
  },
  {
   "cell_type": "code",
   "execution_count": null,
   "id": "8a481cdb-b288-4f4f-aa68-18a3a5a832e5",
   "metadata": {},
   "outputs": [],
   "source": []
  },
  {
   "cell_type": "markdown",
   "id": "00b5bf51-17ae-452e-b064-21658e3a3e97",
   "metadata": {},
   "source": [
    "#### UMAP"
   ]
  },
  {
   "cell_type": "code",
   "execution_count": null,
   "id": "904f29e6-3549-4a97-9e2a-c16d7db968c4",
   "metadata": {},
   "outputs": [],
   "source": []
  },
  {
   "cell_type": "markdown",
   "id": "41a48e0f-9a61-446e-8fdb-5af052b170c0",
   "metadata": {},
   "source": [
    "#### default model ops"
   ]
  },
  {
   "cell_type": "code",
   "execution_count": null,
   "id": "b78cd22b-d2ff-4ebe-ac72-f12716e1b6ca",
   "metadata": {},
   "outputs": [],
   "source": [
    "# Call sig, native macos terminal\n",
    "# generate vae latent obj"
   ]
  },
  {
   "cell_type": "raw",
   "id": "7f804804-3e74-46af-9c07-d55d7e24e6af",
   "metadata": {},
   "source": [
    "bash-3.2$ python default_vae.py -d ../output/sng-cncr/cell_line_beatAML_transcriptomics.tsv -o ../results/devel/"
   ]
  },
  {
   "cell_type": "markdown",
   "id": "3f7b3c49-682a-4306-9936-cc5cb4e4abe5",
   "metadata": {
    "jp-MarkdownHeadingCollapsed": true
   },
   "source": [
    "#### devel notes"
   ]
  },
  {
   "cell_type": "raw",
   "id": "ce6a9b5a-8dd6-4c94-9f6b-1d521588d009",
   "metadata": {},
   "source": [
    "ls ../output/sng-cncr/"
   ]
  },
  {
   "cell_type": "raw",
   "id": "61cffc28-ba72-4208-adac-4e8436b6135c",
   "metadata": {},
   "source": [
    "mv ../../../model_systems/i_o/yX/cell_line_beatAML_transcriptomics_738x14975_v02_chk.tsv ../output/sng-cncr/cell_line_beatAML_transcriptomics_738x14975_v02_chk.tsv"
   ]
  }
 ],
 "metadata": {
  "kernelspec": {
   "display_name": "Python 3 (ipykernel)",
   "language": "python",
   "name": "python3"
  },
  "language_info": {
   "codemirror_mode": {
    "name": "ipython",
    "version": 3
   },
   "file_extension": ".py",
   "mimetype": "text/x-python",
   "name": "python",
   "nbconvert_exporter": "python",
   "pygments_lexer": "ipython3",
   "version": "3.10.8"
  }
 },
 "nbformat": 4,
 "nbformat_minor": 5
}
