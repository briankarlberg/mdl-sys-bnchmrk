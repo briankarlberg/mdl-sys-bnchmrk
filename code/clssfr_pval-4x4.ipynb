{
 "cells": [
  {
   "cell_type": "markdown",
   "id": "59f4a06d-d172-4737-a94a-175836a294fb",
   "metadata": {},
   "source": [
    "# R8"
   ]
  },
  {
   "cell_type": "code",
   "execution_count": null,
   "id": "24515ada-bf16-4302-b929-0aba1e8214d6",
   "metadata": {},
   "outputs": [],
   "source": [
    "# Add pvals, convert to 4 groups of nested bar plots"
   ]
  },
  {
   "cell_type": "code",
   "execution_count": null,
   "id": "62cd2566-29d3-4b58-bfa2-842fc56130e8",
   "metadata": {},
   "outputs": [],
   "source": [
    "production_date = '2024-03-20' "
   ]
  },
  {
   "cell_type": "code",
   "execution_count": null,
   "id": "7d6ddeb3-b3fb-4a5b-85f3-aea24641e74c",
   "metadata": {},
   "outputs": [],
   "source": [
    "%whos"
   ]
  },
  {
   "cell_type": "code",
   "execution_count": 1,
   "id": "ce4d0e57-6692-41c5-be98-a33677884dc6",
   "metadata": {},
   "outputs": [],
   "source": [
    "# Data handling & comparision setup\n",
    "import pandas as pd\n",
    "import glob\n",
    "import itertools\n",
    "\n",
    "# Feature selection, RFE\n",
    "from sklearn.feature_selection import RFE\n",
    "from sklearn.svm import SVR\n",
    "\n",
    "# Import 3 SciKit Learn classifiers\n",
    "from sklearn.ensemble import RandomForestClassifier\n",
    "from sklearn import tree\n",
    "from sklearn.linear_model import LogisticRegression\n",
    "\n",
    "# SVM\n",
    "from sklearn.svm import LinearSVC\n",
    "from sklearn.pipeline import make_pipeline\n",
    "from sklearn.preprocessing import StandardScaler\n",
    "\n",
    "# Classification setup and eval\n",
    "from sklearn.model_selection import train_test_split\n",
    "from sklearn.metrics import f1_score\n",
    "import statistics\n",
    "\n",
    "# Plotting\n",
    "import matplotlib.pyplot as plt"
   ]
  },
  {
   "cell_type": "markdown",
   "id": "0d3c6e0a-c4c3-49b0-b95f-950625022961",
   "metadata": {},
   "source": [
    "### Set data paths"
   ]
  },
  {
   "cell_type": "markdown",
   "id": "c35a4153-09e1-4739-9943-411e9a04a0e1",
   "metadata": {},
   "source": [
    "#### Input read"
   ]
  },
  {
   "cell_type": "code",
   "execution_count": 2,
   "id": "45d6d76b-10d6-40fa-9741-369884b6ffa4",
   "metadata": {},
   "outputs": [
    {
     "data": {
      "text/plain": [
       "['../data/r72/nc5_transcriptomics_cell-line+CPTAC.input-data.tsv',\n",
       " '../data/r72/nc2_transcriptomics_HCMI+CPTAC.input-data.tsv']"
      ]
     },
     "execution_count": 2,
     "metadata": {},
     "output_type": "execute_result"
    }
   ],
   "source": [
    "# phase = 'Input', need for all comparisons\n",
    "inp_pths = sorted(\n",
    "    glob.glob('../data/r72/nc*.tsv'), reverse = True)\n",
    "inp_pths"
   ]
  },
  {
   "cell_type": "markdown",
   "id": "b70d9b49-6104-43cf-a9ff-12a5120ac260",
   "metadata": {},
   "source": [
    "#### MBatch"
   ]
  },
  {
   "cell_type": "code",
   "execution_count": null,
   "id": "e2641fee-9509-4086-bea0-94e3f16a4dda",
   "metadata": {},
   "outputs": [],
   "source": [
    "# phase = 'MBatch'\n",
    "mb_pths = sorted(\n",
    "    glob.glob('../results/r72/mbatch/*.tsv'), reverse = True)\n",
    "mb_pths"
   ]
  },
  {
   "cell_type": "markdown",
   "id": "549b4b38-6b39-4580-b543-0cd35e461d97",
   "metadata": {},
   "source": [
    "#### Qaunt rescale"
   ]
  },
  {
   "cell_type": "code",
   "execution_count": null,
   "id": "5666e9d4-12e4-48da-88be-74d003201644",
   "metadata": {},
   "outputs": [],
   "source": [
    "qs_pths = sorted(\n",
    "    glob.glob('../results/r72/quant-resc/*.tsv'), reverse = True)\n",
    "qs_pths"
   ]
  },
  {
   "cell_type": "markdown",
   "id": "57044056-445e-47be-805d-cf70fa37e175",
   "metadata": {},
   "source": [
    "#### Tybalt"
   ]
  },
  {
   "cell_type": "code",
   "execution_count": null,
   "id": "83a9faf2-b6bd-4129-a13e-6bd34c65d6d9",
   "metadata": {},
   "outputs": [],
   "source": [
    "tb_pths = sorted(\n",
    "    glob.glob('../results/r72/tybalt/*.tsv'), reverse = True)\n",
    "tb_pths"
   ]
  },
  {
   "cell_type": "markdown",
   "id": "5794b494-8d7b-4d9f-af3a-8bf5109b0de5",
   "metadata": {},
   "source": [
    "### Load data"
   ]
  },
  {
   "cell_type": "code",
   "execution_count": 4,
   "id": "c8374142-97a0-4d58-b939-b9b39b280c69",
   "metadata": {},
   "outputs": [],
   "source": [
    "path_index_toggle = 0\n",
    "cancer_count = 5\n",
    "sys_togg = 'cell-line'\n",
    "sys_file_names = 'cell-line+CPTAC'\n",
    "sample_count_lbl = 'Cell line'\n",
    "mdl_sys_inline = 'cell line'"
   ]
  },
  {
   "cell_type": "code",
   "execution_count": null,
   "id": "3f7073b7-2fce-462d-926d-ff7539bc61cc",
   "metadata": {},
   "outputs": [],
   "source": [
    "path_index_toggle = 1\n",
    "cancer_count = 2\n",
    "sys_togg = 'hcmi'\n",
    "sys_file_names = 'HMCI+CPTAC'\n",
    "sample_count_lbl = 'HCMI'\n",
    "mdl_sys_inline = 'HCMI'"
   ]
  },
  {
   "cell_type": "markdown",
   "id": "205535bd-f66b-4231-a272-64a11e6ed72c",
   "metadata": {},
   "source": [
    "##### Continue"
   ]
  },
  {
   "cell_type": "code",
   "execution_count": null,
   "id": "2543cfd2-8d9a-4d49-8cc2-0bcf95fbb9be",
   "metadata": {},
   "outputs": [],
   "source": [
    "path_index_toggle"
   ]
  },
  {
   "cell_type": "code",
   "execution_count": null,
   "id": "f2116df2-f2c3-4601-bbe8-4d75d2b8d22e",
   "metadata": {},
   "outputs": [],
   "source": [
    "inp_pths"
   ]
  },
  {
   "cell_type": "code",
   "execution_count": 5,
   "id": "63d4bbe4-de55-4217-acf6-65f2feb46c3a",
   "metadata": {},
   "outputs": [
    {
     "name": "stdout",
     "output_type": "stream",
     "text": [
      "inpt len: 827\n"
     ]
    }
   ],
   "source": [
    "# Input load\n",
    "input_df = pd.read_csv(\n",
    "                inp_pths[path_index_toggle], # nc5 or nc2 file\n",
    "                sep = '\\t',\n",
    "                index_col = 0)\n",
    "print('inpt len:', len(input_df))"
   ]
  },
  {
   "cell_type": "code",
   "execution_count": null,
   "id": "e5b10800-ddbf-4526-b12f-4a69559bbb30",
   "metadata": {
    "scrolled": true
   },
   "outputs": [],
   "source": [
    "input_df"
   ]
  },
  {
   "cell_type": "code",
   "execution_count": null,
   "id": "78eec16b-00fb-4d89-9676-76c1ed8ff86d",
   "metadata": {},
   "outputs": [],
   "source": [
    "input_df.isna().sum().sum()"
   ]
  },
  {
   "cell_type": "code",
   "execution_count": null,
   "id": "d96b26bb-b909-4ce2-9334-cb0d1a9e94bd",
   "metadata": {},
   "outputs": [],
   "source": [
    "corr_pths = mb, qs_pths\n",
    "corr_mthd_title = 'MBatch'\n",
    "mthd_file_disk_name = 'mbatch'\n",
    "latent_dim = 'NA'"
   ]
  },
  {
   "cell_type": "code",
   "execution_count": null,
   "id": "cf89432f-a4b3-4014-9a8a-c23217001983",
   "metadata": {},
   "outputs": [],
   "source": [
    "# MBatch load\n",
    "mbatch_df = pd.read_csv(\n",
    "                mb_pths[path_index_toggle],\n",
    "                sep = '\\t',\n",
    "                index_col = 0)\n",
    "\n",
    "print('MB corr len:', len(mbatch_df))"
   ]
  },
  {
   "cell_type": "code",
   "execution_count": null,
   "id": "d5d4fc86-b17c-427f-9f56-c3e7f3fa8501",
   "metadata": {},
   "outputs": [],
   "source": [
    "# Quant-resc load\n",
    "quant_resc_df = pd.read_csv(\n",
    "                qs_pths[path_index_toggle],\n",
    "                sep = '\\t',\n",
    "                index_col = 0)\n",
    "\n",
    "print('QS corr len:', len(quant_resc_df))"
   ]
  },
  {
   "cell_type": "code",
   "execution_count": null,
   "id": "75e7b2b9-ad38-4e12-8733-1f0301dbd61a",
   "metadata": {},
   "outputs": [],
   "source": [
    "quant_resc_df.isna().sum().sum()"
   ]
  },
  {
   "cell_type": "code",
   "execution_count": null,
   "id": "c43d274d-ec93-4f3d-a64e-5cfea39c572a",
   "metadata": {},
   "outputs": [],
   "source": [
    "quant_resc_df = quant_resc_df.loc[:, quant_resc_df.isna().any(axis=0) == False]"
   ]
  },
  {
   "cell_type": "code",
   "execution_count": null,
   "id": "5baa14d0-830d-4f67-9cff-07eced054a2c",
   "metadata": {},
   "outputs": [],
   "source": [
    "# Tybalt load\n",
    "tybalt_df = pd.read_csv(\n",
    "            tb_pths[path_index_toggle],\n",
    "            sep = '\\t',\n",
    "            index_col = 0)\n",
    "print('Tybalt latent len:', len(tybalt_df))\n",
    "latent_dim = tybalt_df.shape[1] - 2\n",
    "latent_dim"
   ]
  },
  {
   "cell_type": "code",
   "execution_count": null,
   "id": "90ca0b69-c53f-4c57-a772-8e6911c3dd17",
   "metadata": {},
   "outputs": [],
   "source": [
    "sys_togg"
   ]
  },
  {
   "cell_type": "code",
   "execution_count": null,
   "id": "e2e0bbcb-6f06-4e43-a44b-3035f5724aa4",
   "metadata": {},
   "outputs": [],
   "source": [
    "path_index_toggle"
   ]
  },
  {
   "cell_type": "markdown",
   "id": "b4a19dea-b1bf-46a6-9a9f-b28b30c8405a",
   "metadata": {},
   "source": [
    "### Clf"
   ]
  },
  {
   "cell_type": "code",
   "execution_count": null,
   "id": "646ceb92-52c1-47a9-b74a-72502f06ecb1",
   "metadata": {
    "scrolled": true
   },
   "outputs": [],
   "source": [
    "# print('Begin clf on ', phase)\n",
    "print('Begin sub-sampled, matched-cross val\\n classification evals')\n",
    "print(' ')\n",
    "print('Input file:\\n', inp_pths[path_index_toggle].split('/')[-1])\n",
    "# print('Correction file:\\n', corr_pths[path_index_toggle].split('/')[-1])\n",
    "print(' ')\n",
    "\n",
    "clf_list = [RandomForestClassifier(max_depth=2, random_state=0),\n",
    "            tree.DecisionTreeClassifier(),\n",
    "            LogisticRegression(random_state=0, max_iter=5000),\n",
    "            make_pipeline(StandardScaler(),\n",
    "                LinearSVC(dual=\"auto\", random_state=0,\n",
    "                          max_iter=100000, tol=1e-5))]\n",
    "\n",
    "print('path_index_toggle', path_index_toggle)\n",
    "print('sys_togg', sys_togg)\n",
    "\n",
    "# if path_index_toggle == 1:\n",
    "# # HCMI\n",
    "# # Subset training input\n",
    "#     inp_mdl_sys_train_df = input_df[input_df.System == sys_togg]\n",
    "\n",
    "# # Subset correction object, toggle with file read\n",
    "#     corr_mdl_sys_train_df = corr_df[corr_df.System == sys_togg]\n",
    "# else:\n",
    "#     print('cell-line')\n",
    "#     print(sys_togg)\n",
    "#     inp_mdl_sys_train_df = input_df[input_df.System == sys_togg]\n",
    "#     corr_mdl_sys_train_df = corr_df[corr_df.System == sys_togg]\n",
    "\n",
    "# Subset training input\n",
    "inp_mdl_sys_train_df = input_df[input_df.System == sys_togg]\n",
    "\n",
    "# Subset correction objects\n",
    "mbatch_mdl_sys_train_df = mbatch_df[mbatch_df.System == sys_togg]\n",
    "quant_resc_mdl_sys_train_df = quant_resc_df[quant_resc_df.System == sys_togg]\n",
    "tybalt_mdl_sys_train_df = tybalt_df[tybalt_df.System == sys_togg]\n",
    "\n",
    "# List of dicts\n",
    "results = []\n",
    "\n",
    "for cross_val in range(30): # chk\n",
    "    print('cross_val', cross_val)\n",
    "\n",
    "    # Train set sub-sample, input - X and y\n",
    "    X_input = inp_mdl_sys_train_df.iloc[:, 2:]\n",
    "    X_input = X_input.sample(round(len(X_input)*.85))\n",
    "    y_input = inp_mdl_sys_train_df[inp_mdl_sys_train_df.index.isin(\n",
    "                                        X_input.index)].Cancer_type\n",
    "\n",
    "    # Train set sub-sample, mbatch - X and y\n",
    "    X_mbatch = mbatch_mdl_sys_train_df.iloc[:, 2:]\n",
    "    X_mbatch = X_mbatch[X_mbatch.index.isin(X_input.index)]\n",
    "    y_mbatch = mbatch_mdl_sys_train_df[mbatch_mdl_sys_train_df.index.isin(\n",
    "                                        X_mbatch.index)].Cancer_type\n",
    "\n",
    "    # Train set sub-sample, quant-resc - X and y\n",
    "    X_quant_resc = quant_resc_mdl_sys_train_df.iloc[:, 2:]\n",
    "    X_quant_resc = X_quant_resc[X_quant_resc.index.isin(X_input.index)]\n",
    "    y_quant_resc = quant_resc_mdl_sys_train_df[quant_resc_mdl_sys_train_df.index.isin(\n",
    "                                        X_quant_resc.index)].Cancer_type\n",
    "\n",
    "    # Train set sub-sample, Tybalt - X and y\n",
    "    X_tybalt = tybalt_mdl_sys_train_df.iloc[:, 2:]\n",
    "    X_tybalt = X_tybalt[X_tybalt.index.isin(X_input.index)]\n",
    "    y_tybalt = tybalt_mdl_sys_train_df[tybalt_mdl_sys_train_df.index.isin(\n",
    "                                        X_tybalt.index)].Cancer_type\n",
    "\n",
    "    # Test set extraction, input and corr\n",
    "    CPTAC_input = input_df[input_df.System == 'cptac']\n",
    "    CPTAC_mbatch  = mbatch_df[mbatch_df.System == 'cptac']\n",
    "    CPTAC_quant_resc = quant_resc_df[quant_resc_df.System == 'cptac']\n",
    "    CPTAC_tybalt =tybalt_df[tybalt_df.System == 'cptac']\n",
    "\n",
    "    # print(len(CPTAC_input))\n",
    "    # print(len(CPTAC_corr))\n",
    "    \n",
    "    clf_i_list = ['RF', 'DT', 'LR', 'SVM']\n",
    "\n",
    "    # Classifier loop, input\n",
    "    print('Start input loop')\n",
    "    input_score_list = []\n",
    "    for clf_i in range(len(clf_list)):\n",
    "        clf = clf_list[clf_i]\n",
    "        clf.fit(X_input,\n",
    "                y_input)\n",
    "    \n",
    "        score = f1_score(CPTAC_input.Cancer_type,\n",
    "                         clf.predict(CPTAC_input.iloc[:, 2:]),\n",
    "                         average = 'weighted')\n",
    "        \n",
    "        results.append({\n",
    "            'cross_val': cross_val,\n",
    "            'classifier': clf_i_list[clf_i],\n",
    "            'score': score,\n",
    "            'type': 'Input'\n",
    "        })\n",
    "        # break\n",
    "    # Classifier loop, MBatch\n",
    "    print('Start MBatch eval loop')\n",
    "    for clf_i in range(len(clf_list)):\n",
    "        clf = clf_list[clf_i]\n",
    "        clf.fit(X_mbatch,\n",
    "                y_mbatch)\n",
    "    \n",
    "        score = f1_score(CPTAC_mbatch.Cancer_type,\n",
    "                         clf.predict(CPTAC_mbatch.iloc[:, 2:]),\n",
    "                         average = 'weighted')\n",
    "        results.append({\n",
    "            'cross_val': cross_val,\n",
    "            'classifier': clf_i_list[clf_i],\n",
    "            'score': score,\n",
    "            'type': 'MBatch'\n",
    "        })\n",
    "\n",
    "    # Classifier loop, Quant rescale\n",
    "    print('Start quant rescale eval loop')\n",
    "    for clf_i in range(len(clf_list)):\n",
    "        clf = clf_list[clf_i]\n",
    "        clf.fit(X_quant_resc,\n",
    "                y_quant_resc)\n",
    "    \n",
    "        score = f1_score(CPTAC_quant_resc.Cancer_type,\n",
    "                         clf.predict(CPTAC_quant_resc.iloc[:, 2:]),\n",
    "                         average = 'weighted')\n",
    "        results.append({\n",
    "            'cross_val': cross_val,\n",
    "            'classifier': clf_i_list[clf_i],\n",
    "            'score': score,\n",
    "            'type': 'Quant-resc'\n",
    "        })\n",
    "\n",
    "    # Classifier loop, Tybalt\n",
    "    print('Start Tybalt eval loop')\n",
    "    for clf_i in range(len(clf_list)):\n",
    "        clf = clf_list[clf_i]\n",
    "        clf.fit(X_tybalt,\n",
    "                y_tybalt)\n",
    "    \n",
    "        score = f1_score(CPTAC_tybalt.Cancer_type,\n",
    "                         clf.predict(CPTAC_tybalt.iloc[:, 2:]),\n",
    "                         average = 'weighted')\n",
    "        results.append({\n",
    "            'cross_val': cross_val,\n",
    "            'classifier': clf_i_list[clf_i],\n",
    "            'score': score,\n",
    "            'type': 'Tybalt'\n",
    "        })\n",
    "\n",
    "    # print('end cross fold')\n",
    "    print(' ')\n",
    "    # break\n",
    "print('done')"
   ]
  },
  {
   "cell_type": "code",
   "execution_count": null,
   "id": "5e3c3546-7cbc-43bb-b719-ceec16ddf0a2",
   "metadata": {},
   "outputs": [],
   "source": [
    "results_df = pd.DataFrame(results)"
   ]
  },
  {
   "cell_type": "code",
   "execution_count": null,
   "id": "bdc83fdd-a657-4ab8-8ef3-da36b76aff17",
   "metadata": {},
   "outputs": [],
   "source": [
    "len(results_df)"
   ]
  },
  {
   "cell_type": "code",
   "execution_count": null,
   "id": "36b21390-f808-4743-94cb-fe21976d8701",
   "metadata": {},
   "outputs": [],
   "source": [
    "pd.options.display.max_rows = 500"
   ]
  },
  {
   "cell_type": "code",
   "execution_count": null,
   "id": "78caf70a-0f88-4788-a66a-fafe55113191",
   "metadata": {
    "scrolled": true
   },
   "outputs": [],
   "source": [
    "results_df"
   ]
  },
  {
   "cell_type": "code",
   "execution_count": null,
   "id": "12f6964e-0b25-491b-ac1a-9fc28f4abc95",
   "metadata": {},
   "outputs": [],
   "source": [
    "print(sys_file_names)\n",
    "print(mthd_file_disk_name)"
   ]
  },
  {
   "cell_type": "code",
   "execution_count": null,
   "id": "d1b5537d-b569-4907-b5b5-92f7146b8539",
   "metadata": {},
   "outputs": [],
   "source": [
    "ls ../results/r72/"
   ]
  },
  {
   "cell_type": "code",
   "execution_count": null,
   "id": "e63dbbf1-0fcf-4ebb-ab27-45889a8fa918",
   "metadata": {},
   "outputs": [],
   "source": [
    "ls ../results/r8/"
   ]
  },
  {
   "cell_type": "code",
   "execution_count": null,
   "id": "9813485c-695b-4bd0-bbc0-7b1649bc788e",
   "metadata": {},
   "outputs": [],
   "source": [
    "inp_pths[path_index_toggle]"
   ]
  },
  {
   "cell_type": "code",
   "execution_count": null,
   "id": "b5e324c6-97e5-41a4-ad4f-f644d72fc426",
   "metadata": {},
   "outputs": [],
   "source": [
    "inp_pths[path_index_toggle].split('/')[-1].split('.')[0]"
   ]
  },
  {
   "cell_type": "code",
   "execution_count": null,
   "id": "1002c08c-0fe4-45da-85ca-4db3672fb411",
   "metadata": {},
   "outputs": [],
   "source": [
    "results_df.to_csv('../results/r8/'+\n",
    "                  production_date+\n",
    "                  '/input+multi-corr-methods_clf-eval-n4_x-val=30_'+\n",
    "                  inp_pths[path_index_toggle].split('/')[-1].split('.')[0]+\n",
    "                  '.tsv',\n",
    "                 sep = '\\t')"
   ]
  },
  {
   "cell_type": "code",
   "execution_count": null,
   "id": "6f0a3c6d-8fca-4f62-a12d-c67c7b234957",
   "metadata": {
    "scrolled": true
   },
   "outputs": [],
   "source": [
    "results_df"
   ]
  },
  {
   "cell_type": "code",
   "execution_count": null,
   "id": "30a14bdb-8dcf-45d8-95c5-b86e52b3dbb6",
   "metadata": {},
   "outputs": [],
   "source": [
    "results_df['type'] = results_df['type'].replace('Tybalt', 'Tybalt VAE')"
   ]
  },
  {
   "cell_type": "code",
   "execution_count": null,
   "id": "3d640652-6883-4474-a8d7-1bd37ba5a0b3",
   "metadata": {},
   "outputs": [],
   "source": [
    "sample_count_lbl"
   ]
  },
  {
   "cell_type": "markdown",
   "id": "4ce9096b-5115-4246-b01f-7c97afb44df0",
   "metadata": {},
   "source": [
    "### Plot"
   ]
  },
  {
   "cell_type": "code",
   "execution_count": 6,
   "id": "2105a535-c9f5-4104-9925-4c0ea734cec0",
   "metadata": {},
   "outputs": [
    {
     "data": {
      "text/plain": [
       "['glioblastoma',\n",
       " 'colon-adeno',\n",
       " 'pancreatic-adeno',\n",
       " 'lung-adeno',\n",
       " 'renal-clear-cell']"
      ]
     },
     "execution_count": 6,
     "metadata": {},
     "output_type": "execute_result"
    }
   ],
   "source": [
    "[i for i in input_df.Cancer_type.unique()]"
   ]
  },
  {
   "cell_type": "code",
   "execution_count": 7,
   "id": "7265f4b2-61f4-4bc3-9820-b25f95edeb47",
   "metadata": {},
   "outputs": [
    {
     "data": {
      "text/plain": [
       "Cancer_type\n",
       "pancreatic-adeno    195\n",
       "lung-adeno          188\n",
       "colon-adeno         165\n",
       "glioblastoma        152\n",
       "renal-clear-cell    127\n",
       "Name: count, dtype: int64"
      ]
     },
     "execution_count": 7,
     "metadata": {},
     "output_type": "execute_result"
    }
   ],
   "source": [
    "input_df.Cancer_type.value_counts()"
   ]
  },
  {
   "cell_type": "code",
   "execution_count": null,
   "id": "6a5b8cfa-f0f9-4938-9873-484c87b19fe7",
   "metadata": {},
   "outputs": [],
   "source": [
    "dta_mode = inp_pths[path_index_toggle].split(\n",
    "    '/')[-1].split('.')[0].split('_')[1]\n",
    "\n",
    "cancer_count = len(input_df.Cancer_type.unique())\n",
    "\n",
    "import matplotlib.pyplot as plt\n",
    "import seaborn as sns\n",
    "\n",
    "# Set the aesthetic style of the plots\n",
    "sns.set_style(\"whitegrid\")\n",
    "\n",
    "# Create a figure and axis\n",
    "plt.figure(figsize=(10, 7))\n",
    "\n",
    "# Plot\n",
    "sns.boxplot(data=results_df, x='classifier', y='score',\n",
    "            hue='type', palette='Set3')\n",
    "\n",
    "# cancer_count = 5\n",
    "# cancer_count = 5\n",
    "\n",
    "# Adding title and labels\n",
    "plt.title('Classification Prediction Performance on Input'+\n",
    "          ' vs Corrected Data\\nTrain on '+mdl_sys_inline+' 85% subsample, '+\n",
    "          'predict on CPTAC, n cancers = '+str(cancer_count)+\n",
    "          '\\nThree correction method comparison, '+dta_mode, fontsize=17)\n",
    "plt.xlabel('Classifier', fontsize=17)\n",
    "plt.xticks(#rotation=45,\n",
    "           fontsize=14)\n",
    "plt.ylabel('F1 Score', fontsize=17)\n",
    "plt.yticks(#rotation=45,\n",
    "           fontsize=14)\n",
    "plt.legend(title='Data Type', fontsize=12)\n",
    "\n",
    "plt.annotate(sample_count_lbl+' samples: {}'.format(len(inp_mdl_sys_train_df))+\n",
    "             '\\nCPTAC samples: {}'.format(len(CPTAC_input))+\n",
    "             '\\nVAE latent dim: '+str(latent_dim)+'\\nFeature count: {}'.format(\n",
    "                 len(X_input.columns)), \n",
    "                 # xy=(0.03, 0.85), # Tybalt\n",
    "                 xy=(0.55, 0.86), # \n",
    "                 xycoords='axes fraction', \n",
    "                 bbox=dict(boxstyle='round, pad=0.5', fc='white', ec='black'),\n",
    "                 fontsize=12)\n",
    "\n",
    "plt.annotate([i for i in input_df.Cancer_type.unique()], \n",
    "                 # xy=(0.03, 0.85), # Tybalt\n",
    "                 xy=(0.25, 0.795), # \n",
    "                 xycoords='axes fraction', \n",
    "                 bbox=dict(boxstyle='round, pad=0.5', fc='white', ec='black'),\n",
    "                 fontsize=12)\n",
    "\n",
    "# Display the plot\n",
    "plt.tight_layout()\n",
    "plt.savefig('../results/r8/'+\n",
    "            production_date+'/input+multi-corr-methods_clf-eval-n4_x-val=30_'+\n",
    "            inp_pths[path_index_toggle].split('/')[-1].split('.')[0]+\n",
    "            '.png',\n",
    "            dpi = 300)\n",
    "# plt.show()"
   ]
  },
  {
   "cell_type": "code",
   "execution_count": null,
   "id": "f1edadca-41b7-45fa-84bb-8b012874d09e",
   "metadata": {},
   "outputs": [],
   "source": [
    "X_input"
   ]
  }
 ],
 "metadata": {
  "kernelspec": {
   "display_name": "Python 3 (ipykernel)",
   "language": "python",
   "name": "python3"
  },
  "language_info": {
   "codemirror_mode": {
    "name": "ipython",
    "version": 3
   },
   "file_extension": ".py",
   "mimetype": "text/x-python",
   "name": "python",
   "nbconvert_exporter": "python",
   "pygments_lexer": "ipython3",
   "version": "3.10.8"
  }
 },
 "nbformat": 4,
 "nbformat_minor": 5
}
