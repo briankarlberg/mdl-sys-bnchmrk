{
 "cells": [
  {
   "cell_type": "code",
   "execution_count": null,
   "id": "dea0a640-9ec0-4bc9-ac4a-e5c4513448f1",
   "metadata": {},
   "outputs": [],
   "source": [
    "# Split file for mbatch\n",
    "    # target dir for split files is two_cncr_splt in output"
   ]
  },
  {
   "cell_type": "code",
   "execution_count": null,
   "id": "bc901dc2-8fed-47e6-8f26-e949c47d6a5a",
   "metadata": {},
   "outputs": [],
   "source": [
    "../output/dbl-cncr/pancreatic-adeno+lung-adeno_transcriptomics_cell-line+CPTAC.tsv"
   ]
  },
  {
   "cell_type": "code",
   "execution_count": 2,
   "id": "009585e2-63dd-4d2d-892e-a6ccd0039bf7",
   "metadata": {},
   "outputs": [
    {
     "name": "stdout",
     "output_type": "stream",
     "text": [
      "dta_ldr.ipynb           mbatch_split.ipynb      \u001b[31mschedule_vae_gpu.sh\u001b[m\u001b[m*\n",
      "frnt_end_clf_ump.ipynb  \u001b[34mnb_dvl\u001b[m\u001b[m/                 \u001b[31mvae.py\u001b[m\u001b[m*\n",
      "\u001b[31mjob_scheduler.sh\u001b[m\u001b[m*       \u001b[34mplots\u001b[m\u001b[m/\n",
      "\u001b[34mmbatch\u001b[m\u001b[m/                 \u001b[31mschedule_vae_cpu.sh\u001b[m\u001b[m*\n"
     ]
    }
   ],
   "source": [
    "ls"
   ]
  },
  {
   "cell_type": "code",
   "execution_count": 4,
   "id": "05ff4b51-8b9c-4a51-bd05-e2594b67e5b6",
   "metadata": {},
   "outputs": [],
   "source": [
    "import pandas as pd"
   ]
  },
  {
   "cell_type": "code",
   "execution_count": 5,
   "id": "3039aba9-571f-4ae2-9d28-f28012e0e124",
   "metadata": {},
   "outputs": [],
   "source": [
    "ab = pd.read_csv(\n",
    "    '../output/dbl-cncr/pancreatic-adeno+lung-adeno_transcriptomics_cell-line+CPTAC.tsv',\n",
    "        sep = '\\t', index_col = 0)"
   ]
  },
  {
   "cell_type": "code",
   "execution_count": 8,
   "id": "e5406f76-c507-4070-8fc3-30c849050cdc",
   "metadata": {},
   "outputs": [
    {
     "data": {
      "text/plain": [
       "0.0"
      ]
     },
     "execution_count": 8,
     "metadata": {},
     "output_type": "execute_result"
    }
   ],
   "source": [
    "ab.iloc[:, 2:].min().min()"
   ]
  },
  {
   "cell_type": "code",
   "execution_count": 10,
   "id": "c1a36b0d-342e-4e19-88eb-545516ac2da7",
   "metadata": {},
   "outputs": [
    {
     "data": {
      "text/plain": [
       "System\n",
       "CPTAC        251\n",
       "cell_line    132\n",
       "Name: count, dtype: int64"
      ]
     },
     "execution_count": 10,
     "metadata": {},
     "output_type": "execute_result"
    }
   ],
   "source": [
    "ab.System.value_counts()"
   ]
  },
  {
   "cell_type": "code",
   "execution_count": 11,
   "id": "1962bc1b-3d76-456b-b69c-ef5f145cd4a7",
   "metadata": {},
   "outputs": [
    {
     "data": {
      "text/plain": [
       "Cancer_type\n",
       "pancreatic_adeno    195\n",
       "lung_adeno          188\n",
       "Name: count, dtype: int64"
      ]
     },
     "execution_count": 11,
     "metadata": {},
     "output_type": "execute_result"
    }
   ],
   "source": [
    "ab.Cancer_type.value_counts()"
   ]
  },
  {
   "cell_type": "code",
   "execution_count": 13,
   "id": "d5c8e0b7-89c5-4440-8c66-566504802465",
   "metadata": {},
   "outputs": [],
   "source": [
    "cancer = 'pancreatic-adeno+lung-adeno'"
   ]
  },
  {
   "cell_type": "code",
   "execution_count": 14,
   "id": "1179ab0f-9b5c-4f1b-99d4-ffe7038aa6be",
   "metadata": {},
   "outputs": [],
   "source": [
    "modality = 'transcriptomics'"
   ]
  },
  {
   "cell_type": "code",
   "execution_count": 16,
   "id": "d7ad4af5-4124-4a18-bdad-45f0636bdc2c",
   "metadata": {},
   "outputs": [],
   "source": [
    "cl = ab[ab.System == 'cell_line'].copy()\n",
    "cl.drop(columns = ['System'], inplace = True)\n",
    "cl.drop(columns = ['Cancer_type'], inplace = True)\n",
    "cl = cl.T\n",
    "cl.to_csv(\n",
    "    '../output/two_cncr_splt/cell_line_'+cancer+'_'+modality+'_src.tsv',\n",
    "    sep = '\\t')"
   ]
  },
  {
   "cell_type": "code",
   "execution_count": 17,
   "id": "ff46bc09-0f34-41b1-be0b-c435e29b31f8",
   "metadata": {},
   "outputs": [],
   "source": [
    "cl_transposed_read_test = pd.read_csv(\n",
    "    '../output/two_cncr_splt/cell_line_'+cancer+'_'+modality+'_src.tsv',\n",
    "        sep = '\\t',\n",
    "        index_col = 0)"
   ]
  },
  {
   "cell_type": "code",
   "execution_count": 21,
   "id": "068dfd25-9300-4491-a37b-84e9aedeb9d2",
   "metadata": {},
   "outputs": [],
   "source": [
    "system = 'cptac'\n",
    "cp = ab[ab.System == 'CPTAC'].copy()\n",
    "cp.drop(columns = ['System'], inplace = True)\n",
    "cp.drop(columns = ['Cancer_type'], inplace = True)\n",
    "cp = cp.T\n",
    "cp.to_csv('../output/two_cncr_splt/'+system+'_'+cancer+'_'+modality+'_src.tsv',\n",
    "    sep = '\\t')"
   ]
  },
  {
   "cell_type": "code",
   "execution_count": null,
   "id": "1b91f089-7456-498b-84b1-7804025bc78a",
   "metadata": {},
   "outputs": [],
   "source": [
    "cp_transposed_read_test = pd.read_csv(\n",
    "    '../output/two_cncr_splt/'+system+'_'+cancer+'_'+modality+'_src.tsv',\n",
    "    sep = '\\t',\n",
    "        index_col = 0)\n",
    "cp_transposed_read_test"
   ]
  },
  {
   "cell_type": "code",
   "execution_count": null,
   "id": "c764a249-fc2e-42a7-bb6f-7462ab257072",
   "metadata": {},
   "outputs": [],
   "source": []
  }
 ],
 "metadata": {
  "kernelspec": {
   "display_name": "Python 3 (ipykernel)",
   "language": "python",
   "name": "python3"
  },
  "language_info": {
   "codemirror_mode": {
    "name": "ipython",
    "version": 3
   },
   "file_extension": ".py",
   "mimetype": "text/x-python",
   "name": "python",
   "nbconvert_exporter": "python",
   "pygments_lexer": "ipython3",
   "version": "3.10.8"
  }
 },
 "nbformat": 4,
 "nbformat_minor": 5
}
