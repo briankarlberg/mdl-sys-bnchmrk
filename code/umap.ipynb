{
 "cells": [
  {
   "cell_type": "raw",
   "id": "d39bb35b-b496-431e-affb-28405492c4d3",
   "metadata": {},
   "source": [
    "pwd\n",
    "mdl-sys-bnchmrk/code"
   ]
  },
  {
   "cell_type": "code",
   "execution_count": 1,
   "id": "8c0d97c9-e838-47dc-a8c9-957109c39b7e",
   "metadata": {},
   "outputs": [
    {
     "name": "stdout",
     "output_type": "stream",
     "text": [
      "Interactive namespace is empty.\n"
     ]
    }
   ],
   "source": [
    "%whos"
   ]
  },
  {
   "cell_type": "code",
   "execution_count": null,
   "id": "e5bdf9dc-e6c8-4b34-adaa-e91a8fb240a1",
   "metadata": {},
   "outputs": [],
   "source": [
    "# Data handling\n",
    "import pandas as pd\n",
    "import glob as glob\n",
    "\n",
    "# UMAP\n",
    "import umap\n",
    "import matplotlib.pyplot as plt\n",
    "from matplotlib.lines import Line2D"
   ]
  },
  {
   "cell_type": "markdown",
   "id": "974dcad8-3eb2-4aed-949b-378259071f78",
   "metadata": {},
   "source": [
    "#### Read data"
   ]
  },
  {
   "cell_type": "code",
   "execution_count": 24,
   "id": "40c98904-5033-44f9-9c3c-427fd4b48180",
   "metadata": {},
   "outputs": [
    {
     "name": "stdout",
     "output_type": "stream",
     "text": [
      "AML_transcriptomics_cell-line+BeatAML.latent_space.tsv\n",
      "AML_transcriptomics_cell-line+BeatAML.vae.umap.png\n",
      "colon-adeno_transcriptomics_cell-line+CPTAC.latent_space.tsv\n",
      "colon-adeno_transcriptomics_cell-line+CPTAC.vae.umap.png\n",
      "colon-nos-adeno_transcriptomics_HCMI+CPTAC.latent_space.tsv\n",
      "colon-nos-adeno_transcriptomics_HCMI+CPTAC.vae.umap.png\n",
      "\u001b[34mdbl\u001b[m\u001b[m/\n",
      "glioblastoma_transcriptomics_cell-line+CPTAC.latent_space.tsv\n",
      "glioblastoma_transcriptomics_cell-line+CPTAC.vae.umap.png\n",
      "lung-adeno_transcriptomics_cell-line+CPTAC.latent_space.tsv\n",
      "lung-adeno_transcriptomics_cell-line+CPTAC.vae.umap.png\n",
      "pancreatic-adeno_transcriptomics_cell-line+CPTAC.latent_space.tsv\n",
      "pancreatic-adeno_transcriptomics_cell-line+CPTAC.vae.umap.png\n",
      "pancreatic-nos-ductal-ad_transcriptomics_HCMI+CPTAC.latent_space.tsv\n",
      "pancreatic-nos-ductal-ad_transcriptomics_HCMI+CPTAC.vae.umap.png\n",
      "renal-clear-cell_transcriptomics_cell-line+CPTAC.latent_space.tsv\n",
      "renal-clear-cell_transcriptomics_cell-line+CPTAC.vae.umap.png\n",
      "\u001b[34msgl_arch\u001b[m\u001b[m/\n"
     ]
    }
   ],
   "source": [
    "ls ../results/r7/"
   ]
  },
  {
   "cell_type": "code",
   "execution_count": 26,
   "id": "db3de321-bbbb-4035-b509-20426505135c",
   "metadata": {},
   "outputs": [],
   "source": [
    "pths_n = sorted(glob.glob('../results/r7/*tsv'))"
   ]
  },
  {
   "cell_type": "code",
   "execution_count": 27,
   "id": "b9c7f00e-26da-4c7b-94eb-1bf7c3b503ce",
   "metadata": {},
   "outputs": [
    {
     "data": {
      "text/plain": [
       "8"
      ]
     },
     "execution_count": 27,
     "metadata": {},
     "output_type": "execute_result"
    }
   ],
   "source": [
    "len(pths_n)"
   ]
  },
  {
   "cell_type": "code",
   "execution_count": 28,
   "id": "d3dbc047-9084-46bb-9e19-34b27d1790f9",
   "metadata": {},
   "outputs": [],
   "source": [
    "phase = 'vae'"
   ]
  },
  {
   "cell_type": "code",
   "execution_count": 23,
   "id": "6ef640db-b47c-4666-8f14-f50e6a97d394",
   "metadata": {},
   "outputs": [
    {
     "name": "stdout",
     "output_type": "stream",
     "text": [
      "0\n",
      "AML transcriptomics cell-line+BeatAML\n",
      "1\n",
      "colon-adeno transcriptomics cell-line+CPTAC\n",
      "2\n",
      "colon-nos-adeno transcriptomics HCMI+CPTAC\n",
      "3\n",
      "glioblastoma transcriptomics cell-line+CPTAC\n",
      "4\n",
      "lung-adeno transcriptomics cell-line+CPTAC\n",
      "5\n",
      "pancreatic-adeno transcriptomics cell-line+CPTAC\n",
      "6\n",
      "pancreatic-nos-ductal-ad transcriptomics HCMI+CPTAC\n",
      "7\n",
      "renal-clear-cell transcriptomics cell-line+CPTAC\n"
     ]
    }
   ],
   "source": [
    "# pths_n = sorted(glob.glob('../results/r7/*'))\n",
    "for pi, pth_n in enumerate(pths_n):\n",
    "    print(pi)\n",
    "    cancer = pth_n.split('/')[-1].split('_')[0]\n",
    "    modality = pth_n.split('/')[-1].split('_')[1]\n",
    "                                             # remove file extension\n",
    "    systems = pth_n.split('/')[-1].split('_')[2].split('.')[0]\n",
    "    print(cancer, modality, systems)\n",
    "\n",
    "    df_n = pd.read_csv(\n",
    "        pth_n, sep = '\\t', index_col = 0)\n",
    "    features = df_n.drop(\n",
    "        ['System', 'Cancer_type'], axis=1)\n",
    "    system_labels = df_n['System']\n",
    "    \n",
    "    umap_result = umap.UMAP(\n",
    "        n_neighbors=15, min_dist=0.1, n_components=2, metric='euclidean').fit_transform(features)\n",
    "    unique_labels = system_labels.unique()\n",
    "\n",
    "    colors = ['orange', 'blue'] # add a unique color for each\n",
    "                                # model system (?)\n",
    "    color_map = dict(zip(unique_labels, colors))\n",
    "\n",
    "    plt.figure(figsize=(5, 4))\n",
    "    \n",
    "    for i in range(len(umap_result)):\n",
    "        plt.scatter(umap_result[i, 0], umap_result[i, 1],\n",
    "                    c=[color_map[system_labels.iloc[i]]],\n",
    "                    edgecolor='k',\n",
    "                    s=100,\n",
    "                    label=\n",
    "                    # system_labels.iloc[i]\n",
    "                    # + ' - ' + \n",
    "                    system_labels.iloc[i] if i in [list(system_labels).index(x) for x in unique_labels] else \"\"\n",
    "                   )\n",
    "    \n",
    "    plt.legend()\n",
    "    \n",
    "    plt.title(cancer+', '+phase+', '+modality, fontsize=14)\n",
    "    pad = 2\n",
    "    plt.xlabel('UMAP 1', size = 12, labelpad=pad)\n",
    "    plt.ylabel('UMAP 2', size = 12, labelpad=pad)\n",
    "    plt.tight_layout()\n",
    "    plt.savefig(\n",
    "        '../results/r7/'+\n",
    "        cancer+'_'+modality+'_'+systems+\n",
    "        '.'+phase+'.umap.png', dpi = 300)\n",
    "    \n",
    "    # plt.show()\n",
    "    plt.close()\n",
    "    # break"
   ]
  },
  {
   "cell_type": "code",
   "execution_count": null,
   "id": "3762758d-1e97-4085-831b-76c03ec1bca8",
   "metadata": {},
   "outputs": [],
   "source": [
    "df_n"
   ]
  },
  {
   "cell_type": "markdown",
   "id": "229d547e-19b8-4886-9aaa-483aacca3b61",
   "metadata": {},
   "source": [
    "#### Markdown table devel"
   ]
  },
  {
   "cell_type": "markdown",
   "id": "d70bb4fe-2afe-4ce4-9da6-fa6147bda76b",
   "metadata": {},
   "source": [
    "| Cancer_type | Data_modality | Model_system |\n",
    "|---|---|---|\n",
    "| Lung | Transcriptomics | BeatAML |\n",
    "| Brain | Proteomics | Cell line |\n",
    "| Pancreas | Copy number | CPTAC | \n",
    "|   | Mutation | HCMI |\n",
    "|  |  |  |\n",
    "|  |  |  |\n",
    "|  |  |  | "
   ]
  },
  {
   "cell_type": "markdown",
   "id": "ed996315-a6b1-4f62-b2b6-c196555a6023",
   "metadata": {
    "jupyter": {
     "source_hidden": true
    }
   },
   "source": [
    "| Cancer_type | Data_modality | Model_system |\n",
    "|---|---|---|\n",
    "| Lung | Transcriptomics | BeatAML |\n",
    "| Lung | Proteomics | Cell line |\n",
    "| Lung | Copy number | CPTAC | \n",
    "| Lung | Mutation | HCMI |\n",
    "| Brain | Transcriptomics | BeatAML |\n",
    "| Brain | Proteomics | Cell line |\n",
    "| Brain | Copy number | CPTAC | \n",
    "| Brain | Mutation | HCMI |\n",
    "| Pancreas | Transcriptomics | BeatAML |\n",
    "| Pancreas | Proteomics | Cell line |\n",
    "| Pancreas | Copy number | CPTAC | \n",
    "| Pancreas | Mutation | HCMI |"
   ]
  },
  {
   "cell_type": "markdown",
   "id": "37cd628e-02fd-4a76-8b17-b6b7fa8e275a",
   "metadata": {},
   "source": []
  }
 ],
 "metadata": {
  "kernelspec": {
   "display_name": "Python 3 (ipykernel)",
   "language": "python",
   "name": "python3"
  },
  "language_info": {
   "codemirror_mode": {
    "name": "ipython",
    "version": 3
   },
   "file_extension": ".py",
   "mimetype": "text/x-python",
   "name": "python",
   "nbconvert_exporter": "python",
   "pygments_lexer": "ipython3",
   "version": "3.10.8"
  }
 },
 "nbformat": 4,
 "nbformat_minor": 5
}
