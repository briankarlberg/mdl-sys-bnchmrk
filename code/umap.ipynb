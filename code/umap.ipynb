{
 "cells": [
  {
   "cell_type": "raw",
   "id": "d39bb35b-b496-431e-affb-28405492c4d3",
   "metadata": {},
   "source": [
    "pwd\n",
    "mdl-sys-bnchmrk/code"
   ]
  },
  {
   "cell_type": "code",
   "execution_count": 1,
   "id": "8c0d97c9-e838-47dc-a8c9-957109c39b7e",
   "metadata": {},
   "outputs": [
    {
     "name": "stdout",
     "output_type": "stream",
     "text": [
      "Interactive namespace is empty.\n"
     ]
    }
   ],
   "source": [
    "%whos"
   ]
  },
  {
   "cell_type": "code",
   "execution_count": null,
   "id": "e5bdf9dc-e6c8-4b34-adaa-e91a8fb240a1",
   "metadata": {},
   "outputs": [],
   "source": [
    "# Data handling\n",
    "import pandas as pd\n",
    "import glob as glob\n",
    "\n",
    "# UMAP\n",
    "import umap\n",
    "import matplotlib.pyplot as plt\n",
    "from matplotlib.lines import Line2D"
   ]
  },
  {
   "cell_type": "markdown",
   "id": "974dcad8-3eb2-4aed-949b-378259071f78",
   "metadata": {},
   "source": [
    "#### Read data"
   ]
  },
  {
   "cell_type": "markdown",
   "id": "fc07f0bf-460d-4ea9-bcd2-4e7573ff44b1",
   "metadata": {},
   "source": [
    "##### Input"
   ]
  },
  {
   "cell_type": "code",
   "execution_count": 61,
   "id": "a5772ff0-72b6-41c2-9827-bd5d38f97702",
   "metadata": {},
   "outputs": [
    {
     "name": "stdout",
     "output_type": "stream",
     "text": [
      "File count:  22\n"
     ]
    }
   ],
   "source": [
    "# Set input (raw data) to file set n\n",
    "phase = 'input-data'\n",
    "phase_name = 'Input data'\n",
    "pths_n = sorted(glob.glob('../results/input-data/'+r+'/'+r+'-fls/*'))\n",
    "print('File count: ', len(pths_n))"
   ]
  },
  {
   "cell_type": "code",
   "execution_count": null,
   "id": "2304b4fb-4e51-4d90-a4f4-d2f305a825c7",
   "metadata": {},
   "outputs": [],
   "source": [
    "pths_n[0]"
   ]
  },
  {
   "cell_type": "code",
   "execution_count": null,
   "id": "388aeeee-f834-4aa2-b239-5ff4f947cf56",
   "metadata": {},
   "outputs": [],
   "source": [
    "pths_n"
   ]
  },
  {
   "cell_type": "markdown",
   "id": "677f9ae9-f8bb-412b-b8f1-84440f74939c",
   "metadata": {},
   "source": [
    "###### Input name fix to n = 22, to r6"
   ]
  },
  {
   "cell_type": "code",
   "execution_count": null,
   "id": "ca91eca0-652d-490d-b809-2d760a4696bf",
   "metadata": {},
   "outputs": [],
   "source": [
    "# r6: set dashes for multipart names in file naming\n",
    "    # plus symbol to combine names, underscore for benchmark\n",
    "    # component separtaration\n",
    "# no dashes in folder names"
   ]
  },
  {
   "cell_type": "code",
   "execution_count": null,
   "id": "35d1c413-ce35-4b08-a15d-3e4443218959",
   "metadata": {},
   "outputs": [],
   "source": [
    "# Correct ordering of HCMI and CPTAC\n",
    "# Remove cell line + HCMI"
   ]
  },
  {
   "cell_type": "code",
   "execution_count": null,
   "id": "9f4fad91-1d0a-4350-b21c-bd13a1c2f61f",
   "metadata": {},
   "outputs": [],
   "source": [
    "sorted(glob.glob('../results/input-data/'+r+'/'+r+'-fls_name-order/*CPTAC+HCMI*'))"
   ]
  },
  {
   "cell_type": "code",
   "execution_count": null,
   "id": "97494a17-bf11-4920-8b75-02f2ef9e5271",
   "metadata": {},
   "outputs": [],
   "source": [
    "path_fix = '../results/input-data/r5/r5-fls/'\n",
    "sys_fix = '_transcriptomics_HCMI+CPTAC.tsv'\n",
    "for pth_n in sorted(\n",
    "    glob.glob('../results/input-data/'+r+'/'+r+'-fls_name-order/*CPTAC+HCMI*')):\n",
    "    cancer = pth_n.split('/')[-1].split('_')[0]\n",
    "    df_n = pd.read_csv(\n",
    "        pth_n, sep = '\\t', index_col = 0)\n",
    "    df_n.to_csv(path_fix+cancer+sys_fix, sep = '\\t')\n",
    "    # break"
   ]
  },
  {
   "cell_type": "markdown",
   "id": "538943b1-4e81-4bc5-88f4-03f40941aebd",
   "metadata": {},
   "source": [
    "##### Mbatch"
   ]
  },
  {
   "cell_type": "code",
   "execution_count": 64,
   "id": "ce6d1d84-8630-433c-949c-4920a277a541",
   "metadata": {},
   "outputs": [
    {
     "name": "stdout",
     "output_type": "stream",
     "text": [
      "File count:  13\n"
     ]
    }
   ],
   "source": [
    "# Set mbatch to file set n\n",
    "phase = 'mbatch-out'\n",
    "phase_name = 'Mbatch corrected'\n",
    "pths_n = sorted(glob.glob('../results/mbatch-out/'+r+'/'+r+'-fls/*'))\n",
    "print('File count: ', len(pths_n))"
   ]
  },
  {
   "cell_type": "code",
   "execution_count": null,
   "id": "b2371468-e694-4bb0-a728-db9e732f2395",
   "metadata": {},
   "outputs": [],
   "source": [
    "pths_n[0]"
   ]
  },
  {
   "cell_type": "code",
   "execution_count": null,
   "id": "52021b74-f7b9-4121-a7db-58d51cd83e03",
   "metadata": {},
   "outputs": [],
   "source": [
    "pths_n"
   ]
  },
  {
   "cell_type": "code",
   "execution_count": null,
   "id": "dd2375ae-3527-46bb-8fe2-80a5ea7cd634",
   "metadata": {},
   "outputs": [],
   "source": [
    "len(pths_n)"
   ]
  },
  {
   "cell_type": "code",
   "execution_count": null,
   "id": "da057eee-f88c-4fd1-9fa0-1c3a9e3055bb",
   "metadata": {},
   "outputs": [],
   "source": [
    "# 22 inp, 13 mbatch, 22 vae"
   ]
  },
  {
   "cell_type": "markdown",
   "id": "c370fd56-d11d-40a6-8035-c565e8bc5a72",
   "metadata": {},
   "source": [
    "##### VAE"
   ]
  },
  {
   "cell_type": "markdown",
   "id": "b9b86c7c-d706-487d-a89e-051ca52f5123",
   "metadata": {
    "jp-MarkdownHeadingCollapsed": true
   },
   "source": [
    "###### Tybalt"
   ]
  },
  {
   "cell_type": "code",
   "execution_count": 68,
   "id": "36ee792e-a7fa-4121-8346-bfdf879c0763",
   "metadata": {},
   "outputs": [
    {
     "name": "stdout",
     "output_type": "stream",
     "text": [
      "File count:  22\n"
     ]
    }
   ],
   "source": [
    "# Set vae to file set n\n",
    "phase = 'vae-out'\n",
    "phase_name = 'VAE corrected'\n",
    "pths_n = sorted(glob.glob('../results/vae-out/'+r+'/'+r+'-fls/*.tsv'))\n",
    "print('File count: ', len(pths_n))"
   ]
  },
  {
   "cell_type": "code",
   "execution_count": 72,
   "id": "2bb5fe0c-1117-4204-a4f4-1d2bf0764025",
   "metadata": {},
   "outputs": [
    {
     "name": "stdout",
     "output_type": "stream",
     "text": [
      "File count:  22\n"
     ]
    }
   ],
   "source": [
    "# Set vae to file set n\n",
    "phase = 'dann-out'\n",
    "phase_name = 'DANN corrected'\n",
    "pths_n = sorted(glob.glob('../results/vae-out/'+r+'/'+r+'_dann/*.tsv'))\n",
    "print('File count: ', len(pths_n))"
   ]
  },
  {
   "cell_type": "markdown",
   "id": "5f58e504-2f24-4bdc-a3cd-f35664921153",
   "metadata": {
    "jp-MarkdownHeadingCollapsed": true
   },
   "source": [
    "###### Bash file renaming"
   ]
  },
  {
   "cell_type": "code",
   "execution_count": null,
   "id": "e0174a82-0344-47d5-9491-6dddb10d3b49",
   "metadata": {},
   "outputs": [],
   "source": [
    "for file in *_latent_space.dann-out.32-ltnt-dim.tsv; do \n",
    "  mv \"$file\" \"${file/_latent_space/}\" \n",
    "done"
   ]
  },
  {
   "cell_type": "code",
   "execution_count": null,
   "id": "81e7a4ef-d4bc-46d6-8a29-4d8276765cef",
   "metadata": {},
   "outputs": [],
   "source": [
    "pths_n[0]"
   ]
  },
  {
   "cell_type": "code",
   "execution_count": null,
   "id": "e54cefa2-1791-46c2-b5cb-36bc25e77c55",
   "metadata": {},
   "outputs": [],
   "source": [
    "pths_n"
   ]
  },
  {
   "cell_type": "markdown",
   "id": "9ad56551-4f29-4f75-8c3f-2caa23ee1eb3",
   "metadata": {
    "jp-MarkdownHeadingCollapsed": true
   },
   "source": [
    "###### VAE file name fix notes"
   ]
  },
  {
   "cell_type": "code",
   "execution_count": null,
   "id": "100df8ae-e12a-4d72-8d8c-de5fe9ae5795",
   "metadata": {},
   "outputs": [],
   "source": [
    "mv *cell-line+HCMI* cl_hc"
   ]
  },
  {
   "cell_type": "code",
   "execution_count": null,
   "id": "53022850-4e36-47d0-8d81-2ae3497da9e6",
   "metadata": {},
   "outputs": [],
   "source": [
    "sorted(glob.glob('../results/vae-out/'+r+'/'+r+'-fls_name-order/*CPTAC+HCMI*'))"
   ]
  },
  {
   "cell_type": "code",
   "execution_count": null,
   "id": "c7941924-c836-4804-bff2-e6e1fc94a59e",
   "metadata": {},
   "outputs": [],
   "source": [
    "path_fix = '../results/vae-out/r5/r5-fls/'\n",
    "sys_fix = '_transcriptomics_HCMI+CPTAC.tsv'\n",
    "for pth_n in sorted(\n",
    "    glob.glob('../results/vae-out/'+r+'/'+r+'-fls_name-order/*CPTAC+HCMI*')):\n",
    "    cancer = pth_n.split('/')[-1].split('_')[0]\n",
    "    df_n = pd.read_csv(\n",
    "        pth_n, sep = '\\t', index_col = 0)\n",
    "    df_n.to_csv(path_fix+cancer+sys_fix, sep = '\\t')\n",
    "    break"
   ]
  },
  {
   "cell_type": "code",
   "execution_count": null,
   "id": "d90ad532-36b0-4cc7-92fd-ba7e63934ca8",
   "metadata": {},
   "outputs": [],
   "source": [
    "mv *CPTAC+HCMI* cl_hc"
   ]
  },
  {
   "cell_type": "code",
   "execution_count": null,
   "id": "183b7178-c9ca-4789-8b5e-85ccda4c125d",
   "metadata": {},
   "outputs": [],
   "source": [
    "ls ../results/vae-out/r5/r5-fls_name-order/"
   ]
  },
  {
   "cell_type": "code",
   "execution_count": null,
   "id": "a41ae803-842d-4bb2-854d-60b6c66e1628",
   "metadata": {},
   "outputs": [],
   "source": [
    "sorted(glob.glob('../results/vae-out/'+r+'/'+r+'-fls_name-order/*transcriptomics_cell-line+CPTAC_250*'))"
   ]
  },
  {
   "cell_type": "code",
   "execution_count": null,
   "id": "a9613705-e020-49ec-86ad-ff900229f76d",
   "metadata": {},
   "outputs": [],
   "source": [
    "path_fix = '../results/vae-out/r5/r5-fls/'\n",
    "sys_fix = '_transcriptomics_cell-line+CPTAC.tsv'\n",
    "for pth_n in sorted(\n",
    "    glob.glob('../results/vae-out/'+r+'/'+r+'-fls_name-order/*transcriptomics_cell-line+CPTAC_250*')):\n",
    "    cancer = pth_n.split('/')[-1].split('_')[0]\n",
    "    df_n = pd.read_csv(\n",
    "        pth_n, sep = '\\t', index_col = 0)\n",
    "    df_n.to_csv(path_fix+cancer+sys_fix, sep = '\\t')\n",
    "    # break"
   ]
  },
  {
   "cell_type": "code",
   "execution_count": null,
   "id": "ea4396c0-0ff8-4045-88d2-bef9b6a5eb7c",
   "metadata": {},
   "outputs": [],
   "source": [
    "path_fix = '../results/vae-out/r5/r5-fls/'\n",
    "sys_fix = '_proteomics_cell-line+CPTAC.tsv'\n",
    "for pth_n in sorted(\n",
    "    glob.glob('../results/vae-out/'+r+'/'+r+'-fls_name-order/*proteomics_cell-line+CPTAC_250*')):\n",
    "    cancer = pth_n.split('/')[-1].split('_')[0]\n",
    "    df_n = pd.read_csv(\n",
    "        pth_n, sep = '\\t', index_col = 0)\n",
    "    df_n.to_csv(path_fix+cancer+sys_fix, sep = '\\t')"
   ]
  },
  {
   "cell_type": "code",
   "execution_count": null,
   "id": "da577345-d9a6-4930-9621-f987f2f3d632",
   "metadata": {},
   "outputs": [],
   "source": [
    "# AML manual move and remove training info, 2 files - done\n",
    "# Done - 22 file fixes complete"
   ]
  },
  {
   "cell_type": "markdown",
   "id": "dc85303e-05c4-471c-b16c-01fb2bb33aec",
   "metadata": {},
   "source": [
    "#### Continue"
   ]
  },
  {
   "cell_type": "code",
   "execution_count": 3,
   "id": "40c98904-5033-44f9-9c3c-427fd4b48180",
   "metadata": {},
   "outputs": [
    {
     "name": "stdout",
     "output_type": "stream",
     "text": [
      "colon-nos-adeno_transcriptomics_HCMI+CPTAC.latent_space.tsv\n"
     ]
    }
   ],
   "source": [
    "ls ../results/r7/"
   ]
  },
  {
   "cell_type": "code",
   "execution_count": 4,
   "id": "db3de321-bbbb-4035-b509-20426505135c",
   "metadata": {},
   "outputs": [],
   "source": [
    "pths_n = sorted(glob.glob('../results/r7/*'))"
   ]
  },
  {
   "cell_type": "code",
   "execution_count": 5,
   "id": "b9c7f00e-26da-4c7b-94eb-1bf7c3b503ce",
   "metadata": {},
   "outputs": [
    {
     "data": {
      "text/plain": [
       "1"
      ]
     },
     "execution_count": 5,
     "metadata": {},
     "output_type": "execute_result"
    }
   ],
   "source": [
    "len(pths_n)"
   ]
  },
  {
   "cell_type": "code",
   "execution_count": 6,
   "id": "59d76196-6d52-409f-b5f8-03a0d08b8511",
   "metadata": {},
   "outputs": [
    {
     "data": {
      "text/plain": [
       "['../results/r7/colon-nos-adeno_transcriptomics_HCMI+CPTAC.latent_space.tsv']"
      ]
     },
     "execution_count": 6,
     "metadata": {},
     "output_type": "execute_result"
    }
   ],
   "source": [
    "pths_n"
   ]
  },
  {
   "cell_type": "code",
   "execution_count": 70,
   "id": "5bbf4877-eb29-4832-be4e-4e3dba009d95",
   "metadata": {},
   "outputs": [
    {
     "data": {
      "text/plain": [
       "'vae-out'"
      ]
     },
     "execution_count": 70,
     "metadata": {},
     "output_type": "execute_result"
    }
   ],
   "source": [
    "phase"
   ]
  },
  {
   "cell_type": "code",
   "execution_count": 8,
   "id": "031f5738-d728-4b6b-9c75-e1a3c700db84",
   "metadata": {},
   "outputs": [
    {
     "data": {
      "text/html": [
       "<div>\n",
       "<style scoped>\n",
       "    .dataframe tbody tr th:only-of-type {\n",
       "        vertical-align: middle;\n",
       "    }\n",
       "\n",
       "    .dataframe tbody tr th {\n",
       "        vertical-align: top;\n",
       "    }\n",
       "\n",
       "    .dataframe thead th {\n",
       "        text-align: right;\n",
       "    }\n",
       "</style>\n",
       "<table border=\"1\" class=\"dataframe\">\n",
       "  <thead>\n",
       "    <tr style=\"text-align: right;\">\n",
       "      <th></th>\n",
       "      <th>System</th>\n",
       "      <th>Cancer_type</th>\n",
       "      <th>0</th>\n",
       "      <th>1</th>\n",
       "      <th>2</th>\n",
       "      <th>3</th>\n",
       "      <th>4</th>\n",
       "      <th>5</th>\n",
       "      <th>6</th>\n",
       "      <th>7</th>\n",
       "      <th>...</th>\n",
       "      <th>40</th>\n",
       "      <th>41</th>\n",
       "      <th>42</th>\n",
       "      <th>43</th>\n",
       "      <th>44</th>\n",
       "      <th>45</th>\n",
       "      <th>46</th>\n",
       "      <th>47</th>\n",
       "      <th>48</th>\n",
       "      <th>49</th>\n",
       "    </tr>\n",
       "    <tr>\n",
       "      <th>improve_sample_id</th>\n",
       "      <th></th>\n",
       "      <th></th>\n",
       "      <th></th>\n",
       "      <th></th>\n",
       "      <th></th>\n",
       "      <th></th>\n",
       "      <th></th>\n",
       "      <th></th>\n",
       "      <th></th>\n",
       "      <th></th>\n",
       "      <th></th>\n",
       "      <th></th>\n",
       "      <th></th>\n",
       "      <th></th>\n",
       "      <th></th>\n",
       "      <th></th>\n",
       "      <th></th>\n",
       "      <th></th>\n",
       "      <th></th>\n",
       "      <th></th>\n",
       "      <th></th>\n",
       "    </tr>\n",
       "  </thead>\n",
       "  <tbody>\n",
       "    <tr>\n",
       "      <th>smpl_id_3018</th>\n",
       "      <td>hcmi</td>\n",
       "      <td>colon-nos-adeno</td>\n",
       "      <td>-1.169153</td>\n",
       "      <td>0.064786</td>\n",
       "      <td>0.532497</td>\n",
       "      <td>-1.015301</td>\n",
       "      <td>-2.746942</td>\n",
       "      <td>0.328263</td>\n",
       "      <td>0.246267</td>\n",
       "      <td>0.456580</td>\n",
       "      <td>...</td>\n",
       "      <td>-0.907861</td>\n",
       "      <td>-2.382790</td>\n",
       "      <td>1.734066</td>\n",
       "      <td>0.679207</td>\n",
       "      <td>3.091059</td>\n",
       "      <td>2.299092</td>\n",
       "      <td>-0.333443</td>\n",
       "      <td>-0.907752</td>\n",
       "      <td>1.451318</td>\n",
       "      <td>0.919253</td>\n",
       "    </tr>\n",
       "    <tr>\n",
       "      <th>smpl_id_3024</th>\n",
       "      <td>hcmi</td>\n",
       "      <td>colon-nos-adeno</td>\n",
       "      <td>0.040635</td>\n",
       "      <td>-0.871408</td>\n",
       "      <td>-0.916830</td>\n",
       "      <td>0.032803</td>\n",
       "      <td>-1.453159</td>\n",
       "      <td>-0.577008</td>\n",
       "      <td>-0.968677</td>\n",
       "      <td>1.247172</td>\n",
       "      <td>...</td>\n",
       "      <td>0.743988</td>\n",
       "      <td>-1.297727</td>\n",
       "      <td>0.282077</td>\n",
       "      <td>-1.220049</td>\n",
       "      <td>-0.219117</td>\n",
       "      <td>0.968906</td>\n",
       "      <td>0.209926</td>\n",
       "      <td>1.318688</td>\n",
       "      <td>0.137500</td>\n",
       "      <td>-0.152098</td>\n",
       "    </tr>\n",
       "    <tr>\n",
       "      <th>smpl_id_3047</th>\n",
       "      <td>hcmi</td>\n",
       "      <td>colon-nos-adeno</td>\n",
       "      <td>-0.612275</td>\n",
       "      <td>1.486348</td>\n",
       "      <td>-0.575287</td>\n",
       "      <td>0.361724</td>\n",
       "      <td>0.572582</td>\n",
       "      <td>2.518289</td>\n",
       "      <td>-1.079198</td>\n",
       "      <td>-0.692216</td>\n",
       "      <td>...</td>\n",
       "      <td>0.219137</td>\n",
       "      <td>-1.410441</td>\n",
       "      <td>-2.545869</td>\n",
       "      <td>0.419932</td>\n",
       "      <td>-0.694683</td>\n",
       "      <td>0.318492</td>\n",
       "      <td>0.576787</td>\n",
       "      <td>-0.492920</td>\n",
       "      <td>2.155172</td>\n",
       "      <td>-2.179325</td>\n",
       "    </tr>\n",
       "    <tr>\n",
       "      <th>smpl_id_3048</th>\n",
       "      <td>hcmi</td>\n",
       "      <td>colon-nos-adeno</td>\n",
       "      <td>0.377179</td>\n",
       "      <td>0.850908</td>\n",
       "      <td>1.015857</td>\n",
       "      <td>-0.436464</td>\n",
       "      <td>1.056623</td>\n",
       "      <td>-0.759297</td>\n",
       "      <td>1.278512</td>\n",
       "      <td>0.014602</td>\n",
       "      <td>...</td>\n",
       "      <td>0.893535</td>\n",
       "      <td>-0.331321</td>\n",
       "      <td>-1.292420</td>\n",
       "      <td>0.922671</td>\n",
       "      <td>-0.299033</td>\n",
       "      <td>-0.256182</td>\n",
       "      <td>-0.197546</td>\n",
       "      <td>0.120588</td>\n",
       "      <td>-1.362503</td>\n",
       "      <td>-0.899791</td>\n",
       "    </tr>\n",
       "    <tr>\n",
       "      <th>smpl_id_3078</th>\n",
       "      <td>hcmi</td>\n",
       "      <td>colon-nos-adeno</td>\n",
       "      <td>0.680376</td>\n",
       "      <td>-0.086653</td>\n",
       "      <td>-0.521605</td>\n",
       "      <td>-2.466241</td>\n",
       "      <td>-0.759097</td>\n",
       "      <td>2.413870</td>\n",
       "      <td>-0.424843</td>\n",
       "      <td>0.160077</td>\n",
       "      <td>...</td>\n",
       "      <td>-0.035692</td>\n",
       "      <td>2.077682</td>\n",
       "      <td>-0.945375</td>\n",
       "      <td>1.393676</td>\n",
       "      <td>0.514485</td>\n",
       "      <td>-1.095230</td>\n",
       "      <td>1.141455</td>\n",
       "      <td>0.711489</td>\n",
       "      <td>-0.814606</td>\n",
       "      <td>-0.009066</td>\n",
       "    </tr>\n",
       "    <tr>\n",
       "      <th>...</th>\n",
       "      <td>...</td>\n",
       "      <td>...</td>\n",
       "      <td>...</td>\n",
       "      <td>...</td>\n",
       "      <td>...</td>\n",
       "      <td>...</td>\n",
       "      <td>...</td>\n",
       "      <td>...</td>\n",
       "      <td>...</td>\n",
       "      <td>...</td>\n",
       "      <td>...</td>\n",
       "      <td>...</td>\n",
       "      <td>...</td>\n",
       "      <td>...</td>\n",
       "      <td>...</td>\n",
       "      <td>...</td>\n",
       "      <td>...</td>\n",
       "      <td>...</td>\n",
       "      <td>...</td>\n",
       "      <td>...</td>\n",
       "      <td>...</td>\n",
       "    </tr>\n",
       "    <tr>\n",
       "      <th>smpl_id_2100</th>\n",
       "      <td>hcmi</td>\n",
       "      <td>colon-nos-adeno</td>\n",
       "      <td>-0.092833</td>\n",
       "      <td>0.647118</td>\n",
       "      <td>-0.582967</td>\n",
       "      <td>0.514007</td>\n",
       "      <td>-0.040785</td>\n",
       "      <td>-0.513416</td>\n",
       "      <td>1.661825</td>\n",
       "      <td>-2.272369</td>\n",
       "      <td>...</td>\n",
       "      <td>-0.338098</td>\n",
       "      <td>-0.363828</td>\n",
       "      <td>0.484912</td>\n",
       "      <td>0.890297</td>\n",
       "      <td>1.754593</td>\n",
       "      <td>-2.058087</td>\n",
       "      <td>2.124690</td>\n",
       "      <td>1.477935</td>\n",
       "      <td>0.350732</td>\n",
       "      <td>1.609976</td>\n",
       "    </tr>\n",
       "    <tr>\n",
       "      <th>smpl_id_2101</th>\n",
       "      <td>hcmi</td>\n",
       "      <td>colon-nos-adeno</td>\n",
       "      <td>-0.388928</td>\n",
       "      <td>1.686426</td>\n",
       "      <td>-0.232905</td>\n",
       "      <td>-0.053784</td>\n",
       "      <td>1.363998</td>\n",
       "      <td>-1.513278</td>\n",
       "      <td>-0.950286</td>\n",
       "      <td>1.769758</td>\n",
       "      <td>...</td>\n",
       "      <td>-0.892210</td>\n",
       "      <td>0.841345</td>\n",
       "      <td>0.360516</td>\n",
       "      <td>-1.122415</td>\n",
       "      <td>0.069878</td>\n",
       "      <td>-1.225930</td>\n",
       "      <td>-0.920601</td>\n",
       "      <td>-0.021378</td>\n",
       "      <td>0.230683</td>\n",
       "      <td>-0.215557</td>\n",
       "    </tr>\n",
       "    <tr>\n",
       "      <th>smpl_id_2102</th>\n",
       "      <td>hcmi</td>\n",
       "      <td>colon-nos-adeno</td>\n",
       "      <td>1.357648</td>\n",
       "      <td>0.805945</td>\n",
       "      <td>-0.684513</td>\n",
       "      <td>2.030779</td>\n",
       "      <td>0.254514</td>\n",
       "      <td>1.095084</td>\n",
       "      <td>1.001238</td>\n",
       "      <td>-2.344390</td>\n",
       "      <td>...</td>\n",
       "      <td>-0.519320</td>\n",
       "      <td>-0.295916</td>\n",
       "      <td>0.960108</td>\n",
       "      <td>-0.652290</td>\n",
       "      <td>-0.128965</td>\n",
       "      <td>-0.812618</td>\n",
       "      <td>1.760138</td>\n",
       "      <td>1.423565</td>\n",
       "      <td>0.686563</td>\n",
       "      <td>-0.303327</td>\n",
       "    </tr>\n",
       "    <tr>\n",
       "      <th>smpl_id_2103</th>\n",
       "      <td>hcmi</td>\n",
       "      <td>colon-nos-adeno</td>\n",
       "      <td>-0.197205</td>\n",
       "      <td>0.956431</td>\n",
       "      <td>0.288800</td>\n",
       "      <td>1.131820</td>\n",
       "      <td>0.644245</td>\n",
       "      <td>-0.498186</td>\n",
       "      <td>-0.104679</td>\n",
       "      <td>0.563268</td>\n",
       "      <td>...</td>\n",
       "      <td>1.677005</td>\n",
       "      <td>-0.570973</td>\n",
       "      <td>1.423342</td>\n",
       "      <td>-0.695536</td>\n",
       "      <td>1.719847</td>\n",
       "      <td>-1.928902</td>\n",
       "      <td>0.301306</td>\n",
       "      <td>0.003518</td>\n",
       "      <td>-0.198547</td>\n",
       "      <td>0.062874</td>\n",
       "    </tr>\n",
       "    <tr>\n",
       "      <th>smpl_id_2104</th>\n",
       "      <td>hcmi</td>\n",
       "      <td>colon-nos-adeno</td>\n",
       "      <td>-1.289786</td>\n",
       "      <td>0.531941</td>\n",
       "      <td>0.180876</td>\n",
       "      <td>-0.542213</td>\n",
       "      <td>-0.225860</td>\n",
       "      <td>0.089735</td>\n",
       "      <td>-0.409626</td>\n",
       "      <td>0.740698</td>\n",
       "      <td>...</td>\n",
       "      <td>-0.329126</td>\n",
       "      <td>-0.204001</td>\n",
       "      <td>0.417651</td>\n",
       "      <td>0.069647</td>\n",
       "      <td>0.379675</td>\n",
       "      <td>0.428037</td>\n",
       "      <td>-0.475697</td>\n",
       "      <td>-1.175011</td>\n",
       "      <td>-1.075341</td>\n",
       "      <td>-0.638033</td>\n",
       "    </tr>\n",
       "  </tbody>\n",
       "</table>\n",
       "<p>151 rows × 52 columns</p>\n",
       "</div>"
      ],
      "text/plain": [
       "                  System      Cancer_type         0         1         2  \\\n",
       "improve_sample_id                                                         \n",
       "smpl_id_3018        hcmi  colon-nos-adeno -1.169153  0.064786  0.532497   \n",
       "smpl_id_3024        hcmi  colon-nos-adeno  0.040635 -0.871408 -0.916830   \n",
       "smpl_id_3047        hcmi  colon-nos-adeno -0.612275  1.486348 -0.575287   \n",
       "smpl_id_3048        hcmi  colon-nos-adeno  0.377179  0.850908  1.015857   \n",
       "smpl_id_3078        hcmi  colon-nos-adeno  0.680376 -0.086653 -0.521605   \n",
       "...                  ...              ...       ...       ...       ...   \n",
       "smpl_id_2100        hcmi  colon-nos-adeno -0.092833  0.647118 -0.582967   \n",
       "smpl_id_2101        hcmi  colon-nos-adeno -0.388928  1.686426 -0.232905   \n",
       "smpl_id_2102        hcmi  colon-nos-adeno  1.357648  0.805945 -0.684513   \n",
       "smpl_id_2103        hcmi  colon-nos-adeno -0.197205  0.956431  0.288800   \n",
       "smpl_id_2104        hcmi  colon-nos-adeno -1.289786  0.531941  0.180876   \n",
       "\n",
       "                          3         4         5         6         7  ...  \\\n",
       "improve_sample_id                                                    ...   \n",
       "smpl_id_3018      -1.015301 -2.746942  0.328263  0.246267  0.456580  ...   \n",
       "smpl_id_3024       0.032803 -1.453159 -0.577008 -0.968677  1.247172  ...   \n",
       "smpl_id_3047       0.361724  0.572582  2.518289 -1.079198 -0.692216  ...   \n",
       "smpl_id_3048      -0.436464  1.056623 -0.759297  1.278512  0.014602  ...   \n",
       "smpl_id_3078      -2.466241 -0.759097  2.413870 -0.424843  0.160077  ...   \n",
       "...                     ...       ...       ...       ...       ...  ...   \n",
       "smpl_id_2100       0.514007 -0.040785 -0.513416  1.661825 -2.272369  ...   \n",
       "smpl_id_2101      -0.053784  1.363998 -1.513278 -0.950286  1.769758  ...   \n",
       "smpl_id_2102       2.030779  0.254514  1.095084  1.001238 -2.344390  ...   \n",
       "smpl_id_2103       1.131820  0.644245 -0.498186 -0.104679  0.563268  ...   \n",
       "smpl_id_2104      -0.542213 -0.225860  0.089735 -0.409626  0.740698  ...   \n",
       "\n",
       "                         40        41        42        43        44        45  \\\n",
       "improve_sample_id                                                               \n",
       "smpl_id_3018      -0.907861 -2.382790  1.734066  0.679207  3.091059  2.299092   \n",
       "smpl_id_3024       0.743988 -1.297727  0.282077 -1.220049 -0.219117  0.968906   \n",
       "smpl_id_3047       0.219137 -1.410441 -2.545869  0.419932 -0.694683  0.318492   \n",
       "smpl_id_3048       0.893535 -0.331321 -1.292420  0.922671 -0.299033 -0.256182   \n",
       "smpl_id_3078      -0.035692  2.077682 -0.945375  1.393676  0.514485 -1.095230   \n",
       "...                     ...       ...       ...       ...       ...       ...   \n",
       "smpl_id_2100      -0.338098 -0.363828  0.484912  0.890297  1.754593 -2.058087   \n",
       "smpl_id_2101      -0.892210  0.841345  0.360516 -1.122415  0.069878 -1.225930   \n",
       "smpl_id_2102      -0.519320 -0.295916  0.960108 -0.652290 -0.128965 -0.812618   \n",
       "smpl_id_2103       1.677005 -0.570973  1.423342 -0.695536  1.719847 -1.928902   \n",
       "smpl_id_2104      -0.329126 -0.204001  0.417651  0.069647  0.379675  0.428037   \n",
       "\n",
       "                         46        47        48        49  \n",
       "improve_sample_id                                          \n",
       "smpl_id_3018      -0.333443 -0.907752  1.451318  0.919253  \n",
       "smpl_id_3024       0.209926  1.318688  0.137500 -0.152098  \n",
       "smpl_id_3047       0.576787 -0.492920  2.155172 -2.179325  \n",
       "smpl_id_3048      -0.197546  0.120588 -1.362503 -0.899791  \n",
       "smpl_id_3078       1.141455  0.711489 -0.814606 -0.009066  \n",
       "...                     ...       ...       ...       ...  \n",
       "smpl_id_2100       2.124690  1.477935  0.350732  1.609976  \n",
       "smpl_id_2101      -0.920601 -0.021378  0.230683 -0.215557  \n",
       "smpl_id_2102       1.760138  1.423565  0.686563 -0.303327  \n",
       "smpl_id_2103       0.301306  0.003518 -0.198547  0.062874  \n",
       "smpl_id_2104      -0.475697 -1.175011 -1.075341 -0.638033  \n",
       "\n",
       "[151 rows x 52 columns]"
      ]
     },
     "execution_count": 8,
     "metadata": {},
     "output_type": "execute_result"
    }
   ],
   "source": [
    "df_n"
   ]
  },
  {
   "cell_type": "code",
   "execution_count": 9,
   "id": "c780490b-4985-49a0-bfd8-9490840d517a",
   "metadata": {},
   "outputs": [
    {
     "data": {
      "text/plain": [
       "array(['hcmi'], dtype=object)"
      ]
     },
     "execution_count": 9,
     "metadata": {},
     "output_type": "execute_result"
    }
   ],
   "source": [
    "df_n.System.unique()"
   ]
  },
  {
   "cell_type": "code",
   "execution_count": 10,
   "id": "6ef640db-b47c-4666-8f14-f50e6a97d394",
   "metadata": {},
   "outputs": [
    {
     "name": "stdout",
     "output_type": "stream",
     "text": [
      "0\n",
      "colon-nos-adeno transcriptomics HCMI+CPTAC\n"
     ]
    },
    {
     "ename": "NameError",
     "evalue": "name 'phase' is not defined",
     "output_type": "error",
     "traceback": [
      "\u001b[0;31m---------------------------------------------------------------------------\u001b[0m",
      "\u001b[0;31mNameError\u001b[0m                                 Traceback (most recent call last)",
      "Cell \u001b[0;32mIn[10], line 39\u001b[0m\n\u001b[1;32m     27\u001b[0m     plt\u001b[38;5;241m.\u001b[39mscatter(umap_result[i, \u001b[38;5;241m0\u001b[39m], umap_result[i, \u001b[38;5;241m1\u001b[39m],\n\u001b[1;32m     28\u001b[0m                 c\u001b[38;5;241m=\u001b[39m[color_map[system_labels\u001b[38;5;241m.\u001b[39miloc[i]]],\n\u001b[1;32m     29\u001b[0m                 edgecolor\u001b[38;5;241m=\u001b[39m\u001b[38;5;124m'\u001b[39m\u001b[38;5;124mk\u001b[39m\u001b[38;5;124m'\u001b[39m,\n\u001b[0;32m   (...)\u001b[0m\n\u001b[1;32m     34\u001b[0m                 system_labels\u001b[38;5;241m.\u001b[39miloc[i] \u001b[38;5;28;01mif\u001b[39;00m i \u001b[38;5;129;01min\u001b[39;00m [\u001b[38;5;28mlist\u001b[39m(system_labels)\u001b[38;5;241m.\u001b[39mindex(x) \u001b[38;5;28;01mfor\u001b[39;00m x \u001b[38;5;129;01min\u001b[39;00m unique_labels] \u001b[38;5;28;01melse\u001b[39;00m \u001b[38;5;124m\"\u001b[39m\u001b[38;5;124m\"\u001b[39m\n\u001b[1;32m     35\u001b[0m                )\n\u001b[1;32m     37\u001b[0m plt\u001b[38;5;241m.\u001b[39mlegend()\n\u001b[0;32m---> 39\u001b[0m plt\u001b[38;5;241m.\u001b[39mtitle(cancer\u001b[38;5;241m+\u001b[39m\u001b[38;5;124m'\u001b[39m\u001b[38;5;124m, \u001b[39m\u001b[38;5;124m'\u001b[39m\u001b[38;5;241m+\u001b[39m\u001b[43mphase\u001b[49m\u001b[38;5;241m+\u001b[39m\u001b[38;5;124m'\u001b[39m\u001b[38;5;124m, \u001b[39m\u001b[38;5;124m'\u001b[39m\u001b[38;5;241m+\u001b[39mmodality, fontsize\u001b[38;5;241m=\u001b[39m\u001b[38;5;241m14\u001b[39m)\n\u001b[1;32m     40\u001b[0m pad \u001b[38;5;241m=\u001b[39m \u001b[38;5;241m2\u001b[39m\n\u001b[1;32m     41\u001b[0m plt\u001b[38;5;241m.\u001b[39mxlabel(\u001b[38;5;124m'\u001b[39m\u001b[38;5;124mUMAP 1\u001b[39m\u001b[38;5;124m'\u001b[39m, size \u001b[38;5;241m=\u001b[39m \u001b[38;5;241m12\u001b[39m, labelpad\u001b[38;5;241m=\u001b[39mpad)\n",
      "\u001b[0;31mNameError\u001b[0m: name 'phase' is not defined"
     ]
    },
    {
     "data": {
      "image/png": "[encoded data removed]",
      "text/plain": [
       "<Figure size 500x400 with 1 Axes>"
      ]
     },
     "metadata": {},
     "output_type": "display_data"
    }
   ],
   "source": [
    "pths_n = sorted(glob.glob('../results/r7/*'))\n",
    "for pi, pth_n in enumerate(pths_n):\n",
    "    print(pi)\n",
    "    cancer = pth_n.split('/')[-1].split('_')[0]\n",
    "    modality = pth_n.split('/')[-1].split('_')[1]\n",
    "                                             # remove file extension\n",
    "    systems = pth_n.split('/')[-1].split('_')[2].split('.')[0]\n",
    "    print(cancer, modality, systems)\n",
    "\n",
    "    df_n = pd.read_csv(\n",
    "        pth_n, sep = '\\t', index_col = 0)\n",
    "    features = df_n.drop(\n",
    "        ['System', 'Cancer_type'], axis=1)\n",
    "    system_labels = df_n['System']\n",
    "    \n",
    "    umap_result = umap.UMAP(\n",
    "        n_neighbors=15, min_dist=0.1, n_components=2, metric='euclidean').fit_transform(features)\n",
    "    unique_labels = system_labels.unique()\n",
    "\n",
    "    colors = ['orange', 'blue'] # add a unique color for each\n",
    "                                # model system (?)\n",
    "    color_map = dict(zip(unique_labels, colors))\n",
    "\n",
    "    plt.figure(figsize=(5, 4))\n",
    "    \n",
    "    for i in range(len(umap_result)):\n",
    "        plt.scatter(umap_result[i, 0], umap_result[i, 1],\n",
    "                    c=[color_map[system_labels.iloc[i]]],\n",
    "                    edgecolor='k',\n",
    "                    s=100,\n",
    "                    label=\n",
    "                    # system_labels.iloc[i]\n",
    "                    # + ' - ' + \n",
    "                    system_labels.iloc[i] if i in [list(system_labels).index(x) for x in unique_labels] else \"\"\n",
    "                   )\n",
    "    \n",
    "    plt.legend()\n",
    "    \n",
    "    plt.title(cancer+', '+phase+', '+modality, fontsize=14)\n",
    "    pad = 2\n",
    "    plt.xlabel('UMAP 1', size = 12, labelpad=pad)\n",
    "    plt.ylabel('UMAP 2', size = 12, labelpad=pad)\n",
    "    plt.tight_layout()\n",
    "    # plt.savefig(\n",
    "    #     '../results/'+phase+'/'+r+'/'+r+'-fgs/'+\n",
    "    #     cancer+'_'+modality+'_'+systems+\n",
    "    #     '.'+phase+'.umap.png', dpi = 300)\n",
    "    \n",
    "    # plt.show()\n",
    "    plt.close()\n",
    "    # break"
   ]
  },
  {
   "cell_type": "code",
   "execution_count": null,
   "id": "3762758d-1e97-4085-831b-76c03ec1bca8",
   "metadata": {},
   "outputs": [],
   "source": [
    "df_n"
   ]
  },
  {
   "cell_type": "markdown",
   "id": "229d547e-19b8-4886-9aaa-483aacca3b61",
   "metadata": {},
   "source": [
    "#### Markdown table devel"
   ]
  },
  {
   "cell_type": "markdown",
   "id": "d70bb4fe-2afe-4ce4-9da6-fa6147bda76b",
   "metadata": {},
   "source": [
    "| Cancer_type | Data_modality | Model_system |\n",
    "|---|---|---|\n",
    "| Lung | Transcriptomics | BeatAML |\n",
    "| Brain | Proteomics | Cell line |\n",
    "| Pancreas | Copy number | CPTAC | \n",
    "|   | Mutation | HCMI |\n",
    "|  |  |  |\n",
    "|  |  |  |\n",
    "|  |  |  | "
   ]
  },
  {
   "cell_type": "markdown",
   "id": "ed996315-a6b1-4f62-b2b6-c196555a6023",
   "metadata": {
    "jupyter": {
     "source_hidden": true
    }
   },
   "source": [
    "| Cancer_type | Data_modality | Model_system |\n",
    "|---|---|---|\n",
    "| Lung | Transcriptomics | BeatAML |\n",
    "| Lung | Proteomics | Cell line |\n",
    "| Lung | Copy number | CPTAC | \n",
    "| Lung | Mutation | HCMI |\n",
    "| Brain | Transcriptomics | BeatAML |\n",
    "| Brain | Proteomics | Cell line |\n",
    "| Brain | Copy number | CPTAC | \n",
    "| Brain | Mutation | HCMI |\n",
    "| Pancreas | Transcriptomics | BeatAML |\n",
    "| Pancreas | Proteomics | Cell line |\n",
    "| Pancreas | Copy number | CPTAC | \n",
    "| Pancreas | Mutation | HCMI |"
   ]
  },
  {
   "cell_type": "markdown",
   "id": "37cd628e-02fd-4a76-8b17-b6b7fa8e275a",
   "metadata": {},
   "source": []
  }
 ],
 "metadata": {
  "kernelspec": {
   "display_name": "Python 3 (ipykernel)",
   "language": "python",
   "name": "python3"
  },
  "language_info": {
   "codemirror_mode": {
    "name": "ipython",
    "version": 3
   },
   "file_extension": ".py",
   "mimetype": "text/x-python",
   "name": "python",
   "nbconvert_exporter": "python",
   "pygments_lexer": "ipython3",
   "version": "3.10.8"
  }
 },
 "nbformat": 4,
 "nbformat_minor": 5
}
