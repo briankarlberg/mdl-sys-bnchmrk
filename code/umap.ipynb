{
 "cells": [
  {
   "cell_type": "code",
   "execution_count": null,
   "id": "ca6a50c5-296a-4a3a-8e02-65714ab96611",
   "metadata": {},
   "outputs": [],
   "source": [
    "# r5\n",
    "# Run umaps on input, mbatch, and vae\n",
    "\n",
    "    # per mmd in fig tmplt\n",
    "    "
   ]
  },
  {
   "cell_type": "code",
   "execution_count": null,
   "id": "3690dbe1-ac6d-4d60-b466-e8c594f9d4a2",
   "metadata": {},
   "outputs": [],
   "source": []
  },
  {
   "cell_type": "code",
   "execution_count": null,
   "id": "88505088-b257-462a-8b87-6551e83d3b21",
   "metadata": {},
   "outputs": [],
   "source": []
  },
  {
   "cell_type": "code",
   "execution_count": null,
   "id": "6648b9e8-9c74-459a-9613-a0ec3f9e64ec",
   "metadata": {},
   "outputs": [],
   "source": []
  }
 ],
 "metadata": {
  "kernelspec": {
   "display_name": "Python 3 (ipykernel)",
   "language": "python",
   "name": "python3"
  },
  "language_info": {
   "codemirror_mode": {
    "name": "ipython",
    "version": 3
   },
   "file_extension": ".py",
   "mimetype": "text/x-python",
   "name": "python",
   "nbconvert_exporter": "python",
   "pygments_lexer": "ipython3",
   "version": "3.10.8"
  }
 },
 "nbformat": 4,
 "nbformat_minor": 5
}
