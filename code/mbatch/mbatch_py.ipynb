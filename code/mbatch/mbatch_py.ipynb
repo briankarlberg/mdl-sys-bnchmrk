{
 "cells": [
  {
   "cell_type": "code",
   "execution_count": null,
   "id": "6f3a78ab-247d-4e10-a7e5-236c2e6c7f48",
   "metadata": {},
   "outputs": [],
   "source": [
    "# Format files into mbatch format\n",
    "    # un-ignored version in code/mbatch_i-o.ipynb\n",
    "    # output is two files per one input cancer file\n",
    "    # read from strctrd/one_cncr/\n",
    "    # then make split files and run mbatch on those"
   ]
  },
  {
   "cell_type": "markdown",
   "id": "3d62bf0b-2f60-46a4-bcc8-473194633d50",
   "metadata": {},
   "source": [
    "#### Devel file provenance"
   ]
  },
  {
   "cell_type": "code",
   "execution_count": 8,
   "id": "c7d95934-5a53-402a-abfd-ab9b85638a98",
   "metadata": {},
   "outputs": [
    {
     "data": {
      "text/plain": [
       "'/Users/karlberb/Documents/work/2024/bnch_mrk/mdl-sys-bnchmrk/code/mbatch'"
      ]
     },
     "execution_count": 8,
     "metadata": {},
     "output_type": "execute_result"
    }
   ],
   "source": [
    "pwd"
   ]
  },
  {
   "cell_type": "code",
   "execution_count": 9,
   "id": "6e7953db-044e-40f4-a7a4-44b000a58f61",
   "metadata": {},
   "outputs": [
    {
     "name": "stdout",
     "output_type": "stream",
     "text": [
      "README.md           README_one_cncr.md  mbatch_py.ipynb\n",
      "README_n.md         \u001b[34mbk_mbatch\u001b[m\u001b[m/\n"
     ]
    }
   ],
   "source": [
    "ls"
   ]
  },
  {
   "cell_type": "code",
   "execution_count": null,
   "id": "4e1125ae-cfe6-46f1-98d7-459b93554e9e",
   "metadata": {},
   "outputs": [],
   "source": [
    "# Read from here: (into)"
   ]
  },
  {
   "cell_type": "code",
   "execution_count": 10,
   "id": "90067a30-a8b2-4af0-b0c1-07bb58a07e99",
   "metadata": {},
   "outputs": [
    {
     "name": "stdout",
     "output_type": "stream",
     "text": [
      "breast-ductal_transcriptomics_cell-line+CPTAC.tsv\n",
      "breast-lobular_transcriptomics_cell-line+CPTAC.tsv\n",
      "breast-nos_transcriptomics_cell-line+CPTAC.tsv\n",
      "colon-adeno_transcriptomics_cell-line+CPTAC.tsv\n",
      "glioblastoma_transcriptomics_cell-line+CPTAC.tsv\n",
      "head-neck_transcriptomics_cell-line+CPTAC.tsv\n",
      "lung-adeno_transcriptomics_cell-line+CPTAC.tsv\n",
      "pancreatic-adeno_transcriptomics_cell-line+CPTAC.tsv\n",
      "renal-clear-cell_transcriptomics_cell-line+CPTAC.tsv\n"
     ]
    }
   ],
   "source": [
    "ls ../../strctrd/one_cncr/"
   ]
  },
  {
   "cell_type": "code",
   "execution_count": 4,
   "id": "462b9821-01d0-4d3c-96d6-8401b74e844b",
   "metadata": {},
   "outputs": [
    {
     "name": "stdout",
     "output_type": "stream",
     "text": [
      "cell_line_pancreatic-adeno+lung-adeno_transcriptomics_src.tsv\n",
      "cptac_pancreatic-adeno+lung-adeno_transcriptomics_ref.tsv\n"
     ]
    }
   ],
   "source": [
    "ls bk_mbatch/data/inputs"
   ]
  },
  {
   "cell_type": "code",
   "execution_count": 12,
   "id": "0a663033-ab34-43b1-a4c6-0518dc77d8c1",
   "metadata": {},
   "outputs": [
    {
     "name": "stdout",
     "output_type": "stream",
     "text": [
      "\u001b[34minputs\u001b[m\u001b[m/       \u001b[34mmbatch\u001b[m\u001b[m/       \u001b[34moc_splt_in\u001b[m\u001b[m/   \u001b[34mone_cncr_lgg\u001b[m\u001b[m/\n"
     ]
    }
   ],
   "source": [
    "ls bk_mbatch/data/"
   ]
  },
  {
   "cell_type": "code",
   "execution_count": null,
   "id": "822ebcb5-f7e8-4aa4-9d11-e5d07544f45a",
   "metadata": {},
   "outputs": [],
   "source": [
    " # Write to here: (from code/mbatch_i-o.ipynb)"
   ]
  },
  {
   "cell_type": "code",
   "execution_count": 13,
   "id": "7ebc44be-010d-4d94-82a6-31645a123440",
   "metadata": {},
   "outputs": [
    {
     "name": "stdout",
     "output_type": "stream",
     "text": [
      "cell_line_breast-ductal_transcriptomics_src.tsv\n",
      "cell_line_breast-lobular_transcriptomics_src.tsv\n",
      "cell_line_breast-nos_transcriptomics_src.tsv\n",
      "cell_line_colon-adeno_transcriptomics_src.tsv\n",
      "cell_line_glioblastoma_transcriptomics_src.tsv\n",
      "cell_line_head-neck_transcriptomics_src.tsv\n",
      "cell_line_lung-adeno_transcriptomics_src.tsv\n",
      "cell_line_pancreatic-adeno_transcriptomics_src.tsv\n",
      "cell_line_renal-clear-cell_transcriptomics_src.tsv\n",
      "cptac_breast-ductal_transcriptomics_ref.tsv\n",
      "cptac_breast-lobular_transcriptomics_ref.tsv\n",
      "cptac_breast-nos_transcriptomics_ref.tsv\n",
      "cptac_colon-adeno_transcriptomics_ref.tsv\n",
      "cptac_glioblastoma_transcriptomics_ref.tsv\n",
      "cptac_head-neck_transcriptomics_ref.tsv\n",
      "cptac_lung-adeno_transcriptomics_ref.tsv\n",
      "cptac_pancreatic-adeno_transcriptomics_ref.tsv\n",
      "cptac_renal-clear-cell_transcriptomics_ref.tsv\n"
     ]
    }
   ],
   "source": [
    "ls bk_mbatch/data/oc_splt_in/ "
   ]
  },
  {
   "cell_type": "code",
   "execution_count": null,
   "id": "1de2ca06-6513-418e-94b5-9289f85b3e45",
   "metadata": {},
   "outputs": [],
   "source": [
    "bk_mbatch/data/oc_splt_in"
   ]
  },
  {
   "cell_type": "code",
   "execution_count": null,
   "id": "9f235b2b-cf69-463d-9631-895e2b936a2a",
   "metadata": {},
   "outputs": [],
   "source": [
    "# ^inputs to R script"
   ]
  },
  {
   "cell_type": "code",
   "execution_count": null,
   "id": "83663fd5-c0b1-4c5a-85d2-888366f828ba",
   "metadata": {},
   "outputs": [],
   "source": [
    "# out path R script - corrected file paths:"
   ]
  },
  {
   "cell_type": "code",
   "execution_count": null,
   "id": "d9831eb8-636d-468f-800b-140b58714e11",
   "metadata": {},
   "outputs": [],
   "source": []
  },
  {
   "cell_type": "code",
   "execution_count": null,
   "id": "85a5be35-2431-4781-ab7f-bce5600c6239",
   "metadata": {},
   "outputs": [],
   "source": [
    "# ^paths to read into UMAPs and run classification"
   ]
  },
  {
   "cell_type": "code",
   "execution_count": null,
   "id": "48a60c52-4bde-4be0-b481-2d70beee28d9",
   "metadata": {},
   "outputs": [],
   "source": [
    "2024/model_systems/i_o/cell_line_colon_adeno_transcriptomics_src-TO-cptac_colon_adeno_transcriptomics_ref\n",
    "2024/model_systems/i_o/cell_line_glioblastoma_transcriptomics_src-TO-cptac_glioblastoma_transcriptomics_ref"
   ]
  },
  {
   "cell_type": "code",
   "execution_count": null,
   "id": "e6b9bf08-b029-42b0-9e3f-8f51fabd7d86",
   "metadata": {},
   "outputs": [],
   "source": [
    "#### input files, get VAE corrections on single cancer files\n",
    "    # mkdir single_cancers, on Exacloud - done\n",
    "        # strctrd/one_cncr/"
   ]
  }
 ],
 "metadata": {
  "kernelspec": {
   "display_name": "Python 3 (ipykernel)",
   "language": "python",
   "name": "python3"
  },
  "language_info": {
   "codemirror_mode": {
    "name": "ipython",
    "version": 3
   },
   "file_extension": ".py",
   "mimetype": "text/x-python",
   "name": "python",
   "nbconvert_exporter": "python",
   "pygments_lexer": "ipython3",
   "version": "3.10.8"
  }
 },
 "nbformat": 4,
 "nbformat_minor": 5
}
