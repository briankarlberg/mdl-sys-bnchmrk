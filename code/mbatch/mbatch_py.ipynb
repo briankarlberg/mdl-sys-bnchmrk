{
 "cells": [
  {
   "cell_type": "code",
   "execution_count": null,
   "id": "6f3a78ab-247d-4e10-a7e5-236c2e6c7f48",
   "metadata": {},
   "outputs": [],
   "source": [
    "# Format files into mbatch format\n",
    "    # ouput is two files per one input cancer file"
   ]
  },
  {
   "cell_type": "markdown",
   "id": "3d62bf0b-2f60-46a4-bcc8-473194633d50",
   "metadata": {},
   "source": [
    "#### Devel file provenance"
   ]
  },
  {
   "cell_type": "code",
   "execution_count": null,
   "id": "83663fd5-c0b1-4c5a-85d2-888366f828ba",
   "metadata": {},
   "outputs": [],
   "source": [
    "# corrected file paths, redo UMAPs and run classification"
   ]
  },
  {
   "cell_type": "code",
   "execution_count": null,
   "id": "48a60c52-4bde-4be0-b481-2d70beee28d9",
   "metadata": {},
   "outputs": [],
   "source": [
    "2024/model_systems/i_o/cell_line_colon_adeno_transcriptomics_src-TO-cptac_colon_adeno_transcriptomics_ref\n",
    "2024/model_systems/i_o/cell_line_glioblastoma_transcriptomics_src-TO-cptac_glioblastoma_transcriptomics_ref"
   ]
  },
  {
   "cell_type": "code",
   "execution_count": null,
   "id": "f862fe23-e18a-4c3e-92c8-16501b4dc3c6",
   "metadata": {},
   "outputs": [],
   "source": []
  },
  {
   "cell_type": "code",
   "execution_count": null,
   "id": "e6b9bf08-b029-42b0-9e3f-8f51fabd7d86",
   "metadata": {},
   "outputs": [],
   "source": [
    "#### input files, get VAE corrections on single cancer files\n",
    "    # mkdir single_cancers, on Exacloud"
   ]
  },
  {
   "cell_type": "code",
   "execution_count": null,
   "id": "85a5be35-2431-4781-ab7f-bce5600c6239",
   "metadata": {},
   "outputs": [],
   "source": []
  }
 ],
 "metadata": {
  "kernelspec": {
   "display_name": "Python 3 (ipykernel)",
   "language": "python",
   "name": "python3"
  },
  "language_info": {
   "codemirror_mode": {
    "name": "ipython",
    "version": 3
   },
   "file_extension": ".py",
   "mimetype": "text/x-python",
   "name": "python",
   "nbconvert_exporter": "python",
   "pygments_lexer": "ipython3",
   "version": "3.10.8"
  }
 },
 "nbformat": 4,
 "nbformat_minor": 5
}
